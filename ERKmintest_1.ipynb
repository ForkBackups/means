{
 "metadata": {
  "name": ""
 },
 "nbformat": 3,
 "nbformat_minor": 0,
 "worksheets": [
  {
   "cells": [
    {
     "cell_type": "code",
     "collapsed": false,
     "input": [
      "%pylab inline"
     ],
     "language": "python",
     "metadata": {},
     "outputs": [
      {
       "output_type": "stream",
       "stream": "stdout",
       "text": [
        "Populating the interactive namespace from numpy and matplotlib\n"
       ]
      }
     ],
     "prompt_number": 9
    },
    {
     "cell_type": "code",
     "collapsed": false,
     "input": [
      "import sympy\n",
      "import numpy as np\n",
      "import means"
     ],
     "language": "python",
     "metadata": {},
     "outputs": [],
     "prompt_number": 10
    },
    {
     "cell_type": "code",
     "collapsed": false,
     "input": [
      "speciesstr=[]\n",
      "for i in range(7):\n",
      "    speciesstr.append('y_'+str(i))\n",
      "species=sympy.symbols(speciesstr)\n",
      "print species"
     ],
     "language": "python",
     "metadata": {},
     "outputs": [
      {
       "output_type": "stream",
       "stream": "stdout",
       "text": [
        "[y_0, y_1, y_2, y_3, y_4, y_5, y_6]\n"
       ]
      }
     ],
     "prompt_number": 11
    },
    {
     "cell_type": "code",
     "collapsed": false,
     "input": [
      "constantsstr=[]\n",
      "for i in range(8):\n",
      "    constantsstr.append('c_'+str(i+1))\n",
      "constants=sympy.symbols(constantsstr)\n",
      "print constants"
     ],
     "language": "python",
     "metadata": {},
     "outputs": [
      {
       "output_type": "stream",
       "stream": "stdout",
       "text": [
        "[c_1, c_2, c_3, c_4, c_5, c_6, c_7, c_8]\n"
       ]
      }
     ],
     "prompt_number": 12
    },
    {
     "cell_type": "code",
     "collapsed": false,
     "input": [
      "propensities=['c_1*y_1*y_0',\n",
      "              'c_2*y_2',\n",
      "              'c_3*y_2',\n",
      "              'c_4*y_4*y_0',\n",
      "              'c_5*y_5',\n",
      "              'c_6*y_5',\n",
      "              'c_7*y_3',\n",
      "              'c_8*y_6']\n",
      "propensities"
     ],
     "language": "python",
     "metadata": {},
     "outputs": [
      {
       "metadata": {},
       "output_type": "pyout",
       "prompt_number": 13,
       "text": [
        "['c_1*y_1*y_0',\n",
        " 'c_2*y_2',\n",
        " 'c_3*y_2',\n",
        " 'c_4*y_4*y_0',\n",
        " 'c_5*y_5',\n",
        " 'c_6*y_5',\n",
        " 'c_7*y_3',\n",
        " 'c_8*y_6']"
       ]
      }
     ],
     "prompt_number": 13
    },
    {
     "cell_type": "code",
     "collapsed": false,
     "input": [
      "S=np.zeros([7,8])\n",
      "\n",
      "speciesreactions=[]\n",
      "speciesreactions.append([-1,2,3,-4,5,6,])\n",
      "speciesreactions.append([-1,2,7])\n",
      "speciesreactions.append([1,-2,-3])\n",
      "speciesreactions.append([3,-7])\n",
      "speciesreactions.append([-4,5,8])\n",
      "speciesreactions.append([4,-5,-6])\n",
      "speciesreactions.append([6,-8])\n",
      "for i in range(shape(speciesreactions)[0]):\n",
      "    for j in speciesreactions[i]:\n",
      "        S[i,abs(j)-1]=np.sign(j)\n",
      "print S"
     ],
     "language": "python",
     "metadata": {},
     "outputs": [
      {
       "output_type": "stream",
       "stream": "stdout",
       "text": [
        "[[-1.  1.  1. -1.  1.  1.  0.  0.]\n",
        " [-1.  1.  0.  0.  0.  0.  1.  0.]\n",
        " [ 1. -1. -1.  0.  0.  0.  0.  0.]\n",
        " [ 0.  0.  1.  0.  0.  0. -1.  0.]\n",
        " [ 0.  0.  0. -1.  1.  0.  0.  1.]\n",
        " [ 0.  0.  0.  1. -1. -1.  0.  0.]\n",
        " [ 0.  0.  0.  0.  0.  1.  0. -1.]]\n"
       ]
      }
     ],
     "prompt_number": 14
    },
    {
     "cell_type": "code",
     "collapsed": false,
     "input": [
      "minmodel = means.Model(species,constants,propensities,S)"
     ],
     "language": "python",
     "metadata": {},
     "outputs": [],
     "prompt_number": 15
    },
    {
     "cell_type": "code",
     "collapsed": false,
     "input": [
      "minmodel"
     ],
     "language": "python",
     "metadata": {},
     "outputs": [
      {
       "latex": [
        "\\begin{align*}\n",
        "\\text{Species} &= \\begin{bmatrix}y_{0}, & y_{1}, & y_{2}, & y_{3}, & y_{4}, & y_{5}, & y_{6}\\end{bmatrix} \\\\\n",
        "\\text{Parameters} &= \\begin{bmatrix}c_{1}, & c_{2}, & c_{3}, & c_{4}, & c_{5}, & c_{6}, & c_{7}, & c_{8}\\end{bmatrix} \\\\\n",
        "\\text{Stoichiometry matrix} &= \\left[\\begin{matrix}-1.0 & 1.0 & 1.0 & -1.0 & 1.0 & 1.0 & 0.0 & 0.0\\\\-1.0 & 1.0 & 0.0 & 0.0 & 0.0 & 0.0 & 1.0 & 0.0\\\\1.0 & -1.0 & -1.0 & 0.0 & 0.0 & 0.0 & 0.0 & 0.0\\\\0.0 & 0.0 & 1.0 & 0.0 & 0.0 & 0.0 & -1.0 & 0.0\\\\0.0 & 0.0 & 0.0 & -1.0 & 1.0 & 0.0 & 0.0 & 1.0\\\\0.0 & 0.0 & 0.0 & 1.0 & -1.0 & -1.0 & 0.0 & 0.0\\\\0.0 & 0.0 & 0.0 & 0.0 & 0.0 & 1.0 & 0.0 & -1.0\\end{matrix}\\right] \\\\\n",
        "\\text{Propensities} &= \\left[\\begin{matrix}c_{1} y_{0} y_{1}\\\\c_{2} y_{2}\\\\c_{3} y_{2}\\\\c_{4} y_{0} y_{4}\\\\c_{5} y_{5}\\\\c_{6} y_{5}\\\\c_{7} y_{3}\\\\c_{8} y_{6}\\end{matrix}\\right] \\\\\n",
        "\\end{align*}"
       ],
       "metadata": {},
       "output_type": "pyout",
       "prompt_number": 486,
       "text": [
        "<class 'means.core.model.Model'>\n",
        "Species: [y_0, y_1, y_2, y_3, y_4, y_5, y_6]\n",
        "Parameters: [c_1, c_2, c_3, c_4, c_5, c_6, c_7, c_8]\n",
        "\n",
        "Stoichiometry matrix:\n",
        "Matrix([\n",
        "[-1.0,  1.0,  1.0, -1.0,  1.0,  1.0,  0.0,  0.0],\n",
        "[-1.0,  1.0,  0.0,  0.0,  0.0,  0.0,  1.0,  0.0],\n",
        "[ 1.0, -1.0, -1.0,  0.0,  0.0,  0.0,  0.0,  0.0],\n",
        "[ 0.0,  0.0,  1.0,  0.0,  0.0,  0.0, -1.0,  0.0],\n",
        "[ 0.0,  0.0,  0.0, -1.0,  1.0,  0.0,  0.0,  1.0],\n",
        "[ 0.0,  0.0,  0.0,  1.0, -1.0, -1.0,  0.0,  0.0],\n",
        "[ 0.0,  0.0,  0.0,  0.0,  0.0,  1.0,  0.0, -1.0]])\n",
        "\n",
        "Propensities:\n",
        "Matrix([\n",
        "[c_1*y_0*y_1],\n",
        "[    c_2*y_2],\n",
        "[    c_3*y_2],\n",
        "[c_4*y_0*y_4],\n",
        "[    c_5*y_5],\n",
        "[    c_6*y_5],\n",
        "[    c_7*y_3],\n",
        "[    c_8*y_6]])"
       ]
      }
     ],
     "prompt_number": 486
    },
    {
     "cell_type": "code",
     "collapsed": false,
     "input": [
      "ERKmin_1mom=means.mea_approximation(minmodel,1)"
     ],
     "language": "python",
     "metadata": {},
     "outputs": [],
     "prompt_number": 10
    },
    {
     "cell_type": "code",
     "collapsed": false,
     "input": [
      "ERKmin_2mom_l=means.mea_approximation(minmodel,2,closure='log-normal')"
     ],
     "language": "python",
     "metadata": {},
     "outputs": [],
     "prompt_number": 16
    },
    {
     "cell_type": "code",
     "collapsed": false,
     "input": [
      "ERKmn_2mom_l"
     ],
     "language": "python",
     "metadata": {},
     "outputs": []
    },
    {
     "cell_type": "code",
     "collapsed": false,
     "input": [
      "ERKmin_2mom_n=means.mea_approximation(minmodel,3,closure='normal',multivariate=True)"
     ],
     "language": "python",
     "metadata": {},
     "outputs": [],
     "prompt_number": 429
    },
    {
     "cell_type": "code",
     "collapsed": false,
     "input": [
      "ERKmin_2mom=means.mea_approximation(minmodel,2)"
     ],
     "language": "python",
     "metadata": {},
     "outputs": [],
     "prompt_number": 44
    },
    {
     "cell_type": "code",
     "collapsed": false,
     "input": [
      "ERKmin_3mom_l=means.mea_approximation(minmodel,3,closure='log-normal',multivariate=True)"
     ],
     "language": "python",
     "metadata": {},
     "outputs": [],
     "prompt_number": 53
    },
    {
     "cell_type": "code",
     "collapsed": false,
     "input": [
      "ERKmin_3mom_n=means.mea_approximation(minmodel,3,closure='normal',multivariate=True)"
     ],
     "language": "python",
     "metadata": {},
     "outputs": [],
     "prompt_number": 96
    },
    {
     "cell_type": "code",
     "collapsed": false,
     "input": [
      "ERKmin_3mom_g=means.mea_approximation(minmodel,3,closure='gamma',type=1)"
     ],
     "language": "python",
     "metadata": {},
     "outputs": [],
     "prompt_number": 187
    },
    {
     "cell_type": "code",
     "collapsed": false,
     "input": [
      "ERKmin_3mom=means.mea_approximation(minmodel,3)"
     ],
     "language": "python",
     "metadata": {},
     "outputs": [],
     "prompt_number": 54
    },
    {
     "cell_type": "code",
     "collapsed": false,
     "input": [
      "means.io.to_file(ERKmin_3mom, 'ERKmin_3moments.txt')"
     ],
     "language": "python",
     "metadata": {},
     "outputs": [],
     "prompt_number": 859
    },
    {
     "cell_type": "code",
     "collapsed": false,
     "input": [
      "ERKmin_3mom=means.io.from_file('ERKmin_3moments.txt')"
     ],
     "language": "python",
     "metadata": {},
     "outputs": [],
     "prompt_number": 8
    },
    {
     "cell_type": "code",
     "collapsed": false,
     "input": [
      "ERKmin_3mom"
     ],
     "language": "python",
     "metadata": {},
     "outputs": [],
     "prompt_number": "*"
    },
    {
     "cell_type": "code",
     "collapsed": false,
     "input": [
      "simulator1m=means.Simulation(ERKmin_1mom)"
     ],
     "language": "python",
     "metadata": {},
     "outputs": [],
     "prompt_number": 11
    },
    {
     "cell_type": "code",
     "collapsed": false,
     "input": [
      "simulator2ml=means.Simulation(ERKmin_2mom_l)"
     ],
     "language": "python",
     "metadata": {},
     "outputs": [],
     "prompt_number": 42
    },
    {
     "cell_type": "code",
     "collapsed": false,
     "input": [
      "simulator2m=means.Simulation(ERKmin_2mom)"
     ],
     "language": "python",
     "metadata": {},
     "outputs": [],
     "prompt_number": 45
    },
    {
     "cell_type": "code",
     "collapsed": false,
     "input": [
      "simulator2mn=means.Simulation(ERKmin_2mom_n)"
     ],
     "language": "python",
     "metadata": {},
     "outputs": [],
     "prompt_number": 430
    },
    {
     "cell_type": "code",
     "collapsed": false,
     "input": [
      "simulator3m=means.Simulation(ERKmin_3mom)"
     ],
     "language": "python",
     "metadata": {},
     "outputs": [],
     "prompt_number": 10
    },
    {
     "cell_type": "code",
     "collapsed": false,
     "input": [
      "simulator3ml=means.Simulation(ERKmin_3mom_l, solver='ode15s')"
     ],
     "language": "python",
     "metadata": {},
     "outputs": [],
     "prompt_number": 641
    },
    {
     "cell_type": "code",
     "collapsed": false,
     "input": [
      "simulator3mn=means.Simulation(ERKmin_3mom_n)"
     ],
     "language": "python",
     "metadata": {},
     "outputs": [],
     "prompt_number": 97
    },
    {
     "cell_type": "code",
     "collapsed": false,
     "input": [
      "simulator3mg=means.Simulation(ERKmin_3mom_g)"
     ],
     "language": "python",
     "metadata": {},
     "outputs": [],
     "prompt_number": 190
    },
    {
     "cell_type": "code",
     "collapsed": false,
     "input": [
      "Omega=9.24*10e5\n",
      "a=88\n",
      "b=0.1\n",
      "constant_values=array([a/Omega,a*b,30,a/Omega,a*b,20,1.4,1.4])\n",
      "constant_values=constant_values*1e-2\n",
      "print constant_values"
     ],
     "language": "python",
     "metadata": {},
     "outputs": [
      {
       "output_type": "stream",
       "stream": "stdout",
       "text": [
        "[  9.52380952e-08   8.80000000e-02   3.00000000e-01   9.52380952e-08\n",
        "   8.80000000e-02   2.00000000e-01   1.40000000e-02   1.40000000e-02]\n"
       ]
      }
     ],
     "prompt_number": 11
    },
    {
     "cell_type": "code",
     "collapsed": false,
     "input": [
      "initial_conditions=np.zeros(7)\n",
      "initial_conditions[0]=1*Omega\n",
      "initial_conditions[1]=0.2*Omega\n",
      "initial_conditions[4]=0.8*Omega\n",
      "#initial_conditions[2]=1e4\n",
      "#initial_conditions[5]=3e4\n",
      "initial_conditions=initial_conditions*1e-3\n",
      "initial_conditions"
     ],
     "language": "python",
     "metadata": {},
     "outputs": [
      {
       "metadata": {},
       "output_type": "pyout",
       "prompt_number": 12,
       "text": [
        "array([ 9240.,  1848.,     0.,     0.,  7392.,     0.,     0.])"
       ]
      }
     ],
     "prompt_number": 12
    },
    {
     "cell_type": "code",
     "collapsed": false,
     "input": [
      "exp_hist = array([10,24, 8, 5, 4, 0, 1, 1, 1, 0, 1])\n",
      "edges = array([0,158.8977446, 2104.65605414, 4050.41436368, 5996.17267322, 7941.93098276, 9887.6892923, 11833.44760184, 13779.20591138, 15724.96422092, 17670.72253046, 19616.48084])\n",
      "exp_num=sum(exp_hist)\n",
      "t=type(exp_hist[1])\n",
      "exp_freq=exp_hist/(55+0.0)\n",
      "exp_hist, exp_freq,t"
     ],
     "language": "python",
     "metadata": {},
     "outputs": [
      {
       "metadata": {},
       "output_type": "pyout",
       "prompt_number": 64,
       "text": [
        "(array([10, 24,  8,  5,  4,  0,  1,  1,  1,  0,  1]),\n",
        " array([ 0.18181818,  0.43636364,  0.14545455,  0.09090909,  0.07272727,\n",
        "        0.        ,  0.01818182,  0.01818182,  0.01818182,  0.        ,\n",
        "        0.01818182]),\n",
        " numpy.int64)"
       ]
      }
     ],
     "prompt_number": 64
    },
    {
     "cell_type": "code",
     "collapsed": false,
     "input": [
      "time = np.arange(0, 300, 0.1)"
     ],
     "language": "python",
     "metadata": {},
     "outputs": [],
     "prompt_number": 13
    },
    {
     "cell_type": "code",
     "collapsed": false,
     "input": [
      "Trajectory1m = simulator1m.simulate_system(constant_values, initial_conditions, time)"
     ],
     "language": "python",
     "metadata": {},
     "outputs": [],
     "prompt_number": 822
    },
    {
     "cell_type": "code",
     "collapsed": false,
     "input": [
      "plt.figure()\n",
      "#for traj in Trajectory1m:\n",
      "for i in [3,6]:\n",
      "   # if traj.description.order == 1:\n",
      "        Trajectory1m[i].plot()\n",
      "    #    (traj/Omega).plot()\n",
      "plt.legend(loc='lower right', bbox_to_anchor = (1, 0))"
     ],
     "language": "python",
     "metadata": {},
     "outputs": [
      {
       "metadata": {},
       "output_type": "pyout",
       "prompt_number": 823,
       "text": [
        "<matplotlib.legend.Legend at 0x16d67ead0>"
       ]
      },
      {
       "metadata": {},
       "output_type": "display_data",
       "png": "[encoded data removed]",
       "text": [
        "<matplotlib.figure.Figure at 0x154464fd0>"
       ]
      }
     ],
     "prompt_number": 823
    },
    {
     "cell_type": "code",
     "collapsed": false,
     "input": [
      "#Trajectory2ml = simulator2ml.simulate_system(constant_values, initial_conditions, time)"
     ],
     "language": "python",
     "metadata": {},
     "outputs": [],
     "prompt_number": 760
    },
    {
     "cell_type": "code",
     "collapsed": false,
     "input": [
      "Trajectory2m = simulator2m.simulate_system(constant_values, initial_conditions, time)"
     ],
     "language": "python",
     "metadata": {},
     "outputs": [],
     "prompt_number": 824
    },
    {
     "cell_type": "code",
     "collapsed": false,
     "input": [
      "means.io.to_file(Trajectory2m, 'sim_ERKmin_2mom.txt')"
     ],
     "language": "python",
     "metadata": {},
     "outputs": [],
     "prompt_number": 825
    },
    {
     "cell_type": "code",
     "collapsed": false,
     "input": [
      "plt.figure()\n",
      "#for traj in Trajectory2m:\n",
      "for i in [3,6]:\n",
      "    #if traj.description.order == 1:\n",
      "        Trajectory2m[i].plot()\n",
      "        #traj.plot()\n",
      "plt.legend(loc='lower right', bbox_to_anchor = (1, 0))"
     ],
     "language": "python",
     "metadata": {},
     "outputs": [
      {
       "metadata": {},
       "output_type": "pyout",
       "prompt_number": 826,
       "text": [
        "<matplotlib.legend.Legend at 0x167779a90>"
       ]
      },
      {
       "metadata": {},
       "output_type": "display_data",
       "png": "[encoded data removed]",
       "text": [
        "<matplotlib.figure.Figure at 0x14ffe6f10>"
       ]
      }
     ],
     "prompt_number": 826
    },
    {
     "cell_type": "code",
     "collapsed": false,
     "input": [
      "Trajectory2mn = simulator2mn.simulate_system(constant_values, initial_conditions, time)"
     ],
     "language": "python",
     "metadata": {},
     "outputs": [],
     "prompt_number": 726
    },
    {
     "cell_type": "code",
     "collapsed": true,
     "input": [
      "plt.figure()\n",
      "#for traj in Trajectory2m:\n",
      "for i in [3,6]:\n",
      "    #if traj.description.order == 1:\n",
      "        Trajectory2mn[i].plot()\n",
      "        #traj.plot()\n",
      "plt.legend(loc='lower right', bbox_to_anchor = (1, 0))"
     ],
     "language": "python",
     "metadata": {},
     "outputs": [
      {
       "metadata": {},
       "output_type": "pyout",
       "prompt_number": 432,
       "text": [
        "<matplotlib.legend.Legend at 0x13677a150>"
       ]
      },
      {
       "metadata": {},
       "output_type": "display_data",
       "png": "[encoded data removed]",
       "text": [
        "<matplotlib.figure.Figure at 0x1345c5e90>"
       ]
      }
     ],
     "prompt_number": 432
    },
    {
     "cell_type": "code",
     "collapsed": false,
     "input": [
      "Trajectory3m = simulator3m.simulate_system(constant_values, initial_conditions, time)"
     ],
     "language": "python",
     "metadata": {},
     "outputs": [],
     "prompt_number": 14
    },
    {
     "cell_type": "code",
     "collapsed": false,
     "input": [
      "means.io.to_file(Trajectory3m[54], 'sim_ERKmin_3mom.txt')"
     ],
     "language": "python",
     "metadata": {},
     "outputs": [],
     "prompt_number": 851
    },
    {
     "cell_type": "code",
     "collapsed": false,
     "input": [],
     "language": "python",
     "metadata": {},
     "outputs": [],
     "prompt_number": 858
    },
    {
     "cell_type": "code",
     "collapsed": false,
     "input": [
      "plt.figure()\n",
      "#for traj in Trajectory3m:\n",
      "for i in [118]:\n",
      "    #if traj.description.order == 1:\n",
      "        Trajectory3m[i].plot()\n",
      "        #traj.plot()\n",
      "plt.legend(loc='lower right', bbox_to_anchor = (1, 0))"
     ],
     "language": "python",
     "metadata": {},
     "outputs": [
      {
       "metadata": {},
       "output_type": "pyout",
       "prompt_number": 22,
       "text": [
        "<matplotlib.legend.Legend at 0x111adf190>"
       ]
      },
      {
       "metadata": {},
       "output_type": "display_data",
       "png": "[encoded data removed]",
       "text": [
        "<matplotlib.figure.Figure at 0x1118a7b10>"
       ]
      }
     ],
     "prompt_number": 22
    },
    {
     "cell_type": "code",
     "collapsed": false,
     "input": [
      "#Trajectory3ml = simulator3ml.simulate_system(constant_values, initial_conditions, time)"
     ],
     "language": "python",
     "metadata": {},
     "outputs": [],
     "prompt_number": 761
    },
    {
     "cell_type": "code",
     "collapsed": false,
     "input": [
      "Trajectory3mn = simulator3mn.simulate_system(constant_values, initial_conditions, time)"
     ],
     "language": "python",
     "metadata": {},
     "outputs": [],
     "prompt_number": 182
    },
    {
     "cell_type": "code",
     "collapsed": false,
     "input": [
      "plt.figure()\n",
      "#for traj in Trajectory2m:\n",
      "for i in [3]:\n",
      "    #if traj.description.order == 1:\n",
      "        Trajectory3mn[i].plot()\n",
      "        #traj.plot()\n",
      "plt.legend(loc='lower right', bbox_to_anchor = (1, 0))"
     ],
     "language": "python",
     "metadata": {},
     "outputs": [
      {
       "metadata": {},
       "output_type": "pyout",
       "prompt_number": 523,
       "text": [
        "<matplotlib.legend.Legend at 0x13db41050>"
       ]
      },
      {
       "metadata": {},
       "output_type": "display_data",
       "png": "[encoded data removed]",
       "text": [
        "<matplotlib.figure.Figure at 0x13c429350>"
       ]
      }
     ],
     "prompt_number": 523
    },
    {
     "cell_type": "code",
     "collapsed": false,
     "input": [
      "#Trajectory3mg = simulator3mg.simulate_system(constant_values, initial_conditions, time)"
     ],
     "language": "python",
     "metadata": {},
     "outputs": [],
     "prompt_number": 762
    },
    {
     "cell_type": "code",
     "collapsed": false,
     "input": [
      "stochastic_problem = means.StochasticProblem(minmodel)"
     ],
     "language": "python",
     "metadata": {},
     "outputs": [],
     "prompt_number": 820
    },
    {
     "cell_type": "code",
     "collapsed": false,
     "input": [
      "N_SSA = 50\n",
      "ssa_simulation = means.SSASimulation(stochastic_problem, N_SSA, random_seed=42)"
     ],
     "language": "python",
     "metadata": {},
     "outputs": [],
     "prompt_number": 827
    },
    {
     "cell_type": "code",
     "collapsed": false,
     "input": [
      "print constant_values\n",
      "print initial_conditions"
     ],
     "language": "python",
     "metadata": {},
     "outputs": [
      {
       "output_type": "stream",
       "stream": "stdout",
       "text": [
        "[  9.52380952e-08   8.80000000e-02   3.00000000e-01   9.52380952e-08\n",
        "   8.80000000e-02   2.00000000e-01   1.40000000e-02   1.40000000e-02]\n",
        "[ 9240.  1848.     0.     0.  7392.     0.     0.]\n"
       ]
      }
     ],
     "prompt_number": 828
    },
    {
     "cell_type": "code",
     "collapsed": false,
     "input": [
      "%%time\n",
      "ssa_trajectory = ssa_simulation.simulate_system(constant_values, initial_conditions, time)"
     ],
     "language": "python",
     "metadata": {},
     "outputs": [
      {
       "output_type": "stream",
       "stream": "stdout",
       "text": [
        "CPU times: user 14.1 s, sys: 104 ms, total: 14.2 s\n",
        "Wall time: 17.5 s\n"
       ]
      }
     ],
     "prompt_number": 829
    },
    {
     "cell_type": "code",
     "collapsed": false,
     "input": [
      "plt.figure()\n",
      "#for traj in Trajectory2m:\n",
      "for i in [3,6]:\n",
      "    #if traj.description.order == 1:\n",
      "        (ssa_trajectory[i]).plot()\n",
      "        #traj.plot()\n",
      "plt.legend(loc='lower right', bbox_to_anchor = (1, 0))"
     ],
     "language": "python",
     "metadata": {},
     "outputs": [
      {
       "metadata": {},
       "output_type": "pyout",
       "prompt_number": 832,
       "text": [
        "<matplotlib.legend.Legend at 0x15a370550>"
       ]
      },
      {
       "metadata": {},
       "output_type": "display_data",
       "png": "[encoded data removed]",
       "text": [
        "<matplotlib.figure.Figure at 0x154738510>"
       ]
      }
     ],
     "prompt_number": 832
    },
    {
     "cell_type": "code",
     "collapsed": false,
     "input": [],
     "language": "python",
     "metadata": {},
     "outputs": []
    }
   ],
   "metadata": {}
  }
 ]
}
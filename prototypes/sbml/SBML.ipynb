{
 "metadata": {
  "name": ""
 },
 "nbformat": 3,
 "nbformat_minor": 0,
 "worksheets": [
  {
   "cells": [
    {
     "cell_type": "code",
     "collapsed": false,
     "input": [
      "import means"
     ],
     "language": "python",
     "metadata": {},
     "outputs": [],
     "prompt_number": 2
    },
    {
     "cell_type": "code",
     "collapsed": false,
     "input": [
      "model = means.io.read_sbml('autoreg-3-1.xml')"
     ],
     "language": "python",
     "metadata": {},
     "outputs": [],
     "prompt_number": 4
    },
    {
     "cell_type": "code",
     "collapsed": false,
     "input": [
      "model"
     ],
     "language": "python",
     "metadata": {},
     "outputs": [
      {
       "latex": [
        "\\begin{align*}\n",
        "\\text{Species} &= \\begin{bmatrix}Gene, & P2Gene, & Rna, & P, & P_{2}\\end{bmatrix} \\\\\n",
        "\\text{Constants} &= \\begin{bmatrix}k_{1}, & k1r, & k_{2}, & k_{3}, & k_{4}, & k4r, & k_{5}, & k_{6}\\end{bmatrix} \\\\\n",
        "\\text{Stoichiometry matrix} &= \\left[\\begin{matrix}-1 & 1 & 0 & 0 & 0 & 0 & 0 & 0\\\\1 & -1 & 0 & 0 & 0 & 0 & 0 & 0\\\\0 & 0 & 1 & 0 & 0 & 0 & -1 & 0\\\\0 & 0 & 0 & 1 & -2 & 2 & 0 & -1\\\\-1 & 1 & 0 & 0 & 1 & -1 & 0 & 0\\end{matrix}\\right] \\\\\n",
        "\\text{Propensities} &= \\left[\\begin{matrix}Gene P_{2} k_{1}\\\\P2Gene k1r\\\\Gene k_{2}\\\\Rna k_{3}\\\\0.5 P k_{4} \\left(P - 1\\right)\\\\P_{2} k4r\\\\Rna k_{5}\\\\P k_{6}\\end{matrix}\\right] \\\\\n",
        "\\end{align*}"
       ],
       "metadata": {},
       "output_type": "pyout",
       "prompt_number": 5,
       "text": [
        "<class 'means.model.model.Model'>\n",
        "Species: [Gene, P2Gene, Rna, P, P2]\n",
        "Constants: [k1, k1r, k2, k3, k4, k4r, k5, k6]\n",
        "\n",
        "Stoichiometry matrix:\n",
        "Matrix([\n",
        "[-1,  1, 0, 0,  0,  0,  0,  0],\n",
        "[ 1, -1, 0, 0,  0,  0,  0,  0],\n",
        "[ 0,  0, 1, 0,  0,  0, -1,  0],\n",
        "[ 0,  0, 0, 1, -2,  2,  0, -1],\n",
        "[-1,  1, 0, 0,  1, -1,  0,  0]])\n",
        "\n",
        "Propensities:\n",
        "Matrix([\n",
        "[      Gene*P2*k1],\n",
        "[      P2Gene*k1r],\n",
        "[         Gene*k2],\n",
        "[          Rna*k3],\n",
        "[0.5*P*k4*(P - 1)],\n",
        "[          P2*k4r],\n",
        "[          Rna*k5],\n",
        "[            P*k6]])"
       ]
      }
     ],
     "prompt_number": 5
    },
    {
     "cell_type": "code",
     "collapsed": false,
     "input": [
      "model = means.io.read_sbml('BIOMD0000000446.xml')"
     ],
     "language": "python",
     "metadata": {},
     "outputs": [
      {
       "ename": "Exception",
       "evalue": "Sorry, we currently do not support SBML models with multiple compartments",
       "output_type": "pyerr",
       "traceback": [
        "\u001b[0;31m---------------------------------------------------------------------------\u001b[0m\n\u001b[0;31mException\u001b[0m                                 Traceback (most recent call last)",
        "\u001b[0;32m<ipython-input-6-e5a868fc99fc>\u001b[0m in \u001b[0;36m<module>\u001b[0;34m()\u001b[0m\n\u001b[0;32m----> 1\u001b[0;31m \u001b[0mmodel\u001b[0m \u001b[0;34m=\u001b[0m \u001b[0mmeans\u001b[0m\u001b[0;34m.\u001b[0m\u001b[0mio\u001b[0m\u001b[0;34m.\u001b[0m\u001b[0mread_sbml\u001b[0m\u001b[0;34m(\u001b[0m\u001b[0;34m'BIOMD0000000446.xml'\u001b[0m\u001b[0;34m)\u001b[0m\u001b[0;34m\u001b[0m\u001b[0m\n\u001b[0m",
        "\u001b[0;32m/Users/saulius/dev/coursework/MScProj1/src/means/io/sbml.py\u001b[0m in \u001b[0;36mread_sbml\u001b[0;34m(filename)\u001b[0m\n\u001b[1;32m     32\u001b[0m     \u001b[0msbml_model\u001b[0m \u001b[0;34m=\u001b[0m \u001b[0mdocument\u001b[0m\u001b[0;34m.\u001b[0m\u001b[0mgetModel\u001b[0m\u001b[0;34m(\u001b[0m\u001b[0;34m)\u001b[0m\u001b[0;34m\u001b[0m\u001b[0m\n\u001b[1;32m     33\u001b[0m     \u001b[0;32mif\u001b[0m \u001b[0msbml_model\u001b[0m\u001b[0;34m.\u001b[0m\u001b[0mgetNumCompartments\u001b[0m\u001b[0;34m(\u001b[0m\u001b[0;34m)\u001b[0m \u001b[0;34m>\u001b[0m \u001b[0;36m1\u001b[0m\u001b[0;34m:\u001b[0m\u001b[0;34m\u001b[0m\u001b[0m\n\u001b[0;32m---> 34\u001b[0;31m         \u001b[0;32mraise\u001b[0m \u001b[0mException\u001b[0m\u001b[0;34m(\u001b[0m\u001b[0;34m\"Sorry, we currently do not support SBML models with multiple compartments\"\u001b[0m\u001b[0;34m)\u001b[0m\u001b[0;34m\u001b[0m\u001b[0m\n\u001b[0m\u001b[1;32m     35\u001b[0m \u001b[0;34m\u001b[0m\u001b[0m\n\u001b[1;32m     36\u001b[0m     \u001b[0mspecies\u001b[0m \u001b[0;34m=\u001b[0m \u001b[0msympy\u001b[0m\u001b[0;34m.\u001b[0m\u001b[0msymbols\u001b[0m\u001b[0;34m(\u001b[0m\u001b[0;34m[\u001b[0m\u001b[0ms\u001b[0m\u001b[0;34m.\u001b[0m\u001b[0mgetId\u001b[0m\u001b[0;34m(\u001b[0m\u001b[0;34m)\u001b[0m \u001b[0;32mfor\u001b[0m \u001b[0ms\u001b[0m \u001b[0;32min\u001b[0m \u001b[0msbml_model\u001b[0m\u001b[0;34m.\u001b[0m\u001b[0mgetListOfSpecies\u001b[0m\u001b[0;34m(\u001b[0m\u001b[0;34m)\u001b[0m\u001b[0;34m]\u001b[0m\u001b[0;34m)\u001b[0m\u001b[0;34m\u001b[0m\u001b[0m\n",
        "\u001b[0;31mException\u001b[0m: Sorry, we currently do not support SBML models with multiple compartments"
       ]
      }
     ],
     "prompt_number": 6
    },
    {
     "cell_type": "code",
     "collapsed": false,
     "input": [],
     "language": "python",
     "metadata": {},
     "outputs": []
    }
   ],
   "metadata": {}
  }
 ]
}
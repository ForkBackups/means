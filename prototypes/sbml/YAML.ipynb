{
 "metadata": {
  "name": ""
 },
 "nbformat": 3,
 "nbformat_minor": 0,
 "worksheets": [
  {
   "cells": [
    {
     "cell_type": "code",
     "collapsed": false,
     "input": [
      "import yaml"
     ],
     "language": "python",
     "metadata": {},
     "outputs": [],
     "prompt_number": 1
    },
    {
     "cell_type": "code",
     "collapsed": false,
     "input": [
      "import means\n",
      "import means.examples"
     ],
     "language": "python",
     "metadata": {},
     "outputs": [],
     "prompt_number": 2
    },
    {
     "cell_type": "code",
     "collapsed": false,
     "input": [
      "import means.io.serialise"
     ],
     "language": "python",
     "metadata": {},
     "outputs": [],
     "prompt_number": 3
    },
    {
     "cell_type": "code",
     "collapsed": false,
     "input": [
      "model = means.examples.MODEL_P53\n",
      "model"
     ],
     "language": "python",
     "metadata": {},
     "outputs": [
      {
       "latex": [
        "\\begin{align*}\n",
        "\\text{Species} &= \\begin{bmatrix}y_{0}, & y_{1}, & y_{2}\\end{bmatrix} \\\\\n",
        "\\text{Constants} &= \\begin{bmatrix}c_{0}, & c_{1}, & c_{2}, & c_{3}, & c_{4}, & c_{5}, & c_{6}\\end{bmatrix} \\\\\n",
        "\\text{Stoichiometry matrix} &= \\left[\\begin{matrix}1 & -1 & -1 & 0 & 0 & 0\\\\0 & 0 & 0 & 1 & -1 & 0\\\\0 & 0 & 0 & 0 & 1 & -1\\end{matrix}\\right] \\\\\n",
        "\\text{Propensities} &= \\left[\\begin{matrix}c_{0}\\\\c_{1} y_{0}\\\\\\frac{c_{2} y_{0} y_{2}}{c_{6} + y_{0}}\\\\c_{3} y_{0}\\\\c_{4} y_{1}\\\\c_{5} y_{2}\\end{matrix}\\right] \\\\\n",
        "\\end{align*}"
       ],
       "metadata": {},
       "output_type": "pyout",
       "prompt_number": 4,
       "text": [
        "<class 'means.model.model.Model'>\n",
        "Species: [y_0, y_1, y_2]\n",
        "Constants: [c_0, c_1, c_2, c_3, c_4, c_5, c_6]\n",
        "\n",
        "Stoichiometry matrix:\n",
        "Matrix([\n",
        "[1, -1, -1, 0,  0,  0],\n",
        "[0,  0,  0, 1, -1,  0],\n",
        "[0,  0,  0, 0,  1, -1]])\n",
        "\n",
        "Propensities:\n",
        "Matrix([\n",
        "[                    c_0],\n",
        "[                c_1*y_0],\n",
        "[c_2*y_0*y_2/(c_6 + y_0)],\n",
        "[                c_3*y_0],\n",
        "[                c_4*y_1],\n",
        "[                c_5*y_2]])"
       ]
      }
     ],
     "prompt_number": 4
    },
    {
     "cell_type": "code",
     "collapsed": false,
     "input": [
      "print means.io.serialise.dump(model)"
     ],
     "language": "python",
     "metadata": {},
     "outputs": [
      {
       "output_type": "stream",
       "stream": "stdout",
       "text": [
        "!model\n",
        "species: [y_0, y_1, y_2]\n",
        "constants: [c_0, c_1, c_2, c_3, c_4, c_5, c_6]\n",
        "stoichiometry_matrix:\n",
        "- [1, -1, -1, 0, 0, 0]\n",
        "- [0, 0, 0, 1, -1, 0]\n",
        "- [0, 0, 0, 0, 1, -1]\n",
        "propensities: [c_0, c_1*y_0, c_2*y_0*y_2/(c_6 + y_0), c_3*y_0, c_4*y_1, c_5*y_2]\n",
        "\n"
       ]
      }
     ],
     "prompt_number": 5
    },
    {
     "cell_type": "code",
     "collapsed": false,
     "input": [
      "problem = means.approximation.mea.MomentExpansionApproximation(model, 2).run()"
     ],
     "language": "python",
     "metadata": {},
     "outputs": [],
     "prompt_number": 6
    },
    {
     "cell_type": "code",
     "collapsed": false,
     "input": [
      "print means.io.serialise.dump(problem)"
     ],
     "language": "python",
     "metadata": {},
     "outputs": [
      {
       "output_type": "stream",
       "stream": "stdout",
       "text": [
        "!problem\n",
        "method: MEA\n",
        "constants: [c_0, c_1, c_2, c_3, c_4, c_5, c_6]\n",
        "ode_lhs_terms:\n",
        "- !moment\n",
        "  symbol: y_0\n",
        "  n_vector: [1, 0, 0]\n",
        "- !moment\n",
        "  symbol: y_1\n",
        "  n_vector: [0, 1, 0]\n",
        "- !moment\n",
        "  symbol: y_2\n",
        "  n_vector: [0, 0, 1]\n",
        "- !moment\n",
        "  symbol: yx1\n",
        "  n_vector: [0, 0, 2]\n",
        "- !moment\n",
        "  symbol: yx2\n",
        "  n_vector: [0, 1, 1]\n",
        "- !moment\n",
        "  symbol: yx3\n",
        "  n_vector: [0, 2, 0]\n",
        "- !moment\n",
        "  symbol: yx4\n",
        "  n_vector: [1, 0, 1]\n",
        "- !moment\n",
        "  symbol: yx5\n",
        "  n_vector: [1, 1, 0]\n",
        "- !moment\n",
        "  symbol: yx6\n",
        "  n_vector: [2, 0, 0]\n",
        "right_hand_side: [c_0 - c_1*y_0 - c_2*y_0*y_2/(c_6 + y_0) + yx4*(c_2*y_0/(c_6 + y_0)**2\n",
        "    - c_2/(c_6 + y_0)) + yx6*(-c_2*y_0*y_2/(c_6 + y_0)**3 + c_2*y_2/(c_6 + y_0)**2),\n",
        "  c_3*y_0 - c_4*y_1, c_4*y_1 - c_5*y_2, 2*c_4*y_1*y_2 + c_4*y_1 + 2*c_4*yx2 - 2*c_5*y_2**2\n",
        "    + c_5*y_2 - 2*c_5*yx1 - 2*y_2*(c_4*y_1 - c_5*y_2), c_3*y_0*y_2 + c_3*yx4 + c_4*y_1**2\n",
        "    - c_4*y_1*y_2 - c_4*y_1 + c_4*yx3 - c_5*y_1*y_2 - y_1*(c_4*y_1 - c_5*y_2) - y_2*(c_3*y_0\n",
        "    - c_4*y_1) + yx2*(-c_4 - c_5), 2*c_3*y_0*y_1 + c_3*y_0 + 2*c_3*yx5 - 2*c_4*y_1**2\n",
        "    + c_4*y_1 - 2*c_4*yx3 - 2*y_1*(c_3*y_0 - c_4*y_1), c_0*y_2 - c_1*y_0*y_2 - c_2*y_0*y_2**2/(c_6\n",
        "    + y_0) - c_2*y_0*yx1/(c_6 + y_0) + c_4*y_0*y_1 + c_4*yx5 - c_5*y_0*y_2 - y_0*(c_4*y_1\n",
        "    - c_5*y_2) - y_2*(c_0 - c_1*y_0 - c_2*y_0*y_2/(c_6 + y_0)) + yx4*(-c_1 + 2*c_2*y_0*y_2/(c_6\n",
        "    + y_0)**2 - 2*c_2*y_2/(c_6 + y_0) - c_5 - y_2*(c_2*y_0/(c_6 + y_0)**2 - c_2/(c_6\n",
        "    + y_0))) + yx6*(-c_2*y_0*y_2**2/(c_6 + y_0)**3 + c_2*y_2**2/(c_6 + y_0)**2 - y_2*(-c_2*y_0*y_2/(c_6\n",
        "    + y_0)**3 + c_2*y_2/(c_6 + y_0)**2)), c_0*y_1 - c_1*y_0*y_1 - c_2*y_0*y_1*y_2/(c_6\n",
        "    + y_0) - c_2*y_0*yx2/(c_6 + y_0) + c_3*y_0**2 - c_4*y_0*y_1 - y_0*(c_3*y_0 - c_4*y_1)\n",
        "    - y_1*(c_0 - c_1*y_0 - c_2*y_0*y_2/(c_6 + y_0)) + yx4*(c_2*y_0*y_1/(c_6 + y_0)**2\n",
        "    - c_2*y_1/(c_6 + y_0) - y_1*(c_2*y_0/(c_6 + y_0)**2 - c_2/(c_6 + y_0))) + yx5*(-c_1\n",
        "    + c_2*y_0*y_2/(c_6 + y_0)**2 - c_2*y_2/(c_6 + y_0) - c_4) + yx6*(-c_2*y_0*y_1*y_2/(c_6\n",
        "    + y_0)**3 + c_2*y_1*y_2/(c_6 + y_0)**2 + c_3 - y_1*(-c_2*y_0*y_2/(c_6 + y_0)**3\n",
        "    + c_2*y_2/(c_6 + y_0)**2)), 2*c_0*y_0 + c_0 - 2*c_1*y_0**2 + c_1*y_0 - 2*c_2*y_0**2*y_2/(c_6\n",
        "    + y_0) + c_2*y_0*y_2/(c_6 + y_0) - 2*y_0*(c_0 - c_1*y_0 - c_2*y_0*y_2/(c_6 + y_0))\n",
        "    + yx4*(2*c_2*y_0**2/(c_6 + y_0)**2 - 4*c_2*y_0/(c_6 + y_0) - c_2*y_0/(c_6 + y_0)**2\n",
        "    + c_2/(c_6 + y_0) - 2*y_0*(c_2*y_0/(c_6 + y_0)**2 - c_2/(c_6 + y_0))) + yx6*(-2*c_1\n",
        "    - 2*c_2*y_0**2*y_2/(c_6 + y_0)**3 + 4*c_2*y_0*y_2/(c_6 + y_0)**2 + c_2*y_0*y_2/(c_6\n",
        "    + y_0)**3 - 2*c_2*y_2/(c_6 + y_0) - c_2*y_2/(c_6 + y_0)**2 - 2*y_0*(-c_2*y_0*y_2/(c_6\n",
        "    + y_0)**3 + c_2*y_2/(c_6 + y_0)**2))]\n",
        "\n"
       ]
      }
     ],
     "prompt_number": 7
    },
    {
     "cell_type": "code",
     "collapsed": false,
     "input": [
      "problem = means.approximation.LinearNoiseApproximation(model).run()"
     ],
     "language": "python",
     "metadata": {},
     "outputs": [],
     "prompt_number": 8
    },
    {
     "cell_type": "code",
     "collapsed": false,
     "input": [
      "problem.ode_lhs_terms\n"
     ],
     "language": "python",
     "metadata": {},
     "outputs": [
      {
       "metadata": {},
       "output_type": "pyout",
       "prompt_number": 9,
       "text": [
        "[Moment(array([1, 0, 0]), symbol=y_0),\n",
        " Moment(array([0, 1, 0]), symbol=y_1),\n",
        " Moment(array([0, 0, 1]), symbol=y_2),\n",
        " VarianceTerm(V_00, (0, 0)),\n",
        " VarianceTerm(V_01, (0, 1)),\n",
        " VarianceTerm(V_02, (0, 2)),\n",
        " VarianceTerm(V_10, (1, 0)),\n",
        " VarianceTerm(V_11, (1, 1)),\n",
        " VarianceTerm(V_12, (1, 2)),\n",
        " VarianceTerm(V_20, (2, 0)),\n",
        " VarianceTerm(V_21, (2, 1)),\n",
        " VarianceTerm(V_22, (2, 2))]"
       ]
      }
     ],
     "prompt_number": 9
    },
    {
     "cell_type": "code",
     "collapsed": false,
     "input": [
      "print means.io.serialise.dump(problem)"
     ],
     "language": "python",
     "metadata": {},
     "outputs": [
      {
       "output_type": "stream",
       "stream": "stdout",
       "text": [
        "!problem\n",
        "method: LNA\n",
        "constants: [c_0, c_1, c_2, c_3, c_4, c_5, c_6]\n",
        "ode_lhs_terms:\n",
        "- !moment\n",
        "  symbol: y_0\n",
        "  n_vector: [1, 0, 0]\n",
        "- !moment\n",
        "  symbol: y_1\n",
        "  n_vector: [0, 1, 0]\n",
        "- !moment\n",
        "  symbol: y_2\n",
        "  n_vector: [0, 0, 1]\n",
        "- !variance-term\n",
        "  symbol: V_00\n",
        "  position: !!python/tuple [0, 0]\n",
        "- !variance-term\n",
        "  symbol: V_01\n",
        "  position: !!python/tuple [0, 1]\n",
        "- !variance-term\n",
        "  symbol: V_02\n",
        "  position: !!python/tuple [0, 2]\n",
        "- !variance-term\n",
        "  symbol: V_10\n",
        "  position: !!python/tuple [1, 0]\n",
        "- !variance-term\n",
        "  symbol: V_11\n",
        "  position: !!python/tuple [1, 1]\n",
        "- !variance-term\n",
        "  symbol: V_12\n",
        "  position: !!python/tuple [1, 2]\n",
        "- !variance-term\n",
        "  symbol: V_20\n",
        "  position: !!python/tuple [2, 0]\n",
        "- !variance-term\n",
        "  symbol: V_21\n",
        "  position: !!python/tuple [2, 1]\n",
        "- !variance-term\n",
        "  symbol: V_22\n",
        "  position: !!python/tuple [2, 2]\n",
        "right_hand_side: [c_0 - c_1*y_0 - c_2*y_0*y_2/(c_6 + y_0), c_3*y_0 - c_4*y_1, c_4*y_1\n",
        "    - c_5*y_2, 2*V_00*(-c_1 + c_2*y_0*y_2/(c_6 + y_0)**2 - c_2*y_2/(c_6 + y_0)) -\n",
        "    V_02*c_2*y_0/(c_6 + y_0) - V_20*c_2*y_0/(c_6 + y_0) + c_0**1.0 + (c_1*y_0)**1.0\n",
        "    + (c_2*y_0*y_2/(c_6 + y_0))**1.0, V_00*c_3 - V_01*c_4 + V_01*(-c_1 + c_2*y_0*y_2/(c_6\n",
        "    + y_0)**2 - c_2*y_2/(c_6 + y_0)) - V_21*c_2*y_0/(c_6 + y_0), V_01*c_4 - V_02*c_5\n",
        "    + V_02*(-c_1 + c_2*y_0*y_2/(c_6 + y_0)**2 - c_2*y_2/(c_6 + y_0)) - V_22*c_2*y_0/(c_6\n",
        "    + y_0), V_00*c_3 - V_10*c_4 + V_10*(-c_1 + c_2*y_0*y_2/(c_6 + y_0)**2 - c_2*y_2/(c_6\n",
        "    + y_0)) - V_12*c_2*y_0/(c_6 + y_0), V_01*c_3 + V_10*c_3 - 2*V_11*c_4 + (c_3*y_0)**1.0\n",
        "    + (c_4*y_1)**1.0, V_02*c_3 + V_11*c_4 - V_12*c_4 - V_12*c_5 - (c_4*y_1)**1.0,\n",
        "  V_10*c_4 - V_20*c_5 + V_20*(-c_1 + c_2*y_0*y_2/(c_6 + y_0)**2 - c_2*y_2/(c_6 + y_0))\n",
        "    - V_22*c_2*y_0/(c_6 + y_0), V_11*c_4 + V_20*c_3 - V_21*c_4 - V_21*c_5 - (c_4*y_1)**1.0,\n",
        "  V_12*c_4 + V_21*c_4 - 2*V_22*c_5 + (c_4*y_1)**1.0 + (c_5*y_2)**1.0]\n",
        "\n"
       ]
      }
     ],
     "prompt_number": 10
    },
    {
     "cell_type": "code",
     "collapsed": false,
     "input": [
      "trajectory = means.simulation.Trajectory([1,2,3], [3,2,1], means.approximation.ode_problem.Moment([1,2,3], 'x'))"
     ],
     "language": "python",
     "metadata": {},
     "outputs": [],
     "prompt_number": 11
    },
    {
     "cell_type": "code",
     "collapsed": false,
     "input": [
      "trajectory"
     ],
     "language": "python",
     "metadata": {},
     "outputs": [
      {
       "metadata": {},
       "output_type": "pyout",
       "prompt_number": 12,
       "text": [
        "Trajectory([1 2 3], [3 2 1], 1, 2, 3)"
       ]
      }
     ],
     "prompt_number": 12
    },
    {
     "cell_type": "code",
     "collapsed": false,
     "input": [
      "print means.io.serialise.dump(trajectory)"
     ],
     "language": "python",
     "metadata": {},
     "outputs": [
      {
       "output_type": "stream",
       "stream": "stdout",
       "text": [
        "!trajectory\n",
        "timepoints: !nparray\n",
        "  object: [1, 2, 3]\n",
        "  dtype: int64\n",
        "values: !nparray\n",
        "  object: [3, 2, 1]\n",
        "  dtype: int64\n",
        "description: !moment\n",
        "  symbol: x\n",
        "  n_vector: [1, 2, 3]\n",
        "\n"
       ]
      }
     ],
     "prompt_number": 13
    },
    {
     "cell_type": "code",
     "collapsed": false,
     "input": [
      "term = means.approximation.ode_problem.Moment([1, 0, 0], 'x')\n",
      "x = means.simulation.Trajectory([1, 2, 3], [3, 2, 1], means.simulation.SensitivityTerm(term, 'x'))\n",
      "y = means.simulation.Trajectory([1, 2, 3], [7, 8, 9], means.simulation.SensitivityTerm(term, 'y'))\n",
      "t = means.simulation.TrajectoryWithSensitivityData([1, 2, 3], [-1, -2, -3], term, sensitivity_data=[x, y])"
     ],
     "language": "python",
     "metadata": {},
     "outputs": [],
     "prompt_number": 14
    },
    {
     "cell_type": "code",
     "collapsed": false,
     "input": [
      "t"
     ],
     "language": "python",
     "metadata": {},
     "outputs": [
      {
       "metadata": {},
       "output_type": "pyout",
       "prompt_number": 15,
       "text": [
        "TrajectoryWithSensitivityData([1 2 3], [-1 -2 -3], 1, 0, 0)"
       ]
      }
     ],
     "prompt_number": 15
    },
    {
     "cell_type": "code",
     "collapsed": false,
     "input": [
      "print means.io.serialise.dump(t)"
     ],
     "language": "python",
     "metadata": {},
     "outputs": [
      {
       "output_type": "stream",
       "stream": "stdout",
       "text": [
        "!trajectory-with-sensitivity\n",
        "timepoints: !nparray\n",
        "  object: [1, 2, 3]\n",
        "  dtype: int64\n",
        "values: !nparray\n",
        "  object: [-1, -2, -3]\n",
        "  dtype: int64\n",
        "description: &id001 !moment\n",
        "  symbol: x\n",
        "  n_vector: [1, 0, 0]\n",
        "sensitivity_data:\n",
        "- !trajectory\n",
        "  timepoints: !nparray\n",
        "    object: [1, 2, 3]\n",
        "    dtype: int64\n",
        "  values: !nparray\n",
        "    object: [3, 2, 1]\n",
        "    dtype: int64\n",
        "  description: !sensitivity-term\n",
        "    ode_term: *id001\n",
        "    parameter: x\n",
        "- !trajectory\n",
        "  timepoints: !nparray\n",
        "    object: [1, 2, 3]\n",
        "    dtype: int64\n",
        "  values: !nparray\n",
        "    object: [7, 8, 9]\n",
        "    dtype: int64\n",
        "  description: !sensitivity-term\n",
        "    ode_term: *id001\n",
        "    parameter: y\n",
        "\n"
       ]
      }
     ],
     "prompt_number": 16
    },
    {
     "cell_type": "code",
     "collapsed": false,
     "input": [],
     "language": "python",
     "metadata": {},
     "outputs": [],
     "prompt_number": 16
    }
   ],
   "metadata": {}
  }
 ]
}
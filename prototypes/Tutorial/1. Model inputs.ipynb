{
 "metadata": {
  "name": ""
 },
 "nbformat": 3,
 "nbformat_minor": 0,
 "worksheets": [
  {
   "cells": [
    {
     "cell_type": "code",
     "collapsed": false,
     "input": [
      "%pylab inline\n",
      "import means\n",
      "import sympy\n",
      "import numpy as np\n",
      "import matplotlib.pyplot as plt"
     ],
     "language": "python",
     "metadata": {},
     "outputs": [
      {
       "output_type": "stream",
       "stream": "stdout",
       "text": [
        "Populating the interactive namespace from numpy and matplotlib\n"
       ]
      }
     ],
     "prompt_number": 47
    },
    {
     "cell_type": "markdown",
     "metadata": {},
     "source": [
      "MEAns Python package is a simulation and inference tool for studying biological systems. Biological systems are interpreted mathematically with the species, rate constants, propensities and stochiometry matrix. These four components constitute a biological model. For example, the oscillatory p53 system of three proteins connected by a feedback loop as shown in the reactions below, "
     ]
    },
    {
     "cell_type": "code",
     "collapsed": false,
     "input": [
      "%%latex\n",
      "\\begin{align*}\n",
      "Proteins: \\\\\n",
      "p53, Mdm2_{precursor}, Mdm2\\\\\n",
      "Reactions: \\\\\n",
      "\\rightarrow p53\\\\\n",
      "p53\\rightarrow\\\\\n",
      "p53\\rightarrow Mdm2\\\\\n",
      "Mdm2_{precursor} \\rightarrow p53\\\\\n",
      "Mdm2_{precursor} \\rightarrow Mdm2 \\\\\n",
      "Mdm2 \\leftrightarrow \\\\\n",
      "\\end{align*}"
     ],
     "language": "python",
     "metadata": {},
     "outputs": [
      {
       "latex": [
        "\\begin{align*}\n",
        "Proteins: \\\\\n",
        "p53, Mdm2_{precursor}, Mdm2\\\\\n",
        "Reactions: \\\\\n",
        "\\rightarrow p53\\\\\n",
        "p53\\rightarrow\\\\\n",
        "p53\\rightarrow Mdm2\\\\\n",
        "Mdm2_{precursor} \\rightarrow p53\\\\\n",
        "Mdm2_{precursor} \\rightarrow Mdm2 \\\\\n",
        "Mdm2 \\leftrightarrow \\\\\n",
        "\\end{align*}"
       ],
       "metadata": {},
       "output_type": "display_data",
       "text": [
        "<IPython.core.display.Latex at 0x10b89f210>"
       ]
      }
     ],
     "prompt_number": 48
    },
    {
     "cell_type": "markdown",
     "metadata": {},
     "source": [
      "can be interpreted as three species y_0, y_1 and y_2 with the following stoichiometry matrix and propensities."
     ]
    },
    {
     "cell_type": "code",
     "collapsed": false,
     "input": [
      "%%latex\n",
      "\n",
      "Stoichiometry matrix\n",
      "\\[ \\left( \\begin{array}{ccc}\n",
      "1 & -1 & -1 & 0 & 0 & 0\\\\\n",
      "0 & 0 & 0 & 1 & -1 & 0\\\\\n",
      "0 & 0 & 0 & 0 & 1 & -1 \\end{array} \\right)\\]\n",
      "\\begin{align*}\n",
      "Propensities:\\\\\n",
      "c_0 \\\\\n",
      "c_1*y_0\\\\\n",
      "c_2*y_2*y_0/(y_0+c_6)\\\\\n",
      "c_3*y_0\\\\\n",
      "c_4*y_1\\\\\n",
      "c_5*y_2\\\\\n",
      "\\end{align*}\n",
      ", where c_0 to c_6 are the rate constants.\n"
     ],
     "language": "python",
     "metadata": {},
     "outputs": [
      {
       "latex": [
        "\n",
        "Stoichiometry matrix\n",
        "\\[ \\left( \\begin{array}{ccc}\n",
        "1 & -1 & -1 & 0 & 0 & 0\\\\\n",
        "0 & 0 & 0 & 1 & -1 & 0\\\\\n",
        "0 & 0 & 0 & 0 & 1 & -1 \\end{array} \\right)\\]\n",
        "\\begin{align*}\n",
        "Propensities:\\\\\n",
        "c_0 \\\\\n",
        "c_1*y_0\\\\\n",
        "c_2*y_2*y_0/(y_0+c_6)\\\\\n",
        "c_3*y_0\\\\\n",
        "c_4*y_1\\\\\n",
        "c_5*y_2\\\\\n",
        "\\end{align*}\n",
        ", where c_0 to c_6 are the rate constants."
       ],
       "metadata": {},
       "output_type": "display_data",
       "text": [
        "<IPython.core.display.Latex at 0x10b89f150>"
       ]
      }
     ],
     "prompt_number": 49
    },
    {
     "cell_type": "markdown",
     "metadata": {},
     "source": [
      "In MEAns package, a model should be described in the order: constants, species, reaction propensities, and the stoichiometry matrix, i.e. \n",
      "Model_name = means.Model(constants, species, propensities, stoichiometry_matrix).\n",
      "Some examples of models are given in means/examples/sample_models. The following code depicts the inputs for p53 model. The model containing these inputs is then used for simulation, with given initial conditions of the chemical reactions."
     ]
    },
    {
     "cell_type": "code",
     "collapsed": false,
     "input": [
      "MODEL_P53 = means.Model(constants=['c_0', 'c_1', 'c_2', 'c_3', 'c_4', 'c_5', 'c_6'],\n",
      "                  species=['y_0', 'y_1', 'y_2'],\n",
      "                  stoichiometry_matrix=[[1, -1, -1, 0, 0, 0],\n",
      "                                        [0, 0, 0, 1, -1, 0],\n",
      "                                        [0, 0, 0, 0, 1, -1]],\n",
      "                  propensities=['c_0',\n",
      "                                'c_1*y_0',\n",
      "                                'c_2*y_2*y_0/(y_0+c_6)',\n",
      "                                'c_3*y_0',\n",
      "                                'c_4*y_1',\n",
      "                                'c_5*y_2'])"
     ],
     "language": "python",
     "metadata": {},
     "outputs": [],
     "prompt_number": 50
    },
    {
     "cell_type": "markdown",
     "metadata": {},
     "source": [
      "Inputs for a model can be printed with the command $print MODEL_NAME. For instance,"
     ]
    },
    {
     "cell_type": "code",
     "collapsed": false,
     "input": [
      "print MODEL_P53"
     ],
     "language": "python",
     "metadata": {},
     "outputs": [
      {
       "output_type": "stream",
       "stream": "stdout",
       "text": [
        "<class 'means.model.model.Model'>\n",
        "Species: [y_0, y_1, y_2]\n",
        "Constants: [c_0, c_1, c_2, c_3, c_4, c_5, c_6]\n",
        "\n",
        "Stoichiometry matrix:\n",
        "Matrix([\n",
        "[1, -1, -1, 0,  0,  0],\n",
        "[0,  0,  0, 1, -1,  0],\n",
        "[0,  0,  0, 0,  1, -1]])\n",
        "\n",
        "Propensities:\n",
        "Matrix([\n",
        "[                    c_0],\n",
        "[                c_1*y_0],\n",
        "[c_2*y_0*y_2/(c_6 + y_0)],\n",
        "[                c_3*y_0],\n",
        "[                c_4*y_1],\n",
        "[                c_5*y_2]])\n"
       ]
      }
     ],
     "prompt_number": 51
    },
    {
     "cell_type": "markdown",
     "metadata": {},
     "source": [
      "More biological models can be retrieved from SBML, using the model ID, and parsed into the desired format using the parser. When parsing the SBML format, compartments of species are neglected."
     ]
    },
    {
     "cell_type": "code",
     "collapsed": false,
     "input": [
      "#model = means.io.read_sbml('autoreg-3-1.xml')"
     ],
     "language": "python",
     "metadata": {},
     "outputs": [],
     "prompt_number": 53
    }
   ],
   "metadata": {}
  }
 ]
}
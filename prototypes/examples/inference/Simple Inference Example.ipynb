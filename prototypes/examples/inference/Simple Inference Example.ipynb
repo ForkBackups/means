{
 "metadata": {
  "name": ""
 },
 "nbformat": 3,
 "nbformat_minor": 0,
 "worksheets": [
  {
   "cells": [
    {
     "cell_type": "code",
     "collapsed": false,
     "input": [
      "%pylab inline"
     ],
     "language": "python",
     "metadata": {},
     "outputs": [
      {
       "output_type": "stream",
       "stream": "stdout",
       "text": [
        "Populating the interactive namespace from numpy and matplotlib\n"
       ]
      },
      {
       "output_type": "stream",
       "stream": "stderr",
       "text": [
        "WARNING: pylab import has clobbered these variables: ['random']\n",
        "`%pylab --no-import-all` prevents importing * from pylab and numpy\n"
       ]
      }
     ],
     "prompt_number": 49
    },
    {
     "cell_type": "code",
     "collapsed": false,
     "input": [
      "import means\n",
      "import means.examples"
     ],
     "language": "python",
     "metadata": {},
     "outputs": [],
     "prompt_number": 50
    },
    {
     "cell_type": "code",
     "collapsed": false,
     "input": [
      "import numpy as np"
     ],
     "language": "python",
     "metadata": {},
     "outputs": [],
     "prompt_number": 51
    },
    {
     "cell_type": "code",
     "collapsed": false,
     "input": [
      "model = means.examples.sample_models.MODEL_DIMERISATION"
     ],
     "language": "python",
     "metadata": {},
     "outputs": [],
     "prompt_number": 52
    },
    {
     "cell_type": "code",
     "collapsed": false,
     "input": [
      "model"
     ],
     "language": "python",
     "metadata": {},
     "outputs": [
      {
       "latex": [
        "\\begin{align*}\n",
        "\\text{Species} &= \\begin{bmatrix}y_{0}\\end{bmatrix} \\\\\n",
        "\\text{Constants} &= \\begin{bmatrix}c_{0}, & c_{1}, & c_{2}\\end{bmatrix} \\\\\n",
        "\\text{Stoichiometry matrix} &= \\left[\\begin{matrix}-2 & 2\\end{matrix}\\right] \\\\\n",
        "\\text{Propensities} &= \\left[\\begin{matrix}c_{0} y_{0} \\left(y_{0} - 1\\right)\\\\c_{1} \\left(0.5 c_{2} - 0.5 y_{0}\\right)\\end{matrix}\\right] \\\\\n",
        "\\end{align*}"
       ],
       "metadata": {},
       "output_type": "pyout",
       "prompt_number": 53,
       "text": [
        "<class 'means.model.model.Model'>\n",
        "Species: [y_0]\n",
        "Constants: [c_0, c_1, c_2]\n",
        "\n",
        "Stoichiometry matrix:\n",
        "Matrix([[-2, 2]])\n",
        "\n",
        "Propensities:\n",
        "Matrix([\n",
        "[      c_0*y_0*(y_0 - 1)],\n",
        "[c_1*(0.5*c_2 - 0.5*y_0)]])"
       ]
      }
     ],
     "prompt_number": 53
    },
    {
     "cell_type": "code",
     "collapsed": false,
     "input": [
      "timepoints = np.arange(0, 20, 0.5)"
     ],
     "language": "python",
     "metadata": {},
     "outputs": [],
     "prompt_number": 54
    },
    {
     "cell_type": "code",
     "collapsed": false,
     "input": [
      "observed_values = np.array([301, 290.191955202941, 280.587012789919, 272.03059275347, 264.391791838931, 257.559062245777, 251.436806654562, 245.94267026554, 241.005368499757, 236.562930313664, 232.561266868355, 228.95299702774, 225.696477184875, 222.754994848608, 220.096094392425, 217.69101016698, 215.514187376472, 213.542875122678, 211.756779127717, 210.13776407335, 208.669597403576, 207.337727947036, 206.129093917824, 205.03195581465, 204.035750512438, 203.130963465903, 202.309016453409, 201.56216870432, 200.883429593812, 200.266481369356, 199.705610605558, 199.19564727630, 198.731910494358, 198.310160102979, 197.926553417265, 197.57760650846, 197.260159505222, 196.971345454330, 196.708562342305, 196.469447928853])"
     ],
     "language": "python",
     "metadata": {},
     "outputs": [],
     "prompt_number": 55
    },
    {
     "cell_type": "code",
     "collapsed": false,
     "input": [
      "# TODO: Expose moment to means.approximation or other package\n",
      "# TODO: add species= interface for observed data trajectories that would create required raw moment\n",
      "observed_trajectory = means.simulation.Trajectory(timepoints, observed_values, means.approximation.ode_problem.Moment([1], symbol='y_0'))"
     ],
     "language": "python",
     "metadata": {},
     "outputs": [],
     "prompt_number": 56
    },
    {
     "cell_type": "code",
     "collapsed": false,
     "input": [
      "observed_trajectory.plot('+')"
     ],
     "language": "python",
     "metadata": {},
     "outputs": [
      {
       "metadata": {},
       "output_type": "pyout",
       "prompt_number": 57,
       "text": [
        "[<matplotlib.lines.Line2D at 0x111f08350>]"
       ]
      },
      {
       "metadata": {},
       "output_type": "display_data",
       "png": "[encoded data removed]",
       "text": [
        "<matplotlib.figure.Figure at 0x11172add0>"
       ]
      }
     ],
     "prompt_number": 57
    },
    {
     "cell_type": "code",
     "collapsed": false,
     "input": [
      "problem = means.approximation.MomentExpansionApproximation(model, 2).run()\n",
      "problem"
     ],
     "language": "python",
     "metadata": {},
     "outputs": [
      {
       "latex": [
        "<h1>ODEProblem</h1>\n",
        "<p>Method: <code>'MEA'</code></p>\n",
        "<p>Constants: <code>[c_0, c_1, c_2]</code></p>\n",
        "<p>Terms:</p>\n",
        "<ul>\n",
        "<li><code>Moment(array([1]), symbol=y_0)</code></li>\n",
        "<li><code>Moment(array([2]), symbol=yx1)</code></li>\n",
        "</ul>\n",
        "<hr />\n",
        "\\begin{align*}\n",
        "\\dot{y_{0}} &= - 2 c_{0} y_{0} \\left(y_{0} - 1\\right) - 2 c_{0} yx_{1} + 2 c_{1} \\left(0.5 c_{2} - 0.5 y_{0}\\right) \\\\\n",
        "\\dot{yx_{1}} &= - 4 c_{0} y_{0}^{2} \\left(y_{0} - 1\\right) + 4 c_{0} y_{0} \\left(y_{0} - 1\\right) + 4 c_{1} y_{0} \\left(0.5 c_{2} - 0.5 y_{0}\\right) + 4 c_{1} \\left(0.5 c_{2} - 0.5 y_{0}\\right) - 2 y_{0} \\left(- 2 c_{0} y_{0} \\left(y_{0} - 1\\right) + 2 c_{1} \\left(0.5 c_{2} - 0.5 y_{0}\\right)\\right) + yx_{1} \\left(- 4 c_{0} y_{0} - 4 c_{0} \\left(y_{0} - 1\\right) + 4 c_{0} - 2.0 c_{1}\\right) \\\\\n",
        "\\end{align*}"
       ],
       "metadata": {},
       "output_type": "pyout",
       "prompt_number": 58,
       "text": [
        "<class 'means.approximation.ode_problem.ODEProblem'>\n",
        "Method: 'MEA'\n",
        "Constants: [c_0, c_1, c_2]\n",
        "\n",
        "Equations:\n",
        "\n",
        "Moment(array([1]), symbol=y_0):\n",
        "    -2*c_0*y_0*(y_0 - 1) - 2*c_0*yx1 + 2*c_1*(0.5*c_2 - 0.5*y_0)\n",
        "\n",
        "Moment(array([2]), symbol=yx1):\n",
        "    -4*c_0*y_0**2*(y_0 - 1) + 4*c_0*y_0*(y_0 - 1) + 4*c_1*y_0*(0.5*c_2 - 0.5*y_0) + 4*c_1*(0.5*c_2 - 0.5*y_0) - 2*y_0*(-2*c_0*y_0*(y_0 - 1) + 2*c_1*(0.5*c_2 - 0.5*y_0)) + yx1*(-4*c_0*y_0 - 4*c_0*(y_0 - 1) + 4*c_0 - 2.0*c_1)\n"
       ]
      }
     ],
     "prompt_number": 58
    },
    {
     "cell_type": "code",
     "collapsed": false,
     "input": [
      "initial_conditions_range = [(320, 290)]"
     ],
     "language": "python",
     "metadata": {},
     "outputs": [],
     "prompt_number": 59
    },
    {
     "cell_type": "code",
     "collapsed": false,
     "input": [
      "starting_parameters = [0.0005, 0.25, 295]\n",
      "starting_initial_conditions = [305]"
     ],
     "language": "python",
     "metadata": {},
     "outputs": [],
     "prompt_number": 60
    },
    {
     "cell_type": "code",
     "collapsed": false,
     "input": [
      "variable_parameters = {'c_0': (0, 0.001), 'c_1': (0, 0.5), 'c_2': (260, 330), 'y_0': (290, 320)}"
     ],
     "language": "python",
     "metadata": {},
     "outputs": [],
     "prompt_number": 61
    },
    {
     "cell_type": "code",
     "collapsed": false,
     "input": [
      "# This is not strictly necessary, but allows us to make the results machine-testable\n",
      "import random\n",
      "random.seed(42)\n",
      "import numpy.random\n",
      "numpy.random.seed(42)"
     ],
     "language": "python",
     "metadata": {},
     "outputs": [],
     "prompt_number": 62
    },
    {
     "cell_type": "code",
     "collapsed": false,
     "input": [
      "inference = means.inference.Inference(problem, \n",
      "                                      starting_parameters, \n",
      "                                      starting_initial_conditions,\n",
      "                                      variable_parameters,\n",
      "                                      [observed_trajectory])"
     ],
     "language": "python",
     "metadata": {},
     "outputs": [],
     "prompt_number": 63
    },
    {
     "cell_type": "code",
     "collapsed": false,
     "input": [
      "inference_result = inference.infer()"
     ],
     "language": "python",
     "metadata": {},
     "outputs": [],
     "prompt_number": 64
    },
    {
     "cell_type": "code",
     "collapsed": false,
     "input": [
      "inference_result"
     ],
     "language": "python",
     "metadata": {},
     "outputs": [
      {
       "metadata": {},
       "output_type": "pyout",
       "prompt_number": 65,
       "text": [
        "\n",
        "        <class 'means.inference.inference.InferenceResult'>\n",
        "        Starting Parameters: [0.0005, 0.25, 295]\n",
        "        Optimal Parameters: [0.0003726798192034735, 0.27875279867371217, 329.99950319680852]\n",
        "\n",
        "        Starting Initial Conditions: [305, 0.0]\n",
        "        Optimal Initial Conditions: [319.92248555031131, 0.0]\n",
        "\n",
        "        Distance at Minimum: 7032.4944088571974\n",
        "        Iterations taken: 225\n",
        "        "
       ]
      }
     ],
     "prompt_number": 65
    },
    {
     "cell_type": "code",
     "collapsed": false,
     "input": [
      "inference_result.plot(plot_intermediate_solutions=True)"
     ],
     "language": "python",
     "metadata": {},
     "outputs": [
      {
       "metadata": {},
       "output_type": "display_data",
       "png": "[encoded data removed]",
       "text": [
        "<matplotlib.figure.Figure at 0x111f0b090>"
       ]
      },
      {
       "metadata": {},
       "output_type": "display_data",
       "png": "[encoded data removed]",
       "text": [
        "<matplotlib.figure.Figure at 0x111eaa1d0>"
       ]
      }
     ],
     "prompt_number": 66
    },
    {
     "cell_type": "code",
     "collapsed": false,
     "input": [
      "print means.io.serialise.dump(inference_result)"
     ],
     "language": "python",
     "metadata": {},
     "outputs": [
      {
       "output_type": "stream",
       "stream": "stdout",
       "text": [
        "!inference-result\n",
        "problem: &id001 !problem\n",
        "  method: MEA\n",
        "  constants: [c_0, c_1, c_2]\n",
        "  ode_lhs_terms:\n",
        "  - !moment\n",
        "    symbol: y_0\n",
        "    n_vector: [1]\n",
        "  - !moment\n",
        "    symbol: yx1\n",
        "    n_vector: [2]\n",
        "  right_hand_side: [-2*c_0*y_0*(y_0 - 1) - 2*c_0*yx1 + 2*c_1*(0.5*c_2 - 0.5*y_0),\n",
        "    -4*c_0*y_0**2*(y_0 - 1) + 4*c_0*y_0*(y_0 - 1) + 4*c_1*y_0*(0.5*c_2 - 0.5*y_0)\n",
        "      + 4*c_1*(0.5*c_2 - 0.5*y_0) - 2*y_0*(-2*c_0*y_0*(y_0 - 1) + 2*c_1*(0.5*c_2 -\n",
        "      0.5*y_0)) + yx1*(-4*c_0*y_0 - 4*c_0*(y_0 - 1) + 4*c_0 - 2.0*c_1)]\n",
        "observed_trajectories:\n",
        "- !trajectory\n",
        "  timepoints: !nparray\n",
        "    object: [0.0, 0.5, 1.0, 1.5, 2.0, 2.5, 3.0, 3.5, 4.0, 4.5, 5.0, 5.5, 6.0, 6.5,\n",
        "      7.0, 7.5, 8.0, 8.5, 9.0, 9.5, 10.0, 10.5, 11.0, 11.5, 12.0, 12.5, 13.0, 13.5,\n",
        "      14.0, 14.5, 15.0, 15.5, 16.0, 16.5, 17.0, 17.5, 18.0, 18.5, 19.0, 19.5]\n",
        "    dtype: float64\n",
        "  values: !nparray\n",
        "    object: [301.0, 290.191955202941, 280.587012789919, 272.03059275347, 264.391791838931,\n",
        "      257.559062245777, 251.436806654562, 245.94267026554, 241.005368499757, 236.562930313664,\n",
        "      232.561266868355, 228.95299702774, 225.696477184875, 222.754994848608, 220.096094392425,\n",
        "      217.69101016698, 215.514187376472, 213.542875122678, 211.756779127717, 210.13776407335,\n",
        "      208.669597403576, 207.337727947036, 206.129093917824, 205.03195581465, 204.035750512438,\n",
        "      203.130963465903, 202.309016453409, 201.56216870432, 200.883429593812, 200.266481369356,\n",
        "      199.705610605558, 199.1956472763, 198.731910494358, 198.310160102979, 197.926553417265,\n",
        "      197.57760650846, 197.260159505222, 196.97134545433, 196.708562342305, 196.469447928853]\n",
        "    dtype: float64\n",
        "  description: !moment\n",
        "    symbol: y_0\n",
        "    n_vector: [1]\n",
        "starting_parameters: [0.0005, 0.25, 295]\n",
        "starting_initial_conditions: [305, 0.0]\n",
        "optimal_parameters: [0.0003726798192034735, 0.27875279867371217, 329.9995031968085]\n",
        "optimal_initial_conditions: [319.9224855503113, 0.0]\n",
        "distance_at_minimum: 7032.494408857197\n",
        "iterations_taken: 225\n",
        "function_calls_made: 537\n",
        "warning_flag: 0\n",
        "solutions: null\n",
        "simulation: !simulation\n",
        "  problem: *id001\n",
        "  solver: cvode\n",
        "\n"
       ]
      }
     ],
     "prompt_number": 67
    },
    {
     "cell_type": "code",
     "collapsed": false,
     "input": [
      "inference_with_restarts = means.inference.InferenceWithRestarts(problem, 10, \n",
      "                                                                [(0, 0.001), (0, 0.5), (260, 330)], \n",
      "                                                                [(290, 320)],\n",
      "                                                                variable_parameters, \n",
      "                                                                [observed_trajectory],\n",
      "                                                                number_of_processes=8) "
     ],
     "language": "python",
     "metadata": {},
     "outputs": [],
     "prompt_number": 68
    },
    {
     "cell_type": "code",
     "collapsed": false,
     "input": [
      "import time\n",
      "start_time = time.time()\n",
      "multiple_inference_result = inference_with_restarts.infer()\n",
      "end_time = time.time()"
     ],
     "language": "python",
     "metadata": {},
     "outputs": [],
     "prompt_number": 69
    },
    {
     "cell_type": "code",
     "collapsed": false,
     "input": [
      "multiple_inference_result.best.plot(plot_intermediate_solutions=True, filter_plots_function=lambda x: x.description.order==1)"
     ],
     "language": "python",
     "metadata": {},
     "outputs": [
      {
       "metadata": {},
       "output_type": "display_data",
       "png": "[encoded data removed]",
       "text": [
        "<matplotlib.figure.Figure at 0x111dcfe10>"
       ]
      }
     ],
     "prompt_number": 70
    },
    {
     "cell_type": "code",
     "collapsed": false,
     "input": [
      "print \"Took: {0}\".format((end_time-start_time))\n",
      "print \"{0}\".format(multiple_inference_result)"
     ],
     "language": "python",
     "metadata": {},
     "outputs": [
      {
       "output_type": "stream",
       "stream": "stdout",
       "text": [
        "Took: 4.88483595848\n",
        "\n",
        "        <class 'means.inference.inference.InferenceResultsCollection'>\n",
        "\n",
        "        Number of inference results in collection: 10\n",
        "        Best:\n",
        "        \n",
        "        <class 'means.inference.inference.InferenceResult'>\n",
        "        Starting Parameters: [0.0003223210738148823, 0.1170125258258996, 325.5538252527906]\n",
        "        Optimal Parameters: [0.00013675524047275793, 0.080304946057069837, 321.84327604077828]\n",
        "\n",
        "        Starting Initial Conditions: [301.0538427529696, 0.0]\n",
        "        Optimal Initial Conditions: [301.06232914535485, 0.0]\n",
        "\n",
        "        Distance at Minimum: 0.013233339464676587\n",
        "        Iterations taken: 138\n",
        "        \n",
        "        \n"
       ]
      }
     ],
     "prompt_number": 74
    },
    {
     "cell_type": "code",
     "collapsed": false,
     "input": [],
     "language": "python",
     "metadata": {},
     "outputs": []
    },
    {
     "cell_type": "code",
     "collapsed": false,
     "input": [
      "multiple_inference_result.plot()"
     ],
     "language": "python",
     "metadata": {},
     "outputs": []
    },
    {
     "cell_type": "code",
     "collapsed": false,
     "input": [],
     "language": "python",
     "metadata": {},
     "outputs": []
    }
   ],
   "metadata": {}
  }
 ]
}
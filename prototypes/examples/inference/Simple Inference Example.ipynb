{
 "metadata": {
  "name": ""
 },
 "nbformat": 3,
 "nbformat_minor": 0,
 "worksheets": [
  {
   "cells": [
    {
     "cell_type": "code",
     "collapsed": false,
     "input": [
      "%pylab inline"
     ],
     "language": "python",
     "metadata": {},
     "outputs": [
      {
       "output_type": "stream",
       "stream": "stdout",
       "text": [
        "Populating the interactive namespace from numpy and matplotlib\n"
       ]
      }
     ],
     "prompt_number": 23
    },
    {
     "cell_type": "code",
     "collapsed": false,
     "input": [
      "import means\n",
      "import means.examples"
     ],
     "language": "python",
     "metadata": {},
     "outputs": [],
     "prompt_number": 24
    },
    {
     "cell_type": "code",
     "collapsed": false,
     "input": [
      "import numpy as np"
     ],
     "language": "python",
     "metadata": {},
     "outputs": [],
     "prompt_number": 25
    },
    {
     "cell_type": "code",
     "collapsed": false,
     "input": [
      "model = means.examples.sample_models.MODEL_DIMERISATION"
     ],
     "language": "python",
     "metadata": {},
     "outputs": [],
     "prompt_number": 26
    },
    {
     "cell_type": "code",
     "collapsed": false,
     "input": [
      "model"
     ],
     "language": "python",
     "metadata": {},
     "outputs": [
      {
       "latex": [
        "\\begin{align*}\n",
        "\\text{Species} &= \\begin{bmatrix}y_{0}\\end{bmatrix} \\\\\n",
        "\\text{Constants} &= \\begin{bmatrix}c_{0}, & c_{1}, & c_{2}\\end{bmatrix} \\\\\n",
        "\\text{Stoichiometry matrix} &= \\left[\\begin{matrix}-2 & 2\\end{matrix}\\right] \\\\\n",
        "\\text{Propensities} &= \\left[\\begin{matrix}c_{0} y_{0} \\left(y_{0} - 1\\right)\\\\c_{1} \\left(0.5 c_{2} - 0.5 y_{0}\\right)\\end{matrix}\\right] \\\\\n",
        "\\end{align*}"
       ],
       "metadata": {},
       "output_type": "pyout",
       "prompt_number": 27,
       "text": [
        "<class 'means.model.model.Model'>\n",
        "Species: [y_0]\n",
        "Constants: [c_0, c_1, c_2]\n",
        "\n",
        "Stoichiometry matrix:\n",
        "Matrix([[-2, 2]])\n",
        "\n",
        "Propensities:\n",
        "Matrix([\n",
        "[      c_0*y_0*(y_0 - 1)],\n",
        "[c_1*(0.5*c_2 - 0.5*y_0)]])"
       ]
      }
     ],
     "prompt_number": 27
    },
    {
     "cell_type": "code",
     "collapsed": false,
     "input": [
      "timepoints = np.arange(0, 20, 0.5)"
     ],
     "language": "python",
     "metadata": {},
     "outputs": [],
     "prompt_number": 28
    },
    {
     "cell_type": "code",
     "collapsed": false,
     "input": [
      "observed_values = np.array([301, 290.191955202941, 280.587012789919, 272.03059275347, 264.391791838931, 257.559062245777, 251.436806654562, 245.94267026554, 241.005368499757, 236.562930313664, 232.561266868355, 228.95299702774, 225.696477184875, 222.754994848608, 220.096094392425, 217.69101016698, 215.514187376472, 213.542875122678, 211.756779127717, 210.13776407335, 208.669597403576, 207.337727947036, 206.129093917824, 205.03195581465, 204.035750512438, 203.130963465903, 202.309016453409, 201.56216870432, 200.883429593812, 200.266481369356, 199.705610605558, 199.19564727630, 198.731910494358, 198.310160102979, 197.926553417265, 197.57760650846, 197.260159505222, 196.971345454330, 196.708562342305, 196.469447928853])"
     ],
     "language": "python",
     "metadata": {},
     "outputs": [],
     "prompt_number": 29
    },
    {
     "cell_type": "code",
     "collapsed": false,
     "input": [
      "# TODO: Expose moment to means.approximation or other package\n",
      "# TODO: add species= interface for observed data trajectories that would create required raw moment\n",
      "observed_trajectory = means.simulation.Trajectory(timepoints, observed_values, means.approximation.ode_problem.Moment([1], symbol='y_0'))"
     ],
     "language": "python",
     "metadata": {},
     "outputs": [],
     "prompt_number": 30
    },
    {
     "cell_type": "code",
     "collapsed": false,
     "input": [
      "observed_trajectory.plot('+')"
     ],
     "language": "python",
     "metadata": {},
     "outputs": [
      {
       "metadata": {},
       "output_type": "pyout",
       "prompt_number": 31,
       "text": [
        "[<matplotlib.lines.Line2D at 0x109af8c90>]"
       ]
      },
      {
       "metadata": {},
       "output_type": "display_data",
       "png": "[encoded data removed]",
       "text": [
        "<matplotlib.figure.Figure at 0x109a2fcd0>"
       ]
      }
     ],
     "prompt_number": 31
    },
    {
     "cell_type": "code",
     "collapsed": false,
     "input": [
      "problem = means.approximation.MomentExpansionApproximation(model, 2).run()\n",
      "problem"
     ],
     "language": "python",
     "metadata": {},
     "outputs": [
      {
       "latex": [
        "<h1>ODEProblem</h1>\n",
        "<p>Method: <code>'MEA'</code></p>\n",
        "<p>Constants: <code>[c_0, c_1, c_2]</code></p>\n",
        "<p>Terms:</p>\n",
        "<ul>\n",
        "<li><code>Moment(array([1]), symbol=y_0)</code></li>\n",
        "<li><code>Moment(array([2]), symbol=yx1)</code></li>\n",
        "</ul>\n",
        "<hr />\n",
        "\\begin{align*}\n",
        "\\dot{y_{0}} &= - 2 c_{0} y_{0} \\left(y_{0} - 1\\right) - 2 c_{0} yx_{1} + 2 c_{1} \\left(0.5 c_{2} - 0.5 y_{0}\\right) \\\\\n",
        "\\dot{yx_{1}} &= - 4 c_{0} y_{0}^{2} \\left(y_{0} - 1\\right) + 4 c_{0} y_{0} \\left(y_{0} - 1\\right) + 4 c_{1} y_{0} \\left(0.5 c_{2} - 0.5 y_{0}\\right) + 4 c_{1} \\left(0.5 c_{2} - 0.5 y_{0}\\right) - 2 y_{0} \\left(- 2 c_{0} y_{0} \\left(y_{0} - 1\\right) + 2 c_{1} \\left(0.5 c_{2} - 0.5 y_{0}\\right)\\right) + yx_{1} \\left(- 4 c_{0} y_{0} - 4 c_{0} \\left(y_{0} - 1\\right) + 4 c_{0} - 2.0 c_{1}\\right) \\\\\n",
        "\\end{align*}"
       ],
       "metadata": {},
       "output_type": "pyout",
       "prompt_number": 32,
       "text": [
        "<class 'means.approximation.ode_problem.ODEProblem'>\n",
        "Method: 'MEA'\n",
        "Constants: [c_0, c_1, c_2]\n",
        "\n",
        "Equations:\n",
        "\n",
        "Moment(array([1]), symbol=y_0):\n",
        "    -2*c_0*y_0*(y_0 - 1) - 2*c_0*yx1 + 2*c_1*(0.5*c_2 - 0.5*y_0)\n",
        "\n",
        "Moment(array([2]), symbol=yx1):\n",
        "    -4*c_0*y_0**2*(y_0 - 1) + 4*c_0*y_0*(y_0 - 1) + 4*c_1*y_0*(0.5*c_2 - 0.5*y_0) + 4*c_1*(0.5*c_2 - 0.5*y_0) - 2*y_0*(-2*c_0*y_0*(y_0 - 1) + 2*c_1*(0.5*c_2 - 0.5*y_0)) + yx1*(-4*c_0*y_0 - 4*c_0*(y_0 - 1) + 4*c_0 - 2.0*c_1)\n"
       ]
      }
     ],
     "prompt_number": 32
    },
    {
     "cell_type": "code",
     "collapsed": false,
     "input": [
      "initial_conditions_range = [(320, 290)]"
     ],
     "language": "python",
     "metadata": {},
     "outputs": [],
     "prompt_number": 33
    },
    {
     "cell_type": "code",
     "collapsed": false,
     "input": [
      "starting_parameters = [0.0005, 0.25, 295]\n",
      "starting_initial_conditions = [305]"
     ],
     "language": "python",
     "metadata": {},
     "outputs": [],
     "prompt_number": 34
    },
    {
     "cell_type": "code",
     "collapsed": false,
     "input": [
      "variable_parameters = {'c_0': (0, 0.001), 'c_1': (0, 0.5), 'c_2': (260, 330), 'y_0': (290, 320)}"
     ],
     "language": "python",
     "metadata": {},
     "outputs": [],
     "prompt_number": 35
    },
    {
     "cell_type": "code",
     "collapsed": false,
     "input": [
      "inference = means.inference.ParameterInference(problem, \n",
      "                                               starting_parameters, \n",
      "                                               starting_initial_conditions,\n",
      "                                               variable_parameters,\n",
      "                                               observed_trajectory.timepoints,\n",
      "                                               [observed_trajectory])"
     ],
     "language": "python",
     "metadata": {},
     "outputs": [],
     "prompt_number": 36
    },
    {
     "cell_type": "code",
     "collapsed": false,
     "input": [
      "inference_result = inference.infer()"
     ],
     "language": "python",
     "metadata": {},
     "outputs": [],
     "prompt_number": 37
    },
    {
     "cell_type": "code",
     "collapsed": false,
     "input": [
      "inference_result"
     ],
     "language": "python",
     "metadata": {},
     "outputs": [
      {
       "metadata": {},
       "output_type": "pyout",
       "prompt_number": 38,
       "text": [
        "\n",
        "        <class 'means.inference.sumsq_infer.InferenceResult'>\n",
        "        Starting Parameters: [0.0005, 0.25, 295]\n",
        "        Optimal Parameters: [0.0003726798192034735, 0.27875279867371217, 329.99950319680852]\n",
        "\n",
        "        Starting Initial Conditions: [305, 0.0]\n",
        "        Optimal Initial Conditions: [319.92248555031131, 0.0]\n",
        "\n",
        "        Distance at Minimum: 7032.4944088571974\n",
        "        Iterations taken: 225\n",
        "        "
       ]
      }
     ],
     "prompt_number": "*"
    },
    {
     "cell_type": "code",
     "collapsed": false,
     "input": [
      "inference_result.plot(plot_intermediate_solutions=True)"
     ],
     "language": "python",
     "metadata": {},
     "outputs": [],
     "prompt_number": "*"
    },
    {
     "cell_type": "code",
     "collapsed": false,
     "input": [
      "print means.io.serialise.dump(inference_result)"
     ],
     "language": "python",
     "metadata": {},
     "outputs": [],
     "prompt_number": "*"
    },
    {
     "cell_type": "code",
     "collapsed": false,
     "input": [
      "inference_with_restarts = means.inference.sumsq_infer.InferenceWithRestarts(problem, 10, \n",
      "                                                                            [(0, 0.001), (0, 0.5), (260, 330)], \n",
      "                                                                            [(290, 320)],\n",
      "                                                                            variable_parameters, \n",
      "                                                                            observed_trajectory.timepoints, \n",
      "                                                                            [observed_trajectory]) "
     ],
     "language": "python",
     "metadata": {},
     "outputs": [],
     "prompt_number": "*"
    },
    {
     "cell_type": "code",
     "collapsed": false,
     "input": [
      "multiple_inference_result = inference_with_restarts.infer()"
     ],
     "language": "python",
     "metadata": {},
     "outputs": [],
     "prompt_number": "*"
    },
    {
     "cell_type": "code",
     "collapsed": false,
     "input": [
      "multiple_inference_result.best.plot(plot_intermediate_solutions=True)"
     ],
     "language": "python",
     "metadata": {},
     "outputs": [],
     "prompt_number": "*"
    },
    {
     "cell_type": "code",
     "collapsed": false,
     "input": [
      "multiple_inference_result.plot()"
     ],
     "language": "python",
     "metadata": {},
     "outputs": [],
     "prompt_number": "*"
    },
    {
     "cell_type": "code",
     "collapsed": false,
     "input": [],
     "language": "python",
     "metadata": {},
     "outputs": [],
     "prompt_number": "*"
    }
   ],
   "metadata": {}
  }
 ]
}
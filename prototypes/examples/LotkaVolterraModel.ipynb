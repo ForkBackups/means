{
 "metadata": {
  "name": ""
 },
 "nbformat": 3,
 "nbformat_minor": 0,
 "worksheets": [
  {
   "cells": [
    {
     "cell_type": "code",
     "collapsed": false,
     "input": [
      "import means\n",
      "import numpy as np\n",
      "from means.examples.sample_models import *"
     ],
     "language": "python",
     "metadata": {},
     "outputs": [],
     "prompt_number": 41
    },
    {
     "cell_type": "code",
     "collapsed": false,
     "input": [
      "#the textbook Lotka\u2013Volterra simple predator\u2013prey model  \n",
      "#MODEL_LOTKA_VOLTERRA  =  means.Model(\n",
      "lv_model = means.Model(\n",
      "                               constants=['k_1', 'k_2', 'k_3'],\n",
      "                               species=['Pred', 'Prey'],\n",
      "                               propensities=['k_1 * Prey',\n",
      "                                             'k_2 * Pred * Prey',\n",
      "                                             'k_3 * Pred'],\n",
      "                               stoichiometry_matrix=[[0, +1, -1],\n",
      "                                                     [+1, -1, 0]])"
     ],
     "language": "python",
     "metadata": {},
     "outputs": [],
     "prompt_number": 42
    },
    {
     "cell_type": "code",
     "collapsed": false,
     "input": [
      "problem = means.approximation.MomentExpansionApproximation(MODEL_P53 , 2).run()\n",
      "simulator = means.simulation.Simulation(problem)\n"
     ],
     "language": "python",
     "metadata": {},
     "outputs": [],
     "prompt_number": 43
    },
    {
     "cell_type": "code",
     "collapsed": false,
     "input": [
      "\n",
      "timepoints = np.arange(0, 20, 0.1)\n",
      "# k_1, k_2 and k_3 for prey birth, predation and predator death, respectively\n",
      "constant_values = [0.1, 0.2, 0.3] \n",
      "# 100 predators and 1000 preys to start with\n",
      "initial_conditions = [100, 1000]"
     ],
     "language": "python",
     "metadata": {},
     "outputs": [],
     "prompt_number": 46
    },
    {
     "cell_type": "code",
     "collapsed": false,
     "input": [
      "_,trajectories = simulator.simulate_system(constant_values, initial_conditions, timepoints)"
     ],
     "language": "python",
     "metadata": {},
     "outputs": [
      {
       "ename": "TypeError",
       "evalue": "simulate_system() takes exactly 4 arguments (1 given)",
       "output_type": "pyerr",
       "traceback": [
        "\u001b[1;31m---------------------------------------------------------------------------\u001b[0m\n\u001b[1;31mTypeError\u001b[0m                                 Traceback (most recent call last)",
        "\u001b[1;32m<ipython-input-49-699231df5de7>\u001b[0m in \u001b[0;36m<module>\u001b[1;34m()\u001b[0m\n\u001b[1;32m----> 1\u001b[1;33m \u001b[0msimulator\u001b[0m\u001b[1;33m.\u001b[0m\u001b[0msimulate_system\u001b[0m\u001b[1;33m(\u001b[0m\u001b[1;33m)\u001b[0m\u001b[1;33m\u001b[0m\u001b[0m\n\u001b[0m\u001b[0;32m      2\u001b[0m \u001b[1;31m#trajectories = simulator.simulate_system(constant_values, initial_conditions, timepoints)\u001b[0m\u001b[1;33m\u001b[0m\u001b[1;33m\u001b[0m\u001b[0m\n",
        "\u001b[1;31mTypeError\u001b[0m: simulate_system() takes exactly 4 arguments (1 given)"
       ]
      }
     ],
     "prompt_number": 49
    },
    {
     "cell_type": "code",
     "collapsed": false,
     "input": [],
     "language": "python",
     "metadata": {},
     "outputs": []
    }
   ],
   "metadata": {}
  }
 ]
}
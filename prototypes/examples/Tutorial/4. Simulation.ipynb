{
 "metadata": {
  "name": ""
 },
 "nbformat": 3,
 "nbformat_minor": 0,
 "worksheets": [
  {
   "cells": [
    {
     "cell_type": "code",
     "collapsed": false,
     "input": [
      "%pylab inline"
     ],
     "language": "python",
     "metadata": {},
     "outputs": [
      {
       "output_type": "stream",
       "stream": "stdout",
       "text": [
        "Populating the interactive namespace from numpy and matplotlib\n"
       ]
      },
      {
       "output_type": "stream",
       "stream": "stdout",
       "text": [
        "Populating the interactive namespace from numpy and matplotlib\n"
       ]
      }
     ],
     "prompt_number": 2
    },
    {
     "cell_type": "code",
     "collapsed": false,
     "input": [
      "import means\n",
      "my_model = means.Model(constants=['c_0', 'c_1', 'c_2', 'c_3', 'c_4', 'c_5', 'c_6'],\n",
      "                  species=['y_0', 'y_1', 'y_2'],\n",
      "                  stoichiometry_matrix=[[1, -1, -1, 0, 0, 0],\n",
      "                                        [0, 0, 0, 1, -1, 0],\n",
      "                                        [0, 0, 0, 0, 1, -1]],\n",
      "                  propensities=['c_0',\n",
      "                                'c_1*y_0',\n",
      "                                'c_2*y_2*y_0/(y_0+c_6)',\n",
      "                                'c_3*y_0',\n",
      "                                'c_4*y_1',\n",
      "                                'c_5*y_2'])\n",
      "ode_logn = means.mea_approximation(my_model, 3, closure='log-normal', multivariate=True)"
     ],
     "language": "python",
     "metadata": {},
     "outputs": [],
     "prompt_number": 5
    },
    {
     "cell_type": "markdown",
     "metadata": {},
     "source": [
      "In the previous tutorials, we have shown how to use LNA or MEA to generate systems of ODEs (i.e. a problem) describing the temporal evolution of models.\n",
      "In order to study the behaviour of a system, it is necessary to solve the ODEs."
     ]
    },
    {
     "cell_type": "markdown",
     "metadata": {},
     "source": [
      "`MEANS` package supports all ODE solvers available in `Assimulo`.\n",
      "Available solvers can be listed as follow:"
     ]
    },
    {
     "cell_type": "code",
     "collapsed": false,
     "input": [
      "means.Simulation.supported_solvers()"
     ],
     "language": "python",
     "metadata": {},
     "outputs": [
      {
       "metadata": {},
       "output_type": "pyout",
       "prompt_number": 6,
       "text": [
        "['cvode',\n",
        " 'dopri5',\n",
        " 'euler',\n",
        " 'lsodar',\n",
        " 'ode15s',\n",
        " 'radau5',\n",
        " 'rodas',\n",
        " 'rungekutta34',\n",
        " 'rungekutta4']"
       ]
      }
     ],
     "prompt_number": 6
    },
    {
     "cell_type": "markdown",
     "metadata": {},
     "source": [
      "`ode15s` is the default solver. Simulation have many optional arguments, and it might be wise to read both ``MEANS`` and ``Assimulo`` documentations before starting serious work with th solvers.\n",
      "Here, for instance, we use `cvode` with the default options:"
     ]
    },
    {
     "cell_type": "code",
     "collapsed": false,
     "input": [
      "simulator = means.Simulation(ode_logn, solver='cvode')"
     ],
     "language": "python",
     "metadata": {},
     "outputs": [],
     "prompt_number": 7
    },
    {
     "cell_type": "markdown",
     "metadata": {},
     "source": [
      "In addition, some solvers support sensitivity analysis. To perform sensitivity analysis, a `SimulationWithSensitivities` must be created instead of a `Simulation`:"
     ]
    },
    {
     "cell_type": "code",
     "collapsed": false,
     "input": [
      "sensitivity = means.simulation.SimulationWithSensitivities(ode_logn, solver='ode15s')"
     ],
     "language": "python",
     "metadata": {},
     "outputs": [],
     "prompt_number": 20
    },
    {
     "cell_type": "markdown",
     "metadata": {},
     "source": [
      "In both cases, additional informations must be provided before simulation:\n",
      "\n",
      "* values for the *constants*/parameters of the models (typically, $[c_0, ... ,c_n]$)\n",
      "* values for the *initial conditions* (amount of each species at starting time of the simulation)\n",
      "* A *time range* specifying at which time the simulation starts (typically, $t=0$), stops, and the time step.\n",
      "\n",
      "See section 1 for information about constants and species.\n",
      "\n",
      "Let us try a simulation of the above problem (p53 model):"
     ]
    },
    {
     "cell_type": "code",
     "collapsed": false,
     "input": [
      "import numpy as np\n",
      "constants = [90, 0.002, 1.7, 1.1, 0.93, 0.96, 0.01]\n",
      "initial_conditions = [70, 30, 60]\n",
      "time = np.arange(0, 100, 0.01)\n",
      "trajectories = simulator.simulate_system(constants, initial_conditions, time)"
     ],
     "language": "python",
     "metadata": {},
     "outputs": [],
     "prompt_number": 15
    },
    {
     "cell_type": "markdown",
     "metadata": {},
     "source": [
      "The resulting trajectories are the values of each modelled moment for all time points point in the time range.\n",
      "In the next tutorial, we will show how to use and plot trajectories."
     ]
    }
   ],
   "metadata": {}
  }
 ]
}
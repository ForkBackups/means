{
 "metadata": {
  "name": ""
 },
 "nbformat": 3,
 "nbformat_minor": 0,
 "worksheets": [
  {
   "cells": [
    {
     "cell_type": "code",
     "collapsed": false,
     "input": [
      "%pylab inline\n",
      "import means\n",
      "MODEL_P53 = means.Model(constants=['c_0', 'c_1', 'c_2', 'c_3', 'c_4', 'c_5', 'c_6'],\n",
      "                  species=['y_0', 'y_1', 'y_2'],\n",
      "                  stoichiometry_matrix=[[1, -1, -1, 0, 0, 0],\n",
      "                                        [0, 0, 0, 1, -1, 0],\n",
      "                                        [0, 0, 0, 0, 1, -1]],\n",
      "                  propensities=['c_0',\n",
      "                                'c_1*y_0',\n",
      "                                'c_2*y_2*y_0/(y_0+c_6)',\n",
      "                                'c_3*y_0',\n",
      "                                'c_4*y_1',\n",
      "                                'c_5*y_2'])\n",
      "ode_logn = means.mea_approximation(MODEL_P53, 3, closure='log-normal', multivariate=True)"
     ],
     "language": "python",
     "metadata": {},
     "outputs": [
      {
       "output_type": "stream",
       "stream": "stdout",
       "text": [
        "Populating the interactive namespace from numpy and matplotlib\n"
       ]
      }
     ],
     "prompt_number": 5
    },
    {
     "cell_type": "markdown",
     "metadata": {},
     "source": [
      "Once the ODE problems are generated with either LNA or MEA method, the user can study the system behaviour by solving the ODEs. The method, i.e. LNA or MEA,  is taken into account in simulation as they are solved differently."
     ]
    },
    {
     "cell_type": "markdown",
     "metadata": {},
     "source": [
      "`MEANS` package supports all ODE solvers available in `Assimulo` package, which can be viewed as below."
     ]
    },
    {
     "cell_type": "code",
     "collapsed": false,
     "input": [
      "means.Simulation.supported_solvers()"
     ],
     "language": "python",
     "metadata": {},
     "outputs": [
      {
       "metadata": {},
       "output_type": "pyout",
       "prompt_number": 12,
       "text": [
        "['cvode',\n",
        " 'dopri5',\n",
        " 'euler',\n",
        " 'lsodar',\n",
        " 'ode15s',\n",
        " 'radau5',\n",
        " 'rodas',\n",
        " 'rungekutta34',\n",
        " 'rungekutta4']"
       ]
      }
     ],
     "prompt_number": 12
    },
    {
     "cell_type": "markdown",
     "metadata": {},
     "source": [
      "Among these solvers, `ode15s` is the default, and simulation with it will only require the ODE problems. Otherwise, the solver should be stated as an additional input."
     ]
    },
    {
     "cell_type": "code",
     "collapsed": false,
     "input": [
      "simulator = means.Simulation(ode_logn, solver='cvode')"
     ],
     "language": "python",
     "metadata": {},
     "outputs": [],
     "prompt_number": 14
    },
    {
     "cell_type": "markdown",
     "metadata": {},
     "source": [
      "In addition, `MEANS` can perform simulation along with sensitivity analysis using another function with the same function parameters."
     ]
    },
    {
     "cell_type": "code",
     "collapsed": false,
     "input": [
      "sensitivity = means.simulation.SimulationWithSensitivities(ode_logn, solver='ode15s')"
     ],
     "language": "python",
     "metadata": {},
     "outputs": [],
     "prompt_number": 20
    },
    {
     "cell_type": "markdown",
     "metadata": {},
     "source": [
      "The trajectories showing the variation in concentration of each reactant within the defined time can be generated based on the simulation. Apart from the simulation, initial conditions, constant values and time points should also be given."
     ]
    },
    {
     "cell_type": "markdown",
     "metadata": {},
     "source": [
      "The constant values are the values for c_0 to c_n, and the initial conditions are the starting concentrations of all the species (See Sec. 1 for constants and species). For SBML biomodels, constant values and initial conditions are given as parameter values and species initial amounts, respectively. The `p53` model is assigned with the following values."
     ]
    },
    {
     "cell_type": "code",
     "collapsed": false,
     "input": [
      "import numpy as np\n",
      "constants = [90, 0.002, 1.7, 1.1, 0.93, 0.96, 0.01]\n",
      "initial_conditions = [70, 30, 60]\n",
      "time = np.arange(0, 100, 0.01)\n",
      "Trajectory = simulator.simulate_system(constants, initial_conditions, time)"
     ],
     "language": "python",
     "metadata": {},
     "outputs": [],
     "prompt_number": 15
    }
   ],
   "metadata": {}
  }
 ]
}
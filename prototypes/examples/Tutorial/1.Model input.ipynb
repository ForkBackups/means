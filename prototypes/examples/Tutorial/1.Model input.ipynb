{
 "metadata": {
  "name": ""
 },
 "nbformat": 3,
 "nbformat_minor": 0,
 "worksheets": [
  {
   "cells": [
    {
     "cell_type": "code",
     "collapsed": false,
     "input": [
      "%pylab inline"
     ],
     "language": "python",
     "metadata": {},
     "outputs": [
      {
       "output_type": "stream",
       "stream": "stdout",
       "text": [
        "Populating the interactive namespace from numpy and matplotlib\n"
       ]
      }
     ],
     "prompt_number": 10
    },
    {
     "cell_type": "markdown",
     "metadata": {},
     "source": [
      "This tutorial describes a way biological systems could be modelled using `MEANS` package."
     ]
    },
    {
     "cell_type": "markdown",
     "metadata": {},
     "source": [
      "In this example we will consider a simplified version of tumor-supressor protein *p53* system, as described in  [citation needed], which is as a system of three proteins: *p53*, *Mdm2 precursor* and *Mdm2*. \n",
      "\n",
      "The system we are considering can be described by the following reactions:"
     ]
    },
    {
     "cell_type": "markdown",
     "metadata": {},
     "source": [
      "\\begin{align*}\n",
      "p53 production && \\rightarrow p53 \\\\\n",
      "Mdm2 independent p53 degradation && p53 \\rightarrow \\emptyset \\\\\n",
      "Mdm2 dependent p53 degradation && p53 \\rightarrow Mdm2 \\\\\n",
      "p53 dependent Mdm2 production && Mdm2_{precursor} \\rightarrow p532 \\\\\n",
      "Mdm2 synthesis from precursor && Mdm2_{precursor} \\rightarrow Mdm2 \\\\\n",
      "Mdm2 degradation && Mdm2 \\leftrightarrow \\emptyset \\\\\n",
      "\\end{align*}"
     ]
    },
    {
     "cell_type": "markdown",
     "metadata": {},
     "source": [
      "To mathematically model the system behaviour, firstly, let's alias our three proteins as $y_0$, $y_1$ and $y_2$ respectively, to make the mathematical equations easier to work with.\n",
      "\n",
      "In python, this can be done with the help of ``sympy`` package:"
     ]
    },
    {
     "cell_type": "code",
     "collapsed": false,
     "input": [
      "import sympy\n",
      "species = sympy.symbols(['y_0', 'y_1', 'y_2'])\n",
      "print species"
     ],
     "language": "python",
     "metadata": {},
     "outputs": [
      {
       "output_type": "stream",
       "stream": "stdout",
       "text": [
        "[y_0, y_1, y_2]\n"
       ]
      }
     ],
     "prompt_number": 11
    },
    {
     "cell_type": "markdown",
     "metadata": {},
     "source": [
      "From the reactions above, we can directly read the <a href=\"http://en.wikipedia.org/wiki/Stoichiometry#Stoichiometry_matrix\">stoichiometry matrix</a> using the common procedures described.\n",
      "The stoichiometry matrix for this model is given below\n",
      "\n",
      "$$\n",
      "S = \\left( \\begin{array}{ccc}\n",
      "1 & -1 & -1 & 0 & 0 & 0\\\\\n",
      "0 & 0 & 0 & 1 & -1 & 0\\\\\n",
      "0 & 0 & 0 & 0 & 1 & -1 \\end{array} \\right)\n",
      "$$\n",
      "\n",
      "We can use ``numpy`` ``array`` to encode this matrix in python, for instance:"
     ]
    },
    {
     "cell_type": "code",
     "collapsed": false,
     "input": [
      "import numpy as np\n",
      "stoichiometry_matrix = np.array([[1, -1, -1, 0, 0, 0],\n",
      "                                  [0, 0, 0, 1, -1, 0],\n",
      "                                  [0, 0, 0, 0, 1, -1]])\n",
      "print stoichiometry_matrix"
     ],
     "language": "python",
     "metadata": {},
     "outputs": [
      {
       "output_type": "stream",
       "stream": "stdout",
       "text": [
        "[[ 1 -1 -1  0  0  0]\n",
        " [ 0  0  0  1 -1  0]\n",
        " [ 0  0  0  0  1 -1]]\n"
       ]
      }
     ],
     "prompt_number": 12
    },
    {
     "cell_type": "markdown",
     "metadata": {},
     "source": [
      "Stoichiometry matrix only gives us the counts of reactants and reaction products, in order to perform some useful simulation with them, we need to first define the propensities."
     ]
    },
    {
     "cell_type": "markdown",
     "metadata": {},
     "source": [
      "Using this notation, the propensities (rates of reactions) of the `p53` model are:\n",
      "    \n",
      "$$\n",
      "\\begin{align*}\n",
      "a_0 &= c_0 \\\\\n",
      "a_1 &= c_1 y_0\\\\\n",
      "a_2 &= \\frac{c_2 y_2 y_0}{(y_0+c_6)}\\\\\n",
      "a_3 &= c_3 y_0\\\\\n",
      "a_4 &= c_4 y_1\\\\\n",
      "a_5 &= c_5 y_2\\\\\n",
      "\\end{align*}\n",
      "$$\n",
      ",where $c_0$ is the *p53* production rate, $c_1$ is the *Mdm2*-independent *p53* degradation rate, $c_2$ is the saturation *p53* degradation rate, $c_3$ is the *p53*-dependent *Mdm2* production rate, $c_4$ is the *Mdm2* maturation rate, and $c_5$ is the *Mdm2* degradation rate.     "
     ]
    },
    {
     "cell_type": "markdown",
     "metadata": {},
     "source": [
      "In Python, we need to explicitly note the constant parameters of the model using `sympy` package:"
     ]
    },
    {
     "cell_type": "code",
     "collapsed": false,
     "input": [
      "constants = sympy.symbols(['c_0', 'c_1', 'c_2', 'c_3', 'c_4', 'c_5', 'c_6'])"
     ],
     "language": "python",
     "metadata": {},
     "outputs": [],
     "prompt_number": 13
    },
    {
     "cell_type": "markdown",
     "metadata": {},
     "source": [
      "We can again describe these structures in Python. \n",
      "To do this, we drop the left-hand-side of equations ($a_0$, ..., $a_5$) and create a python list (or, alternatively, ``sympy.Matrix`` of the right-hand-sides)."
     ]
    },
    {
     "cell_type": "code",
     "collapsed": false,
     "input": [
      "propensities=['c_0',\n",
      "              'c_1*y_0',\n",
      "              'c_2*y_2*y_0/(y_0+c_6)',\n",
      "              'c_3*y_0',\n",
      "              'c_4*y_1',\n",
      "              'c_5*y_2']\n",
      "print propensities"
     ],
     "language": "python",
     "metadata": {},
     "outputs": [
      {
       "output_type": "stream",
       "stream": "stdout",
       "text": [
        "['c_0', 'c_1*y_0', 'c_2*y_2*y_0/(y_0+c_6)', 'c_3*y_0', 'c_4*y_1', 'c_5*y_2']\n"
       ]
      }
     ],
     "prompt_number": 14
    },
    {
     "cell_type": "markdown",
     "metadata": {},
     "source": [
      "We now have everything ready to be able to create a MEANS model object."
     ]
    },
    {
     "cell_type": "markdown",
     "metadata": {},
     "source": [
      "First let's import the `MEANS` package"
     ]
    },
    {
     "cell_type": "code",
     "collapsed": false,
     "input": [
      "import means"
     ],
     "language": "python",
     "metadata": {},
     "outputs": [],
     "prompt_number": 15
    },
    {
     "cell_type": "markdown",
     "metadata": {},
     "source": [
      "The ``means.Model`` constructor takes the list of constants, the list of species, the propensities and the stoichiometry matrix in that order."
     ]
    },
    {
     "cell_type": "code",
     "collapsed": false,
     "input": [
      "model = means.Model(constants, species, propensities, stoichiometry_matrix)"
     ],
     "language": "python",
     "metadata": {},
     "outputs": [],
     "prompt_number": 16
    },
    {
     "cell_type": "markdown",
     "metadata": {},
     "source": [
      "The model created should be the same as described earlier [TODO]:"
     ]
    },
    {
     "cell_type": "code",
     "collapsed": false,
     "input": [
      "model"
     ],
     "language": "python",
     "metadata": {},
     "outputs": [
      {
       "latex": [
        "\\begin{align*}\n",
        "\\text{Species} &= \\begin{bmatrix}y_{0}, & y_{1}, & y_{2}\\end{bmatrix} \\\\\n",
        "\\text{Constants} &= \\begin{bmatrix}c_{0}, & c_{1}, & c_{2}, & c_{3}, & c_{4}, & c_{5}, & c_{6}\\end{bmatrix} \\\\\n",
        "\\text{Stoichiometry matrix} &= \\left[\\begin{matrix}1 & -1 & -1 & 0 & 0 & 0\\\\0 & 0 & 0 & 1 & -1 & 0\\\\0 & 0 & 0 & 0 & 1 & -1\\end{matrix}\\right] \\\\\n",
        "\\text{Propensities} &= \\left[\\begin{matrix}c_{0}\\\\c_{1} y_{0}\\\\\\frac{c_{2} y_{0} y_{2}}{c_{6} + y_{0}}\\\\c_{3} y_{0}\\\\c_{4} y_{1}\\\\c_{5} y_{2}\\end{matrix}\\right] \\\\\n",
        "\\end{align*}"
       ],
       "metadata": {},
       "output_type": "pyout",
       "prompt_number": 17,
       "text": [
        "<class 'means.core.model.Model'>\n",
        "Species: [y_0, y_1, y_2]\n",
        "Constants: [c_0, c_1, c_2, c_3, c_4, c_5, c_6]\n",
        "\n",
        "Stoichiometry matrix:\n",
        "Matrix([\n",
        "[1, -1, -1, 0,  0,  0],\n",
        "[0,  0,  0, 1, -1,  0],\n",
        "[0,  0,  0, 0,  1, -1]])\n",
        "\n",
        "Propensities:\n",
        "Matrix([\n",
        "[                    c_0],\n",
        "[                c_1*y_0],\n",
        "[c_2*y_0*y_2/(c_6 + y_0)],\n",
        "[                c_3*y_0],\n",
        "[                c_4*y_1],\n",
        "[                c_5*y_2]])"
       ]
      }
     ],
     "prompt_number": 17
    },
    {
     "cell_type": "markdown",
     "metadata": {},
     "source": [
      "If the $\\LaTeX$ notation seems to be too convoluted, the pythonic representation of model can be viewed using ``print``."
     ]
    },
    {
     "cell_type": "code",
     "collapsed": false,
     "input": [
      "print model"
     ],
     "language": "python",
     "metadata": {},
     "outputs": [
      {
       "output_type": "stream",
       "stream": "stdout",
       "text": [
        "<class 'means.core.model.Model'>\n",
        "Species: [y_0, y_1, y_2]\n",
        "Constants: [c_0, c_1, c_2, c_3, c_4, c_5, c_6]\n",
        "\n",
        "Stoichiometry matrix:\n",
        "Matrix([\n",
        "[1, -1, -1, 0,  0,  0],\n",
        "[0,  0,  0, 1, -1,  0],\n",
        "[0,  0,  0, 0,  1, -1]])\n",
        "\n",
        "Propensities:\n",
        "Matrix([\n",
        "[                    c_0],\n",
        "[                c_1*y_0],\n",
        "[c_2*y_0*y_2/(c_6 + y_0)],\n",
        "[                c_3*y_0],\n",
        "[                c_4*y_1],\n",
        "[                c_5*y_2]])\n"
       ]
      }
     ],
     "prompt_number": 18
    },
    {
     "cell_type": "markdown",
     "metadata": {},
     "source": [
      "The attributes for each of the elements in the model can be accessed directly as well:"
     ]
    },
    {
     "cell_type": "code",
     "collapsed": false,
     "input": [
      "print model.species\n",
      "print model.constants\n",
      "print model.stoichiometry_matrix\n",
      "print model.propensities"
     ],
     "language": "python",
     "metadata": {},
     "outputs": [
      {
       "output_type": "stream",
       "stream": "stdout",
       "text": [
        "[y_0, y_1, y_2]\n",
        "[c_0, c_1, c_2, c_3, c_4, c_5, c_6]\n",
        "Matrix([[1, -1, -1, 0, 0, 0], [0, 0, 0, 1, -1, 0], [0, 0, 0, 0, 1, -1]])\n",
        "Matrix([[c_0], [c_1*y_0], [c_2*y_0*y_2/(c_6 + y_0)], [c_3*y_0], [c_4*y_1], [c_5*y_2]])\n"
       ]
      }
     ],
     "prompt_number": 19
    },
    {
     "cell_type": "markdown",
     "metadata": {},
     "source": [
      "More complicated biological models can be parsed from SBML files (see [biomodels repository](http://www.ebi.ac.uk/biomodels-main/) for a couple examples)"
     ]
    },
    {
     "cell_type": "code",
     "collapsed": false,
     "input": [
      "!wget https://www.ebi.ac.uk/biomodels-main/download?mid=BIOMD0000000125.xml"
     ],
     "language": "python",
     "metadata": {},
     "outputs": [
      {
       "output_type": "stream",
       "stream": "stdout",
       "text": [
        "--2014-03-11 11:27:43--  https://www.ebi.ac.uk/biomodels-main/download?mid=BIOMD0000000125.xml\r\n"
       ]
      },
      {
       "output_type": "stream",
       "stream": "stdout",
       "text": [
        "Resolving www.ebi.ac.uk... 193.62.192.80\r\n",
        "Connecting to www.ebi.ac.uk|193.62.192.80|:443... connected.\r\n",
        "HTTP request sent, awaiting response... "
       ]
      },
      {
       "output_type": "stream",
       "stream": "stdout",
       "text": [
        "200 OK\r\n",
        "Length: 15515 (15K) [text/html]\r\n",
        "Saving to: 'download?mid=BIOMD0000000125.xml'\r\n",
        "\r\n",
        "\r",
        " 0% [                                       ] 0           --.-K/s              \r",
        "100%[======================================>] 15,515      --.-K/s   in 0.008s  \r\n",
        "\r\n",
        "2014-03-11 11:27:43 (1.90 MB/s) - 'download?mid=BIOMD0000000125.xml' saved [15515/15515]\r\n",
        "\r\n"
       ]
      }
     ],
     "prompt_number": 25
    },
    {
     "cell_type": "markdown",
     "metadata": {},
     "source": [
      "The model in xml format is saved in the current directory and can be parsed into the `MEANS` format using ``means.io.read_sbml`` function. When parsing the SBML format, compartments of species are neglected, as the species names are compartment-specific[citation - SBML documentation]"
     ]
    },
    {
     "cell_type": "code",
     "collapsed": false,
     "input": [
      "%cd ../../sbml\n",
      "model_autoreg = means.io.read_sbml('autoreg-3-1.xml')\n",
      "model_autoreg"
     ],
     "language": "python",
     "metadata": {},
     "outputs": [
      {
       "output_type": "stream",
       "stream": "stdout",
       "text": [
        "/Users/user/MScProj1/prototypes/sbml\n"
       ]
      },
      {
       "latex": [
        "\\begin{align*}\n",
        "\\text{Species} &= \\begin{bmatrix}Gene, & P2Gene, & Rna, & P, & P_{2}\\end{bmatrix} \\\\\n",
        "\\text{Constants} &= \\begin{bmatrix}k_{1}, & k1r, & k_{2}, & k_{3}, & k_{4}, & k4r, & k_{5}, & k_{6}\\end{bmatrix} \\\\\n",
        "\\text{Stoichiometry matrix} &= \\left[\\begin{matrix}-1 & 1 & 0 & 0 & 0 & 0 & 0 & 0\\\\1 & -1 & 0 & 0 & 0 & 0 & 0 & 0\\\\0 & 0 & 1 & 0 & 0 & 0 & -1 & 0\\\\0 & 0 & 0 & 1 & -2 & 2 & 0 & -1\\\\-1 & 1 & 0 & 0 & 1 & -1 & 0 & 0\\end{matrix}\\right] \\\\\n",
        "\\text{Propensities} &= \\left[\\begin{matrix}Gene P_{2} k_{1}\\\\P2Gene k1r\\\\Gene k_{2}\\\\Rna k_{3}\\\\0.5 P k_{4} \\left(P - 1\\right)\\\\P_{2} k4r\\\\Rna k_{5}\\\\P k_{6}\\end{matrix}\\right] \\\\\n",
        "\\end{align*}"
       ],
       "metadata": {},
       "output_type": "pyout",
       "prompt_number": 32,
       "text": [
        "<class 'means.core.model.Model'>\n",
        "Species: [Gene, P2Gene, Rna, P, P2]\n",
        "Constants: [k1, k1r, k2, k3, k4, k4r, k5, k6]\n",
        "\n",
        "Stoichiometry matrix:\n",
        "Matrix([\n",
        "[-1,  1, 0, 0,  0,  0,  0,  0],\n",
        "[ 1, -1, 0, 0,  0,  0,  0,  0],\n",
        "[ 0,  0, 1, 0,  0,  0, -1,  0],\n",
        "[ 0,  0, 0, 1, -2,  2,  0, -1],\n",
        "[-1,  1, 0, 0,  1, -1,  0,  0]])\n",
        "\n",
        "Propensities:\n",
        "Matrix([\n",
        "[      Gene*P2*k1],\n",
        "[      P2Gene*k1r],\n",
        "[         Gene*k2],\n",
        "[          Rna*k3],\n",
        "[0.5*P*k4*(P - 1)],\n",
        "[          P2*k4r],\n",
        "[          Rna*k5],\n",
        "[            P*k6]])"
       ]
      }
     ],
     "prompt_number": 32
    },
    {
     "cell_type": "markdown",
     "metadata": {},
     "source": []
    }
   ],
   "metadata": {}
  }
 ]
}
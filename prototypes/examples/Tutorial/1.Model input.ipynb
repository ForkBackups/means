{
 "metadata": {
  "name": ""
 },
 "nbformat": 3,
 "nbformat_minor": 0,
 "worksheets": [
  {
   "cells": [
    {
     "cell_type": "code",
     "collapsed": false,
     "input": [
      "%pylab inline"
     ],
     "language": "python",
     "metadata": {},
     "outputs": [
      {
       "output_type": "stream",
       "stream": "stdout",
       "text": [
        "Populating the interactive namespace from numpy and matplotlib\n"
       ]
      }
     ],
     "prompt_number": 25
    },
    {
     "cell_type": "markdown",
     "metadata": {},
     "source": [
      "This tutorial describes a way biological systems could be modelled using `MEANS` package."
     ]
    },
    {
     "cell_type": "markdown",
     "metadata": {},
     "source": [
      "In this example we will consider a simplified version of tumor-supressor protein *p53* system, as described in  [citation needed], which is as a system of three proteins: *p53*, *Mdm2 precursor* and *Mdm2*. \n",
      "\n",
      "The system we are considering can be described by the following reactions:"
     ]
    },
    {
     "cell_type": "markdown",
     "metadata": {},
     "source": [
      "\\begin{align*}\n",
      "p53~production~&&~\\rightarrow p53 \\\\\n",
      "Mdm2~independent~p53~degradation && p53 \\rightarrow \\emptyset \\\\\n",
      "Mdm2~dependent~p53~degradation && p53 \\rightarrow Mdm2 \\\\\n",
      "p53~dependent~Mdm2~production && Mdm2_{precursor} \\rightarrow p532 \\\\\n",
      "Mdm2~synthesis~from~precursor && Mdm2_{precursor} \\rightarrow Mdm2 \\\\\n",
      "Mdm2~degradation && Mdm2 \\leftrightarrow \\emptyset \\\\\n",
      "\\end{align*}"
     ]
    },
    {
     "cell_type": "markdown",
     "metadata": {},
     "source": [
      "In principle, we could use the protein names as species names in the model, but, for conveniance, we replace $p53$, $Mdm2_{precursor}$ and $Mdm2$ with $y_0$, $y_1$ and $y_2$, respectively.\n",
      "\n",
      "In python, this can be done by building ``sympy`` symbols for species:"
     ]
    },
    {
     "cell_type": "code",
     "collapsed": false,
     "input": [
      "import sympy\n",
      "species = sympy.symbols(['y_0', 'y_1', 'y_2'])\n",
      "print species"
     ],
     "language": "python",
     "metadata": {},
     "outputs": [
      {
       "output_type": "stream",
       "stream": "stdout",
       "text": [
        "[y_0, y_1, y_2]\n"
       ]
      }
     ],
     "prompt_number": 26
    },
    {
     "cell_type": "markdown",
     "metadata": {},
     "source": [
      "From the reactions above, we can directly derive the <a href=\"http://en.wikipedia.org/wiki/Stoichiometry#Stoichiometry_matrix\">stoichiometry matrix</a>:\n",
      "\n",
      "$$\n",
      "S = \\left( \\begin{array}{ccc}\n",
      "+1 & -1 & -1 & 0 & 0 & 0\\\\\n",
      "0 & 0 & 0 & +1 & -1 & 0\\\\\n",
      "0 & 0 & 0 & 0 & +1 & -1 \\end{array} \\right)\n",
      "$$\n",
      "\n",
      "We can use ``numpy`` ``array`` to encode this matrix in python, for instance:"
     ]
    },
    {
     "cell_type": "code",
     "collapsed": false,
     "input": [
      "import numpy as np\n",
      "stoichiometry_matrix = np.array([[1, -1, -1, 0, 0, 0],\n",
      "                                  [0, 0, 0, 1, -1, 0],\n",
      "                                  [0, 0, 0, 0, 1, -1]])\n",
      "print stoichiometry_matrix"
     ],
     "language": "python",
     "metadata": {},
     "outputs": [
      {
       "output_type": "stream",
       "stream": "stdout",
       "text": [
        "[[ 1 -1 -1  0  0  0]\n",
        " [ 0  0  0  1 -1  0]\n",
        " [ 0  0  0  0  1 -1]]\n"
       ]
      }
     ],
     "prompt_number": 27
    },
    {
     "cell_type": "markdown",
     "metadata": {},
     "source": [
      "In addition to the stoichiometry matrix, which only gives the net production of species in each reaction, the propensities need to be defined for each reactions. Importantly, **stochatic** propensities (as opposed to deterministic rates) must be provided."
     ]
    },
    {
     "cell_type": "markdown",
     "metadata": {},
     "source": [
      "Using this notation, the propensities of the `p53` model are:\n",
      "    \n",
      "$$\n",
      "\\begin{align*}\n",
      "a_0 &= c_0 \\\\\n",
      "a_1 &= c_1 y_0\\\\\n",
      "a_2 &= \\frac{c_2 y_2 y_0}{(y_0+c_6)}\\\\\n",
      "a_3 &= c_3 y_0\\\\\n",
      "a_4 &= c_4 y_1\\\\\n",
      "a_5 &= c_5 y_2\\\\\n",
      "\\end{align*}\n",
      "$$\n",
      "\n",
      ",where: \n",
      "\n",
      "* $c_0$ is the *p53* production rate,\n",
      "* $c_1$ is the *Mdm2*-independent *p53* degradation rate,\n",
      "* $c_2$ is the saturation *p53* degradation rate\n",
      "* $c_3$ is the *p53*-dependent *Mdm2* production rate,\n",
      "* $c_4$ is the *Mdm2* maturation rate,\n",
      "* $c_5$ is the *Mdm2* degradation rate.     \n",
      "* and $c_6$ is the *53* threshold for degradation by *Mdm2*.\n"
     ]
    },
    {
     "cell_type": "markdown",
     "metadata": {},
     "source": [
      "In Python, we need to explicitly note the constant parameters of the model using `sympy` package:"
     ]
    },
    {
     "cell_type": "code",
     "collapsed": false,
     "input": [
      "parameters = sympy.symbols(\n",
      "            ['c_0', 'c_1', 'c_2', 'c_3', 'c_4', 'c_5', 'c_6'])\n",
      "print constants"
     ],
     "language": "python",
     "metadata": {},
     "outputs": [
      {
       "output_type": "stream",
       "stream": "stdout",
       "text": [
        "[c_0, c_1, c_2, c_3, c_4, c_5, c_6]\n"
       ]
      }
     ],
     "prompt_number": 28
    },
    {
     "cell_type": "markdown",
     "metadata": {},
     "source": [
      "We can again describe these structures in Python. \n",
      "To do this, we drop the left-hand-side of equations ($a_0$, ..., $a_5$) and create a python list (or, alternatively, a ``sympy.Matrix`` of the right-hand-sides)."
     ]
    },
    {
     "cell_type": "code",
     "collapsed": false,
     "input": [
      "propensities=['c_0',\n",
      "              'c_1*y_0',\n",
      "              'c_2*y_2*y_0/(y_0+c_6)',\n",
      "              'c_3*y_0',\n",
      "              'c_4*y_1',\n",
      "              'c_5*y_2']\n",
      "print propensities"
     ],
     "language": "python",
     "metadata": {},
     "outputs": [
      {
       "output_type": "stream",
       "stream": "stdout",
       "text": [
        "['c_0', 'c_1*y_0', 'c_2*y_2*y_0/(y_0+c_6)', 'c_3*y_0', 'c_4*y_1', 'c_5*y_2']\n"
       ]
      }
     ],
     "prompt_number": 29
    },
    {
     "cell_type": "markdown",
     "metadata": {},
     "source": [
      "We now have everything ready to be able to create a MEANS model object."
     ]
    },
    {
     "cell_type": "markdown",
     "metadata": {},
     "source": [
      "First let's import the `MEANS` package"
     ]
    },
    {
     "cell_type": "code",
     "collapsed": false,
     "input": [
      "import means"
     ],
     "language": "python",
     "metadata": {},
     "outputs": [],
     "prompt_number": 30
    },
    {
     "cell_type": "markdown",
     "metadata": {},
     "source": [
      "The ``means.Model`` constructor takes the list of species, the list of parameters, the propensities and the stoichiometry matrix in that order."
     ]
    },
    {
     "cell_type": "code",
     "collapsed": false,
     "input": [
      "my_model = means.Model(species, parameters, propensities, stoichiometry_matrix)"
     ],
     "language": "python",
     "metadata": {},
     "outputs": [],
     "prompt_number": 31
    },
    {
     "cell_type": "markdown",
     "metadata": {},
     "source": [
      "The model created should be the same as described earlier:"
     ]
    },
    {
     "cell_type": "code",
     "collapsed": false,
     "input": [
      "my_model"
     ],
     "language": "python",
     "metadata": {},
     "outputs": [
      {
       "latex": [
        "\\begin{align*}\n",
        "\\text{Species} &= \\begin{bmatrix}y_{0}, & y_{1}, & y_{2}\\end{bmatrix} \\\\\n",
        "\\text{Parameters} &= \\begin{bmatrix}c_{0}, & c_{1}, & c_{2}, & c_{3}, & c_{4}, & c_{5}, & c_{6}\\end{bmatrix} \\\\\n",
        "\\text{Stoichiometry matrix} &= \\left[\\begin{matrix}1 & -1 & -1 & 0 & 0 & 0\\\\0 & 0 & 0 & 1 & -1 & 0\\\\0 & 0 & 0 & 0 & 1 & -1\\end{matrix}\\right] \\\\\n",
        "\\text{Propensities} &= \\left[\\begin{matrix}c_{0}\\\\c_{1} y_{0}\\\\\\frac{c_{2} y_{0} y_{2}}{c_{6} + y_{0}}\\\\c_{3} y_{0}\\\\c_{4} y_{1}\\\\c_{5} y_{2}\\end{matrix}\\right] \\\\\n",
        "\\end{align*}"
       ],
       "metadata": {},
       "output_type": "pyout",
       "prompt_number": 32,
       "text": [
        "<class 'means.core.model.Model'>\n",
        "Species: [y_0, y_1, y_2]\n",
        "Parameters: [c_0, c_1, c_2, c_3, c_4, c_5, c_6]\n",
        "\n",
        "Stoichiometry matrix:\n",
        "Matrix([\n",
        "[1, -1, -1, 0,  0,  0],\n",
        "[0,  0,  0, 1, -1,  0],\n",
        "[0,  0,  0, 0,  1, -1]])\n",
        "\n",
        "Propensities:\n",
        "Matrix([\n",
        "[                    c_0],\n",
        "[                c_1*y_0],\n",
        "[c_2*y_0*y_2/(c_6 + y_0)],\n",
        "[                c_3*y_0],\n",
        "[                c_4*y_1],\n",
        "[                c_5*y_2]])"
       ]
      }
     ],
     "prompt_number": 32
    },
    {
     "cell_type": "markdown",
     "metadata": {},
     "source": [
      "In addition to the $\\LaTeX$ notation, a pythonic representation of model can be displayed using ``print``."
     ]
    },
    {
     "cell_type": "code",
     "collapsed": false,
     "input": [
      "print my_model"
     ],
     "language": "python",
     "metadata": {},
     "outputs": [
      {
       "output_type": "stream",
       "stream": "stdout",
       "text": [
        "<class 'means.core.model.Model'>\n",
        "Species: [y_0, y_1, y_2]\n",
        "Parameters: [c_0, c_1, c_2, c_3, c_4, c_5, c_6]\n",
        "\n",
        "Stoichiometry matrix:\n",
        "Matrix([\n",
        "[1, -1, -1, 0,  0,  0],\n",
        "[0,  0,  0, 1, -1,  0],\n",
        "[0,  0,  0, 0,  1, -1]])\n",
        "\n",
        "Propensities:\n",
        "Matrix([\n",
        "[                    c_0],\n",
        "[                c_1*y_0],\n",
        "[c_2*y_0*y_2/(c_6 + y_0)],\n",
        "[                c_3*y_0],\n",
        "[                c_4*y_1],\n",
        "[                c_5*y_2]])\n"
       ]
      }
     ],
     "prompt_number": 33
    },
    {
     "cell_type": "markdown",
     "metadata": {},
     "source": [
      "The attributes for each of the elements in the model can be accessed directly as well:"
     ]
    },
    {
     "cell_type": "code",
     "collapsed": false,
     "input": [
      "print my_model.species\n",
      "print my_model.parameters\n",
      "print my_model.stoichiometry_matrix\n",
      "print my_model.propensities"
     ],
     "language": "python",
     "metadata": {},
     "outputs": [
      {
       "output_type": "stream",
       "stream": "stdout",
       "text": [
        "[y_0, y_1, y_2]\n",
        "[c_0, c_1, c_2, c_3, c_4, c_5, c_6]\n",
        "Matrix([[1, -1, -1, 0, 0, 0], [0, 0, 0, 1, -1, 0], [0, 0, 0, 0, 1, -1]])\n",
        "Matrix([[c_0], [c_1*y_0], [c_2*y_0*y_2/(c_6 + y_0)], [c_3*y_0], [c_4*y_1], [c_5*y_2]])\n"
       ]
      }
     ],
     "prompt_number": 34
    },
    {
     "cell_type": "markdown",
     "metadata": {},
     "source": [
      "`MEANS` already package provides a few sample models, including `MODEL_DIMERISATION`, `MODEL_MICHAELIS_MENTEN`, `MODEL_P53`, `MODEL_HES1`, AND `MODEL_LOTKA_VOLTERRA`. These models can be accesseed from `examples` submodule. Let's use `MODEL_DIMERISATION` as an example."
     ]
    },
    {
     "cell_type": "code",
     "collapsed": false,
     "input": [
      "from means.examples.sample_models import MODEL_DIMERISATION\n",
      "MODEL_DIMERISATION"
     ],
     "language": "python",
     "metadata": {},
     "outputs": [
      {
       "latex": [
        "\\begin{align*}\n",
        "\\text{Species} &= \\begin{bmatrix}y_{0}\\end{bmatrix} \\\\\n",
        "\\text{Parameters} &= \\begin{bmatrix}c_{0}, & c_{1}, & c_{2}\\end{bmatrix} \\\\\n",
        "\\text{Stoichiometry matrix} &= \\left[\\begin{matrix}-2 & 2\\end{matrix}\\right] \\\\\n",
        "\\text{Propensities} &= \\left[\\begin{matrix}c_{0} y_{0} \\left(y_{0} - 1\\right)\\\\c_{1} \\left(0.5 c_{2} - 0.5 y_{0}\\right)\\end{matrix}\\right] \\\\\n",
        "\\end{align*}"
       ],
       "metadata": {},
       "output_type": "pyout",
       "prompt_number": 35,
       "text": [
        "<class 'means.core.model.Model'>\n",
        "Species: [y_0]\n",
        "Parameters: [c_0, c_1, c_2]\n",
        "\n",
        "Stoichiometry matrix:\n",
        "Matrix([[-2, 2]])\n",
        "\n",
        "Propensities:\n",
        "Matrix([\n",
        "[      c_0*y_0*(y_0 - 1)],\n",
        "[c_1*(0.5*c_2 - 0.5*y_0)]])"
       ]
      }
     ],
     "prompt_number": 35
    },
    {
     "cell_type": "markdown",
     "metadata": {},
     "source": [
      "More complicated biological models can be parsed from SBML files (see [biomodels repository](http://www.ebi.ac.uk/biomodels-main/) for a couple examples)"
     ]
    },
    {
     "cell_type": "code",
     "collapsed": false,
     "input": [
      "!wget --quiet -N http://www.ebi.ac.uk/biomodels/models-main/publ/BIOMD0000000010/BIOMD0000000010.xml.origin"
     ],
     "language": "python",
     "metadata": {},
     "outputs": [],
     "prompt_number": 36
    },
    {
     "cell_type": "markdown",
     "metadata": {},
     "source": [
      "The model in xml format is saved in the current directory and can be parsed into the `MEANS` format using `means.io.read_sbml` function. When parsing the SBML format, compartments of species are neglected, as the species names are compartment-specific [citation - SBML documentation]. The values for the constants and initial amounts of all species are also retrieved for generating trajectories later."
     ]
    },
    {
     "cell_type": "code",
     "collapsed": false,
     "input": [
      "# Requires: libsbml\n",
      "autoreg_model, parameter_values, initial_conditions = means.io.read_sbml('BIOMD0000000010.xml.origin')"
     ],
     "language": "python",
     "metadata": {},
     "outputs": [],
     "prompt_number": 37
    },
    {
     "cell_type": "code",
     "collapsed": false,
     "input": [],
     "language": "python",
     "metadata": {},
     "outputs": [],
     "prompt_number": 37
    }
   ],
   "metadata": {}
  }
 ]
}
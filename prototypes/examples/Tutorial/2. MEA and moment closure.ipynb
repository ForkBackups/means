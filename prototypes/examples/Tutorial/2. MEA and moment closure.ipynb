{
 "metadata": {
  "name": ""
 },
 "nbformat": 3,
 "nbformat_minor": 0,
 "worksheets": [
  {
   "cells": [
    {
     "cell_type": "code",
     "collapsed": false,
     "input": [
      "%pylab inline"
     ],
     "language": "python",
     "metadata": {},
     "outputs": [
      {
       "output_type": "stream",
       "stream": "stdout",
       "text": [
        "Populating the interactive namespace from numpy and matplotlib\n"
       ]
      }
     ],
     "prompt_number": 5
    },
    {
     "cell_type": "markdown",
     "metadata": {},
     "source": [
      "Let us consider the p53 model described in the previous section:"
     ]
    },
    {
     "cell_type": "code",
     "collapsed": false,
     "input": [
      "import means\n",
      "import sympy\n",
      "import numpy as np\n",
      "MODEL_P53 = means.Model(species=['y_0', 'y_1', 'y_2'],\n",
      "                        parameters=['c_0', 'c_1', 'c_2', 'c_3', 'c_4', 'c_5', 'c_6'],\n",
      "                        stoichiometry_matrix=[[1, -1, -1, 0, 0, 0],\n",
      "                                              [0, 0, 0, 1, -1, 0],\n",
      "                                              [0, 0, 0, 0, 1, -1]],\n",
      "                        propensities=['c_0',\n",
      "                                      'c_1*y_0',\n",
      "                                      'c_2*y_2*y_0/(y_0+c_6)',\n",
      "                                      'c_3*y_0',\n",
      "                                      'c_4*y_1',\n",
      "                                      'c_5*y_2'])"
     ],
     "language": "python",
     "metadata": {},
     "outputs": [],
     "prompt_number": 6
    },
    {
     "cell_type": "heading",
     "level": 2,
     "metadata": {},
     "source": [
      "2. Moment expansion approximation (MEA) and moment closure"
     ]
    },
    {
     "cell_type": "markdown",
     "metadata": {},
     "source": [
      "MEA (Ale et al., 2013) is a method to aproximate the solution for chemical master equation by a system of ODEs. Each ODE represents the temporal derivative of all approximated moments (mixed and non-mixed).Since each moment is expressed in term of higher order moments, it is necessary to provide a closed expression for higher order moments. Typically, higehr order moment can be assumed to be a scalar (e.g. 0) or be computed from a probability distribution."
     ]
    },
    {
     "cell_type": "markdown",
     "metadata": {},
     "source": [
      "`MEANS` package supports several moment closure methods. The default closure method is **scalar closure**, which sets the higher order moments to a scalar with an arbitrary value (zero by default):"
     ]
    },
    {
     "cell_type": "code",
     "collapsed": false,
     "input": [
      "problems_scalar = means.mea_approximation(MODEL_P53,2)"
     ],
     "language": "python",
     "metadata": {},
     "outputs": [],
     "prompt_number": 7
    },
    {
     "cell_type": "markdown",
     "metadata": {},
     "source": [
      "or explicitly:"
     ]
    },
    {
     "cell_type": "code",
     "collapsed": false,
     "input": [
      "problems_scalar = means.mea_approximation(MODEL_P53, max_order=2, closure=\"scalar\", value=0)\n",
      "problems_scalar"
     ],
     "language": "python",
     "metadata": {},
     "outputs": [
      {
       "latex": [
        "<h1>ODEProblem</h1>\n",
        "<p>Method: <code>'MEA'</code></p>\n",
        "<p>Parameters: <code>[c_0, c_1, c_2, c_3, c_4, c_5, c_6]</code></p>\n",
        "<p>Terms:</p>\n",
        "<ul>\n",
        "<li><code>Moment(array([1, 0, 0]), symbol=y_0)</code></li>\n",
        "<li><code>Moment(array([0, 1, 0]), symbol=y_1)</code></li>\n",
        "<li><code>Moment(array([0, 0, 1]), symbol=y_2)</code></li>\n",
        "<li><code>Moment(array([0, 0, 2]), symbol=M_0_0_2)</code></li>\n",
        "<li><code>Moment(array([0, 1, 1]), symbol=M_0_1_1)</code></li>\n",
        "<li><code>Moment(array([0, 2, 0]), symbol=M_0_2_0)</code></li>\n",
        "<li><code>Moment(array([1, 0, 1]), symbol=M_1_0_1)</code></li>\n",
        "<li><code>Moment(array([1, 1, 0]), symbol=M_1_1_0)</code></li>\n",
        "<li><code>Moment(array([2, 0, 0]), symbol=M_2_0_0)</code></li>\n",
        "</ul>\n",
        "<hr />\n",
        "\\begin{align*}\n",
        "\\dot{y_{0}} &= M_{1 0 1} \\left(\\frac{c_{2} y_{0}}{\\left(c_{6} + y_{0}\\right)^{2}} - \\frac{c_{2}}{c_{6} + y_{0}}\\right) + M_{2 0 0} \\left(- \\frac{c_{2} y_{0} y_{2}}{\\left(c_{6} + y_{0}\\right)^{3}} + \\frac{c_{2} y_{2}}{\\left(c_{6} + y_{0}\\right)^{2}}\\right) + c_{0} - c_{1} y_{0} - \\frac{c_{2} y_{0} y_{2}}{c_{6} + y_{0}} \\\\\n",
        "\\dot{y_{1}} &= c_{3} y_{0} - c_{4} y_{1} \\\\\n",
        "\\dot{y_{2}} &= c_{4} y_{1} - c_{5} y_{2} \\\\\n",
        "\\dot{M_{0 0 2}} &= - 2 M_{0 0 2} c_{5} + 2 M_{0 1 1} c_{4} + 2 c_{4} y_{1} y_{2} + c_{4} y_{1} - 2 c_{5} y_{2}^{2} + c_{5} y_{2} - 2 y_{2} \\left(c_{4} y_{1} - c_{5} y_{2}\\right) \\\\\n",
        "\\dot{M_{0 1 1}} &= M_{0 1 1} \\left(- c_{4} - c_{5}\\right) + M_{0 2 0} c_{4} + M_{1 0 1} c_{3} + c_{3} y_{0} y_{2} + c_{4} y_{1}^{2} - c_{4} y_{1} y_{2} - c_{4} y_{1} - c_{5} y_{1} y_{2} - y_{1} \\left(c_{4} y_{1} - c_{5} y_{2}\\right) - y_{2} \\left(c_{3} y_{0} - c_{4} y_{1}\\right) \\\\\n",
        "\\dot{M_{0 2 0}} &= - 2 M_{0 2 0} c_{4} + 2 M_{1 1 0} c_{3} + 2 c_{3} y_{0} y_{1} + c_{3} y_{0} - 2 c_{4} y_{1}^{2} + c_{4} y_{1} - 2 y_{1} \\left(c_{3} y_{0} - c_{4} y_{1}\\right) \\\\\n",
        "\\dot{M_{1 0 1}} &= - \\frac{M_{0 0 2} c_{2} y_{0}}{c_{6} + y_{0}} + M_{1 0 1} \\left(- c_{1} + \\frac{2 c_{2} y_{0} y_{2}}{\\left(c_{6} + y_{0}\\right)^{2}} - \\frac{2 c_{2} y_{2}}{c_{6} + y_{0}} - c_{5} - y_{2} \\left(\\frac{c_{2} y_{0}}{\\left(c_{6} + y_{0}\\right)^{2}} - \\frac{c_{2}}{c_{6} + y_{0}}\\right)\\right) + M_{1 1 0} c_{4} + M_{2 0 0} \\left(- \\frac{c_{2} y_{0} y_{2}^{2}}{\\left(c_{6} + y_{0}\\right)^{3}} + \\frac{c_{2} y_{2}^{2}}{\\left(c_{6} + y_{0}\\right)^{2}} - y_{2} \\left(- \\frac{c_{2} y_{0} y_{2}}{\\left(c_{6} + y_{0}\\right)^{3}} + \\frac{c_{2} y_{2}}{\\left(c_{6} + y_{0}\\right)^{2}}\\right)\\right) + c_{0} y_{2} - c_{1} y_{0} y_{2} - \\frac{c_{2} y_{0} y_{2}^{2}}{c_{6} + y_{0}} + c_{4} y_{0} y_{1} - c_{5} y_{0} y_{2} - y_{0} \\left(c_{4} y_{1} - c_{5} y_{2}\\right) - y_{2} \\left(c_{0} - c_{1} y_{0} - \\frac{c_{2} y_{0} y_{2}}{c_{6} + y_{0}}\\right) \\\\\n",
        "\\dot{M_{1 1 0}} &= - \\frac{M_{0 1 1} c_{2} y_{0}}{c_{6} + y_{0}} + M_{1 0 1} \\left(\\frac{c_{2} y_{0} y_{1}}{\\left(c_{6} + y_{0}\\right)^{2}} - \\frac{c_{2} y_{1}}{c_{6} + y_{0}} - y_{1} \\left(\\frac{c_{2} y_{0}}{\\left(c_{6} + y_{0}\\right)^{2}} - \\frac{c_{2}}{c_{6} + y_{0}}\\right)\\right) + M_{1 1 0} \\left(- c_{1} + \\frac{c_{2} y_{0} y_{2}}{\\left(c_{6} + y_{0}\\right)^{2}} - \\frac{c_{2} y_{2}}{c_{6} + y_{0}} - c_{4}\\right) + M_{2 0 0} \\left(- \\frac{c_{2} y_{0} y_{1} y_{2}}{\\left(c_{6} + y_{0}\\right)^{3}} + \\frac{c_{2} y_{1} y_{2}}{\\left(c_{6} + y_{0}\\right)^{2}} + c_{3} - y_{1} \\left(- \\frac{c_{2} y_{0} y_{2}}{\\left(c_{6} + y_{0}\\right)^{3}} + \\frac{c_{2} y_{2}}{\\left(c_{6} + y_{0}\\right)^{2}}\\right)\\right) + c_{0} y_{1} - c_{1} y_{0} y_{1} - \\frac{c_{2} y_{0} y_{1} y_{2}}{c_{6} + y_{0}} + c_{3} y_{0}^{2} - c_{4} y_{0} y_{1} - y_{0} \\left(c_{3} y_{0} - c_{4} y_{1}\\right) - y_{1} \\left(c_{0} - c_{1} y_{0} - \\frac{c_{2} y_{0} y_{2}}{c_{6} + y_{0}}\\right) \\\\\n",
        "\\dot{M_{2 0 0}} &= M_{1 0 1} \\left(\\frac{2 c_{2} y_{0}^{2}}{\\left(c_{6} + y_{0}\\right)^{2}} - \\frac{4 c_{2} y_{0}}{c_{6} + y_{0}} - \\frac{c_{2} y_{0}}{\\left(c_{6} + y_{0}\\right)^{2}} + \\frac{c_{2}}{c_{6} + y_{0}} - 2 y_{0} \\left(\\frac{c_{2} y_{0}}{\\left(c_{6} + y_{0}\\right)^{2}} - \\frac{c_{2}}{c_{6} + y_{0}}\\right)\\right) + M_{2 0 0} \\left(- 2 c_{1} - \\frac{2 c_{2} y_{0}^{2} y_{2}}{\\left(c_{6} + y_{0}\\right)^{3}} + \\frac{4 c_{2} y_{0} y_{2}}{\\left(c_{6} + y_{0}\\right)^{2}} + \\frac{c_{2} y_{0} y_{2}}{\\left(c_{6} + y_{0}\\right)^{3}} - \\frac{2 c_{2} y_{2}}{c_{6} + y_{0}} - \\frac{c_{2} y_{2}}{\\left(c_{6} + y_{0}\\right)^{2}} - 2 y_{0} \\left(- \\frac{c_{2} y_{0} y_{2}}{\\left(c_{6} + y_{0}\\right)^{3}} + \\frac{c_{2} y_{2}}{\\left(c_{6} + y_{0}\\right)^{2}}\\right)\\right) + 2 c_{0} y_{0} + c_{0} - 2 c_{1} y_{0}^{2} + c_{1} y_{0} - \\frac{2 c_{2} y_{0}^{2} y_{2}}{c_{6} + y_{0}} + \\frac{c_{2} y_{0} y_{2}}{c_{6} + y_{0}} - 2 y_{0} \\left(c_{0} - c_{1} y_{0} - \\frac{c_{2} y_{0} y_{2}}{c_{6} + y_{0}}\\right) \\\\\n",
        "\\end{align*}"
       ],
       "metadata": {},
       "output_type": "pyout",
       "prompt_number": 8,
       "text": [
        "<class 'means.core.problems.ODEProblem'>\n",
        "Method: 'MEA'\n",
        "Parameters: [c_0, c_1, c_2, c_3, c_4, c_5, c_6]\n",
        "\n",
        "Equations:\n",
        "\n",
        "Moment(array([1, 0, 0]), symbol=y_0):\n",
        "    M_1_0_1*(c_2*y_0/(c_6 + y_0)**2 - c_2/(c_6 + y_0)) + M_2_0_0*(-c_2*y_0*y_2/(c_6 + y_0)**3 + c_2*y_2/(c_6 + y_0)**2) + c_0 - c_1*y_0 - c_2*y_0*y_2/(c_6 + y_0)\n",
        "\n",
        "Moment(array([0, 1, 0]), symbol=y_1):\n",
        "    c_3*y_0 - c_4*y_1\n",
        "\n",
        "Moment(array([0, 0, 1]), symbol=y_2):\n",
        "    c_4*y_1 - c_5*y_2\n",
        "\n",
        "Moment(array([0, 0, 2]), symbol=M_0_0_2):\n",
        "    -2*M_0_0_2*c_5 + 2*M_0_1_1*c_4 + 2*c_4*y_1*y_2 + c_4*y_1 - 2*c_5*y_2**2 + c_5*y_2 - 2*y_2*(c_4*y_1 - c_5*y_2)\n",
        "\n",
        "Moment(array([0, 1, 1]), symbol=M_0_1_1):\n",
        "    M_0_1_1*(-c_4 - c_5) + M_0_2_0*c_4 + M_1_0_1*c_3 + c_3*y_0*y_2 + c_4*y_1**2 - c_4*y_1*y_2 - c_4*y_1 - c_5*y_1*y_2 - y_1*(c_4*y_1 - c_5*y_2) - y_2*(c_3*y_0 - c_4*y_1)\n",
        "\n",
        "Moment(array([0, 2, 0]), symbol=M_0_2_0):\n",
        "    -2*M_0_2_0*c_4 + 2*M_1_1_0*c_3 + 2*c_3*y_0*y_1 + c_3*y_0 - 2*c_4*y_1**2 + c_4*y_1 - 2*y_1*(c_3*y_0 - c_4*y_1)\n",
        "\n",
        "Moment(array([1, 0, 1]), symbol=M_1_0_1):\n",
        "    -M_0_0_2*c_2*y_0/(c_6 + y_0) + M_1_0_1*(-c_1 + 2*c_2*y_0*y_2/(c_6 + y_0)**2 - 2*c_2*y_2/(c_6 + y_0) - c_5 - y_2*(c_2*y_0/(c_6 + y_0)**2 - c_2/(c_6 + y_0))) + M_1_1_0*c_4 + M_2_0_0*(-c_2*y_0*y_2**2/(c_6 + y_0)**3 + c_2*y_2**2/(c_6 + y_0)**2 - y_2*(-c_2*y_0*y_2/(c_6 + y_0)**3 + c_2*y_2/(c_6 + y_0)**2)) + c_0*y_2 - c_1*y_0*y_2 - c_2*y_0*y_2**2/(c_6 + y_0) + c_4*y_0*y_1 - c_5*y_0*y_2 - y_0*(c_4*y_1 - c_5*y_2) - y_2*(c_0 - c_1*y_0 - c_2*y_0*y_2/(c_6 + y_0))\n",
        "\n",
        "Moment(array([1, 1, 0]), symbol=M_1_1_0):\n",
        "    -M_0_1_1*c_2*y_0/(c_6 + y_0) + M_1_0_1*(c_2*y_0*y_1/(c_6 + y_0)**2 - c_2*y_1/(c_6 + y_0) - y_1*(c_2*y_0/(c_6 + y_0)**2 - c_2/(c_6 + y_0))) + M_1_1_0*(-c_1 + c_2*y_0*y_2/(c_6 + y_0)**2 - c_2*y_2/(c_6 + y_0) - c_4) + M_2_0_0*(-c_2*y_0*y_1*y_2/(c_6 + y_0)**3 + c_2*y_1*y_2/(c_6 + y_0)**2 + c_3 - y_1*(-c_2*y_0*y_2/(c_6 + y_0)**3 + c_2*y_2/(c_6 + y_0)**2)) + c_0*y_1 - c_1*y_0*y_1 - c_2*y_0*y_1*y_2/(c_6 + y_0) + c_3*y_0**2 - c_4*y_0*y_1 - y_0*(c_3*y_0 - c_4*y_1) - y_1*(c_0 - c_1*y_0 - c_2*y_0*y_2/(c_6 + y_0))\n",
        "\n",
        "Moment(array([2, 0, 0]), symbol=M_2_0_0):\n",
        "    M_1_0_1*(2*c_2*y_0**2/(c_6 + y_0)**2 - 4*c_2*y_0/(c_6 + y_0) - c_2*y_0/(c_6 + y_0)**2 + c_2/(c_6 + y_0) - 2*y_0*(c_2*y_0/(c_6 + y_0)**2 - c_2/(c_6 + y_0))) + M_2_0_0*(-2*c_1 - 2*c_2*y_0**2*y_2/(c_6 + y_0)**3 + 4*c_2*y_0*y_2/(c_6 + y_0)**2 + c_2*y_0*y_2/(c_6 + y_0)**3 - 2*c_2*y_2/(c_6 + y_0) - c_2*y_2/(c_6 + y_0)**2 - 2*y_0*(-c_2*y_0*y_2/(c_6 + y_0)**3 + c_2*y_2/(c_6 + y_0)**2)) + 2*c_0*y_0 + c_0 - 2*c_1*y_0**2 + c_1*y_0 - 2*c_2*y_0**2*y_2/(c_6 + y_0) + c_2*y_0*y_2/(c_6 + y_0) - 2*y_0*(c_0 - c_1*y_0 - c_2*y_0*y_2/(c_6 + y_0))\n"
       ]
      }
     ],
     "prompt_number": 8
    },
    {
     "cell_type": "markdown",
     "metadata": {},
     "source": [
      "The outputs of MEA and moment closure are nicely printed in $\\LaTeX$ notation. \n",
      "The symbols representing each set of moments are also given. \n",
      "The first $n$ ODEs model raw moments (i.e. means), where $n$ is the number of species.\n",
      "The symbols prefixed by $yx$ represent central moments (variances, covariances, skewness,..)."
     ]
    },
    {
     "cell_type": "markdown",
     "metadata": {},
     "source": [
      "`ODEProblem` objects offer a convenient way of retrieving the mathematical description of a moment from its symbol via the `descriptor_for_symbol(symbol)` method:"
     ]
    },
    {
     "cell_type": "code",
     "collapsed": false,
     "input": [
      "description = problems_scalar.descriptor_for_symbol('y_0')\n",
      "description"
     ],
     "language": "python",
     "metadata": {},
     "outputs": [
      {
       "latex": [
        "Moment($[1, 0, 0]$, symbol=$y_0$)"
       ],
       "metadata": {},
       "output_type": "pyout",
       "prompt_number": 9,
       "text": [
        "Moment(array([1, 0, 0]), symbol=y_0)"
       ]
      }
     ],
     "prompt_number": 9
    },
    {
     "cell_type": "markdown",
     "metadata": {},
     "source": [
      "In addition to the scalar closure, *normal*, *log-normal* and *gamma* can currently be used.\n",
      "For them, higher order moments will be expressed in parametric terms. By default, multivariate distributions are used. It is however possible to assume null covariances by setting `multivariate` to `False`. Obviously, for single species reactions, univariate distributions will be used regardless.  "
     ]
    },
    {
     "cell_type": "code",
     "collapsed": false,
     "input": [
      "problems_logn = means.mea_approximation(MODEL_P53, 2, closure='log-normal', multivariate=True)\n",
      "problems_logn                                                                                                                       "
     ],
     "language": "python",
     "metadata": {},
     "outputs": [
      {
       "latex": [
        "<h1>ODEProblem</h1>\n",
        "<p>Method: <code>'MEA'</code></p>\n",
        "<p>Parameters: <code>[c_0, c_1, c_2, c_3, c_4, c_5, c_6]</code></p>\n",
        "<p>Terms:</p>\n",
        "<ul>\n",
        "<li><code>Moment(array([1, 0, 0]), symbol=y_0)</code></li>\n",
        "<li><code>Moment(array([0, 1, 0]), symbol=y_1)</code></li>\n",
        "<li><code>Moment(array([0, 0, 1]), symbol=y_2)</code></li>\n",
        "<li><code>Moment(array([0, 0, 2]), symbol=M_0_0_2)</code></li>\n",
        "<li><code>Moment(array([0, 1, 1]), symbol=M_0_1_1)</code></li>\n",
        "<li><code>Moment(array([0, 2, 0]), symbol=M_0_2_0)</code></li>\n",
        "<li><code>Moment(array([1, 0, 1]), symbol=M_1_0_1)</code></li>\n",
        "<li><code>Moment(array([1, 1, 0]), symbol=M_1_1_0)</code></li>\n",
        "<li><code>Moment(array([2, 0, 0]), symbol=M_2_0_0)</code></li>\n",
        "</ul>\n",
        "<hr />\n",
        "\\begin{align*}\n",
        "\\dot{y_{0}} &= M_{1 0 1} \\left(\\frac{c_{2} y_{0}}{\\left(c_{6} + y_{0}\\right)^{2}} - \\frac{c_{2}}{c_{6} + y_{0}}\\right) + M_{2 0 0} \\left(- \\frac{c_{2} y_{0} y_{2}}{\\left(c_{6} + y_{0}\\right)^{3}} + \\frac{c_{2} y_{2}}{\\left(c_{6} + y_{0}\\right)^{2}}\\right) + c_{0} - c_{1} y_{0} - \\frac{c_{2} y_{0} y_{2}}{c_{6} + y_{0}} + \\left(- \\frac{c_{2} y_{0}}{\\left(c_{6} + y_{0}\\right)^{3}} + \\frac{c_{2}}{\\left(c_{6} + y_{0}\\right)^{2}}\\right) \\left(y_{0}^{2} y_{2} \\left(\\frac{1}{y_{0}^{2}} M_{2 0 0} + 1\\right) \\left(\\frac{M_{1 0 1}}{y_{0} y_{2}} + 1\\right)^{2} - y_{0}^{2} y_{2} \\left(\\frac{1}{y_{0}^{2}} M_{2 0 0} + 1\\right) - 2 y_{0}^{2} y_{2} \\left(\\frac{M_{1 0 1}}{y_{0} y_{2}} + 1\\right) + 2 y_{0}^{2} y_{2}\\right) + \\left(\\frac{c_{2} y_{0} y_{2}}{\\left(c_{6} + y_{0}\\right)^{4}} - \\frac{c_{2} y_{2}}{\\left(c_{6} + y_{0}\\right)^{3}}\\right) \\left(y_{0}^{3} \\left(\\frac{1}{y_{0}^{2}} M_{2 0 0} + 1\\right)^{3} - 3 y_{0}^{3} \\left(\\frac{1}{y_{0}^{2}} M_{2 0 0} + 1\\right) + 2 y_{0}^{3}\\right) \\\\\n",
        "\\dot{y_{1}} &= c_{3} y_{0} - c_{4} y_{1} \\\\\n",
        "\\dot{y_{2}} &= c_{4} y_{1} - c_{5} y_{2} \\\\\n",
        "\\dot{M_{0 0 2}} &= - 2 M_{0 0 2} c_{5} + 2 M_{0 1 1} c_{4} + 2 c_{4} y_{1} y_{2} + c_{4} y_{1} - 2 c_{5} y_{2}^{2} + c_{5} y_{2} - 2 y_{2} \\left(c_{4} y_{1} - c_{5} y_{2}\\right) \\\\\n",
        "\\dot{M_{0 1 1}} &= M_{0 1 1} \\left(- c_{4} - c_{5}\\right) + M_{0 2 0} c_{4} + M_{1 0 1} c_{3} + c_{3} y_{0} y_{2} + c_{4} y_{1}^{2} - c_{4} y_{1} y_{2} - c_{4} y_{1} - c_{5} y_{1} y_{2} - y_{1} \\left(c_{4} y_{1} - c_{5} y_{2}\\right) - y_{2} \\left(c_{3} y_{0} - c_{4} y_{1}\\right) \\\\\n",
        "\\dot{M_{0 2 0}} &= - 2 M_{0 2 0} c_{4} + 2 M_{1 1 0} c_{3} + 2 c_{3} y_{0} y_{1} + c_{3} y_{0} - 2 c_{4} y_{1}^{2} + c_{4} y_{1} - 2 y_{1} \\left(c_{3} y_{0} - c_{4} y_{1}\\right) \\\\\n",
        "\\dot{M_{1 0 1}} &= - \\frac{M_{0 0 2} c_{2} y_{0}}{c_{6} + y_{0}} + M_{1 0 1} \\left(- c_{1} + \\frac{2 c_{2} y_{0} y_{2}}{\\left(c_{6} + y_{0}\\right)^{2}} - \\frac{2 c_{2} y_{2}}{c_{6} + y_{0}} - c_{5} - y_{2} \\left(\\frac{c_{2} y_{0}}{\\left(c_{6} + y_{0}\\right)^{2}} - \\frac{c_{2}}{c_{6} + y_{0}}\\right)\\right) + M_{1 1 0} c_{4} + M_{2 0 0} \\left(- \\frac{c_{2} y_{0} y_{2}^{2}}{\\left(c_{6} + y_{0}\\right)^{3}} + \\frac{c_{2} y_{2}^{2}}{\\left(c_{6} + y_{0}\\right)^{2}} - y_{2} \\left(- \\frac{c_{2} y_{0} y_{2}}{\\left(c_{6} + y_{0}\\right)^{3}} + \\frac{c_{2} y_{2}}{\\left(c_{6} + y_{0}\\right)^{2}}\\right)\\right) + c_{0} y_{2} - c_{1} y_{0} y_{2} - \\frac{c_{2} y_{0} y_{2}^{2}}{c_{6} + y_{0}} + c_{4} y_{0} y_{1} - c_{5} y_{0} y_{2} - y_{0} \\left(c_{4} y_{1} - c_{5} y_{2}\\right) - y_{2} \\left(c_{0} - c_{1} y_{0} - \\frac{c_{2} y_{0} y_{2}}{c_{6} + y_{0}}\\right) + \\left(\\frac{c_{2} y_{0}}{\\left(c_{6} + y_{0}\\right)^{2}} - \\frac{c_{2}}{c_{6} + y_{0}}\\right) \\left(y_{0} y_{2}^{2} \\left(\\frac{1}{y_{2}^{2}} M_{0 0 2} + 1\\right) \\left(\\frac{M_{1 0 1}}{y_{0} y_{2}} + 1\\right)^{2} - y_{0} y_{2}^{2} \\left(\\frac{1}{y_{2}^{2}} M_{0 0 2} + 1\\right) - 2 y_{0} y_{2}^{2} \\left(\\frac{M_{1 0 1}}{y_{0} y_{2}} + 1\\right) + 2 y_{0} y_{2}^{2}\\right) + \\left(y_{0}^{3} \\left(\\frac{1}{y_{0}^{2}} M_{2 0 0} + 1\\right)^{3} - 3 y_{0}^{3} \\left(\\frac{1}{y_{0}^{2}} M_{2 0 0} + 1\\right) + 2 y_{0}^{3}\\right) \\left(\\frac{c_{2} y_{0} y_{2}^{2}}{\\left(c_{6} + y_{0}\\right)^{4}} - \\frac{c_{2} y_{2}^{2}}{\\left(c_{6} + y_{0}\\right)^{3}} - y_{2} \\left(\\frac{c_{2} y_{0} y_{2}}{\\left(c_{6} + y_{0}\\right)^{4}} - \\frac{c_{2} y_{2}}{\\left(c_{6} + y_{0}\\right)^{3}}\\right)\\right) + \\left(- \\frac{2 c_{2} y_{0} y_{2}}{\\left(c_{6} + y_{0}\\right)^{3}} + \\frac{2 c_{2} y_{2}}{\\left(c_{6} + y_{0}\\right)^{2}} - y_{2} \\left(- \\frac{c_{2} y_{0}}{\\left(c_{6} + y_{0}\\right)^{3}} + \\frac{c_{2}}{\\left(c_{6} + y_{0}\\right)^{2}}\\right)\\right) \\left(y_{0}^{2} y_{2} \\left(\\frac{1}{y_{0}^{2}} M_{2 0 0} + 1\\right) \\left(\\frac{M_{1 0 1}}{y_{0} y_{2}} + 1\\right)^{2} - y_{0}^{2} y_{2} \\left(\\frac{1}{y_{0}^{2}} M_{2 0 0} + 1\\right) - 2 y_{0}^{2} y_{2} \\left(\\frac{M_{1 0 1}}{y_{0} y_{2}} + 1\\right) + 2 y_{0}^{2} y_{2}\\right) \\\\\n",
        "\\dot{M_{1 1 0}} &= - \\frac{M_{0 1 1} c_{2} y_{0}}{c_{6} + y_{0}} + M_{1 0 1} \\left(\\frac{c_{2} y_{0} y_{1}}{\\left(c_{6} + y_{0}\\right)^{2}} - \\frac{c_{2} y_{1}}{c_{6} + y_{0}} - y_{1} \\left(\\frac{c_{2} y_{0}}{\\left(c_{6} + y_{0}\\right)^{2}} - \\frac{c_{2}}{c_{6} + y_{0}}\\right)\\right) + M_{1 1 0} \\left(- c_{1} + \\frac{c_{2} y_{0} y_{2}}{\\left(c_{6} + y_{0}\\right)^{2}} - \\frac{c_{2} y_{2}}{c_{6} + y_{0}} - c_{4}\\right) + M_{2 0 0} \\left(- \\frac{c_{2} y_{0} y_{1} y_{2}}{\\left(c_{6} + y_{0}\\right)^{3}} + \\frac{c_{2} y_{1} y_{2}}{\\left(c_{6} + y_{0}\\right)^{2}} + c_{3} - y_{1} \\left(- \\frac{c_{2} y_{0} y_{2}}{\\left(c_{6} + y_{0}\\right)^{3}} + \\frac{c_{2} y_{2}}{\\left(c_{6} + y_{0}\\right)^{2}}\\right)\\right) + c_{0} y_{1} - c_{1} y_{0} y_{1} - \\frac{c_{2} y_{0} y_{1} y_{2}}{c_{6} + y_{0}} + c_{3} y_{0}^{2} - c_{4} y_{0} y_{1} - y_{0} \\left(c_{3} y_{0} - c_{4} y_{1}\\right) - y_{1} \\left(c_{0} - c_{1} y_{0} - \\frac{c_{2} y_{0} y_{2}}{c_{6} + y_{0}}\\right) + \\left(\\frac{c_{2} y_{0}}{\\left(c_{6} + y_{0}\\right)^{2}} - \\frac{c_{2}}{c_{6} + y_{0}}\\right) \\left(y_{0} y_{1} y_{2} \\left(\\frac{M_{0 1 1}}{y_{1} y_{2}} + 1\\right) \\left(\\frac{M_{1 0 1}}{y_{0} y_{2}} + 1\\right) \\left(\\frac{M_{1 1 0}}{y_{0} y_{1}} + 1\\right) - y_{0} y_{1} y_{2} \\left(\\frac{M_{0 1 1}}{y_{1} y_{2}} + 1\\right) - y_{0} y_{1} y_{2} \\left(\\frac{M_{1 0 1}}{y_{0} y_{2}} + 1\\right) - y_{0} y_{1} y_{2} \\left(\\frac{M_{1 1 0}}{y_{0} y_{1}} + 1\\right) + 2 y_{0} y_{1} y_{2}\\right) + \\left(- \\frac{c_{2} y_{0} y_{2}}{\\left(c_{6} + y_{0}\\right)^{3}} + \\frac{c_{2} y_{2}}{\\left(c_{6} + y_{0}\\right)^{2}}\\right) \\left(y_{0}^{2} y_{1} \\left(\\frac{1}{y_{0}^{2}} M_{2 0 0} + 1\\right) \\left(\\frac{M_{1 1 0}}{y_{0} y_{1}} + 1\\right)^{2} - y_{0}^{2} y_{1} \\left(\\frac{1}{y_{0}^{2}} M_{2 0 0} + 1\\right) - 2 y_{0}^{2} y_{1} \\left(\\frac{M_{1 1 0}}{y_{0} y_{1}} + 1\\right) + 2 y_{0}^{2} y_{1}\\right) + \\left(y_{0}^{3} \\left(\\frac{1}{y_{0}^{2}} M_{2 0 0} + 1\\right)^{3} - 3 y_{0}^{3} \\left(\\frac{1}{y_{0}^{2}} M_{2 0 0} + 1\\right) + 2 y_{0}^{3}\\right) \\left(\\frac{c_{2} y_{0} y_{1} y_{2}}{\\left(c_{6} + y_{0}\\right)^{4}} - \\frac{c_{2} y_{1} y_{2}}{\\left(c_{6} + y_{0}\\right)^{3}} - y_{1} \\left(\\frac{c_{2} y_{0} y_{2}}{\\left(c_{6} + y_{0}\\right)^{4}} - \\frac{c_{2} y_{2}}{\\left(c_{6} + y_{0}\\right)^{3}}\\right)\\right) + \\left(- \\frac{c_{2} y_{0} y_{1}}{\\left(c_{6} + y_{0}\\right)^{3}} + \\frac{c_{2} y_{1}}{\\left(c_{6} + y_{0}\\right)^{2}} - y_{1} \\left(- \\frac{c_{2} y_{0}}{\\left(c_{6} + y_{0}\\right)^{3}} + \\frac{c_{2}}{\\left(c_{6} + y_{0}\\right)^{2}}\\right)\\right) \\left(y_{0}^{2} y_{2} \\left(\\frac{1}{y_{0}^{2}} M_{2 0 0} + 1\\right) \\left(\\frac{M_{1 0 1}}{y_{0} y_{2}} + 1\\right)^{2} - y_{0}^{2} y_{2} \\left(\\frac{1}{y_{0}^{2}} M_{2 0 0} + 1\\right) - 2 y_{0}^{2} y_{2} \\left(\\frac{M_{1 0 1}}{y_{0} y_{2}} + 1\\right) + 2 y_{0}^{2} y_{2}\\right) \\\\\n",
        "\\dot{M_{2 0 0}} &= M_{1 0 1} \\left(\\frac{2 c_{2} y_{0}^{2}}{\\left(c_{6} + y_{0}\\right)^{2}} - \\frac{4 c_{2} y_{0}}{c_{6} + y_{0}} - \\frac{c_{2} y_{0}}{\\left(c_{6} + y_{0}\\right)^{2}} + \\frac{c_{2}}{c_{6} + y_{0}} - 2 y_{0} \\left(\\frac{c_{2} y_{0}}{\\left(c_{6} + y_{0}\\right)^{2}} - \\frac{c_{2}}{c_{6} + y_{0}}\\right)\\right) + M_{2 0 0} \\left(- 2 c_{1} - \\frac{2 c_{2} y_{0}^{2} y_{2}}{\\left(c_{6} + y_{0}\\right)^{3}} + \\frac{4 c_{2} y_{0} y_{2}}{\\left(c_{6} + y_{0}\\right)^{2}} + \\frac{c_{2} y_{0} y_{2}}{\\left(c_{6} + y_{0}\\right)^{3}} - \\frac{2 c_{2} y_{2}}{c_{6} + y_{0}} - \\frac{c_{2} y_{2}}{\\left(c_{6} + y_{0}\\right)^{2}} - 2 y_{0} \\left(- \\frac{c_{2} y_{0} y_{2}}{\\left(c_{6} + y_{0}\\right)^{3}} + \\frac{c_{2} y_{2}}{\\left(c_{6} + y_{0}\\right)^{2}}\\right)\\right) + 2 c_{0} y_{0} + c_{0} - 2 c_{1} y_{0}^{2} + c_{1} y_{0} - \\frac{2 c_{2} y_{0}^{2} y_{2}}{c_{6} + y_{0}} + \\frac{c_{2} y_{0} y_{2}}{c_{6} + y_{0}} - 2 y_{0} \\left(c_{0} - c_{1} y_{0} - \\frac{c_{2} y_{0} y_{2}}{c_{6} + y_{0}}\\right) + \\left(y_{0}^{3} \\left(\\frac{1}{y_{0}^{2}} M_{2 0 0} + 1\\right)^{3} - 3 y_{0}^{3} \\left(\\frac{1}{y_{0}^{2}} M_{2 0 0} + 1\\right) + 2 y_{0}^{3}\\right) \\left(\\frac{2 c_{2} y_{0}^{2} y_{2}}{\\left(c_{6} + y_{0}\\right)^{4}} - \\frac{4 c_{2} y_{0} y_{2}}{\\left(c_{6} + y_{0}\\right)^{3}} - \\frac{c_{2} y_{0} y_{2}}{\\left(c_{6} + y_{0}\\right)^{4}} + \\frac{2 c_{2} y_{2}}{\\left(c_{6} + y_{0}\\right)^{2}} + \\frac{c_{2} y_{2}}{\\left(c_{6} + y_{0}\\right)^{3}} - 2 y_{0} \\left(\\frac{c_{2} y_{0} y_{2}}{\\left(c_{6} + y_{0}\\right)^{4}} - \\frac{c_{2} y_{2}}{\\left(c_{6} + y_{0}\\right)^{3}}\\right)\\right) + \\left(y_{0}^{2} y_{2} \\left(\\frac{1}{y_{0}^{2}} M_{2 0 0} + 1\\right) \\left(\\frac{M_{1 0 1}}{y_{0} y_{2}} + 1\\right)^{2} - y_{0}^{2} y_{2} \\left(\\frac{1}{y_{0}^{2}} M_{2 0 0} + 1\\right) - 2 y_{0}^{2} y_{2} \\left(\\frac{M_{1 0 1}}{y_{0} y_{2}} + 1\\right) + 2 y_{0}^{2} y_{2}\\right) \\left(- \\frac{2 c_{2} y_{0}^{2}}{\\left(c_{6} + y_{0}\\right)^{3}} + \\frac{4 c_{2} y_{0}}{\\left(c_{6} + y_{0}\\right)^{2}} + \\frac{c_{2} y_{0}}{\\left(c_{6} + y_{0}\\right)^{3}} - \\frac{2 c_{2}}{c_{6} + y_{0}} - \\frac{c_{2}}{\\left(c_{6} + y_{0}\\right)^{2}} - 2 y_{0} \\left(- \\frac{c_{2} y_{0}}{\\left(c_{6} + y_{0}\\right)^{3}} + \\frac{c_{2}}{\\left(c_{6} + y_{0}\\right)^{2}}\\right)\\right) \\\\\n",
        "\\end{align*}"
       ],
       "metadata": {},
       "output_type": "pyout",
       "prompt_number": 10,
       "text": [
        "<class 'means.core.problems.ODEProblem'>\n",
        "Method: 'MEA'\n",
        "Parameters: [c_0, c_1, c_2, c_3, c_4, c_5, c_6]\n",
        "\n",
        "Equations:\n",
        "\n",
        "Moment(array([1, 0, 0]), symbol=y_0):\n",
        "    M_1_0_1*(c_2*y_0/(c_6 + y_0)**2 - c_2/(c_6 + y_0)) + M_2_0_0*(-c_2*y_0*y_2/(c_6 + y_0)**3 + c_2*y_2/(c_6 + y_0)**2) + c_0 - c_1*y_0 - c_2*y_0*y_2/(c_6 + y_0) + (-c_2*y_0/(c_6 + y_0)**3 + c_2/(c_6 + y_0)**2)*(y_0**2*y_2*(M_2_0_0/y_0**2 + 1)*(M_1_0_1/(y_0*y_2) + 1)**2 - y_0**2*y_2*(M_2_0_0/y_0**2 + 1) - 2*y_0**2*y_2*(M_1_0_1/(y_0*y_2) + 1) + 2*y_0**2*y_2) + (c_2*y_0*y_2/(c_6 + y_0)**4 - c_2*y_2/(c_6 + y_0)**3)*(y_0**3*(M_2_0_0/y_0**2 + 1)**3 - 3*y_0**3*(M_2_0_0/y_0**2 + 1) + 2*y_0**3)\n",
        "\n",
        "Moment(array([0, 1, 0]), symbol=y_1):\n",
        "    c_3*y_0 - c_4*y_1\n",
        "\n",
        "Moment(array([0, 0, 1]), symbol=y_2):\n",
        "    c_4*y_1 - c_5*y_2\n",
        "\n",
        "Moment(array([0, 0, 2]), symbol=M_0_0_2):\n",
        "    -2*M_0_0_2*c_5 + 2*M_0_1_1*c_4 + 2*c_4*y_1*y_2 + c_4*y_1 - 2*c_5*y_2**2 + c_5*y_2 - 2*y_2*(c_4*y_1 - c_5*y_2)\n",
        "\n",
        "Moment(array([0, 1, 1]), symbol=M_0_1_1):\n",
        "    M_0_1_1*(-c_4 - c_5) + M_0_2_0*c_4 + M_1_0_1*c_3 + c_3*y_0*y_2 + c_4*y_1**2 - c_4*y_1*y_2 - c_4*y_1 - c_5*y_1*y_2 - y_1*(c_4*y_1 - c_5*y_2) - y_2*(c_3*y_0 - c_4*y_1)\n",
        "\n",
        "Moment(array([0, 2, 0]), symbol=M_0_2_0):\n",
        "    -2*M_0_2_0*c_4 + 2*M_1_1_0*c_3 + 2*c_3*y_0*y_1 + c_3*y_0 - 2*c_4*y_1**2 + c_4*y_1 - 2*y_1*(c_3*y_0 - c_4*y_1)\n",
        "\n",
        "Moment(array([1, 0, 1]), symbol=M_1_0_1):\n",
        "    -M_0_0_2*c_2*y_0/(c_6 + y_0) + M_1_0_1*(-c_1 + 2*c_2*y_0*y_2/(c_6 + y_0)**2 - 2*c_2*y_2/(c_6 + y_0) - c_5 - y_2*(c_2*y_0/(c_6 + y_0)**2 - c_2/(c_6 + y_0))) + M_1_1_0*c_4 + M_2_0_0*(-c_2*y_0*y_2**2/(c_6 + y_0)**3 + c_2*y_2**2/(c_6 + y_0)**2 - y_2*(-c_2*y_0*y_2/(c_6 + y_0)**3 + c_2*y_2/(c_6 + y_0)**2)) + c_0*y_2 - c_1*y_0*y_2 - c_2*y_0*y_2**2/(c_6 + y_0) + c_4*y_0*y_1 - c_5*y_0*y_2 - y_0*(c_4*y_1 - c_5*y_2) - y_2*(c_0 - c_1*y_0 - c_2*y_0*y_2/(c_6 + y_0)) + (c_2*y_0/(c_6 + y_0)**2 - c_2/(c_6 + y_0))*(y_0*y_2**2*(M_0_0_2/y_2**2 + 1)*(M_1_0_1/(y_0*y_2) + 1)**2 - y_0*y_2**2*(M_0_0_2/y_2**2 + 1) - 2*y_0*y_2**2*(M_1_0_1/(y_0*y_2) + 1) + 2*y_0*y_2**2) + (y_0**3*(M_2_0_0/y_0**2 + 1)**3 - 3*y_0**3*(M_2_0_0/y_0**2 + 1) + 2*y_0**3)*(c_2*y_0*y_2**2/(c_6 + y_0)**4 - c_2*y_2**2/(c_6 + y_0)**3 - y_2*(c_2*y_0*y_2/(c_6 + y_0)**4 - c_2*y_2/(c_6 + y_0)**3)) + (-2*c_2*y_0*y_2/(c_6 + y_0)**3 + 2*c_2*y_2/(c_6 + y_0)**2 - y_2*(-c_2*y_0/(c_6 + y_0)**3 + c_2/(c_6 + y_0)**2))*(y_0**2*y_2*(M_2_0_0/y_0**2 + 1)*(M_1_0_1/(y_0*y_2) + 1)**2 - y_0**2*y_2*(M_2_0_0/y_0**2 + 1) - 2*y_0**2*y_2*(M_1_0_1/(y_0*y_2) + 1) + 2*y_0**2*y_2)\n",
        "\n",
        "Moment(array([1, 1, 0]), symbol=M_1_1_0):\n",
        "    -M_0_1_1*c_2*y_0/(c_6 + y_0) + M_1_0_1*(c_2*y_0*y_1/(c_6 + y_0)**2 - c_2*y_1/(c_6 + y_0) - y_1*(c_2*y_0/(c_6 + y_0)**2 - c_2/(c_6 + y_0))) + M_1_1_0*(-c_1 + c_2*y_0*y_2/(c_6 + y_0)**2 - c_2*y_2/(c_6 + y_0) - c_4) + M_2_0_0*(-c_2*y_0*y_1*y_2/(c_6 + y_0)**3 + c_2*y_1*y_2/(c_6 + y_0)**2 + c_3 - y_1*(-c_2*y_0*y_2/(c_6 + y_0)**3 + c_2*y_2/(c_6 + y_0)**2)) + c_0*y_1 - c_1*y_0*y_1 - c_2*y_0*y_1*y_2/(c_6 + y_0) + c_3*y_0**2 - c_4*y_0*y_1 - y_0*(c_3*y_0 - c_4*y_1) - y_1*(c_0 - c_1*y_0 - c_2*y_0*y_2/(c_6 + y_0)) + (c_2*y_0/(c_6 + y_0)**2 - c_2/(c_6 + y_0))*(y_0*y_1*y_2*(M_0_1_1/(y_1*y_2) + 1)*(M_1_0_1/(y_0*y_2) + 1)*(M_1_1_0/(y_0*y_1) + 1) - y_0*y_1*y_2*(M_0_1_1/(y_1*y_2) + 1) - y_0*y_1*y_2*(M_1_0_1/(y_0*y_2) + 1) - y_0*y_1*y_2*(M_1_1_0/(y_0*y_1) + 1) + 2*y_0*y_1*y_2) + (-c_2*y_0*y_2/(c_6 + y_0)**3 + c_2*y_2/(c_6 + y_0)**2)*(y_0**2*y_1*(M_2_0_0/y_0**2 + 1)*(M_1_1_0/(y_0*y_1) + 1)**2 - y_0**2*y_1*(M_2_0_0/y_0**2 + 1) - 2*y_0**2*y_1*(M_1_1_0/(y_0*y_1) + 1) + 2*y_0**2*y_1) + (y_0**3*(M_2_0_0/y_0**2 + 1)**3 - 3*y_0**3*(M_2_0_0/y_0**2 + 1) + 2*y_0**3)*(c_2*y_0*y_1*y_2/(c_6 + y_0)**4 - c_2*y_1*y_2/(c_6 + y_0)**3 - y_1*(c_2*y_0*y_2/(c_6 + y_0)**4 - c_2*y_2/(c_6 + y_0)**3)) + (-c_2*y_0*y_1/(c_6 + y_0)**3 + c_2*y_1/(c_6 + y_0)**2 - y_1*(-c_2*y_0/(c_6 + y_0)**3 + c_2/(c_6 + y_0)**2))*(y_0**2*y_2*(M_2_0_0/y_0**2 + 1)*(M_1_0_1/(y_0*y_2) + 1)**2 - y_0**2*y_2*(M_2_0_0/y_0**2 + 1) - 2*y_0**2*y_2*(M_1_0_1/(y_0*y_2) + 1) + 2*y_0**2*y_2)\n",
        "\n",
        "Moment(array([2, 0, 0]), symbol=M_2_0_0):\n",
        "    M_1_0_1*(2*c_2*y_0**2/(c_6 + y_0)**2 - 4*c_2*y_0/(c_6 + y_0) - c_2*y_0/(c_6 + y_0)**2 + c_2/(c_6 + y_0) - 2*y_0*(c_2*y_0/(c_6 + y_0)**2 - c_2/(c_6 + y_0))) + M_2_0_0*(-2*c_1 - 2*c_2*y_0**2*y_2/(c_6 + y_0)**3 + 4*c_2*y_0*y_2/(c_6 + y_0)**2 + c_2*y_0*y_2/(c_6 + y_0)**3 - 2*c_2*y_2/(c_6 + y_0) - c_2*y_2/(c_6 + y_0)**2 - 2*y_0*(-c_2*y_0*y_2/(c_6 + y_0)**3 + c_2*y_2/(c_6 + y_0)**2)) + 2*c_0*y_0 + c_0 - 2*c_1*y_0**2 + c_1*y_0 - 2*c_2*y_0**2*y_2/(c_6 + y_0) + c_2*y_0*y_2/(c_6 + y_0) - 2*y_0*(c_0 - c_1*y_0 - c_2*y_0*y_2/(c_6 + y_0)) + (y_0**3*(M_2_0_0/y_0**2 + 1)**3 - 3*y_0**3*(M_2_0_0/y_0**2 + 1) + 2*y_0**3)*(2*c_2*y_0**2*y_2/(c_6 + y_0)**4 - 4*c_2*y_0*y_2/(c_6 + y_0)**3 - c_2*y_0*y_2/(c_6 + y_0)**4 + 2*c_2*y_2/(c_6 + y_0)**2 + c_2*y_2/(c_6 + y_0)**3 - 2*y_0*(c_2*y_0*y_2/(c_6 + y_0)**4 - c_2*y_2/(c_6 + y_0)**3)) + (y_0**2*y_2*(M_2_0_0/y_0**2 + 1)*(M_1_0_1/(y_0*y_2) + 1)**2 - y_0**2*y_2*(M_2_0_0/y_0**2 + 1) - 2*y_0**2*y_2*(M_1_0_1/(y_0*y_2) + 1) + 2*y_0**2*y_2)*(-2*c_2*y_0**2/(c_6 + y_0)**3 + 4*c_2*y_0/(c_6 + y_0)**2 + c_2*y_0/(c_6 + y_0)**3 - 2*c_2/(c_6 + y_0) - c_2/(c_6 + y_0)**2 - 2*y_0*(-c_2*y_0/(c_6 + y_0)**3 + c_2/(c_6 + y_0)**2))\n"
       ]
      }
     ],
     "prompt_number": 10
    },
    {
     "cell_type": "markdown",
     "metadata": {},
     "source": [
      "As you can see, the equations obtained with log-normal closure differ from the default scalar closure."
     ]
    },
    {
     "cell_type": "markdown",
     "metadata": {},
     "source": [
      "For gamma closure, an argument `type` will be used instead of `multivariate`. Type zero is univariate, while type one and two are different versions of multivariate gamma distributions (see the documentation for details)."
     ]
    },
    {
     "cell_type": "code",
     "collapsed": false,
     "input": [
      "problems_gamma = means.mea_approximation(MODEL_P53, 2, closure='gamma', type=2)"
     ],
     "language": "python",
     "metadata": {},
     "outputs": [],
     "prompt_number": 11
    }
   ],
   "metadata": {}
  }
 ]
}
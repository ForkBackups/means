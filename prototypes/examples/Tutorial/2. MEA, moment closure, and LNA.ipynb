{
 "metadata": {
  "name": ""
 },
 "nbformat": 3,
 "nbformat_minor": 0,
 "worksheets": [
  {
   "cells": [
    {
     "cell_type": "code",
     "collapsed": false,
     "input": [
      "%pylab inline\n",
      "import means\n",
      "import sympy\n",
      "import numpy as np\n",
      "import matplotlib.pyplot as plt\n",
      "MODEL_P53 = means.Model(constants=['c_0', 'c_1', 'c_2', 'c_3', 'c_4', 'c_5', 'c_6'],\n",
      "                  species=['y_0', 'y_1', 'y_2'],\n",
      "                  stoichiometry_matrix=[[1, -1, -1, 0, 0, 0],\n",
      "                                        [0, 0, 0, 1, -1, 0],\n",
      "                                        [0, 0, 0, 0, 1, -1]],\n",
      "                  propensities=['c_0',\n",
      "                                'c_1*y_0',\n",
      "                                'c_2*y_2*y_0/(y_0+c_6)',\n",
      "                                'c_3*y_0',\n",
      "                                'c_4*y_1',\n",
      "                                'c_5*y_2'])"
     ],
     "language": "python",
     "metadata": {},
     "outputs": [
      {
       "output_type": "stream",
       "stream": "stdout",
       "text": [
        "Populating the interactive namespace from numpy and matplotlib\n"
       ]
      }
     ],
     "prompt_number": 1
    },
    {
     "cell_type": "heading",
     "level": 2,
     "metadata": {},
     "source": [
      "2. Moment expansion approximation (MEA) and moment closure"
     ]
    },
    {
     "cell_type": "markdown",
     "metadata": {},
     "source": [
      "MEA is a method to aproximate the solution for chemical master equation (CME) by taking the model as the input and deriving the ODEs, as explained in Ale et al., (2013). The result of MEA is a serie of ODEs, where the RHS of the equations are the differentiated terms, and the LHS shows the symbols for each moment in ascending order. Since each moment is expressed in terms of higher order moments, a moment closure method is required to solve the ODEs."
     ]
    },
    {
     "cell_type": "markdown",
     "metadata": {},
     "source": [
      "MEAns package supports four moment closure methods, which are used to close the moment explicitly at the manually set maximal order of moments. Here, the maximal order is used the compute the last order moments to be included in the ODE system, and the higher order central moments can then be used for expression of lower order central moments. "
     ]
    },
    {
     "cell_type": "markdown",
     "metadata": {},
     "source": [
      "The default closure method is scalar closure, which allows setting the higher order moments to a scalar with an arbitrary value. Currently, the scalar value is set to be 0, but modification can be done in means.approximation.mea.scalar_closure. the The following code execute MEA and scalar closure method, with highest order of moments equals to 2 for simple demonstration. The ODE system is printed as below."
     ]
    },
    {
     "cell_type": "code",
     "collapsed": false,
     "input": [
      "ODEs_scalar = means.mea_approximation(MODEL_P53,2)\n",
      "ODEs_scalar"
     ],
     "language": "python",
     "metadata": {},
     "outputs": [
      {
       "latex": [
        "<h1>ODEProblem</h1>\n",
        "<p>Method: <code>'MEA'</code></p>\n",
        "<p>Constants: <code>[c_0, c_1, c_2, c_3, c_4, c_5, c_6]</code></p>\n",
        "<p>Terms:</p>\n",
        "<ul>\n",
        "<li><code>Moment(array([1, 0, 0]), symbol=y_0)</code></li>\n",
        "<li><code>Moment(array([0, 1, 0]), symbol=y_1)</code></li>\n",
        "<li><code>Moment(array([0, 0, 1]), symbol=y_2)</code></li>\n",
        "<li><code>Moment(array([0, 0, 2]), symbol=yx1)</code></li>\n",
        "<li><code>Moment(array([0, 1, 1]), symbol=yx2)</code></li>\n",
        "<li><code>Moment(array([0, 2, 0]), symbol=yx3)</code></li>\n",
        "<li><code>Moment(array([1, 0, 1]), symbol=yx4)</code></li>\n",
        "<li><code>Moment(array([1, 1, 0]), symbol=yx5)</code></li>\n",
        "<li><code>Moment(array([2, 0, 0]), symbol=yx6)</code></li>\n",
        "</ul>\n",
        "<hr />\n",
        "\\begin{align*}\n",
        "\\dot{y_{0}} &= c_{0} - c_{1} y_{0} - \\frac{c_{2} y_{0} y_{2}}{c_{6} + y_{0}} + yx_{4} \\left(\\frac{c_{2} y_{0}}{\\left(c_{6} + y_{0}\\right)^{2}} - \\frac{c_{2}}{c_{6} + y_{0}}\\right) + yx_{6} \\left(- \\frac{c_{2} y_{0} y_{2}}{\\left(c_{6} + y_{0}\\right)^{3}} + \\frac{c_{2} y_{2}}{\\left(c_{6} + y_{0}\\right)^{2}}\\right) \\\\\n",
        "\\dot{y_{1}} &= c_{3} y_{0} - c_{4} y_{1} \\\\\n",
        "\\dot{y_{2}} &= c_{4} y_{1} - c_{5} y_{2} \\\\\n",
        "\\dot{yx_{1}} &= 2 c_{4} y_{1} y_{2} + c_{4} y_{1} + 2 c_{4} yx_{2} - 2 c_{5} y_{2}^{2} + c_{5} y_{2} - 2 c_{5} yx_{1} - 2 y_{2} \\left(c_{4} y_{1} - c_{5} y_{2}\\right) \\\\\n",
        "\\dot{yx_{2}} &= c_{3} y_{0} y_{2} + c_{3} yx_{4} + c_{4} y_{1}^{2} - c_{4} y_{1} y_{2} - c_{4} y_{1} + c_{4} yx_{3} - c_{5} y_{1} y_{2} - y_{1} \\left(c_{4} y_{1} - c_{5} y_{2}\\right) - y_{2} \\left(c_{3} y_{0} - c_{4} y_{1}\\right) + yx_{2} \\left(- c_{4} - c_{5}\\right) \\\\\n",
        "\\dot{yx_{3}} &= 2 c_{3} y_{0} y_{1} + c_{3} y_{0} + 2 c_{3} yx_{5} - 2 c_{4} y_{1}^{2} + c_{4} y_{1} - 2 c_{4} yx_{3} - 2 y_{1} \\left(c_{3} y_{0} - c_{4} y_{1}\\right) \\\\\n",
        "\\dot{yx_{4}} &= c_{0} y_{2} - c_{1} y_{0} y_{2} - \\frac{c_{2} y_{0} y_{2}^{2}}{c_{6} + y_{0}} - \\frac{c_{2} y_{0} yx_{1}}{c_{6} + y_{0}} + c_{4} y_{0} y_{1} + c_{4} yx_{5} - c_{5} y_{0} y_{2} - y_{0} \\left(c_{4} y_{1} - c_{5} y_{2}\\right) - y_{2} \\left(c_{0} - c_{1} y_{0} - \\frac{c_{2} y_{0} y_{2}}{c_{6} + y_{0}}\\right) + yx_{4} \\left(- c_{1} + \\frac{2 c_{2} y_{0} y_{2}}{\\left(c_{6} + y_{0}\\right)^{2}} - \\frac{2 c_{2} y_{2}}{c_{6} + y_{0}} - c_{5} - y_{2} \\left(\\frac{c_{2} y_{0}}{\\left(c_{6} + y_{0}\\right)^{2}} - \\frac{c_{2}}{c_{6} + y_{0}}\\right)\\right) + yx_{6} \\left(- \\frac{c_{2} y_{0} y_{2}^{2}}{\\left(c_{6} + y_{0}\\right)^{3}} + \\frac{c_{2} y_{2}^{2}}{\\left(c_{6} + y_{0}\\right)^{2}} - y_{2} \\left(- \\frac{c_{2} y_{0} y_{2}}{\\left(c_{6} + y_{0}\\right)^{3}} + \\frac{c_{2} y_{2}}{\\left(c_{6} + y_{0}\\right)^{2}}\\right)\\right) \\\\\n",
        "\\dot{yx_{5}} &= c_{0} y_{1} - c_{1} y_{0} y_{1} - \\frac{c_{2} y_{0} y_{1} y_{2}}{c_{6} + y_{0}} - \\frac{c_{2} y_{0} yx_{2}}{c_{6} + y_{0}} + c_{3} y_{0}^{2} - c_{4} y_{0} y_{1} - y_{0} \\left(c_{3} y_{0} - c_{4} y_{1}\\right) - y_{1} \\left(c_{0} - c_{1} y_{0} - \\frac{c_{2} y_{0} y_{2}}{c_{6} + y_{0}}\\right) + yx_{4} \\left(\\frac{c_{2} y_{0} y_{1}}{\\left(c_{6} + y_{0}\\right)^{2}} - \\frac{c_{2} y_{1}}{c_{6} + y_{0}} - y_{1} \\left(\\frac{c_{2} y_{0}}{\\left(c_{6} + y_{0}\\right)^{2}} - \\frac{c_{2}}{c_{6} + y_{0}}\\right)\\right) + yx_{5} \\left(- c_{1} + \\frac{c_{2} y_{0} y_{2}}{\\left(c_{6} + y_{0}\\right)^{2}} - \\frac{c_{2} y_{2}}{c_{6} + y_{0}} - c_{4}\\right) + yx_{6} \\left(- \\frac{c_{2} y_{0} y_{1} y_{2}}{\\left(c_{6} + y_{0}\\right)^{3}} + \\frac{c_{2} y_{1} y_{2}}{\\left(c_{6} + y_{0}\\right)^{2}} + c_{3} - y_{1} \\left(- \\frac{c_{2} y_{0} y_{2}}{\\left(c_{6} + y_{0}\\right)^{3}} + \\frac{c_{2} y_{2}}{\\left(c_{6} + y_{0}\\right)^{2}}\\right)\\right) \\\\\n",
        "\\dot{yx_{6}} &= 2 c_{0} y_{0} + c_{0} - 2 c_{1} y_{0}^{2} + c_{1} y_{0} - \\frac{2 c_{2} y_{0}^{2} y_{2}}{c_{6} + y_{0}} + \\frac{c_{2} y_{0} y_{2}}{c_{6} + y_{0}} - 2 y_{0} \\left(c_{0} - c_{1} y_{0} - \\frac{c_{2} y_{0} y_{2}}{c_{6} + y_{0}}\\right) + yx_{4} \\left(\\frac{2 c_{2} y_{0}^{2}}{\\left(c_{6} + y_{0}\\right)^{2}} - \\frac{4 c_{2} y_{0}}{c_{6} + y_{0}} - \\frac{c_{2} y_{0}}{\\left(c_{6} + y_{0}\\right)^{2}} + \\frac{c_{2}}{c_{6} + y_{0}} - 2 y_{0} \\left(\\frac{c_{2} y_{0}}{\\left(c_{6} + y_{0}\\right)^{2}} - \\frac{c_{2}}{c_{6} + y_{0}}\\right)\\right) + yx_{6} \\left(- 2 c_{1} - \\frac{2 c_{2} y_{0}^{2} y_{2}}{\\left(c_{6} + y_{0}\\right)^{3}} + \\frac{4 c_{2} y_{0} y_{2}}{\\left(c_{6} + y_{0}\\right)^{2}} + \\frac{c_{2} y_{0} y_{2}}{\\left(c_{6} + y_{0}\\right)^{3}} - \\frac{2 c_{2} y_{2}}{c_{6} + y_{0}} - \\frac{c_{2} y_{2}}{\\left(c_{6} + y_{0}\\right)^{2}} - 2 y_{0} \\left(- \\frac{c_{2} y_{0} y_{2}}{\\left(c_{6} + y_{0}\\right)^{3}} + \\frac{c_{2} y_{2}}{\\left(c_{6} + y_{0}\\right)^{2}}\\right)\\right) \\\\\n",
        "\\end{align*}"
       ],
       "metadata": {},
       "output_type": "pyout",
       "prompt_number": 2,
       "text": [
        "<class 'means.core.problems.ODEProblem'>\n",
        "Method: 'MEA'\n",
        "Constants: [c_0, c_1, c_2, c_3, c_4, c_5, c_6]\n",
        "\n",
        "Equations:\n",
        "\n",
        "Moment(array([1, 0, 0]), symbol=y_0):\n",
        "    c_0 - c_1*y_0 - c_2*y_0*y_2/(c_6 + y_0) + yx4*(c_2*y_0/(c_6 + y_0)**2 - c_2/(c_6 + y_0)) + yx6*(-c_2*y_0*y_2/(c_6 + y_0)**3 + c_2*y_2/(c_6 + y_0)**2)\n",
        "\n",
        "Moment(array([0, 1, 0]), symbol=y_1):\n",
        "    c_3*y_0 - c_4*y_1\n",
        "\n",
        "Moment(array([0, 0, 1]), symbol=y_2):\n",
        "    c_4*y_1 - c_5*y_2\n",
        "\n",
        "Moment(array([0, 0, 2]), symbol=yx1):\n",
        "    2*c_4*y_1*y_2 + c_4*y_1 + 2*c_4*yx2 - 2*c_5*y_2**2 + c_5*y_2 - 2*c_5*yx1 - 2*y_2*(c_4*y_1 - c_5*y_2)\n",
        "\n",
        "Moment(array([0, 1, 1]), symbol=yx2):\n",
        "    c_3*y_0*y_2 + c_3*yx4 + c_4*y_1**2 - c_4*y_1*y_2 - c_4*y_1 + c_4*yx3 - c_5*y_1*y_2 - y_1*(c_4*y_1 - c_5*y_2) - y_2*(c_3*y_0 - c_4*y_1) + yx2*(-c_4 - c_5)\n",
        "\n",
        "Moment(array([0, 2, 0]), symbol=yx3):\n",
        "    2*c_3*y_0*y_1 + c_3*y_0 + 2*c_3*yx5 - 2*c_4*y_1**2 + c_4*y_1 - 2*c_4*yx3 - 2*y_1*(c_3*y_0 - c_4*y_1)\n",
        "\n",
        "Moment(array([1, 0, 1]), symbol=yx4):\n",
        "    c_0*y_2 - c_1*y_0*y_2 - c_2*y_0*y_2**2/(c_6 + y_0) - c_2*y_0*yx1/(c_6 + y_0) + c_4*y_0*y_1 + c_4*yx5 - c_5*y_0*y_2 - y_0*(c_4*y_1 - c_5*y_2) - y_2*(c_0 - c_1*y_0 - c_2*y_0*y_2/(c_6 + y_0)) + yx4*(-c_1 + 2*c_2*y_0*y_2/(c_6 + y_0)**2 - 2*c_2*y_2/(c_6 + y_0) - c_5 - y_2*(c_2*y_0/(c_6 + y_0)**2 - c_2/(c_6 + y_0))) + yx6*(-c_2*y_0*y_2**2/(c_6 + y_0)**3 + c_2*y_2**2/(c_6 + y_0)**2 - y_2*(-c_2*y_0*y_2/(c_6 + y_0)**3 + c_2*y_2/(c_6 + y_0)**2))\n",
        "\n",
        "Moment(array([1, 1, 0]), symbol=yx5):\n",
        "    c_0*y_1 - c_1*y_0*y_1 - c_2*y_0*y_1*y_2/(c_6 + y_0) - c_2*y_0*yx2/(c_6 + y_0) + c_3*y_0**2 - c_4*y_0*y_1 - y_0*(c_3*y_0 - c_4*y_1) - y_1*(c_0 - c_1*y_0 - c_2*y_0*y_2/(c_6 + y_0)) + yx4*(c_2*y_0*y_1/(c_6 + y_0)**2 - c_2*y_1/(c_6 + y_0) - y_1*(c_2*y_0/(c_6 + y_0)**2 - c_2/(c_6 + y_0))) + yx5*(-c_1 + c_2*y_0*y_2/(c_6 + y_0)**2 - c_2*y_2/(c_6 + y_0) - c_4) + yx6*(-c_2*y_0*y_1*y_2/(c_6 + y_0)**3 + c_2*y_1*y_2/(c_6 + y_0)**2 + c_3 - y_1*(-c_2*y_0*y_2/(c_6 + y_0)**3 + c_2*y_2/(c_6 + y_0)**2))\n",
        "\n",
        "Moment(array([2, 0, 0]), symbol=yx6):\n",
        "    2*c_0*y_0 + c_0 - 2*c_1*y_0**2 + c_1*y_0 - 2*c_2*y_0**2*y_2/(c_6 + y_0) + c_2*y_0*y_2/(c_6 + y_0) - 2*y_0*(c_0 - c_1*y_0 - c_2*y_0*y_2/(c_6 + y_0)) + yx4*(2*c_2*y_0**2/(c_6 + y_0)**2 - 4*c_2*y_0/(c_6 + y_0) - c_2*y_0/(c_6 + y_0)**2 + c_2/(c_6 + y_0) - 2*y_0*(c_2*y_0/(c_6 + y_0)**2 - c_2/(c_6 + y_0))) + yx6*(-2*c_1 - 2*c_2*y_0**2*y_2/(c_6 + y_0)**3 + 4*c_2*y_0*y_2/(c_6 + y_0)**2 + c_2*y_0*y_2/(c_6 + y_0)**3 - 2*c_2*y_2/(c_6 + y_0) - c_2*y_2/(c_6 + y_0)**2 - 2*y_0*(-c_2*y_0*y_2/(c_6 + y_0)**3 + c_2*y_2/(c_6 + y_0)**2))\n"
       ]
      }
     ],
     "prompt_number": 2
    },
    {
     "cell_type": "markdown",
     "metadata": {},
     "source": [
      "The outputs of MEA and moment closure are nicely printed in $\\LaTeX$ notation. Here, the terms represent the moment of each chemical species for each moment orde. The symbols representing each set of moments are also given. For example, y_0 to y_n serve as the means for the species, where n denotes the number of variables. The terms containing yx are higher order moments. The ODE system is generated in the same order as the moment symbols."
     ]
    },
    {
     "cell_type": "markdown",
     "metadata": {},
     "source": [
      "Other closure methods assume a certain type of distribution of the species, and the supported distributions include Normal, log-Normal and Gamma. "
     ]
    },
    {
     "cell_type": "markdown",
     "metadata": {},
     "source": [
      "In order to close the moment expansion with parametric closure, additional inputs are also required i.e. the distribution of the variables and if the variable(s) is univariate or multivariate. In fact, univariate type not only can be used for single species or multiple species if they are regarded as the same species. For instance, species in dimerisation reaction can be considered as univariate. Let's compute the ODE system using log-Normal closure with maximum order of 2 as an example. "
     ]
    },
    {
     "cell_type": "code",
     "collapsed": false,
     "input": [
      "ODEs_logn = means.mea_approximation(MODEL_P53, 2, closure='log-normal', multivariate=True)\n",
      "ODEs_logn                                                                                                                       "
     ],
     "language": "python",
     "metadata": {},
     "outputs": [
      {
       "latex": [
        "<h1>ODEProblem</h1>\n",
        "<p>Method: <code>'MEA'</code></p>\n",
        "<p>Constants: <code>[c_0, c_1, c_2, c_3, c_4, c_5, c_6]</code></p>\n",
        "<p>Terms:</p>\n",
        "<ul>\n",
        "<li><code>Moment(array([1, 0, 0]), symbol=y_0)</code></li>\n",
        "<li><code>Moment(array([0, 1, 0]), symbol=y_1)</code></li>\n",
        "<li><code>Moment(array([0, 0, 1]), symbol=y_2)</code></li>\n",
        "<li><code>Moment(array([0, 0, 2]), symbol=yx1)</code></li>\n",
        "<li><code>Moment(array([0, 1, 1]), symbol=yx2)</code></li>\n",
        "<li><code>Moment(array([0, 2, 0]), symbol=yx3)</code></li>\n",
        "<li><code>Moment(array([1, 0, 1]), symbol=yx4)</code></li>\n",
        "<li><code>Moment(array([1, 1, 0]), symbol=yx5)</code></li>\n",
        "<li><code>Moment(array([2, 0, 0]), symbol=yx6)</code></li>\n",
        "</ul>\n",
        "<hr />\n",
        "\\begin{align*}\n",
        "\\dot{y_{0}} &= c_{0} - c_{1} y_{0} - \\frac{c_{2} y_{0} y_{2}}{c_{6} + y_{0}} + yx_{4} \\left(\\frac{c_{2} y_{0}}{\\left(c_{6} + y_{0}\\right)^{2}} - \\frac{c_{2}}{c_{6} + y_{0}}\\right) + yx_{6} \\left(- \\frac{c_{2} y_{0} y_{2}}{\\left(c_{6} + y_{0}\\right)^{3}} + \\frac{c_{2} y_{2}}{\\left(c_{6} + y_{0}\\right)^{2}}\\right) + \\left(- \\frac{c_{2} y_{0}}{\\left(c_{6} + y_{0}\\right)^{3}} + \\frac{c_{2}}{\\left(c_{6} + y_{0}\\right)^{2}}\\right) \\left(y_{0}^{2} y_{2} \\left(1 + \\frac{yx_{6}}{y_{0}^{2}}\\right) \\left(1 + \\frac{yx_{4}}{y_{0} y_{2}}\\right)^{2} - y_{0}^{2} y_{2} \\left(1 + \\frac{yx_{6}}{y_{0}^{2}}\\right) - 2 y_{0}^{2} y_{2} \\left(1 + \\frac{yx_{4}}{y_{0} y_{2}}\\right) + 2 y_{0}^{2} y_{2}\\right) + \\left(\\frac{c_{2} y_{0} y_{2}}{\\left(c_{6} + y_{0}\\right)^{4}} - \\frac{c_{2} y_{2}}{\\left(c_{6} + y_{0}\\right)^{3}}\\right) \\left(y_{0}^{3} \\left(1 + \\frac{yx_{6}}{y_{0}^{2}}\\right)^{3} - 3 y_{0}^{3} \\left(1 + \\frac{yx_{6}}{y_{0}^{2}}\\right) + 2 y_{0}^{3}\\right) \\\\\n",
        "\\dot{y_{1}} &= c_{3} y_{0} - c_{4} y_{1} \\\\\n",
        "\\dot{y_{2}} &= c_{4} y_{1} - c_{5} y_{2} \\\\\n",
        "\\dot{yx_{1}} &= 2 c_{4} y_{1} y_{2} + c_{4} y_{1} + 2 c_{4} yx_{2} - 2 c_{5} y_{2}^{2} + c_{5} y_{2} - 2 c_{5} yx_{1} - 2 y_{2} \\left(c_{4} y_{1} - c_{5} y_{2}\\right) \\\\\n",
        "\\dot{yx_{2}} &= c_{3} y_{0} y_{2} + c_{3} yx_{4} + c_{4} y_{1}^{2} - c_{4} y_{1} y_{2} - c_{4} y_{1} + c_{4} yx_{3} - c_{5} y_{1} y_{2} - y_{1} \\left(c_{4} y_{1} - c_{5} y_{2}\\right) - y_{2} \\left(c_{3} y_{0} - c_{4} y_{1}\\right) + yx_{2} \\left(- c_{4} - c_{5}\\right) \\\\\n",
        "\\dot{yx_{3}} &= 2 c_{3} y_{0} y_{1} + c_{3} y_{0} + 2 c_{3} yx_{5} - 2 c_{4} y_{1}^{2} + c_{4} y_{1} - 2 c_{4} yx_{3} - 2 y_{1} \\left(c_{3} y_{0} - c_{4} y_{1}\\right) \\\\\n",
        "\\dot{yx_{4}} &= c_{0} y_{2} - c_{1} y_{0} y_{2} - \\frac{c_{2} y_{0} y_{2}^{2}}{c_{6} + y_{0}} - \\frac{c_{2} y_{0} yx_{1}}{c_{6} + y_{0}} + c_{4} y_{0} y_{1} + c_{4} yx_{5} - c_{5} y_{0} y_{2} - y_{0} \\left(c_{4} y_{1} - c_{5} y_{2}\\right) - y_{2} \\left(c_{0} - c_{1} y_{0} - \\frac{c_{2} y_{0} y_{2}}{c_{6} + y_{0}}\\right) + yx_{4} \\left(- c_{1} + \\frac{2 c_{2} y_{0} y_{2}}{\\left(c_{6} + y_{0}\\right)^{2}} - \\frac{2 c_{2} y_{2}}{c_{6} + y_{0}} - c_{5} - y_{2} \\left(\\frac{c_{2} y_{0}}{\\left(c_{6} + y_{0}\\right)^{2}} - \\frac{c_{2}}{c_{6} + y_{0}}\\right)\\right) + yx_{6} \\left(- \\frac{c_{2} y_{0} y_{2}^{2}}{\\left(c_{6} + y_{0}\\right)^{3}} + \\frac{c_{2} y_{2}^{2}}{\\left(c_{6} + y_{0}\\right)^{2}} - y_{2} \\left(- \\frac{c_{2} y_{0} y_{2}}{\\left(c_{6} + y_{0}\\right)^{3}} + \\frac{c_{2} y_{2}}{\\left(c_{6} + y_{0}\\right)^{2}}\\right)\\right) + \\left(\\frac{c_{2} y_{0}}{\\left(c_{6} + y_{0}\\right)^{2}} - \\frac{c_{2}}{c_{6} + y_{0}}\\right) \\left(y_{0} y_{2}^{2} \\left(1 + \\frac{yx_{1}}{y_{2}^{2}}\\right) \\left(1 + \\frac{yx_{4}}{y_{0} y_{2}}\\right)^{2} - y_{0} y_{2}^{2} \\left(1 + \\frac{yx_{1}}{y_{2}^{2}}\\right) - 2 y_{0} y_{2}^{2} \\left(1 + \\frac{yx_{4}}{y_{0} y_{2}}\\right) + 2 y_{0} y_{2}^{2}\\right) + \\left(y_{0}^{3} \\left(1 + \\frac{yx_{6}}{y_{0}^{2}}\\right)^{3} - 3 y_{0}^{3} \\left(1 + \\frac{yx_{6}}{y_{0}^{2}}\\right) + 2 y_{0}^{3}\\right) \\left(\\frac{c_{2} y_{0} y_{2}^{2}}{\\left(c_{6} + y_{0}\\right)^{4}} - \\frac{c_{2} y_{2}^{2}}{\\left(c_{6} + y_{0}\\right)^{3}} - y_{2} \\left(\\frac{c_{2} y_{0} y_{2}}{\\left(c_{6} + y_{0}\\right)^{4}} - \\frac{c_{2} y_{2}}{\\left(c_{6} + y_{0}\\right)^{3}}\\right)\\right) + \\left(- \\frac{2 c_{2} y_{0} y_{2}}{\\left(c_{6} + y_{0}\\right)^{3}} + \\frac{2 c_{2} y_{2}}{\\left(c_{6} + y_{0}\\right)^{2}} - y_{2} \\left(- \\frac{c_{2} y_{0}}{\\left(c_{6} + y_{0}\\right)^{3}} + \\frac{c_{2}}{\\left(c_{6} + y_{0}\\right)^{2}}\\right)\\right) \\left(y_{0}^{2} y_{2} \\left(1 + \\frac{yx_{6}}{y_{0}^{2}}\\right) \\left(1 + \\frac{yx_{4}}{y_{0} y_{2}}\\right)^{2} - y_{0}^{2} y_{2} \\left(1 + \\frac{yx_{6}}{y_{0}^{2}}\\right) - 2 y_{0}^{2} y_{2} \\left(1 + \\frac{yx_{4}}{y_{0} y_{2}}\\right) + 2 y_{0}^{2} y_{2}\\right) \\\\\n",
        "\\dot{yx_{5}} &= c_{0} y_{1} - c_{1} y_{0} y_{1} - \\frac{c_{2} y_{0} y_{1} y_{2}}{c_{6} + y_{0}} - \\frac{c_{2} y_{0} yx_{2}}{c_{6} + y_{0}} + c_{3} y_{0}^{2} - c_{4} y_{0} y_{1} - y_{0} \\left(c_{3} y_{0} - c_{4} y_{1}\\right) - y_{1} \\left(c_{0} - c_{1} y_{0} - \\frac{c_{2} y_{0} y_{2}}{c_{6} + y_{0}}\\right) + yx_{4} \\left(\\frac{c_{2} y_{0} y_{1}}{\\left(c_{6} + y_{0}\\right)^{2}} - \\frac{c_{2} y_{1}}{c_{6} + y_{0}} - y_{1} \\left(\\frac{c_{2} y_{0}}{\\left(c_{6} + y_{0}\\right)^{2}} - \\frac{c_{2}}{c_{6} + y_{0}}\\right)\\right) + yx_{5} \\left(- c_{1} + \\frac{c_{2} y_{0} y_{2}}{\\left(c_{6} + y_{0}\\right)^{2}} - \\frac{c_{2} y_{2}}{c_{6} + y_{0}} - c_{4}\\right) + yx_{6} \\left(- \\frac{c_{2} y_{0} y_{1} y_{2}}{\\left(c_{6} + y_{0}\\right)^{3}} + \\frac{c_{2} y_{1} y_{2}}{\\left(c_{6} + y_{0}\\right)^{2}} + c_{3} - y_{1} \\left(- \\frac{c_{2} y_{0} y_{2}}{\\left(c_{6} + y_{0}\\right)^{3}} + \\frac{c_{2} y_{2}}{\\left(c_{6} + y_{0}\\right)^{2}}\\right)\\right) + \\left(\\frac{c_{2} y_{0}}{\\left(c_{6} + y_{0}\\right)^{2}} - \\frac{c_{2}}{c_{6} + y_{0}}\\right) \\left(y_{0} y_{1} y_{2} \\left(1 + \\frac{yx_{5}}{y_{0} y_{1}}\\right) \\left(1 + \\frac{yx_{4}}{y_{0} y_{2}}\\right) \\left(1 + \\frac{yx_{2}}{y_{1} y_{2}}\\right) - y_{0} y_{1} y_{2} \\left(1 + \\frac{yx_{5}}{y_{0} y_{1}}\\right) - y_{0} y_{1} y_{2} \\left(1 + \\frac{yx_{4}}{y_{0} y_{2}}\\right) - y_{0} y_{1} y_{2} \\left(1 + \\frac{yx_{2}}{y_{1} y_{2}}\\right) + 2 y_{0} y_{1} y_{2}\\right) + \\left(- \\frac{c_{2} y_{0} y_{2}}{\\left(c_{6} + y_{0}\\right)^{3}} + \\frac{c_{2} y_{2}}{\\left(c_{6} + y_{0}\\right)^{2}}\\right) \\left(y_{0}^{2} y_{1} \\left(1 + \\frac{yx_{6}}{y_{0}^{2}}\\right) \\left(1 + \\frac{yx_{5}}{y_{0} y_{1}}\\right)^{2} - y_{0}^{2} y_{1} \\left(1 + \\frac{yx_{6}}{y_{0}^{2}}\\right) - 2 y_{0}^{2} y_{1} \\left(1 + \\frac{yx_{5}}{y_{0} y_{1}}\\right) + 2 y_{0}^{2} y_{1}\\right) + \\left(y_{0}^{3} \\left(1 + \\frac{yx_{6}}{y_{0}^{2}}\\right)^{3} - 3 y_{0}^{3} \\left(1 + \\frac{yx_{6}}{y_{0}^{2}}\\right) + 2 y_{0}^{3}\\right) \\left(\\frac{c_{2} y_{0} y_{1} y_{2}}{\\left(c_{6} + y_{0}\\right)^{4}} - \\frac{c_{2} y_{1} y_{2}}{\\left(c_{6} + y_{0}\\right)^{3}} - y_{1} \\left(\\frac{c_{2} y_{0} y_{2}}{\\left(c_{6} + y_{0}\\right)^{4}} - \\frac{c_{2} y_{2}}{\\left(c_{6} + y_{0}\\right)^{3}}\\right)\\right) + \\left(- \\frac{c_{2} y_{0} y_{1}}{\\left(c_{6} + y_{0}\\right)^{3}} + \\frac{c_{2} y_{1}}{\\left(c_{6} + y_{0}\\right)^{2}} - y_{1} \\left(- \\frac{c_{2} y_{0}}{\\left(c_{6} + y_{0}\\right)^{3}} + \\frac{c_{2}}{\\left(c_{6} + y_{0}\\right)^{2}}\\right)\\right) \\left(y_{0}^{2} y_{2} \\left(1 + \\frac{yx_{6}}{y_{0}^{2}}\\right) \\left(1 + \\frac{yx_{4}}{y_{0} y_{2}}\\right)^{2} - y_{0}^{2} y_{2} \\left(1 + \\frac{yx_{6}}{y_{0}^{2}}\\right) - 2 y_{0}^{2} y_{2} \\left(1 + \\frac{yx_{4}}{y_{0} y_{2}}\\right) + 2 y_{0}^{2} y_{2}\\right) \\\\\n",
        "\\dot{yx_{6}} &= 2 c_{0} y_{0} + c_{0} - 2 c_{1} y_{0}^{2} + c_{1} y_{0} - \\frac{2 c_{2} y_{0}^{2} y_{2}}{c_{6} + y_{0}} + \\frac{c_{2} y_{0} y_{2}}{c_{6} + y_{0}} - 2 y_{0} \\left(c_{0} - c_{1} y_{0} - \\frac{c_{2} y_{0} y_{2}}{c_{6} + y_{0}}\\right) + yx_{4} \\left(\\frac{2 c_{2} y_{0}^{2}}{\\left(c_{6} + y_{0}\\right)^{2}} - \\frac{4 c_{2} y_{0}}{c_{6} + y_{0}} - \\frac{c_{2} y_{0}}{\\left(c_{6} + y_{0}\\right)^{2}} + \\frac{c_{2}}{c_{6} + y_{0}} - 2 y_{0} \\left(\\frac{c_{2} y_{0}}{\\left(c_{6} + y_{0}\\right)^{2}} - \\frac{c_{2}}{c_{6} + y_{0}}\\right)\\right) + yx_{6} \\left(- 2 c_{1} - \\frac{2 c_{2} y_{0}^{2} y_{2}}{\\left(c_{6} + y_{0}\\right)^{3}} + \\frac{4 c_{2} y_{0} y_{2}}{\\left(c_{6} + y_{0}\\right)^{2}} + \\frac{c_{2} y_{0} y_{2}}{\\left(c_{6} + y_{0}\\right)^{3}} - \\frac{2 c_{2} y_{2}}{c_{6} + y_{0}} - \\frac{c_{2} y_{2}}{\\left(c_{6} + y_{0}\\right)^{2}} - 2 y_{0} \\left(- \\frac{c_{2} y_{0} y_{2}}{\\left(c_{6} + y_{0}\\right)^{3}} + \\frac{c_{2} y_{2}}{\\left(c_{6} + y_{0}\\right)^{2}}\\right)\\right) + \\left(y_{0}^{3} \\left(1 + \\frac{yx_{6}}{y_{0}^{2}}\\right)^{3} - 3 y_{0}^{3} \\left(1 + \\frac{yx_{6}}{y_{0}^{2}}\\right) + 2 y_{0}^{3}\\right) \\left(\\frac{2 c_{2} y_{0}^{2} y_{2}}{\\left(c_{6} + y_{0}\\right)^{4}} - \\frac{4 c_{2} y_{0} y_{2}}{\\left(c_{6} + y_{0}\\right)^{3}} - \\frac{c_{2} y_{0} y_{2}}{\\left(c_{6} + y_{0}\\right)^{4}} + \\frac{2 c_{2} y_{2}}{\\left(c_{6} + y_{0}\\right)^{2}} + \\frac{c_{2} y_{2}}{\\left(c_{6} + y_{0}\\right)^{3}} - 2 y_{0} \\left(\\frac{c_{2} y_{0} y_{2}}{\\left(c_{6} + y_{0}\\right)^{4}} - \\frac{c_{2} y_{2}}{\\left(c_{6} + y_{0}\\right)^{3}}\\right)\\right) + \\left(y_{0}^{2} y_{2} \\left(1 + \\frac{yx_{6}}{y_{0}^{2}}\\right) \\left(1 + \\frac{yx_{4}}{y_{0} y_{2}}\\right)^{2} - y_{0}^{2} y_{2} \\left(1 + \\frac{yx_{6}}{y_{0}^{2}}\\right) - 2 y_{0}^{2} y_{2} \\left(1 + \\frac{yx_{4}}{y_{0} y_{2}}\\right) + 2 y_{0}^{2} y_{2}\\right) \\left(- \\frac{2 c_{2} y_{0}^{2}}{\\left(c_{6} + y_{0}\\right)^{3}} + \\frac{4 c_{2} y_{0}}{\\left(c_{6} + y_{0}\\right)^{2}} + \\frac{c_{2} y_{0}}{\\left(c_{6} + y_{0}\\right)^{3}} - \\frac{2 c_{2}}{c_{6} + y_{0}} - \\frac{c_{2}}{\\left(c_{6} + y_{0}\\right)^{2}} - 2 y_{0} \\left(- \\frac{c_{2} y_{0}}{\\left(c_{6} + y_{0}\\right)^{3}} + \\frac{c_{2}}{\\left(c_{6} + y_{0}\\right)^{2}}\\right)\\right) \\\\\n",
        "\\end{align*}"
       ],
       "metadata": {},
       "output_type": "pyout",
       "prompt_number": 4,
       "text": [
        "<class 'means.core.problems.ODEProblem'>\n",
        "Method: 'MEA'\n",
        "Constants: [c_0, c_1, c_2, c_3, c_4, c_5, c_6]\n",
        "\n",
        "Equations:\n",
        "\n",
        "Moment(array([1, 0, 0]), symbol=y_0):\n",
        "    c_0 - c_1*y_0 - c_2*y_0*y_2/(c_6 + y_0) + yx4*(c_2*y_0/(c_6 + y_0)**2 - c_2/(c_6 + y_0)) + yx6*(-c_2*y_0*y_2/(c_6 + y_0)**3 + c_2*y_2/(c_6 + y_0)**2) + (-c_2*y_0/(c_6 + y_0)**3 + c_2/(c_6 + y_0)**2)*(y_0**2*y_2*(1 + yx6/y_0**2)*(1 + yx4/(y_0*y_2))**2 - y_0**2*y_2*(1 + yx6/y_0**2) - 2*y_0**2*y_2*(1 + yx4/(y_0*y_2)) + 2*y_0**2*y_2) + (c_2*y_0*y_2/(c_6 + y_0)**4 - c_2*y_2/(c_6 + y_0)**3)*(y_0**3*(1 + yx6/y_0**2)**3 - 3*y_0**3*(1 + yx6/y_0**2) + 2*y_0**3)\n",
        "\n",
        "Moment(array([0, 1, 0]), symbol=y_1):\n",
        "    c_3*y_0 - c_4*y_1\n",
        "\n",
        "Moment(array([0, 0, 1]), symbol=y_2):\n",
        "    c_4*y_1 - c_5*y_2\n",
        "\n",
        "Moment(array([0, 0, 2]), symbol=yx1):\n",
        "    2*c_4*y_1*y_2 + c_4*y_1 + 2*c_4*yx2 - 2*c_5*y_2**2 + c_5*y_2 - 2*c_5*yx1 - 2*y_2*(c_4*y_1 - c_5*y_2)\n",
        "\n",
        "Moment(array([0, 1, 1]), symbol=yx2):\n",
        "    c_3*y_0*y_2 + c_3*yx4 + c_4*y_1**2 - c_4*y_1*y_2 - c_4*y_1 + c_4*yx3 - c_5*y_1*y_2 - y_1*(c_4*y_1 - c_5*y_2) - y_2*(c_3*y_0 - c_4*y_1) + yx2*(-c_4 - c_5)\n",
        "\n",
        "Moment(array([0, 2, 0]), symbol=yx3):\n",
        "    2*c_3*y_0*y_1 + c_3*y_0 + 2*c_3*yx5 - 2*c_4*y_1**2 + c_4*y_1 - 2*c_4*yx3 - 2*y_1*(c_3*y_0 - c_4*y_1)\n",
        "\n",
        "Moment(array([1, 0, 1]), symbol=yx4):\n",
        "    c_0*y_2 - c_1*y_0*y_2 - c_2*y_0*y_2**2/(c_6 + y_0) - c_2*y_0*yx1/(c_6 + y_0) + c_4*y_0*y_1 + c_4*yx5 - c_5*y_0*y_2 - y_0*(c_4*y_1 - c_5*y_2) - y_2*(c_0 - c_1*y_0 - c_2*y_0*y_2/(c_6 + y_0)) + yx4*(-c_1 + 2*c_2*y_0*y_2/(c_6 + y_0)**2 - 2*c_2*y_2/(c_6 + y_0) - c_5 - y_2*(c_2*y_0/(c_6 + y_0)**2 - c_2/(c_6 + y_0))) + yx6*(-c_2*y_0*y_2**2/(c_6 + y_0)**3 + c_2*y_2**2/(c_6 + y_0)**2 - y_2*(-c_2*y_0*y_2/(c_6 + y_0)**3 + c_2*y_2/(c_6 + y_0)**2)) + (c_2*y_0/(c_6 + y_0)**2 - c_2/(c_6 + y_0))*(y_0*y_2**2*(1 + yx1/y_2**2)*(1 + yx4/(y_0*y_2))**2 - y_0*y_2**2*(1 + yx1/y_2**2) - 2*y_0*y_2**2*(1 + yx4/(y_0*y_2)) + 2*y_0*y_2**2) + (y_0**3*(1 + yx6/y_0**2)**3 - 3*y_0**3*(1 + yx6/y_0**2) + 2*y_0**3)*(c_2*y_0*y_2**2/(c_6 + y_0)**4 - c_2*y_2**2/(c_6 + y_0)**3 - y_2*(c_2*y_0*y_2/(c_6 + y_0)**4 - c_2*y_2/(c_6 + y_0)**3)) + (-2*c_2*y_0*y_2/(c_6 + y_0)**3 + 2*c_2*y_2/(c_6 + y_0)**2 - y_2*(-c_2*y_0/(c_6 + y_0)**3 + c_2/(c_6 + y_0)**2))*(y_0**2*y_2*(1 + yx6/y_0**2)*(1 + yx4/(y_0*y_2))**2 - y_0**2*y_2*(1 + yx6/y_0**2) - 2*y_0**2*y_2*(1 + yx4/(y_0*y_2)) + 2*y_0**2*y_2)\n",
        "\n",
        "Moment(array([1, 1, 0]), symbol=yx5):\n",
        "    c_0*y_1 - c_1*y_0*y_1 - c_2*y_0*y_1*y_2/(c_6 + y_0) - c_2*y_0*yx2/(c_6 + y_0) + c_3*y_0**2 - c_4*y_0*y_1 - y_0*(c_3*y_0 - c_4*y_1) - y_1*(c_0 - c_1*y_0 - c_2*y_0*y_2/(c_6 + y_0)) + yx4*(c_2*y_0*y_1/(c_6 + y_0)**2 - c_2*y_1/(c_6 + y_0) - y_1*(c_2*y_0/(c_6 + y_0)**2 - c_2/(c_6 + y_0))) + yx5*(-c_1 + c_2*y_0*y_2/(c_6 + y_0)**2 - c_2*y_2/(c_6 + y_0) - c_4) + yx6*(-c_2*y_0*y_1*y_2/(c_6 + y_0)**3 + c_2*y_1*y_2/(c_6 + y_0)**2 + c_3 - y_1*(-c_2*y_0*y_2/(c_6 + y_0)**3 + c_2*y_2/(c_6 + y_0)**2)) + (c_2*y_0/(c_6 + y_0)**2 - c_2/(c_6 + y_0))*(y_0*y_1*y_2*(1 + yx5/(y_0*y_1))*(1 + yx4/(y_0*y_2))*(1 + yx2/(y_1*y_2)) - y_0*y_1*y_2*(1 + yx5/(y_0*y_1)) - y_0*y_1*y_2*(1 + yx4/(y_0*y_2)) - y_0*y_1*y_2*(1 + yx2/(y_1*y_2)) + 2*y_0*y_1*y_2) + (-c_2*y_0*y_2/(c_6 + y_0)**3 + c_2*y_2/(c_6 + y_0)**2)*(y_0**2*y_1*(1 + yx6/y_0**2)*(1 + yx5/(y_0*y_1))**2 - y_0**2*y_1*(1 + yx6/y_0**2) - 2*y_0**2*y_1*(1 + yx5/(y_0*y_1)) + 2*y_0**2*y_1) + (y_0**3*(1 + yx6/y_0**2)**3 - 3*y_0**3*(1 + yx6/y_0**2) + 2*y_0**3)*(c_2*y_0*y_1*y_2/(c_6 + y_0)**4 - c_2*y_1*y_2/(c_6 + y_0)**3 - y_1*(c_2*y_0*y_2/(c_6 + y_0)**4 - c_2*y_2/(c_6 + y_0)**3)) + (-c_2*y_0*y_1/(c_6 + y_0)**3 + c_2*y_1/(c_6 + y_0)**2 - y_1*(-c_2*y_0/(c_6 + y_0)**3 + c_2/(c_6 + y_0)**2))*(y_0**2*y_2*(1 + yx6/y_0**2)*(1 + yx4/(y_0*y_2))**2 - y_0**2*y_2*(1 + yx6/y_0**2) - 2*y_0**2*y_2*(1 + yx4/(y_0*y_2)) + 2*y_0**2*y_2)\n",
        "\n",
        "Moment(array([2, 0, 0]), symbol=yx6):\n",
        "    2*c_0*y_0 + c_0 - 2*c_1*y_0**2 + c_1*y_0 - 2*c_2*y_0**2*y_2/(c_6 + y_0) + c_2*y_0*y_2/(c_6 + y_0) - 2*y_0*(c_0 - c_1*y_0 - c_2*y_0*y_2/(c_6 + y_0)) + yx4*(2*c_2*y_0**2/(c_6 + y_0)**2 - 4*c_2*y_0/(c_6 + y_0) - c_2*y_0/(c_6 + y_0)**2 + c_2/(c_6 + y_0) - 2*y_0*(c_2*y_0/(c_6 + y_0)**2 - c_2/(c_6 + y_0))) + yx6*(-2*c_1 - 2*c_2*y_0**2*y_2/(c_6 + y_0)**3 + 4*c_2*y_0*y_2/(c_6 + y_0)**2 + c_2*y_0*y_2/(c_6 + y_0)**3 - 2*c_2*y_2/(c_6 + y_0) - c_2*y_2/(c_6 + y_0)**2 - 2*y_0*(-c_2*y_0*y_2/(c_6 + y_0)**3 + c_2*y_2/(c_6 + y_0)**2)) + (y_0**3*(1 + yx6/y_0**2)**3 - 3*y_0**3*(1 + yx6/y_0**2) + 2*y_0**3)*(2*c_2*y_0**2*y_2/(c_6 + y_0)**4 - 4*c_2*y_0*y_2/(c_6 + y_0)**3 - c_2*y_0*y_2/(c_6 + y_0)**4 + 2*c_2*y_2/(c_6 + y_0)**2 + c_2*y_2/(c_6 + y_0)**3 - 2*y_0*(c_2*y_0*y_2/(c_6 + y_0)**4 - c_2*y_2/(c_6 + y_0)**3)) + (y_0**2*y_2*(1 + yx6/y_0**2)*(1 + yx4/(y_0*y_2))**2 - y_0**2*y_2*(1 + yx6/y_0**2) - 2*y_0**2*y_2*(1 + yx4/(y_0*y_2)) + 2*y_0**2*y_2)*(-2*c_2*y_0**2/(c_6 + y_0)**3 + 4*c_2*y_0/(c_6 + y_0)**2 + c_2*y_0/(c_6 + y_0)**3 - 2*c_2/(c_6 + y_0) - c_2/(c_6 + y_0)**2 - 2*y_0*(-c_2*y_0/(c_6 + y_0)**3 + c_2/(c_6 + y_0)**2))\n"
       ]
      }
     ],
     "prompt_number": 4
    },
    {
     "cell_type": "markdown",
     "metadata": {},
     "source": [
      "The outputs are printed in the same format, but the equations are very different. The resulting difference in system behaviour can be visualised in simulation step later."
     ]
    },
    {
     "cell_type": "markdown",
     "metadata": {},
     "source": [
      "Among the supported closure methods, Gamma closure is more complex than the others, as there are two multivariate Gamma types. Hence, instead of specifying univariate or multivariate, the data type should be expressed in number, where 0 indicates univariate case, 1 and 2 represent two different multivariate type. Let's try gamma closure at order of 2 as an example. "
     ]
    },
    {
     "cell_type": "code",
     "collapsed": false,
     "input": [
      "ODEs_gamma = means.mea_approximation(MODEL_P53, 2, closure='gamma', type=2)"
     ],
     "language": "python",
     "metadata": {},
     "outputs": [],
     "prompt_number": 5
    }
   ],
   "metadata": {}
  }
 ]
}
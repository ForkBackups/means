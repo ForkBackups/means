{
 "metadata": {
  "name": ""
 },
 "nbformat": 3,
 "nbformat_minor": 0,
 "worksheets": [
  {
   "cells": [
    {
     "cell_type": "code",
     "collapsed": false,
     "input": [
      "%pylab inline"
     ],
     "language": "python",
     "metadata": {},
     "outputs": [
      {
       "output_type": "stream",
       "stream": "stdout",
       "text": [
        "Populating the interactive namespace from numpy and matplotlib\n"
       ]
      }
     ],
     "prompt_number": 14
    },
    {
     "cell_type": "markdown",
     "metadata": {},
     "source": [
      "This tutorial describes a way biological systems could be modelled using `MEANS` package."
     ]
    },
    {
     "cell_type": "markdown",
     "metadata": {},
     "source": [
      "In this example we will consider a simplified version of tumor-supressor protein *p53* system, as described in  [citation needed], which is as a system of three proteins: *p53*, *MDM2 precursor* and *MDM2*. \n",
      "\n",
      "The system we are considering can be described by the following reactions:\n",
      "\n",
      "$$\n",
      "\\begin{align*}\n",
      "\\emptyset & \\rightarrow p53 & \\text{p53 translation}\\\\ \n",
      "p53 & \\rightarrow \\emptyset & \\text{p53 degradation} \\\\\n",
      "p53 & \\rightarrow MDM2 & \\text{etc...} \\\\\n",
      "MDM2_{precursor} & \\rightarrow p53\\\\\n",
      "MDM2_{precursor} & \\rightarrow MDM2 \\\\\n",
      "MDM2 & \\leftrightarrow \\emptyset \\\\\n",
      "\\end{align*}\n",
      "$$"
     ]
    },
    {
     "cell_type": "markdown",
     "metadata": {},
     "source": [
      "From the reactions above, we can directly read the stoichiometry matrix using the common procedures described [link needed].\n",
      "The stoichiometry matrix for this model is given below\n",
      "\n",
      "$$\n",
      "S = \\left( \\begin{array}{ccc}\n",
      "1 & -1 & -1 & 0 & 0 & 0\\\\\n",
      "0 & 0 & 0 & 1 & -1 & 0\\\\\n",
      "0 & 0 & 0 & 0 & 1 & -1 \\end{array} \\right)\n",
      "$$\n",
      "\n",
      "We can use ``numpy`` ``array`` to encode this matrix in python, for instance:"
     ]
    },
    {
     "cell_type": "code",
     "collapsed": false,
     "input": [
      "import numpy as np\n",
      "stoichiometry_matrix = np.array([[1, -1, -1, 0, 0, 0],\n",
      "                                  [0, 0, 0, 1, -1, 0],\n",
      "                                  [0, 0, 0, 0, 1, -1]])\n",
      "print stoichiometry_matrix"
     ],
     "language": "python",
     "metadata": {},
     "outputs": [
      {
       "output_type": "stream",
       "stream": "stdout",
       "text": [
        "[[ 1 -1 -1  0  0  0]\n",
        " [ 0  0  0  1 -1  0]\n",
        " [ 0  0  0  0  1 -1]]\n"
       ]
      }
     ],
     "prompt_number": 13
    },
    {
     "cell_type": "markdown",
     "metadata": {},
     "source": [
      "Stoichiometry matrix only gives us the counts of reactants and reaction products, in order to perform some useful simulation with them, we need to first define the propensities."
     ]
    },
    {
     "cell_type": "markdown",
     "metadata": {},
     "source": [
      "Before we do that, let's alias our tree proteins as $y_0$, $y_1$ and $y_2$ respectively, to make the mathematical equations easier to work with.\n",
      "\n",
      "In python, this can be done with the help of ``sympy`` package:"
     ]
    },
    {
     "cell_type": "code",
     "collapsed": false,
     "input": [
      "import sympy\n",
      "species = sympy.symbols(['y_0', 'y_1', 'y_2'])\n",
      "print species"
     ],
     "language": "python",
     "metadata": {},
     "outputs": [
      {
       "output_type": "stream",
       "stream": "stdout",
       "text": [
        "[y_0, y_1, y_2]\n"
       ]
      }
     ],
     "prompt_number": 15
    },
    {
     "cell_type": "markdown",
     "metadata": {},
     "source": [
      "Using this notation, the propensities (rates of reactions) of the `p53` model are:\n",
      "    \n",
      "$$\n",
      "\\begin{align*}\n",
      "a_0 &= c_0 \\\\\n",
      "a_1 &= c_1 y_0\\\\\n",
      "a_2 &= \\frac{c_2 y_2 y_0}{(y_0+c_6)}\\\\\n",
      "a_3 &= c_3 y_0\\\\\n",
      "a_4 &= c_4 y_1\\\\\n",
      "a_5 &= c_5 y_2\\\\\n",
      "\\end{align*}\n",
      "$$\n",
      "\n",
      "Where $c_0$, $c_1$, ..., $c_5$ are some constant parameters of the model [TODO: the meanings for them are in the paper, describe!]\n",
      "    "
     ]
    },
    {
     "cell_type": "markdown",
     "metadata": {},
     "source": [
      "We can again describe these structures in python. \n",
      "To do this, we drop the left-hand-side of equations ($a_0$, ..., $a_5$) and create a python list (or, alternatively, ``sympy.Matrix`` of the right-hand-sides)."
     ]
    },
    {
     "cell_type": "code",
     "collapsed": false,
     "input": [
      "propensities=['c_0',\n",
      "              'c_1*y_0',\n",
      "              'c_2*y_2*y_0/(y_0+c_6)',\n",
      "              'c_3*y_0',\n",
      "              'c_4*y_1',\n",
      "              'c_5*y_2']\n",
      "print propensities"
     ],
     "language": "python",
     "metadata": {},
     "outputs": [
      {
       "output_type": "stream",
       "stream": "stdout",
       "text": [
        "['c_0', 'c_1*y_0', 'c_2*y_2*y_0/(y_0+c_6)', 'c_3*y_0', 'c_4*y_1', 'c_5*y_2']\n"
       ]
      }
     ],
     "prompt_number": 18
    },
    {
     "cell_type": "markdown",
     "metadata": {},
     "source": [
      "We need to explicitly note the constant parameters of the model as well:"
     ]
    },
    {
     "cell_type": "code",
     "collapsed": false,
     "input": [
      "constants = sympy.symbols(['c_0', 'c_1', 'c_2', 'c_3', 'c_4', 'c_5', 'c_6'])"
     ],
     "language": "python",
     "metadata": {},
     "outputs": [],
     "prompt_number": 21
    },
    {
     "cell_type": "markdown",
     "metadata": {},
     "source": [
      "We now have everything ready to be able to create a MEANS model object."
     ]
    },
    {
     "cell_type": "markdown",
     "metadata": {},
     "source": [
      "First let's import the means package"
     ]
    },
    {
     "cell_type": "code",
     "collapsed": false,
     "input": [
      "import means"
     ],
     "language": "python",
     "metadata": {},
     "outputs": [],
     "prompt_number": 23
    },
    {
     "cell_type": "markdown",
     "metadata": {},
     "source": [
      "The ``means.Model`` constructor takes the list of constants, the list of species, the propensities and the stoichiometry matrix in that order."
     ]
    },
    {
     "cell_type": "code",
     "collapsed": false,
     "input": [
      "model = means.Model(constants, species, propensities, stoichiometry_matrix)"
     ],
     "language": "python",
     "metadata": {},
     "outputs": [],
     "prompt_number": 25
    },
    {
     "cell_type": "markdown",
     "metadata": {},
     "source": [
      "We can see the model created is the same as described earlier:"
     ]
    },
    {
     "cell_type": "code",
     "collapsed": false,
     "input": [
      "model"
     ],
     "language": "python",
     "metadata": {},
     "outputs": [
      {
       "latex": [
        "\\begin{align*}\n",
        "\\text{Species} &= \\begin{bmatrix}y_{0}, & y_{1}, & y_{2}\\end{bmatrix} \\\\\n",
        "\\text{Constants} &= \\begin{bmatrix}c_{0}, & c_{1}, & c_{2}, & c_{3}, & c_{4}, & c_{5}, & c_{6}\\end{bmatrix} \\\\\n",
        "\\text{Stoichiometry matrix} &= \\left[\\begin{matrix}1 & -1 & -1 & 0 & 0 & 0\\\\0 & 0 & 0 & 1 & -1 & 0\\\\0 & 0 & 0 & 0 & 1 & -1\\end{matrix}\\right] \\\\\n",
        "\\text{Propensities} &= \\left[\\begin{matrix}c_{0}\\\\c_{1} y_{0}\\\\\\frac{c_{2} y_{0} y_{2}}{c_{6} + y_{0}}\\\\c_{3} y_{0}\\\\c_{4} y_{1}\\\\c_{5} y_{2}\\end{matrix}\\right] \\\\\n",
        "\\end{align*}"
       ],
       "metadata": {},
       "output_type": "pyout",
       "prompt_number": 26,
       "text": [
        "<class 'means.model.model.Model'>\n",
        "Species: [y_0, y_1, y_2]\n",
        "Constants: [c_0, c_1, c_2, c_3, c_4, c_5, c_6]\n",
        "\n",
        "Stoichiometry matrix:\n",
        "Matrix([\n",
        "[1, -1, -1, 0,  0,  0],\n",
        "[0,  0,  0, 1, -1,  0],\n",
        "[0,  0,  0, 0,  1, -1]])\n",
        "\n",
        "Propensities:\n",
        "Matrix([\n",
        "[                    c_0],\n",
        "[                c_1*y_0],\n",
        "[c_2*y_0*y_2/(c_6 + y_0)],\n",
        "[                c_3*y_0],\n",
        "[                c_4*y_1],\n",
        "[                c_5*y_2]])"
       ]
      }
     ],
     "prompt_number": 26
    },
    {
     "cell_type": "markdown",
     "metadata": {},
     "source": [
      "If the $\\LaTeX$ notation seems to be too convoluted, the pythonic representation of model can be viewed using ``print``."
     ]
    },
    {
     "cell_type": "code",
     "collapsed": false,
     "input": [
      "print model"
     ],
     "language": "python",
     "metadata": {},
     "outputs": [
      {
       "output_type": "stream",
       "stream": "stdout",
       "text": [
        "<class 'means.model.model.Model'>\n",
        "Species: [y_0, y_1, y_2]\n",
        "Constants: [c_0, c_1, c_2, c_3, c_4, c_5, c_6]\n",
        "\n",
        "Stoichiometry matrix:\n",
        "Matrix([\n",
        "[1, -1, -1, 0,  0,  0],\n",
        "[0,  0,  0, 1, -1,  0],\n",
        "[0,  0,  0, 0,  1, -1]])\n",
        "\n",
        "Propensities:\n",
        "Matrix([\n",
        "[                    c_0],\n",
        "[                c_1*y_0],\n",
        "[c_2*y_0*y_2/(c_6 + y_0)],\n",
        "[                c_3*y_0],\n",
        "[                c_4*y_1],\n",
        "[                c_5*y_2]])\n"
       ]
      }
     ],
     "prompt_number": 27
    },
    {
     "cell_type": "markdown",
     "metadata": {},
     "source": [
      "The attributes for each of the elements in the model can be accessed directly as well:"
     ]
    },
    {
     "cell_type": "code",
     "collapsed": false,
     "input": [
      "print model.species\n",
      "print model.constants\n",
      "print model.stoichiometry_matrix\n",
      "print model.propensities"
     ],
     "language": "python",
     "metadata": {},
     "outputs": [
      {
       "output_type": "stream",
       "stream": "stdout",
       "text": [
        "[y_0, y_1, y_2]\n",
        "[c_0, c_1, c_2, c_3, c_4, c_5, c_6]\n",
        "Matrix([[1, -1, -1, 0, 0, 0], [0, 0, 0, 1, -1, 0], [0, 0, 0, 0, 1, -1]])\n",
        "Matrix([[c_0], [c_1*y_0], [c_2*y_0*y_2/(c_6 + y_0)], [c_3*y_0], [c_4*y_1], [c_5*y_2]])\n"
       ]
      }
     ],
     "prompt_number": 28
    },
    {
     "cell_type": "markdown",
     "metadata": {},
     "source": [
      "More complicated biological models can be parsed from SBML files (see biomodels repository for a couple examples [LINK NEEDED]), and parsed into the MEANS format using ``means.io.read_sbml`` function:"
     ]
    },
    {
     "cell_type": "code",
     "collapsed": false,
     "input": [
      "#model = means.io.read_sbml('autoreg-3-1.xml')"
     ],
     "language": "python",
     "metadata": {},
     "outputs": [],
     "prompt_number": 53
    },
    {
     "cell_type": "markdown",
     "metadata": {},
     "source": [
      "When parsing the SBML format, compartments of species are neglected."
     ]
    },
    {
     "cell_type": "code",
     "collapsed": false,
     "input": [],
     "language": "python",
     "metadata": {},
     "outputs": []
    }
   ],
   "metadata": {}
  }
 ]
}
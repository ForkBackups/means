{
 "metadata": {
  "name": "",
  "signature": "sha256:514dcf4f27af42dd307ae503da08ac3ef21a7242397bdcdcbfca83e98b3c767d"
 },
 "nbformat": 3,
 "nbformat_minor": 0,
 "worksheets": [
  {
   "cells": [
    {
     "cell_type": "code",
     "collapsed": false,
     "input": [
      "%pylab inline"
     ],
     "language": "python",
     "metadata": {},
     "outputs": [
      {
       "output_type": "stream",
       "stream": "stdout",
       "text": [
        "Populating the interactive namespace from numpy and matplotlib\n"
       ]
      }
     ],
     "prompt_number": 3
    },
    {
     "cell_type": "heading",
     "level": 1,
     "metadata": {},
     "source": [
      "Modelling using MEANS"
     ]
    },
    {
     "cell_type": "markdown",
     "metadata": {},
     "source": [
      "This tutorial describes a way biological systems could be modelled using `MEANS` package."
     ]
    },
    {
     "cell_type": "markdown",
     "metadata": {},
     "source": [
      "In this example we will consider a simplified version of tumor-supressor protein *p53* system, as described in  [citation needed], which is as a system of three proteins: *p53*, *Mdm2 precursor* and *Mdm2*. \n",
      "\n",
      "The system we are considering can be described by the following reactions:"
     ]
    },
    {
     "cell_type": "markdown",
     "metadata": {},
     "source": [
      "\\begin{align*}\n",
      "p53~production~&&~\\emptyset\\rightarrow p53 \\\\\n",
      "Mdm2~independent~p53~degradation && p53 \\rightarrow \\emptyset \\\\\n",
      "Mdm2~dependent~p53~degradation && Mdm2 + p53 \\rightarrow Mdm2 \\\\\n",
      "p53~dependent~Mdm2~production && p53 + Mdm2_{precursor} \\rightarrow p53 + Mdm2 \\\\\n",
      "Mdm2~synthesis~from~precursor && Mdm2_{precursor} \\rightarrow Mdm2 \\\\\n",
      "Mdm2~degradation && Mdm2 \\rightarrow \\emptyset \\\\\n",
      "\\end{align*}"
     ]
    },
    {
     "cell_type": "markdown",
     "metadata": {},
     "source": [
      "In principle, we could use the protein names as species names in the model, but, for conveniance, we replace $p53$, $Mdm2_{precursor}$ and $Mdm2$ with $y_0$, $y_1$ and $y_2$, respectively.\n",
      "\n",
      "In python, this can be done by building ``sympy`` symbols for species:"
     ]
    },
    {
     "cell_type": "code",
     "collapsed": false,
     "input": [
      "import sympy\n",
      "species = sympy.symbols(['y_0', 'y_1', 'y_2'])\n",
      "print species"
     ],
     "language": "python",
     "metadata": {},
     "outputs": [
      {
       "ename": "ImportError",
       "evalue": "No module named sympy",
       "output_type": "pyerr",
       "traceback": [
        "\u001b[1;31m---------------------------------------------------------------------------\u001b[0m\n\u001b[1;31mImportError\u001b[0m                               Traceback (most recent call last)",
        "\u001b[1;32m<ipython-input-4-8824e033984b>\u001b[0m in \u001b[0;36m<module>\u001b[1;34m()\u001b[0m\n\u001b[1;32m----> 1\u001b[1;33m \u001b[1;32mimport\u001b[0m \u001b[0msympy\u001b[0m\u001b[1;33m\u001b[0m\u001b[0m\n\u001b[0m\u001b[0;32m      2\u001b[0m \u001b[0mspecies\u001b[0m \u001b[1;33m=\u001b[0m \u001b[0msympy\u001b[0m\u001b[1;33m.\u001b[0m\u001b[0msymbols\u001b[0m\u001b[1;33m(\u001b[0m\u001b[1;33m[\u001b[0m\u001b[1;34m'y_0'\u001b[0m\u001b[1;33m,\u001b[0m \u001b[1;34m'y_1'\u001b[0m\u001b[1;33m,\u001b[0m \u001b[1;34m'y_2'\u001b[0m\u001b[1;33m]\u001b[0m\u001b[1;33m)\u001b[0m\u001b[1;33m\u001b[0m\u001b[0m\n\u001b[0;32m      3\u001b[0m \u001b[1;32mprint\u001b[0m \u001b[0mspecies\u001b[0m\u001b[1;33m\u001b[0m\u001b[0m\n",
        "\u001b[1;31mImportError\u001b[0m: No module named sympy"
       ]
      }
     ],
     "prompt_number": 4
    },
    {
     "cell_type": "markdown",
     "metadata": {},
     "source": [
      "From the reactions above, we can directly derive the <a href=\"http://en.wikipedia.org/wiki/Stoichiometry#Stoichiometry_matrix\">stoichiometry matrix</a>:\n",
      "\n",
      "$$\n",
      "S = \\left( \\begin{array}{ccc}\n",
      "+1 & -1 & -1 & 0 & 0 & 0\\\\\n",
      "0 & 0 & 0 & +1 & -1 & 0\\\\\n",
      "0 & 0 & 0 & 0 & +1 & -1 \\end{array} \\right)\n",
      "$$\n",
      "\n",
      "We can use ``numpy`` ``array`` to encode this matrix in python, for instance:"
     ]
    },
    {
     "cell_type": "code",
     "collapsed": false,
     "input": [
      "import numpy as np\n",
      "stoichiometry_matrix = np.array([[1, -1, -1, 0, 0, 0],\n",
      "                                  [0, 0, 0, 1, -1, 0],\n",
      "                                  [0, 0, 0, 0, 1, -1]])\n",
      "print stoichiometry_matrix"
     ],
     "language": "python",
     "metadata": {},
     "outputs": []
    },
    {
     "cell_type": "markdown",
     "metadata": {},
     "source": [
      "In addition to the stoichiometry matrix, which only gives the net production of species in each reaction, the propensities need to be defined for each reactions. Importantly, **stochatic** propensities (as opposed to deterministic rates) must be provided."
     ]
    },
    {
     "cell_type": "markdown",
     "metadata": {},
     "source": [
      "Using this notation, the propensities of the $p53$ model are:\n",
      "    \n",
      "$$\n",
      "\\begin{align*}\n",
      "a_0 &= c_0 \\\\\n",
      "a_1 &= c_1 y_0\\\\\n",
      "a_2 &= \\frac{c_2 y_2 y_0}{(y_0+c_6)}\\\\\n",
      "a_3 &= c_3 y_0\\\\\n",
      "a_4 &= c_4 y_1\\\\\n",
      "a_5 &= c_5 y_2\\\\\n",
      "\\end{align*}\n",
      "$$\n",
      "\n",
      ",where: \n",
      "\n",
      "* $c_0$ is the *p53* production rate,\n",
      "* $c_1$ is the *Mdm2*-independent *p53* degradation rate,\n",
      "* $c_2$ is the saturation *p53* degradation rate\n",
      "* $c_3$ is the *p53*-dependent *Mdm2* production rate,\n",
      "* $c_4$ is the *Mdm2* maturation rate,\n",
      "* $c_5$ is the *Mdm2* degradation rate.     \n",
      "* and $c_6$ is the *53* threshold for degradation by *Mdm2*.\n"
     ]
    },
    {
     "cell_type": "markdown",
     "metadata": {},
     "source": [
      "In Python, we need to explicitly note the constant parameters of the model using `sympy` package:"
     ]
    },
    {
     "cell_type": "code",
     "collapsed": false,
     "input": [
      "parameters = sympy.symbols(['c_0', 'c_1', 'c_2', 'c_3', 'c_4', 'c_5', 'c_6'])\n",
      "print parameters"
     ],
     "language": "python",
     "metadata": {},
     "outputs": []
    },
    {
     "cell_type": "markdown",
     "metadata": {},
     "source": [
      "We can again describe these structures in Python. \n",
      "To do this, we drop the left-hand-side of equations ($a_0$, ..., $a_5$) and create a python list (or, alternatively, a ``sympy.Matrix`` of the right-hand-sides)."
     ]
    },
    {
     "cell_type": "code",
     "collapsed": false,
     "input": [
      "propensities=['c_0',\n",
      "              'c_1*y_0',\n",
      "              'c_2*y_2*y_0/(y_0+c_6)',\n",
      "              'c_3*y_0',\n",
      "              'c_4*y_1',\n",
      "              'c_5*y_2']\n",
      "print propensities"
     ],
     "language": "python",
     "metadata": {},
     "outputs": []
    },
    {
     "cell_type": "markdown",
     "metadata": {},
     "source": [
      "We now have everything ready to be able to create a `MEANS` model object."
     ]
    },
    {
     "cell_type": "markdown",
     "metadata": {},
     "source": [
      "First let's import the `MEANS` package"
     ]
    },
    {
     "cell_type": "code",
     "collapsed": false,
     "input": [
      "import means"
     ],
     "language": "python",
     "metadata": {},
     "outputs": []
    },
    {
     "cell_type": "markdown",
     "metadata": {},
     "source": [
      "The ``means.Model`` constructor takes the list of species, the list of parameters, the propensities and the stoichiometry matrix in that order."
     ]
    },
    {
     "cell_type": "code",
     "collapsed": false,
     "input": [
      "my_model = means.Model(species, parameters, propensities, stoichiometry_matrix)"
     ],
     "language": "python",
     "metadata": {},
     "outputs": []
    },
    {
     "cell_type": "markdown",
     "metadata": {},
     "source": [
      "The model created should be the same as described earlier:"
     ]
    },
    {
     "cell_type": "code",
     "collapsed": false,
     "input": [
      "my_model"
     ],
     "language": "python",
     "metadata": {},
     "outputs": []
    },
    {
     "cell_type": "markdown",
     "metadata": {},
     "source": [
      "In addition to the $\\LaTeX$ rendering, pythonic representation of model can be displayed using ``print``."
     ]
    },
    {
     "cell_type": "code",
     "collapsed": false,
     "input": [
      "print my_model"
     ],
     "language": "python",
     "metadata": {},
     "outputs": []
    },
    {
     "cell_type": "markdown",
     "metadata": {},
     "source": [
      "The attributes for each of the elements in the model can be accessed directly as well:"
     ]
    },
    {
     "cell_type": "code",
     "collapsed": false,
     "input": [
      "print my_model.species\n",
      "print my_model.parameters\n",
      "print my_model.stoichiometry_matrix\n",
      "print my_model.propensities"
     ],
     "language": "python",
     "metadata": {},
     "outputs": []
    },
    {
     "cell_type": "heading",
     "level": 2,
     "metadata": {},
     "source": [
      "Example Models in Means"
     ]
    },
    {
     "cell_type": "markdown",
     "metadata": {},
     "source": [
      "`MEANS` already package provides a few sample models:\n",
      "\n",
      "* `MODEL_DIMERISATION`, \n",
      "* `MODEL_MICHAELIS_MENTEN`, \n",
      "* `MODEL_P53`\n",
      "* `MODEL_HES1`,\n",
      "* `MODEL_LOTKA_VOLTERRA`. \n",
      "\n",
      "These models can be accesseed from `examples` submodule. Let's use `MODEL_LOTKA_VOLTERRA` as an example."
     ]
    },
    {
     "cell_type": "code",
     "collapsed": false,
     "input": [
      "from means.examples.sample_models import MODEL_LOTKA_VOLTERRA\n",
      "print MODEL_LOTKA_VOLTERRA"
     ],
     "language": "python",
     "metadata": {},
     "outputs": []
    },
    {
     "cell_type": "markdown",
     "metadata": {},
     "source": [
      "Please note that the names of the species may not necessarily be mathematical symbols: $y_0$, $y_1$.\n",
      "\n",
      "In the Lotka-Volterra model above, for instance,  actual names of the species (Predator and Prey) can be used."
     ]
    },
    {
     "cell_type": "heading",
     "level": 3,
     "metadata": {},
     "source": [
      "Reading Models From Files"
     ]
    },
    {
     "cell_type": "markdown",
     "metadata": {},
     "source": [
      "``MEANS`` models can be saved to file and read from it with the help of ``means.io`` package. \n",
      "This package provides methods ``to_file`` and ``from_file`` that can read arbitrary python objects from files,\n",
      "as long as they were serialised in YAML format.\n",
      "Similarly, `Model` class itself has a ``to_file()`` and ``from_file()`` methods designed to help you with these tasks.\n",
      "\n",
      "We took great care of making `Model` objects cleanly serialisable with YAML into human-readable fashion.\n",
      "\n",
      "Please find a demonstration below:"
     ]
    },
    {
     "cell_type": "markdown",
     "metadata": {},
     "source": [
      "Let's save `my_model` to file:"
     ]
    },
    {
     "cell_type": "code",
     "collapsed": false,
     "input": [
      "my_model.to_file('my_model.model')"
     ],
     "language": "python",
     "metadata": {},
     "outputs": []
    },
    {
     "cell_type": "markdown",
     "metadata": {},
     "source": [
      "Print the contents of the file to show how human-readable they are:"
     ]
    },
    {
     "cell_type": "code",
     "collapsed": false,
     "input": [
      "with open('my_model.model') as f:\n",
      "    print f.read()"
     ],
     "language": "python",
     "metadata": {},
     "outputs": []
    },
    {
     "cell_type": "markdown",
     "metadata": {},
     "source": [
      "Now let's read the model object back from this file:"
     ]
    },
    {
     "cell_type": "code",
     "collapsed": false,
     "input": [
      "my_model_new = means.Model.from_file('my_model.model')\n",
      "my_model_new"
     ],
     "language": "python",
     "metadata": {},
     "outputs": []
    },
    {
     "cell_type": "markdown",
     "metadata": {},
     "source": [
      "One can verify it is indeed the same model we had as before.\n",
      "\n",
      "Let's delete this file we used to illustrate this."
     ]
    },
    {
     "cell_type": "code",
     "collapsed": false,
     "input": [
      "import os\n",
      "os.unlink('my_model.model')"
     ],
     "language": "python",
     "metadata": {},
     "outputs": []
    },
    {
     "cell_type": "heading",
     "level": 4,
     "metadata": {},
     "source": [
      "SBML Support (**requires SBML library installed on your machine**)"
     ]
    },
    {
     "cell_type": "markdown",
     "metadata": {},
     "source": [
      "More complicated biological models can be parsed from SBML files. \n",
      "\n",
      "[Biomodels repository](http://www.ebi.ac.uk/biomodels-main/) hosts a good set of such models, let's download one of them to our working directory:"
     ]
    },
    {
     "cell_type": "code",
     "collapsed": false,
     "input": [
      "!wget --quiet -N http://www.ebi.ac.uk/biomodels/models-main/publ/BIOMD0000000010/BIOMD0000000010.xml.origin"
     ],
     "language": "python",
     "metadata": {},
     "outputs": []
    },
    {
     "cell_type": "markdown",
     "metadata": {},
     "source": [
      "This model can be parsed into `MEANS` Model object using `means.io.read_sbml` function. When parsing the SBML format, compartments of species are neglected, as the species names are assumed to be compartment-specific. \n",
      "\n",
      "The values for the constants and initial amounts of all species are also retrieved for making it easier to simulate the trajectories later."
     ]
    },
    {
     "cell_type": "code",
     "collapsed": false,
     "input": [
      "# Requires: libsbml\n",
      "autoreg_model, autoreg_parameter_values, autoreg_initial_conditions = means.io.read_sbml('BIOMD0000000010.xml.origin')"
     ],
     "language": "python",
     "metadata": {},
     "outputs": []
    },
    {
     "cell_type": "markdown",
     "metadata": {},
     "source": [
      "The resulting model is shown below"
     ]
    },
    {
     "cell_type": "code",
     "collapsed": false,
     "input": [
      "# Requires: libsbml\n",
      "autoreg_model"
     ],
     "language": "python",
     "metadata": {},
     "outputs": [
      {
       "ename": "NameError",
       "evalue": "name 'autoreg_model' is not defined",
       "output_type": "pyerr",
       "traceback": [
        "\u001b[1;31m---------------------------------------------------------------------------\u001b[0m\n\u001b[1;31mNameError\u001b[0m                                 Traceback (most recent call last)",
        "\u001b[1;32m<ipython-input-5-166937a5e947>\u001b[0m in \u001b[0;36m<module>\u001b[1;34m()\u001b[0m\n\u001b[0;32m      1\u001b[0m \u001b[1;31m# Requires: libsbml\u001b[0m\u001b[1;33m\u001b[0m\u001b[1;33m\u001b[0m\u001b[0m\n\u001b[1;32m----> 2\u001b[1;33m \u001b[0mautoreg_model\u001b[0m\u001b[1;33m\u001b[0m\u001b[0m\n\u001b[0m",
        "\u001b[1;31mNameError\u001b[0m: name 'autoreg_model' is not defined"
       ]
      }
     ],
     "prompt_number": 5
    },
    {
     "cell_type": "markdown",
     "metadata": {},
     "source": [
      "Along with the initial set of parameters parsed from the same SBML file, along with a set of initial conditions:"
     ]
    },
    {
     "cell_type": "code",
     "collapsed": false,
     "input": [
      "# Requires: libsbml\n",
      "print autoreg_parameter_values\n",
      "print autoreg_initial_conditions "
     ],
     "language": "python",
     "metadata": {},
     "outputs": [
      {
       "ename": "NameError",
       "evalue": "name 'autoreg_parameter_values' is not defined",
       "output_type": "pyerr",
       "traceback": [
        "\u001b[1;31m---------------------------------------------------------------------------\u001b[0m\n\u001b[1;31mNameError\u001b[0m                                 Traceback (most recent call last)",
        "\u001b[1;32m<ipython-input-6-542c16e0b6d9>\u001b[0m in \u001b[0;36m<module>\u001b[1;34m()\u001b[0m\n\u001b[0;32m      1\u001b[0m \u001b[1;31m# Requires: libsbml\u001b[0m\u001b[1;33m\u001b[0m\u001b[1;33m\u001b[0m\u001b[0m\n\u001b[1;32m----> 2\u001b[1;33m \u001b[1;32mprint\u001b[0m \u001b[0mautoreg_parameter_values\u001b[0m\u001b[1;33m\u001b[0m\u001b[0m\n\u001b[0m\u001b[0;32m      3\u001b[0m \u001b[1;32mprint\u001b[0m \u001b[0mautoreg_initial_conditions\u001b[0m\u001b[1;33m\u001b[0m\u001b[0m\n",
        "\u001b[1;31mNameError\u001b[0m: name 'autoreg_parameter_values' is not defined"
       ]
      }
     ],
     "prompt_number": 6
    },
    {
     "cell_type": "markdown",
     "metadata": {},
     "source": [
      "Let's end this tutorial here.\n",
      "\n",
      "Feel free to move directly to the next tutorial where we explain how to use the approximation methods implemented in this package."
     ]
    },
    {
     "cell_type": "code",
     "collapsed": false,
     "input": [
      "# Cleanup\n",
      "import os\n",
      "os.unlink('BIOMD0000000010.xml.origin')"
     ],
     "language": "python",
     "metadata": {},
     "outputs": [
      {
       "ename": "OSError",
       "evalue": "[Errno 2] No such file or directory: 'BIOMD0000000010.xml.origin'",
       "output_type": "pyerr",
       "traceback": [
        "\u001b[1;31m---------------------------------------------------------------------------\u001b[0m\n\u001b[1;31mOSError\u001b[0m                                   Traceback (most recent call last)",
        "\u001b[1;32m<ipython-input-7-3569830d7f53>\u001b[0m in \u001b[0;36m<module>\u001b[1;34m()\u001b[0m\n\u001b[0;32m      1\u001b[0m \u001b[1;31m# Cleanup\u001b[0m\u001b[1;33m\u001b[0m\u001b[1;33m\u001b[0m\u001b[0m\n\u001b[0;32m      2\u001b[0m \u001b[1;32mimport\u001b[0m \u001b[0mos\u001b[0m\u001b[1;33m\u001b[0m\u001b[0m\n\u001b[1;32m----> 3\u001b[1;33m \u001b[0mos\u001b[0m\u001b[1;33m.\u001b[0m\u001b[0munlink\u001b[0m\u001b[1;33m(\u001b[0m\u001b[1;34m'BIOMD0000000010.xml.origin'\u001b[0m\u001b[1;33m)\u001b[0m\u001b[1;33m\u001b[0m\u001b[0m\n\u001b[0m",
        "\u001b[1;31mOSError\u001b[0m: [Errno 2] No such file or directory: 'BIOMD0000000010.xml.origin'"
       ]
      }
     ],
     "prompt_number": 7
    },
    {
     "cell_type": "heading",
     "level": 1,
     "metadata": {},
     "source": [
      "Modelling Stochastic Dynamics"
     ]
    },
    {
     "cell_type": "markdown",
     "metadata": {},
     "source": [
      "Creating models is nice and fun, however, what we are really interested in is the ability to study them."
     ]
    },
    {
     "cell_type": "heading",
     "level": 2,
     "metadata": {},
     "source": [
      "Moment Expansion Approximation"
     ]
    },
    {
     "cell_type": "markdown",
     "metadata": {},
     "source": [
      "In their [2013 paper](http://scitation.aip.org/content/aip/journal/jcp/138/17/10.1063/1.4802475),\n",
      "Ale *et al.* describe a Moment Expansion Approximation method for studying the moments of stochastic distributions.\n",
      "\n",
      "This method, shortened as MEA, approximate the solution for chemical master equation by a system of ODEs.\n",
      "The algorithm performs a set of moment expansions and returns as a set of ODEs,\n",
      "each one representing the time derivative of all approximated moments (mixed and non-mixed).\n",
      "\n",
      "Without going into much mathematical detail, the moment expansions are essentially infinite.\n",
      "In order to make the problem computable, the approximation needs to be stop at some higher order moment, or in other words, needs to be closed at that moment.\n",
      "\n",
      "Typically, the moments higher than the maximum specified moment are assumed to be equal to a constant scalar value (most often 0).\n",
      "We call this type of moment closure ``scalar`` in our package. This is where the \"approximation\" in Moment Expansion Approximation occurs.\n",
      "\n",
      "Besides the standard assumption of ``scalar`` value for higher order moments,\n",
      "we could replace them with the expressions derived from specific probability distributions.\n",
      "Currently our package supports ``normal``, ``log-normal`` and ``gamma`` distributions to close the higher order moments."
     ]
    },
    {
     "cell_type": "markdown",
     "metadata": {},
     "source": [
      "The MEA moment closure is implemented by the ``MomentExpansionApproximation`` class in the ``means.approximation.mea`` package, this class can be used explicitly to generate the set of ODEs from a given model.\n",
      "Before we show how to use it, let's set up our workspace:"
     ]
    },
    {
     "cell_type": "code",
     "collapsed": false,
     "input": [
      "import means\n",
      "import means.examples\n",
      "\n",
      "# Use dimerisation example model for this, due to the relative simplicity of it\n",
      "model = means.examples.MODEL_DIMERISATION"
     ],
     "language": "python",
     "metadata": {},
     "outputs": [
      {
       "ename": "ImportError",
       "evalue": "No module named means",
       "output_type": "pyerr",
       "traceback": [
        "\u001b[1;31m---------------------------------------------------------------------------\u001b[0m\n\u001b[1;31mImportError\u001b[0m                               Traceback (most recent call last)",
        "\u001b[1;32m<ipython-input-8-2a5615d8468d>\u001b[0m in \u001b[0;36m<module>\u001b[1;34m()\u001b[0m\n\u001b[1;32m----> 1\u001b[1;33m \u001b[1;32mimport\u001b[0m \u001b[0mmeans\u001b[0m\u001b[1;33m\u001b[0m\u001b[0m\n\u001b[0m\u001b[0;32m      2\u001b[0m \u001b[1;32mimport\u001b[0m \u001b[0mmeans\u001b[0m\u001b[1;33m.\u001b[0m\u001b[0mexamples\u001b[0m\u001b[1;33m\u001b[0m\u001b[0m\n\u001b[0;32m      3\u001b[0m \u001b[1;33m\u001b[0m\u001b[0m\n\u001b[0;32m      4\u001b[0m \u001b[1;31m# Use dimerisation example model for this, due to the relative simplicity of it\u001b[0m\u001b[1;33m\u001b[0m\u001b[1;33m\u001b[0m\u001b[0m\n\u001b[0;32m      5\u001b[0m \u001b[0mmodel\u001b[0m \u001b[1;33m=\u001b[0m \u001b[0mmeans\u001b[0m\u001b[1;33m.\u001b[0m\u001b[0mexamples\u001b[0m\u001b[1;33m.\u001b[0m\u001b[0mMODEL_DIMERISATION\u001b[0m\u001b[1;33m\u001b[0m\u001b[0m\n",
        "\u001b[1;31mImportError\u001b[0m: No module named means"
       ]
      }
     ],
     "prompt_number": 8
    },
    {
     "cell_type": "code",
     "collapsed": false,
     "input": [
      "model"
     ],
     "language": "python",
     "metadata": {},
     "outputs": [
      {
       "ename": "NameError",
       "evalue": "name 'model' is not defined",
       "output_type": "pyerr",
       "traceback": [
        "\u001b[1;31m---------------------------------------------------------------------------\u001b[0m\n\u001b[1;31mNameError\u001b[0m                                 Traceback (most recent call last)",
        "\u001b[1;32m<ipython-input-9-458d5f1afc81>\u001b[0m in \u001b[0;36m<module>\u001b[1;34m()\u001b[0m\n\u001b[1;32m----> 1\u001b[1;33m \u001b[0mmodel\u001b[0m\u001b[1;33m\u001b[0m\u001b[0m\n\u001b[0m",
        "\u001b[1;31mNameError\u001b[0m: name 'model' is not defined"
       ]
      }
     ],
     "prompt_number": 9
    },
    {
     "cell_type": "markdown",
     "metadata": {},
     "source": [
      "To use this class, first instantiate it with appropriate model and max_order parameters:"
     ]
    },
    {
     "cell_type": "code",
     "collapsed": false,
     "input": [
      "mea = means.MomentExpansionApproximation(model, max_order=3)"
     ],
     "language": "python",
     "metadata": {},
     "outputs": [
      {
       "ename": "NameError",
       "evalue": "name 'means' is not defined",
       "output_type": "pyerr",
       "traceback": [
        "\u001b[1;31m---------------------------------------------------------------------------\u001b[0m\n\u001b[1;31mNameError\u001b[0m                                 Traceback (most recent call last)",
        "\u001b[1;32m<ipython-input-10-1d855d4af081>\u001b[0m in \u001b[0;36m<module>\u001b[1;34m()\u001b[0m\n\u001b[1;32m----> 1\u001b[1;33m \u001b[0mmea\u001b[0m \u001b[1;33m=\u001b[0m \u001b[0mmeans\u001b[0m\u001b[1;33m.\u001b[0m\u001b[0mMomentExpansionApproximation\u001b[0m\u001b[1;33m(\u001b[0m\u001b[0mmodel\u001b[0m\u001b[1;33m,\u001b[0m \u001b[0mmax_order\u001b[0m\u001b[1;33m=\u001b[0m\u001b[1;36m3\u001b[0m\u001b[1;33m)\u001b[0m\u001b[1;33m\u001b[0m\u001b[0m\n\u001b[0m",
        "\u001b[1;31mNameError\u001b[0m: name 'means' is not defined"
       ]
      }
     ],
     "prompt_number": 10
    },
    {
     "cell_type": "markdown",
     "metadata": {},
     "source": [
      "Here we specify the system that we want to perform Moment Expansion Approximation \n",
      "for moments up to order three for the model defined above. \n",
      "Note that default closure method is always the scalar closure (*i.e.* assuming higher order values to be zero).\n",
      "\n",
      "After defining the approximation, we need to perform it. This is done by calling the ``.run()`` method of this class instance, and it returns an ``ODEProblem`` object, which is essentially a collection of ordinary differential equations."
     ]
    },
    {
     "cell_type": "code",
     "collapsed": false,
     "input": [
      "ode_problem = mea.run()"
     ],
     "language": "python",
     "metadata": {},
     "outputs": [
      {
       "ename": "NameError",
       "evalue": "name 'mea' is not defined",
       "output_type": "pyerr",
       "traceback": [
        "\u001b[1;31m---------------------------------------------------------------------------\u001b[0m\n\u001b[1;31mNameError\u001b[0m                                 Traceback (most recent call last)",
        "\u001b[1;32m<ipython-input-11-123ef41e5aa8>\u001b[0m in \u001b[0;36m<module>\u001b[1;34m()\u001b[0m\n\u001b[1;32m----> 1\u001b[1;33m \u001b[0mode_problem\u001b[0m \u001b[1;33m=\u001b[0m \u001b[0mmea\u001b[0m\u001b[1;33m.\u001b[0m\u001b[0mrun\u001b[0m\u001b[1;33m(\u001b[0m\u001b[1;33m)\u001b[0m\u001b[1;33m\u001b[0m\u001b[0m\n\u001b[0m",
        "\u001b[1;31mNameError\u001b[0m: name 'mea' is not defined"
       ]
      }
     ],
     "prompt_number": 11
    },
    {
     "cell_type": "markdown",
     "metadata": {},
     "source": [
      "If you are viewing this in an interactive environment, such as IPython notebook, \n",
      "you can view the ode_problem results formatted in $\\LaTeX$ notation by just outputting it from a cell:"
     ]
    },
    {
     "cell_type": "code",
     "collapsed": false,
     "input": [
      "ode_problem"
     ],
     "language": "python",
     "metadata": {},
     "outputs": [
      {
       "ename": "NameError",
       "evalue": "name 'ode_problem' is not defined",
       "output_type": "pyerr",
       "traceback": [
        "\u001b[1;31m---------------------------------------------------------------------------\u001b[0m\n\u001b[1;31mNameError\u001b[0m                                 Traceback (most recent call last)",
        "\u001b[1;32m<ipython-input-12-49df9edcd91e>\u001b[0m in \u001b[0;36m<module>\u001b[1;34m()\u001b[0m\n\u001b[1;32m----> 1\u001b[1;33m \u001b[0mode_problem\u001b[0m\u001b[1;33m\u001b[0m\u001b[0m\n\u001b[0m",
        "\u001b[1;31mNameError\u001b[0m: name 'ode_problem' is not defined"
       ]
      }
     ],
     "prompt_number": 12
    },
    {
     "cell_type": "markdown",
     "metadata": {},
     "source": [
      "The list of the terms used is given above the equations along with their descriptions.\n",
      "We use the convention for the first set of ODEs to explicitly model the species concentrations (first-order moments), and then each subsequent ODE is modelling higher order moments. \n",
      "Symbolic notation for moments matches the $M_\\mathbf{n}$ notation used in the paper and describes the moment orders in the sub-index."
     ]
    },
    {
     "cell_type": "markdown",
     "metadata": {},
     "source": [
      "``ODEProblem`` objects offer a convenient way of retrieving the description of a symbol programmatically via the ``descriptor_for_symbol(symbol)`` method, i.e.:"
     ]
    },
    {
     "cell_type": "code",
     "collapsed": false,
     "input": [
      "ode_problem.descriptor_for_symbol('y_0')"
     ],
     "language": "python",
     "metadata": {},
     "outputs": [
      {
       "ename": "NameError",
       "evalue": "name 'ode_problem' is not defined",
       "output_type": "pyerr",
       "traceback": [
        "\u001b[1;31m---------------------------------------------------------------------------\u001b[0m\n\u001b[1;31mNameError\u001b[0m                                 Traceback (most recent call last)",
        "\u001b[1;32m<ipython-input-13-70a01889be0a>\u001b[0m in \u001b[0;36m<module>\u001b[1;34m()\u001b[0m\n\u001b[1;32m----> 1\u001b[1;33m \u001b[0mode_problem\u001b[0m\u001b[1;33m.\u001b[0m\u001b[0mdescriptor_for_symbol\u001b[0m\u001b[1;33m(\u001b[0m\u001b[1;34m'y_0'\u001b[0m\u001b[1;33m)\u001b[0m\u001b[1;33m\u001b[0m\u001b[0m\n\u001b[0m",
        "\u001b[1;31mNameError\u001b[0m: name 'ode_problem' is not defined"
       ]
      }
     ],
     "prompt_number": 13
    },
    {
     "cell_type": "markdown",
     "metadata": {},
     "source": [
      "We also provide a convenience method for performing this approximation, ``means.mea_approximation``.\n",
      "This method takes exactly the same set of parameters as the ``MomentExpansionApproximation``, creates an instance of it, issues the ``run()`` method and returns the resulting ODE problem back:"
     ]
    },
    {
     "cell_type": "code",
     "collapsed": false,
     "input": [
      "ode_problem = means.mea_approximation(model, max_order=3) # Returns same set of ODEs as above"
     ],
     "language": "python",
     "metadata": {},
     "outputs": [
      {
       "ename": "NameError",
       "evalue": "name 'means' is not defined",
       "output_type": "pyerr",
       "traceback": [
        "\u001b[1;31m---------------------------------------------------------------------------\u001b[0m\n\u001b[1;31mNameError\u001b[0m                                 Traceback (most recent call last)",
        "\u001b[1;32m<ipython-input-14-5a4832a0947b>\u001b[0m in \u001b[0;36m<module>\u001b[1;34m()\u001b[0m\n\u001b[1;32m----> 1\u001b[1;33m \u001b[0mode_problem\u001b[0m \u001b[1;33m=\u001b[0m \u001b[0mmeans\u001b[0m\u001b[1;33m.\u001b[0m\u001b[0mmea_approximation\u001b[0m\u001b[1;33m(\u001b[0m\u001b[0mmodel\u001b[0m\u001b[1;33m,\u001b[0m \u001b[0mmax_order\u001b[0m\u001b[1;33m=\u001b[0m\u001b[1;36m3\u001b[0m\u001b[1;33m)\u001b[0m \u001b[1;31m# Returns same set of ODEs as above\u001b[0m\u001b[1;33m\u001b[0m\u001b[0m\n\u001b[0m",
        "\u001b[1;31mNameError\u001b[0m: name 'means' is not defined"
       ]
      }
     ],
     "prompt_number": 14
    },
    {
     "cell_type": "markdown",
     "metadata": {},
     "source": [
      "In order to use the probability distributions described above as closure methods, supply additional ``closure`` argument to the function, for instance, closure using ``log-normal`` distribution can be performed as follows:"
     ]
    },
    {
     "cell_type": "code",
     "collapsed": false,
     "input": [
      "ode_problem_log_normal = means.mea_approximation(model, max_order=3, closure='log-normal')\n",
      "ode_problem_log_normal"
     ],
     "language": "python",
     "metadata": {},
     "outputs": [
      {
       "ename": "NameError",
       "evalue": "name 'means' is not defined",
       "output_type": "pyerr",
       "traceback": [
        "\u001b[1;31m---------------------------------------------------------------------------\u001b[0m\n\u001b[1;31mNameError\u001b[0m                                 Traceback (most recent call last)",
        "\u001b[1;32m<ipython-input-15-29b7d2428ff9>\u001b[0m in \u001b[0;36m<module>\u001b[1;34m()\u001b[0m\n\u001b[1;32m----> 1\u001b[1;33m \u001b[0mode_problem_log_normal\u001b[0m \u001b[1;33m=\u001b[0m \u001b[0mmeans\u001b[0m\u001b[1;33m.\u001b[0m\u001b[0mmea_approximation\u001b[0m\u001b[1;33m(\u001b[0m\u001b[0mmodel\u001b[0m\u001b[1;33m,\u001b[0m \u001b[0mmax_order\u001b[0m\u001b[1;33m=\u001b[0m\u001b[1;36m3\u001b[0m\u001b[1;33m,\u001b[0m \u001b[0mclosure\u001b[0m\u001b[1;33m=\u001b[0m\u001b[1;34m'log-normal'\u001b[0m\u001b[1;33m)\u001b[0m\u001b[1;33m\u001b[0m\u001b[0m\n\u001b[0m\u001b[0;32m      2\u001b[0m \u001b[0mode_problem_log_normal\u001b[0m\u001b[1;33m\u001b[0m\u001b[0m\n",
        "\u001b[1;31mNameError\u001b[0m: name 'means' is not defined"
       ]
      }
     ],
     "prompt_number": 15
    },
    {
     "cell_type": "markdown",
     "metadata": {},
     "source": [
      "A keen eyed reader might notice that the ODEs generated using the different closure methods are very different from each other."
     ]
    },
    {
     "cell_type": "markdown",
     "metadata": {},
     "source": [
      "Each of the probabilistic distribution closures exist in both multivariate and univariate forms. \n",
      "By default, these distributions are assumed to be multivariate. In case, univariate distributions are desired, the parameter ``multivariate=False`` can be passed to the closure function.\n",
      "Essentially this parameter would set all the covariances to zero. \n",
      "For single species models, such as this one, this parameter makes no difference."
     ]
    },
    {
     "cell_type": "markdown",
     "metadata": {},
     "source": [
      "Gamma closure distribution is a bit different from the others as it has three forms: type 0, 1 and 2. \n",
      "Type zero is equivalent to univariate gamma, while type 1 and 2 are two different forms of multivariate Gamma distribution.\n",
      "Please consult the documentation and accompanying papers for explanation on these differences."
     ]
    },
    {
     "cell_type": "heading",
     "level": 2,
     "metadata": {},
     "source": [
      "Linear Noise Approximation"
     ]
    },
    {
     "cell_type": "markdown",
     "metadata": {},
     "source": [
      "Linear Noise Approximation (or LNA, for short) is an alternative method to generate the system of ODEs approximating the stochastic dynamics.\n",
      "It calculates the deterministic macroscopic rate and linear Fokker-Planck equations for the fluctuations around the steady state.\n",
      "\n",
      "It evaluates the deterministic rate and noise based only on mean, variance and covariance. \n",
      "Therefore, the number of resulting ODEs is equivalent to the number of ODEs obtained from MEA closed at second-order moments.\n",
      "\n",
      "We provide a ``LinearNoiseApproximation`` class that works similarly to the ``MomentExpansionApproximation`` class described earlier, as well as a convenience method ``lna_approximation`` that is equivalent to the ``mea_approximation`` used a couple of times in this tutorial already.\n",
      "\n",
      "As opposed to MEA described earlier, LNA is parameterless and only needs the model as input:"
     ]
    },
    {
     "cell_type": "code",
     "collapsed": false,
     "input": [
      "ode_problem_lna = means.lna_approximation(model)"
     ],
     "language": "python",
     "metadata": {},
     "outputs": [
      {
       "ename": "NameError",
       "evalue": "name 'means' is not defined",
       "output_type": "pyerr",
       "traceback": [
        "\u001b[1;31m---------------------------------------------------------------------------\u001b[0m\n\u001b[1;31mNameError\u001b[0m                                 Traceback (most recent call last)",
        "\u001b[1;32m<ipython-input-16-b9f5f021c4a8>\u001b[0m in \u001b[0;36m<module>\u001b[1;34m()\u001b[0m\n\u001b[1;32m----> 1\u001b[1;33m \u001b[0mode_problem_lna\u001b[0m \u001b[1;33m=\u001b[0m \u001b[0mmeans\u001b[0m\u001b[1;33m.\u001b[0m\u001b[0mlna_approximation\u001b[0m\u001b[1;33m(\u001b[0m\u001b[0mmodel\u001b[0m\u001b[1;33m)\u001b[0m\u001b[1;33m\u001b[0m\u001b[0m\n\u001b[0m",
        "\u001b[1;31mNameError\u001b[0m: name 'means' is not defined"
       ]
      }
     ],
     "prompt_number": 16
    },
    {
     "cell_type": "markdown",
     "metadata": {},
     "source": [
      "The resulting set of ODEs returned is structurally equivalent to the one returned by MEA expansion, and can be viewed in the same fashion:"
     ]
    },
    {
     "cell_type": "code",
     "collapsed": false,
     "input": [
      "ode_problem_lna"
     ],
     "language": "python",
     "metadata": {},
     "outputs": [
      {
       "ename": "NameError",
       "evalue": "name 'ode_problem_lna' is not defined",
       "output_type": "pyerr",
       "traceback": [
        "\u001b[1;31m---------------------------------------------------------------------------\u001b[0m\n\u001b[1;31mNameError\u001b[0m                                 Traceback (most recent call last)",
        "\u001b[1;32m<ipython-input-17-d66af8895910>\u001b[0m in \u001b[0;36m<module>\u001b[1;34m()\u001b[0m\n\u001b[1;32m----> 1\u001b[1;33m \u001b[0mode_problem_lna\u001b[0m\u001b[1;33m\u001b[0m\u001b[0m\n\u001b[0m",
        "\u001b[1;31mNameError\u001b[0m: name 'ode_problem_lna' is not defined"
       ]
      }
     ],
     "prompt_number": 17
    },
    {
     "cell_type": "markdown",
     "metadata": {},
     "source": [
      "The major difference is that MEA returns ``VarianceTerm`` objects instead of second-order moments, \n",
      "that match the notation used for variance, with indices specifying the position in the covariance matrix."
     ]
    },
    {
     "cell_type": "markdown",
     "metadata": {},
     "source": [
      "Besides this difference, the ``ODEProblem`` objects generated from MEA and LNA are interchangeable, and the subsequent steps described in following tutorials are able to support both of them."
     ]
    },
    {
     "cell_type": "markdown",
     "metadata": {},
     "source": [
      "In the next tutorial, we explains what can be done with these newly-obtained ``ODEProblem`` objects."
     ]
    },
    {
     "cell_type": "code",
     "collapsed": false,
     "input": [],
     "language": "python",
     "metadata": {},
     "outputs": [],
     "prompt_number": 17
    }
   ],
   "metadata": {}
  }
 ]
}
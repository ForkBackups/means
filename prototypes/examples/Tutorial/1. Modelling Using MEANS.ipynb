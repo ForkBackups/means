{
 "metadata": {
  "name": "",
  "signature": "sha256:8329297f87f341b57232115003261f3cd36a4fb18544bd0111c4c4b79907b97c"
 },
 "nbformat": 3,
 "nbformat_minor": 0,
 "worksheets": [
  {
   "cells": [
    {
     "cell_type": "code",
     "collapsed": false,
     "input": [
      "%pylab inline"
     ],
     "language": "python",
     "metadata": {},
     "outputs": [
      {
       "output_type": "stream",
       "stream": "stdout",
       "text": [
        "Populating the interactive namespace from numpy and matplotlib\n"
       ]
      }
     ],
     "prompt_number": 1
    },
    {
     "cell_type": "heading",
     "level": 1,
     "metadata": {},
     "source": [
      "Modelling using MEANS"
     ]
    },
    {
     "cell_type": "markdown",
     "metadata": {},
     "source": [
      "This tutorial describes a way biological systems could be modelled using `MEANS` package."
     ]
    },
    {
     "cell_type": "markdown",
     "metadata": {},
     "source": [
      "In this example we will consider a simplified version of tumor-supressor protein *p53* system, as described in  [citation needed], which is as a system of three proteins: *p53*, *Mdm2 precursor* and *Mdm2*. \n",
      "\n",
      "The system we are considering can be described by the following reactions:"
     ]
    },
    {
     "cell_type": "markdown",
     "metadata": {},
     "source": [
      "\\begin{align*}\n",
      "p53~production~&&~\\emptyset\\rightarrow p53 \\\\\n",
      "Mdm2~independent~p53~degradation && p53 \\rightarrow \\emptyset \\\\\n",
      "Mdm2~dependent~p53~degradation && Mdm2 + p53 \\rightarrow Mdm2 \\\\\n",
      "p53~dependent~Mdm2~production && p53 + Mdm2_{precursor} \\rightarrow p53 + Mdm2 \\\\\n",
      "Mdm2~synthesis~from~precursor && Mdm2_{precursor} \\rightarrow Mdm2 \\\\\n",
      "Mdm2~degradation && Mdm2 \\rightarrow \\emptyset \\\\\n",
      "\\end{align*}"
     ]
    },
    {
     "cell_type": "markdown",
     "metadata": {},
     "source": [
      "In principle, we could use the protein names as species names in the model, but, for conveniance, we replace $p53$, $Mdm2_{precursor}$ and $Mdm2$ with $y_0$, $y_1$ and $y_2$, respectively.\n",
      "\n",
      "In python, this can be done by building ``sympy`` symbols for species:"
     ]
    },
    {
     "cell_type": "code",
     "collapsed": false,
     "input": [
      "import sympy\n",
      "species = sympy.symbols(['y_0', 'y_1', 'y_2'])\n",
      "print species"
     ],
     "language": "python",
     "metadata": {},
     "outputs": [
      {
       "output_type": "stream",
       "stream": "stdout",
       "text": [
        "[y_0, y_1, y_2]\n"
       ]
      }
     ],
     "prompt_number": 2
    },
    {
     "cell_type": "markdown",
     "metadata": {},
     "source": [
      "From the reactions above, we can directly derive the <a href=\"http://en.wikipedia.org/wiki/Stoichiometry#Stoichiometry_matrix\">stoichiometry matrix</a>:\n",
      "\n",
      "$$\n",
      "S = \\left( \\begin{array}{cccccc}\n",
      "+1 & -1 & -1 & 0 & 0 & 0\\\\\n",
      "0 & 0 & 0 & +1 & -1 & 0\\\\\n",
      "0 & 0 & 0 & 0 & +1 & -1 \\end{array} \\right)\n",
      "$$\n",
      "\n",
      "We can use ``numpy`` ``array`` to encode this matrix in python, for instance:"
     ]
    },
    {
     "cell_type": "code",
     "collapsed": false,
     "input": [
      "import numpy as np\n",
      "stoichiometry_matrix = np.array([[1, -1, -1, 0, 0, 0],\n",
      "                                  [0, 0, 0, 1, -1, 0],\n",
      "                                  [0, 0, 0, 0, 1, -1]])\n",
      "print stoichiometry_matrix"
     ],
     "language": "python",
     "metadata": {},
     "outputs": [
      {
       "output_type": "stream",
       "stream": "stdout",
       "text": [
        "[[ 1 -1 -1  0  0  0]\n",
        " [ 0  0  0  1 -1  0]\n",
        " [ 0  0  0  0  1 -1]]\n"
       ]
      }
     ],
     "prompt_number": 3
    },
    {
     "cell_type": "markdown",
     "metadata": {},
     "source": [
      "In addition to the stoichiometry matrix, which only gives the net production of species in each reaction, the propensities need to be defined for each reactions. Importantly, **stochatic** propensities (as opposed to deterministic rates) must be provided."
     ]
    },
    {
     "cell_type": "markdown",
     "metadata": {},
     "source": [
      "Using this notation, the propensities of the $p53$ model are:\n",
      "    \n",
      "$$\n",
      "\\begin{aligned}\n",
      "a_0 &= c_0 \\\\\n",
      "a_1 &= c_1 y_0\\\\\n",
      "a_2 &= \\frac{c_2 y_2 y_0}{(y_0+c_6)}\\\\\n",
      "a_3 &= c_3 y_0\\\\\n",
      "a_4 &= c_4 y_1\\\\\n",
      "a_5 &= c_5 y_2\\\\\n",
      "\\end{aligned}\n",
      "$$\n",
      "\n",
      ",where: \n",
      "\n",
      "* $c_0$ is the *p53* production rate,\n",
      "* $c_1$ is the *Mdm2*-independent *p53* degradation rate,\n",
      "* $c_2$ is the saturation *p53* degradation rate\n",
      "* $c_3$ is the *p53*-dependent *Mdm2* production rate,\n",
      "* $c_4$ is the *Mdm2* maturation rate,\n",
      "* $c_5$ is the *Mdm2* degradation rate.     \n",
      "* and $c_6$ is the *53* threshold for degradation by *Mdm2*.\n"
     ]
    },
    {
     "cell_type": "markdown",
     "metadata": {},
     "source": [
      "In Python, we need to explicitly note the constant parameters of the model using `sympy` package:"
     ]
    },
    {
     "cell_type": "code",
     "collapsed": false,
     "input": [
      "parameters = sympy.symbols(['c_0', 'c_1', 'c_2', 'c_3', 'c_4', 'c_5', 'c_6'])\n",
      "print parameters"
     ],
     "language": "python",
     "metadata": {},
     "outputs": [
      {
       "output_type": "stream",
       "stream": "stdout",
       "text": [
        "[c_0, c_1, c_2, c_3, c_4, c_5, c_6]\n"
       ]
      }
     ],
     "prompt_number": 4
    },
    {
     "cell_type": "markdown",
     "metadata": {},
     "source": [
      "We can again describe these structures in Python. \n",
      "To do this, we drop the left-hand-side of equations ($a_0$, ..., $a_5$) and create a python list (or, alternatively, a ``sympy.Matrix`` of the right-hand-sides)."
     ]
    },
    {
     "cell_type": "code",
     "collapsed": false,
     "input": [
      "propensities=['c_0',\n",
      "              'c_1*y_0',\n",
      "              'c_2*y_2*y_0/(y_0+c_6)',\n",
      "              'c_3*y_0',\n",
      "              'c_4*y_1',\n",
      "              'c_5*y_2']\n",
      "print propensities"
     ],
     "language": "python",
     "metadata": {},
     "outputs": [
      {
       "output_type": "stream",
       "stream": "stdout",
       "text": [
        "['c_0', 'c_1*y_0', 'c_2*y_2*y_0/(y_0+c_6)', 'c_3*y_0', 'c_4*y_1', 'c_5*y_2']\n"
       ]
      }
     ],
     "prompt_number": 5
    },
    {
     "cell_type": "markdown",
     "metadata": {},
     "source": [
      "We now have everything ready to be able to create a `MEANS` model object."
     ]
    },
    {
     "cell_type": "markdown",
     "metadata": {},
     "source": [
      "First let's import the `MEANS` package"
     ]
    },
    {
     "cell_type": "code",
     "collapsed": false,
     "input": [
      "import means"
     ],
     "language": "python",
     "metadata": {},
     "outputs": [],
     "prompt_number": 6
    },
    {
     "cell_type": "markdown",
     "metadata": {},
     "source": [
      "The ``means.Model`` constructor takes the list of species, the list of parameters, the propensities and the stoichiometry matrix in that order."
     ]
    },
    {
     "cell_type": "code",
     "collapsed": false,
     "input": [
      "my_model = means.Model(species, parameters, propensities, stoichiometry_matrix)"
     ],
     "language": "python",
     "metadata": {},
     "outputs": [],
     "prompt_number": 7
    },
    {
     "cell_type": "markdown",
     "metadata": {},
     "source": [
      "The model created should be the same as described earlier:"
     ]
    },
    {
     "cell_type": "code",
     "collapsed": false,
     "input": [
      "my_model"
     ],
     "language": "python",
     "metadata": {},
     "outputs": [
      {
       "latex": [
        "\\begin{align*}\n",
        "\\text{Species} &= \\begin{bmatrix}y_{0}, & y_{1}, & y_{2}\\end{bmatrix} \\\\\n",
        "\\text{Parameters} &= \\begin{bmatrix}c_{0}, & c_{1}, & c_{2}, & c_{3}, & c_{4}, & c_{5}, & c_{6}\\end{bmatrix} \\\\\n",
        "\\text{Stoichiometry matrix} &= \\left[\\begin{matrix}1 & -1 & -1 & 0 & 0 & 0\\\\0 & 0 & 0 & 1 & -1 & 0\\\\0 & 0 & 0 & 0 & 1 & -1\\end{matrix}\\right] \\\\\n",
        "\\text{Propensities} &= \\left[\\begin{matrix}c_{0}\\\\c_{1} y_{0}\\\\\\frac{c_{2} y_{0} y_{2}}{c_{6} + y_{0}}\\\\c_{3} y_{0}\\\\c_{4} y_{1}\\\\c_{5} y_{2}\\end{matrix}\\right] \\\\\n",
        "\\end{align*}"
       ],
       "metadata": {},
       "output_type": "pyout",
       "prompt_number": 8,
       "text": [
        "<class 'means.core.model.Model'>\n",
        "Species: [y_0, y_1, y_2]\n",
        "Parameters: [c_0, c_1, c_2, c_3, c_4, c_5, c_6]\n",
        "\n",
        "Stoichiometry matrix:\n",
        "Matrix([\n",
        "[1, -1, -1, 0,  0,  0],\n",
        "[0,  0,  0, 1, -1,  0],\n",
        "[0,  0,  0, 0,  1, -1]])\n",
        "\n",
        "Propensities:\n",
        "Matrix([\n",
        "[                    c_0],\n",
        "[                c_1*y_0],\n",
        "[c_2*y_0*y_2/(c_6 + y_0)],\n",
        "[                c_3*y_0],\n",
        "[                c_4*y_1],\n",
        "[                c_5*y_2]])"
       ]
      }
     ],
     "prompt_number": 8
    },
    {
     "cell_type": "markdown",
     "metadata": {},
     "source": [
      "In addition to the $\\LaTeX$ rendering, pythonic representation of model can be displayed using ``print``."
     ]
    },
    {
     "cell_type": "code",
     "collapsed": false,
     "input": [
      "print my_model"
     ],
     "language": "python",
     "metadata": {},
     "outputs": [
      {
       "output_type": "stream",
       "stream": "stdout",
       "text": [
        "<class 'means.core.model.Model'>\n",
        "Species: [y_0, y_1, y_2]\n",
        "Parameters: [c_0, c_1, c_2, c_3, c_4, c_5, c_6]\n",
        "\n",
        "Stoichiometry matrix:\n",
        "Matrix([\n",
        "[1, -1, -1, 0,  0,  0],\n",
        "[0,  0,  0, 1, -1,  0],\n",
        "[0,  0,  0, 0,  1, -1]])\n",
        "\n",
        "Propensities:\n",
        "Matrix([\n",
        "[                    c_0],\n",
        "[                c_1*y_0],\n",
        "[c_2*y_0*y_2/(c_6 + y_0)],\n",
        "[                c_3*y_0],\n",
        "[                c_4*y_1],\n",
        "[                c_5*y_2]])\n"
       ]
      }
     ],
     "prompt_number": 9
    },
    {
     "cell_type": "markdown",
     "metadata": {},
     "source": [
      "The attributes for each of the elements in the model can be accessed directly as well:"
     ]
    },
    {
     "cell_type": "code",
     "collapsed": false,
     "input": [
      "print my_model.species\n",
      "print my_model.parameters\n",
      "print my_model.stoichiometry_matrix\n",
      "print my_model.propensities"
     ],
     "language": "python",
     "metadata": {},
     "outputs": [
      {
       "output_type": "stream",
       "stream": "stdout",
       "text": [
        "[y_0, y_1, y_2]\n",
        "[c_0, c_1, c_2, c_3, c_4, c_5, c_6]\n",
        "Matrix([[1, -1, -1, 0, 0, 0], [0, 0, 0, 1, -1, 0], [0, 0, 0, 0, 1, -1]])\n",
        "Matrix([[c_0], [c_1*y_0], [c_2*y_0*y_2/(c_6 + y_0)], [c_3*y_0], [c_4*y_1], [c_5*y_2]])\n"
       ]
      }
     ],
     "prompt_number": 10
    },
    {
     "cell_type": "heading",
     "level": 2,
     "metadata": {},
     "source": [
      "Example Models in Means"
     ]
    },
    {
     "cell_type": "markdown",
     "metadata": {},
     "source": [
      "`MEANS` already package provides a few sample models:\n",
      "\n",
      "* `MODEL_DIMERISATION`, \n",
      "* `MODEL_MICHAELIS_MENTEN`, \n",
      "* `MODEL_P53`\n",
      "* `MODEL_HES1`,\n",
      "* `MODEL_LOTKA_VOLTERRA`. \n",
      "\n",
      "These models can be accesseed from `examples` submodule. Let's use `MODEL_LOTKA_VOLTERRA` as an example."
     ]
    },
    {
     "cell_type": "code",
     "collapsed": false,
     "input": [
      "from means.examples.sample_models import MODEL_LOTKA_VOLTERRA\n",
      "print MODEL_LOTKA_VOLTERRA"
     ],
     "language": "python",
     "metadata": {},
     "outputs": [
      {
       "output_type": "stream",
       "stream": "stdout",
       "text": [
        "<class 'means.core.model.Model'>\n",
        "Species: [Pred, Prey]\n",
        "Parameters: [k_1, k_2, k_3]\n",
        "\n",
        "Stoichiometry matrix:\n",
        "Matrix([\n",
        "[0,  1, -1],\n",
        "[1, -1,  0]])\n",
        "\n",
        "Propensities:\n",
        "Matrix([\n",
        "[     Prey*k_1],\n",
        "[Pred*Prey*k_2],\n",
        "[     Pred*k_3]])\n"
       ]
      }
     ],
     "prompt_number": 11
    },
    {
     "cell_type": "markdown",
     "metadata": {},
     "source": [
      "Please note that the names of the species may not necessarily be mathematical symbols: $y_0$, $y_1$.\n",
      "\n",
      "In the Lotka-Volterra model above, for instance,  actual names of the species (Predator and Prey) can be used."
     ]
    },
    {
     "cell_type": "heading",
     "level": 3,
     "metadata": {},
     "source": [
      "Reading Models From Files"
     ]
    },
    {
     "cell_type": "markdown",
     "metadata": {},
     "source": [
      "``MEANS`` models can be saved to file and read from it with the help of ``means.io`` package. \n",
      "This package provides methods ``to_file`` and ``from_file`` that can read arbitrary python objects from files,\n",
      "as long as they were serialised in YAML format.\n",
      "Similarly, `Model` class itself has a ``to_file()`` and ``from_file()`` methods designed to help you with these tasks.\n",
      "\n",
      "We took great care of making `Model` objects cleanly serialisable with YAML into human-readable fashion.\n",
      "\n",
      "Please find a demonstration below:"
     ]
    },
    {
     "cell_type": "markdown",
     "metadata": {},
     "source": [
      "Let's save `my_model` to file:"
     ]
    },
    {
     "cell_type": "code",
     "collapsed": false,
     "input": [
      "my_model.to_file('my_model.model')"
     ],
     "language": "python",
     "metadata": {},
     "outputs": [],
     "prompt_number": 12
    },
    {
     "cell_type": "markdown",
     "metadata": {},
     "source": [
      "Print the contents of the file to show how human-readable they are:"
     ]
    },
    {
     "cell_type": "code",
     "collapsed": false,
     "input": [
      "with open('my_model.model') as f:\n",
      "    print f.read()"
     ],
     "language": "python",
     "metadata": {},
     "outputs": [
      {
       "output_type": "stream",
       "stream": "stdout",
       "text": [
        "!model\n",
        "species: [y_0, y_1, y_2]\n",
        "parameters: [c_0, c_1, c_2, c_3, c_4, c_5, c_6]\n",
        "stoichiometry_matrix:\n",
        "- [1, -1, -1, 0, 0, 0]\n",
        "- [0, 0, 0, 1, -1, 0]\n",
        "- [0, 0, 0, 0, 1, -1]\n",
        "propensities: [c_0, c_1*y_0, c_2*y_0*y_2/(c_6 + y_0), c_3*y_0, c_4*y_1, c_5*y_2]\n",
        "\n"
       ]
      }
     ],
     "prompt_number": 13
    },
    {
     "cell_type": "markdown",
     "metadata": {},
     "source": [
      "Now let's read the model object back from this file:"
     ]
    },
    {
     "cell_type": "code",
     "collapsed": false,
     "input": [
      "my_model_new = means.Model.from_file('my_model.model')\n",
      "my_model_new"
     ],
     "language": "python",
     "metadata": {},
     "outputs": [
      {
       "latex": [
        "\\begin{align*}\n",
        "\\text{Species} &= \\begin{bmatrix}y_{0}, & y_{1}, & y_{2}\\end{bmatrix} \\\\\n",
        "\\text{Parameters} &= \\begin{bmatrix}c_{0}, & c_{1}, & c_{2}, & c_{3}, & c_{4}, & c_{5}, & c_{6}\\end{bmatrix} \\\\\n",
        "\\text{Stoichiometry matrix} &= \\left[\\begin{matrix}1 & -1 & -1 & 0 & 0 & 0\\\\0 & 0 & 0 & 1 & -1 & 0\\\\0 & 0 & 0 & 0 & 1 & -1\\end{matrix}\\right] \\\\\n",
        "\\text{Propensities} &= \\left[\\begin{matrix}c_{0}\\\\c_{1} y_{0}\\\\\\frac{c_{2} y_{0} y_{2}}{c_{6} + y_{0}}\\\\c_{3} y_{0}\\\\c_{4} y_{1}\\\\c_{5} y_{2}\\end{matrix}\\right] \\\\\n",
        "\\end{align*}"
       ],
       "metadata": {},
       "output_type": "pyout",
       "prompt_number": 14,
       "text": [
        "<class 'means.core.model.Model'>\n",
        "Species: [y_0, y_1, y_2]\n",
        "Parameters: [c_0, c_1, c_2, c_3, c_4, c_5, c_6]\n",
        "\n",
        "Stoichiometry matrix:\n",
        "Matrix([\n",
        "[1, -1, -1, 0,  0,  0],\n",
        "[0,  0,  0, 1, -1,  0],\n",
        "[0,  0,  0, 0,  1, -1]])\n",
        "\n",
        "Propensities:\n",
        "Matrix([\n",
        "[                    c_0],\n",
        "[                c_1*y_0],\n",
        "[c_2*y_0*y_2/(c_6 + y_0)],\n",
        "[                c_3*y_0],\n",
        "[                c_4*y_1],\n",
        "[                c_5*y_2]])"
       ]
      }
     ],
     "prompt_number": 14
    },
    {
     "cell_type": "markdown",
     "metadata": {},
     "source": [
      "One can verify it is indeed the same model we had as before.\n",
      "\n",
      "Let's delete this file we used to illustrate this."
     ]
    },
    {
     "cell_type": "code",
     "collapsed": false,
     "input": [
      "import os\n",
      "os.unlink('my_model.model')"
     ],
     "language": "python",
     "metadata": {},
     "outputs": [],
     "prompt_number": 15
    },
    {
     "cell_type": "heading",
     "level": 4,
     "metadata": {},
     "source": [
      "SBML Support (**requires SBML library installed on your machine**)"
     ]
    },
    {
     "cell_type": "markdown",
     "metadata": {},
     "source": [
      "More complicated biological models can be parsed from SBML files. \n",
      "\n",
      "[Biomodels repository](http://www.ebi.ac.uk/biomodels-main/) hosts a good set of such models, let's download one of them to our working directory:"
     ]
    },
    {
     "cell_type": "code",
     "collapsed": false,
     "input": [
      "import urllib\n",
      "__ = urllib.urlretrieve(\"http://www.ebi.ac.uk/biomodels/models-main/publ/\"\n",
      "                        \"BIOMD0000000010/BIOMD0000000010.xml.origin\", \n",
      "                        filename=\"autoreg.xml\")"
     ],
     "language": "python",
     "metadata": {},
     "outputs": [],
     "prompt_number": 16
    },
    {
     "cell_type": "markdown",
     "metadata": {},
     "source": [
      "This model can be parsed into `MEANS` Model object using `means.io.read_sbml` function. When parsing the SBML format, compartments of species are neglected, as the species names are assumed to be compartment-specific. \n",
      "\n",
      "The values for the constants and initial amounts of all species are also retrieved for making it easier to simulate the trajectories later."
     ]
    },
    {
     "cell_type": "code",
     "collapsed": false,
     "input": [
      "# Requires: libsbml\n",
      "autoreg_model, autoreg_parameters, autoreg_initial_conditions \\\n",
      "    = means.io.read_sbml('autoreg.xml')"
     ],
     "language": "python",
     "metadata": {},
     "outputs": [],
     "prompt_number": 17
    },
    {
     "cell_type": "markdown",
     "metadata": {},
     "source": [
      "The resulting model is shown below"
     ]
    },
    {
     "cell_type": "code",
     "collapsed": false,
     "input": [
      "# Requires: libsbml\n",
      "autoreg_model"
     ],
     "language": "python",
     "metadata": {},
     "outputs": [
      {
       "latex": [
        "\\begin{align*}\n",
        "\\text{Species} &= \\begin{bmatrix}MKKK, & MKKK_{P}, & MKK, & MKK_{P}, & MKK_{PP}, & MAPK, & MAPK_{P}, & MAPK_{PP}\\end{bmatrix} \\\\\n",
        "\\text{Parameters} &= \\begin{bmatrix}uVol, & K_{1}, & KK_{10}, & KK_{2}, & KK_{3}, & KK_{4}, & KK_{5}, & KK_{6}, & KK_{7}, & KK_{8}, & KK_{9}, & Ki, & V_{1}, & V_{10}, & V_{2}, & V_{5}, & V_{6}, & V_{9}, & k_{3}, & k_{4}, & k_{7}, & k_{8}, & n\\end{bmatrix} \\\\\n",
        "\\text{Stoichiometry matrix} &= \\left[\\begin{matrix}-1 & 1 & 0 & 0 & 0 & 0 & 0 & 0 & 0 & 0\\\\1 & -1 & 0 & 0 & 0 & 0 & 0 & 0 & 0 & 0\\\\0 & 0 & -1 & 0 & 0 & 1 & 0 & 0 & 0 & 0\\\\0 & 0 & 1 & -1 & 1 & -1 & 0 & 0 & 0 & 0\\\\0 & 0 & 0 & 1 & -1 & 0 & 0 & 0 & 0 & 0\\\\0 & 0 & 0 & 0 & 0 & 0 & -1 & 0 & 0 & 1\\\\0 & 0 & 0 & 0 & 0 & 0 & 1 & -1 & 1 & -1\\\\0 & 0 & 0 & 0 & 0 & 0 & 0 & 1 & -1 & 0\\end{matrix}\\right] \\\\\n",
        "\\text{Propensities} &= \\left[\\begin{matrix}\\frac{MKKK V_{1}}{\\left(K_{1} + MKKK\\right) \\left(\\left(\\frac{MAPK_{PP}}{Ki}\\right)^{n} + 1\\right)}\\\\\\frac{MKKK_{P} V_{2}}{KK_{2} + MKKK_{P}}\\\\\\frac{MKK MKKK_{P} k_{3}}{KK_{3} + MKK}\\\\\\frac{MKKK_{P} MKK_{P} k_{4}}{KK_{4} + MKK_{P}}\\\\\\frac{MKK_{PP} V_{5}}{KK_{5} + MKK_{PP}}\\\\\\frac{MKK_{P} V_{6}}{KK_{6} + MKK_{P}}\\\\\\frac{MAPK MKK_{PP} k_{7}}{KK_{7} + MAPK}\\\\\\frac{MAPK_{P} MKK_{PP} k_{8}}{KK_{8} + MAPK_{P}}\\\\\\frac{MAPK_{PP} V_{9}}{KK_{9} + MAPK_{PP}}\\\\\\frac{MAPK_{P} V_{10}}{KK_{10} + MAPK_{P}}\\end{matrix}\\right] \\\\\n",
        "\\end{align*}"
       ],
       "metadata": {},
       "output_type": "pyout",
       "prompt_number": 18,
       "text": [
        "<class 'means.core.model.Model'>\n",
        "Species: [MKKK, MKKK_P, MKK, MKK_P, MKK_PP, MAPK, MAPK_P, MAPK_PP]\n",
        "Parameters: [uVol, K1, KK10, KK2, KK3, KK4, KK5, KK6, KK7, KK8, KK9, Ki, V1, V10, V2, V5, V6, V9, k3, k4, k7, k8, n]\n",
        "\n",
        "Stoichiometry matrix:\n",
        "Matrix([\n",
        "[-1,  1,  0,  0,  0,  0,  0,  0,  0,  0],\n",
        "[ 1, -1,  0,  0,  0,  0,  0,  0,  0,  0],\n",
        "[ 0,  0, -1,  0,  0,  1,  0,  0,  0,  0],\n",
        "[ 0,  0,  1, -1,  1, -1,  0,  0,  0,  0],\n",
        "[ 0,  0,  0,  1, -1,  0,  0,  0,  0,  0],\n",
        "[ 0,  0,  0,  0,  0,  0, -1,  0,  0,  1],\n",
        "[ 0,  0,  0,  0,  0,  0,  1, -1,  1, -1],\n",
        "[ 0,  0,  0,  0,  0,  0,  0,  1, -1,  0]])\n",
        "\n",
        "Propensities:\n",
        "Matrix([\n",
        "[MKKK*V1/((K1 + MKKK)*((MAPK_PP/Ki)**n + 1))],\n",
        "[                   MKKK_P*V2/(KK2 + MKKK_P)],\n",
        "[                  MKK*MKKK_P*k3/(KK3 + MKK)],\n",
        "[              MKKK_P*MKK_P*k4/(KK4 + MKK_P)],\n",
        "[                   MKK_PP*V5/(KK5 + MKK_PP)],\n",
        "[                     MKK_P*V6/(KK6 + MKK_P)],\n",
        "[                MAPK*MKK_PP*k7/(KK7 + MAPK)],\n",
        "[            MAPK_P*MKK_PP*k8/(KK8 + MAPK_P)],\n",
        "[                 MAPK_PP*V9/(KK9 + MAPK_PP)],\n",
        "[                 MAPK_P*V10/(KK10 + MAPK_P)]])"
       ]
      }
     ],
     "prompt_number": 18
    },
    {
     "cell_type": "markdown",
     "metadata": {},
     "source": [
      "Along with the initial set of parameters parsed from the same SBML file, along with a set of initial conditions:"
     ]
    },
    {
     "cell_type": "code",
     "collapsed": false,
     "input": [
      "# Requires: libsbml\n",
      "print autoreg_parameters[:3], '.. snip ..', autoreg_parameters[-3:]\n",
      "print autoreg_initial_conditions"
     ],
     "language": "python",
     "metadata": {},
     "outputs": [
      {
       "output_type": "stream",
       "stream": "stdout",
       "text": [
        "[1.0, 10.0, 15.0] .. snip .. [0.025, 0.025, 1.0]\n",
        "[0.0, 0.0, 0.0, 0.0, 0.0, 0.0, 0.0, 0.0]\n"
       ]
      }
     ],
     "prompt_number": 19
    },
    {
     "cell_type": "markdown",
     "metadata": {},
     "source": [
      "Let's end this tutorial here.\n",
      "\n",
      "Feel free to move directly to the next tutorial where we explain how to use the approximation methods implemented in this package."
     ]
    },
    {
     "cell_type": "code",
     "collapsed": false,
     "input": [
      "# Remove objects used in this tutorial\n",
      "import os\n",
      "os.unlink('autoreg.xml')"
     ],
     "language": "python",
     "metadata": {},
     "outputs": [],
     "prompt_number": 20
    },
    {
     "cell_type": "heading",
     "level": 1,
     "metadata": {},
     "source": [
      "Modelling Stochastic Dynamics"
     ]
    },
    {
     "cell_type": "markdown",
     "metadata": {},
     "source": [
      "Creating models is nice and fun, however, what we are really interested in is the ability to study them."
     ]
    },
    {
     "cell_type": "heading",
     "level": 2,
     "metadata": {},
     "source": [
      "Moment Expansion Approximation"
     ]
    },
    {
     "cell_type": "markdown",
     "metadata": {},
     "source": [
      "In their [2013 paper](http://scitation.aip.org/content/aip/journal/jcp/138/17/10.1063/1.4802475),\n",
      "Ale *et al.* describe a Moment Expansion Approximation method for studying the moments of stochastic distributions.\n",
      "\n",
      "This method, shortened as MEA, approximate the solution for chemical master equation by a system of ODEs.\n",
      "The algorithm performs a set of moment expansions and returns as a set of ODEs,\n",
      "each one representing the time derivative of all approximated moments (mixed and non-mixed).\n",
      "\n",
      "Without going into much mathematical detail, the moment expansions are essentially infinite.\n",
      "In order to make the problem computable, the approximation needs to be stop at some higher order moment, or in other words, needs to be closed at that moment.\n",
      "\n",
      "Typically, the moments higher than the maximum specified moment are assumed to be equal to a constant scalar value (most often 0).\n",
      "We call this type of moment closure ``scalar`` in our package. This is where the \"approximation\" in Moment Expansion Approximation occurs.\n",
      "\n",
      "Besides the standard assumption of ``scalar`` value for higher order moments,\n",
      "we could replace them with the expressions derived from specific probability distributions.\n",
      "Currently our package supports ``normal``, ``log-normal`` and ``gamma`` distributions to close the higher order moments."
     ]
    },
    {
     "cell_type": "markdown",
     "metadata": {},
     "source": [
      "The MEA moment closure is implemented by the ``MomentExpansionApproximation`` class in the ``means.approximation.mea`` package, this class can be used explicitly to generate the set of ODEs from a given model.\n",
      "Before we show how to use it, let's set up our workspace:"
     ]
    },
    {
     "cell_type": "code",
     "collapsed": false,
     "input": [
      "import means\n",
      "import means.examples\n",
      "\n",
      "# Use dimerisation example model for this, due to the relative simplicity of it\n",
      "model = means.examples.MODEL_DIMERISATION"
     ],
     "language": "python",
     "metadata": {},
     "outputs": [],
     "prompt_number": 21
    },
    {
     "cell_type": "code",
     "collapsed": false,
     "input": [
      "model"
     ],
     "language": "python",
     "metadata": {},
     "outputs": [
      {
       "latex": [
        "\\begin{align*}\n",
        "\\text{Species} &= \\begin{bmatrix}y_{0}\\end{bmatrix} \\\\\n",
        "\\text{Parameters} &= \\begin{bmatrix}c_{0}, & c_{1}, & c_{2}\\end{bmatrix} \\\\\n",
        "\\text{Stoichiometry matrix} &= \\left[\\begin{matrix}-2 & 2\\end{matrix}\\right] \\\\\n",
        "\\text{Propensities} &= \\left[\\begin{matrix}c_{0} y_{0} \\left(y_{0} - 1\\right)\\\\c_{1} \\left(0.5 c_{2} - 0.5 y_{0}\\right)\\end{matrix}\\right] \\\\\n",
        "\\end{align*}"
       ],
       "metadata": {},
       "output_type": "pyout",
       "prompt_number": 22,
       "text": [
        "<class 'means.core.model.Model'>\n",
        "Species: [y_0]\n",
        "Parameters: [c_0, c_1, c_2]\n",
        "\n",
        "Stoichiometry matrix:\n",
        "Matrix([[-2, 2]])\n",
        "\n",
        "Propensities:\n",
        "Matrix([\n",
        "[      c_0*y_0*(y_0 - 1)],\n",
        "[c_1*(0.5*c_2 - 0.5*y_0)]])"
       ]
      }
     ],
     "prompt_number": 22
    },
    {
     "cell_type": "markdown",
     "metadata": {},
     "source": [
      "To use this class, first instantiate it with appropriate model and max_order parameters:"
     ]
    },
    {
     "cell_type": "code",
     "collapsed": false,
     "input": [
      "mea = means.MomentExpansionApproximation(model, max_order=3)"
     ],
     "language": "python",
     "metadata": {},
     "outputs": [],
     "prompt_number": 23
    },
    {
     "cell_type": "markdown",
     "metadata": {},
     "source": [
      "Here we specify the system that we want to perform Moment Expansion Approximation \n",
      "for moments up to order three for the model defined above. \n",
      "Note that default closure method is always the scalar closure (*i.e.* assuming higher order values to be zero).\n",
      "\n",
      "After defining the approximation, we need to perform it. This is done by calling the ``.run()`` method of this class instance, and it returns an ``ODEProblem`` object, which is essentially a collection of ordinary differential equations."
     ]
    },
    {
     "cell_type": "code",
     "collapsed": false,
     "input": [
      "ode_problem = mea.run()"
     ],
     "language": "python",
     "metadata": {},
     "outputs": [],
     "prompt_number": 24
    },
    {
     "cell_type": "markdown",
     "metadata": {},
     "source": [
      "If you are viewing this in an interactive environment, such as IPython notebook, \n",
      "you can view the ode_problem results formatted in $\\LaTeX$ notation by just outputting it from a cell:"
     ]
    },
    {
     "cell_type": "code",
     "collapsed": false,
     "input": [
      "ode_problem"
     ],
     "language": "python",
     "metadata": {},
     "outputs": [
      {
       "latex": [
        "<h1>ODEProblem</h1>\n",
        "<p>Method: <code>'MEA'</code></p>\n",
        "<p>Parameters: <code>[c_0, c_1, c_2]</code></p>\n",
        "<p>Terms:</p>\n",
        "<ul>\n",
        "<li><code>Moment(array([1]), symbol=y_0)</code></li>\n",
        "<li><code>Moment(array([2]), symbol=M_2)</code></li>\n",
        "<li><code>Moment(array([3]), symbol=M_3)</code></li>\n",
        "</ul>\n",
        "<hr />\n",
        "\\begin{align*}\n",
        "\\dot{y_{0}} &= - 2 M_{2} c_{0} - 2 c_{0} y_{0} \\left(y_{0} - 1\\right) + 2 c_{1} \\left(0.5 c_{2} - 0.5 y_{0}\\right) \\\\\n",
        "\\dot{M_{2}} &= M_{2} \\left(- 4 c_{0} y_{0} - 4 c_{0} \\left(y_{0} - 1\\right) + 4 c_{0} - 2.0 c_{1}\\right) - 4 M_{3} c_{0} - 4 c_{0} y_{0}^{2} \\left(y_{0} - 1\\right) + 4 c_{0} y_{0} \\left(y_{0} - 1\\right) + 4 c_{1} y_{0} \\left(0.5 c_{2} - 0.5 y_{0}\\right) + 4 c_{1} \\left(0.5 c_{2} - 0.5 y_{0}\\right) - 2 y_{0} \\left(- 2 c_{0} y_{0} \\left(y_{0} - 1\\right) + 2 c_{1} \\left(0.5 c_{2} - 0.5 y_{0}\\right)\\right) \\\\\n",
        "\\dot{M_{3}} &= M_{2} \\left(- 30 c_{0} y_{0}^{2} - 18 c_{0} y_{0} \\left(y_{0} - 1\\right) + 24 c_{0} y_{0} + 6 c_{0} \\left(M_{2} + y_{0}^{2}\\right) + 12 c_{0} \\left(y_{0} - 1\\right) - 8 c_{0} - 6.0 c_{1} y_{0} + 6 c_{1} \\left(0.5 c_{2} - 0.5 y_{0}\\right) - 6.0 c_{1} - 3 y_{0} \\left(- 8 c_{0} y_{0} - 4 c_{0} \\left(y_{0} - 1\\right) + 4 c_{0} - 2.0 c_{1}\\right)\\right) + M_{3} \\left(- 6 c_{0} y_{0} - 6 c_{0} \\left(y_{0} - 1\\right) + 12 c_{0} - 3.0 c_{1}\\right) - 6 c_{0} y_{0}^{3} \\left(y_{0} - 1\\right) + 12 c_{0} y_{0}^{2} \\left(y_{0} - 1\\right) - 8 c_{0} y_{0} \\left(y_{0} - 1\\right) + 6 c_{1} y_{0}^{2} \\left(0.5 c_{2} - 0.5 y_{0}\\right) + 12 c_{1} y_{0} \\left(0.5 c_{2} - 0.5 y_{0}\\right) + 8 c_{1} \\left(0.5 c_{2} - 0.5 y_{0}\\right) + 6 y_{0}^{2} \\left(- 2 c_{0} y_{0} \\left(y_{0} - 1\\right) + 2 c_{1} \\left(0.5 c_{2} - 0.5 y_{0}\\right)\\right) - 3 y_{0} \\left(- 4 c_{0} y_{0}^{2} \\left(y_{0} - 1\\right) + 4 c_{0} y_{0} \\left(y_{0} - 1\\right) + 4 c_{1} y_{0} \\left(0.5 c_{2} - 0.5 y_{0}\\right) + 4 c_{1} \\left(0.5 c_{2} - 0.5 y_{0}\\right)\\right) - 3 \\left(M_{2} + y_{0}^{2}\\right) \\left(- 2 c_{0} y_{0} \\left(y_{0} - 1\\right) + 2 c_{1} \\left(0.5 c_{2} - 0.5 y_{0}\\right)\\right) \\\\\n",
        "\\end{align*}"
       ],
       "metadata": {},
       "output_type": "pyout",
       "prompt_number": 25,
       "text": [
        "<class 'means.core.problems.ODEProblem'>\n",
        "Method: 'MEA'\n",
        "Parameters: [c_0, c_1, c_2]\n",
        "\n",
        "Equations:\n",
        "\n",
        "Moment(array([1]), symbol=y_0):\n",
        "    -2*M_2*c_0 - 2*c_0*y_0*(y_0 - 1) + 2*c_1*(0.5*c_2 - 0.5*y_0)\n",
        "\n",
        "Moment(array([2]), symbol=M_2):\n",
        "    M_2*(-4*c_0*y_0 - 4*c_0*(y_0 - 1) + 4*c_0 - 2.0*c_1) - 4*M_3*c_0 - 4*c_0*y_0**2*(y_0 - 1) + 4*c_0*y_0*(y_0 - 1) + 4*c_1*y_0*(0.5*c_2 - 0.5*y_0) + 4*c_1*(0.5*c_2 - 0.5*y_0) - 2*y_0*(-2*c_0*y_0*(y_0 - 1) + 2*c_1*(0.5*c_2 - 0.5*y_0))\n",
        "\n",
        "Moment(array([3]), symbol=M_3):\n",
        "    M_2*(-30*c_0*y_0**2 - 18*c_0*y_0*(y_0 - 1) + 24*c_0*y_0 + 6*c_0*(M_2 + y_0**2) + 12*c_0*(y_0 - 1) - 8*c_0 - 6.0*c_1*y_0 + 6*c_1*(0.5*c_2 - 0.5*y_0) - 6.0*c_1 - 3*y_0*(-8*c_0*y_0 - 4*c_0*(y_0 - 1) + 4*c_0 - 2.0*c_1)) + M_3*(-6*c_0*y_0 - 6*c_0*(y_0 - 1) + 12*c_0 - 3.0*c_1) - 6*c_0*y_0**3*(y_0 - 1) + 12*c_0*y_0**2*(y_0 - 1) - 8*c_0*y_0*(y_0 - 1) + 6*c_1*y_0**2*(0.5*c_2 - 0.5*y_0) + 12*c_1*y_0*(0.5*c_2 - 0.5*y_0) + 8*c_1*(0.5*c_2 - 0.5*y_0) + 6*y_0**2*(-2*c_0*y_0*(y_0 - 1) + 2*c_1*(0.5*c_2 - 0.5*y_0)) - 3*y_0*(-4*c_0*y_0**2*(y_0 - 1) + 4*c_0*y_0*(y_0 - 1) + 4*c_1*y_0*(0.5*c_2 - 0.5*y_0) + 4*c_1*(0.5*c_2 - 0.5*y_0)) - 3*(M_2 + y_0**2)*(-2*c_0*y_0*(y_0 - 1) + 2*c_1*(0.5*c_2 - 0.5*y_0))"
       ]
      }
     ],
     "prompt_number": 25
    },
    {
     "cell_type": "markdown",
     "metadata": {},
     "source": [
      "The list of the terms used is given above the equations along with their descriptions.\n",
      "We use the convention for the first set of ODEs to explicitly model the species concentrations (first-order moments), and then each subsequent ODE is modelling higher order moments. \n",
      "Symbolic notation for moments matches the $M_\\mathbf{n}$ notation used in the paper and describes the moment orders in the sub-index."
     ]
    },
    {
     "cell_type": "markdown",
     "metadata": {},
     "source": [
      "``ODEProblem`` objects offer a convenient way of retrieving the description of a symbol programmatically via the ``descriptor_for_symbol(symbol)`` method, i.e.:"
     ]
    },
    {
     "cell_type": "code",
     "collapsed": false,
     "input": [
      "ode_problem.descriptor_for_symbol('y_0')"
     ],
     "language": "python",
     "metadata": {},
     "outputs": [
      {
       "latex": [
        "Moment($[1]$, symbol=$y_0$)"
       ],
       "metadata": {},
       "output_type": "pyout",
       "prompt_number": 26,
       "text": [
        "Moment(array([1]), symbol=y_0)"
       ]
      }
     ],
     "prompt_number": 26
    },
    {
     "cell_type": "markdown",
     "metadata": {},
     "source": [
      "We also provide a convenience method for performing this approximation, ``means.mea_approximation``.\n",
      "This method takes exactly the same set of parameters as the ``MomentExpansionApproximation``, creates an instance of it, issues the ``run()`` method and returns the resulting ODE problem back:"
     ]
    },
    {
     "cell_type": "code",
     "collapsed": false,
     "input": [
      "# Returns same set of ODEs as above\n",
      "ode_problem = means.mea_approximation(model, max_order=3) "
     ],
     "language": "python",
     "metadata": {},
     "outputs": [],
     "prompt_number": 27
    },
    {
     "cell_type": "markdown",
     "metadata": {},
     "source": [
      "In order to use the probability distributions described above as closure methods, supply additional ``closure`` argument to the function, for instance, closure using ``log-normal`` distribution can be performed as follows:"
     ]
    },
    {
     "cell_type": "code",
     "collapsed": false,
     "input": [
      "ode_problem_log_normal = means.mea_approximation(model, max_order=3, \n",
      "                                                 closure='log-normal')\n",
      "ode_problem_log_normal"
     ],
     "language": "python",
     "metadata": {},
     "outputs": [
      {
       "latex": [
        "<h1>ODEProblem</h1>\n",
        "<p>Method: <code>'MEA'</code></p>\n",
        "<p>Parameters: <code>[c_0, c_1, c_2]</code></p>\n",
        "<p>Terms:</p>\n",
        "<ul>\n",
        "<li><code>Moment(array([1]), symbol=y_0)</code></li>\n",
        "<li><code>Moment(array([2]), symbol=M_2)</code></li>\n",
        "<li><code>Moment(array([3]), symbol=M_3)</code></li>\n",
        "</ul>\n",
        "<hr />\n",
        "\\begin{align*}\n",
        "\\dot{y_{0}} &= - 2 M_{2} c_{0} - 2 c_{0} y_{0} \\left(y_{0} - 1\\right) + 2 c_{1} \\left(0.5 c_{2} - 0.5 y_{0}\\right) \\\\\n",
        "\\dot{M_{2}} &= M_{2} \\left(- 4 c_{0} y_{0} - 4 c_{0} \\left(y_{0} - 1\\right) + 4 c_{0} - 2.0 c_{1}\\right) - 4 M_{3} c_{0} - 4 c_{0} y_{0}^{2} \\left(y_{0} - 1\\right) + 4 c_{0} y_{0} \\left(y_{0} - 1\\right) + 4 c_{1} y_{0} \\left(0.5 c_{2} - 0.5 y_{0}\\right) + 4 c_{1} \\left(0.5 c_{2} - 0.5 y_{0}\\right) - 2 y_{0} \\left(- 2 c_{0} y_{0} \\left(y_{0} - 1\\right) + 2 c_{1} \\left(0.5 c_{2} - 0.5 y_{0}\\right)\\right) \\\\\n",
        "\\dot{M_{3}} &= M_{2} \\left(- 30 c_{0} y_{0}^{2} - 18 c_{0} y_{0} \\left(y_{0} - 1\\right) + 24 c_{0} y_{0} + 6 c_{0} \\left(M_{2} + y_{0}^{2}\\right) + 12 c_{0} \\left(y_{0} - 1\\right) - 8 c_{0} - 6.0 c_{1} y_{0} + 6 c_{1} \\left(0.5 c_{2} - 0.5 y_{0}\\right) - 6.0 c_{1} - 3 y_{0} \\left(- 8 c_{0} y_{0} - 4 c_{0} \\left(y_{0} - 1\\right) + 4 c_{0} - 2.0 c_{1}\\right)\\right) + M_{3} \\left(- 6 c_{0} y_{0} - 6 c_{0} \\left(y_{0} - 1\\right) + 12 c_{0} - 3.0 c_{1}\\right) - 6 c_{0} y_{0}^{3} \\left(y_{0} - 1\\right) + 12 c_{0} y_{0}^{2} \\left(y_{0} - 1\\right) - 8 c_{0} y_{0} \\left(y_{0} - 1\\right) - 6 c_{0} \\left(y_{0}^{4} \\left(\\frac{M_{2}}{y_{0}^{2}} + 1\\right)^{6} - 4 y_{0}^{4} \\left(\\frac{M_{2}}{y_{0}^{2}} + 1\\right)^{3} + 6 y_{0}^{4} \\left(\\frac{M_{2}}{y_{0}^{2}} + 1\\right) - 3 y_{0}^{4}\\right) + 6 c_{1} y_{0}^{2} \\left(0.5 c_{2} - 0.5 y_{0}\\right) + 12 c_{1} y_{0} \\left(0.5 c_{2} - 0.5 y_{0}\\right) + 8 c_{1} \\left(0.5 c_{2} - 0.5 y_{0}\\right) + 6 y_{0}^{2} \\left(- 2 c_{0} y_{0} \\left(y_{0} - 1\\right) + 2 c_{1} \\left(0.5 c_{2} - 0.5 y_{0}\\right)\\right) - 3 y_{0} \\left(- 4 c_{0} y_{0}^{2} \\left(y_{0} - 1\\right) + 4 c_{0} y_{0} \\left(y_{0} - 1\\right) + 4 c_{1} y_{0} \\left(0.5 c_{2} - 0.5 y_{0}\\right) + 4 c_{1} \\left(0.5 c_{2} - 0.5 y_{0}\\right)\\right) - 3 \\left(M_{2} + y_{0}^{2}\\right) \\left(- 2 c_{0} y_{0} \\left(y_{0} - 1\\right) + 2 c_{1} \\left(0.5 c_{2} - 0.5 y_{0}\\right)\\right) \\\\\n",
        "\\end{align*}"
       ],
       "metadata": {},
       "output_type": "pyout",
       "prompt_number": 28,
       "text": [
        "<class 'means.core.problems.ODEProblem'>\n",
        "Method: 'MEA'\n",
        "Parameters: [c_0, c_1, c_2]\n",
        "\n",
        "Equations:\n",
        "\n",
        "Moment(array([1]), symbol=y_0):\n",
        "    -2*M_2*c_0 - 2*c_0*y_0*(y_0 - 1) + 2*c_1*(0.5*c_2 - 0.5*y_0)\n",
        "\n",
        "Moment(array([2]), symbol=M_2):\n",
        "    M_2*(-4*c_0*y_0 - 4*c_0*(y_0 - 1) + 4*c_0 - 2.0*c_1) - 4*M_3*c_0 - 4*c_0*y_0**2*(y_0 - 1) + 4*c_0*y_0*(y_0 - 1) + 4*c_1*y_0*(0.5*c_2 - 0.5*y_0) + 4*c_1*(0.5*c_2 - 0.5*y_0) - 2*y_0*(-2*c_0*y_0*(y_0 - 1) + 2*c_1*(0.5*c_2 - 0.5*y_0))\n",
        "\n",
        "Moment(array([3]), symbol=M_3):\n",
        "    M_2*(-30*c_0*y_0**2 - 18*c_0*y_0*(y_0 - 1) + 24*c_0*y_0 + 6*c_0*(M_2 + y_0**2) + 12*c_0*(y_0 - 1) - 8*c_0 - 6.0*c_1*y_0 + 6*c_1*(0.5*c_2 - 0.5*y_0) - 6.0*c_1 - 3*y_0*(-8*c_0*y_0 - 4*c_0*(y_0 - 1) + 4*c_0 - 2.0*c_1)) + M_3*(-6*c_0*y_0 - 6*c_0*(y_0 - 1) + 12*c_0 - 3.0*c_1) - 6*c_0*y_0**3*(y_0 - 1) + 12*c_0*y_0**2*(y_0 - 1) - 8*c_0*y_0*(y_0 - 1) - 6*c_0*(y_0**4*(M_2/y_0**2 + 1)**6 - 4*y_0**4*(M_2/y_0**2 + 1)**3 + 6*y_0**4*(M_2/y_0**2 + 1) - 3*y_0**4) + 6*c_1*y_0**2*(0.5*c_2 - 0.5*y_0) + 12*c_1*y_0*(0.5*c_2 - 0.5*y_0) + 8*c_1*(0.5*c_2 - 0.5*y_0) + 6*y_0**2*(-2*c_0*y_0*(y_0 - 1) + 2*c_1*(0.5*c_2 - 0.5*y_0)) - 3*y_0*(-4*c_0*y_0**2*(y_0 - 1) + 4*c_0*y_0*(y_0 - 1) + 4*c_1*y_0*(0.5*c_2 - 0.5*y_0) + 4*c_1*(0.5*c_2 - 0.5*y_0)) - 3*(M_2 + y_0**2)*(-2*c_0*y_0*(y_0 - 1) + 2*c_1*(0.5*c_2 - 0.5*y_0))"
       ]
      }
     ],
     "prompt_number": 28
    },
    {
     "cell_type": "markdown",
     "metadata": {},
     "source": [
      "A keen eyed reader might notice that the ODEs generated using the different closure methods are very different from each other."
     ]
    },
    {
     "cell_type": "markdown",
     "metadata": {},
     "source": [
      "Each of the probabilistic distribution closures exist in both multivariate and univariate forms. \n",
      "By default, these distributions are assumed to be multivariate. In case, univariate distributions are desired, the parameter ``multivariate=False`` can be passed to the closure function.\n",
      "Essentially this parameter would set all the covariances to zero. \n",
      "For single species models, such as this one, this parameter makes no difference."
     ]
    },
    {
     "cell_type": "markdown",
     "metadata": {},
     "source": [
      "Gamma closure distribution is a bit different from the others as it has three forms: type 0, 1 and 2. \n",
      "Type zero is equivalent to univariate gamma, while type 1 and 2 are two different forms of multivariate Gamma distribution.\n",
      "Please consult the documentation and accompanying papers for explanation on these differences."
     ]
    },
    {
     "cell_type": "heading",
     "level": 2,
     "metadata": {},
     "source": [
      "Linear Noise Approximation"
     ]
    },
    {
     "cell_type": "markdown",
     "metadata": {},
     "source": [
      "Linear Noise Approximation (or LNA, for short) is an alternative method to generate the system of ODEs approximating the stochastic dynamics.\n",
      "It calculates the deterministic macroscopic rate and linear Fokker-Planck equations for the fluctuations around the steady state.\n",
      "\n",
      "It evaluates the deterministic rate and noise based only on mean, variance and covariance. \n",
      "Therefore, the number of resulting ODEs is equivalent to the number of ODEs obtained from MEA closed at second-order moments.\n",
      "\n",
      "We provide a ``LinearNoiseApproximation`` class that works similarly to the ``MomentExpansionApproximation`` class described earlier, as well as a convenience method ``lna_approximation`` that is equivalent to the ``mea_approximation`` used a couple of times in this tutorial already.\n",
      "\n",
      "As opposed to MEA described earlier, LNA is parameterless and only needs the model as input:"
     ]
    },
    {
     "cell_type": "code",
     "collapsed": false,
     "input": [
      "ode_problem_lna = means.lna_approximation(model)"
     ],
     "language": "python",
     "metadata": {},
     "outputs": [],
     "prompt_number": 29
    },
    {
     "cell_type": "markdown",
     "metadata": {},
     "source": [
      "The resulting set of ODEs returned is structurally equivalent to the one returned by MEA expansion, and can be viewed in the same fashion:"
     ]
    },
    {
     "cell_type": "code",
     "collapsed": false,
     "input": [
      "ode_problem_lna"
     ],
     "language": "python",
     "metadata": {},
     "outputs": [
      {
       "latex": [
        "<h1>ODEProblem</h1>\n",
        "<p>Method: <code>'LNA'</code></p>\n",
        "<p>Parameters: <code>[c_0, c_1, c_2]</code></p>\n",
        "<p>Terms:</p>\n",
        "<ul>\n",
        "<li><code>Moment(array([1]), symbol=y_0)</code></li>\n",
        "<li><code>VarianceTerm(position(0, 0), symbol=V_0_0)</code></li>\n",
        "</ul>\n",
        "<hr />\n",
        "\\begin{align*}\n",
        "\\dot{y_{0}} &= - 2 c_{0} y_{0} \\left(y_{0} - 1\\right) + 2 c_{1} \\left(0.5 c_{2} - 0.5 y_{0}\\right) \\\\\n",
        "\\dot{V_{0 0}} &= 2 V_{0 0} \\left(- 2 c_{0} y_{0} - 2 c_{0} \\left(y_{0} - 1\\right) - 1.0 c_{1}\\right) + 4 c_{0} y_{0} \\left(y_{0} - 1\\right) + 4 c_{1} \\left(0.5 c_{2} - 0.5 y_{0}\\right) \\\\\n",
        "\\end{align*}"
       ],
       "metadata": {},
       "output_type": "pyout",
       "prompt_number": 30,
       "text": [
        "<class 'means.core.problems.ODEProblem'>\n",
        "Method: 'LNA'\n",
        "Parameters: [c_0, c_1, c_2]\n",
        "\n",
        "Equations:\n",
        "\n",
        "Moment(array([1]), symbol=y_0):\n",
        "    -2*c_0*y_0*(y_0 - 1) + 2*c_1*(0.5*c_2 - 0.5*y_0)\n",
        "\n",
        "VarianceTerm(position(0, 0), symbol=V_0_0):\n",
        "    2*V_0_0*(-2*c_0*y_0 - 2*c_0*(y_0 - 1) - 1.0*c_1) + 4*c_0*y_0*(y_0 - 1) + 4*c_1*(0.5*c_2 - 0.5*y_0)"
       ]
      }
     ],
     "prompt_number": 30
    },
    {
     "cell_type": "markdown",
     "metadata": {},
     "source": [
      "The major difference is that MEA returns ``VarianceTerm`` objects instead of second-order moments, \n",
      "that match the notation used for variance, with indices specifying the position in the covariance matrix."
     ]
    },
    {
     "cell_type": "markdown",
     "metadata": {},
     "source": [
      "Besides this difference, the ``ODEProblem`` objects generated from MEA and LNA are interchangeable, and the subsequent steps described in following tutorials are able to support both of them."
     ]
    },
    {
     "cell_type": "markdown",
     "metadata": {},
     "source": [
      "In the next tutorial, we explains what can be done with these newly-obtained ``ODEProblem`` objects."
     ]
    }
   ],
   "metadata": {}
  }
 ]
}
{
 "metadata": {
  "name": ""
 },
 "nbformat": 3,
 "nbformat_minor": 0,
 "worksheets": [
  {
   "cells": [
    {
     "cell_type": "code",
     "collapsed": false,
     "input": [
      "%pylab inline\n",
      "import means\n",
      "import sympy\n",
      "import numpy as np\n",
      "import matplotlib.pyplot as plt\n",
      "MODEL_P53 = means.Model(constants=['c_0', 'c_1', 'c_2', 'c_3', 'c_4', 'c_5', 'c_6'],\n",
      "                  species=['y_0', 'y_1', 'y_2'],\n",
      "                  stoichiometry_matrix=[[1, -1, -1, 0, 0, 0],\n",
      "                                        [0, 0, 0, 1, -1, 0],\n",
      "                                        [0, 0, 0, 0, 1, -1]],\n",
      "                  propensities=['c_0',\n",
      "                                'c_1*y_0',\n",
      "                                'c_2*y_2*y_0/(y_0+c_6)',\n",
      "                                'c_3*y_0',\n",
      "                                'c_4*y_1',\n",
      "                                'c_5*y_2'])\n",
      "ODEs_logn = means.approximation.MomentExpansionApproximation(MODEL_P53, 3, closure='log-normal', multivariate=True).run()"
     ],
     "language": "python",
     "metadata": {},
     "outputs": [
      {
       "output_type": "stream",
       "stream": "stdout",
       "text": [
        "Populating the interactive namespace from numpy and matplotlib\n"
       ]
      }
     ],
     "prompt_number": 2
    },
    {
     "cell_type": "markdown",
     "metadata": {},
     "source": [
      "Once the ODE problems are generated, the user can study the system behaviour by solving the ODEs, with given duration, time step, initial condition for each species, and the values for the rate constants. For example, "
     ]
    },
    {
     "cell_type": "code",
     "collapsed": false,
     "input": [
      "constant_values = [90, 0.002, 1.7, 1.1, 0.93, 0.96, 0.01]\n",
      "initial_conditions = [70, 30, 60]\n",
      "timepoints = np.arange(0, 100, 0.01)"
     ],
     "language": "python",
     "metadata": {},
     "outputs": [],
     "prompt_number": 3
    },
    {
     "cell_type": "markdown",
     "metadata": {},
     "source": [
      "At the moment, the ODEs are solved by CVODE solver, as it provides reasonable results within a reasonable time. Nevertheless, a collection of ODE solvers are available at assimulo.solvers. To operate ODE solving, the user should have the following command."
     ]
    },
    {
     "cell_type": "code",
     "collapsed": false,
     "input": [
      "Simulator = means.simulation.Simulation(ODEs_logn)"
     ],
     "language": "python",
     "metadata": {},
     "outputs": [],
     "prompt_number": 4
    },
    {
     "cell_type": "markdown",
     "metadata": {},
     "source": [
      ", where the input is the ODE system derived from moment expansion."
     ]
    },
    {
     "cell_type": "markdown",
     "metadata": {},
     "source": [
      "The system behaviour can be observed from the trajectory, which shows the variation in concentration of each reactant within the defined time. The following command demonstrate how to obtain the trajectory with given conditions. "
     ]
    },
    {
     "cell_type": "code",
     "collapsed": false,
     "input": [
      "Trajectory = Simulator.simulate_system(constant_values, initial_conditions, timepoints)"
     ],
     "language": "python",
     "metadata": {},
     "outputs": [],
     "prompt_number": 5
    },
    {
     "cell_type": "markdown",
     "metadata": {},
     "source": [
      "Upon execution of these commands, the system behaviour with time can be plotted using matplotlib library."
     ]
    },
    {
     "cell_type": "code",
     "collapsed": false,
     "input": [
      "plt.figure()\n",
      "for traj in Trajectory:\n",
      "    if traj.description.order == 1:\n",
      "        traj.plot()\n",
      "plt.legend(loc='lower left', bbox_to_anchor = (1, 0))"
     ],
     "language": "python",
     "metadata": {},
     "outputs": [
      {
       "metadata": {},
       "output_type": "pyout",
       "prompt_number": 6,
       "text": [
        "<matplotlib.legend.Legend at 0x109ce1910>"
       ]
      },
      {
       "metadata": {},
       "output_type": "display_data",
       "png": "[encoded data removed]",
       "text": [
        "<matplotlib.figure.Figure at 0x109cf2990>"
       ]
      }
     ],
     "prompt_number": 6
    },
    {
     "cell_type": "code",
     "collapsed": false,
     "input": [],
     "language": "python",
     "metadata": {},
     "outputs": [],
     "prompt_number": 6
    },
    {
     "cell_type": "code",
     "collapsed": false,
     "input": [],
     "language": "python",
     "metadata": {},
     "outputs": []
    }
   ],
   "metadata": {}
  }
 ]
}
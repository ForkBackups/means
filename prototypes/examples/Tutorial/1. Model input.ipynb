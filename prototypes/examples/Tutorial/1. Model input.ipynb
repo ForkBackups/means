{
 "metadata": {
  "name": "",
  "signature": "sha256:0199747de7b49d679110240798bf89bd1d4b70aa2313a0f0e8981a0486a9f187"
 },
 "nbformat": 3,
 "nbformat_minor": 0,
 "worksheets": [
  {
   "cells": [
    {
     "cell_type": "code",
     "collapsed": false,
     "input": [
      "%pylab inline"
     ],
     "language": "python",
     "metadata": {},
     "outputs": [
      {
       "output_type": "stream",
       "stream": "stdout",
       "text": [
        "Populating the interactive namespace from numpy and matplotlib\n"
       ]
      }
     ],
     "prompt_number": 1
    },
    {
     "cell_type": "heading",
     "level": 1,
     "metadata": {},
     "source": [
      "Modelling using MEANS"
     ]
    },
    {
     "cell_type": "markdown",
     "metadata": {},
     "source": [
      "This tutorial describes a way biological systems could be modelled using `MEANS` package."
     ]
    },
    {
     "cell_type": "markdown",
     "metadata": {},
     "source": [
      "In this example we will consider a simplified version of tumor-supressor protein *p53* system, as described in  [citation needed], which is as a system of three proteins: *p53*, *Mdm2 precursor* and *Mdm2*. \n",
      "\n",
      "The system we are considering can be described by the following reactions:"
     ]
    },
    {
     "cell_type": "markdown",
     "metadata": {},
     "source": [
      "\\begin{align*}\n",
      "p53~production~&&~\\emptyset\\rightarrow p53 \\\\\n",
      "Mdm2~independent~p53~degradation && p53 \\rightarrow \\emptyset \\\\\n",
      "Mdm2~dependent~p53~degradation && Mdm2 + p53 \\rightarrow Mdm2 \\\\\n",
      "p53~dependent~Mdm2~production && p53 + Mdm2_{precursor} \\rightarrow p53 + Mdm2 \\\\\n",
      "Mdm2~synthesis~from~precursor && Mdm2_{precursor} \\rightarrow Mdm2 \\\\\n",
      "Mdm2~degradation && Mdm2 \\rightarrow \\emptyset \\\\\n",
      "\\end{align*}"
     ]
    },
    {
     "cell_type": "markdown",
     "metadata": {},
     "source": [
      "In principle, we could use the protein names as species names in the model, but, for conveniance, we replace $p53$, $Mdm2_{precursor}$ and $Mdm2$ with $y_0$, $y_1$ and $y_2$, respectively.\n",
      "\n",
      "In python, this can be done by building ``sympy`` symbols for species:"
     ]
    },
    {
     "cell_type": "code",
     "collapsed": false,
     "input": [
      "import sympy\n",
      "species = sympy.symbols(['y_0', 'y_1', 'y_2'])\n",
      "print species"
     ],
     "language": "python",
     "metadata": {},
     "outputs": [
      {
       "output_type": "stream",
       "stream": "stdout",
       "text": [
        "[y_0, y_1, y_2]\n"
       ]
      }
     ],
     "prompt_number": 2
    },
    {
     "cell_type": "markdown",
     "metadata": {},
     "source": [
      "From the reactions above, we can directly derive the <a href=\"http://en.wikipedia.org/wiki/Stoichiometry#Stoichiometry_matrix\">stoichiometry matrix</a>:\n",
      "\n",
      "$$\n",
      "S = \\left( \\begin{array}{ccc}\n",
      "+1 & -1 & -1 & 0 & 0 & 0\\\\\n",
      "0 & 0 & 0 & +1 & -1 & 0\\\\\n",
      "0 & 0 & 0 & 0 & +1 & -1 \\end{array} \\right)\n",
      "$$\n",
      "\n",
      "We can use ``numpy`` ``array`` to encode this matrix in python, for instance:"
     ]
    },
    {
     "cell_type": "code",
     "collapsed": false,
     "input": [
      "import numpy as np\n",
      "stoichiometry_matrix = np.array([[1, -1, -1, 0, 0, 0],\n",
      "                                  [0, 0, 0, 1, -1, 0],\n",
      "                                  [0, 0, 0, 0, 1, -1]])\n",
      "print stoichiometry_matrix"
     ],
     "language": "python",
     "metadata": {},
     "outputs": [
      {
       "output_type": "stream",
       "stream": "stdout",
       "text": [
        "[[ 1 -1 -1  0  0  0]\n",
        " [ 0  0  0  1 -1  0]\n",
        " [ 0  0  0  0  1 -1]]\n"
       ]
      }
     ],
     "prompt_number": 3
    },
    {
     "cell_type": "markdown",
     "metadata": {},
     "source": [
      "In addition to the stoichiometry matrix, which only gives the net production of species in each reaction, the propensities need to be defined for each reactions. Importantly, **stochatic** propensities (as opposed to deterministic rates) must be provided."
     ]
    },
    {
     "cell_type": "markdown",
     "metadata": {},
     "source": [
      "Using this notation, the propensities of the `p53` model are:\n",
      "    \n",
      "$$\n",
      "\\begin{align*}\n",
      "a_0 &= c_0 \\\\\n",
      "a_1 &= c_1 y_0\\\\\n",
      "a_2 &= \\frac{c_2 y_2 y_0}{(y_0+c_6)}\\\\\n",
      "a_3 &= c_3 y_0\\\\\n",
      "a_4 &= c_4 y_1\\\\\n",
      "a_5 &= c_5 y_2\\\\\n",
      "\\end{align*}\n",
      "$$\n",
      "\n",
      ",where: \n",
      "\n",
      "* $c_0$ is the *p53* production rate,\n",
      "* $c_1$ is the *Mdm2*-independent *p53* degradation rate,\n",
      "* $c_2$ is the saturation *p53* degradation rate\n",
      "* $c_3$ is the *p53*-dependent *Mdm2* production rate,\n",
      "* $c_4$ is the *Mdm2* maturation rate,\n",
      "* $c_5$ is the *Mdm2* degradation rate.     \n",
      "* and $c_6$ is the *53* threshold for degradation by *Mdm2*.\n"
     ]
    },
    {
     "cell_type": "markdown",
     "metadata": {},
     "source": [
      "In Python, we need to explicitly note the constant parameters of the model using `sympy` package:"
     ]
    },
    {
     "cell_type": "code",
     "collapsed": false,
     "input": [
      "parameters = sympy.symbols(['c_0', 'c_1', 'c_2', 'c_3', 'c_4', 'c_5', 'c_6'])\n",
      "print parameters"
     ],
     "language": "python",
     "metadata": {},
     "outputs": [
      {
       "output_type": "stream",
       "stream": "stdout",
       "text": [
        "[c_0, c_1, c_2, c_3, c_4, c_5, c_6]\n"
       ]
      }
     ],
     "prompt_number": 4
    },
    {
     "cell_type": "markdown",
     "metadata": {},
     "source": [
      "We can again describe these structures in Python. \n",
      "To do this, we drop the left-hand-side of equations ($a_0$, ..., $a_5$) and create a python list (or, alternatively, a ``sympy.Matrix`` of the right-hand-sides)."
     ]
    },
    {
     "cell_type": "code",
     "collapsed": false,
     "input": [
      "propensities=['c_0',\n",
      "              'c_1*y_0',\n",
      "              'c_2*y_2*y_0/(y_0+c_6)',\n",
      "              'c_3*y_0',\n",
      "              'c_4*y_1',\n",
      "              'c_5*y_2']\n",
      "print propensities"
     ],
     "language": "python",
     "metadata": {},
     "outputs": [
      {
       "output_type": "stream",
       "stream": "stdout",
       "text": [
        "['c_0', 'c_1*y_0', 'c_2*y_2*y_0/(y_0+c_6)', 'c_3*y_0', 'c_4*y_1', 'c_5*y_2']\n"
       ]
      }
     ],
     "prompt_number": 5
    },
    {
     "cell_type": "markdown",
     "metadata": {},
     "source": [
      "We now have everything ready to be able to create a MEANS model object."
     ]
    },
    {
     "cell_type": "markdown",
     "metadata": {},
     "source": [
      "First let's import the `MEANS` package"
     ]
    },
    {
     "cell_type": "code",
     "collapsed": false,
     "input": [
      "import means"
     ],
     "language": "python",
     "metadata": {},
     "outputs": [],
     "prompt_number": 6
    },
    {
     "cell_type": "markdown",
     "metadata": {},
     "source": [
      "The ``means.Model`` constructor takes the list of species, the list of parameters, the propensities and the stoichiometry matrix in that order."
     ]
    },
    {
     "cell_type": "code",
     "collapsed": false,
     "input": [
      "my_model = means.Model(species, parameters, propensities, stoichiometry_matrix)"
     ],
     "language": "python",
     "metadata": {},
     "outputs": [],
     "prompt_number": 7
    },
    {
     "cell_type": "markdown",
     "metadata": {},
     "source": [
      "The model created should be the same as described earlier:"
     ]
    },
    {
     "cell_type": "code",
     "collapsed": false,
     "input": [
      "my_model"
     ],
     "language": "python",
     "metadata": {},
     "outputs": [
      {
       "latex": [
        "\\begin{align*}\n",
        "\\text{Species} &= \\begin{bmatrix}y_{0}, & y_{1}, & y_{2}\\end{bmatrix} \\\\\n",
        "\\text{Parameters} &= \\begin{bmatrix}c_{0}, & c_{1}, & c_{2}, & c_{3}, & c_{4}, & c_{5}, & c_{6}\\end{bmatrix} \\\\\n",
        "\\text{Stoichiometry matrix} &= \\left[\\begin{matrix}1 & -1 & -1 & 0 & 0 & 0\\\\0 & 0 & 0 & 1 & -1 & 0\\\\0 & 0 & 0 & 0 & 1 & -1\\end{matrix}\\right] \\\\\n",
        "\\text{Propensities} &= \\left[\\begin{matrix}c_{0}\\\\c_{1} y_{0}\\\\\\frac{c_{2} y_{0} y_{2}}{c_{6} + y_{0}}\\\\c_{3} y_{0}\\\\c_{4} y_{1}\\\\c_{5} y_{2}\\end{matrix}\\right] \\\\\n",
        "\\end{align*}"
       ],
       "metadata": {},
       "output_type": "pyout",
       "prompt_number": 8,
       "text": [
        "<class 'means.core.model.Model'>\n",
        "Species: [y_0, y_1, y_2]\n",
        "Parameters: [c_0, c_1, c_2, c_3, c_4, c_5, c_6]\n",
        "\n",
        "Stoichiometry matrix:\n",
        "Matrix([\n",
        "[1, -1, -1, 0,  0,  0],\n",
        "[0,  0,  0, 1, -1,  0],\n",
        "[0,  0,  0, 0,  1, -1]])\n",
        "\n",
        "Propensities:\n",
        "Matrix([\n",
        "[                    c_0],\n",
        "[                c_1*y_0],\n",
        "[c_2*y_0*y_2/(c_6 + y_0)],\n",
        "[                c_3*y_0],\n",
        "[                c_4*y_1],\n",
        "[                c_5*y_2]])"
       ]
      }
     ],
     "prompt_number": 8
    },
    {
     "cell_type": "markdown",
     "metadata": {},
     "source": [
      "In addition to the $\\LaTeX$ rendering, pythonic representation of model can be displayed using ``print``."
     ]
    },
    {
     "cell_type": "code",
     "collapsed": false,
     "input": [
      "print my_model"
     ],
     "language": "python",
     "metadata": {},
     "outputs": [
      {
       "output_type": "stream",
       "stream": "stdout",
       "text": [
        "<class 'means.core.model.Model'>\n",
        "Species: [y_0, y_1, y_2]\n",
        "Parameters: [c_0, c_1, c_2, c_3, c_4, c_5, c_6]\n",
        "\n",
        "Stoichiometry matrix:\n",
        "Matrix([\n",
        "[1, -1, -1, 0,  0,  0],\n",
        "[0,  0,  0, 1, -1,  0],\n",
        "[0,  0,  0, 0,  1, -1]])\n",
        "\n",
        "Propensities:\n",
        "Matrix([\n",
        "[                    c_0],\n",
        "[                c_1*y_0],\n",
        "[c_2*y_0*y_2/(c_6 + y_0)],\n",
        "[                c_3*y_0],\n",
        "[                c_4*y_1],\n",
        "[                c_5*y_2]])\n"
       ]
      }
     ],
     "prompt_number": 9
    },
    {
     "cell_type": "markdown",
     "metadata": {},
     "source": [
      "The attributes for each of the elements in the model can be accessed directly as well:"
     ]
    },
    {
     "cell_type": "code",
     "collapsed": false,
     "input": [
      "print my_model.species\n",
      "print my_model.parameters\n",
      "print my_model.stoichiometry_matrix\n",
      "print my_model.propensities"
     ],
     "language": "python",
     "metadata": {},
     "outputs": [
      {
       "output_type": "stream",
       "stream": "stdout",
       "text": [
        "[y_0, y_1, y_2]\n",
        "[c_0, c_1, c_2, c_3, c_4, c_5, c_6]\n",
        "Matrix([[1, -1, -1, 0, 0, 0], [0, 0, 0, 1, -1, 0], [0, 0, 0, 0, 1, -1]])\n",
        "Matrix([[c_0], [c_1*y_0], [c_2*y_0*y_2/(c_6 + y_0)], [c_3*y_0], [c_4*y_1], [c_5*y_2]])\n"
       ]
      }
     ],
     "prompt_number": 10
    },
    {
     "cell_type": "heading",
     "level": 2,
     "metadata": {},
     "source": [
      "Example Models in Means"
     ]
    },
    {
     "cell_type": "markdown",
     "metadata": {},
     "source": [
      "`MEANS` already package provides a few sample models:\n",
      "\n",
      "* `MODEL_DIMERISATION`, \n",
      "* `MODEL_MICHAELIS_MENTEN`, \n",
      "* `MODEL_P53`\n",
      "* `MODEL_HES1`,\n",
      "* `MODEL_LOTKA_VOLTERRA`. \n",
      "\n",
      "These models can be accesseed from `examples` submodule. Let's use `MODEL_LOTKA_VOLTERRA` as an example."
     ]
    },
    {
     "cell_type": "code",
     "collapsed": false,
     "input": [
      "from means.examples.sample_models import MODEL_LOTKA_VOLTERRA\n",
      "print MODEL_LOTKA_VOLTERRA"
     ],
     "language": "python",
     "metadata": {},
     "outputs": [
      {
       "output_type": "stream",
       "stream": "stdout",
       "text": [
        "<class 'means.core.model.Model'>\n",
        "Species: [Pred, Prey]\n",
        "Parameters: [k_1, k_2, k_3]\n",
        "\n",
        "Stoichiometry matrix:\n",
        "Matrix([\n",
        "[0,  1, -1],\n",
        "[1, -1,  0]])\n",
        "\n",
        "Propensities:\n",
        "Matrix([\n",
        "[     Prey*k_1],\n",
        "[Pred*Prey*k_2],\n",
        "[     Pred*k_3]])\n"
       ]
      }
     ],
     "prompt_number": 11
    },
    {
     "cell_type": "markdown",
     "metadata": {},
     "source": [
      "Please note that the names of the species may not necessarily be mathematical symbols: $y_0$, $y_1$.\n",
      "\n",
      "In the Lotka-Volterra model above, for instance,  actual names of the species (Predator and Prey) can be used."
     ]
    },
    {
     "cell_type": "heading",
     "level": 3,
     "metadata": {},
     "source": [
      "Reading Models From Files"
     ]
    },
    {
     "cell_type": "markdown",
     "metadata": {},
     "source": [
      "MEANS models can be saved to file and read from it with the help of ``means.io`` package. \n",
      "This package provides methods ``to_file`` and ``from_file`` that can read arbitrary python objects from files,\n",
      "as long as they were serialised in YAML format.\n",
      "Similarly, `Model` class itself has a ``to_file()`` and ``from_file()`` methods designed to help you with these tasks.\n",
      "\n",
      "We spent a great care of making `Model` objects cleanly serialisable with YAML into human-readable fashion.\n",
      "\n",
      "Please find a demonstration below:"
     ]
    },
    {
     "cell_type": "markdown",
     "metadata": {},
     "source": [
      "Let's save `my_model` to file:"
     ]
    },
    {
     "cell_type": "code",
     "collapsed": false,
     "input": [
      "my_model.to_file('my_model.model')"
     ],
     "language": "python",
     "metadata": {},
     "outputs": [],
     "prompt_number": 12
    },
    {
     "cell_type": "markdown",
     "metadata": {},
     "source": [
      "Print the contents of the file to show how human-readable they are:"
     ]
    },
    {
     "cell_type": "code",
     "collapsed": false,
     "input": [
      "with open('my_model.model') as f:\n",
      "    print f.read()"
     ],
     "language": "python",
     "metadata": {},
     "outputs": [
      {
       "output_type": "stream",
       "stream": "stdout",
       "text": [
        "!model\n",
        "species: [y_0, y_1, y_2]\n",
        "parameters: [c_0, c_1, c_2, c_3, c_4, c_5, c_6]\n",
        "stoichiometry_matrix:\n",
        "- [1, -1, -1, 0, 0, 0]\n",
        "- [0, 0, 0, 1, -1, 0]\n",
        "- [0, 0, 0, 0, 1, -1]\n",
        "propensities: [c_0, c_1*y_0, c_2*y_0*y_2/(c_6 + y_0), c_3*y_0, c_4*y_1, c_5*y_2]\n",
        "\n"
       ]
      }
     ],
     "prompt_number": 13
    },
    {
     "cell_type": "markdown",
     "metadata": {},
     "source": [
      "Now let's read the model object back from this file:"
     ]
    },
    {
     "cell_type": "code",
     "collapsed": false,
     "input": [
      "my_model_new = means.Model.from_file('my_model.model')\n",
      "my_model_new"
     ],
     "language": "python",
     "metadata": {},
     "outputs": [
      {
       "latex": [
        "\\begin{align*}\n",
        "\\text{Species} &= \\begin{bmatrix}y_{0}, & y_{1}, & y_{2}\\end{bmatrix} \\\\\n",
        "\\text{Parameters} &= \\begin{bmatrix}c_{0}, & c_{1}, & c_{2}, & c_{3}, & c_{4}, & c_{5}, & c_{6}\\end{bmatrix} \\\\\n",
        "\\text{Stoichiometry matrix} &= \\left[\\begin{matrix}1 & -1 & -1 & 0 & 0 & 0\\\\0 & 0 & 0 & 1 & -1 & 0\\\\0 & 0 & 0 & 0 & 1 & -1\\end{matrix}\\right] \\\\\n",
        "\\text{Propensities} &= \\left[\\begin{matrix}c_{0}\\\\c_{1} y_{0}\\\\\\frac{c_{2} y_{0} y_{2}}{c_{6} + y_{0}}\\\\c_{3} y_{0}\\\\c_{4} y_{1}\\\\c_{5} y_{2}\\end{matrix}\\right] \\\\\n",
        "\\end{align*}"
       ],
       "metadata": {},
       "output_type": "pyout",
       "prompt_number": 14,
       "text": [
        "<class 'means.core.model.Model'>\n",
        "Species: [y_0, y_1, y_2]\n",
        "Parameters: [c_0, c_1, c_2, c_3, c_4, c_5, c_6]\n",
        "\n",
        "Stoichiometry matrix:\n",
        "Matrix([\n",
        "[1, -1, -1, 0,  0,  0],\n",
        "[0,  0,  0, 1, -1,  0],\n",
        "[0,  0,  0, 0,  1, -1]])\n",
        "\n",
        "Propensities:\n",
        "Matrix([\n",
        "[                    c_0],\n",
        "[                c_1*y_0],\n",
        "[c_2*y_0*y_2/(c_6 + y_0)],\n",
        "[                c_3*y_0],\n",
        "[                c_4*y_1],\n",
        "[                c_5*y_2]])"
       ]
      }
     ],
     "prompt_number": 14
    },
    {
     "cell_type": "markdown",
     "metadata": {},
     "source": [
      "One can verify it is indeed the same model we had as before.\n",
      "\n",
      "Let's delete this file we used to illustrate this."
     ]
    },
    {
     "cell_type": "code",
     "collapsed": false,
     "input": [
      "import os\n",
      "os.unlink('my_model.model')"
     ],
     "language": "python",
     "metadata": {},
     "outputs": [],
     "prompt_number": 15
    },
    {
     "cell_type": "heading",
     "level": 4,
     "metadata": {},
     "source": [
      "SBML Support"
     ]
    },
    {
     "cell_type": "markdown",
     "metadata": {},
     "source": [
      "More complicated biological models can be parsed from SBML files. \n",
      "\n",
      "[Biomodels repository](http://www.ebi.ac.uk/biomodels-main/) hosts a good set of such models, let's download one of them to our working directory:"
     ]
    },
    {
     "cell_type": "code",
     "collapsed": false,
     "input": [
      "!wget --quiet -N http://www.ebi.ac.uk/biomodels/models-main/publ/BIOMD0000000010/BIOMD0000000010.xml.origin"
     ],
     "language": "python",
     "metadata": {},
     "outputs": [],
     "prompt_number": 16
    },
    {
     "cell_type": "markdown",
     "metadata": {},
     "source": [
      "This model can be parsed into `MEANS` Model object using `means.io.read_sbml` function. W\n",
      "\n",
      "hen parsing the SBML format, compartments of species are neglected, as the species names are assumed to be compartment-specific. \n",
      "\n",
      "The values for the constants and initial amounts of all species are also retrieved for making it easier to simulate the trajectories later."
     ]
    },
    {
     "cell_type": "code",
     "collapsed": false,
     "input": [
      "# Requires: libsbml\n",
      "autoreg_model, autoreg_parameter_values, autoreg_initial_conditions = means.io.read_sbml('BIOMD0000000010.xml.origin')"
     ],
     "language": "python",
     "metadata": {},
     "outputs": [],
     "prompt_number": 17
    },
    {
     "cell_type": "markdown",
     "metadata": {},
     "source": [
      "The resulting model is shown below"
     ]
    },
    {
     "cell_type": "code",
     "collapsed": false,
     "input": [
      "# Requires: libsbml\n",
      "autoreg_model"
     ],
     "language": "python",
     "metadata": {},
     "outputs": [
      {
       "latex": [
        "\\begin{align*}\n",
        "\\text{Species} &= \\begin{bmatrix}MKKK, & MKKK_{P}, & MKK, & MKK_{P}, & MKK_{PP}, & MAPK, & MAPK_{P}, & MAPK_{PP}\\end{bmatrix} \\\\\n",
        "\\text{Parameters} &= \\begin{bmatrix}uVol, & K_{1}, & KK_{10}, & KK_{2}, & KK_{3}, & KK_{4}, & KK_{5}, & KK_{6}, & KK_{7}, & KK_{8}, & KK_{9}, & Ki, & V_{1}, & V_{10}, & V_{2}, & V_{5}, & V_{6}, & V_{9}, & k_{3}, & k_{4}, & k_{7}, & k_{8}, & n\\end{bmatrix} \\\\\n",
        "\\text{Stoichiometry matrix} &= \\left[\\begin{matrix}-1 & 1 & 0 & 0 & 0 & 0 & 0 & 0 & 0 & 0\\\\1 & -1 & 0 & 0 & 0 & 0 & 0 & 0 & 0 & 0\\\\0 & 0 & -1 & 0 & 0 & 1 & 0 & 0 & 0 & 0\\\\0 & 0 & 1 & -1 & 1 & -1 & 0 & 0 & 0 & 0\\\\0 & 0 & 0 & 1 & -1 & 0 & 0 & 0 & 0 & 0\\\\0 & 0 & 0 & 0 & 0 & 0 & -1 & 0 & 0 & 1\\\\0 & 0 & 0 & 0 & 0 & 0 & 1 & -1 & 1 & -1\\\\0 & 0 & 0 & 0 & 0 & 0 & 0 & 1 & -1 & 0\\end{matrix}\\right] \\\\\n",
        "\\text{Propensities} &= \\left[\\begin{matrix}\\frac{MKKK V_{1}}{\\left(K_{1} + MKKK\\right) \\left(\\left(\\frac{MAPK_{PP}}{Ki}\\right)^{n} + 1\\right)}\\\\\\frac{MKKK_{P} V_{2}}{KK_{2} + MKKK_{P}}\\\\\\frac{MKK MKKK_{P} k_{3}}{KK_{3} + MKK}\\\\\\frac{MKKK_{P} MKK_{P} k_{4}}{KK_{4} + MKK_{P}}\\\\\\frac{MKK_{PP} V_{5}}{KK_{5} + MKK_{PP}}\\\\\\frac{MKK_{P} V_{6}}{KK_{6} + MKK_{P}}\\\\\\frac{MAPK MKK_{PP} k_{7}}{KK_{7} + MAPK}\\\\\\frac{MAPK_{P} MKK_{PP} k_{8}}{KK_{8} + MAPK_{P}}\\\\\\frac{MAPK_{PP} V_{9}}{KK_{9} + MAPK_{PP}}\\\\\\frac{MAPK_{P} V_{10}}{KK_{10} + MAPK_{P}}\\end{matrix}\\right] \\\\\n",
        "\\end{align*}"
       ],
       "metadata": {},
       "output_type": "pyout",
       "prompt_number": 18,
       "text": [
        "<class 'means.core.model.Model'>\n",
        "Species: [MKKK, MKKK_P, MKK, MKK_P, MKK_PP, MAPK, MAPK_P, MAPK_PP]\n",
        "Parameters: [uVol, K1, KK10, KK2, KK3, KK4, KK5, KK6, KK7, KK8, KK9, Ki, V1, V10, V2, V5, V6, V9, k3, k4, k7, k8, n]\n",
        "\n",
        "Stoichiometry matrix:\n",
        "Matrix([\n",
        "[-1,  1,  0,  0,  0,  0,  0,  0,  0,  0],\n",
        "[ 1, -1,  0,  0,  0,  0,  0,  0,  0,  0],\n",
        "[ 0,  0, -1,  0,  0,  1,  0,  0,  0,  0],\n",
        "[ 0,  0,  1, -1,  1, -1,  0,  0,  0,  0],\n",
        "[ 0,  0,  0,  1, -1,  0,  0,  0,  0,  0],\n",
        "[ 0,  0,  0,  0,  0,  0, -1,  0,  0,  1],\n",
        "[ 0,  0,  0,  0,  0,  0,  1, -1,  1, -1],\n",
        "[ 0,  0,  0,  0,  0,  0,  0,  1, -1,  0]])\n",
        "\n",
        "Propensities:\n",
        "Matrix([\n",
        "[MKKK*V1/((K1 + MKKK)*((MAPK_PP/Ki)**n + 1))],\n",
        "[                   MKKK_P*V2/(KK2 + MKKK_P)],\n",
        "[                  MKK*MKKK_P*k3/(KK3 + MKK)],\n",
        "[              MKKK_P*MKK_P*k4/(KK4 + MKK_P)],\n",
        "[                   MKK_PP*V5/(KK5 + MKK_PP)],\n",
        "[                     MKK_P*V6/(KK6 + MKK_P)],\n",
        "[                MAPK*MKK_PP*k7/(KK7 + MAPK)],\n",
        "[            MAPK_P*MKK_PP*k8/(KK8 + MAPK_P)],\n",
        "[                 MAPK_PP*V9/(KK9 + MAPK_PP)],\n",
        "[                 MAPK_P*V10/(KK10 + MAPK_P)]])"
       ]
      }
     ],
     "prompt_number": 18
    },
    {
     "cell_type": "markdown",
     "metadata": {},
     "source": [
      "Along with the initial set of parameters parsed from the same SBML file, along with a set of initial conditions:"
     ]
    },
    {
     "cell_type": "code",
     "collapsed": false,
     "input": [
      "# Requires: libsbml\n",
      "print autoreg_parameter_values\n",
      "print autoreg_initial_conditions "
     ],
     "language": "python",
     "metadata": {},
     "outputs": [
      {
       "output_type": "stream",
       "stream": "stdout",
       "text": [
        "[1.0, 10.0, 15.0, 8.0, 15.0, 15.0, 15.0, 15.0, 15.0, 15.0, 15.0, 9.0, 2.5, 0.5, 0.25, 0.75, 0.75, 0.5, 0.025, 0.025, 0.025, 0.025, 1.0]\n",
        "[0.0, 0.0, 0.0, 0.0, 0.0, 0.0, 0.0, 0.0]\n"
       ]
      }
     ],
     "prompt_number": 19
    },
    {
     "cell_type": "markdown",
     "metadata": {},
     "source": [
      "Let's end this tutorial here.\n",
      "\n",
      "Feel free to move directly to the next tutorial where we explain how to use the approximation methods implemented in this package."
     ]
    },
    {
     "cell_type": "code",
     "collapsed": false,
     "input": [
      "# Cleanup\n",
      "import os\n",
      "os.unlink('BIOMD0000000010.xml.origin')"
     ],
     "language": "python",
     "metadata": {},
     "outputs": [],
     "prompt_number": 20
    }
   ],
   "metadata": {}
  }
 ]
}
{
 "metadata": {
  "name": ""
 },
 "nbformat": 3,
 "nbformat_minor": 0,
 "worksheets": [
  {
   "cells": [
    {
     "cell_type": "heading",
     "level": 2,
     "metadata": {},
     "source": [
      "4. Linear noise approximation (LNA)"
     ]
    },
    {
     "cell_type": "markdown",
     "metadata": {},
     "source": [
      "LNA is an alternative ODE generation method to MEA. It caculates the deterministic macroscopic rate incorporated with the fluctuations around the deterministic state [Ref: Bayesian inference of biochemical kinetic parameters using the linear noise approximation]."
     ]
    },
    {
     "cell_type": "markdown",
     "metadata": {},
     "source": [
      "Different from MEA, LNA uses model as the only input to generate ODEs, because  it evaluates the deterministic rate and noise based on mean, variance and covariance, i.e. the number of species is the only factor limiting the number of ODEs generated."
     ]
    },
    {
     "cell_type": "code",
     "collapsed": false,
     "input": [
      "%pylab inline\n",
      "import means\n",
      "MODEL_P53 = means.Model(constants=['c_0', 'c_1', 'c_2', 'c_3', \n",
      "                                   'c_4', 'c_5', 'c_6'],\n",
      "                  species=['y_0', 'y_1', 'y_2'],\n",
      "                  stoichiometry_matrix=[[1, -1, -1, 0, 0, 0],\n",
      "                                        [0, 0, 0, 1, -1, 0],\n",
      "                                        [0, 0, 0, 0, 1, -1]],\n",
      "                  propensities=['c_0',\n",
      "                                'c_1*y_0',\n",
      "                                'c_2*y_2*y_0/(y_0+c_6)',\n",
      "                                'c_3*y_0',\n",
      "                                'c_4*y_1',\n",
      "                                'c_5*y_2'])\n",
      "problems_LNA = means.lna_approximation(MODEL_P53)\n",
      "problems_LNA"
     ],
     "language": "python",
     "metadata": {},
     "outputs": [
      {
       "output_type": "stream",
       "stream": "stdout",
       "text": [
        "Populating the interactive namespace from numpy and matplotlib\n"
       ]
      },
      {
       "latex": [
        "<h1>ODEProblem</h1>\n",
        "<p>Method: <code>'LNA'</code></p>\n",
        "<p>Constants: <code>[c_0, c_1, c_2, c_3, c_4, c_5, c_6]</code></p>\n",
        "<p>Terms:</p>\n",
        "<ul>\n",
        "<li><code>Moment(array([1, 0, 0]), symbol=y_0)</code></li>\n",
        "<li><code>Moment(array([0, 1, 0]), symbol=y_1)</code></li>\n",
        "<li><code>Moment(array([0, 0, 1]), symbol=y_2)</code></li>\n",
        "<li><code>VarianceTerm(V_00, (0, 0))</code></li>\n",
        "<li><code>VarianceTerm(V_01, (0, 1))</code></li>\n",
        "<li><code>VarianceTerm(V_02, (0, 2))</code></li>\n",
        "<li><code>VarianceTerm(V_10, (1, 0))</code></li>\n",
        "<li><code>VarianceTerm(V_11, (1, 1))</code></li>\n",
        "<li><code>VarianceTerm(V_12, (1, 2))</code></li>\n",
        "<li><code>VarianceTerm(V_20, (2, 0))</code></li>\n",
        "<li><code>VarianceTerm(V_21, (2, 1))</code></li>\n",
        "<li><code>VarianceTerm(V_22, (2, 2))</code></li>\n",
        "</ul>\n",
        "<hr />\n",
        "\\begin{align*}\n",
        "\\dot{y_{0}} &= c_{0} - c_{1} y_{0} - \\frac{c_{2} y_{0} y_{2}}{c_{6} + y_{0}} \\\\\n",
        "\\dot{y_{1}} &= c_{3} y_{0} - c_{4} y_{1} \\\\\n",
        "\\dot{y_{2}} &= c_{4} y_{1} - c_{5} y_{2} \\\\\n",
        "\\dot{V_{00}} &= 2 V_{00} \\left(- c_{1} + \\frac{c_{2} y_{0} y_{2}}{\\left(c_{6} + y_{0}\\right)^{2}} - \\frac{c_{2} y_{2}}{c_{6} + y_{0}}\\right) - \\frac{V_{02} c_{2} y_{0}}{c_{6} + y_{0}} - \\frac{V_{20} c_{2} y_{0}}{c_{6} + y_{0}} + c_{0}^{1.0} + \\left(c_{1} y_{0}\\right)^{1.0} + \\left(\\frac{c_{2} y_{0} y_{2}}{c_{6} + y_{0}}\\right)^{1.0} \\\\\n",
        "\\dot{V_{01}} &= V_{00} c_{3} - V_{01} c_{4} + V_{01} \\left(- c_{1} + \\frac{c_{2} y_{0} y_{2}}{\\left(c_{6} + y_{0}\\right)^{2}} - \\frac{c_{2} y_{2}}{c_{6} + y_{0}}\\right) - \\frac{V_{21} c_{2} y_{0}}{c_{6} + y_{0}} \\\\\n",
        "\\dot{V_{02}} &= V_{01} c_{4} - V_{02} c_{5} + V_{02} \\left(- c_{1} + \\frac{c_{2} y_{0} y_{2}}{\\left(c_{6} + y_{0}\\right)^{2}} - \\frac{c_{2} y_{2}}{c_{6} + y_{0}}\\right) - \\frac{V_{22} c_{2} y_{0}}{c_{6} + y_{0}} \\\\\n",
        "\\dot{V_{10}} &= V_{00} c_{3} - V_{10} c_{4} + V_{10} \\left(- c_{1} + \\frac{c_{2} y_{0} y_{2}}{\\left(c_{6} + y_{0}\\right)^{2}} - \\frac{c_{2} y_{2}}{c_{6} + y_{0}}\\right) - \\frac{V_{12} c_{2} y_{0}}{c_{6} + y_{0}} \\\\\n",
        "\\dot{V_{11}} &= V_{01} c_{3} + V_{10} c_{3} - 2 V_{11} c_{4} + \\left(c_{3} y_{0}\\right)^{1.0} + \\left(c_{4} y_{1}\\right)^{1.0} \\\\\n",
        "\\dot{V_{12}} &= V_{02} c_{3} + V_{11} c_{4} - V_{12} c_{4} - V_{12} c_{5} - \\left(c_{4} y_{1}\\right)^{1.0} \\\\\n",
        "\\dot{V_{20}} &= V_{10} c_{4} - V_{20} c_{5} + V_{20} \\left(- c_{1} + \\frac{c_{2} y_{0} y_{2}}{\\left(c_{6} + y_{0}\\right)^{2}} - \\frac{c_{2} y_{2}}{c_{6} + y_{0}}\\right) - \\frac{V_{22} c_{2} y_{0}}{c_{6} + y_{0}} \\\\\n",
        "\\dot{V_{21}} &= V_{11} c_{4} + V_{20} c_{3} - V_{21} c_{4} - V_{21} c_{5} - \\left(c_{4} y_{1}\\right)^{1.0} \\\\\n",
        "\\dot{V_{22}} &= V_{12} c_{4} + V_{21} c_{4} - 2 V_{22} c_{5} + \\left(c_{4} y_{1}\\right)^{1.0} + \\left(c_{5} y_{2}\\right)^{1.0} \\\\\n",
        "\\end{align*}"
       ],
       "metadata": {},
       "output_type": "pyout",
       "prompt_number": 2,
       "text": [
        "<class 'means.core.problems.ODEProblem'>\n",
        "Method: 'LNA'\n",
        "Constants: [c_0, c_1, c_2, c_3, c_4, c_5, c_6]\n",
        "\n",
        "Equations:\n",
        "\n",
        "Moment(array([1, 0, 0]), symbol=y_0):\n",
        "    c_0 - c_1*y_0 - c_2*y_0*y_2/(c_6 + y_0)\n",
        "\n",
        "Moment(array([0, 1, 0]), symbol=y_1):\n",
        "    c_3*y_0 - c_4*y_1\n",
        "\n",
        "Moment(array([0, 0, 1]), symbol=y_2):\n",
        "    c_4*y_1 - c_5*y_2\n",
        "\n",
        "VarianceTerm(V_00, (0, 0)):\n",
        "    2*V_00*(-c_1 + c_2*y_0*y_2/(c_6 + y_0)**2 - c_2*y_2/(c_6 + y_0)) - V_02*c_2*y_0/(c_6 + y_0) - V_20*c_2*y_0/(c_6 + y_0) + c_0**1.0 + (c_1*y_0)**1.0 + (c_2*y_0*y_2/(c_6 + y_0))**1.0\n",
        "\n",
        "VarianceTerm(V_01, (0, 1)):\n",
        "    V_00*c_3 - V_01*c_4 + V_01*(-c_1 + c_2*y_0*y_2/(c_6 + y_0)**2 - c_2*y_2/(c_6 + y_0)) - V_21*c_2*y_0/(c_6 + y_0)\n",
        "\n",
        "VarianceTerm(V_02, (0, 2)):\n",
        "    V_01*c_4 - V_02*c_5 + V_02*(-c_1 + c_2*y_0*y_2/(c_6 + y_0)**2 - c_2*y_2/(c_6 + y_0)) - V_22*c_2*y_0/(c_6 + y_0)\n",
        "\n",
        "VarianceTerm(V_10, (1, 0)):\n",
        "    V_00*c_3 - V_10*c_4 + V_10*(-c_1 + c_2*y_0*y_2/(c_6 + y_0)**2 - c_2*y_2/(c_6 + y_0)) - V_12*c_2*y_0/(c_6 + y_0)\n",
        "\n",
        "VarianceTerm(V_11, (1, 1)):\n",
        "    V_01*c_3 + V_10*c_3 - 2*V_11*c_4 + (c_3*y_0)**1.0 + (c_4*y_1)**1.0\n",
        "\n",
        "VarianceTerm(V_12, (1, 2)):\n",
        "    V_02*c_3 + V_11*c_4 - V_12*c_4 - V_12*c_5 - (c_4*y_1)**1.0\n",
        "\n",
        "VarianceTerm(V_20, (2, 0)):\n",
        "    V_10*c_4 - V_20*c_5 + V_20*(-c_1 + c_2*y_0*y_2/(c_6 + y_0)**2 - c_2*y_2/(c_6 + y_0)) - V_22*c_2*y_0/(c_6 + y_0)\n",
        "\n",
        "VarianceTerm(V_21, (2, 1)):\n",
        "    V_11*c_4 + V_20*c_3 - V_21*c_4 - V_21*c_5 - (c_4*y_1)**1.0\n",
        "\n",
        "VarianceTerm(V_22, (2, 2)):\n",
        "    V_12*c_4 + V_21*c_4 - 2*V_22*c_5 + (c_4*y_1)**1.0 + (c_5*y_2)**1.0\n"
       ]
      }
     ],
     "prompt_number": 2
    },
    {
     "cell_type": "markdown",
     "metadata": {},
     "source": [
      "The first n ODEs are the deterministic means that are independent of higher order moments, where n is the number of species. This is followed by the covariance matrix, which can be obtained by solving the ODEs. Similar to MEA, ODEs generated here can then be used for simulation or inference. "
     ]
    }
   ],
   "metadata": {}
  }
 ]
}
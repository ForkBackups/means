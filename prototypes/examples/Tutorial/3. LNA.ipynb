{
 "metadata": {
  "name": ""
 },
 "nbformat": 3,
 "nbformat_minor": 0,
 "worksheets": [
  {
   "cells": [
    {
     "cell_type": "code",
     "collapsed": false,
     "input": [
      "%pylab inline"
     ],
     "language": "python",
     "metadata": {},
     "outputs": [
      {
       "output_type": "stream",
       "stream": "stdout",
       "text": [
        "Populating the interactive namespace from numpy and matplotlib\n"
       ]
      }
     ],
     "prompt_number": 1
    },
    {
     "cell_type": "heading",
     "level": 2,
     "metadata": {},
     "source": [
      "4. Linear noise approximation (LNA)"
     ]
    },
    {
     "cell_type": "markdown",
     "metadata": {},
     "source": [
      "LNA [^Ref] is an alternative method to generate a system of ODE. It caculates the deterministic macroscopic rate and linear Fokker-Planck equations for the fluctuations around the steady state.\n",
      "\n",
      "[Ref]: Stochastic Processes in Physics and Chemistry]."
     ]
    },
    {
     "cell_type": "markdown",
     "metadata": {},
     "source": [
      "As opposed to MEA, LNA only needs a model. It evaluates the deterministic rate and noise based on mean, variance and covariance. Therefore, the number of resulting ODEs is a function of the number of species only.\n",
      "Generating a system of ODEs for the already familiar p53 model can be done as following:"
     ]
    },
    {
     "cell_type": "code",
     "collapsed": false,
     "input": [
      "import means\n",
      "MODEL_P53 = means.Model(constants=['c_0', 'c_1', 'c_2', 'c_3', \n",
      "                                   'c_4', 'c_5', 'c_6'],\n",
      "                  species=['y_0', 'y_1', 'y_2'],\n",
      "                  stoichiometry_matrix=[[1, -1, -1, 0, 0, 0],\n",
      "                                        [0, 0, 0, 1, -1, 0],\n",
      "                                        [0, 0, 0, 0, 1, -1]],\n",
      "                  propensities=['c_0',\n",
      "                                'c_1*y_0',\n",
      "                                'c_2*y_2*y_0/(y_0+c_6)',\n",
      "                                'c_3*y_0',\n",
      "                                'c_4*y_1',\n",
      "                                'c_5*y_2'])\n",
      "problems_lna = means.lna_approximation(p53_model)\n",
      "problems_lna"
     ],
     "language": "python",
     "metadata": {},
     "outputs": [
      {
       "latex": [
        "<h1>ODEProblem</h1>\n",
        "<p>Method: <code>'LNA'</code></p>\n",
        "<p>Constants: <code>[c_0, c_1, c_2, c_3, c_4, c_5, c_6]</code></p>\n",
        "<p>Terms:</p>\n",
        "<ul>\n",
        "<li><code>Moment(array([1, 0, 0]), symbol=y_0)</code></li>\n",
        "<li><code>Moment(array([0, 1, 0]), symbol=y_1)</code></li>\n",
        "<li><code>Moment(array([0, 0, 1]), symbol=y_2)</code></li>\n",
        "<li><code>VarianceTerm(V_0_0, (0, 0))</code></li>\n",
        "<li><code>VarianceTerm(V_0_1, (0, 1))</code></li>\n",
        "<li><code>VarianceTerm(V_0_2, (0, 2))</code></li>\n",
        "<li><code>VarianceTerm(V_1_0, (1, 0))</code></li>\n",
        "<li><code>VarianceTerm(V_1_1, (1, 1))</code></li>\n",
        "<li><code>VarianceTerm(V_1_2, (1, 2))</code></li>\n",
        "<li><code>VarianceTerm(V_2_0, (2, 0))</code></li>\n",
        "<li><code>VarianceTerm(V_2_1, (2, 1))</code></li>\n",
        "<li><code>VarianceTerm(V_2_2, (2, 2))</code></li>\n",
        "</ul>\n",
        "<hr />\n",
        "\\begin{align*}\n",
        "\\dot{y_{0}} &= c_{0} - c_{1} y_{0} - \\frac{c_{2} y_{0} y_{2}}{c_{6} + y_{0}} \\\\\n",
        "\\dot{y_{1}} &= c_{3} y_{0} - c_{4} y_{1} \\\\\n",
        "\\dot{y_{2}} &= c_{4} y_{1} - c_{5} y_{2} \\\\\n",
        "\\dot{V_{0 0}} &= 2 V_{0 0} \\left(- c_{1} + \\frac{c_{2} y_{0} y_{2}}{\\left(c_{6} + y_{0}\\right)^{2}} - \\frac{c_{2} y_{2}}{c_{6} + y_{0}}\\right) - \\frac{V_{0 2} c_{2} y_{0}}{c_{6} + y_{0}} - \\frac{V_{2 0} c_{2} y_{0}}{c_{6} + y_{0}} + c_{0}^{1.0} + \\left(c_{1} y_{0}\\right)^{1.0} + \\left(\\frac{c_{2} y_{0} y_{2}}{c_{6} + y_{0}}\\right)^{1.0} \\\\\n",
        "\\dot{V_{0 1}} &= V_{0 0} c_{3} - V_{0 1} c_{4} + V_{0 1} \\left(- c_{1} + \\frac{c_{2} y_{0} y_{2}}{\\left(c_{6} + y_{0}\\right)^{2}} - \\frac{c_{2} y_{2}}{c_{6} + y_{0}}\\right) - \\frac{V_{2 1} c_{2} y_{0}}{c_{6} + y_{0}} \\\\\n",
        "\\dot{V_{0 2}} &= V_{0 1} c_{4} - V_{0 2} c_{5} + V_{0 2} \\left(- c_{1} + \\frac{c_{2} y_{0} y_{2}}{\\left(c_{6} + y_{0}\\right)^{2}} - \\frac{c_{2} y_{2}}{c_{6} + y_{0}}\\right) - \\frac{V_{2 2} c_{2} y_{0}}{c_{6} + y_{0}} \\\\\n",
        "\\dot{V_{1 0}} &= V_{0 0} c_{3} - V_{1 0} c_{4} + V_{1 0} \\left(- c_{1} + \\frac{c_{2} y_{0} y_{2}}{\\left(c_{6} + y_{0}\\right)^{2}} - \\frac{c_{2} y_{2}}{c_{6} + y_{0}}\\right) - \\frac{V_{1 2} c_{2} y_{0}}{c_{6} + y_{0}} \\\\\n",
        "\\dot{V_{1 1}} &= V_{0 1} c_{3} + V_{1 0} c_{3} - 2 V_{1 1} c_{4} + \\left(c_{3} y_{0}\\right)^{1.0} + \\left(c_{4} y_{1}\\right)^{1.0} \\\\\n",
        "\\dot{V_{1 2}} &= V_{0 2} c_{3} + V_{1 1} c_{4} - V_{1 2} c_{4} - V_{1 2} c_{5} - \\left(c_{4} y_{1}\\right)^{1.0} \\\\\n",
        "\\dot{V_{2 0}} &= V_{1 0} c_{4} - V_{2 0} c_{5} + V_{2 0} \\left(- c_{1} + \\frac{c_{2} y_{0} y_{2}}{\\left(c_{6} + y_{0}\\right)^{2}} - \\frac{c_{2} y_{2}}{c_{6} + y_{0}}\\right) - \\frac{V_{2 2} c_{2} y_{0}}{c_{6} + y_{0}} \\\\\n",
        "\\dot{V_{2 1}} &= V_{1 1} c_{4} + V_{2 0} c_{3} - V_{2 1} c_{4} - V_{2 1} c_{5} - \\left(c_{4} y_{1}\\right)^{1.0} \\\\\n",
        "\\dot{V_{2 2}} &= V_{1 2} c_{4} + V_{2 1} c_{4} - 2 V_{2 2} c_{5} + \\left(c_{4} y_{1}\\right)^{1.0} + \\left(c_{5} y_{2}\\right)^{1.0} \\\\\n",
        "\\end{align*}"
       ],
       "metadata": {},
       "output_type": "pyout",
       "prompt_number": 3,
       "text": [
        "<class 'means.core.problems.ODEProblem'>\n",
        "Method: 'LNA'\n",
        "Constants: [c_0, c_1, c_2, c_3, c_4, c_5, c_6]\n",
        "\n",
        "Equations:\n",
        "\n",
        "Moment(array([1, 0, 0]), symbol=y_0):\n",
        "    c_0 - c_1*y_0 - c_2*y_0*y_2/(c_6 + y_0)\n",
        "\n",
        "Moment(array([0, 1, 0]), symbol=y_1):\n",
        "    c_3*y_0 - c_4*y_1\n",
        "\n",
        "Moment(array([0, 0, 1]), symbol=y_2):\n",
        "    c_4*y_1 - c_5*y_2\n",
        "\n",
        "VarianceTerm(V_0_0, (0, 0)):\n",
        "    2*V_0_0*(-c_1 + c_2*y_0*y_2/(c_6 + y_0)**2 - c_2*y_2/(c_6 + y_0)) - V_0_2*c_2*y_0/(c_6 + y_0) - V_2_0*c_2*y_0/(c_6 + y_0) + c_0**1.0 + (c_1*y_0)**1.0 + (c_2*y_0*y_2/(c_6 + y_0))**1.0\n",
        "\n",
        "VarianceTerm(V_0_1, (0, 1)):\n",
        "    V_0_0*c_3 - V_0_1*c_4 + V_0_1*(-c_1 + c_2*y_0*y_2/(c_6 + y_0)**2 - c_2*y_2/(c_6 + y_0)) - V_2_1*c_2*y_0/(c_6 + y_0)\n",
        "\n",
        "VarianceTerm(V_0_2, (0, 2)):\n",
        "    V_0_1*c_4 - V_0_2*c_5 + V_0_2*(-c_1 + c_2*y_0*y_2/(c_6 + y_0)**2 - c_2*y_2/(c_6 + y_0)) - V_2_2*c_2*y_0/(c_6 + y_0)\n",
        "\n",
        "VarianceTerm(V_1_0, (1, 0)):\n",
        "    V_0_0*c_3 - V_1_0*c_4 + V_1_0*(-c_1 + c_2*y_0*y_2/(c_6 + y_0)**2 - c_2*y_2/(c_6 + y_0)) - V_1_2*c_2*y_0/(c_6 + y_0)\n",
        "\n",
        "VarianceTerm(V_1_1, (1, 1)):\n",
        "    V_0_1*c_3 + V_1_0*c_3 - 2*V_1_1*c_4 + (c_3*y_0)**1.0 + (c_4*y_1)**1.0\n",
        "\n",
        "VarianceTerm(V_1_2, (1, 2)):\n",
        "    V_0_2*c_3 + V_1_1*c_4 - V_1_2*c_4 - V_1_2*c_5 - (c_4*y_1)**1.0\n",
        "\n",
        "VarianceTerm(V_2_0, (2, 0)):\n",
        "    V_1_0*c_4 - V_2_0*c_5 + V_2_0*(-c_1 + c_2*y_0*y_2/(c_6 + y_0)**2 - c_2*y_2/(c_6 + y_0)) - V_2_2*c_2*y_0/(c_6 + y_0)\n",
        "\n",
        "VarianceTerm(V_2_1, (2, 1)):\n",
        "    V_1_1*c_4 + V_2_0*c_3 - V_2_1*c_4 - V_2_1*c_5 - (c_4*y_1)**1.0\n",
        "\n",
        "VarianceTerm(V_2_2, (2, 2)):\n",
        "    V_1_2*c_4 + V_2_1*c_4 - 2*V_2_2*c_5 + (c_4*y_1)**1.0 + (c_5*y_2)**1.0\n"
       ]
      }
     ],
     "prompt_number": 3
    },
    {
     "cell_type": "markdown",
     "metadata": {},
     "source": [
      "The first $n$ ODEs, where $n$ is the number of species, are the deterministic means for each species. Note that they are independent from higher order moments. The symbols prefixed by $V$ are the covariances. $V_{ij}$ is the covariance between species $i$ and $j$.\n",
      "Similarly to problems resulting from MEA, ODEs generated by LNA can be further used for simulation and inference."
     ]
    },
    {
     "cell_type": "code",
     "collapsed": false,
     "input": [
      "simulator = means.Simulation(problems_lna)"
     ],
     "language": "python",
     "metadata": {},
     "outputs": [],
     "prompt_number": 5
    },
    {
     "cell_type": "code",
     "collapsed": false,
     "input": [
      "import numpy as np\n",
      "constants = [90, 0.002, 1.7, 1.1, 0.93, 0.96, 0.01]\n",
      "initial_conditions = [70, 30, 60]\n",
      "time = np.arange(0, 100, 0.01)\n",
      "Trajectory = simulator.simulate_system(constants, initial_conditions, time)"
     ],
     "language": "python",
     "metadata": {},
     "outputs": [],
     "prompt_number": 6
    },
    {
     "cell_type": "code",
     "collapsed": false,
     "input": [
      "import matplotlib.pyplot as plt\n",
      "plt.figure()\n",
      "for traj in Trajectory:\n",
      "    if traj.description.order == 1:\n",
      "        traj.plot()\n",
      "plt.legend(loc='lower left', bbox_to_anchor = (1, 0))"
     ],
     "language": "python",
     "metadata": {},
     "outputs": [
      {
       "metadata": {},
       "output_type": "pyout",
       "prompt_number": 7,
       "text": [
        "<matplotlib.legend.Legend at 0x10bbe8390>"
       ]
      },
      {
       "metadata": {},
       "output_type": "display_data",
       "png": "[encoded data removed]",
       "text": [
        "<matplotlib.figure.Figure at 0x10bc10510>"
       ]
      }
     ],
     "prompt_number": 7
    },
    {
     "cell_type": "code",
     "collapsed": false,
     "input": [],
     "language": "python",
     "metadata": {},
     "outputs": []
    }
   ],
   "metadata": {}
  }
 ]
}
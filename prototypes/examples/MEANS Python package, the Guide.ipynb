{
 "metadata": {
  "name": ""
 },
 "nbformat": 3,
 "nbformat_minor": 0,
 "worksheets": [
  {
   "cells": [
    {
     "cell_type": "code",
     "collapsed": false,
     "input": [
      "%pylab inline\n",
      "import means\n",
      "import sympy\n",
      "import numpy as np\n",
      "import matplotlib.pyplot as plt"
     ],
     "language": "python",
     "metadata": {},
     "outputs": [
      {
       "output_type": "stream",
       "stream": "stdout",
       "text": [
        "Populating the interactive namespace from numpy and matplotlib\n"
       ]
      }
     ],
     "prompt_number": 1
    },
    {
     "cell_type": "heading",
     "level": 2,
     "metadata": {},
     "source": [
      "1. Model inputs"
     ]
    },
    {
     "cell_type": "raw",
     "metadata": {},
     "source": [
      "Description of each model must cover several features of a biological system. These features should be included in the order: rate constants, species, reaction propensities, and the stoichiometry matrix, i.e. \n",
      "Model_name = means.Model(constants, species, propensities, stoichiometry_matrix).\n",
      "Some examples of models are given in means/examples/sample_models. The following code depicts the inputs for p53 model. The model containing these inputs is then used for simulation, with given initial conditions of the chemical reactions."
     ]
    },
    {
     "cell_type": "code",
     "collapsed": false,
     "input": [
      "MODEL_P53 = means.Model(constants=['c_0', 'c_1', 'c_2', 'c_3', 'c_4', 'c_5', 'c_6'],\n",
      "                  species=['y_0', 'y_1', 'y_2'],\n",
      "                  stoichiometry_matrix=[[1, -1, -1, 0, 0, 0],\n",
      "                                        [0, 0, 0, 1, -1, 0],\n",
      "                                        [0, 0, 0, 0, 1, -1]],\n",
      "                  propensities=['c_0',\n",
      "                                'c_1*y_0',\n",
      "                                'c_2*y_2*y_0/(y_0+c_6)',\n",
      "                                'c_3*y_0',\n",
      "                                'c_4*y_1',\n",
      "                                'c_5*y_2'])"
     ],
     "language": "python",
     "metadata": {},
     "outputs": [],
     "prompt_number": 2
    },
    {
     "cell_type": "raw",
     "metadata": {},
     "source": [
      "More biological models can be retrieved from SBML, using the model ID, and parsed into the desired format using the parser. When parsing the SBML format, compartments of species are neglected."
     ]
    },
    {
     "cell_type": "code",
     "collapsed": false,
     "input": [
      "#model_autoreg = means.io.read_sbml('autoreg-3-1.xml')"
     ],
     "language": "python",
     "metadata": {},
     "outputs": [],
     "prompt_number": 3
    },
    {
     "cell_type": "heading",
     "level": 2,
     "metadata": {},
     "source": [
      "2.\tMoment expansion approximation (MEA)"
     ]
    },
    {
     "cell_type": "raw",
     "metadata": {},
     "source": [
      "MEA derives the ODEs, using the method explained in Ale et al., (2013). The RHS of the equations are the differentiated terms, and the LHS shows the symbol for each moment in ascending order."
     ]
    },
    {
     "cell_type": "heading",
     "level": 2,
     "metadata": {},
     "source": [
      "3. Closure methods "
     ]
    },
    {
     "cell_type": "raw",
     "metadata": {},
     "source": [
      "MEANS package supports four moment closure methods, which are used to close the moment at the manually set maximal order of moments. The maximal order defines the stop point of ODE generation, and higher order central moments are used for expression of lower order central moments. \n",
      "The default closure method is zero closure, which allows setting the higher order moments to a scalar with an arbitrary value. The following code execute MEA and zero closure method, with highest order of moments equals to 3."
     ]
    },
    {
     "cell_type": "code",
     "collapsed": false,
     "input": [
      "ODEs_zero = means.approximation.MomentExpansionApproximation(MODEL_P53,3).run()"
     ],
     "language": "python",
     "metadata": {},
     "outputs": [],
     "prompt_number": 4
    },
    {
     "cell_type": "raw",
     "metadata": {},
     "source": [
      "Other closure methods assume a certain type of distribution of the species, and the supported distributions include Normal, log-Normal and Gamma. Among these closure methods, Gamma closure is more complex than the others, as there are two multivariate Gamma types.  \n",
      "In order to close the moment expansion with parametric closure, the user needs to specify the method as well as the type of data, in addition to the model and highest order of moments, as shown in the following sample commands."
     ]
    },
    {
     "cell_type": "code",
     "collapsed": false,
     "input": [
      "ODEs_logn = means.approximation.MomentExpansionApproximation(MODEL_P53, 3, closer='log-normal', multivariate=True).run()"
     ],
     "language": "python",
     "metadata": {},
     "outputs": [],
     "prompt_number": 5
    },
    {
     "cell_type": "code",
     "collapsed": false,
     "input": [
      "ODEs_gamma = means.approximation.MomentExpansionApproximation(MODEL_P53, 3, closer='gamma', type=2).run()"
     ],
     "language": "python",
     "metadata": {},
     "outputs": [],
     "prompt_number": 6
    },
    {
     "cell_type": "heading",
     "level": 2,
     "metadata": {},
     "source": [
      "4.\tLinear noise approximation (LNA)"
     ]
    },
    {
     "cell_type": "raw",
     "metadata": {},
     "source": [
      "LNA is an alternative ODE generation method to MEA, with consideration of noise in the system."
     ]
    },
    {
     "cell_type": "code",
     "collapsed": false,
     "input": [
      "ODEs_LNA = means.approximation.LinearNoiseApproximation(MODEL_P53).run()"
     ],
     "language": "python",
     "metadata": {},
     "outputs": [],
     "prompt_number": 7
    },
    {
     "cell_type": "heading",
     "level": 2,
     "metadata": {},
     "source": [
      "5. Simulation"
     ]
    },
    {
     "cell_type": "raw",
     "metadata": {},
     "source": [
      "Simulation takes the ODEs as the input, and simulates the system with defined duration, time step, initial condition for each species, and value for the rate constants. The ODE problems are currently soled by CVODE solver. Nevertheless, a collection of ODE solvers are available at assimulo.solvers.The following commands demonstrate how to obtain the trajectory with given conditions. "
     ]
    },
    {
     "cell_type": "code",
     "collapsed": false,
     "input": [
      "constant_values = [90, 0.002, 1.7, 1.1, 0.93, 0.96, 0.01]\n",
      "initial_conditions = [70, 30, 60]\n",
      "timepoints = np.arange(0, 100, 0.01)\n",
      "Simulator = means.simulation.Simulation(ODEs_logn)\n",
      "Trajectory = Simulator.simulate_system(constant_values, initial_conditions, timepoints)"
     ],
     "language": "python",
     "metadata": {},
     "outputs": [],
     "prompt_number": 8
    },
    {
     "cell_type": "raw",
     "metadata": {},
     "source": [
      "Upon execution of these commands, the system behaviour with time can be plotted using matplotlib library."
     ]
    },
    {
     "cell_type": "code",
     "collapsed": false,
     "input": [
      "plt.figure()\n",
      "for traj in Trajectory:\n",
      "    if traj.description.order == 1:\n",
      "        traj.plot()\n",
      "plt.legend(loc='lower left', bbox_to_anchor = (1, 0))"
     ],
     "language": "python",
     "metadata": {},
     "outputs": [
      {
       "metadata": {},
       "output_type": "pyout",
       "prompt_number": 9,
       "text": [
        "<matplotlib.legend.Legend at 0x112f687d0>"
       ]
      },
      {
       "metadata": {},
       "output_type": "display_data",
       "png": "[encoded data removed]",
       "text": [
        "<matplotlib.figure.Figure at 0x1121e1690>"
       ]
      }
     ],
     "prompt_number": 9
    },
    {
     "cell_type": "code",
     "collapsed": false,
     "input": [],
     "language": "python",
     "metadata": {},
     "outputs": [],
     "prompt_number": 9
    }
   ],
   "metadata": {}
  }
 ]
}
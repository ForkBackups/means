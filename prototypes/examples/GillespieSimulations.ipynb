{
 "metadata": {
  "name": ""
 },
 "nbformat": 3,
 "nbformat_minor": 0,
 "worksheets": [
  {
   "cells": [
    {
     "cell_type": "code",
     "collapsed": false,
     "input": [
      "from means.examples.sample_models import *\n",
      "from means.simulation.ssa import SSASimulator\n",
      "import numpy as np"
     ],
     "language": "python",
     "metadata": {},
     "outputs": [],
     "prompt_number": 1
    },
    {
     "cell_type": "code",
     "collapsed": false,
     "input": [
      "model = MODEL_P53\n",
      "ssa_simulator = SSASimulator(model)"
     ],
     "language": "python",
     "metadata": {},
     "outputs": [],
     "prompt_number": 2
    },
    {
     "cell_type": "code",
     "collapsed": false,
     "input": [
      "rates = [90, 0.002, 1.7, 1.2, 0.93, 0.96, 0.01]\n",
      "initial_conditions = [10, 20, 30]\n",
      "TMAX = 40\n",
      "\n",
      "def get_one_ssa_traj(i):\n",
      "    print i\n",
      "    # here the trick it to set the random seed according to i so that\n",
      "    # we have different results for different processes \n",
      "    ssa_simulator.reset_random_seed(i)\n",
      "    one_run_trajectories = ssa_simulator.simulate_system(rates, initial_conditions, TMAX)\n",
      "    one_run_trajectories = [tr.resample(np.arange(0,40,.1)) for tr in one_run_trajectories]\n",
      "    return one_run_trajectories"
     ],
     "language": "python",
     "metadata": {},
     "outputs": [],
     "prompt_number": 3
    },
    {
     "cell_type": "code",
     "collapsed": false,
     "input": [
      "#import multiprocessing\n",
      "#pool = multiprocessing.Pool(processes=4)\n",
      "#trajectories = pool.map(get_one_ssa_traj, [i for i in range(10)])\n",
      "#pool.close()\n",
      "#pool.join()\n",
      "\n",
      "# we run 10 simulations\n",
      "trajectories = map(get_one_ssa_traj, [i for i in range(10)])\n",
      "# and calculate the means per species\n",
      "mean_trajectories = [sum(trajs)/len(trajs) for trajs in zip(*trajectories)]\n",
      "\n"
     ],
     "language": "python",
     "metadata": {},
     "outputs": [
      {
       "output_type": "stream",
       "stream": "stdout",
       "text": [
        "0\n",
        "1"
       ]
      },
      {
       "output_type": "stream",
       "stream": "stdout",
       "text": [
        "\n",
        "2"
       ]
      },
      {
       "output_type": "stream",
       "stream": "stdout",
       "text": [
        "\n",
        "3"
       ]
      },
      {
       "output_type": "stream",
       "stream": "stdout",
       "text": [
        "\n",
        "4"
       ]
      },
      {
       "output_type": "stream",
       "stream": "stdout",
       "text": [
        "\n",
        "5"
       ]
      },
      {
       "output_type": "stream",
       "stream": "stdout",
       "text": [
        "\n",
        "6"
       ]
      },
      {
       "output_type": "stream",
       "stream": "stdout",
       "text": [
        "\n",
        "7"
       ]
      },
      {
       "output_type": "stream",
       "stream": "stdout",
       "text": [
        "\n",
        "8"
       ]
      },
      {
       "output_type": "stream",
       "stream": "stdout",
       "text": [
        "\n",
        "9"
       ]
      },
      {
       "output_type": "stream",
       "stream": "stdout",
       "text": [
        "\n"
       ]
      }
     ],
     "prompt_number": "*"
    },
    {
     "cell_type": "code",
     "collapsed": false,
     "input": [
      "import pylab as pl\n",
      "pl.figure()\n",
      "\n",
      "for tr in mean_trajectories:\n",
      "    tr.plot(linewidth=2.5)\n",
      "\n",
      "pl.legend()\n",
      "pl.show()"
     ],
     "language": "python",
     "metadata": {},
     "outputs": [],
     "prompt_number": "*"
    },
    {
     "cell_type": "code",
     "collapsed": false,
     "input": [],
     "language": "python",
     "metadata": {},
     "outputs": [],
     "prompt_number": "*"
    }
   ],
   "metadata": {}
  }
 ]
}
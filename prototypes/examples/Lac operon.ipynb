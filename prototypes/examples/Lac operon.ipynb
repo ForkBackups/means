{
 "metadata": {
  "name": ""
 },
 "nbformat": 3,
 "nbformat_minor": 0,
 "worksheets": [
  {
   "cells": [
    {
     "cell_type": "code",
     "collapsed": false,
     "input": [
      "%pylab inline"
     ],
     "language": "python",
     "metadata": {},
     "outputs": [
      {
       "output_type": "stream",
       "stream": "stdout",
       "text": [
        "Populating the interactive namespace from numpy and matplotlib\n"
       ]
      }
     ],
     "prompt_number": 1
    },
    {
     "cell_type": "code",
     "collapsed": false,
     "input": [
      "%%latex\n",
      "\\begin{align*}\n",
      "I_{DNA}            & \\rightarrow I_{DNA} + I_{RNA} \\\\\n",
      "I_{RNA}          & \\rightarrow I_{RNA} + I \\\\\n",
      "I + Lactose  & \\leftrightarrow I\\_Lactose \\\\\n",
      "I + Op        & \\leftrightarrow I\\_Op \\\\ \n",
      "Op + RNAP     & \\leftrightarrow RNAP\\_Op \\\\\n",
      "RNAP\\_Op & \\rightarrow RNAP + Op + RNA \\\\\n",
      "I_{RNA}  & \\rightarrow RNA + Z \\\\\n",
      "Lactose + Z  & \\rightarrow Z \\\\\n",
      "I_{RNA} & \\rightarrow \\\\\n",
      "I & \\rightarrow \\\\\n",
      "I\\_Lactose & \\rightarrow Lactose \\\\\n",
      "RNA & \\rightarrow \\\\\n",
      "Z & \\rightarrow \\\\\n",
      "\\end{align*}"
     ],
     "language": "python",
     "metadata": {},
     "outputs": [
      {
       "latex": [
        "\\begin{align*}\n",
        "I_{DNA}            & \\rightarrow I_{DNA} + I_{RNA} \\\\\n",
        "I_{RNA}          & \\rightarrow I_{RNA} + I \\\\\n",
        "I + Lactose  & \\leftrightarrow I\\_Lactose \\\\\n",
        "I + Op        & \\leftrightarrow I\\_Op \\\\ \n",
        "Op + RNAP     & \\leftrightarrow RNAP\\_Op \\\\\n",
        "RNAP\\_Op & \\rightarrow RNAP + Op + RNA \\\\\n",
        "I_{RNA}  & \\rightarrow RNA + Z \\\\\n",
        "Lactose + Z  & \\rightarrow Z \\\\\n",
        "I_{RNA} & \\rightarrow \\\\\n",
        "I & \\rightarrow \\\\\n",
        "I\\_Lactose & \\rightarrow Lactose \\\\\n",
        "RNA & \\rightarrow \\\\\n",
        "Z & \\rightarrow \\\\\n",
        "\\end{align*}"
       ],
       "metadata": {},
       "output_type": "display_data",
       "text": [
        "<IPython.core.display.Latex at 0x110c20210>"
       ]
      }
     ],
     "prompt_number": 2
    },
    {
     "cell_type": "code",
     "collapsed": false,
     "input": [
      "import means\n",
      "import sympy\n",
      "import numpy as np\n",
      "import matplotlib.pyplot as plt"
     ],
     "language": "python",
     "metadata": {},
     "outputs": [],
     "prompt_number": 3
    },
    {
     "cell_type": "code",
     "collapsed": false,
     "input": [
      "species = ['IDNA', 'IRNA', 'Y', 'Op', 'RNAP', 'RNA', 'Z', 'Lactose', 'ILactose', 'IOp', 'RNAPOp'] "
     ],
     "language": "python",
     "metadata": {},
     "outputs": [],
     "prompt_number": 4
    },
    {
     "cell_type": "code",
     "collapsed": false,
     "input": [
      "constants = ['c_1','c_2','c_3','c_4','c_5','c_6','c_7','c_8','c_9','c_10','c_11','c_12','c_13','c_14','c_15']"
     ],
     "language": "python",
     "metadata": {},
     "outputs": [],
     "prompt_number": 5
    },
    {
     "cell_type": "code",
     "collapsed": false,
     "input": [
      "propensities = ['c_1 * IDNA',\n",
      "                'c_2 * IRNA',\n",
      "                'c_3 * Y * Lactose',\n",
      "                'c_4 * ILactose',\n",
      "                'c_5 * Y * Op',\n",
      "                'c_6 * IOp',\n",
      "                'c_7 * Op * RNAP',\n",
      "                'c_8 * RNAPOp',\n",
      "                'c_9 * RNAPOp',\n",
      "                'c_10 * RNA',\n",
      "                'c_11 * Lactose * Z',\n",
      "                'c_12 * IRNA',\n",
      "                'c_13 * Y',\n",
      "                'c_13 * ILactose',\n",
      "                'c_14 * RNA',\n",
      "                'c_15 * Z']"
     ],
     "language": "python",
     "metadata": {},
     "outputs": [],
     "prompt_number": 6
    },
    {
     "cell_type": "code",
     "collapsed": false,
     "input": [
      "stoichiometry_matrix = np.array([\n",
      "                                 [0, 1, 0, 0, 0, 0, 0, 0, 0, 0, 0],\n",
      "                                 [0, 0, 1, 0, 0, 0, 0, 0, 0, 0 ,0],\n",
      "                                 [0, 0,-1, 0, 0, 0, 0, 1,-1, 0, 0],\n",
      "                                 [0, 0, 1, 0, 0, 0, 0,-1, 1, 0, 0],\n",
      "                                 [0, 0,-1,-1, 0, 0, 0, 0, 0, 1, 0],\n",
      "                                 [0, 0, 1, 1, 0, 0, 0, 0, 0,-1, 0],\n",
      "                                 [0, 0, 0,-1,-1, 0, 0, 0, 0, 0, 1],\n",
      "                                 [0, 0, 0, 1, 1, 0, 0, 0, 0, 0,-1],\n",
      "                                 [0, 0, 0, 1, 1, 1, 0, 0, 0, 0,-1],\n",
      "                                 [0,-1, 0, 0, 0, 1, 1, 0, 0, 0, 0],\n",
      "                                 [0, 0, 0, 0, 0, 0, 0,-1, 0, 0, 0],\n",
      "                                 [0,-1, 0, 0, 0, 0, 0, 0, 0, 0, 0],\n",
      "                                 [0, 0,-1, 0, 0, 0, 0, 0, 0, 0, 0],\n",
      "                                 [0, 0, 0, 0, 0, 0, 0, 1,-1, 0, 0],\n",
      "                                 [0, 0, 0, 0, 0,-1, 0, 0, 0, 0, 0],\n",
      "                                 [0, 0, 0, 0, 0, 0,-1, 0, 0, 0, 0]\n",
      "                                 ]) \n",
      "stoichiometry_matrix = stoichiometry_matrix.T"
     ],
     "language": "python",
     "metadata": {},
     "outputs": [],
     "prompt_number": 7
    },
    {
     "cell_type": "code",
     "collapsed": false,
     "input": [
      "MODEL_Lac_operon  =  means.Model(constants, species, propensities, stoichiometry_matrix)"
     ],
     "language": "python",
     "metadata": {},
     "outputs": [],
     "prompt_number": "*"
    },
    {
     "cell_type": "code",
     "collapsed": false,
     "input": [
      "problem = means.approximation.MomentExpansionApproximation(MODEL_Lac_operon, 4).run()\n",
      "simulator = means.simulation.Simulation(problem)"
     ],
     "language": "python",
     "metadata": {},
     "outputs": [],
     "prompt_number": "*"
    },
    {
     "cell_type": "code",
     "collapsed": false,
     "input": [
      "timepoints = np.arange(0, 8, 0.1)\n",
      "# values given in book \n",
      "constant_values = [0.02,0.1,0.005,0.1,1,0.01,0.1,0.01,0.03,0.1,1*10^(-5),0.01,0.002,0.01,0.001] \n",
      "# arbitrary intial conditions\n",
      "initial_conditions = [1,0,50,1,100,0,0,20,0,0,0]"
     ],
     "language": "python",
     "metadata": {},
     "outputs": [],
     "prompt_number": "*"
    },
    {
     "cell_type": "code",
     "collapsed": false,
     "input": [
      "trajectories = simulator.simulate_system(constant_values, initial_conditions, timepoints)"
     ],
     "language": "python",
     "metadata": {},
     "outputs": [],
     "prompt_number": "*"
    },
    {
     "cell_type": "code",
     "collapsed": false,
     "input": [
      "plt.figure()\n",
      "for trajectory in trajectories:\n",
      "    if trajectory.description.order == 1:\n",
      "        trajectory.plot()\n",
      "plt.legend(loc='lower left', bbox_to_anchor = (1, 0))"
     ],
     "language": "python",
     "metadata": {},
     "outputs": [],
     "prompt_number": "*"
    },
    {
     "cell_type": "code",
     "collapsed": false,
     "input": [],
     "language": "python",
     "metadata": {},
     "outputs": [],
     "prompt_number": "*"
    }
   ],
   "metadata": {}
  }
 ]
}
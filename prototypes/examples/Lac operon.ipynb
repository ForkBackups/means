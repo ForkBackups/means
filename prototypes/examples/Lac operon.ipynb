{
 "metadata": {
  "name": ""
 },
 "nbformat": 3,
 "nbformat_minor": 0,
 "worksheets": [
  {
   "cells": [
    {
     "cell_type": "code",
     "collapsed": false,
     "input": [
      "%%latex\n",
      "\\begin{align*}\n",
      "i            & \\rightarrow i + r_I \\\\\n",
      "r_I          & \\rightarrow r_I + I \\\\\n",
      "I + Lactose  & \\leftrightarrow I \\cdot Lactose \\\\\n",
      "I + o        & \\leftrightarrow I \\cdot o \\\\ \n",
      "o + RNAP     & \\leftrightarrow RNAP \\cdot o \\\\\n",
      "RNAP \\cdot o & \\rightarrow r + A + Y + Z  \\\\ \n",
      "Lactose + Z  & \\rightarrow Z \\\\\n",
      "\\end{align*}"
     ],
     "language": "python",
     "metadata": {},
     "outputs": [
      {
       "latex": [
        "\\begin{align*}\n",
        "i            & \\rightarrow i + r_I \\\\\n",
        "r_I          & \\rightarrow r_I + I \\\\\n",
        "I + Lactose  & \\leftrightarrow I \\cdot Lactose \\\\\n",
        "I + o        & \\leftrightarrow I \\cdot o \\\\ \n",
        "o + RNAP     & \\leftrightarrow RNAP \\cdot o \\\\\n",
        "RNAP \\cdot o & \\rightarrow r + A + Y + Z  \\\\ \n",
        "Lactose + Z  & \\rightarrow Z \\\\\n",
        "\\end{align*}"
       ],
       "metadata": {},
       "output_type": "display_data",
       "text": [
        "<IPython.core.display.Latex at 0x103bb6050>"
       ]
      }
     ],
     "prompt_number": 7
    },
    {
     "cell_type": "code",
     "collapsed": false,
     "input": [
      "import means\n",
      "import sympy\n",
      "import numpy as np"
     ],
     "language": "python",
     "metadata": {},
     "outputs": [],
     "prompt_number": 14
    },
    {
     "cell_type": "code",
     "collapsed": false,
     "input": [
      "species = ['I_{DNA}', 'I_{RNA}', 'I', 'O_p', 'RNAP', 'RNA', 'Z', 'Lactose', 'I_{Lactose}', 'I_{Op}', 'RNAP_{Op}'] "
     ],
     "language": "python",
     "metadata": {},
     "outputs": [],
     "prompt_number": 9
    },
    {
     "cell_type": "code",
     "collapsed": false,
     "input": [
      "propensities = ['c_1 * I_{DNA}',\n",
      "                'c_2 * I_{RNA}',\n",
      "                'c_3 * I * Lactose',\n",
      "                'c_4 * I_{Lactose}',\n",
      "                'c_5 * I * O_p',\n",
      "                'c_6 * I_{Op}',\n",
      "                'c_7 * O_p * RNAP',\n",
      "                'c_8 * RNAP_{Op}',\n",
      "                'c_9 * RNAP_{Op}',\n",
      "                'c_10 * RNA',\n",
      "                'c_11 * Lactose * Z',\n",
      "                'c_12 * I_{RNA}',\n",
      "                'c_13 * I',\n",
      "                'c_13 * I_{Lactose}',\n",
      "                'c_14 * RNA',\n",
      "                'c_15 * Z']"
     ],
     "language": "python",
     "metadata": {},
     "outputs": [],
     "prompt_number": 13
    },
    {
     "cell_type": "code",
     "collapsed": false,
     "input": [
      "stoichiometry_matrix = np.array([[0, 1, 0, 0, 0, 0, 0, 0, 0, 0, 0],\n",
      "                                 [0, 0, 1, 0, 0, 0, 0, 0, 0, 0 ,0]\n",
      "                    "
     ],
     "language": "python",
     "metadata": {},
     "outputs": []
    }
   ],
   "metadata": {}
  }
 ]
}
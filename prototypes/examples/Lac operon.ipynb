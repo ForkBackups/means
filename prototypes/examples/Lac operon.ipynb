{
 "metadata": {
  "name": ""
 },
 "nbformat": 3,
 "nbformat_minor": 0,
 "worksheets": [
  {
   "cells": [
    {
     "cell_type": "code",
     "collapsed": false,
     "input": [
      "%%latex\n",
      "\\begin{align*}\n",
      "I_{DNA}            & \\rightarrow I_{DNA} + I_{RNA} \\\\\n",
      "I_{RNA}          & \\rightarrow I_{RNA} + I \\\\\n",
      "I + Lactose  & \\leftrightarrow I\\_Lactose \\\\\n",
      "I + Op        & \\leftrightarrow I\\_Op \\\\ \n",
      "Op + RNAP     & \\leftrightarrow RNAP\\_Op \\\\\n",
      "RNAP\\_Op & \\rightarrow RNAP + Op + RNA \\\\\n",
      "I_{RNA}  & \\rightarrow RNA + Z \\\\\n",
      "Lactose + Z  & \\rightarrow Z \\\\\n",
      "I_{RNA} & \\rightarrow \\\\\n",
      "I & \\rightarrow \\\\\n",
      "I\\_Lactose & \\rightarrow Lactose \\\\\n",
      "RNA & \\rightarrow \\\\\n",
      "Z & \\rightarrow \\\\\n",
      "\\end{align*}"
     ],
     "language": "python",
     "metadata": {},
     "outputs": [
      {
       "latex": [
        "\\begin{align*}\n",
        "I_{DNA}            & \\rightarrow I_{DNA} + I_{RNA} \\\\\n",
        "I_{RNA}          & \\rightarrow I_{RNA} + I \\\\\n",
        "I + Lactose  & \\leftrightarrow I\\_Lactose \\\\\n",
        "I + Op        & \\leftrightarrow I\\_Op \\\\ \n",
        "Op + RNAP     & \\leftrightarrow RNAP\\_Op \\\\\n",
        "RNAP\\_Op & \\rightarrow RNAP + Op + RNA \\\\\n",
        "I_{RNA}  & \\rightarrow RNA + Z \\\\\n",
        "Lactose + Z  & \\rightarrow Z \\\\\n",
        "I_{RNA} & \\rightarrow \\\\\n",
        "I & \\rightarrow \\\\\n",
        "I\\_Lactose & \\rightarrow Lactose \\\\\n",
        "RNA & \\rightarrow \\\\\n",
        "Z & \\rightarrow \\\\\n",
        "\\end{align*}"
       ],
       "metadata": {},
       "output_type": "display_data",
       "text": [
        "<IPython.core.display.Latex at 0x103f59590>"
       ]
      }
     ],
     "prompt_number": 1
    },
    {
     "cell_type": "code",
     "collapsed": false,
     "input": [
      "import means\n",
      "import sympy\n",
      "import numpy as np\n",
      "import matplotlib.pyplot as plt"
     ],
     "language": "python",
     "metadata": {},
     "outputs": [],
     "prompt_number": 2
    },
    {
     "cell_type": "code",
     "collapsed": false,
     "input": [
      "species = ['IDNA', 'IRNA', 'Y', 'Op', 'RNAP', 'RNA', 'Z', 'Lactose', 'ILactose', 'IOp', 'RNAPOp'] "
     ],
     "language": "python",
     "metadata": {},
     "outputs": [],
     "prompt_number": 3
    },
    {
     "cell_type": "code",
     "collapsed": false,
     "input": [
      "constants = ['c_1','c_2','c_3','c_4','c_5','c_6','c_7','c_8','c_9','c_10','c_11','c_12','c_13','c_14','c_15']"
     ],
     "language": "python",
     "metadata": {},
     "outputs": [],
     "prompt_number": 4
    },
    {
     "cell_type": "code",
     "collapsed": false,
     "input": [
      "propensities = ['c_1 * IDNA',\n",
      "                'c_2 * IRNA',\n",
      "                'c_3 * Y * Lactose',\n",
      "                'c_4 * ILactose',\n",
      "                'c_5 * Y * Op',\n",
      "                'c_6 * IOp',\n",
      "                'c_7 * Op * RNAP',\n",
      "                'c_8 * RNAPOp',\n",
      "                'c_9 * RNAPOp',\n",
      "                'c_10 * RNA',\n",
      "                'c_11 * Lactose * Z',\n",
      "                'c_12 * IRNA',\n",
      "                'c_13 * Y',\n",
      "                'c_13 * ILactose',\n",
      "                'c_14 * RNA',\n",
      "                'c_15 * Z']"
     ],
     "language": "python",
     "metadata": {},
     "outputs": [],
     "prompt_number": 5
    },
    {
     "cell_type": "code",
     "collapsed": false,
     "input": [
      "stoichiometry_matrix = np.array([\n",
      "                                 [0, 1, 0, 0, 0, 0, 0, 0, 0, 0, 0],\n",
      "                                 [0, 0, 1, 0, 0, 0, 0, 0, 0, 0 ,0],\n",
      "                                 [0, 0,-1, 0, 0, 0, 0, 1,-1, 0, 0],\n",
      "                                 [0, 0, 1, 0, 0, 0, 0,-1, 1, 0, 0],\n",
      "                                 [0, 0,-1,-1, 0, 0, 0, 0, 0, 1, 0],\n",
      "                                 [0, 0, 1, 1, 0, 0, 0, 0, 0,-1, 0],\n",
      "                                 [0, 0, 0,-1,-1, 0, 0, 0, 0, 0, 1],\n",
      "                                 [0, 0, 0, 1, 1, 0, 0, 0, 0, 0,-1],\n",
      "                                 [0, 0, 0, 1, 1, 1, 0, 0, 0, 0,-1],\n",
      "                                 [0,-1, 0, 0, 0, 1, 1, 0, 0, 0, 0],\n",
      "                                 [0, 0, 0, 0, 0, 0, 0,-1, 0, 0, 0],\n",
      "                                 [0,-1, 0, 0, 0, 0, 0, 0, 0, 0, 0],\n",
      "                                 [0, 0,-1, 0, 0, 0, 0, 0, 0, 0, 0],\n",
      "                                 [0, 0, 0, 0, 0, 0, 0, 1,-1, 0, 0],\n",
      "                                 [0, 0, 0, 0, 0,-1, 0, 0, 0, 0, 0],\n",
      "                                 [0, 0, 0, 0, 0, 0,-1, 0, 0, 0, 0]\n",
      "                                 ]) \n",
      "stoichiometry_matrix = stoichiometry_matrix.T"
     ],
     "language": "python",
     "metadata": {},
     "outputs": [],
     "prompt_number": 6
    },
    {
     "cell_type": "code",
     "collapsed": false,
     "input": [
      "MODEL_Lac_operon  =  means.Model(constants, species, propensities, stoichiometry_matrix)"
     ],
     "language": "python",
     "metadata": {},
     "outputs": [],
     "prompt_number": 7
    },
    {
     "cell_type": "code",
     "collapsed": false,
     "input": [
      "problem = means.approximation.MomentExpansionApproximation(MODEL_Lac_operon, 2).run()\n",
      "simulator = means.simulation.Simulation(problem)"
     ],
     "language": "python",
     "metadata": {},
     "outputs": [],
     "prompt_number": 8
    },
    {
     "cell_type": "code",
     "collapsed": false,
     "input": [
      "timepoints = np.arange(0, 50, 0.1)\n",
      "# values given in book \n",
      "constant_values = [0.02,0.1,0.005,0.1,1,0.01,0.1,0.01,0.03,0.1,1*10^(-5),0.01,0.002,0.01,0.001] \n",
      "# arbitrary intial conditions\n",
      "initial_conditions = [1,0,50,1,100,0,0,20,0,0,0]"
     ],
     "language": "python",
     "metadata": {},
     "outputs": [],
     "prompt_number": 13
    },
    {
     "cell_type": "code",
     "collapsed": false,
     "input": [
      "trajectories = simulator.simulate_system(constant_values, initial_conditions, timepoints)"
     ],
     "language": "python",
     "metadata": {},
     "outputs": [
      {
       "output_type": "stream",
       "stream": "stdout",
       "text": [
        "[CVode Warning] Internal t = 8.86573 and h = 6.84262e-16 are such that t + h = t on the next step. The solver will continue anyway.\n",
        "[CVode Warning] Internal t = 8.86573 and h = 6.84262e-16 are such that t + h = t on the next step. The solver will continue anyway.\n",
        "[CVode Warning] Internal t = 8.86573 and h = 6.84262e-16 are such that t + h = t on the next step. The solver will continue anyway.\n",
        "[CVode Warning]"
       ]
      },
      {
       "ename": "CVodeError",
       "evalue": "'Convergence test failures occurred too many times during one internal time step or minimum step size was reached. At time 8.865733.'",
       "output_type": "pyerr",
       "traceback": [
        "\u001b[0;31m---------------------------------------------------------------------------\u001b[0m\n\u001b[0;31mCVodeError\u001b[0m                                Traceback (most recent call last)",
        "\u001b[0;32m<ipython-input-14-70667e20ede6>\u001b[0m in \u001b[0;36m<module>\u001b[0;34m()\u001b[0m\n\u001b[0;32m----> 1\u001b[0;31m \u001b[0mtrajectories\u001b[0m \u001b[0;34m=\u001b[0m \u001b[0msimulator\u001b[0m\u001b[0;34m.\u001b[0m\u001b[0msimulate_system\u001b[0m\u001b[0;34m(\u001b[0m\u001b[0mconstant_values\u001b[0m\u001b[0;34m,\u001b[0m \u001b[0minitial_conditions\u001b[0m\u001b[0;34m,\u001b[0m \u001b[0mtimepoints\u001b[0m\u001b[0;34m)\u001b[0m\u001b[0;34m\u001b[0m\u001b[0m\n\u001b[0m",
        "\u001b[0;32m/Users/user/MScProj1/src/means/simulation/simulate.pyc\u001b[0m in \u001b[0;36msimulate_system\u001b[0;34m(self, parameters, initial_conditions, timepoints)\u001b[0m\n\u001b[1;32m    151\u001b[0m         \u001b[0minitial_conditions\u001b[0m \u001b[0;34m=\u001b[0m \u001b[0mself\u001b[0m\u001b[0;34m.\u001b[0m\u001b[0m_append_zeros\u001b[0m\u001b[0;34m(\u001b[0m\u001b[0minitial_conditions\u001b[0m\u001b[0;34m,\u001b[0m \u001b[0mself\u001b[0m\u001b[0;34m.\u001b[0m\u001b[0mproblem\u001b[0m\u001b[0;34m.\u001b[0m\u001b[0mnumber_of_equations\u001b[0m\u001b[0;34m)\u001b[0m\u001b[0;34m\u001b[0m\u001b[0m\n\u001b[1;32m    152\u001b[0m         \u001b[0msolver\u001b[0m \u001b[0;34m=\u001b[0m \u001b[0mself\u001b[0m\u001b[0;34m.\u001b[0m\u001b[0m_initialise_solver\u001b[0m\u001b[0;34m(\u001b[0m\u001b[0minitial_conditions\u001b[0m\u001b[0;34m,\u001b[0m \u001b[0mparameters\u001b[0m\u001b[0;34m,\u001b[0m \u001b[0mtimepoints\u001b[0m\u001b[0;34m)\u001b[0m\u001b[0;34m\u001b[0m\u001b[0m\n\u001b[0;32m--> 153\u001b[0;31m         \u001b[0mtrajectories\u001b[0m \u001b[0;34m=\u001b[0m \u001b[0msolver\u001b[0m\u001b[0;34m.\u001b[0m\u001b[0msimulate\u001b[0m\u001b[0;34m(\u001b[0m\u001b[0mtimepoints\u001b[0m\u001b[0;34m)\u001b[0m\u001b[0;34m\u001b[0m\u001b[0m\n\u001b[0m\u001b[1;32m    154\u001b[0m \u001b[0;34m\u001b[0m\u001b[0m\n\u001b[1;32m    155\u001b[0m         \u001b[0;32mreturn\u001b[0m \u001b[0mself\u001b[0m\u001b[0;34m.\u001b[0m\u001b[0m_postprocessing\u001b[0m\u001b[0;34m(\u001b[0m\u001b[0mself\u001b[0m\u001b[0;34m.\u001b[0m\u001b[0mproblem\u001b[0m\u001b[0;34m,\u001b[0m \u001b[0mtrajectories\u001b[0m\u001b[0;34m)\u001b[0m\u001b[0;34m\u001b[0m\u001b[0m\n",
        "\u001b[0;32m/Users/user/MScProj1/src/means/simulation/solvers.pyc\u001b[0m in \u001b[0;36msimulate\u001b[0;34m(self, timepoints)\u001b[0m\n\u001b[1;32m    115\u001b[0m \u001b[0;34m\u001b[0m\u001b[0m\n\u001b[1;32m    116\u001b[0m         \u001b[0;32mtry\u001b[0m\u001b[0;34m:\u001b[0m\u001b[0;34m\u001b[0m\u001b[0m\n\u001b[0;32m--> 117\u001b[0;31m             \u001b[0msimulated_timepoints\u001b[0m\u001b[0;34m,\u001b[0m \u001b[0msimulated_values\u001b[0m \u001b[0;34m=\u001b[0m \u001b[0msolver\u001b[0m\u001b[0;34m.\u001b[0m\u001b[0msimulate\u001b[0m\u001b[0;34m(\u001b[0m\u001b[0mlast_timepoint\u001b[0m\u001b[0;34m,\u001b[0m \u001b[0mncp_list\u001b[0m\u001b[0;34m=\u001b[0m\u001b[0mtimepoints\u001b[0m\u001b[0;34m)\u001b[0m\u001b[0;34m\u001b[0m\u001b[0m\n\u001b[0m\u001b[1;32m    118\u001b[0m         \u001b[0;32mexcept\u001b[0m \u001b[0mself\u001b[0m\u001b[0;34m.\u001b[0m\u001b[0m_solver_exception_class\u001b[0m \u001b[0;32mas\u001b[0m \u001b[0me\u001b[0m\u001b[0;34m:\u001b[0m\u001b[0;34m\u001b[0m\u001b[0m\n\u001b[1;32m    119\u001b[0m             \u001b[0;31m# The exceptions thrown by solvers are usually hiding the real cause, try to see if it is\u001b[0m\u001b[0;34m\u001b[0m\u001b[0;34m\u001b[0m\u001b[0m\n",
        "\u001b[0;32m/Users/user/.virtualenvs/mscproj/lib/python2.7/site-packages/assimulo/ode.so\u001b[0m in \u001b[0;36massimulo.ode.ODE.simulate (assimulo/ode.c:4512)\u001b[0;34m()\u001b[0m\n",
        "\u001b[0;32m/Users/user/.virtualenvs/mscproj/lib/python2.7/site-packages/assimulo/ode.so\u001b[0m in \u001b[0;36massimulo.ode.ODE.simulate (assimulo/ode.c:4106)\u001b[0;34m()\u001b[0m\n",
        "\u001b[0;32m/Users/user/.virtualenvs/mscproj/lib/python2.7/site-packages/assimulo/explicit_ode.so\u001b[0m in \u001b[0;36massimulo.explicit_ode.Explicit_ODE._simulate (assimulo/explicit_ode.c:3684)\u001b[0;34m()\u001b[0m\n",
        "\u001b[0;32m/Users/user/.virtualenvs/mscproj/lib/python2.7/site-packages/assimulo/explicit_ode.so\u001b[0m in \u001b[0;36massimulo.explicit_ode.Explicit_ODE._simulate (assimulo/explicit_ode.c:2851)\u001b[0;34m()\u001b[0m\n",
        "\u001b[0;32m/Users/user/.virtualenvs/mscproj/lib/python2.7/site-packages/assimulo/solvers/sundials.so\u001b[0m in \u001b[0;36massimulo.solvers.sundials.CVode.integrate (assimulo/solvers/sundials.c:31474)\u001b[0;34m()\u001b[0m\n",
        "\u001b[0;32m/Users/user/.virtualenvs/mscproj/lib/python2.7/site-packages/assimulo/solvers/sundials.so\u001b[0m in \u001b[0;36massimulo.solvers.sundials.CVode.integrate (assimulo/solvers/sundials.c:31101)\u001b[0;34m()\u001b[0m\n",
        "\u001b[0;31mCVodeError\u001b[0m: 'Convergence test failures occurred too many times during one internal time step or minimum step size was reached. At time 8.865733.'"
       ]
      },
      {
       "output_type": "stream",
       "stream": "stdout",
       "text": [
        " Internal t = 8.86573 and h = 6.84262e-16 are such that t + h = t on the next step. The solver will continue anyway.\n",
        "[CVode Warning] Internal t = 8.86573 and h = 6.84262e-16 are such that t + h = t on the next step. The solver will continue anyway.\n",
        "[CVode Warning] Internal t = 8.86573 and h = 6.84262e-16 are such that t + h = t on the next step. The solver will continue anyway.\n",
        "[CVode Warning] Internal t = 8.86573 and h = 6.84262e-16 are such that t + h = t on the next step. The solver will continue anyway.\n",
        "[CVode Warning] Internal t = 8.86573 and h = 6.84262e-16 are such that t + h = t on the next step. The solver will continue anyway.\n",
        "[CVode Warning] Internal t = 8.86573 and h = 6.84262e-16 are such that t + h = t on the next step. The solver will continue anyway.\n",
        "[CVode Warning] Internal t = 8.86573 and h = 6.84262e-16 are such that t + h = t on the next step. The solver will continue anyway.\n",
        "[CVode Warning] The above warning has been issued mxhnil times and will not be issued again for this problem.\n"
       ]
      }
     ],
     "prompt_number": 14
    },
    {
     "cell_type": "code",
     "collapsed": false,
     "input": [
      "plt.figure()\n",
      "trajectories[0].plot(label=str(trajectories[0].description.symbol))\n",
      "trajectories[1].plot(label=str(trajectories[1].description.symbol))\n",
      "plt.title(\"Means\")\n",
      "plt.legend(loc='lower left', bbox_to_anchor = (1, 0))\n",
      "plt.show()"
     ],
     "language": "python",
     "metadata": {},
     "outputs": []
    },
    {
     "cell_type": "code",
     "collapsed": false,
     "input": [],
     "language": "python",
     "metadata": {},
     "outputs": []
    }
   ],
   "metadata": {}
  }
 ]
}
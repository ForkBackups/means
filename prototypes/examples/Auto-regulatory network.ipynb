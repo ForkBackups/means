{
 "metadata": {
  "name": ""
 },
 "nbformat": 3,
 "nbformat_minor": 0,
 "worksheets": [
  {
   "cells": [
    {
     "cell_type": "code",
     "collapsed": false,
     "input": [
      "%pylab inline"
     ],
     "language": "python",
     "metadata": {},
     "outputs": [
      {
       "output_type": "stream",
       "stream": "stdout",
       "text": [
        "Populating the interactive namespace from numpy and matplotlib\n"
       ]
      }
     ],
     "prompt_number": 1
    },
    {
     "cell_type": "code",
     "collapsed": false,
     "input": [
      "%%latex\n",
      "\\begin{align*}\n",
      "Gene + P2      & \\leftrightarrow Gene2P \\\\\n",
      "Gene           & \\rightarrow Gene + RNA \\\\\n",
      "RNA            & \\rightarrow RNA + P \\\\\n",
      "P + P          & \\leftrightarrow P2 \\\\\n",
      "RNA            & \\rightarrow \\\\\n",
      "P              & \\rightarrow \\\\\n",
      "\\end{align*}"
     ],
     "language": "python",
     "metadata": {},
     "outputs": [
      {
       "latex": [
        "\\begin{align*}\n",
        "Gene + P2      & \\leftrightarrow Gene2P \\\\\n",
        "Gene           & \\rightarrow Gene + RNA \\\\\n",
        "RNA            & \\rightarrow RNA + P \\\\\n",
        "P + P          & \\leftrightarrow P2 \\\\\n",
        "RNA            & \\rightarrow \\\\\n",
        "P              & \\rightarrow \\\\\n",
        "\\end{align*}"
       ],
       "metadata": {},
       "output_type": "display_data",
       "text": [
        "<IPython.core.display.Latex at 0x108f1a310>"
       ]
      }
     ],
     "prompt_number": 2
    },
    {
     "cell_type": "code",
     "collapsed": false,
     "input": [
      "import means\n",
      "import sympy\n",
      "import numpy as np\n",
      "import matplotlib.pyplot as plt"
     ],
     "language": "python",
     "metadata": {},
     "outputs": [],
     "prompt_number": 3
    },
    {
     "cell_type": "code",
     "collapsed": false,
     "input": [
      "species = ['Gene', 'RNA', 'P', 'P2', 'P2Gene'] \n",
      "constants = ['k_1','k_1_r','k_2','k_3','k_4','k_4_r','k_5','k_6']\n",
      "propensities = ['k_1 * Gene * P2',\n",
      "                'k_1_r * P2Gene',\n",
      "                'k_2 * Gene',\n",
      "                'k_3 * RNA',\n",
      "                'k_4 * 0.5 * P * (P - 1)',\n",
      "                'k_4_r * P2',\n",
      "                'k_5 * RNA',\n",
      "                'k_6 * P']\n",
      "stoichiometry_matrix = np.array([\n",
      "                                 [-1, 1, 0, 0, 0, 0, 0, 0],\n",
      "                                 [ 0, 0, 1, 0, 0, 0,-1, 0],\n",
      "                                 [ 0, 0, 0, 1,-2, 2, 0,-1],\n",
      "                                 [-1, 1, 0, 0, 1,-1, 0, 0],\n",
      "                                 [ 1,-1, 0, 0, 0, 0, 0, 0]\n",
      "                                 ])"
     ],
     "language": "python",
     "metadata": {},
     "outputs": [],
     "prompt_number": 4
    },
    {
     "cell_type": "code",
     "collapsed": false,
     "input": [
      "MODEL_auto_regulatory_netowrk  =  means.Model(constants, species, propensities, stoichiometry_matrix)"
     ],
     "language": "python",
     "metadata": {},
     "outputs": [],
     "prompt_number": 5
    },
    {
     "cell_type": "code",
     "collapsed": false,
     "input": [
      "problem = means.approximation.MomentExpansionApproximation(MODEL_auto_regulatory_netowrk, 3).run()\n",
      "simulator = means.simulation.Simulation(problem)"
     ],
     "language": "python",
     "metadata": {},
     "outputs": [],
     "prompt_number": 6
    },
    {
     "cell_type": "code",
     "collapsed": false,
     "input": [
      "timepoints = np.arange(0, 10000, 1)\n",
      "timepoints_short = np.arange(0,6,1)\n",
      "constant_values = [1, 10, 0.01, 10, 1, 1, 0.1, 0.01] \n",
      "initial_conditions = [10, 0, 0, 0, 0]"
     ],
     "language": "python",
     "metadata": {},
     "outputs": [],
     "prompt_number": 7
    },
    {
     "cell_type": "code",
     "collapsed": false,
     "input": [
      "trajectories_1 = simulator.simulate_system(constant_values, initial_conditions, timepoints)\n",
      "trajectories_2 = simulator.simulate_system(constant_values, initial_conditions, timepoints_short)"
     ],
     "language": "python",
     "metadata": {},
     "outputs": [],
     "prompt_number": 8
    },
    {
     "cell_type": "code",
     "collapsed": false,
     "input": [
      "plt.figure()\n",
      "for trajectory in trajectories_1:\n",
      "    if trajectory.description.order == 1:\n",
      "        trajectory.plot()\n",
      "plt.legend(loc='lower left', bbox_to_anchor = (1, 0))\n",
      "plt.figure()\n",
      "for trajectory in trajectories_2:\n",
      "    if trajectory.description.order == 1:\n",
      "        trajectory.plot()\n",
      "plt.legend(loc='lower left', bbox_to_anchor = (1, 0))"
     ],
     "language": "python",
     "metadata": {},
     "outputs": [
      {
       "metadata": {},
       "output_type": "pyout",
       "prompt_number": 9,
       "text": [
        "<matplotlib.legend.Legend at 0x10bfa5c50>"
       ]
      },
      {
       "metadata": {},
       "output_type": "display_data",
       "png": "[encoded data removed]",
       "text": [
        "<matplotlib.figure.Figure at 0x10b83db10>"
       ]
      },
      {
       "metadata": {},
       "output_type": "display_data",
       "png": "[encoded data removed]",
       "text": [
        "<matplotlib.figure.Figure at 0x10b83ded0>"
       ]
      }
     ],
     "prompt_number": 9
    },
    {
     "cell_type": "markdown",
     "metadata": {},
     "source": [
      "Using the rate constants and initial conditions given in \"Stochastic Modelling for Systems Biology\", the number of P2 dimer produced saturates gradually. However, in the first 5 unit time, concentrations of P2Gene and P2 are negative, due to the solver. "
     ]
    }
   ],
   "metadata": {}
  }
 ]
}
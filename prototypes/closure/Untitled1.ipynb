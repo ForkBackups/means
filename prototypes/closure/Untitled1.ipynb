{
 "metadata": {
  "name": ""
 },
 "nbformat": 3,
 "nbformat_minor": 0,
 "worksheets": [
  {
   "cells": [
    {
     "cell_type": "code",
     "collapsed": false,
     "input": [
      "#get the partitions\n",
      "import copy\n",
      "def partition(k,accum,index,arr):\n",
      "    if index == len(arr):\n",
      "        if(k==0):\n",
      "            return accum\n",
      "        else:\n",
      "            return []\n",
      "\n",
      "    element = arr[index]\n",
      "    #print element\n",
      "    result = []\n",
      "\n",
      "    for set_i in range(len(accum)):\n",
      "        clone_new = copy.deepcopy(accum);\n",
      "        #print 'accum', accum\n",
      "        clone_new[set_i].append([element]);\n",
      "        result.extend(partition(k-1,clone_new,index+1,arr) )\n",
      "            \n",
      "        for elem_i in range(len(accum[set_i])):\n",
      "\n",
      "            clone_new = copy.deepcopy(accum);\n",
      "            #print 'deepcopy accum',accum\n",
      "            #print \">>>>>>>>>\"\n",
      "            clone_new[set_i][elem_i].append(element)\n",
      "            result.extend( partition(k,clone_new,index+1,arr) );\n",
      "            \n",
      "    return [row for row in result if len(row[0]) ==2]\n",
      "\n",
      "idx = partition(2,[[]],0,[0,1,1,1]);\n",
      "print idx\n"
     ],
     "language": "python",
     "metadata": {},
     "outputs": [
      {
       "output_type": "stream",
       "stream": "stdout",
       "text": [
        "[]\n"
       ]
      }
     ],
     "prompt_number": 136
    },
    {
     "cell_type": "code",
     "collapsed": false,
     "input": [
      "#retrieve the variances\n",
      "import operator\n",
      "sigma = [[sp.Symbol('ym20'),sp.Symbol('ym11')],[sp.Symbol('ym11'),sp.Symbol('ym02')]]\n",
      "exp_list =[]\n",
      "for idx_pairs in idx:\n",
      "    l = [sigma[i1[0]][i1[1]] for i1 in idx_pairs]\n",
      "    exp = reduce(operator.mul,l)\n",
      "    exp_list.append(exp)\n",
      "gexp = sum(exp_list)\n",
      "print gexp"
     ],
     "language": "python",
     "metadata": {},
     "outputs": [
      {
       "output_type": "stream",
       "stream": "stdout",
       "text": [
        "3*ym02*ym11\n"
       ]
      }
     ],
     "prompt_number": 133
    },
    {
     "cell_type": "code",
     "collapsed": false,
     "input": [
      "import means"
     ],
     "language": "python",
     "metadata": {},
     "outputs": [],
     "prompt_number": 134
    },
    {
     "cell_type": "code",
     "collapsed": false,
     "input": [],
     "language": "python",
     "metadata": {},
     "outputs": []
    }
   ],
   "metadata": {}
  }
 ]
}
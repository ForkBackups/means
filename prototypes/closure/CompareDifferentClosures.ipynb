{
 "metadata": {
  "name": ""
 },
 "nbformat": 3,
 "nbformat_minor": 0,
 "worksheets": [
  {
   "cells": [
    {
     "cell_type": "code",
     "collapsed": false,
     "input": [
      "%pylab inline"
     ],
     "language": "python",
     "metadata": {},
     "outputs": [
      {
       "output_type": "stream",
       "stream": "stdout",
       "text": [
        "Populating the interactive namespace from numpy and matplotlib\n"
       ]
      }
     ],
     "prompt_number": 1
    },
    {
     "cell_type": "code",
     "collapsed": false,
     "input": [
      "import means\n",
      "from means.examples.sample_models import *"
     ],
     "language": "python",
     "metadata": {},
     "outputs": [],
     "prompt_number": 2
    },
    {
     "cell_type": "code",
     "collapsed": false,
     "input": [
      "import numpy as np\n"
     ],
     "language": "python",
     "metadata": {},
     "outputs": [],
     "prompt_number": 3
    },
    {
     "cell_type": "code",
     "collapsed": false,
     "input": [
      "import sympy"
     ],
     "language": "python",
     "metadata": {},
     "outputs": [],
     "prompt_number": 4
    },
    {
     "cell_type": "code",
     "collapsed": false,
     "input": [
      "model = MODEL_P53"
     ],
     "language": "python",
     "metadata": {},
     "outputs": [],
     "prompt_number": 5
    },
    {
     "cell_type": "code",
     "collapsed": false,
     "input": [
      "n_moments = 4\n",
      "closer_args = [\n",
      "               {\"closer\":\"zero\"},\n",
      "               {\"closer\":\"log-normal\", \"multivariate\":True},\n",
      "               {\"closer\":\"log-normal\", \"multivariate\":False},\n",
      "               {\"closer\":\"normal\", \"multivariate\":True},\n",
      "               {\"closer\":\"normal\", \"multivariate\":False}\n",
      "               #{\"closer\":\"gamma\", \"type\":0},\n",
      "               #{\"closer\":\"gamma\", \"type\":1}\n",
      "               ]\n",
      "meas = [means.approximation.MomentExpansionApproximation(model, n_moments,**ca) for ca in closer_args]\n"
     ],
     "language": "python",
     "metadata": {},
     "outputs": [],
     "prompt_number": 6
    },
    {
     "cell_type": "code",
     "collapsed": false,
     "input": [
      "problems = [m.run() for m in meas]"
     ],
     "language": "python",
     "metadata": {},
     "outputs": [],
     "prompt_number": "*"
    },
    {
     "cell_type": "code",
     "collapsed": false,
     "input": [
      "constant_values = [90, 0.002, 1.7, 1.1, 0.93, 0.96, 0.01] \n",
      "initial_conditions = [70, 30, 60]\n",
      "timepoints = np.arange(0, 50, 0.1)\n",
      "\n",
      "# we remove gamma type 1 (unstable)\n",
      "#problems = [p for p,ca in zip(problems, closer_args) if ca != {\"closer\":\"gamma\", \"type\":1} and ca != {\"closer\":\"gamma\", \"type\":0}]\n",
      "#closer_args = [ca for p,ca in zip(problems, closer_args) if ca != {\"closer\":\"gamma\", \"type\":1} and ca != {\"closer\":\"gamma\", \"type\":0}]\n",
      "\n",
      "simulators = [means.simulation.Simulation(p) for p in problems]\n",
      "\n",
      "trajectories = [s.simulate_system(constant_values, initial_conditions, timepoints) for s in simulators]"
     ],
     "language": "python",
     "metadata": {},
     "outputs": [],
     "prompt_number": "*"
    },
    {
     "cell_type": "code",
     "collapsed": false,
     "input": [
      "from matplotlib import pyplot as plt"
     ],
     "language": "python",
     "metadata": {},
     "outputs": [],
     "prompt_number": "*"
    },
    {
     "cell_type": "code",
     "collapsed": false,
     "input": [
      "for i in range(19):\n",
      "    plt.figure()\n",
      "    for t, ca in zip(trajectories, closer_args):\n",
      "        t[i].plot(label = str(ca))\n",
      "        \n",
      "        plt.legend(loc='lower left', bbox_to_anchor = (1, 0))\n",
      "        plt.title(\"moment #{0}\".format(i))\n",
      "    plt.show()\n",
      "    "
     ],
     "language": "python",
     "metadata": {},
     "outputs": [],
     "prompt_number": "*"
    },
    {
     "cell_type": "code",
     "collapsed": false,
     "input": [
      "plt.close()"
     ],
     "language": "python",
     "metadata": {},
     "outputs": [],
     "prompt_number": "*"
    },
    {
     "cell_type": "code",
     "collapsed": false,
     "input": [],
     "language": "python",
     "metadata": {},
     "outputs": []
    }
   ],
   "metadata": {}
  }
 ]
}
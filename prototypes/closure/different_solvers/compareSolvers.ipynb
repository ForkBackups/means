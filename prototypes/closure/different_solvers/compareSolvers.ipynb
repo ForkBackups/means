{
 "metadata": {
  "name": ""
 },
 "nbformat": 3,
 "nbformat_minor": 0,
 "worksheets": [
  {
   "cells": [
    {
     "cell_type": "code",
     "collapsed": false,
     "input": [
      "%pylab inline"
     ],
     "language": "python",
     "metadata": {},
     "outputs": [
      {
       "output_type": "stream",
       "stream": "stdout",
       "text": [
        "Populating the interactive namespace from numpy and matplotlib\n"
       ]
      }
     ],
     "prompt_number": 2
    },
    {
     "cell_type": "code",
     "collapsed": false,
     "input": [
      "import means\n",
      "#from means.examples.sample_models import *\n",
      "from means.approximation.ode_problem import parse_problem, ODEProblem\n",
      "from means.simulation.solvers import available_solvers\n",
      "from means.util.sympyhelpers import *"
     ],
     "language": "python",
     "metadata": {},
     "outputs": [],
     "prompt_number": 3
    },
    {
     "cell_type": "code",
     "collapsed": false,
     "input": [
      "import numpy as np\n"
     ],
     "language": "python",
     "metadata": {},
     "outputs": [],
     "prompt_number": 4
    },
    {
     "cell_type": "code",
     "collapsed": false,
     "input": [
      "import sympy"
     ],
     "language": "python",
     "metadata": {},
     "outputs": [],
     "prompt_number": 5
    },
    {
     "cell_type": "code",
     "collapsed": false,
     "input": [
      "# Values used in Ale et al.\n",
      "constant_values = [90, 0.002, 1.7, 1.1, 0.93, 0.96, 0.01] \n",
      "initial_conditions = [70, 30, 60]\n",
      "timepoints = np.arange(0, 40, 0.1)"
     ],
     "language": "python",
     "metadata": {},
     "outputs": [],
     "prompt_number": 6
    },
    {
     "cell_type": "markdown",
     "metadata": {},
     "source": [
      "We can see that matlab and sympy expressions are, empirically, the same:"
     ]
    },
    {
     "cell_type": "code",
     "collapsed": false,
     "input": [
      "problem_sympy = parse_problem(\"sympy_lognorm_n_mom_2.txt\")"
     ],
     "language": "python",
     "metadata": {},
     "outputs": [],
     "prompt_number": 7
    },
    {
     "cell_type": "code",
     "collapsed": false,
     "input": [
      "all_solver_names = available_solvers().keys()\n",
      "simulators = [ means.simulation.Simulation(problem_sympy,solver= n) for n in all_solver_names]\n",
      "all_solver_names"
     ],
     "language": "python",
     "metadata": {},
     "outputs": [
      {
       "metadata": {},
       "output_type": "pyout",
       "prompt_number": 17,
       "text": [
        "['rungekutta4',\n",
        " 'radau5',\n",
        " 'rodas',\n",
        " 'dopri5',\n",
        " 'cvode',\n",
        " 'rungekutta34',\n",
        " 'lsodar',\n",
        " 'euler']"
       ]
      }
     ],
     "prompt_number": 17
    },
    {
     "cell_type": "code",
     "collapsed": false,
     "input": [
      "all_trajectories =  dict()\n",
      "for s,n in zip(simulators, all_solver_names):\n",
      "    try:\n",
      "        print n\n",
      "        res = s.simulate_system(constant_values, initial_conditions, timepoints)\n",
      "    except:\n",
      "        res = None\n",
      "    all_trajectories[n] = res\n",
      "    \n",
      "print all_trajectories.keys()"
     ],
     "language": "python",
     "metadata": {},
     "outputs": [
      {
       "output_type": "stream",
       "stream": "stdout",
       "text": [
        "rungekutta4\n",
        "radau5"
       ]
      },
      {
       "output_type": "stream",
       "stream": "stdout",
       "text": [
        "\n",
        "rodas"
       ]
      },
      {
       "output_type": "stream",
       "stream": "stdout",
       "text": [
        "\n",
        "dopri5"
       ]
      },
      {
       "output_type": "stream",
       "stream": "stdout",
       "text": [
        "\n",
        "cvode"
       ]
      },
      {
       "output_type": "stream",
       "stream": "stdout",
       "text": [
        "\n",
        "[CVode Warning] Internal t = 17.3566 and h = 5.35656e-16 are such that t + h = t on the next step. The solver will continue anyway.\n",
        "[CVode Warning] Internal t = 17.3566 and h = 5.35656e-16 are such that t + h = t on the next step. The solver will continue anyway.\n",
        "[CVode Warning] Internal t = 17.3566 and h = 9.62e-16 are such that t + h = t on the next step. The solver will continue anyway.\n",
        "[CVode Warning] Internal t = 17.3566 and h = 3.74771e-16 are such that t + h = t on the next step. The solver will continue anyway.\n",
        "[CVode Warning] Internal t = 17.3566 and h = 3.74771e-16 are such that t + h = t on the next step. The solver will continue anyway.\n",
        "[CVode Warning] Internal t = 17.3566 and h = 9.36929e-17 are such that t + h = t on the next step. The solver will continue anyway.\n",
        "[CVode Warning] Internal t = 17.3566 and h = 9.36929e-17 are such that t + h = t on the next step. The solver will continue anyway.\n",
        "[CVode Warning] Internal t = 17.3566 and h = 1.50317e-16 are such that t + h = t on the next step. The solver will continue anyway.\n",
        "[CVode Warning] Internal t = 17.3566 and h = 9.89957e-17 are such that t + h = t on the next step. The solver will continue anyway.\n",
        "[CVode Warning] Internal t = 17.3566 and h = 6.70821e-17 are such that t + h = t on the next step. The solver will continue anyway.\n",
        "[CVode Warning] The above warning has been issued mxhnil times and will not be issued again for this problem.\n",
        "rungekutta34"
       ]
      },
      {
       "output_type": "stream",
       "stream": "stdout",
       "text": [
        "\n",
        "lsodar"
       ]
      },
      {
       "output_type": "stream",
       "stream": "stdout",
       "text": [
        "\n",
        "euler"
       ]
      },
      {
       "output_type": "stream",
       "stream": "stdout",
       "text": [
        "\n",
        "['rungekutta4', 'radau5', 'rodas', 'dopri5', 'cvode', 'lsodar', 'rungekutta34', 'euler']"
       ]
      },
      {
       "output_type": "stream",
       "stream": "stdout",
       "text": [
        "\n"
       ]
      }
     ],
     "prompt_number": 21
    },
    {
     "cell_type": "code",
     "collapsed": false,
     "input": [
      "from matplotlib import pyplot as plt"
     ],
     "language": "python",
     "metadata": {},
     "outputs": [],
     "prompt_number": 17
    },
    {
     "cell_type": "code",
     "collapsed": false,
     "input": [
      "mom_symbols = [t.description.symbol for t in all_trajectories[\"cvode\"]]"
     ],
     "language": "python",
     "metadata": {},
     "outputs": [],
     "prompt_number": 27
    },
    {
     "cell_type": "code",
     "collapsed": false,
     "input": [
      "for i,s in enumerate(mom_symbols):\n",
      "    plt.figure()\n",
      "    for traj in all_trajectories.items():\n",
      "        #\n",
      "        t = traj[1]\n",
      "        solv =  traj[1]\n",
      "        if t:\n",
      "            t[i].plot(label=solv)\n",
      "            plt.ylim(10,-10) \n",
      "    \n",
      "        plt.title(\"Moment compared: {0}\".format(s))\n",
      "        plt.legend(loc='lower left', bbox_to_anchor = (1, 0))\n",
      "    plt.show()"
     ],
     "language": "python",
     "metadata": {},
     "outputs": [],
     "prompt_number": "*"
    },
    {
     "cell_type": "code",
     "collapsed": false,
     "input": [
      "plt.close()"
     ],
     "language": "python",
     "metadata": {},
     "outputs": [],
     "prompt_number": 33
    }
   ],
   "metadata": {}
  }
 ]
}
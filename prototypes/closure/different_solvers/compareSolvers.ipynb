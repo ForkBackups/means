{
 "metadata": {
  "name": ""
 },
 "nbformat": 3,
 "nbformat_minor": 0,
 "worksheets": [
  {
   "cells": [
    {
     "cell_type": "code",
     "collapsed": false,
     "input": [
      "%pylab inline"
     ],
     "language": "python",
     "metadata": {},
     "outputs": [
      {
       "output_type": "stream",
       "stream": "stdout",
       "text": [
        "Populating the interactive namespace from numpy and matplotlib\n"
       ]
      }
     ],
     "prompt_number": 33
    },
    {
     "cell_type": "code",
     "collapsed": false,
     "input": [
      "import means\n",
      "from matplotlib import pyplot as plt\n",
      "import traceback"
     ],
     "language": "python",
     "metadata": {},
     "outputs": [],
     "prompt_number": 50
    },
    {
     "cell_type": "code",
     "collapsed": false,
     "input": [
      "import numpy as np\n"
     ],
     "language": "python",
     "metadata": {},
     "outputs": [],
     "prompt_number": 35
    },
    {
     "cell_type": "code",
     "collapsed": false,
     "input": [
      "import sympy"
     ],
     "language": "python",
     "metadata": {},
     "outputs": [],
     "prompt_number": 36
    },
    {
     "cell_type": "code",
     "collapsed": false,
     "input": [
      "# Values used in Ale et al.\n",
      "constant_values = [90, 0.002, 1.7, 1.1, 0.93, 0.96, 0.01] \n",
      "initial_conditions = [70, 30, 60]\n",
      "timepoints = np.arange(0, 40, 0.1)"
     ],
     "language": "python",
     "metadata": {},
     "outputs": [],
     "prompt_number": 38
    },
    {
     "cell_type": "markdown",
     "metadata": {},
     "source": [
      "Load the problem from file"
     ]
    },
    {
     "cell_type": "code",
     "collapsed": false,
     "input": [
      "problem_sympy = parse_problem(\"sympy_lognorm_n_mom_2.txt\")\n",
      "problem_sympy"
     ],
     "language": "python",
     "metadata": {},
     "outputs": [
      {
       "latex": [
        "<h1>ODEProblem</h1>\n",
        "<p>Method: <code>'MEA'</code></p>\n",
        "<p>Constants: <code>[c_0, c_1, c_2, c_3, c_4, c_5, c_6]</code></p>\n",
        "<p>Terms:</p>\n",
        "<ul>\n",
        "<li><code>Moment(array([1, 0, 0]), symbol=y_0)</code></li>\n",
        "<li><code>Moment(array([0, 1, 0]), symbol=y_1)</code></li>\n",
        "<li><code>Moment(array([0, 0, 1]), symbol=y_2)</code></li>\n",
        "<li><code>Moment(array([0, 0, 2]), symbol=yx2)</code></li>\n",
        "<li><code>Moment(array([0, 1, 1]), symbol=yx3)</code></li>\n",
        "<li><code>Moment(array([0, 2, 0]), symbol=yx4)</code></li>\n",
        "<li><code>Moment(array([1, 0, 1]), symbol=yx5)</code></li>\n",
        "<li><code>Moment(array([1, 1, 0]), symbol=yx6)</code></li>\n",
        "<li><code>Moment(array([2, 0, 0]), symbol=yx7)</code></li>\n",
        "</ul>\n",
        "<hr />\n",
        "\\begin{align*}\n",
        "\\dot{y_{0}} &= \\frac{1}{\\left(c_{6} + y_{0}\\right)^{10}} \\left(- c_{2} c_{6} y_{2} \\left(c_{6} + y_{0}\\right)^{6} \\left(3 y_{0}^{3} + 3 y_{0} yx_{7} - 3 y_{0} \\left(y_{0}^{2} + yx_{7}\\right) + \\frac{3 yx_{7}^{2}}{y_{0}} + \\frac{yx_{7}^{3}}{y_{0}^{3}}\\right) - c_{2} c_{6} yx_{5} \\left(c_{6} + y_{0}\\right)^{8} - c_{2} y_{0} y_{2} \\left(c_{6} + y_{0}\\right)^{9} + \\left(c_{0} - c_{1} y_{0}\\right) \\left(c_{6} + y_{0}\\right)^{10} + \\left(c_{6} + y_{0}\\right)^{7} \\left(c_{2} c_{6} y_{2} yx_{7} + c_{2} c_{6} \\left(3 y_{0}^{2} y_{2} + 2 y_{0} yx_{5} - 2 y_{0} \\left(y_{0} y_{2} + yx_{5}\\right) + y_{2} yx_{7} - y_{2} \\left(y_{0}^{2} + yx_{7}\\right) + \\frac{yx_{5}^{2}}{y_{2}} + \\frac{2 yx_{5}}{y_{0}} yx_{7} + \\frac{yx_{5}^{2} yx_{7}}{y_{0}^{2} y_{2}}\\right)\\right)\\right) \\\\\n",
        "\\dot{y_{1}} &= c_{3} y_{0} - c_{4} y_{1} \\\\\n",
        "\\dot{y_{2}} &= c_{4} y_{1} - c_{5} y_{2} \\\\\n",
        "\\dot{yx_{2}} &= c_{4} y_{1} + 2 c_{4} yx_{3} + c_{5} y_{2} - 2 c_{5} yx_{2} \\\\\n",
        "\\dot{yx_{3}} &= c_{3} yx_{5} - c_{4} y_{1} + c_{4} yx_{4} - yx_{3} \\left(c_{4} + c_{5}\\right) \\\\\n",
        "\\dot{yx_{4}} &= c_{3} y_{0} + 2 c_{3} yx_{6} + c_{4} y_{1} - 2 c_{4} yx_{4} \\\\\n",
        "\\dot{yx_{5}} &= \\frac{c_{2} c_{6} y_{2}}{c_{6}^{3} + 3 c_{6}^{2} y_{0} + 3 c_{6} y_{0}^{2} + y_{0}^{3}} \\left(3 y_{0}^{2} y_{2} + 2 y_{0} yx_{5} - 2 y_{0} \\left(y_{0} y_{2} + yx_{5}\\right) + y_{2} yx_{7} - y_{2} \\left(y_{0}^{2} + yx_{7}\\right) + \\frac{yx_{5}^{2}}{y_{2}} + \\frac{2 yx_{5}}{y_{0}} yx_{7} + \\frac{yx_{5}^{2} yx_{7}}{y_{0}^{2} y_{2}}\\right) - \\frac{c_{2} y_{0} yx_{2}}{c_{6} + y_{0}} + \\frac{c_{2}}{c_{6} + y_{0}} \\left(\\frac{y_{0}}{c_{6} + y_{0}} - 1\\right) \\left(3 y_{0} y_{2}^{2} + y_{0} yx_{2} - y_{0} \\left(y_{2}^{2} + yx_{2}\\right) + 2 y_{2} yx_{5} - 2 y_{2} \\left(y_{0} y_{2} + yx_{5}\\right) + \\frac{2 yx_{2}}{y_{2}} yx_{5} + \\frac{yx_{5}^{2}}{y_{0}} + \\frac{yx_{2} yx_{5}^{2}}{y_{0} y_{2}^{2}}\\right) + c_{4} yx_{6} - \\frac{yx_{5}}{\\left(c_{6} + y_{0}\\right)^{2}} \\left(- c_{2} c_{6} y_{2} - 2 c_{2} y_{0} y_{2} + 2 c_{2} y_{2} \\left(c_{6} + y_{0}\\right) + \\left(c_{1} + c_{5}\\right) \\left(c_{6} + y_{0}\\right)^{2}\\right) \\\\\n",
        "\\dot{yx_{6}} &= \\frac{1}{\\left(c_{6} + y_{0}\\right)^{6}} \\left(- c_{2} c_{6} \\left(c_{6} + y_{0}\\right)^{4} \\left(3 y_{0} y_{1} y_{2} + y_{0} yx_{3} - y_{0} \\left(y_{1} y_{2} + yx_{3}\\right) + y_{1} yx_{5} - y_{1} \\left(y_{0} y_{2} + yx_{5}\\right) + y_{2} yx_{6} - y_{2} \\left(y_{0} y_{1} + yx_{6}\\right) + \\frac{yx_{3} yx_{5}}{y_{2}} + \\frac{yx_{3} yx_{6}}{y_{1}} + \\frac{yx_{5} yx_{6}}{y_{0}} + \\frac{yx_{3} yx_{5} yx_{6}}{y_{0} y_{1} y_{2}}\\right) - c_{2} y_{0} yx_{3} \\left(c_{6} + y_{0}\\right)^{5} + c_{3} yx_{7} \\left(c_{6} + y_{0}\\right)^{6} + \\left(c_{6} + y_{0}\\right)^{3} \\left(c_{2} c_{6} y_{2} \\left(3 y_{0}^{2} y_{1} + 2 y_{0} yx_{6} - 2 y_{0} \\left(y_{0} y_{1} + yx_{6}\\right) + y_{1} yx_{7} - y_{1} \\left(y_{0}^{2} + yx_{7}\\right) + \\frac{yx_{6}^{2}}{y_{1}} + \\frac{2 yx_{6}}{y_{0}} yx_{7} + \\frac{yx_{6}^{2} yx_{7}}{y_{0}^{2} y_{1}}\\right) - yx_{6} \\left(- c_{2} y_{0} y_{2} \\left(c_{6} + y_{0}\\right) + c_{2} y_{2} \\left(c_{6} + y_{0}\\right)^{2} + \\left(c_{1} + c_{4}\\right) \\left(c_{6} + y_{0}\\right)^{3}\\right)\\right)\\right) \\\\\n",
        "\\dot{yx_{7}} &= \\frac{c_{2} c_{6} y_{2} \\left(2 c_{6} + 2 y_{0} + 1\\right) \\left(3 y_{0}^{3} + 3 y_{0} yx_{7} - 3 y_{0} \\left(y_{0}^{2} + yx_{7}\\right) + \\frac{3 yx_{7}^{2}}{y_{0}} + \\frac{yx_{7}^{3}}{y_{0}^{3}}\\right)}{c_{6}^{4} + 4 c_{6}^{3} y_{0} + 6 c_{6}^{2} y_{0}^{2} + 4 c_{6} y_{0}^{3} + y_{0}^{4}} - \\frac{c_{2} c_{6}}{- c_{6}^{3} - 3 c_{6}^{2} y_{0} - 3 c_{6} y_{0}^{2} - y_{0}^{3}} \\left(- 2 c_{6} - 2 y_{0} - 1\\right) \\left(3 y_{0}^{2} y_{2} + 2 y_{0} yx_{5} - 2 y_{0} \\left(y_{0} y_{2} + yx_{5}\\right) + y_{2} yx_{7} - y_{2} \\left(y_{0}^{2} + yx_{7}\\right) + \\frac{yx_{5}^{2}}{y_{2}} + \\frac{2 yx_{5}}{y_{0}} yx_{7} + \\frac{yx_{5}^{2} yx_{7}}{y_{0}^{2} y_{2}}\\right) + \\frac{c_{2} yx_{5} \\left(- 2 c_{6} y_{0} + c_{6} - 2 y_{0}^{2}\\right)}{c_{6}^{2} + 2 c_{6} y_{0} + y_{0}^{2}} + \\frac{yx_{7}}{- c_{6}^{3} - 3 c_{6}^{2} y_{0} - 3 c_{6} y_{0}^{2} - y_{0}^{3}} \\left(2 c_{1} c_{6}^{3} + 6 c_{1} c_{6}^{2} y_{0} + 6 c_{1} c_{6} y_{0}^{2} + 2 c_{1} y_{0}^{3} + 2 c_{2} c_{6}^{2} y_{2} + 2 c_{2} c_{6} y_{0} y_{2} + c_{2} c_{6} y_{2}\\right) + \\frac{1}{c_{6} + y_{0}} \\left(c_{0} c_{6} + c_{0} y_{0} + c_{1} c_{6} y_{0} + c_{1} y_{0}^{2} + c_{2} y_{0} y_{2}\\right) \\\\\n",
        "\\end{align*}"
       ],
       "metadata": {},
       "output_type": "pyout",
       "prompt_number": 39,
       "text": [
        "<class 'means.approximation.ode_problem.ODEProblem'>\n",
        "Method: 'MEA'\n",
        "Constants: [c_0, c_1, c_2, c_3, c_4, c_5, c_6]\n",
        "\n",
        "Equations:\n",
        "\n",
        "Moment(array([1, 0, 0]), symbol=y_0):\n",
        "    (-c_2*c_6*y_2*(c_6 + y_0)**6*(3*y_0**3 + 3*y_0*yx7 - 3*y_0*(y_0**2 + yx7) + 3*yx7**2/y_0 + yx7**3/y_0**3) - c_2*c_6*yx5*(c_6 + y_0)**8 - c_2*y_0*y_2*(c_6 + y_0)**9 + (c_0 - c_1*y_0)*(c_6 + y_0)**10 + (c_6 + y_0)**7*(c_2*c_6*y_2*yx7 + c_2*c_6*(3*y_0**2*y_2 + 2*y_0*yx5 - 2*y_0*(y_0*y_2 + yx5) + y_2*yx7 - y_2*(y_0**2 + yx7) + yx5**2/y_2 + 2*yx5*yx7/y_0 + yx5**2*yx7/(y_0**2*y_2))))/(c_6 + y_0)**10\n",
        "\n",
        "Moment(array([0, 1, 0]), symbol=y_1):\n",
        "    c_3*y_0 - c_4*y_1\n",
        "\n",
        "Moment(array([0, 0, 1]), symbol=y_2):\n",
        "    c_4*y_1 - c_5*y_2\n",
        "\n",
        "Moment(array([0, 0, 2]), symbol=yx2):\n",
        "    c_4*y_1 + 2*c_4*yx3 + c_5*y_2 - 2*c_5*yx2\n",
        "\n",
        "Moment(array([0, 1, 1]), symbol=yx3):\n",
        "    c_3*yx5 - c_4*y_1 + c_4*yx4 - yx3*(c_4 + c_5)\n",
        "\n",
        "Moment(array([0, 2, 0]), symbol=yx4):\n",
        "    c_3*y_0 + 2*c_3*yx6 + c_4*y_1 - 2*c_4*yx4\n",
        "\n",
        "Moment(array([1, 0, 1]), symbol=yx5):\n",
        "    c_2*c_6*y_2*(3*y_0**2*y_2 + 2*y_0*yx5 - 2*y_0*(y_0*y_2 + yx5) + y_2*yx7 - y_2*(y_0**2 + yx7) + yx5**2/y_2 + 2*yx5*yx7/y_0 + yx5**2*yx7/(y_0**2*y_2))/(c_6**3 + 3*c_6**2*y_0 + 3*c_6*y_0**2 + y_0**3) - c_2*y_0*yx2/(c_6 + y_0) + c_2*(y_0/(c_6 + y_0) - 1)*(3*y_0*y_2**2 + y_0*yx2 - y_0*(y_2**2 + yx2) + 2*y_2*yx5 - 2*y_2*(y_0*y_2 + yx5) + 2*yx2*yx5/y_2 + yx5**2/y_0 + yx2*yx5**2/(y_0*y_2**2))/(c_6 + y_0) + c_4*yx6 - yx5*(-c_2*c_6*y_2 - 2*c_2*y_0*y_2 + 2*c_2*y_2*(c_6 + y_0) + (c_1 + c_5)*(c_6 + y_0)**2)/(c_6 + y_0)**2\n",
        "\n",
        "Moment(array([1, 1, 0]), symbol=yx6):\n",
        "    (-c_2*c_6*(c_6 + y_0)**4*(3*y_0*y_1*y_2 + y_0*yx3 - y_0*(y_1*y_2 + yx3) + y_1*yx5 - y_1*(y_0*y_2 + yx5) + y_2*yx6 - y_2*(y_0*y_1 + yx6) + yx3*yx5/y_2 + yx3*yx6/y_1 + yx5*yx6/y_0 + yx3*yx5*yx6/(y_0*y_1*y_2)) - c_2*y_0*yx3*(c_6 + y_0)**5 + c_3*yx7*(c_6 + y_0)**6 + (c_6 + y_0)**3*(c_2*c_6*y_2*(3*y_0**2*y_1 + 2*y_0*yx6 - 2*y_0*(y_0*y_1 + yx6) + y_1*yx7 - y_1*(y_0**2 + yx7) + yx6**2/y_1 + 2*yx6*yx7/y_0 + yx6**2*yx7/(y_0**2*y_1)) - yx6*(-c_2*y_0*y_2*(c_6 + y_0) + c_2*y_2*(c_6 + y_0)**2 + (c_1 + c_4)*(c_6 + y_0)**3)))/(c_6 + y_0)**6\n",
        "\n",
        "Moment(array([2, 0, 0]), symbol=yx7):\n",
        "    c_2*c_6*y_2*(2*c_6 + 2*y_0 + 1)*(3*y_0**3 + 3*y_0*yx7 - 3*y_0*(y_0**2 + yx7) + 3*yx7**2/y_0 + yx7**3/y_0**3)/(c_6**4 + 4*c_6**3*y_0 + 6*c_6**2*y_0**2 + 4*c_6*y_0**3 + y_0**4) - c_2*c_6*(-2*c_6 - 2*y_0 - 1)*(3*y_0**2*y_2 + 2*y_0*yx5 - 2*y_0*(y_0*y_2 + yx5) + y_2*yx7 - y_2*(y_0**2 + yx7) + yx5**2/y_2 + 2*yx5*yx7/y_0 + yx5**2*yx7/(y_0**2*y_2))/(-c_6**3 - 3*c_6**2*y_0 - 3*c_6*y_0**2 - y_0**3) + c_2*yx5*(-2*c_6*y_0 + c_6 - 2*y_0**2)/(c_6**2 + 2*c_6*y_0 + y_0**2) + yx7*(2*c_1*c_6**3 + 6*c_1*c_6**2*y_0 + 6*c_1*c_6*y_0**2 + 2*c_1*y_0**3 + 2*c_2*c_6**2*y_2 + 2*c_2*c_6*y_0*y_2 + c_2*c_6*y_2)/(-c_6**3 - 3*c_6**2*y_0 - 3*c_6*y_0**2 - y_0**3) + (c_0*c_6 + c_0*y_0 + c_1*c_6*y_0 + c_1*y_0**2 + c_2*y_0*y_2)/(c_6 + y_0)\n"
       ]
      }
     ],
     "prompt_number": 39
    },
    {
     "cell_type": "code",
     "collapsed": false,
     "input": [
      "def run_solver(solver_name, *args, **kwargs):\n",
      "    print \"> Running solver {0!r}\".format(solver_name)\n",
      "    solver = means.simulation.Simulation(problem_sympy, solver=solver_name, *args, **kwargs)\n",
      "    trajectories = None\n",
      "    try:\n",
      "        trajectories = solver.simulate_system(constant_values, initial_conditions, timepoints)\n",
      "    except Exception as e:\n",
      "        traceback.print_exc()\n",
      "        return\n",
      "    \n",
      "    plt.figure()\n",
      "    for trajectory in trajectories:\n",
      "        if not isinstance(trajectory.description, means.approximation.ode_problem.Moment) or trajectory.description.order != 1:\n",
      "            continue\n",
      "        trajectory.plot()\n",
      "    plt.title(solver_name)\n",
      "    plt.legend()        "
     ],
     "language": "python",
     "metadata": {},
     "outputs": [],
     "prompt_number": 53
    },
    {
     "cell_type": "code",
     "collapsed": false,
     "input": [
      "supported_solvers = means.simulation.Simulation.supported_solvers()\n",
      "supported_solvers"
     ],
     "language": "python",
     "metadata": {},
     "outputs": [
      {
       "metadata": {},
       "output_type": "pyout",
       "prompt_number": 54,
       "text": [
        "['cvode',\n",
        " 'dopri5',\n",
        " 'euler',\n",
        " 'lsodar',\n",
        " 'radau5',\n",
        " 'rodas',\n",
        " 'rungekutta34',\n",
        " 'rungekutta4']"
       ]
      }
     ],
     "prompt_number": 54
    },
    {
     "cell_type": "code",
     "collapsed": false,
     "input": [
      "run_solver('cvode')"
     ],
     "language": "python",
     "metadata": {},
     "outputs": [
      {
       "output_type": "stream",
       "stream": "stdout",
       "text": [
        "> Running solver 'cvode'\n",
        "[CVode Warning] Internal t = 17.3566 and h = 5.35657e-16 are such that t + h = t on the next step. The solver will continue anyway.\n",
        "[CVode Warning] Internal t = 17.3566 and h = 5.35657e-16 are such that t + h = t on the next step. The solver will continue anyway.\n",
        "[CVode Warning] Internal t = 17.3566 and h = 9.62e-16 are such that t + h = t on the next step. The solver will continue anyway.\n",
        "[CVode Warning] Internal t = 17.3566 and h = 3.74772e-16 are such that t + h = t on the next step. The solver will continue anyway.\n",
        "[CVode Warning] Internal t = 17.3566 and h = 3.74772e-16 are such that t + h = t on the next step. The solver will continue anyway.\n",
        "[CVode Warning] Internal t = 17.3566 and h = 9.36929e-17 are such that t + h = t on the next step. The solver will continue anyway.\n",
        "[CVode Warning] Internal t = 17.3566 and h = 9.36929e-17 are such that t + h = t on the next step. The solver will continue anyway.\n",
        "[CVode Warning] Internal t = 17.3566 and h = 1.50317e-16 are such that t + h = t on the next step. The solver will continue anyway.\n",
        "[CVode Warning] Internal t = 17.3566 and h = 9.89957e-17 are such that t + h = t on the next step. The solver will continue anyway.\n",
        "[CVode Warning] Internal t = 17.3566 and h = 6.70822e-17 are such that t + h = t on the next step. The solver will continue anyway.\n",
        "[CVode Warning] The above warning has been issued mxhnil times and will not be issued again for this problem.\n"
       ]
      },
      {
       "metadata": {},
       "output_type": "display_data",
       "png": "[encoded data removed]",
       "text": [
        "<matplotlib.figure.Figure at 0x10c213790>"
       ]
      }
     ],
     "prompt_number": 55
    },
    {
     "cell_type": "code",
     "collapsed": false,
     "input": [
      "run_solver('rodas')"
     ],
     "language": "python",
     "metadata": {},
     "outputs": [
      {
       "output_type": "stream",
       "stream": "stdout",
       "text": [
        "> Running solver 'rodas'\n"
       ]
      },
      {
       "output_type": "stream",
       "stream": "stderr",
       "text": [
        "Traceback (most recent call last):\n",
        "  File \"<ipython-input-53-c2c655494f81>\", line 6, in run_solver\n",
        "    trajectories = solver.simulate_system(constant_values, initial_conditions, timepoints)\n",
        "  File \"/Users/saulius/dev/coursework/MScProj1/src/means/simulation/simulate.py\", line 153, in simulate_system\n",
        "    trajectories = solver.simulate(timepoints)\n",
        "  File \"/Users/saulius/dev/coursework/MScProj1/src/means/simulation/solvers.py\", line 117, in simulate\n",
        "    simulated_timepoints, simulated_values = solver.simulate(last_timepoint, ncp_list=timepoints)\n",
        "  File \"ode.pyx\", line 130, in assimulo.ode.ODE.simulate (assimulo/ode.c:4551)\n",
        "  File \"ode.pyx\", line 242, in assimulo.ode.ODE.simulate (assimulo/ode.c:4145)\n",
        "  File \"explicit_ode.pyx\", line 98, in assimulo.explicit_ode.Explicit_ODE._simulate (assimulo/explicit_ode.c:3684)\n",
        "  File \"explicit_ode.pyx\", line 168, in assimulo.explicit_ode.Explicit_ODE._simulate (assimulo/explicit_ode.c:2851)\n",
        "  File \"/Users/saulius/.virtualenvs/msc-proj/lib/python2.7/site-packages/assimulo/solvers/rosenbrock.py\", line 423, in integrate\n",
        "    raise Exception(\"Rodas failed with flag %d\"%flag)\n",
        "Exception: Rodas failed with flag -3\n"
       ]
      }
     ],
     "prompt_number": 56
    },
    {
     "cell_type": "code",
     "collapsed": false,
     "input": [
      "run_solver('lsodar')"
     ],
     "language": "python",
     "metadata": {},
     "outputs": [
      {
       "output_type": "stream",
       "stream": "stdout",
       "text": [
        "> Running solver 'lsodar'\n"
       ]
      },
      {
       "output_type": "stream",
       "stream": "stderr",
       "text": [
        "Traceback (most recent call last):\n",
        "  File \"<ipython-input-53-c2c655494f81>\", line 6, in run_solver\n",
        "    trajectories = solver.simulate_system(constant_values, initial_conditions, timepoints)\n",
        "  File \"/Users/saulius/dev/coursework/MScProj1/src/means/simulation/simulate.py\", line 153, in simulate_system\n",
        "    trajectories = solver.simulate(timepoints)\n",
        "  File \"/Users/saulius/dev/coursework/MScProj1/src/means/simulation/solvers.py\", line 117, in simulate\n",
        "    simulated_timepoints, simulated_values = solver.simulate(last_timepoint, ncp_list=timepoints)\n",
        "  File \"ode.pyx\", line 130, in assimulo.ode.ODE.simulate (assimulo/ode.c:4551)\n",
        "  File \"ode.pyx\", line 242, in assimulo.ode.ODE.simulate (assimulo/ode.c:4145)\n",
        "  File \"explicit_ode.pyx\", line 98, in assimulo.explicit_ode.Explicit_ODE._simulate (assimulo/explicit_ode.c:3684)\n",
        "  File \"explicit_ode.pyx\", line 168, in assimulo.explicit_ode.Explicit_ODE._simulate (assimulo/explicit_ode.c:2851)\n",
        "  File \"/Users/saulius/.virtualenvs/msc-proj/lib/python2.7/site-packages/assimulo/solvers/odepack.py\", line 308, in integrate\n",
        "    raise ODEPACK_Exception(\"LSODAR failed with flag %d\"%ISTATE)\n",
        "ODEPACK_Exception: LSODAR failed with flag -5\n"
       ]
      }
     ],
     "prompt_number": 59
    },
    {
     "cell_type": "code",
     "collapsed": false,
     "input": [],
     "language": "python",
     "metadata": {},
     "outputs": [],
     "prompt_number": 40
    },
    {
     "cell_type": "code",
     "collapsed": false,
     "input": [],
     "language": "python",
     "metadata": {},
     "outputs": [],
     "prompt_number": 40
    },
    {
     "cell_type": "code",
     "collapsed": false,
     "input": [
      "plt.close()"
     ],
     "language": "python",
     "metadata": {},
     "outputs": [],
     "prompt_number": 41
    }
   ],
   "metadata": {}
  }
 ]
}
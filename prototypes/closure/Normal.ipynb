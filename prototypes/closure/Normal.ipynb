{
 "metadata": {
  "name": ""
 },
 "nbformat": 3,
 "nbformat_minor": 0,
 "worksheets": [
  {
   "cells": [
    {
     "cell_type": "code",
     "collapsed": false,
     "input": [
      "import sympy as sp\n",
      "from sympy import Symbol \n",
      "import itertools\n",
      "import operator"
     ],
     "language": "python",
     "metadata": {},
     "outputs": [],
     "prompt_number": 7
    },
    {
     "cell_type": "code",
     "collapsed": false,
     "input": [
      "def substitute_all(expr, pairs):\n",
      "    out = expr\n",
      "    for (a,b) in pairs:\n",
      "        out = sympy.Subs(out, a, b)\n",
      "    to_ret = out.doit()\n",
      "    return to_ret\n",
      "import copy\n",
      "def partition(k,accum,index,arr):\n",
      "    if index == len(arr):\n",
      "        if(k==0):\n",
      "            return accum;\n",
      "        else:\n",
      "            return [];\n",
      "\n",
      "    element = arr[index];\n",
      "    result = []\n",
      "\n",
      "    for set_i in range(len(accum)):\n",
      "        clone_new = copy.deepcopy(accum);\n",
      "        print 'accum', accum\n",
      "        clone_new[set_i].append([element]);\n",
      "        result.extend(partition(k-1,clone_new,index+1,arr) );\n",
      "            \n",
      "        for elem_i in range(len(accum[set_i])):\n",
      "\n",
      "            clone_new = copy.deepcopy(accum);\n",
      "            print 'deepcopy accum',accum\n",
      "            print \">>>>>>>>>\"\n",
      "            clone_new[set_i][elem_i].append(element)\n",
      "            result.extend( partition(k,clone_new,index+1,arr) );\n",
      "            \n",
      "    return [row for row in result if len(row[0]) ==2]"
     ],
     "language": "python",
     "metadata": {},
     "outputs": [],
     "prompt_number": 8
    },
    {
     "cell_type": "code",
     "collapsed": false,
     "input": [
      "sigma = sp.Matrix([[sp.Symbol('ym20'),sp.Symbol('ym11')],[sp.Symbol('ym11'),sp.Symbol('ym02')]])\n",
      "gcounter = sp.Matrix([[ 0 ,    2], [ 1  ,   1],[ 2   ,  0],[ 0,    3],[ 1  ,   2],[ 2 ,    1],[ 3  ,   0],[ 0   ,  4],[ 1    , 3],[ 2,     2],\n",
      "              [ 3 ,    1],[ 4  ,   0],[ 0   ,  5],[ 1    , 4],[ 2 ,    3],[ 3  ,   2],[ 4   ,  1],[ 5    , 0]])"
     ],
     "language": "python",
     "metadata": {},
     "outputs": [],
     "prompt_number": 9
    },
    {
     "cell_type": "code",
     "collapsed": false,
     "input": [
      "#get the variances\n",
      "\n"
     ],
     "language": "python",
     "metadata": {},
     "outputs": [],
     "prompt_number": 4
    }
   ],
   "metadata": {}
  }
 ]
}
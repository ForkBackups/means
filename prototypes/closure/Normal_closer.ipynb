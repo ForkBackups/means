{
 "metadata": {
  "name": ""
 },
 "nbformat": 3,
 "nbformat_minor": 0,
 "worksheets": [
  {
   "cells": [
    {
     "cell_type": "code",
     "collapsed": false,
     "input": [
      "import sympy as sp\n",
      "import copy\n",
      "import operator"
     ],
     "language": "python",
     "metadata": {},
     "outputs": [],
     "prompt_number": 1
    },
    {
     "cell_type": "code",
     "collapsed": false,
     "input": [
      "#get the partitions\n",
      "def partition(k,accum,index,arr):\n",
      "    if index == len(arr):\n",
      "        if(k==0):\n",
      "            return accum\n",
      "        else:\n",
      "            return []\n",
      "\n",
      "    element = arr[index]\n",
      "    result = []\n",
      "\n",
      "    for set_i in range(len(accum)):\n",
      "        clone_new = copy.deepcopy(accum);\n",
      "        #print 'accum', accum\n",
      "        clone_new[set_i].append([element]);\n",
      "        result.extend(partition(k-1,clone_new,index+1,arr) )\n",
      "            \n",
      "        for elem_i in range(len(accum[set_i])):\n",
      "\n",
      "            clone_new = copy.deepcopy(accum);\n",
      "            clone_new[set_i][elem_i].append(element)\n",
      "            result.extend( partition(k,clone_new,index+1,arr) )\n",
      "            \n",
      "    return [row for row in result if len(row[0]) ==2]\n",
      "print partition(2,[[]],0,[1,2])"
     ],
     "language": "python",
     "metadata": {},
     "outputs": [
      {
       "output_type": "stream",
       "stream": "stdout",
       "text": [
        "[]\n"
       ]
      }
     ],
     "prompt_number": 2
    },
    {
     "cell_type": "code",
     "collapsed": false,
     "input": [
      "n_species = 2\n",
      "n_counter = [\n",
      "    [ 0 ,    2],\n",
      "     [1  ,   1],\n",
      "    [ 2   ,  0],\n",
      "    [ 0,    3],\n",
      "    [ 1  ,   2],\n",
      "    [ 2 ,    1],\n",
      "    [ 3  ,   0],\n",
      "    [ 0   ,  4],\n",
      "    [ 1    , 3],\n",
      "    [ 2,     2],\n",
      "    [ 3 ,    1],\n",
      "    [ 4  ,   0],\n",
      "    [ 0   ,  5],\n",
      "    [ 1    , 4],\n",
      "    [ 2 ,    3],\n",
      "    [ 3  ,   2],\n",
      "    [ 4   ,  1],\n",
      "    [ 5    , 0]]\n"
     ],
     "language": "python",
     "metadata": {},
     "outputs": [],
     "prompt_number": 3
    },
    {
     "cell_type": "code",
     "collapsed": false,
     "input": [
      "variance_symbols = [[sp.Symbol('ym20'),sp.Symbol('ym11')],[sp.Symbol('ym11'),sp.Symbol('ym02')]]\n",
      "out_mat = []\n",
      "\n",
      "for n in n_counter:\n",
      "    n_order = sum(n)\n",
      "    if n_order % 2 != 0:\n",
      "        out_mat.append([0])\n",
      "\n",
      "    else:\n",
      "        list_for_partition = []\n",
      "\n",
      "        for i,e in enumerate(n):\n",
      "            list_for_partition.extend([i for n_times in range(e)])\n",
      "        \n",
      "        # retrieve the items based on the indeces pairs and add the partitions\n",
      "\n",
      "        idx = partition(2,[[]],0,list_for_partition)\n",
      "        if n_order == 2:\n",
      "            each_row = [variance_symbols[list_for_partition[0]][list_for_partition[1]]]\n",
      "        else:\n",
      "            each_row = []\n",
      "            for idx_pairs in idx:\n",
      "                l = [variance_symbols[i[0]][i[1]] for i in idx_pairs]\n",
      "                row_elements = reduce(operator.mul,l)\n",
      "                each_row.append(row_elements)\n",
      "        out_mat.append(sum(each_row))\n",
      "\n",
      "for row in out_mat:\n",
      "    print row"
     ],
     "language": "python",
     "metadata": {},
     "outputs": [
      {
       "output_type": "stream",
       "stream": "stdout",
       "text": [
        "ym02\n",
        "ym11\n",
        "ym20\n",
        "[0]\n",
        "[0]\n",
        "[0]\n",
        "[0]\n",
        "3*ym02**2\n",
        "3*ym02*ym11\n",
        "ym02*ym20 + 2*ym11**2\n",
        "3*ym11*ym20\n",
        "3*ym20**2\n",
        "[0]\n",
        "[0]\n",
        "[0]\n",
        "[0]\n",
        "[0]\n",
        "[0]\n"
       ]
      }
     ],
     "prompt_number": 16
    },
    {
     "cell_type": "code",
     "collapsed": false,
     "input": [],
     "language": "python",
     "metadata": {},
     "outputs": []
    }
   ],
   "metadata": {}
  }
 ]
}
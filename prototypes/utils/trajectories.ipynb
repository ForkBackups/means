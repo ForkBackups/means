{
 "metadata": {
  "name": ""
 },
 "nbformat": 3,
 "nbformat_minor": 0,
 "worksheets": [
  {
   "cells": [
    {
     "cell_type": "code",
     "collapsed": false,
     "input": [
      "from means.simulation.trajectory import Trajectory, TrajectoryWithSensitivityData\n",
      "from means.core.descriptors import Moment\n",
      "import numpy as np\n",
      "import operator"
     ],
     "language": "python",
     "metadata": {},
     "outputs": [],
     "prompt_number": 24
    },
    {
     "cell_type": "code",
     "collapsed": false,
     "input": [
      "# to make brownian like trajectories\n",
      "def random_trajectory(n_time_points=100, sensitivity=False):\n",
      "    if not sensitivity:\n",
      "        t = np.arange(0,n_time_points)\n",
      "        # brownian trajectory:\n",
      "        values = np.cumsum(np.random.normal(0.1,1,len(t))) +100\n",
      "        #return Trajectory(t, values, \"t1\")\n",
      "        return Trajectory(t, values, Moment([0,1],\"t1\"))\n",
      "    else:\n",
      "        t = np.arange(0,n_time_points)\n",
      "        # brownian trajectory:\n",
      "        values = np.cumsum(np.random.normal(0.1,1,len(t))) +100\n",
      "        sensit_data = [random_trajectory(100) for _ in range(3)]\n",
      "        \n",
      "        return TrajectoryWithSensitivityData(t, values, \"t1\", sensit_data)"
     ],
     "language": "python",
     "metadata": {},
     "outputs": [],
     "prompt_number": 25
    },
    {
     "cell_type": "code",
     "collapsed": false,
     "input": [
      "print random_trajectory(100)\n",
      "print random_trajectory(3)"
     ],
     "language": "python",
     "metadata": {},
     "outputs": [
      {
       "output_type": "stream",
       "stream": "stdout",
       "text": [
        "Trajectory object\n",
        "description: 0, 1\n",
        "time points: [0.0, 1.0, 2.0, 3.0, ...,96.0, 97.0, 98.0, 99.0]\n",
        "values: [98.594, 98.787, 98.845, 98.574, ...,100.51, 99.262, 99.077, 98.633]\n",
        "Trajectory object\n",
        "description: 0, 1\n",
        "time points: [0.0, 1.0, 2.0]\n",
        "values: [99.168, 99.632, 98.604]\n"
       ]
      }
     ],
     "prompt_number": 26
    },
    {
     "cell_type": "code",
     "collapsed": false,
     "input": [
      "# we make a few trajectories\n",
      "trajectories = [random_trajectory() for _ in range(10)]\n",
      "\n",
      "# test operators:\n",
      "arithmetic_mean = sum(trajectories) / float(len(trajectories))\n",
      "geometric_mean = reduce(operator.mul, trajectories) ** (1/ float(len(trajectories)))\n",
      "\n",
      "# cannot do this :(\n",
      "#harmonic_mean = float(len(trajectories)) / sum([ 1.0 /tr for tr in trajectories])\n",
      "# workaround:\n",
      "harmonic_mean = (sum([ tr ** (-1.0) for tr in trajectories]) ** (-1.0)) * float(len(trajectories))\n"
     ],
     "language": "python",
     "metadata": {},
     "outputs": [],
     "prompt_number": 27
    },
    {
     "cell_type": "code",
     "collapsed": false,
     "input": [
      "import pylab as pl\n",
      "\n",
      "pl.figure()\n",
      "for tr in trajectories:\n",
      "    tr.plot(linestyle= \"--\")\n",
      "arithmetic_mean.plot(linewidth=3, color=\"r\") \n",
      "geometric_mean.plot(linewidth=3, color=\"b\")\n",
      "harmonic_mean.plot(linewidth=3, color=\"g\")\n",
      "pl.show()\n"
     ],
     "language": "python",
     "metadata": {},
     "outputs": [],
     "prompt_number": 28
    },
    {
     "cell_type": "code",
     "collapsed": false,
     "input": [
      "# test interpolation:\n",
      "orig_trajec = random_trajectory(100, sensitivity=False)\n",
      "short_trajec = orig_trajec.resample(np.arange(0,100,5))\n",
      "long_trajec = orig_trajec.resample(np.arange(0,99,.1))\n",
      "out_range_trajec = orig_trajec.resample(np.arange(0,120,.1), extrapolate=True)\n"
     ],
     "language": "python",
     "metadata": {},
     "outputs": [],
     "prompt_number": 29
    },
    {
     "cell_type": "code",
     "collapsed": false,
     "input": [
      "# we make a few trajectories\n",
      "trajectories_with_sens = [random_trajectory(sensitivity=True) for _ in range(10)]\n",
      "print trajectories_with_sens[0]\n",
      "# test operators:\n",
      "arithmetic_mean = sum(trajectories_with_sens) / float(len(trajectories_with_sens))\n",
      "geometric_mean = reduce(operator.mul, trajectories_with_sens) ** (1/ float(len(trajectories_with_sens)))\n",
      "\n",
      "# cannot do this :(\n",
      "#harmonic_mean = float(len(trajectories)) / sum([ 1.0 /tr for tr in trajectories])\n",
      "# workaround:\n",
      "harmonic_mean = (sum([ tr ** (-1.0) for tr in trajectories_with_sens]) ** (-1.0)) * float(len(trajectories_with_sens))\n"
     ],
     "language": "python",
     "metadata": {},
     "outputs": [
      {
       "output_type": "stream",
       "stream": "stdout",
       "text": [
        "TrajectoryWithSensitivityData object\n",
        "description: t1\n",
        "time points: [0.0, 1.0, 2.0, 3.0, ...,96.0, 97.0, 98.0, 99.0]\n",
        "values: [100.181, 98.433, 98.476, 98.088, ...,123.716, 123.223, 122.143, 122.177]\n"
       ]
      }
     ],
     "prompt_number": 30
    },
    {
     "cell_type": "code",
     "collapsed": false,
     "input": [
      "import pylab as pl\n",
      "\n",
      "pl.figure()\n",
      "for tr in trajectories_with_sens:\n",
      "    tr.plot(linestyle= \"--\")\n",
      "arithmetic_mean.plot_perturbations(\"t1\",linewidth=3, color=\"r\") \n",
      "geometric_mean.plot_perturbations(\"t1\",linewidth=3, color=\"b\")\n",
      "harmonic_mean.plot_perturbations(\"t1\",linewidth=3, color=\"g\")\n",
      "pl.show()"
     ],
     "language": "python",
     "metadata": {},
     "outputs": [
      {
       "ename": "AttributeError",
       "evalue": "'Moment' object has no attribute 'parameter'",
       "output_type": "pyerr",
       "traceback": [
        "\u001b[1;31m---------------------------------------------------------------------------\u001b[0m\n\u001b[1;31mAttributeError\u001b[0m                            Traceback (most recent call last)",
        "\u001b[1;32m<ipython-input-32-b6523c497ec7>\u001b[0m in \u001b[0;36m<module>\u001b[1;34m()\u001b[0m\n\u001b[0;32m      4\u001b[0m \u001b[1;32mfor\u001b[0m \u001b[0mtr\u001b[0m \u001b[1;32min\u001b[0m \u001b[0mtrajectories_with_sens\u001b[0m\u001b[1;33m:\u001b[0m\u001b[1;33m\u001b[0m\u001b[0m\n\u001b[0;32m      5\u001b[0m     \u001b[0mtr\u001b[0m\u001b[1;33m.\u001b[0m\u001b[0mplot\u001b[0m\u001b[1;33m(\u001b[0m\u001b[0mlinestyle\u001b[0m\u001b[1;33m=\u001b[0m \u001b[1;34m\"--\"\u001b[0m\u001b[1;33m)\u001b[0m\u001b[1;33m\u001b[0m\u001b[0m\n\u001b[1;32m----> 6\u001b[1;33m \u001b[0marithmetic_mean\u001b[0m\u001b[1;33m.\u001b[0m\u001b[0mplot_perturbations\u001b[0m\u001b[1;33m(\u001b[0m\u001b[1;34m\"t1\"\u001b[0m\u001b[1;33m,\u001b[0m\u001b[0mlinewidth\u001b[0m\u001b[1;33m=\u001b[0m\u001b[1;36m3\u001b[0m\u001b[1;33m,\u001b[0m \u001b[0mcolor\u001b[0m\u001b[1;33m=\u001b[0m\u001b[1;34m\"r\"\u001b[0m\u001b[1;33m)\u001b[0m\u001b[1;33m\u001b[0m\u001b[0m\n\u001b[0m\u001b[0;32m      7\u001b[0m \u001b[0mgeometric_mean\u001b[0m\u001b[1;33m.\u001b[0m\u001b[0mplot_perturbations\u001b[0m\u001b[1;33m(\u001b[0m\u001b[1;34m\"t1\"\u001b[0m\u001b[1;33m,\u001b[0m\u001b[0mlinewidth\u001b[0m\u001b[1;33m=\u001b[0m\u001b[1;36m3\u001b[0m\u001b[1;33m,\u001b[0m \u001b[0mcolor\u001b[0m\u001b[1;33m=\u001b[0m\u001b[1;34m\"b\"\u001b[0m\u001b[1;33m)\u001b[0m\u001b[1;33m\u001b[0m\u001b[0m\n\u001b[0;32m      8\u001b[0m \u001b[0mharmonic_mean\u001b[0m\u001b[1;33m.\u001b[0m\u001b[0mplot_perturbations\u001b[0m\u001b[1;33m(\u001b[0m\u001b[1;34m\"t1\"\u001b[0m\u001b[1;33m,\u001b[0m\u001b[0mlinewidth\u001b[0m\u001b[1;33m=\u001b[0m\u001b[1;36m3\u001b[0m\u001b[1;33m,\u001b[0m \u001b[0mcolor\u001b[0m\u001b[1;33m=\u001b[0m\u001b[1;34m\"g\"\u001b[0m\u001b[1;33m)\u001b[0m\u001b[1;33m\u001b[0m\u001b[0m\n",
        "\u001b[1;32m/home/quentin/comput/means-git/src/means/simulation/trajectory.py\u001b[0m in \u001b[0;36mplot_perturbations\u001b[1;34m(self, parameter, delta, *args, **kwargs)\u001b[0m\n\u001b[0;32m    210\u001b[0m         \u001b[0malpha\u001b[0m \u001b[1;33m=\u001b[0m \u001b[0mkwargs\u001b[0m\u001b[1;33m.\u001b[0m\u001b[0mpop\u001b[0m\u001b[1;33m(\u001b[0m\u001b[1;34m'alpha'\u001b[0m\u001b[1;33m,\u001b[0m \u001b[1;36m0.1\u001b[0m\u001b[1;33m)\u001b[0m\u001b[1;33m\u001b[0m\u001b[0m\n\u001b[0;32m    211\u001b[0m         \u001b[1;32mfor\u001b[0m \u001b[0msensitivity_trajectory\u001b[0m \u001b[1;32min\u001b[0m \u001b[0mself\u001b[0m\u001b[1;33m.\u001b[0m\u001b[0msensitivity_data\u001b[0m\u001b[1;33m:\u001b[0m\u001b[1;33m\u001b[0m\u001b[0m\n\u001b[1;32m--> 212\u001b[1;33m             \u001b[0mdescription_parameter\u001b[0m \u001b[1;33m=\u001b[0m \u001b[0msensitivity_trajectory\u001b[0m\u001b[1;33m.\u001b[0m\u001b[0mdescription\u001b[0m\u001b[1;33m.\u001b[0m\u001b[0mparameter\u001b[0m\u001b[1;33m\u001b[0m\u001b[0m\n\u001b[0m\u001b[0;32m    213\u001b[0m             \u001b[1;31m# Compare them as strings so it is easier to pass it in\u001b[0m\u001b[1;33m\u001b[0m\u001b[1;33m\u001b[0m\u001b[0m\n\u001b[0;32m    214\u001b[0m             \u001b[1;32mif\u001b[0m \u001b[0mstr\u001b[0m\u001b[1;33m(\u001b[0m\u001b[0msensitivity_trajectory\u001b[0m\u001b[1;33m.\u001b[0m\u001b[0mdescription\u001b[0m\u001b[1;33m.\u001b[0m\u001b[0mparameter\u001b[0m\u001b[1;33m)\u001b[0m \u001b[1;33m!=\u001b[0m \u001b[0mstr\u001b[0m\u001b[1;33m(\u001b[0m\u001b[0mparameter\u001b[0m\u001b[1;33m)\u001b[0m\u001b[1;33m:\u001b[0m\u001b[1;33m\u001b[0m\u001b[0m\n",
        "\u001b[1;31mAttributeError\u001b[0m: 'Moment' object has no attribute 'parameter'"
       ]
      }
     ],
     "prompt_number": 32
    },
    {
     "cell_type": "code",
     "collapsed": false,
     "input": [],
     "language": "python",
     "metadata": {},
     "outputs": []
    }
   ],
   "metadata": {}
  }
 ]
}
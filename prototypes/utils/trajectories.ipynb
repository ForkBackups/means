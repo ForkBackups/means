{
 "metadata": {
  "name": ""
 },
 "nbformat": 3,
 "nbformat_minor": 0,
 "worksheets": [
  {
   "cells": [
    {
     "cell_type": "code",
     "collapsed": false,
     "input": [
      "from means.simulation.trajectory import Trajectory\n",
      "import numpy as np\n",
      "import operator"
     ],
     "language": "python",
     "metadata": {},
     "outputs": [],
     "prompt_number": 1
    },
    {
     "cell_type": "code",
     "collapsed": false,
     "input": [
      "# to make brownian like trajectories\n",
      "def random_trajectory(n_time_points=100):\n",
      "    t = np.arange(0,n_time_points)\n",
      "    # brownian trajectory:\n",
      "    values = np.cumsum(np.random.normal(0.1,1,len(t))) +100\n",
      "    return Trajectory(t, values, \"t1\")"
     ],
     "language": "python",
     "metadata": {},
     "outputs": [],
     "prompt_number": 2
    },
    {
     "cell_type": "code",
     "collapsed": false,
     "input": [
      "# we make a few trajectories\n",
      "trajectories = [random_trajectory() for _ in range(10)]\n",
      "\n",
      "# test operators:\n",
      "arithmetic_mean = sum(trajectories) / len(trajectories)\n",
      "geometric_mean = reduce(operator.mul, trajectories) ** (1/ float(len(trajectories)))\n",
      "\n",
      "# cannot do this :(\n",
      "#harmonic_mean = float(len(trajectories)) / sum([ 1.0 /tr for tr in trajectories])\n",
      "# workaround:\n",
      "harmonic_mean = (sum([ tr ** (-1.0) for tr in trajectories]) ** (-1.0)) * float(len(trajectories))\n"
     ],
     "language": "python",
     "metadata": {},
     "outputs": [],
     "prompt_number": 3
    },
    {
     "cell_type": "code",
     "collapsed": false,
     "input": [
      "import pylab as pl\n",
      "\n",
      "pl.figure()\n",
      "for tr in trajectories:\n",
      "    tr.plot(linestyle= \"--\")\n",
      "arithmetic_mean.plot(linewidth=3, color=\"r\") \n",
      "geometric_mean.plot(linewidth=3, color=\"b\")\n",
      "harmonic_mean.plot(linewidth=3, color=\"g\")\n",
      "pl.show()\n"
     ],
     "language": "python",
     "metadata": {},
     "outputs": [],
     "prompt_number": 4
    },
    {
     "cell_type": "code",
     "collapsed": false,
     "input": [
      "# test interpolation:\n",
      "orig_trajec = random_trajectory(100)\n",
      "short_trajec = orig_trajec.resample(np.arange(0,100,5))\n",
      "long_trajec = orig_trajec.resample(np.arange(0,99,.1))\n",
      "out_range_trajec = orig_trajec.resample(np.arange(0,120,.1), extrapolate=True)\n",
      "pl.figure()\n",
      "orig_trajec.plot(linewidth=4, color=\"r\") \n",
      "short_trajec.plot(linewidth=2, color=\"b\")\n",
      "out_range_trajec.plot(linewidth=2, color=\"g\")\n",
      "pl.show()\n"
     ],
     "language": "python",
     "metadata": {},
     "outputs": [
      {
       "output_type": "stream",
       "stream": "stdout",
       "text": [
        "False\n",
        "False\n",
        "True\n",
        "\n"
       ]
      }
     ],
     "prompt_number": 12
    },
    {
     "cell_type": "code",
     "collapsed": false,
     "input": [],
     "language": "python",
     "metadata": {},
     "outputs": []
    }
   ],
   "metadata": {}
  }
 ]
}
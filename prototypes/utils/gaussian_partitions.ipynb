{
 "metadata": {
  "name": ""
 },
 "nbformat": 3,
 "nbformat_minor": 0,
 "worksheets": [
  {
   "cells": [
    {
     "cell_type": "code",
     "collapsed": false,
     "input": [
      "import itertools"
     ],
     "language": "python",
     "metadata": {},
     "outputs": [],
     "prompt_number": 54
    },
    {
     "cell_type": "code",
     "collapsed": false,
     "input": [
      "exple = [\"A\",\"B\",\"C\",\"C\"]\n",
      "partition_size = int(len(exple) / 2)"
     ],
     "language": "python",
     "metadata": {},
     "outputs": [],
     "prompt_number": 55
    },
    {
     "cell_type": "code",
     "collapsed": false,
     "input": [
      "# we want AB, CC; AC, CB, ..."
     ],
     "language": "python",
     "metadata": {},
     "outputs": [],
     "prompt_number": 56
    },
    {
     "cell_type": "code",
     "collapsed": false,
     "input": [
      "#let us make a set of indeces for `exple` list:\n",
      "idx_set = set([i for i in range(len(exple))])\n",
      "print idx_set"
     ],
     "language": "python",
     "metadata": {},
     "outputs": [
      {
       "output_type": "stream",
       "stream": "stdout",
       "text": [
        "set([0, 1, 2, 3])\n"
       ]
      }
     ],
     "prompt_number": 60
    },
    {
     "cell_type": "code",
     "collapsed": false,
     "input": [
      "first_partitions = [set(i) for i in itertools.combinations(idx_set, partition_size) if i[0] < partition_size]\n",
      "\n",
      "#[i for i in itertools.permutations(idx_set, partition_size) if i[0] < part]\n",
      "second_partitions = [(i ^ idx_set) for i in first_partitions]\n",
      "zip(first_partitions, second_partitions)\n",
      "#[(p,q) for p,q in first_partitions if p != q]\n",
      "#[i for i in itertools.permutations(idx_set, partition_size)]\n"
     ],
     "language": "python",
     "metadata": {},
     "outputs": [
      {
       "metadata": {},
       "output_type": "pyout",
       "prompt_number": 103,
       "text": [
        "[({0, 1}, {2, 3}),\n",
        " ({0, 2}, {1, 3}),\n",
        " ({0, 3}, {1, 2}),\n",
        " ({1, 2}, {0, 3}),\n",
        " ({1, 3}, {0, 2})]"
       ]
      }
     ],
     "prompt_number": 103
    },
    {
     "cell_type": "code",
     "collapsed": false,
     "input": [
      "#retreive symbols:\n",
      "def foo(row):\n",
      "    return [[exple[t] for t in r] for r in row]\n",
      "    \n",
      "[foo(l) for l in unique_idx_pairs]\n"
     ],
     "language": "python",
     "metadata": {},
     "outputs": [
      {
       "metadata": {},
       "output_type": "pyout",
       "prompt_number": 51,
       "text": [
        "[[['C', 'C'], ['A', 'B']],\n",
        " [['A', 'C'], ['B', 'C']],\n",
        " [['A', 'B'], ['C', 'C']],\n",
        " [['B', 'C'], ['A', 'C']],\n",
        " [['A', 'C'], ['B', 'C']],\n",
        " [['B', 'C'], ['A', 'C']]]"
       ]
      }
     ],
     "prompt_number": 51
    },
    {
     "cell_type": "code",
     "collapsed": false,
     "input": [],
     "language": "python",
     "metadata": {},
     "outputs": []
    }
   ],
   "metadata": {}
  }
 ]
}
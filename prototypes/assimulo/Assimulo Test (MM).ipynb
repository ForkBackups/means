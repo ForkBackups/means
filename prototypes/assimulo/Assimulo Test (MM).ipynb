{
 "metadata": {
  "name": "Assimulo Test (MM)"
 },
 "nbformat": 3,
 "nbformat_minor": 0,
 "worksheets": [
  {
   "cells": [
    {
     "cell_type": "code",
     "collapsed": false,
     "input": "%pylab inline",
     "language": "python",
     "metadata": {},
     "outputs": [
      {
       "output_type": "stream",
       "stream": "stdout",
       "text": "Populating the interactive namespace from numpy and matplotlib\n"
      },
      {
       "output_type": "stream",
       "stream": "stderr",
       "text": "WARNING: pylab import has clobbered these variables: ['pylab']\n`%pylab --no-import-all` prevents importing * from pylab and numpy\n"
      }
     ],
     "prompt_number": 89
    },
    {
     "cell_type": "code",
     "collapsed": false,
     "input": "import sympy",
     "language": "python",
     "metadata": {},
     "outputs": [],
     "prompt_number": 1
    },
    {
     "cell_type": "code",
     "collapsed": false,
     "input": "# Parameters for our simulation\nstart_time = 0.0\ntimestep = 1.0\nend_time = 50.0",
     "language": "python",
     "metadata": {},
     "outputs": [],
     "prompt_number": 119
    },
    {
     "cell_type": "code",
     "collapsed": false,
     "input": "constants = sympy.symbols(['c_0', 'c_1', 'c_2']) # Determines the names of constants (must match the ones in `rhs_equations`)\nvariables = sympy.symbols(['y_0', 'y_1', 'yx1', 'yx2', 'yx3']) # Determines the order of equations in `rhs_equations`)",
     "language": "python",
     "metadata": {},
     "outputs": [],
     "prompt_number": 118
    },
    {
     "cell_type": "code",
     "collapsed": false,
     "input": "# The trick here is to encode the equations in a matrix. This way we can solve a single vector equation rather than a collection of\n# scalar ones\nrhs_equations = sympy.Matrix(['-c_0*y_0*(y_0 + y_1 - 181) - c_0*yx2 - c_0*yx3 - c_1*(y_0 + y_1 - 301)', \n                              'c_2*(-y_0 - y_1 + 301)', \n                              'c_2*(-y_0 - y_1 - 2*yx1 - 2*yx2 + 301)',\n                              '-c_2*yx3 - yx1*(c_0*y_0 + c_1) - yx2*(2*c_0*y_0 + c_0*y_1 - 181*c_0 + c_1 + c_2)', \n                              'c_0*y_0**2 + c_0*y_0*y_1 - 181*c_0*y_0 - c_1*y_0 - c_1*y_1 + 301*c_1 - yx2*(2*c_0*y_0 - c_0 + 2*c_1) - yx3*(4*c_0*y_0 + 2*c_0*y_1 - 363*c_0 + 2*c_1)'\n                              ])",
     "language": "python",
     "metadata": {},
     "outputs": [],
     "prompt_number": 117
    },
    {
     "cell_type": "code",
     "collapsed": false,
     "input": "initial_constants = np.array([0.00166, 0.001, 0.1]) # initial values for `constants` -- not modified during ODE solving",
     "language": "python",
     "metadata": {},
     "outputs": [],
     "prompt_number": 123
    },
    {
     "cell_type": "code",
     "collapsed": false,
     "input": "initial_moments= np.array([301, 0, 0, 0, 0]) # initial values for `variables`",
     "language": "python",
     "metadata": {},
     "outputs": [],
     "prompt_number": 122
    },
    {
     "cell_type": "code",
     "collapsed": false,
     "input": "# Sympy expressions can be evaluated for particular values by calling evalf function and providing appropriate substitution list\n# Note that this function fucks up and does nothing if you forget to provide some symbol:(\nrhs_equations.evalf(subs=dict(zip(constants, initial_constants) + zip(variables, initial_moments)))",
     "language": "python",
     "metadata": {},
     "outputs": [
      {
       "metadata": {},
       "output_type": "pyout",
       "prompt_number": 76,
       "text": "[-59.9592]\n[ 0.e-138]\n[ 0.e-138]\n[       0]\n[ 59.9592]"
      }
     ],
     "prompt_number": 76
    },
    {
     "cell_type": "code",
     "collapsed": false,
     "input": "def rhs(t, y):\n    expression_substitution_dictionary = dict(zip(constants, initial_constants) + zip(variables, y)) # This dictionary creation may become a bottleneck and may need to be dealt with\n    return rhs_equations.evalf(subs=expression_substitution_dictionary)",
     "language": "python",
     "metadata": {},
     "outputs": [],
     "prompt_number": 125
    },
    {
     "cell_type": "code",
     "collapsed": false,
     "input": "# Test\nrhs(0, initial_moments)",
     "language": "python",
     "metadata": {},
     "outputs": [
      {
       "metadata": {},
       "output_type": "pyout",
       "prompt_number": 144,
       "text": "[-59.9592]\n[ 0.e-138]\n[ 0.e-138]\n[       0]\n[ 59.9592]"
      }
     ],
     "prompt_number": 144
    },
    {
     "cell_type": "code",
     "collapsed": false,
     "input": "from assimulo.problem import Explicit_Problem\nfrom assimulo.solvers.sundials import CVode",
     "language": "python",
     "metadata": {},
     "outputs": [],
     "prompt_number": 57
    },
    {
     "cell_type": "code",
     "collapsed": false,
     "input": "model = Explicit_Problem(rhs, initial_moments, start_time) # Wrapping our knowledge about the model into single place",
     "language": "python",
     "metadata": {},
     "outputs": [],
     "prompt_number": 128
    },
    {
     "cell_type": "code",
     "collapsed": false,
     "input": "solver = CVode(model) # This is essentially the \"compilation\" step in previous year's project",
     "language": "python",
     "metadata": {},
     "outputs": [],
     "prompt_number": 138
    },
    {
     "cell_type": "code",
     "collapsed": false,
     "input": "# Run the simulation the returned lists are lists of timepoints, and values of y vector at each of them\n# ncp specifies how many timepoints to evaluate, this can roughly be approximated from end, start times and the timestep\nt, y = solver.simulate(end_time, ncp=int((end_time-start_time)/timestep)) # note that solver instance stores state of last simulation and continues forward from it",
     "language": "python",
     "metadata": {},
     "outputs": [
      {
       "output_type": "stream",
       "stream": "stdout",
       "text": "Final Run Statistics: --- \n\n Number of Steps                          : 0\n Number of Function Evaluations           : 0\n Number of Jacobian Evaluations           : 0\n Number of F-Eval During Jac-Eval         : 0\n Number of Root Evaluations               : 0\n Number of Error Test Failures            : 0\n Number of Newton Iterations              : 0\n Number of Newton Convergence Failures    : 0\n\nSolver options:\n\n Solver                  : CVode\n Linear Multistep Method : BDF\n Nonlinear Solver        : Newton\n Maxord                  : 5\n Tolerances (absolute)   : [  1.00000000e-06   1.00000000e-06   1.00000000e-06   1.00000000e-06\n   1.00000000e-06]\n Tolerances (relative)   : 1e-06\n\nSimulation interval    : 50.0 - 50.0 seconds.\nElapsed simulation time: 3.39999999994e-05 seconds.\n"
      }
     ],
     "prompt_number": 143
    },
    {
     "cell_type": "code",
     "collapsed": false,
     "input": "import pylab",
     "language": "python",
     "metadata": {},
     "outputs": [],
     "prompt_number": 140
    },
    {
     "cell_type": "code",
     "collapsed": false,
     "input": "# Reproducing plot from previous year's project\n# The original plot is available at http://i.imgur.com/uYhECDo.png\npylab.subplot(2, 2, 1)\npylab.plot(t, y[:,0], label=variables[0])\npylab.plot(t, y[:,1], label=variables[1])\npylab.title('Means')\npylab.legend()\n\npylab.subplot(2, 2, 2)\npylab.plot(t, y[:,2], label=variables[2])\npylab.title(variables[2])\n\npylab.subplot(2, 2, 3)\npylab.plot(t, y[:,3], label=variables[3])\npylab.title(variables[3])\n\npylab.subplot(2, 2, 4)\npylab.plot(t, y[:,4], label=variables[4])\npylab.title(variables[4])\n",
     "language": "python",
     "metadata": {},
     "outputs": [
      {
       "metadata": {},
       "output_type": "pyout",
       "prompt_number": 141,
       "text": "<matplotlib.text.Text at 0x119ae1f90>"
      },
      {
       "metadata": {},
       "output_type": "display_data",
       "png": "[encoded data removed]",
       "text": "<matplotlib.figure.Figure at 0x1198720d0>"
      }
     ],
     "prompt_number": 141
    },
    {
     "cell_type": "code",
     "collapsed": false,
     "input": "",
     "language": "python",
     "metadata": {},
     "outputs": []
    }
   ],
   "metadata": {}
  }
 ]
}
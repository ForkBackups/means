{
 "cells": [
  {
   "cell_type": "markdown",
   "metadata": {},
   "source": [
    "# SBML Parsing Example"
   ]
  },
  {
   "cell_type": "markdown",
   "metadata": {},
   "source": [
    "[Biomodels repository](http://www.ebi.ac.uk/biomodels-main/) hosts a number of published models.\n",
    "We can download one of them to our working directory:"
   ]
  },
  {
   "cell_type": "code",
   "execution_count": null,
   "metadata": {
    "collapsed": true
   },
   "outputs": [],
   "source": [
    "import urllib\n",
    "__ = urllib.urlretrieve(\"http://www.ebi.ac.uk/biomodels/models-main/publ/\"\n",
    "                        \"BIOMD0000000010/BIOMD0000000010.xml.origin\", \n",
    "                        filename=\"autoreg.xml\")"
   ]
  },
  {
   "cell_type": "markdown",
   "metadata": {},
   "source": [
    "This model can be parsed into `MEANS` Model object using `means.io.read_sbml` function. When parsing the SBML format, compartments of species are neglected, as the species names are assumed to be compartment-specific. \n",
    "\n",
    "The values for the constants and initial amounts of all species are also retrieved for making it easier to simulate the trajectories later."
   ]
  },
  {
   "cell_type": "markdown",
   "metadata": {},
   "source": [
    "WARNING: Please note that in order to run this example\n",
    "one will have to have `libsmbl` installed together with its python bindings. \n",
    "\n",
    "Consult [SBML website](http://sbml.org/Software/libSBML) for more information on how to do this."
   ]
  },
  {
   "cell_type": "code",
   "execution_count": null,
   "metadata": {
    "collapsed": true
   },
   "outputs": [],
   "source": [
    "# Requires: libsbml\n",
    "autoreg_model, autoreg_parameters, autoreg_initial_conditions \\\n",
    "    = means.io.read_sbml('autoreg.xml')"
   ]
  },
  {
   "cell_type": "markdown",
   "metadata": {},
   "source": [
    "To view the model, simply output it:"
   ]
  },
  {
   "cell_type": "code",
   "execution_count": null,
   "metadata": {
    "collapsed": false
   },
   "outputs": [],
   "source": [
    "autoreg_model"
   ]
  },
  {
   "cell_type": "markdown",
   "metadata": {},
   "source": [
    "Note that a set of parameters and initial conditions are also parsed from the SBML file directly, let's view them:"
   ]
  },
  {
   "cell_type": "code",
   "execution_count": null,
   "metadata": {
    "collapsed": true
   },
   "outputs": [],
   "source": [
    "print autoreg_parameters[:3], '.. snip ..', autoreg_parameters[-3:]\n",
    "print autoreg_initial_conditions"
   ]
  },
  {
   "cell_type": "markdown",
   "metadata": {},
   "source": [
    "You can use `autoreg_model` like any other `Model` object."
   ]
  },
  {
   "cell_type": "code",
   "execution_count": null,
   "metadata": {
    "collapsed": true
   },
   "outputs": [],
   "source": []
  }
 ],
 "metadata": {
  "kernelspec": {
   "display_name": "Python 2",
   "language": "python",
   "name": "python2"
  },
  "language_info": {
   "codemirror_mode": {
    "name": "ipython",
    "version": 2
   },
   "file_extension": ".py",
   "mimetype": "text/x-python",
   "name": "python",
   "nbconvert_exporter": "python",
   "pygments_lexer": "ipython2",
   "version": "2.7.6"
  }
 },
 "nbformat": 4,
 "nbformat_minor": 0
}

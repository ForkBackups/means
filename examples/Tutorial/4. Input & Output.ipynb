{
 "cells": [
  {
   "cell_type": "markdown",
   "metadata": {},
   "source": [
    "# Input & Output"
   ]
  },
  {
   "cell_type": "markdown",
   "metadata": {},
   "source": [
    "`MEANS` package provides a set of routines for serialisation (saving) and deserialisation (loading) of the `MEANS`-specific objects into human-readable YAML format.\n",
    "\n",
    "These routines all reside inside ``means.io`` package, which is imported by default from the package root.\n",
    "This tutorial will quickly how to include them in your workflow."
   ]
  },
  {
   "cell_type": "markdown",
   "metadata": {},
   "source": [
    "First, let's import the means package together with the example models"
   ]
  },
  {
   "cell_type": "code",
   "execution_count": 1,
   "metadata": {
    "collapsed": false
   },
   "outputs": [],
   "source": [
    "import means\n",
    "import means.examples"
   ]
  },
  {
   "cell_type": "markdown",
   "metadata": {},
   "source": [
    "Let's use a $p53$ model as an example object for serialisation."
   ]
  },
  {
   "cell_type": "code",
   "execution_count": 2,
   "metadata": {
    "collapsed": false
   },
   "outputs": [],
   "source": [
    "p53 = means.examples.MODEL_P53"
   ]
  },
  {
   "cell_type": "code",
   "execution_count": 3,
   "metadata": {
    "collapsed": false
   },
   "outputs": [
    {
     "data": {
      "text/latex": [
       "\\begin{align*}\n",
       "\\text{Species} &= \\left [ y_{0}, \\quad y_{1}, \\quad y_{2}\\right ] \\\\\n",
       "\\text{Parameters} &= \\left [ c_{0}, \\quad c_{1}, \\quad c_{2}, \\quad c_{3}, \\quad c_{4}, \\quad c_{5}, \\quad c_{6}\\right ] \\\\\n",
       "\\text{Stoichiometry matrix} &= \\left[\\begin{matrix}1 & -1 & -1 & 0 & 0 & 0\\\\0 & 0 & 0 & 1 & -1 & 0\\\\0 & 0 & 0 & 0 & 1 & -1\\end{matrix}\\right] \\\\\n",
       "\\text{Propensities} &= \\left[\\begin{matrix}c_{0}\\\\c_{1} y_{0}\\\\\\frac{c_{2} y_{0} y_{2}}{c_{6} + y_{0}}\\\\c_{3} y_{0}\\\\c_{4} y_{1}\\\\c_{5} y_{2}\\end{matrix}\\right] \\\\\n",
       "\\end{align*}"
      ],
      "text/plain": [
       "<class 'means.core.model.Model'>\n",
       "Species: [y_0, y_1, y_2]\n",
       "Parameters: [c_0, c_1, c_2, c_3, c_4, c_5, c_6]\n",
       "\n",
       "Stoichiometry matrix:\n",
       "Matrix([\n",
       "[1, -1, -1, 0,  0,  0],\n",
       "[0,  0,  0, 1, -1,  0],\n",
       "[0,  0,  0, 0,  1, -1]])\n",
       "\n",
       "Propensities:\n",
       "Matrix([\n",
       "[                    c_0],\n",
       "[                c_1*y_0],\n",
       "[c_2*y_0*y_2/(c_6 + y_0)],\n",
       "[                c_3*y_0],\n",
       "[                c_4*y_1],\n",
       "[                c_5*y_2]])"
      ]
     },
     "execution_count": 3,
     "metadata": {},
     "output_type": "execute_result"
    }
   ],
   "source": [
    "p53"
   ]
  },
  {
   "cell_type": "markdown",
   "metadata": {},
   "source": [
    "## Human-Readable Serialisation"
   ]
  },
  {
   "cell_type": "markdown",
   "metadata": {},
   "source": [
    "The serialisation to string is done via ``means.io.dump(object)`` function that takes any serialisable object as it's argument:"
   ]
  },
  {
   "cell_type": "code",
   "execution_count": 4,
   "metadata": {
    "collapsed": false
   },
   "outputs": [],
   "source": [
    "serialised_p53 = means.io.dump(p53)"
   ]
  },
  {
   "cell_type": "code",
   "execution_count": 5,
   "metadata": {
    "collapsed": false
   },
   "outputs": [
    {
     "name": "stdout",
     "output_type": "stream",
     "text": [
      "!model\n",
      "species: [y_0, y_1, y_2]\n",
      "parameters: [c_0, c_1, c_2, c_3, c_4, c_5, c_6]\n",
      "stoichiometry_matrix:\n",
      "- [1, -1, -1, 0, 0, 0]\n",
      "- [0, 0, 0, 1, -1, 0]\n",
      "- [0, 0, 0, 0, 1, -1]\n",
      "propensities: [c_0, c_1*y_0, c_2*y_0*y_2/(c_6 + y_0), c_3*y_0, c_4*y_1, c_5*y_2]\n",
      "\n"
     ]
    }
   ],
   "source": [
    "print serialised_p53"
   ]
  },
  {
   "cell_type": "markdown",
   "metadata": {},
   "source": [
    "Note how this format is equally easy for both humans and machines to read. \n",
    "This is double readability is the main reason why YAML format has been chosen to serialise MEANS objects."
   ]
  },
  {
   "cell_type": "markdown",
   "metadata": {},
   "source": [
    "Deserialisation can be done by via ``means.io.load(serialised_string)`` function, as shown below:"
   ]
  },
  {
   "cell_type": "code",
   "execution_count": 6,
   "metadata": {
    "collapsed": false
   },
   "outputs": [],
   "source": [
    "deserialised_p53 = means.io.load(serialised_p53)"
   ]
  },
  {
   "cell_type": "code",
   "execution_count": 7,
   "metadata": {
    "collapsed": false
   },
   "outputs": [
    {
     "data": {
      "text/latex": [
       "\\begin{align*}\n",
       "\\text{Species} &= \\left [ y_{0}, \\quad y_{1}, \\quad y_{2}\\right ] \\\\\n",
       "\\text{Parameters} &= \\left [ c_{0}, \\quad c_{1}, \\quad c_{2}, \\quad c_{3}, \\quad c_{4}, \\quad c_{5}, \\quad c_{6}\\right ] \\\\\n",
       "\\text{Stoichiometry matrix} &= \\left[\\begin{matrix}1 & -1 & -1 & 0 & 0 & 0\\\\0 & 0 & 0 & 1 & -1 & 0\\\\0 & 0 & 0 & 0 & 1 & -1\\end{matrix}\\right] \\\\\n",
       "\\text{Propensities} &= \\left[\\begin{matrix}c_{0}\\\\c_{1} y_{0}\\\\\\frac{c_{2} y_{0} y_{2}}{c_{6} + y_{0}}\\\\c_{3} y_{0}\\\\c_{4} y_{1}\\\\c_{5} y_{2}\\end{matrix}\\right] \\\\\n",
       "\\end{align*}"
      ],
      "text/plain": [
       "<class 'means.core.model.Model'>\n",
       "Species: [y_0, y_1, y_2]\n",
       "Parameters: [c_0, c_1, c_2, c_3, c_4, c_5, c_6]\n",
       "\n",
       "Stoichiometry matrix:\n",
       "Matrix([\n",
       "[1, -1, -1, 0,  0,  0],\n",
       "[0,  0,  0, 1, -1,  0],\n",
       "[0,  0,  0, 0,  1, -1]])\n",
       "\n",
       "Propensities:\n",
       "Matrix([\n",
       "[                    c_0],\n",
       "[                c_1*y_0],\n",
       "[c_2*y_0*y_2/(c_6 + y_0)],\n",
       "[                c_3*y_0],\n",
       "[                c_4*y_1],\n",
       "[                c_5*y_2]])"
      ]
     },
     "execution_count": 7,
     "metadata": {},
     "output_type": "execute_result"
    }
   ],
   "source": [
    "deserialised_p53"
   ]
  },
  {
   "cell_type": "markdown",
   "metadata": {},
   "source": [
    "Since most of the serialisation will be done to and from files, MEANS provides a set of convenience functions for performing these, \n",
    "namely ``to_file`` and ``from_file`` functions:"
   ]
  },
  {
   "cell_type": "code",
   "execution_count": 8,
   "metadata": {
    "collapsed": false
   },
   "outputs": [],
   "source": [
    "# Store P53 to file\n",
    "means.io.to_file(p53, 'p53-tutorial.txt') "
   ]
  },
  {
   "cell_type": "code",
   "execution_count": 9,
   "metadata": {
    "collapsed": false
   },
   "outputs": [],
   "source": [
    " # Read P53 back from the file\n",
    "p53_from_file = means.io.from_file('p53-tutorial.txt')"
   ]
  },
  {
   "cell_type": "code",
   "execution_count": 10,
   "metadata": {
    "collapsed": false
   },
   "outputs": [
    {
     "data": {
      "text/latex": [
       "\\begin{align*}\n",
       "\\text{Species} &= \\left [ y_{0}, \\quad y_{1}, \\quad y_{2}\\right ] \\\\\n",
       "\\text{Parameters} &= \\left [ c_{0}, \\quad c_{1}, \\quad c_{2}, \\quad c_{3}, \\quad c_{4}, \\quad c_{5}, \\quad c_{6}\\right ] \\\\\n",
       "\\text{Stoichiometry matrix} &= \\left[\\begin{matrix}1 & -1 & -1 & 0 & 0 & 0\\\\0 & 0 & 0 & 1 & -1 & 0\\\\0 & 0 & 0 & 0 & 1 & -1\\end{matrix}\\right] \\\\\n",
       "\\text{Propensities} &= \\left[\\begin{matrix}c_{0}\\\\c_{1} y_{0}\\\\\\frac{c_{2} y_{0} y_{2}}{c_{6} + y_{0}}\\\\c_{3} y_{0}\\\\c_{4} y_{1}\\\\c_{5} y_{2}\\end{matrix}\\right] \\\\\n",
       "\\end{align*}"
      ],
      "text/plain": [
       "<class 'means.core.model.Model'>\n",
       "Species: [y_0, y_1, y_2]\n",
       "Parameters: [c_0, c_1, c_2, c_3, c_4, c_5, c_6]\n",
       "\n",
       "Stoichiometry matrix:\n",
       "Matrix([\n",
       "[1, -1, -1, 0,  0,  0],\n",
       "[0,  0,  0, 1, -1,  0],\n",
       "[0,  0,  0, 0,  1, -1]])\n",
       "\n",
       "Propensities:\n",
       "Matrix([\n",
       "[                    c_0],\n",
       "[                c_1*y_0],\n",
       "[c_2*y_0*y_2/(c_6 + y_0)],\n",
       "[                c_3*y_0],\n",
       "[                c_4*y_1],\n",
       "[                c_5*y_2]])"
      ]
     },
     "execution_count": 10,
     "metadata": {},
     "output_type": "execute_result"
    }
   ],
   "source": [
    "p53_from_file"
   ]
  },
  {
   "cell_type": "markdown",
   "metadata": {},
   "source": [
    "The serialisation functions ``dump``, and ``to_file`` can handle lists of items equally well, for instance, we could try to serialise both $p53$ model and $Hes1$ model at the same time:"
   ]
  },
  {
   "cell_type": "code",
   "execution_count": 11,
   "metadata": {
    "collapsed": false
   },
   "outputs": [
    {
     "name": "stdout",
     "output_type": "stream",
     "text": [
      "- !model\n",
      "  species: [y_0, y_1, y_2]\n",
      "  parameters: [c_0, c_1, c_2, c_3, c_4, c_5, c_6]\n",
      "  stoichiometry_matrix:\n",
      "  - [1, -1, -1, 0, 0, 0]\n",
      "  - [0, 0, 0, 1, -1, 0]\n",
      "  - [0, 0, 0, 0, 1, -1]\n",
      "  propensities: [c_0, c_1*y_0, c_2*y_0*y_2/(c_6 + y_0), c_3*y_0, c_4*y_1, c_5*y_2]\n",
      "- !model\n",
      "  species: [y_0, y_1, y_2]\n",
      "  parameters: [c_0, c_1, c_2, c_3]\n",
      "  stoichiometry_matrix:\n",
      "  - [-1, 0, 0, 0, 0, 1]\n",
      "  - [0, -1, 0, -1, 1, 0]\n",
      "  - [0, 0, -1, 1, 0, 0]\n",
      "  propensities: [0.03*y_0, 0.03*y_1, 0.03*y_2, c_3*y_1, c_2*y_0, 1.0/(1 + y_2**2/c_0**2)]\n",
      "\n"
     ]
    }
   ],
   "source": [
    "p53_hes1 = [means.examples.MODEL_P53, means.examples.MODEL_HES1]\n",
    "print means.io.dump(p53_hes1)"
   ]
  },
  {
   "cell_type": "markdown",
   "metadata": {},
   "source": [
    "The form of items being serialisied is completely free (you can serialise anything using these routines). \n",
    "However, some objects may not be as human-readable when serialised as `MEANS` ones are, so some care needs to be taken of what is being serialised when human readability is important."
   ]
  },
  {
   "cell_type": "markdown",
   "metadata": {},
   "source": [
    "All `MEANS` objects also have shorthand methods `to_file` and `from_file` to write them to and read them from files:"
   ]
  },
  {
   "cell_type": "code",
   "execution_count": 12,
   "metadata": {
    "collapsed": false
   },
   "outputs": [],
   "source": [
    "# Write p53 to file\n",
    "p53.to_file('p53-shorthand.txt') "
   ]
  },
  {
   "cell_type": "code",
   "execution_count": 13,
   "metadata": {
    "collapsed": false
   },
   "outputs": [
    {
     "data": {
      "text/latex": [
       "\\begin{align*}\n",
       "\\text{Species} &= \\left [ y_{0}, \\quad y_{1}, \\quad y_{2}\\right ] \\\\\n",
       "\\text{Parameters} &= \\left [ c_{0}, \\quad c_{1}, \\quad c_{2}, \\quad c_{3}, \\quad c_{4}, \\quad c_{5}, \\quad c_{6}\\right ] \\\\\n",
       "\\text{Stoichiometry matrix} &= \\left[\\begin{matrix}1 & -1 & -1 & 0 & 0 & 0\\\\0 & 0 & 0 & 1 & -1 & 0\\\\0 & 0 & 0 & 0 & 1 & -1\\end{matrix}\\right] \\\\\n",
       "\\text{Propensities} &= \\left[\\begin{matrix}c_{0}\\\\c_{1} y_{0}\\\\\\frac{c_{2} y_{0} y_{2}}{c_{6} + y_{0}}\\\\c_{3} y_{0}\\\\c_{4} y_{1}\\\\c_{5} y_{2}\\end{matrix}\\right] \\\\\n",
       "\\end{align*}"
      ],
      "text/plain": [
       "<class 'means.core.model.Model'>\n",
       "Species: [y_0, y_1, y_2]\n",
       "Parameters: [c_0, c_1, c_2, c_3, c_4, c_5, c_6]\n",
       "\n",
       "Stoichiometry matrix:\n",
       "Matrix([\n",
       "[1, -1, -1, 0,  0,  0],\n",
       "[0,  0,  0, 1, -1,  0],\n",
       "[0,  0,  0, 0,  1, -1]])\n",
       "\n",
       "Propensities:\n",
       "Matrix([\n",
       "[                    c_0],\n",
       "[                c_1*y_0],\n",
       "[c_2*y_0*y_2/(c_6 + y_0)],\n",
       "[                c_3*y_0],\n",
       "[                c_4*y_1],\n",
       "[                c_5*y_2]])"
      ]
     },
     "execution_count": 13,
     "metadata": {},
     "output_type": "execute_result"
    }
   ],
   "source": [
    "# Read it back again from the file, \n",
    "# will throw an error if the file serialised is not a Model\n",
    "means.Model.from_file('p53-shorthand.txt') \n",
    "                                           "
   ]
  },
  {
   "cell_type": "markdown",
   "metadata": {},
   "source": [
    "## Binary Serialisation"
   ]
  },
  {
   "cell_type": "markdown",
   "metadata": {},
   "source": [
    "If human readability is not important, binary serialisation using python's ``pickle`` module is suggested instead of `MEANS` `IO` routines as it is much faster. The following example shows how to serialise a model object to a string using pickle."
   ]
  },
  {
   "cell_type": "code",
   "execution_count": 14,
   "metadata": {
    "collapsed": false
   },
   "outputs": [
    {
     "data": {
      "text/latex": [
       "\\begin{align*}\n",
       "\\text{Species} &= \\left [ y_{0}, \\quad y_{1}, \\quad y_{2}\\right ] \\\\\n",
       "\\text{Parameters} &= \\left [ c_{0}, \\quad c_{1}, \\quad c_{2}, \\quad c_{3}, \\quad c_{4}, \\quad c_{5}, \\quad c_{6}\\right ] \\\\\n",
       "\\text{Stoichiometry matrix} &= \\left[\\begin{matrix}1 & -1 & -1 & 0 & 0 & 0\\\\0 & 0 & 0 & 1 & -1 & 0\\\\0 & 0 & 0 & 0 & 1 & -1\\end{matrix}\\right] \\\\\n",
       "\\text{Propensities} &= \\left[\\begin{matrix}c_{0}\\\\c_{1} y_{0}\\\\\\frac{c_{2} y_{0} y_{2}}{c_{6} + y_{0}}\\\\c_{3} y_{0}\\\\c_{4} y_{1}\\\\c_{5} y_{2}\\end{matrix}\\right] \\\\\n",
       "\\end{align*}"
      ],
      "text/plain": [
       "<class 'means.core.model.Model'>\n",
       "Species: [y_0, y_1, y_2]\n",
       "Parameters: [c_0, c_1, c_2, c_3, c_4, c_5, c_6]\n",
       "\n",
       "Stoichiometry matrix:\n",
       "Matrix([\n",
       "[1, -1, -1, 0,  0,  0],\n",
       "[0,  0,  0, 1, -1,  0],\n",
       "[0,  0,  0, 0,  1, -1]])\n",
       "\n",
       "Propensities:\n",
       "Matrix([\n",
       "[                    c_0],\n",
       "[                c_1*y_0],\n",
       "[c_2*y_0*y_2/(c_6 + y_0)],\n",
       "[                c_3*y_0],\n",
       "[                c_4*y_1],\n",
       "[                c_5*y_2]])"
      ]
     },
     "execution_count": 14,
     "metadata": {},
     "output_type": "execute_result"
    }
   ],
   "source": [
    "# C-based pickle implementation (cPickle) is faster than the pythonic one so use that\n",
    "import cPickle as pickle \n",
    "# Highest protocol should provide best compression and speed\n",
    "pickled_p53 = pickle.dumps(p53, pickle.HIGHEST_PROTOCOL) \n",
    "depickled_p53 = pickle.loads(pickled_p53)\n",
    "\n",
    "# Return the depickled_p53\n",
    "depickled_p53"
   ]
  },
  {
   "cell_type": "markdown",
   "metadata": {},
   "source": [
    "Similarly, ``pickle.dump`` and ``pickle.load`` functions can be used to write the pickled binary to file and read it back from it."
   ]
  },
  {
   "cell_type": "markdown",
   "metadata": {},
   "source": [
    "To reiterate the difference between binary and human-readable serialisation, \n",
    "the following tests show the overall difference in runtime speeds between these two forms:"
   ]
  },
  {
   "cell_type": "code",
   "execution_count": 15,
   "metadata": {
    "collapsed": false
   },
   "outputs": [
    {
     "name": "stdout",
     "output_type": "stream",
     "text": [
      "100 loops, best of 3: 13.4 ms per loop\n"
     ]
    }
   ],
   "source": [
    "%timeit means.io.load(means.io.dump(p53))"
   ]
  },
  {
   "cell_type": "code",
   "execution_count": 16,
   "metadata": {
    "collapsed": false
   },
   "outputs": [
    {
     "name": "stdout",
     "output_type": "stream",
     "text": [
      "1000 loops, best of 3: 617 µs per loop\n"
     ]
    }
   ],
   "source": [
    "%timeit pickle.loads(pickle.dumps(p53, pickle.HIGHEST_PROTOCOL))"
   ]
  },
  {
   "cell_type": "markdown",
   "metadata": {},
   "source": [
    "The binary serialisation is about 28 times faster than the human-readable one, however human-readable form is easier to integrate to other process, as well as platform compatible (``pickle`` can only deserialise python objects).\n",
    "\n",
    "Whenever designing a pipeline, it is important to take these matters into account and choose appropriate solution for your particular case."
   ]
  },
  {
   "cell_type": "code",
   "execution_count": 17,
   "metadata": {
    "collapsed": false
   },
   "outputs": [],
   "source": [
    "import os\n",
    "# Cleanup:\n",
    "os.unlink('p53-tutorial.txt')\n",
    "os.unlink('p53-shorthand.txt')"
   ]
  },
  {
   "cell_type": "code",
   "execution_count": null,
   "metadata": {
    "collapsed": false
   },
   "outputs": [],
   "source": []
  }
 ],
 "metadata": {
  "kernelspec": {
   "display_name": "Python 2",
   "language": "python",
   "name": "python2"
  },
  "language_info": {
   "codemirror_mode": {
    "name": "ipython",
    "version": 2
   },
   "file_extension": ".py",
   "mimetype": "text/x-python",
   "name": "python",
   "nbconvert_exporter": "python",
   "pygments_lexer": "ipython2",
   "version": "2.7.6"
  }
 },
 "nbformat": 4,
 "nbformat_minor": 0
}

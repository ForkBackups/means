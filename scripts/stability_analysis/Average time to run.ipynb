{
 "metadata": {
  "name": ""
 },
 "nbformat": 3,
 "nbformat_minor": 0,
 "worksheets": [
  {
   "cells": [
    {
     "cell_type": "code",
     "collapsed": false,
     "input": [
      "%pylab inline"
     ],
     "language": "python",
     "metadata": {},
     "outputs": [
      {
       "output_type": "stream",
       "stream": "stdout",
       "text": [
        "Populating the interactive namespace from numpy and matplotlib\n"
       ]
      }
     ],
     "prompt_number": 1
    },
    {
     "cell_type": "code",
     "collapsed": false,
     "input": [
      "%load_ext ipycache"
     ],
     "language": "python",
     "metadata": {},
     "outputs": [],
     "prompt_number": 2
    },
    {
     "cell_type": "markdown",
     "metadata": {},
     "source": [
      "This notebook aims to estimate the average time required to run a simulation for each of the methods we are interested in.\n",
      "We can then look at the function by which the runtime increases and could use that to\n",
      "\n",
      "+ estimate how long it would take to generate certain figures\n",
      "+ estimate which of the function wrapping methods are better in real-world sense"
     ]
    },
    {
     "cell_type": "code",
     "collapsed": false,
     "input": [
      "import means\n",
      "import means.examples"
     ],
     "language": "python",
     "metadata": {},
     "outputs": [],
     "prompt_number": 3
    },
    {
     "cell_type": "code",
     "collapsed": false,
     "input": [
      "model = means.examples.MODEL_P53"
     ],
     "language": "python",
     "metadata": {},
     "outputs": [],
     "prompt_number": 4
    },
    {
     "cell_type": "code",
     "collapsed": false,
     "input": [
      "max_orders = [1, 2, 3, 4, 5, 6]\n",
      "closure_methods = ['normal', 'zero', 'log-normal']"
     ],
     "language": "python",
     "metadata": {},
     "outputs": [],
     "prompt_number": 5
    },
    {
     "cell_type": "code",
     "collapsed": false,
     "input": [
      "import itertools"
     ],
     "language": "python",
     "metadata": {},
     "outputs": [],
     "prompt_number": 6
    },
    {
     "cell_type": "code",
     "collapsed": false,
     "input": [
      "%%cache --force problems-order-6-closures.pkl PROBLEMS\n",
      "PROBLEMS = {}\n",
      "for max_order, closure in itertools.product(max_orders, closure_methods):\n",
      "    if max_order < 2 and closure != 'zero':\n",
      "        continue\n",
      "    \n",
      "    problem = means.approximation.MomentExpansionApproximation(model, max_order=max_order, closer=closure).run()\n",
      "    PROBLEMS[max_order, closure] = problem"
     ],
     "language": "python",
     "metadata": {},
     "outputs": [],
     "prompt_number": "*"
    },
    {
     "cell_type": "code",
     "collapsed": false,
     "input": [
      "parameters = {'safe' : [90, 0.002, 1.20, 1.1, 2.00, 0.96, 0.01],\n",
      "              'unsafe' : [90, 0.002, 2.10, 1.1, 0.80, 0.96, 0.01]}"
     ],
     "language": "python",
     "metadata": {},
     "outputs": [],
     "prompt_number": 8
    },
    {
     "cell_type": "code",
     "collapsed": false,
     "input": [
      "initial_conditions = [70, 30, 90]\n",
      "timepoints = np.arange(0, 40, 0.1)"
     ],
     "language": "python",
     "metadata": {},
     "outputs": [],
     "prompt_number": 9
    },
    {
     "cell_type": "code",
     "collapsed": false,
     "input": [
      "sorted(PROBLEMS.keys())"
     ],
     "language": "python",
     "metadata": {},
     "outputs": [
      {
       "metadata": {},
       "output_type": "pyout",
       "prompt_number": 22,
       "text": [
        "[(1, 'zero'),\n",
        " (2, 'log-normal'),\n",
        " (2, 'normal'),\n",
        " (2, 'zero'),\n",
        " (3, 'normal'),\n",
        " (3, 'zero')]"
       ]
      }
     ],
     "prompt_number": 22
    },
    {
     "cell_type": "code",
     "collapsed": false,
     "input": [
      "s = means.simulation.Simulation(PROBLEMS[6, 'zero'])"
     ],
     "language": "python",
     "metadata": {},
     "outputs": [
      {
       "ename": "KeyError",
       "evalue": "(6, 'zero')",
       "output_type": "pyerr",
       "traceback": [
        "\u001b[0;31m---------------------------------------------------------------------------\u001b[0m\n\u001b[0;31mKeyError\u001b[0m                                  Traceback (most recent call last)",
        "\u001b[0;32m<ipython-input-20-9c5dfd6fd4d8>\u001b[0m in \u001b[0;36m<module>\u001b[0;34m()\u001b[0m\n\u001b[0;32m----> 1\u001b[0;31m \u001b[0ms\u001b[0m \u001b[0;34m=\u001b[0m \u001b[0mmeans\u001b[0m\u001b[0;34m.\u001b[0m\u001b[0msimulation\u001b[0m\u001b[0;34m.\u001b[0m\u001b[0mSimulation\u001b[0m\u001b[0;34m(\u001b[0m\u001b[0mPROBLEMS\u001b[0m\u001b[0;34m[\u001b[0m\u001b[0;36m6\u001b[0m\u001b[0;34m,\u001b[0m \u001b[0;34m'zero'\u001b[0m\u001b[0;34m]\u001b[0m\u001b[0;34m)\u001b[0m\u001b[0;34m\u001b[0m\u001b[0m\n\u001b[0m",
        "\u001b[0;31mKeyError\u001b[0m: (6, 'zero')"
       ]
      }
     ],
     "prompt_number": 20
    },
    {
     "cell_type": "code",
     "collapsed": false,
     "input": [
      "%timeit s.simulate_system(parameters['safe'], initial_conditions, timepoints)"
     ],
     "language": "python",
     "metadata": {},
     "outputs": [
      {
       "metadata": {},
       "output_type": "pyout",
       "prompt_number": 11,
       "text": [
        "[Trajectory object\n",
        "description: 1, 0, 0\n",
        "time points: [0.0, 0.1, 0.2, 0.3, ...,39.6, 39.7, 39.8, 39.9]\n",
        "values: [70.0, 68.335, 66.926, 65.726, ...,65.364, 65.364, 65.365, 65.365],\n",
        " Trajectory object\n",
        "description: 0, 1, 0\n",
        "time points: [0.0, 0.1, 0.2, 0.3, ...,39.6, 39.7, 39.8, 39.9]\n",
        "values: [30.0, 31.453, 32.49, 33.209, ...,35.951, 35.951, 35.951, 35.951],\n",
        " Trajectory object\n",
        "description: 0, 0, 1\n",
        "time points: [0.0, 0.1, 0.2, 0.3, ...,39.6, 39.7, 39.8, 39.9]\n",
        "values: [90.0, 87.631, 85.714, 84.138, ...,74.902, 74.901, 74.901, 74.901],\n",
        " Trajectory object\n",
        "description: 0, 0, 2\n",
        "time points: [0.0, 0.1, 0.2, 0.3, ...,39.6, 39.7, 39.8, 39.9]\n",
        "values: [0.0, 12.457, 21.725, 29.002, ...,298.474, 298.475, 298.476, 298.476],\n",
        " Trajectory object\n",
        "description: 0, 1, 1\n",
        "time points: [0.0, 0.1, 0.2, 0.3, ...,39.6, 39.7, 39.8, 39.9]\n",
        "values: [0.0, -4.258, -6.087, -6.51, ...,107.318, 107.318, 107.318, 107.318],\n",
        " Trajectory object\n",
        "description: 0, 2, 0\n",
        "time points: [0.0, 0.1, 0.2, 0.3, ...,39.6, 39.7, 39.8, 39.9]\n",
        "values: [0.0, 11.43, 19.598, 25.852, ...,154.035, 154.034, 154.033, 154.032],\n",
        " Trajectory object\n",
        "description: 1, 0, 1\n",
        "time points: [0.0, 0.1, 0.2, 0.3, ...,39.6, 39.7, 39.8, 39.9]\n",
        "values: [0.0, -0.676, -2.061, -3.469, ...,74.086, 74.085, 74.084, 74.082],\n",
        " Trajectory object\n",
        "description: 1, 1, 0\n",
        "time points: [0.0, 0.1, 0.2, 0.3, ...,39.6, 39.7, 39.8, 39.9]\n",
        "values: [0.0, 1.285, 4.614, 9.424, ...,214.696, 214.694, 214.692, 214.691],\n",
        " Trajectory object\n",
        "description: 2, 0, 0\n",
        "time points: [0.0, 0.1, 0.2, 0.3, ...,39.6, 39.7, 39.8, 39.9]\n",
        "values: [0.0, 19.718, 39.436, 59.283, ...,507.83, 507.827, 507.824, 507.821],\n",
        " Trajectory object\n",
        "description: 0, 0, 3\n",
        "time points: [0.0, 0.1, 0.2, 0.3, ...,39.6, 39.7, 39.8, 39.9]\n",
        "values: [0.0, -2.62, -3.414, -1.686, ...,449.098, 449.272, 449.481, 449.701],\n",
        " Trajectory object\n",
        "description: 0, 1, 2\n",
        "time points: [0.0, 0.1, 0.2, 0.3, ...,39.6, 39.7, 39.8, 39.9]\n",
        "values: [0.0, -2.76, -2.3, -1.025, ...,-34.732, -34.592, -34.467, -34.373],\n",
        " Trajectory object\n",
        "description: 0, 2, 1\n",
        "time points: [0.0, 0.1, 0.2, 0.3, ...,39.6, 39.7, 39.8, 39.9]\n",
        "values: [0.0, 2.691, 1.989, 0.527, ...,36.658, 36.7, 36.716, 36.703],\n",
        " Trajectory object\n",
        "description: 0, 3, 0\n",
        "time points: [0.0, 0.1, 0.2, 0.3, ...,39.6, 39.7, 39.8, 39.9]\n",
        "values: [0.0, 4.269, 11.638, 20.506, ...,295.817, 295.793, 295.754, 295.705],\n",
        " Trajectory object\n",
        "description: 1, 0, 2\n",
        "time points: [0.0, 0.1, 0.2, 0.3, ...,39.6, 39.7, 39.8, 39.9]\n",
        "values: [0.0, 0.244, 1.071, 2.382, ...,-173.837, -173.63, -173.483, -173.421],\n",
        " Trajectory object\n",
        "description: 1, 1, 1\n",
        "time points: [0.0, 0.1, 0.2, 0.3, ...,39.6, 39.7, 39.8, 39.9]\n",
        "values: [0.0, 0.191, 0.411, 0.518, ...,-73.278, -73.28, -73.331, -73.429],\n",
        " Trajectory object\n",
        "description: 1, 2, 0\n",
        "time points: [0.0, 0.1, 0.2, 0.3, ...,39.6, 39.7, 39.8, 39.9]\n",
        "values: [0.0, 0.82, 3.38, 7.509, ...,43.025, 42.94, 42.84, 42.736],\n",
        " Trajectory object\n",
        "description: 2, 0, 1\n",
        "time points: [0.0, 0.1, 0.2, 0.3, ...,39.6, 39.7, 39.8, 39.9]\n",
        "values: [0.0, 0.719, 2.346, 4.314, ...,77.146, 76.993, 76.764, 76.485],\n",
        " Trajectory object\n",
        "description: 2, 1, 0\n",
        "time points: [0.0, 0.1, 0.2, 0.3, ...,39.6, 39.7, 39.8, 39.9]\n",
        "values: [0.0, -0.378, -1.258, -2.414, ...,-351.11, -351.307, -351.504, -351.676],\n",
        " Trajectory object\n",
        "description: 3, 0, 0\n",
        "time points: [0.0, 0.1, 0.2, 0.3, ...,39.6, 39.7, 39.8, 39.9]\n",
        "values: [0.0, -1.835, -4.241, -7.605, ...,-918.411, -918.765, -919.068, -919.273]]"
       ]
      }
     ],
     "prompt_number": 11
    },
    {
     "cell_type": "code",
     "collapsed": false,
     "input": [
      "import timeit"
     ],
     "language": "python",
     "metadata": {},
     "outputs": [],
     "prompt_number": 12
    },
    {
     "cell_type": "code",
     "collapsed": false,
     "input": [
      "def runtime_test_function(simulation, value, initial_conditions, timepoints):\n",
      "    def f():\n",
      "        try:\n",
      "            simulation.simulate_system(value, initial_conditions, timepoints)\n",
      "            return True\n",
      "        except Exception:\n",
      "            return False\n",
      "    return f           "
     ],
     "language": "python",
     "metadata": {},
     "outputs": [],
     "prompt_number": 13
    },
    {
     "cell_type": "code",
     "collapsed": false,
     "input": [
      "simulation_kwargs_to_test = [{'solver': solver} for solver in means.simulation.Simulation.supported_solvers()]"
     ],
     "language": "python",
     "metadata": {},
     "outputs": [],
     "prompt_number": 14
    },
    {
     "cell_type": "code",
     "collapsed": false,
     "input": [
      "simulation_kwargs_to_test.append({'solver' : 'ode15s', 'iter': 'Newton'})\n",
      "simulation_kwargs_to_test.append({'solver' : 'ode15s', 'rtol': 1e-6})"
     ],
     "language": "python",
     "metadata": {},
     "outputs": [],
     "prompt_number": 15
    },
    {
     "cell_type": "code",
     "collapsed": false,
     "input": [
      "from collections import defaultdict"
     ],
     "language": "python",
     "metadata": {},
     "outputs": [],
     "prompt_number": 16
    },
    {
     "cell_type": "code",
     "collapsed": false,
     "input": [
      "#%%cache runtimes-safe-unsafe.pkl runtimes\n",
      "runtimes = defaultdict(lambda: defaultdict(lambda: {}))\n",
      "NUMBER_OF_RUNS = 10\n",
      "for description, problem in PROBLEMS.items()[:-4]:\n",
      "    for kwargs in simulation_kwargs_to_test:\n",
      "        kwargs_key = ', '.join(map(lambda x: '{0}={1!r}'.format(x[0], x[1]), sorted(kwargs.items())))\n",
      "        simulation = means.simulation.Simulation(problem, **kwargs)\n",
      "        # Warm simulation instance up (cache the numerical evaluation routines)\n",
      "        print \"Warming up {0}, {1}\".format(description, kwargs_key)\n",
      "        try:\n",
      "            simulation.simulate_system(parameters['safe'], initial_conditions, np.arange(0, 1, 0.5))\n",
      "        except Exception:\n",
      "            pass\n",
      "        \n",
      "        for key, value in parameters.iteritems():\n",
      "            print \"Timing {0}\".format(key)\n",
      "            timer = timeit.Timer(runtime_test_function(simulation, value, initial_conditions, timepoints))\n",
      "            runtime = timer.timeit(number=NUMBER_OF_RUNS)\n",
      "            runtime /= float(NUMBER_OF_RUNS)\n",
      "            print \"Timing {0} result: {1}\".format(key, runtime)\n",
      "            runtimes[description][kwargs_key][key] = runtime                   \n",
      "        "
     ],
     "language": "python",
     "metadata": {},
     "outputs": [
      {
       "output_type": "stream",
       "stream": "stdout",
       "text": [
        "Warming up (2, 'normal'), solver='cvode'\n",
        "Timing safe"
       ]
      },
      {
       "output_type": "stream",
       "stream": "stdout",
       "text": [
        "\n",
        "Timing safe result: 0.0189222097397"
       ]
      },
      {
       "output_type": "stream",
       "stream": "stdout",
       "text": [
        "\n",
        "Timing unsafe\n",
        "Timing unsafe result: 0.045315694809"
       ]
      },
      {
       "output_type": "stream",
       "stream": "stdout",
       "text": [
        "\n",
        "Warming up (2, 'normal'), solver='dopri5'\n",
        "Timing safe\n",
        "Timing safe result: 0.0329858064651"
       ]
      },
      {
       "output_type": "stream",
       "stream": "stdout",
       "text": [
        "\n",
        "Timing unsafe\n",
        "Timing unsafe result: 0.0730929851532"
       ]
      },
      {
       "output_type": "stream",
       "stream": "stdout",
       "text": [
        "\n",
        "Warming up (2, 'normal'), solver='euler'\n",
        "Timing safe\n",
        "Timing safe result: 0.190368008614"
       ]
      },
      {
       "output_type": "stream",
       "stream": "stdout",
       "text": [
        "\n",
        "Timing unsafe\n",
        "Timing unsafe result: 0.189115381241"
       ]
      },
      {
       "output_type": "stream",
       "stream": "stdout",
       "text": [
        "\n",
        "Warming up (2, 'normal'), solver='lsodar'\n",
        "Timing safe\n",
        "Timing safe result: 0.03861348629"
       ]
      },
      {
       "output_type": "stream",
       "stream": "stdout",
       "text": [
        "\n",
        "Timing unsafe\n",
        "Timing unsafe result: 0.100736093521"
       ]
      },
      {
       "output_type": "stream",
       "stream": "stdout",
       "text": [
        "\n",
        "Warming up (2, 'normal'), solver='ode15s'\n",
        "Timing safe\n",
        "Timing safe result: 0.013955783844"
       ]
      },
      {
       "output_type": "stream",
       "stream": "stdout",
       "text": [
        "\n",
        "Timing unsafe\n",
        "Timing unsafe result: 0.0285160064697"
       ]
      },
      {
       "output_type": "stream",
       "stream": "stdout",
       "text": [
        "\n",
        "Warming up (2, 'normal'), solver='radau5'\n",
        "Timing safe\n",
        "Timing safe result: 0.0292187929153"
       ]
      },
      {
       "output_type": "stream",
       "stream": "stdout",
       "text": [
        "\n",
        "Timing unsafe\n",
        "Timing unsafe result: 0.154682803154"
       ]
      },
      {
       "output_type": "stream",
       "stream": "stdout",
       "text": [
        "\n",
        "Warming up (2, 'normal'), solver='rodas'\n",
        "Timing safe\n",
        "Timing safe result: 0.11120300293"
       ]
      },
      {
       "output_type": "stream",
       "stream": "stdout",
       "text": [
        "\n",
        "Timing unsafe\n",
        "Timing unsafe result: 0.360456991196"
       ]
      },
      {
       "output_type": "stream",
       "stream": "stdout",
       "text": [
        "\n",
        "Warming up (2, 'normal'), solver='rungekutta34'\n",
        "Timing safe\n",
        "Timing safe result: 0.114567089081"
       ]
      },
      {
       "output_type": "stream",
       "stream": "stdout",
       "text": [
        "\n",
        "Timing unsafe\n",
        "Timing unsafe result: 0.345328187943"
       ]
      },
      {
       "output_type": "stream",
       "stream": "stdout",
       "text": [
        "\n",
        "Warming up (2, 'normal'), solver='rungekutta4'\n",
        "Timing safe\n",
        "Timing safe result: 0.828302097321"
       ]
      },
      {
       "output_type": "stream",
       "stream": "stdout",
       "text": [
        "\n",
        "Timing unsafe\n",
        "Timing unsafe result: 0.866468405724"
       ]
      },
      {
       "output_type": "stream",
       "stream": "stdout",
       "text": [
        "\n",
        "Warming up (2, 'normal'), iter='Newton', solver='ode15s'\n",
        "Timing safe\n",
        "Timing safe result: 0.0117029190063"
       ]
      },
      {
       "output_type": "stream",
       "stream": "stdout",
       "text": [
        "\n",
        "Timing unsafe\n",
        "Timing unsafe result: 0.0312376976013"
       ]
      },
      {
       "output_type": "stream",
       "stream": "stdout",
       "text": [
        "\n",
        "Warming up (2, 'normal'), rtol=1e-06, solver='ode15s'\n",
        "Timing safe\n",
        "Timing safe result: 0.020872592926"
       ]
      },
      {
       "output_type": "stream",
       "stream": "stdout",
       "text": [
        "\n",
        "Timing unsafe\n",
        "Timing unsafe result: 0.0485445022583"
       ]
      },
      {
       "output_type": "stream",
       "stream": "stdout",
       "text": [
        "\n",
        "Warming up (2, 'zero'), solver='cvode'\n",
        "Timing safe"
       ]
      },
      {
       "output_type": "stream",
       "stream": "stdout",
       "text": [
        "\n",
        "Timing safe result: 0.0189930915833"
       ]
      },
      {
       "output_type": "stream",
       "stream": "stdout",
       "text": [
        "\n",
        "Timing unsafe\n",
        "Timing unsafe result: 0.04593770504"
       ]
      },
      {
       "output_type": "stream",
       "stream": "stdout",
       "text": [
        "\n",
        "Warming up (2, 'zero'), solver='dopri5'\n",
        "Timing safe\n",
        "Timing safe result: 0.0325105190277"
       ]
      },
      {
       "output_type": "stream",
       "stream": "stdout",
       "text": [
        "\n",
        "Timing unsafe\n",
        "Timing unsafe result: 0.0730126142502"
       ]
      },
      {
       "output_type": "stream",
       "stream": "stdout",
       "text": [
        "\n",
        "Warming up (2, 'zero'), solver='euler'\n",
        "Timing safe\n",
        "Timing safe result: 0.190884494781"
       ]
      },
      {
       "output_type": "stream",
       "stream": "stdout",
       "text": [
        "\n",
        "Timing unsafe\n",
        "Timing unsafe result: 0.184195494652"
       ]
      },
      {
       "output_type": "stream",
       "stream": "stdout",
       "text": [
        "\n",
        "Warming up (2, 'zero'), solver='lsodar'\n",
        "Timing safe\n",
        "Timing safe result: 0.0377247095108"
       ]
      },
      {
       "output_type": "stream",
       "stream": "stdout",
       "text": [
        "\n",
        "Timing unsafe\n",
        "Timing unsafe result: 0.0816682100296"
       ]
      },
      {
       "output_type": "stream",
       "stream": "stdout",
       "text": [
        "\n",
        "Warming up (2, 'zero'), solver='ode15s'\n",
        "Timing safe\n",
        "Timing safe result: 0.0115802049637"
       ]
      },
      {
       "output_type": "stream",
       "stream": "stdout",
       "text": [
        "\n",
        "Timing unsafe\n",
        "Timing unsafe result: 0.0257211923599"
       ]
      },
      {
       "output_type": "stream",
       "stream": "stdout",
       "text": [
        "\n",
        "Warming up (2, 'zero'), solver='radau5'\n",
        "Timing safe\n",
        "Timing safe result: 0.0289905071259"
       ]
      },
      {
       "output_type": "stream",
       "stream": "stdout",
       "text": [
        "\n",
        "Timing unsafe\n",
        "Timing unsafe result: 0.146977901459"
       ]
      },
      {
       "output_type": "stream",
       "stream": "stdout",
       "text": [
        "\n",
        "Warming up (2, 'zero'), solver='rodas'\n",
        "Timing safe\n",
        "Timing safe result: 0.101888394356"
       ]
      },
      {
       "output_type": "stream",
       "stream": "stdout",
       "text": [
        "\n",
        "Timing unsafe\n",
        "Timing unsafe result: 0.347388792038"
       ]
      },
      {
       "output_type": "stream",
       "stream": "stdout",
       "text": [
        "\n",
        "Warming up (2, 'zero'), solver='rungekutta34'\n",
        "Timing safe\n",
        "Timing safe result: 0.113069915771"
       ]
      },
      {
       "output_type": "stream",
       "stream": "stdout",
       "text": [
        "\n",
        "Timing unsafe\n",
        "Timing unsafe result: 0.349529695511"
       ]
      },
      {
       "output_type": "stream",
       "stream": "stdout",
       "text": [
        "\n",
        "Warming up (2, 'zero'), solver='rungekutta4'\n",
        "Timing safe\n",
        "Timing safe result: 0.858458995819"
       ]
      },
      {
       "ename": "KeyboardInterrupt",
       "evalue": "",
       "output_type": "pyerr",
       "traceback": [
        "\u001b[0;31m---------------------------------------------------------------------------\u001b[0m\n\u001b[0;31mKeyboardInterrupt\u001b[0m                         Traceback (most recent call last)",
        "\u001b[0;32m<ipython-input-17-4299621c9c19>\u001b[0m in \u001b[0;36m<module>\u001b[0;34m()\u001b[0m\n\u001b[1;32m     16\u001b[0m             \u001b[0;32mprint\u001b[0m \u001b[0;34m\"Timing {0}\"\u001b[0m\u001b[0;34m.\u001b[0m\u001b[0mformat\u001b[0m\u001b[0;34m(\u001b[0m\u001b[0mkey\u001b[0m\u001b[0;34m)\u001b[0m\u001b[0;34m\u001b[0m\u001b[0m\n\u001b[1;32m     17\u001b[0m             \u001b[0mtimer\u001b[0m \u001b[0;34m=\u001b[0m \u001b[0mtimeit\u001b[0m\u001b[0;34m.\u001b[0m\u001b[0mTimer\u001b[0m\u001b[0;34m(\u001b[0m\u001b[0mruntime_test_function\u001b[0m\u001b[0;34m(\u001b[0m\u001b[0msimulation\u001b[0m\u001b[0;34m,\u001b[0m \u001b[0mvalue\u001b[0m\u001b[0;34m,\u001b[0m \u001b[0minitial_conditions\u001b[0m\u001b[0;34m,\u001b[0m \u001b[0mtimepoints\u001b[0m\u001b[0;34m)\u001b[0m\u001b[0;34m)\u001b[0m\u001b[0;34m\u001b[0m\u001b[0m\n\u001b[0;32m---> 18\u001b[0;31m             \u001b[0mruntime\u001b[0m \u001b[0;34m=\u001b[0m \u001b[0mtimer\u001b[0m\u001b[0;34m.\u001b[0m\u001b[0mtimeit\u001b[0m\u001b[0;34m(\u001b[0m\u001b[0mnumber\u001b[0m\u001b[0;34m=\u001b[0m\u001b[0mNUMBER_OF_RUNS\u001b[0m\u001b[0;34m)\u001b[0m\u001b[0;34m\u001b[0m\u001b[0m\n\u001b[0m\u001b[1;32m     19\u001b[0m             \u001b[0mruntime\u001b[0m \u001b[0;34m/=\u001b[0m \u001b[0mfloat\u001b[0m\u001b[0;34m(\u001b[0m\u001b[0mNUMBER_OF_RUNS\u001b[0m\u001b[0;34m)\u001b[0m\u001b[0;34m\u001b[0m\u001b[0m\n\u001b[1;32m     20\u001b[0m             \u001b[0;32mprint\u001b[0m \u001b[0;34m\"Timing {0} result: {1}\"\u001b[0m\u001b[0;34m.\u001b[0m\u001b[0mformat\u001b[0m\u001b[0;34m(\u001b[0m\u001b[0mkey\u001b[0m\u001b[0;34m,\u001b[0m \u001b[0mruntime\u001b[0m\u001b[0;34m)\u001b[0m\u001b[0;34m\u001b[0m\u001b[0m\n",
        "\u001b[0;32m/System/Library/Frameworks/Python.framework/Versions/2.7/lib/python2.7/timeit.pyc\u001b[0m in \u001b[0;36mtimeit\u001b[0;34m(self, number)\u001b[0m\n\u001b[1;32m    193\u001b[0m         \u001b[0mgc\u001b[0m\u001b[0;34m.\u001b[0m\u001b[0mdisable\u001b[0m\u001b[0;34m(\u001b[0m\u001b[0;34m)\u001b[0m\u001b[0;34m\u001b[0m\u001b[0m\n\u001b[1;32m    194\u001b[0m         \u001b[0;32mtry\u001b[0m\u001b[0;34m:\u001b[0m\u001b[0;34m\u001b[0m\u001b[0m\n\u001b[0;32m--> 195\u001b[0;31m             \u001b[0mtiming\u001b[0m \u001b[0;34m=\u001b[0m \u001b[0mself\u001b[0m\u001b[0;34m.\u001b[0m\u001b[0minner\u001b[0m\u001b[0;34m(\u001b[0m\u001b[0mit\u001b[0m\u001b[0;34m,\u001b[0m \u001b[0mself\u001b[0m\u001b[0;34m.\u001b[0m\u001b[0mtimer\u001b[0m\u001b[0;34m)\u001b[0m\u001b[0;34m\u001b[0m\u001b[0m\n\u001b[0m\u001b[1;32m    196\u001b[0m         \u001b[0;32mfinally\u001b[0m\u001b[0;34m:\u001b[0m\u001b[0;34m\u001b[0m\u001b[0m\n\u001b[1;32m    197\u001b[0m             \u001b[0;32mif\u001b[0m \u001b[0mgcold\u001b[0m\u001b[0;34m:\u001b[0m\u001b[0;34m\u001b[0m\u001b[0m\n",
        "\u001b[0;32m/System/Library/Frameworks/Python.framework/Versions/2.7/lib/python2.7/timeit.pyc\u001b[0m in \u001b[0;36minner\u001b[0;34m(_it, _timer, _func)\u001b[0m\n\u001b[1;32m     98\u001b[0m         \u001b[0m_t0\u001b[0m \u001b[0;34m=\u001b[0m \u001b[0m_timer\u001b[0m\u001b[0;34m(\u001b[0m\u001b[0;34m)\u001b[0m\u001b[0;34m\u001b[0m\u001b[0m\n\u001b[1;32m     99\u001b[0m         \u001b[0;32mfor\u001b[0m \u001b[0m_i\u001b[0m \u001b[0;32min\u001b[0m \u001b[0m_it\u001b[0m\u001b[0;34m:\u001b[0m\u001b[0;34m\u001b[0m\u001b[0m\n\u001b[0;32m--> 100\u001b[0;31m             \u001b[0m_func\u001b[0m\u001b[0;34m(\u001b[0m\u001b[0;34m)\u001b[0m\u001b[0;34m\u001b[0m\u001b[0m\n\u001b[0m\u001b[1;32m    101\u001b[0m         \u001b[0m_t1\u001b[0m \u001b[0;34m=\u001b[0m \u001b[0m_timer\u001b[0m\u001b[0;34m(\u001b[0m\u001b[0;34m)\u001b[0m\u001b[0;34m\u001b[0m\u001b[0m\n\u001b[1;32m    102\u001b[0m         \u001b[0;32mreturn\u001b[0m \u001b[0m_t1\u001b[0m \u001b[0;34m-\u001b[0m \u001b[0m_t0\u001b[0m\u001b[0;34m\u001b[0m\u001b[0m\n",
        "\u001b[0;32m<ipython-input-13-7df593497464>\u001b[0m in \u001b[0;36mf\u001b[0;34m()\u001b[0m\n\u001b[1;32m      2\u001b[0m     \u001b[0;32mdef\u001b[0m \u001b[0mf\u001b[0m\u001b[0;34m(\u001b[0m\u001b[0;34m)\u001b[0m\u001b[0;34m:\u001b[0m\u001b[0;34m\u001b[0m\u001b[0m\n\u001b[1;32m      3\u001b[0m         \u001b[0;32mtry\u001b[0m\u001b[0;34m:\u001b[0m\u001b[0;34m\u001b[0m\u001b[0m\n\u001b[0;32m----> 4\u001b[0;31m             \u001b[0msimulation\u001b[0m\u001b[0;34m.\u001b[0m\u001b[0msimulate_system\u001b[0m\u001b[0;34m(\u001b[0m\u001b[0mvalue\u001b[0m\u001b[0;34m,\u001b[0m \u001b[0minitial_conditions\u001b[0m\u001b[0;34m,\u001b[0m \u001b[0mtimepoints\u001b[0m\u001b[0;34m)\u001b[0m\u001b[0;34m\u001b[0m\u001b[0m\n\u001b[0m\u001b[1;32m      5\u001b[0m             \u001b[0;32mreturn\u001b[0m \u001b[0mTrue\u001b[0m\u001b[0;34m\u001b[0m\u001b[0m\n\u001b[1;32m      6\u001b[0m         \u001b[0;32mexcept\u001b[0m \u001b[0mException\u001b[0m\u001b[0;34m:\u001b[0m\u001b[0;34m\u001b[0m\u001b[0m\n",
        "\u001b[0;32m/Users/saulius/dev/coursework/MScProj1/src/means/simulation/simulate.pyc\u001b[0m in \u001b[0;36msimulate_system\u001b[0;34m(self, parameters, initial_conditions, timepoints)\u001b[0m\n\u001b[1;32m    159\u001b[0m         \u001b[0minitial_conditions\u001b[0m \u001b[0;34m=\u001b[0m \u001b[0mself\u001b[0m\u001b[0;34m.\u001b[0m\u001b[0m_append_zeros\u001b[0m\u001b[0;34m(\u001b[0m\u001b[0minitial_conditions\u001b[0m\u001b[0;34m,\u001b[0m \u001b[0mself\u001b[0m\u001b[0;34m.\u001b[0m\u001b[0mproblem\u001b[0m\u001b[0;34m.\u001b[0m\u001b[0mnumber_of_equations\u001b[0m\u001b[0;34m)\u001b[0m\u001b[0;34m\u001b[0m\u001b[0m\n\u001b[1;32m    160\u001b[0m         \u001b[0msolver\u001b[0m \u001b[0;34m=\u001b[0m \u001b[0mself\u001b[0m\u001b[0;34m.\u001b[0m\u001b[0m_initialise_solver\u001b[0m\u001b[0;34m(\u001b[0m\u001b[0minitial_conditions\u001b[0m\u001b[0;34m,\u001b[0m \u001b[0mparameters\u001b[0m\u001b[0;34m,\u001b[0m \u001b[0mtimepoints\u001b[0m\u001b[0;34m)\u001b[0m\u001b[0;34m\u001b[0m\u001b[0m\n\u001b[0;32m--> 161\u001b[0;31m         \u001b[0mtrajectories\u001b[0m \u001b[0;34m=\u001b[0m \u001b[0msolver\u001b[0m\u001b[0;34m.\u001b[0m\u001b[0msimulate\u001b[0m\u001b[0;34m(\u001b[0m\u001b[0mtimepoints\u001b[0m\u001b[0;34m)\u001b[0m\u001b[0;34m\u001b[0m\u001b[0m\n\u001b[0m\u001b[1;32m    162\u001b[0m \u001b[0;34m\u001b[0m\u001b[0m\n\u001b[1;32m    163\u001b[0m         \u001b[0;32mreturn\u001b[0m \u001b[0mself\u001b[0m\u001b[0;34m.\u001b[0m\u001b[0m_postprocessing\u001b[0m\u001b[0;34m(\u001b[0m\u001b[0mself\u001b[0m\u001b[0;34m.\u001b[0m\u001b[0mproblem\u001b[0m\u001b[0;34m,\u001b[0m \u001b[0mtrajectories\u001b[0m\u001b[0;34m)\u001b[0m\u001b[0;34m\u001b[0m\u001b[0m\n",
        "\u001b[0;32m/Users/saulius/dev/coursework/MScProj1/src/means/simulation/solvers.pyc\u001b[0m in \u001b[0;36msimulate\u001b[0;34m(self, timepoints)\u001b[0m\n\u001b[1;32m    142\u001b[0m         \u001b[0mlast_timepoint\u001b[0m \u001b[0;34m=\u001b[0m \u001b[0mtimepoints\u001b[0m\u001b[0;34m[\u001b[0m\u001b[0;34m-\u001b[0m\u001b[0;36m1\u001b[0m\u001b[0;34m]\u001b[0m\u001b[0;34m\u001b[0m\u001b[0m\n\u001b[1;32m    143\u001b[0m         \u001b[0;32mtry\u001b[0m\u001b[0;34m:\u001b[0m\u001b[0;34m\u001b[0m\u001b[0m\n\u001b[0;32m--> 144\u001b[0;31m             \u001b[0msimulated_timepoints\u001b[0m\u001b[0;34m,\u001b[0m \u001b[0msimulated_values\u001b[0m \u001b[0;34m=\u001b[0m \u001b[0msolver\u001b[0m\u001b[0;34m.\u001b[0m\u001b[0msimulate\u001b[0m\u001b[0;34m(\u001b[0m\u001b[0mlast_timepoint\u001b[0m\u001b[0;34m,\u001b[0m \u001b[0mncp_list\u001b[0m\u001b[0;34m=\u001b[0m\u001b[0mtimepoints\u001b[0m\u001b[0;34m)\u001b[0m\u001b[0;34m\u001b[0m\u001b[0m\n\u001b[0m\u001b[1;32m    145\u001b[0m         \u001b[0;32mexcept\u001b[0m \u001b[0;34m(\u001b[0m\u001b[0mException\u001b[0m\u001b[0;34m,\u001b[0m \u001b[0mself\u001b[0m\u001b[0;34m.\u001b[0m\u001b[0m_solver_exception_class\u001b[0m\u001b[0;34m)\u001b[0m \u001b[0;32mas\u001b[0m \u001b[0me\u001b[0m\u001b[0;34m:\u001b[0m\u001b[0;34m\u001b[0m\u001b[0m\n\u001b[1;32m    146\u001b[0m             \u001b[0;31m# The exceptions thrown by solvers are usually hiding the real cause, try to see if it is\u001b[0m\u001b[0;34m\u001b[0m\u001b[0;34m\u001b[0m\u001b[0m\n",
        "\u001b[0;32m/Users/saulius/.virtualenvs/msc-proj/lib/python2.7/site-packages/assimulo/ode.so\u001b[0m in \u001b[0;36massimulo.ode.ODE.simulate (assimulo/ode.c:4551)\u001b[0;34m()\u001b[0m\n",
        "\u001b[0;32m/Users/saulius/.virtualenvs/msc-proj/lib/python2.7/site-packages/assimulo/ode.so\u001b[0m in \u001b[0;36massimulo.ode.ODE.simulate (assimulo/ode.c:4145)\u001b[0;34m()\u001b[0m\n",
        "\u001b[0;32m/Users/saulius/.virtualenvs/msc-proj/lib/python2.7/site-packages/assimulo/explicit_ode.so\u001b[0m in \u001b[0;36massimulo.explicit_ode.Explicit_ODE._simulate (assimulo/explicit_ode.c:3684)\u001b[0;34m()\u001b[0m\n",
        "\u001b[0;32m/Users/saulius/.virtualenvs/msc-proj/lib/python2.7/site-packages/assimulo/explicit_ode.so\u001b[0m in \u001b[0;36massimulo.explicit_ode.Explicit_ODE._simulate (assimulo/explicit_ode.c:2851)\u001b[0;34m()\u001b[0m\n",
        "\u001b[0;32m/Users/saulius/.virtualenvs/msc-proj/lib/python2.7/site-packages/assimulo/solvers/runge_kutta.pyc\u001b[0m in \u001b[0;36mintegrate\u001b[0;34m(self, t, y, tf, opts)\u001b[0m\n\u001b[1;32m    815\u001b[0m         \u001b[0mIntegrates\u001b[0m \u001b[0;34m(\u001b[0m\u001b[0mt\u001b[0m\u001b[0;34m,\u001b[0m\u001b[0my\u001b[0m\u001b[0;34m)\u001b[0m \u001b[0mvalues\u001b[0m \u001b[0muntil\u001b[0m \u001b[0mt\u001b[0m \u001b[0;34m>\u001b[0m \u001b[0mtf\u001b[0m\u001b[0;34m\u001b[0m\u001b[0m\n\u001b[1;32m    816\u001b[0m         \"\"\"\n\u001b[0;32m--> 817\u001b[0;31m         \u001b[0;34m[\u001b[0m\u001b[0mflags\u001b[0m\u001b[0;34m,\u001b[0m \u001b[0mtlist\u001b[0m\u001b[0;34m,\u001b[0m \u001b[0mylist\u001b[0m\u001b[0;34m]\u001b[0m \u001b[0;34m=\u001b[0m \u001b[0mzip\u001b[0m\u001b[0;34m(\u001b[0m\u001b[0;34m*\u001b[0m\u001b[0mlist\u001b[0m\u001b[0;34m(\u001b[0m\u001b[0mself\u001b[0m\u001b[0;34m.\u001b[0m\u001b[0m_iter\u001b[0m\u001b[0;34m(\u001b[0m\u001b[0mt\u001b[0m\u001b[0;34m,\u001b[0m \u001b[0my\u001b[0m\u001b[0;34m,\u001b[0m \u001b[0mtf\u001b[0m\u001b[0;34m)\u001b[0m\u001b[0;34m)\u001b[0m\u001b[0;34m)\u001b[0m\u001b[0;34m\u001b[0m\u001b[0m\n\u001b[0m\u001b[1;32m    818\u001b[0m \u001b[0;34m\u001b[0m\u001b[0m\n\u001b[1;32m    819\u001b[0m         \u001b[0;32mreturn\u001b[0m \u001b[0mflags\u001b[0m\u001b[0;34m[\u001b[0m\u001b[0;34m-\u001b[0m\u001b[0;36m1\u001b[0m\u001b[0;34m]\u001b[0m\u001b[0;34m,\u001b[0m \u001b[0mtlist\u001b[0m\u001b[0;34m,\u001b[0m \u001b[0mylist\u001b[0m\u001b[0;34m\u001b[0m\u001b[0m\n",
        "\u001b[0;32m/Users/saulius/.virtualenvs/msc-proj/lib/python2.7/site-packages/assimulo/solvers/runge_kutta.pyc\u001b[0m in \u001b[0;36m_iter\u001b[0;34m(self, t, y, tf)\u001b[0m\n\u001b[1;32m    849\u001b[0m \u001b[0;34m\u001b[0m\u001b[0m\n\u001b[1;32m    850\u001b[0m         \u001b[0;32mwhile\u001b[0m \u001b[0mt\u001b[0m\u001b[0;34m+\u001b[0m\u001b[0mh\u001b[0m \u001b[0;34m<\u001b[0m \u001b[0mtf\u001b[0m\u001b[0;34m:\u001b[0m\u001b[0;34m\u001b[0m\u001b[0m\n\u001b[0;32m--> 851\u001b[0;31m             \u001b[0mt\u001b[0m\u001b[0;34m,\u001b[0m \u001b[0my\u001b[0m \u001b[0;34m=\u001b[0m \u001b[0mself\u001b[0m\u001b[0;34m.\u001b[0m\u001b[0m_step\u001b[0m\u001b[0;34m(\u001b[0m\u001b[0mt\u001b[0m\u001b[0;34m,\u001b[0m \u001b[0my\u001b[0m\u001b[0;34m,\u001b[0m \u001b[0mh\u001b[0m\u001b[0;34m)\u001b[0m\u001b[0;34m\u001b[0m\u001b[0m\n\u001b[0m\u001b[1;32m    852\u001b[0m             \u001b[0;32myield\u001b[0m \u001b[0mID_PY_OK\u001b[0m\u001b[0;34m,\u001b[0m \u001b[0mt\u001b[0m\u001b[0;34m,\u001b[0m\u001b[0my\u001b[0m\u001b[0;34m\u001b[0m\u001b[0m\n\u001b[1;32m    853\u001b[0m             \u001b[0mh\u001b[0m\u001b[0;34m=\u001b[0m\u001b[0mmin\u001b[0m\u001b[0;34m(\u001b[0m\u001b[0mh\u001b[0m\u001b[0;34m,\u001b[0m \u001b[0mN\u001b[0m\u001b[0;34m.\u001b[0m\u001b[0mabs\u001b[0m\u001b[0;34m(\u001b[0m\u001b[0mtf\u001b[0m\u001b[0;34m-\u001b[0m\u001b[0mt\u001b[0m\u001b[0;34m)\u001b[0m\u001b[0;34m)\u001b[0m\u001b[0;34m\u001b[0m\u001b[0m\n",
        "\u001b[0;32m/Users/saulius/.virtualenvs/msc-proj/lib/python2.7/site-packages/assimulo/solvers/runge_kutta.pyc\u001b[0m in \u001b[0;36m_step\u001b[0;34m(self, t, y, h)\u001b[0m\n\u001b[1;32m    863\u001b[0m \u001b[0;34m\u001b[0m\u001b[0m\n\u001b[1;32m    864\u001b[0m         \u001b[0mf\u001b[0m\u001b[0;34m(\u001b[0m\u001b[0mself\u001b[0m\u001b[0;34m.\u001b[0m\u001b[0mY1\u001b[0m\u001b[0;34m,\u001b[0m \u001b[0mt\u001b[0m\u001b[0;34m,\u001b[0m \u001b[0my\u001b[0m\u001b[0;34m)\u001b[0m\u001b[0;34m\u001b[0m\u001b[0m\n\u001b[0;32m--> 865\u001b[0;31m         \u001b[0mf\u001b[0m\u001b[0;34m(\u001b[0m\u001b[0mself\u001b[0m\u001b[0;34m.\u001b[0m\u001b[0mY2\u001b[0m\u001b[0;34m,\u001b[0m \u001b[0mt\u001b[0m \u001b[0;34m+\u001b[0m \u001b[0mh\u001b[0m\u001b[0;34m/\u001b[0m\u001b[0;36m2.\u001b[0m\u001b[0;34m,\u001b[0m \u001b[0my\u001b[0m \u001b[0;34m+\u001b[0m \u001b[0mh\u001b[0m\u001b[0;34m*\u001b[0m\u001b[0mself\u001b[0m\u001b[0;34m.\u001b[0m\u001b[0mY1\u001b[0m\u001b[0;34m/\u001b[0m\u001b[0;36m2.\u001b[0m\u001b[0;34m)\u001b[0m\u001b[0;34m\u001b[0m\u001b[0m\n\u001b[0m\u001b[1;32m    866\u001b[0m         \u001b[0mf\u001b[0m\u001b[0;34m(\u001b[0m\u001b[0mself\u001b[0m\u001b[0;34m.\u001b[0m\u001b[0mY3\u001b[0m\u001b[0;34m,\u001b[0m \u001b[0mt\u001b[0m \u001b[0;34m+\u001b[0m \u001b[0mh\u001b[0m\u001b[0;34m/\u001b[0m\u001b[0;36m2.\u001b[0m\u001b[0;34m,\u001b[0m \u001b[0my\u001b[0m \u001b[0;34m+\u001b[0m \u001b[0mh\u001b[0m\u001b[0;34m*\u001b[0m\u001b[0mself\u001b[0m\u001b[0;34m.\u001b[0m\u001b[0mY2\u001b[0m\u001b[0;34m/\u001b[0m\u001b[0;36m2.\u001b[0m\u001b[0;34m)\u001b[0m\u001b[0;34m\u001b[0m\u001b[0m\n\u001b[1;32m    867\u001b[0m         \u001b[0mf\u001b[0m\u001b[0;34m(\u001b[0m\u001b[0mself\u001b[0m\u001b[0;34m.\u001b[0m\u001b[0mY4\u001b[0m\u001b[0;34m,\u001b[0m \u001b[0mt\u001b[0m \u001b[0;34m+\u001b[0m \u001b[0mh\u001b[0m\u001b[0;34m,\u001b[0m \u001b[0my\u001b[0m \u001b[0;34m+\u001b[0m \u001b[0mh\u001b[0m\u001b[0;34m*\u001b[0m\u001b[0mself\u001b[0m\u001b[0;34m.\u001b[0m\u001b[0mY3\u001b[0m\u001b[0;34m)\u001b[0m\u001b[0;34m\u001b[0m\u001b[0m\n",
        "\u001b[0;31mKeyboardInterrupt\u001b[0m: "
       ]
      },
      {
       "output_type": "stream",
       "stream": "stdout",
       "text": [
        "\n",
        "Timing unsafe\n"
       ]
      }
     ],
     "prompt_number": 17
    },
    {
     "cell_type": "code",
     "collapsed": false,
     "input": [],
     "language": "python",
     "metadata": {},
     "outputs": []
    }
   ],
   "metadata": {}
  }
 ]
}
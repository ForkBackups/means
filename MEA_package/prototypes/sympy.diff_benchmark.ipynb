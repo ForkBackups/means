{
 "metadata": {
  "name": ""
 },
 "nbformat": 3,
 "nbformat_minor": 0,
 "worksheets": [
  {
   "cells": [
    {
     "cell_type": "code",
     "collapsed": false,
     "input": [
      "import sympy as sp\n",
      "import itertools"
     ],
     "language": "python",
     "metadata": {},
     "outputs": [],
     "prompt_number": 17
    },
    {
     "cell_type": "code",
     "collapsed": false,
     "input": [
      "expr = sp.simplify(\"c_0*y_0*(y_0 + y_1 - 181)/(y_2+c_1*y_1)\")"
     ],
     "language": "python",
     "metadata": {},
     "outputs": [],
     "prompt_number": 18
    },
    {
     "cell_type": "code",
     "collapsed": false,
     "input": [
      "variables = sp.simplify([\"y_0\",\"y_1\",\"y_2\"])"
     ],
     "language": "python",
     "metadata": {},
     "outputs": [],
     "prompt_number": 19
    },
    {
     "cell_type": "code",
     "collapsed": false,
     "input": [
      "a = [0,1,2,3,4,5]\n",
      "counter =  [i for i in itertools.product(a,a,a)]\n",
      "counter = [i for i in counter if sum(i) <= 5]\n"
     ],
     "language": "python",
     "metadata": {},
     "outputs": [],
     "prompt_number": 20
    },
    {
     "cell_type": "code",
     "collapsed": false,
     "input": [
      "# computes all derivatives independently (new proposed method)\n",
      "def derive_expr_from_counter_entry(expression, variables, counter_entry):\n",
      "    if sum(counter_entry) == 0:\n",
      "        return expression\n",
      "\n",
      "    expr_out = expression\n",
      "\n",
      "    for (var, entr) in zip(variables,counter_entry):\n",
      "        expr_out = sp.diff(expr_out, var, entr)\n",
      "        if(expr_out == sp.S(0)):\n",
      "            return sp.S(0)\n",
      "\n",
      "    return expr_out"
     ],
     "language": "python",
     "metadata": {},
     "outputs": [],
     "prompt_number": 21
    },
    {
     "cell_type": "code",
     "collapsed": false,
     "input": [
      "# pre-calculation of derivatives recursively (former method i.e. damat)\n",
      "def make_damat(amat, n_derivatives, ymat):\n",
      "    nreactions = len(amat)\n",
      "    nvariables = len(ymat)\n",
      "\n",
      "    damat = sp.Matrix(n_derivatives, 1, [0] * n_derivatives)\n",
      "\n",
      "    # At this point, `damat` is a matrix with 1 col and as many rows as moments. It is filled with 0s\n",
      "    # `amat` is the column matrix of propensities (as many as reactions)\n",
      "    # `ymat` is the column matrix of species (variables)\n",
      "\n",
      "\n",
      "    # For all moment orders\n",
      "    for D in range(0, n_derivatives):\n",
      "        # if 0th order moment\n",
      "        if D==0:\n",
      "            # create an empty row\n",
      "            row = []\n",
      "            # For all reactions\n",
      "            for na in range(0, nreactions):\n",
      "                # create an empty vect of reactions\n",
      "                reaction = []\n",
      "                # for all variables/ all species\n",
      "                for nv in range(0,nvariables):\n",
      "                    # We derive the propensity of this reaction with respect to a species\n",
      "\n",
      "                    deriv = sp.diff(amat[na,0],ymat[nv,0])\n",
      "                    reaction.append(deriv)\n",
      "                # In the end, we get the partial derivatives of the propensity\n",
      "                # of this reaction with respect to all species.\n",
      "                row.append(reaction)\n",
      "            # For all reactions in a given order of derivation D we have a row\n",
      "            damat[D,0] = row\n",
      "        else:\n",
      "            # this does the same as above but does higher order derivatives from the results obtained before\n",
      "            prev = sp.Matrix(damat[D-1,0])\n",
      "            row = []\n",
      "            for na in range(0,nreactions):\n",
      "                reaction = []\n",
      "                prevna = prev[na,:]\n",
      "                y = len(prevna)\n",
      "                for eq in range(0,y):\n",
      "                    for nv in range(0,nvariables):\n",
      "                        deriv = sp.diff(prevna[0,eq],ymat[nv,0])\n",
      "                        reaction.append(deriv)\n",
      "                row.append(reaction)\n",
      "            damat[D,0] = row\n",
      "    return damat"
     ],
     "language": "python",
     "metadata": {},
     "outputs": [],
     "prompt_number": 22
    },
    {
     "cell_type": "code",
     "collapsed": false,
     "input": [
      "%timeit make_damat(sp.Matrix(1,1,[expr]), 5, sp.Matrix(3, 1, variables))\n",
      "%timeit [derive_expr_from_counter_entry(expr, variables, c) for c in counter]"
     ],
     "language": "python",
     "metadata": {},
     "outputs": [
      {
       "output_type": "stream",
       "stream": "stdout",
       "text": [
        "1 loops, best of 3: 224 ms per loop\n",
        "10 loops, best of 3: 103 ms per loop"
       ]
      },
      {
       "output_type": "stream",
       "stream": "stdout",
       "text": [
        "\n"
       ]
      }
     ],
     "prompt_number": 23
    },
    {
     "cell_type": "code",
     "collapsed": false,
     "input": [],
     "language": "python",
     "metadata": {},
     "outputs": [],
     "prompt_number": 23
    },
    {
     "cell_type": "code",
     "collapsed": false,
     "input": [],
     "language": "python",
     "metadata": {},
     "outputs": []
    }
   ],
   "metadata": {}
  }
 ]
}
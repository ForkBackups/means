{
 "metadata": {
  "name": ""
 },
 "nbformat": 3,
 "nbformat_minor": 0,
 "worksheets": [
  {
   "cells": [
    {
     "cell_type": "code",
     "collapsed": false,
     "input": [
      "import sympy"
     ],
     "language": "python",
     "metadata": {},
     "outputs": [],
     "prompt_number": 2
    },
    {
     "cell_type": "code",
     "collapsed": false,
     "input": [
      "simplif_rhs = sympy.Matrix([\n",
      "\"-(-1.0*c_0**6*(c_0**2 + y_2**2)**3 + 0.03*c_0**4*y_0*(c_0**2 + y_2**2)**4 + c_0**4*yx1*(c_0**2 + y_2**2)*(-4.0*c_0**2*y_2**2 + 1.0*c_0**2*(c_0**2 + y_2**2)))/(c_0**4*(c_0**2 + y_2**2)**4)\",\n",
      "\"c_2*y_0 - c_3*y_1 - 0.03*y_1\",\n",
      "\"c_3*y_1 - 0.03*y_2\",\n",
      "\"1.0*c_3*y_1 + 2.0*c_3*yx2 + 0.03*y_2 - 0.06*yx1\",\n",
      "\"c_2*yx4 - c_3*y_1 + c_3*yx3 - yx2*(1.0*c_3 + 0.06)\",\n",
      "\"1.0*c_2*y_0 + 2*c_2*yx5 + 1.0*c_3*y_1 + 0.03*y_1 - yx3*(2.0*c_3 + 0.06)\",\n",
      "\"(2.0*c_0**2*y_2*yx1 - (c_3*yx5 - 0.06*yx4)*(1.0*c_0**4 + 2.0*c_0**2*y_2**2 + 1.0*y_2**4))/(-1.0*c_0**4 - 2.0*c_0**2*y_2**2 - 1.0*y_2**4)\",\n",
      "\"-(2.0*c_0**2*y_2*yx2 - (c_0**2 + y_2**2)**2*(c_2*yx6 - yx5*(1.0*c_3 + 0.06)))/(c_0**2 + y_2**2)**2\",\n",
      "\"-4.0*c_0**2*y_2*yx4/(c_0**2 + y_2**2)**2 + c_0**2*yx1*(-1.0*c_0**2 + 3.0*y_2**2)/(1.0*c_0**6 + 3.0*c_0**4*y_2**2 + 3.0*c_0**2*y_2**4 + 1.0*y_2**6) - 0.06*yx6 + (0.0299999999999998*c_0**2*y_0 + 1.0*c_0**2 + 0.03*y_0*y_2**2)/(c_0**2 + y_2**2)\"\n",
      "])\n",
      "expanded_rhs = sympy.Matrix([sympy.expand(i) for i in simplif_rhs])\n",
      "\n",
      "variables = sympy.symbols(['y_0','y_1','y_2','yx1','yx2','yx3','yx4','yx5','yx6'])\n",
      "constants = sympy.symbols(['c_0', 'c_1', 'c_2', 'c_3'])\n",
      "\n",
      "all_symbols = constants+variables"
     ],
     "language": "python",
     "metadata": {},
     "outputs": [],
     "prompt_number": 49
    },
    {
     "cell_type": "code",
     "collapsed": false,
     "input": [
      "constant_values = [0.5,\t1.0,\t0.1,\t0.1]\n",
      "initial_values = [3,\t10,\t10] +  [0] * 6\n",
      "all_values = constant_values + initial_values"
     ],
     "language": "python",
     "metadata": {},
     "outputs": [],
     "prompt_number": 50
    },
    {
     "cell_type": "code",
     "collapsed": false,
     "input": [
      "# Compile substitution dictionary\n",
      "substitution_dict = dict( zip(constants, constant_values) + zip(variables, initial_values) )"
     ],
     "language": "python",
     "metadata": {},
     "outputs": [],
     "prompt_number": 67
    },
    {
     "cell_type": "markdown",
     "metadata": {},
     "source": [
      "Same result for simplified and expanded expressions"
     ]
    },
    {
     "cell_type": "code",
     "collapsed": false,
     "input": [
      "simplif_lambda = sympy.lambdify(all_symbols, simplif_rhs)\n",
      "expanded_lambda = sympy.lambdify(all_symbols, expanded_rhs)\n",
      "\n",
      "expanded_lambda(*(all_values)) - simplif_lambda(*(all_values))"
     ],
     "language": "python",
     "metadata": {},
     "outputs": [
      {
       "metadata": {},
       "output_type": "pyout",
       "prompt_number": 66,
       "text": [
        "matrix([[ -1.38777878e-17],\n",
        "        [  0.00000000e+00],\n",
        "        [  0.00000000e+00],\n",
        "        [  0.00000000e+00],\n",
        "        [  0.00000000e+00],\n",
        "        [  0.00000000e+00],\n",
        "        [  0.00000000e+00],\n",
        "        [  0.00000000e+00],\n",
        "        [  0.00000000e+00]])"
       ]
      }
     ],
     "prompt_number": 66
    },
    {
     "cell_type": "markdown",
     "metadata": {},
     "source": [
      "We can se that evaluating simplified expressions is faster (~2.5x) than expanded ones.\n"
     ]
    },
    {
     "cell_type": "code",
     "collapsed": false,
     "input": [
      "%timeit expanded_lambda(*(all_values))\n",
      "%timeit simplif_lambda(*(all_values))\n",
      "#presubstitutions of constants:\n",
      "\n"
     ],
     "language": "python",
     "metadata": {},
     "outputs": [
      {
       "output_type": "stream",
       "stream": "stdout",
       "text": [
        "10000 loops, best of 3: 61.4 \u00b5s per loop\n",
        "10000 loops, best of 3: 24.6 \u00b5s per loop"
       ]
      },
      {
       "output_type": "stream",
       "stream": "stdout",
       "text": [
        "\n"
       ]
      }
     ],
     "prompt_number": 109
    },
    {
     "cell_type": "code",
     "collapsed": false,
     "input": [
      "# a function to presubstitute constantes\n",
      "def sub_all_constants(expr,constants, constant_values,prec=10):\n",
      "    expr_out = expr\n",
      "    floats_constantes = [sympy.Float(val,prec) for val in constant_values]\n",
      "    for ct,val in zip(constants,floats_constantes):\n",
      "        expr_out = sympy.Subs(expr_out, ct, val) \n",
      "    return  expr_out.doit()\n"
     ],
     "language": "python",
     "metadata": {},
     "outputs": []
    },
    {
     "cell_type": "code",
     "collapsed": false,
     "input": [
      "#presubstiture constants:\n",
      "\n",
      "rhs_no_const_symb = sympy.Matrix([sub_all_constants(expr,constants, constant_values) for expr in expanded_rhs])\n",
      "const_lambda = sympy.lambdify(variables, rhs_no_const_symb)\n",
      "\n",
      "%timeit const_lambda(*(initial_values))\n",
      "#presubstitution on simplified\n",
      "rhs_no_const_symb = sympy.Matrix([sub_all_constants(expr,constants, constant_values) for expr in simplif_rhs])\n",
      "const_lambda = sympy.lambdify(variables, rhs_no_const_symb)\n",
      "%timeit const_lambda(*(initial_values))\n",
      "\n",
      "#presubstituting constants can be twice as fast\n"
     ],
     "language": "python",
     "metadata": {},
     "outputs": [
      {
       "output_type": "stream",
       "stream": "stdout",
       "text": [
        "10000 loops, best of 3: 33.2 \u00b5s per loop\n",
        "100000 loops, best of 3: 19.7 \u00b5s per loop"
       ]
      },
      {
       "output_type": "stream",
       "stream": "stdout",
       "text": [
        "\n"
       ]
      }
     ],
     "prompt_number": 116
    },
    {
     "cell_type": "code",
     "collapsed": false,
     "input": [
      "cse_lambda = sympy.lambdify(all_symbols, expanded_cse)\n",
      "print cse_lambda\n",
      "\n",
      "#cse_lambda(*(all_values)) - simplif_lambda(*(all_values))"
     ],
     "language": "python",
     "metadata": {},
     "outputs": [
      {
       "output_type": "stream",
       "stream": "stdout",
       "text": [
        "<function <lambda> at 0x5d08938>\n"
       ]
      }
     ],
     "prompt_number": 98
    },
    {
     "cell_type": "code",
     "collapsed": false,
     "input": [],
     "language": "python",
     "metadata": {},
     "outputs": [],
     "prompt_number": 98
    },
    {
     "cell_type": "code",
     "collapsed": false,
     "input": [],
     "language": "python",
     "metadata": {},
     "outputs": []
    }
   ],
   "metadata": {}
  }
 ]
}
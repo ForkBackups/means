{
 "metadata": {
  "name": "Sum-of-squares inference prototype (Dimer)"
 },
 "nbformat": 3,
 "nbformat_minor": 0,
 "worksheets": [
  {
   "cells": [
    {
     "cell_type": "code",
     "collapsed": false,
     "input": "%pylab inline",
     "language": "python",
     "metadata": {},
     "outputs": [
      {
       "output_type": "stream",
       "stream": "stdout",
       "text": "Populating the interactive namespace from numpy and matplotlib\n"
      }
     ],
     "prompt_number": 1
    },
    {
     "cell_type": "code",
     "collapsed": false,
     "input": "import numpy as np\nimport pylab\nimport sympy",
     "language": "python",
     "metadata": {},
     "outputs": [],
     "prompt_number": 2
    },
    {
     "cell_type": "code",
     "collapsed": false,
     "input": "rhs_equations = sympy.Matrix(['-2*c_0*y_0*(y_0 - 1) - 2*c_0*yx1 + 2*c_1*(0.5*c_2 - 0.5*y_0)', \n                              '4.0*c_0*y_0**2 - 4.0*c_0*y_0 + 2.0*c_1*c_2 - 2.0*c_1*y_0 - yx1*(8.0*c_0*y_0 - 8.0*c_0 + 2.0*c_1)'])\n",
     "language": "python",
     "metadata": {},
     "outputs": [],
     "prompt_number": 3
    },
    {
     "cell_type": "code",
     "collapsed": false,
     "input": "variables = sympy.symbols(['y_0', 'yx1'])",
     "language": "python",
     "metadata": {},
     "outputs": [],
     "prompt_number": 4
    },
    {
     "cell_type": "code",
     "collapsed": false,
     "input": "constants = sympy.symbols(['c_0', 'c_1', 'c_2'])",
     "language": "python",
     "metadata": {},
     "outputs": [],
     "prompt_number": 5
    },
    {
     "cell_type": "code",
     "collapsed": false,
     "input": "# This is read from param_dimer.txt (with a few minor alterations)\ntimepoints = [0.0, 0.5, 1.0, 1.5, 2.0, 2.5, 3.0, 3.5, 4.0, 4.5, 5.0, 5.5, 6.0, 6.5, 7.0, 7.5, 8.0, 8.5, 9.0, 9.5, 10.0, 10.5, 11.0, 11.5, 12.0, 12.5, 13.0, 13.5, 14.0, 14.5, 15.0, 15.5, 16.0, 16.5, 17.0, 17.5, 18.0, 18.5, 19.0, 19.5]\nconstant_values = [0.001, 0.5, 330.0]\ninitial_values = [320, 0]\nconstants_to_optimise = sympy.symbols(['c_0', 'c_1', 'c_2'])\nvariables_to_optimise = sympy.symbols(['y_0'])\nlimits = None",
     "language": "python",
     "metadata": {},
     "outputs": [],
     "prompt_number": 6
    },
    {
     "cell_type": "code",
     "collapsed": false,
     "input": "# This is read from the data file\nobserved_data = np.array([[301.0, 290.191955202941, 280.587012789919, 272.030592753477, 264.391791838931, 257.559062245777, 251.436806654562, 245.942670265541, 241.005368499757, 236.562930313664, 232.561266868355, 228.952997027749, 225.696477184875, 222.754994848608, 220.096094392425, 217.691010166987, 215.514187376472, 213.542875122678, 211.756779127717, 210.137764073356, 208.669597403576, 207.337727947036, 206.129093917824, 205.031955814654, 204.035750512438, 203.130963465903, 202.309016453409, 201.562168704327, 200.883429593812, 200.266481369356, 199.705610605558, 199.195647276303, 198.731910494358, 198.310160102979, 197.926553417265, 197.577606508469, 197.260159505222, 196.97134545433, 196.708562342305, 196.469447928853], [0.0, 20.1032078774447, 35.5468932830954, 47.5190161504492, 56.882425632698, 64.2698323068521, 70.1492136421603, 74.8694353161664, 78.6924458409646, 81.8162396344656, 84.3913962155669, 86.5330994228879, 88.329943527847, 89.8504335303973, 91.1478162046891, 92.2636929373117, 93.2307368918833, 94.0747471193261, 94.8162087257631, 95.4714829546307, 96.0537185208957, 96.5735519850547, 97.0396477737194, 97.4591158328301, 97.837835568689, 98.1807077918423, 98.4918511879078, 98.7747559366343, 99.0324041520612, 99.2673645793793, 99.4818672796109, 99.677862729873, 99.8570687670736, 100.021008033501, 100.171037989203, 100.308375097082, 100.434114431059, 100.549245681677, 100.65466631909, 100.751192506511]])\nobserved_symbols = sympy.symbols(['y_0', 'yx1'])\nobserved_timepoints = [0.0, 0.5, 1.0, 1.5, 2.0, 2.5, 3.0, 3.5, 4.0, 4.5, 5.0, 5.5, 6.0, 6.5, 7.0, 7.5, 8.0, 8.5, 9.0, 9.5, 10.0, 10.5, 11.0, 11.5, 12.0, 12.5, 13.0, 13.5, 14.0, 14.5, 15.0, 15.5, 16.0, 16.5, 17.0, 17.5, 18.0, 18.5, 19.0, 19.5]\ninitial_time = timepoints[0]\nend_time = timepoints[-1]\nnumber_of_timesteps = len(timepoints)\nobserved_data",
     "language": "python",
     "metadata": {},
     "outputs": [
      {
       "metadata": {},
       "output_type": "pyout",
       "prompt_number": 7,
       "text": "array([[ 301.        ,  290.1919552 ,  280.58701279,  272.03059275,\n         264.39179184,  257.55906225,  251.43680665,  245.94267027,\n         241.0053685 ,  236.56293031,  232.56126687,  228.95299703,\n         225.69647718,  222.75499485,  220.09609439,  217.69101017,\n         215.51418738,  213.54287512,  211.75677913,  210.13776407,\n         208.6695974 ,  207.33772795,  206.12909392,  205.03195581,\n         204.03575051,  203.13096347,  202.30901645,  201.5621687 ,\n         200.88342959,  200.26648137,  199.70561061,  199.19564728,\n         198.73191049,  198.3101601 ,  197.92655342,  197.57760651,\n         197.26015951,  196.97134545,  196.70856234,  196.46944793],\n       [   0.        ,   20.10320788,   35.54689328,   47.51901615,\n          56.88242563,   64.26983231,   70.14921364,   74.86943532,\n          78.69244584,   81.81623963,   84.39139622,   86.53309942,\n          88.32994353,   89.85043353,   91.1478162 ,   92.26369294,\n          93.23073689,   94.07474712,   94.81620873,   95.47148295,\n          96.05371852,   96.57355199,   97.03964777,   97.45911583,\n          97.83783557,   98.18070779,   98.49185119,   98.77475594,\n          99.03240415,   99.26736458,   99.48186728,   99.67786273,\n          99.85706877,  100.02100803,  100.17103799,  100.3083751 ,\n         100.43411443,  100.54924568,  100.65466632,  100.75119251]])"
      }
     ],
     "prompt_number": 7
    },
    {
     "cell_type": "code",
     "collapsed": false,
     "input": "optimisable_symbols = constants_to_optimise + variables_to_optimise\nall_symbols = constants + variables\nall_values = constant_values + initial_values",
     "language": "python",
     "metadata": {},
     "outputs": [],
     "prompt_number": 8
    },
    {
     "cell_type": "code",
     "collapsed": false,
     "input": "# Equivalent to y0 in the original guess\ninitial_guess = [ value for symbol, value in zip(all_symbols, all_values) if symbol in optimisable_symbols ]",
     "language": "python",
     "metadata": {},
     "outputs": [],
     "prompt_number": 9
    },
    {
     "cell_type": "code",
     "collapsed": false,
     "input": "def augment_to_full_list_of_values(optimisable_subset_of_values):\n    \"\"\"\n    Augments the subset of values provided to the full vector of values that could be used in the model\n    Equivalent to `i0_to_test` function in the original code\n    \"\"\"\n    optimisable_dict = dict(zip(optimisable_symbols, optimisable_subset_of_values))\n    full_dict = dict(zip(all_symbols, all_values))\n    \n    # Keeping the order of symbols is critical, thus the loop of all_symbols\n    complete_list_of_values = [ optimisable_dict[symbol] if symbol in optimisable_symbols else full_dict[symbol] for symbol in all_symbols ]\n    \n    # Split into constants and others as this needed for ODE solver\n    constant_values = [ value for symbol, value in zip(all_symbols, complete_list_of_values) if symbol in constants ]\n    moment_values = [ value for symbol, value in zip(all_symbols, complete_list_of_values) if symbol not in constants ]\n    \n    return constant_values, moment_values",
     "language": "python",
     "metadata": {},
     "outputs": [],
     "prompt_number": 10
    },
    {
     "cell_type": "code",
     "collapsed": false,
     "input": "initial_guess",
     "language": "python",
     "metadata": {},
     "outputs": [
      {
       "metadata": {},
       "output_type": "pyout",
       "prompt_number": 11,
       "text": "[0.001, 0.5, 330.0, 320]"
      }
     ],
     "prompt_number": 11
    },
    {
     "cell_type": "code",
     "collapsed": false,
     "input": "augment_to_full_list_of_values(initial_guess)",
     "language": "python",
     "metadata": {},
     "outputs": [
      {
       "metadata": {},
       "output_type": "pyout",
       "prompt_number": 12,
       "text": "([0.001, 0.5, 330.0], [320, 0])"
      }
     ],
     "prompt_number": 12
    },
    {
     "cell_type": "code",
     "collapsed": false,
     "input": "def rhs_factory(constant_symbols, constant_values, variable_symbols):\n    constant_lookup = zip(constant_symbols, constant_values)\n    def rhs(t, variable_values):\n        \"\"\"\n        Computes the values for right-hand-sides of the equation, used to define model\n        \"\"\"\n        return rhs_equations.evalf(subs=dict(constant_lookup + zip(variable_symbols, variable_values)))\n    \n    return rhs",
     "language": "python",
     "metadata": {},
     "outputs": [],
     "prompt_number": 13
    },
    {
     "cell_type": "code",
     "collapsed": false,
     "input": "initial_constants, initial_moments = augment_to_full_list_of_values(initial_guess)\nrhs = rhs_factory(constants, initial_constants, variables)\nrhs(0, initial_moments)",
     "language": "python",
     "metadata": {},
     "outputs": [
      {
       "metadata": {},
       "output_type": "pyout",
       "prompt_number": 14,
       "text": "[-199.16]\n[ 418.32]"
      }
     ],
     "prompt_number": 14
    },
    {
     "cell_type": "code",
     "collapsed": false,
     "input": "from assimulo.solvers.sundials import CVode\nfrom assimulo.problem import Explicit_Problem",
     "language": "python",
     "metadata": {},
     "outputs": [],
     "prompt_number": 15
    },
    {
     "cell_type": "code",
     "collapsed": false,
     "input": "def simulate_system(rhs, initial_values, initial_timepoint, last_timepoint, number_of_timesteps):\n    model = Explicit_Problem(rhs, initial_values, initial_timepoint)\n    solver = CVode(model)\n    solver.verbosity = 50  # Verbosity flag suppresses output\n    \n    # TODO: we probably need a way to simulate at specific timesteps, rather than \n    # providing ncp. This could probably be done by repedetly calling simulate and\n    # fetching the results. This might be slower\n    current_time_point = initial_timepoint\n    timepoints = []\n    values = []\n    # TODO: 0.5 should be the next timestep value\n    for i in range(number_of_timesteps):\n        time_ans, value_ans = solver.simulate(current_time_point + 0.5, ncp=1)\n        current_time_point += 0.5\n        timepoints.append(time_ans[1])\n        values.append(value_ans[1])\n    return np.array(timepoints), np.array(values)\n    #return solver.simulate(last_timepoint, ncp=number_of_timesteps)\n",
     "language": "python",
     "metadata": {},
     "outputs": [],
     "prompt_number": 18
    },
    {
     "cell_type": "code",
     "collapsed": false,
     "input": "simulate_system(rhs, initial_moments, initial_time, end_time, number_of_timesteps)",
     "language": "python",
     "metadata": {},
     "outputs": [
      {
       "metadata": {},
       "output_type": "pyout",
       "prompt_number": 20,
       "text": "(array([  0.5,   1. ,   1.5,   2. ,   2.5,   3. ,   3.5,   4. ,   4.5,\n         5. ,   5.5,   6. ,   6.5,   7. ,   7.5,   8. ,   8.5,   9. ,\n         9.5,  10. ,  10.5,  11. ,  11.5,  12. ,  12.5,  13. ,  13.5,\n        14. ,  14.5,  15. ,  15.5,  16. ,  16.5,  17. ,  17.5,  18. ,\n        18.5,  19. ,  19.5,  20. ]),\n array([[ 252.53314361,   89.80293406],\n       [ 221.13550252,  105.02780677],\n       [ 205.48223495,  109.13456146],\n       [ 197.40969457,  110.89957158],\n       [ 193.17390242,  111.86953427],\n       [ 190.93066768,  112.43453171],\n       [ 189.73623294,  112.76114279],\n       [ 189.09949046,  112.9459264 ],\n       [ 188.75898933,  113.04871948],\n       [ 188.57737562,  113.10497941],\n       [ 188.4804673 ,  113.13548216],\n       [ 188.42859018,  113.15197061],\n       [ 188.40099975,  113.16079291],\n       [ 188.38625825,  113.16552285],\n       [ 188.37836267,  113.1680613 ],\n       [ 188.37412803,  113.16942435],\n       [ 188.37185187,  113.1701575 ],\n       [ 188.37062514,  113.1705528 ],\n       [ 188.36995016,  113.17077034],\n       [ 188.36958639,  113.1708876 ],\n       [ 188.36938303,  113.17095316],\n       [ 188.36926867,  113.17099003],\n       [ 188.36920205,  113.17101151],\n       [ 188.36916319,  113.17102403],\n       [ 188.36914049,  113.17103135],\n       [ 188.36912733,  113.1710356 ],\n       [ 188.36911957,  113.1710381 ],\n       [ 188.36911498,  113.17103958],\n       [ 188.36911228,  113.17104045],\n       [ 188.36911068,  113.17104097],\n       [ 188.36910973,  113.17104127],\n       [ 188.36910917,  113.17104145],\n       [ 188.36910884,  113.17104156],\n       [ 188.36910864,  113.17104162],\n       [ 188.36910852,  113.17104166],\n       [ 188.36910845,  113.17104168],\n       [ 188.36910841,  113.1710417 ],\n       [ 188.36910838,  113.17104171],\n       [ 188.36910837,  113.17104171],\n       [ 188.36910836,  113.17104171]]))"
      }
     ],
     "prompt_number": 20
    },
    {
     "cell_type": "code",
     "collapsed": false,
     "input": "def distance_between_ode_result_and_experiment_data(ode_results, ode_symbols, experimental_data, experimental_symbols):\n    experimental_data_lookup = dict(zip(experimental_symbols, experimental_data))\n    \n    distance = 0\n    for ode_symbol, ode_result in zip(ode_symbols, ode_results):\n        if ode_symbol not in experimental_data_lookup:\n            continue\n        \n        distance += sum(map(lambda x: (x[0]-x[1])**2, zip(ode_result, experimental_data_lookup[ode_symbol])))\n    \n    return distance\n            ",
     "language": "python",
     "metadata": {},
     "outputs": [],
     "prompt_number": 21
    },
    {
     "cell_type": "code",
     "collapsed": false,
     "input": "distance_between_ode_result_and_experiment_data(_[1], variables, observed_data, observed_symbols)",
     "language": "python",
     "metadata": {},
     "outputs": [
      {
       "metadata": {},
       "output_type": "pyout",
       "prompt_number": 22,
       "text": "98617.893934100182"
      }
     ],
     "prompt_number": 22
    },
    {
     "cell_type": "code",
     "collapsed": false,
     "input": "def simulation_result_from_current_guess(current_guess):\n    initial_constants, initial_moments = augment_to_full_list_of_values(current_guess)\n    rhs = rhs_factory(constants, initial_constants, variables)\n    \n    timepoints, ode_result = simulate_system(rhs, initial_moments, initial_time, end_time, number_of_timesteps)\n    return timepoints, ode_result\n    \ndef distance_to_minimise(current_guess):\n    # Disallow negative parameters, `fmin` has \"constraint\" variable\n    # this may be exploited instead\n    if any([x < 0 for x in current_guess]):\n        return float('inf')\n    \n    __, ode_result = simulation_result_from_current_guess(current_guess)\n    distance =  distance_between_ode_result_and_experiment_data(ode_result, variables, observed_data, observed_symbols)\n    print distance \n    return distance",
     "language": "python",
     "metadata": {},
     "outputs": [],
     "prompt_number": 23
    },
    {
     "cell_type": "code",
     "collapsed": false,
     "input": "distance_to_minimise(initial_guess)",
     "language": "python",
     "metadata": {},
     "outputs": [
      {
       "output_type": "stream",
       "stream": "stdout",
       "text": "98617.8939341\n"
      },
      {
       "metadata": {},
       "output_type": "pyout",
       "prompt_number": 24,
       "text": "98617.893934100182"
      }
     ],
     "prompt_number": 24
    },
    {
     "cell_type": "code",
     "collapsed": false,
     "input": "import scipy.optimize",
     "language": "python",
     "metadata": {},
     "outputs": [],
     "prompt_number": 25
    },
    {
     "cell_type": "code",
     "collapsed": false,
     "input": "%time results = scipy.optimize.fmin(distance_to_minimise, x0=initial_guess, ftol=0.000001, disp=0, full_output=True)",
     "language": "python",
     "metadata": {},
     "outputs": [
      {
       "output_type": "stream",
       "stream": "stdout",
       "text": "98617.8939341\n96963.2060596"
      },
      {
       "output_type": "stream",
       "stream": "stdout",
       "text": "\n99093.3466464"
      },
      {
       "output_type": "stream",
       "stream": "stdout",
       "text": "\n99495.8802723"
      },
      {
       "output_type": "stream",
       "stream": "stdout",
       "text": "\n98880.8905482"
      },
      {
       "output_type": "stream",
       "stream": "stdout",
       "text": "\n97337.7041038"
      },
      {
       "output_type": "stream",
       "stream": "stdout",
       "text": "\n96721.1516435"
      },
      {
       "output_type": "stream",
       "stream": "stdout",
       "text": "\n95511.2143169"
      },
      {
       "output_type": "stream",
       "stream": "stdout",
       "text": "\n95606.4887559"
      },
      {
       "output_type": "stream",
       "stream": "stdout",
       "text": "\n94168.7333333"
      },
      {
       "output_type": "stream",
       "stream": "stdout",
       "text": "\n92101.9351299"
      },
      {
       "output_type": "stream",
       "stream": "stdout",
       "text": "\n92764.9936452"
      },
      {
       "output_type": "stream",
       "stream": "stdout",
       "text": "\n91071.0591264"
      },
      {
       "output_type": "stream",
       "stream": "stdout",
       "text": "\n88280.0927068"
      },
      {
       "output_type": "stream",
       "stream": "stdout",
       "text": "\n88387.773918"
      },
      {
       "output_type": "stream",
       "stream": "stdout",
       "text": "\n86016.9112564"
      },
      {
       "output_type": "stream",
       "stream": "stdout",
       "text": "\n82283.5507495"
      },
      {
       "output_type": "stream",
       "stream": "stdout",
       "text": "\n82667.3285381"
      },
      {
       "output_type": "stream",
       "stream": "stdout",
       "text": "\n78653.7155285"
      },
      {
       "output_type": "stream",
       "stream": "stdout",
       "text": "\n72522.5921382"
      },
      {
       "output_type": "stream",
       "stream": "stdout",
       "text": "\n75535.979962"
      },
      {
       "output_type": "stream",
       "stream": "stdout",
       "text": "\n69851.2575365"
      },
      {
       "output_type": "stream",
       "stream": "stdout",
       "text": "\n63174.8141052"
      },
      {
       "output_type": "stream",
       "stream": "stdout",
       "text": "\n65058.9063356"
      },
      {
       "output_type": "stream",
       "stream": "stdout",
       "text": "\n75154.7636509"
      },
      {
       "output_type": "stream",
       "stream": "stdout",
       "text": "\n62616.7061972"
      },
      {
       "output_type": "stream",
       "stream": "stdout",
       "text": "\n70061.9421172"
      },
      {
       "output_type": "stream",
       "stream": "stdout",
       "text": "\n60137.6797631"
      },
      {
       "output_type": "stream",
       "stream": "stdout",
       "text": "\n66043.046199"
      },
      {
       "output_type": "stream",
       "stream": "stdout",
       "text": "\n59759.3747091"
      },
      {
       "output_type": "stream",
       "stream": "stdout",
       "text": "\n58274.1960818"
      },
      {
       "output_type": "stream",
       "stream": "stdout",
       "text": "\n61517.8211311"
      },
      {
       "output_type": "stream",
       "stream": "stdout",
       "text": "\n61113.2721576"
      },
      {
       "output_type": "stream",
       "stream": "stdout",
       "text": "\n60600.0273594"
      },
      {
       "output_type": "stream",
       "stream": "stdout",
       "text": "\n60345.3618101"
      },
      {
       "output_type": "stream",
       "stream": "stdout",
       "text": "\n60081.259183"
      },
      {
       "output_type": "stream",
       "stream": "stdout",
       "text": "\n58809.4905957"
      },
      {
       "output_type": "stream",
       "stream": "stdout",
       "text": "\n58366.7523036"
      },
      {
       "output_type": "stream",
       "stream": "stdout",
       "text": "\n59409.2004049"
      },
      {
       "output_type": "stream",
       "stream": "stdout",
       "text": "\n57727.831459"
      },
      {
       "output_type": "stream",
       "stream": "stdout",
       "text": "\n58828.8625734"
      },
      {
       "output_type": "stream",
       "stream": "stdout",
       "text": "\n58549.986012"
      },
      {
       "output_type": "stream",
       "stream": "stdout",
       "text": "\n57681.4963495"
      },
      {
       "output_type": "stream",
       "stream": "stdout",
       "text": "\n57197.0420605"
      },
      {
       "output_type": "stream",
       "stream": "stdout",
       "text": "\n57223.4232691"
      },
      {
       "output_type": "stream",
       "stream": "stdout",
       "text": "\n56844.6143309"
      },
      {
       "output_type": "stream",
       "stream": "stdout",
       "text": "\n56162.717493"
      },
      {
       "output_type": "stream",
       "stream": "stdout",
       "text": "\n55929.9768371"
      },
      {
       "output_type": "stream",
       "stream": "stdout",
       "text": "\n54921.7769236"
      },
      {
       "output_type": "stream",
       "stream": "stdout",
       "text": "\n55145.8026152"
      },
      {
       "output_type": "stream",
       "stream": "stdout",
       "text": "\n54514.1853986"
      },
      {
       "output_type": "stream",
       "stream": "stdout",
       "text": "\n53354.0770907"
      },
      {
       "output_type": "stream",
       "stream": "stdout",
       "text": "\n52866.6066387"
      },
      {
       "output_type": "stream",
       "stream": "stdout",
       "text": "\n52362.662408"
      },
      {
       "output_type": "stream",
       "stream": "stdout",
       "text": "\n51076.3456635"
      },
      {
       "output_type": "stream",
       "stream": "stdout",
       "text": "\n53963.7402209"
      },
      {
       "output_type": "stream",
       "stream": "stdout",
       "text": "\n53744.7232617"
      },
      {
       "output_type": "stream",
       "stream": "stdout",
       "text": "\n53279.3233657"
      },
      {
       "output_type": "stream",
       "stream": "stdout",
       "text": "\n53118.4043339"
      },
      {
       "output_type": "stream",
       "stream": "stdout",
       "text": "\n51734.1474"
      },
      {
       "output_type": "stream",
       "stream": "stdout",
       "text": "\n52667.7299837"
      },
      {
       "output_type": "stream",
       "stream": "stdout",
       "text": "\n52536.3125814"
      },
      {
       "output_type": "stream",
       "stream": "stdout",
       "text": "\n51540.3426808"
      },
      {
       "output_type": "stream",
       "stream": "stdout",
       "text": "\n50897.3251431"
      },
      {
       "output_type": "stream",
       "stream": "stdout",
       "text": "\n51832.167481"
      },
      {
       "output_type": "stream",
       "stream": "stdout",
       "text": "\n50845.2261286"
      },
      {
       "output_type": "stream",
       "stream": "stdout",
       "text": "\n50799.626007"
      },
      {
       "output_type": "stream",
       "stream": "stdout",
       "text": "\n50899.630529"
      },
      {
       "output_type": "stream",
       "stream": "stdout",
       "text": "\n51193.4839624"
      },
      {
       "output_type": "stream",
       "stream": "stdout",
       "text": "\n51023.8105165"
      },
      {
       "output_type": "stream",
       "stream": "stdout",
       "text": "\n50883.179959"
      },
      {
       "output_type": "stream",
       "stream": "stdout",
       "text": "\n50673.5425479"
      },
      {
       "output_type": "stream",
       "stream": "stdout",
       "text": "\n50894.1543353"
      },
      {
       "output_type": "stream",
       "stream": "stdout",
       "text": "\n50804.4359729"
      },
      {
       "output_type": "stream",
       "stream": "stdout",
       "text": "\n50651.5739975"
      },
      {
       "output_type": "stream",
       "stream": "stdout",
       "text": "\n50578.6941445"
      },
      {
       "output_type": "stream",
       "stream": "stdout",
       "text": "\n50701.6368339"
      },
      {
       "output_type": "stream",
       "stream": "stdout",
       "text": "\n50529.7484181"
      },
      {
       "output_type": "stream",
       "stream": "stdout",
       "text": "\n50436.5559012"
      },
      {
       "output_type": "stream",
       "stream": "stdout",
       "text": "\n50673.6616637"
      },
      {
       "output_type": "stream",
       "stream": "stdout",
       "text": "\n50600.4861921"
      },
      {
       "output_type": "stream",
       "stream": "stdout",
       "text": "\n50609.3933464"
      },
      {
       "output_type": "stream",
       "stream": "stdout",
       "text": "\n50456.6489458"
      },
      {
       "output_type": "stream",
       "stream": "stdout",
       "text": "\n50413.8546463"
      },
      {
       "output_type": "stream",
       "stream": "stdout",
       "text": "\n50357.9834747"
      },
      {
       "output_type": "stream",
       "stream": "stdout",
       "text": "\n50561.0115563"
      },
      {
       "output_type": "stream",
       "stream": "stdout",
       "text": "\n50312.0011163"
      },
      {
       "output_type": "stream",
       "stream": "stdout",
       "text": "\n50234.8167892"
      },
      {
       "output_type": "stream",
       "stream": "stdout",
       "text": "\n50266.0397875"
      },
      {
       "output_type": "stream",
       "stream": "stdout",
       "text": "\n50124.3859781"
      },
      {
       "output_type": "stream",
       "stream": "stdout",
       "text": "\n49979.6125204"
      },
      {
       "output_type": "stream",
       "stream": "stdout",
       "text": "\n49999.880149"
      },
      {
       "output_type": "stream",
       "stream": "stdout",
       "text": "\n49827.2927597"
      },
      {
       "output_type": "stream",
       "stream": "stdout",
       "text": "\n49606.9015545"
      },
      {
       "output_type": "stream",
       "stream": "stdout",
       "text": "\n50040.5093984"
      },
      {
       "output_type": "stream",
       "stream": "stdout",
       "text": "\n49518.9543132"
      },
      {
       "output_type": "stream",
       "stream": "stdout",
       "text": "\n49211.7018172"
      },
      {
       "output_type": "stream",
       "stream": "stdout",
       "text": "\n49629.1181235"
      },
      {
       "output_type": "stream",
       "stream": "stdout",
       "text": "\n49139.812332"
      },
      {
       "output_type": "stream",
       "stream": "stdout",
       "text": "\n48769.532298"
      },
      {
       "output_type": "stream",
       "stream": "stdout",
       "text": "\n48656.490969"
      },
      {
       "output_type": "stream",
       "stream": "stdout",
       "text": "\n48201.8203948"
      },
      {
       "output_type": "stream",
       "stream": "stdout",
       "text": "\n48531.9091036"
      },
      {
       "output_type": "stream",
       "stream": "stdout",
       "text": "\n47851.2029194"
      },
      {
       "output_type": "stream",
       "stream": "stdout",
       "text": "\n47355.619773"
      },
      {
       "output_type": "stream",
       "stream": "stdout",
       "text": "\n47381.4296123"
      },
      {
       "output_type": "stream",
       "stream": "stdout",
       "text": "\n47627.2043427"
      },
      {
       "output_type": "stream",
       "stream": "stdout",
       "text": "\n47033.9065923"
      },
      {
       "output_type": "stream",
       "stream": "stdout",
       "text": "\n46961.3786604"
      },
      {
       "output_type": "stream",
       "stream": "stdout",
       "text": "\n47248.796133"
      },
      {
       "output_type": "stream",
       "stream": "stdout",
       "text": "\n46585.6671062"
      },
      {
       "output_type": "stream",
       "stream": "stdout",
       "text": "\n47083.3862617"
      },
      {
       "output_type": "stream",
       "stream": "stdout",
       "text": "\n47948.6177222"
      },
      {
       "output_type": "stream",
       "stream": "stdout",
       "text": "\n46892.8540975"
      },
      {
       "output_type": "stream",
       "stream": "stdout",
       "text": "\n46647.1528729"
      },
      {
       "output_type": "stream",
       "stream": "stdout",
       "text": "\n47280.6438066"
      },
      {
       "output_type": "stream",
       "stream": "stdout",
       "text": "\n46787.6808898"
      },
      {
       "output_type": "stream",
       "stream": "stdout",
       "text": "\n46800.4170456"
      },
      {
       "output_type": "stream",
       "stream": "stdout",
       "text": "\n46741.676729"
      },
      {
       "output_type": "stream",
       "stream": "stdout",
       "text": "\n46707.3729438"
      },
      {
       "output_type": "stream",
       "stream": "stdout",
       "text": "\n46800.8619679"
      },
      {
       "output_type": "stream",
       "stream": "stdout",
       "text": "\n46673.1565998"
      },
      {
       "output_type": "stream",
       "stream": "stdout",
       "text": "\n46787.5390049"
      },
      {
       "output_type": "stream",
       "stream": "stdout",
       "text": "\n46656.6860116"
      },
      {
       "output_type": "stream",
       "stream": "stdout",
       "text": "\n46546.0630679"
      },
      {
       "output_type": "stream",
       "stream": "stdout",
       "text": "\n46634.4293253"
      },
      {
       "output_type": "stream",
       "stream": "stdout",
       "text": "\n46609.2542827"
      },
      {
       "output_type": "stream",
       "stream": "stdout",
       "text": "\n46611.3506906"
      },
      {
       "output_type": "stream",
       "stream": "stdout",
       "text": "\n46633.9299444"
      },
      {
       "output_type": "stream",
       "stream": "stdout",
       "text": "\n46594.9491508"
      },
      {
       "output_type": "stream",
       "stream": "stdout",
       "text": "\n46566.809763"
      },
      {
       "output_type": "stream",
       "stream": "stdout",
       "text": "\n46584.7812344"
      },
      {
       "output_type": "stream",
       "stream": "stdout",
       "text": "\n46538.7271"
      },
      {
       "output_type": "stream",
       "stream": "stdout",
       "text": "\n46550.5631407"
      },
      {
       "output_type": "stream",
       "stream": "stdout",
       "text": "\n46564.0722644"
      },
      {
       "output_type": "stream",
       "stream": "stdout",
       "text": "\n46567.8914541"
      },
      {
       "output_type": "stream",
       "stream": "stdout",
       "text": "\n46551.7738787"
      },
      {
       "output_type": "stream",
       "stream": "stdout",
       "text": "\n46522.2215153"
      },
      {
       "output_type": "stream",
       "stream": "stdout",
       "text": "\n46534.8878182"
      },
      {
       "output_type": "stream",
       "stream": "stdout",
       "text": "\n46535.5822744"
      },
      {
       "output_type": "stream",
       "stream": "stdout",
       "text": "\n46537.2695644"
      },
      {
       "output_type": "stream",
       "stream": "stdout",
       "text": "\n46527.4194177"
      },
      {
       "output_type": "stream",
       "stream": "stdout",
       "text": "\n46531.4269602"
      },
      {
       "output_type": "stream",
       "stream": "stdout",
       "text": "\n46542.9316657"
      },
      {
       "output_type": "stream",
       "stream": "stdout",
       "text": "\n46528.5480172"
      },
      {
       "output_type": "stream",
       "stream": "stdout",
       "text": "\n46521.291483"
      },
      {
       "output_type": "stream",
       "stream": "stdout",
       "text": "\n46521.7890252"
      },
      {
       "output_type": "stream",
       "stream": "stdout",
       "text": "\n46527.0485077"
      },
      {
       "output_type": "stream",
       "stream": "stdout",
       "text": "\n46520.5080996"
      },
      {
       "output_type": "stream",
       "stream": "stdout",
       "text": "\n46521.2238139"
      },
      {
       "output_type": "stream",
       "stream": "stdout",
       "text": "\n46527.8672834"
      },
      {
       "output_type": "stream",
       "stream": "stdout",
       "text": "\n46523.1444038"
      },
      {
       "output_type": "stream",
       "stream": "stdout",
       "text": "\n46515.4239606"
      },
      {
       "output_type": "stream",
       "stream": "stdout",
       "text": "\n46511.521945"
      },
      {
       "output_type": "stream",
       "stream": "stdout",
       "text": "\n46517.594346"
      },
      {
       "output_type": "stream",
       "stream": "stdout",
       "text": "\n46509.9624113"
      },
      {
       "output_type": "stream",
       "stream": "stdout",
       "text": "\n46516.1882418"
      },
      {
       "output_type": "stream",
       "stream": "stdout",
       "text": "\n46515.9589864"
      },
      {
       "output_type": "stream",
       "stream": "stdout",
       "text": "\n46509.8770336"
      },
      {
       "output_type": "stream",
       "stream": "stdout",
       "text": "\n46513.5701108"
      },
      {
       "output_type": "stream",
       "stream": "stdout",
       "text": "\n46512.9911926"
      },
      {
       "output_type": "stream",
       "stream": "stdout",
       "text": "\n46514.3241418"
      },
      {
       "output_type": "stream",
       "stream": "stdout",
       "text": "\n46511.2286223"
      },
      {
       "output_type": "stream",
       "stream": "stdout",
       "text": "\n46511.513584"
      },
      {
       "output_type": "stream",
       "stream": "stdout",
       "text": "\n46509.2000815"
      },
      {
       "output_type": "stream",
       "stream": "stdout",
       "text": "\n46510.4444905"
      },
      {
       "output_type": "stream",
       "stream": "stdout",
       "text": "\n46508.2114126"
      },
      {
       "output_type": "stream",
       "stream": "stdout",
       "text": "\n46509.5593716"
      },
      {
       "output_type": "stream",
       "stream": "stdout",
       "text": "\n46509.0304469"
      },
      {
       "output_type": "stream",
       "stream": "stdout",
       "text": "\n46510.0880535"
      },
      {
       "output_type": "stream",
       "stream": "stdout",
       "text": "\n46509.0666631"
      },
      {
       "output_type": "stream",
       "stream": "stdout",
       "text": "\n46509.1014488"
      },
      {
       "output_type": "stream",
       "stream": "stdout",
       "text": "\n46509.5022301"
      },
      {
       "output_type": "stream",
       "stream": "stdout",
       "text": "\n46508.8453352"
      },
      {
       "output_type": "stream",
       "stream": "stdout",
       "text": "\n46508.235153"
      },
      {
       "output_type": "stream",
       "stream": "stdout",
       "text": "\n46508.1844683"
      },
      {
       "output_type": "stream",
       "stream": "stdout",
       "text": "\n46508.2498145"
      },
      {
       "output_type": "stream",
       "stream": "stdout",
       "text": "\n46508.5702301"
      },
      {
       "output_type": "stream",
       "stream": "stdout",
       "text": "\n46508.0117132"
      },
      {
       "output_type": "stream",
       "stream": "stdout",
       "text": "\n46508.322288"
      },
      {
       "output_type": "stream",
       "stream": "stdout",
       "text": "\n46508.1875851"
      },
      {
       "output_type": "stream",
       "stream": "stdout",
       "text": "\n46508.0401384"
      },
      {
       "output_type": "stream",
       "stream": "stdout",
       "text": "\n46508.2839841"
      },
      {
       "output_type": "stream",
       "stream": "stdout",
       "text": "\n46508.0781863"
      },
      {
       "output_type": "stream",
       "stream": "stdout",
       "text": "\n46507.9160452"
      },
      {
       "output_type": "stream",
       "stream": "stdout",
       "text": "\n46507.8819709"
      },
      {
       "output_type": "stream",
       "stream": "stdout",
       "text": "\n46508.1916997"
      },
      {
       "output_type": "stream",
       "stream": "stdout",
       "text": "\n46508.0256177"
      },
      {
       "output_type": "stream",
       "stream": "stdout",
       "text": "\n46508.0184259"
      },
      {
       "output_type": "stream",
       "stream": "stdout",
       "text": "\n46507.9845585"
      },
      {
       "output_type": "stream",
       "stream": "stdout",
       "text": "\n46508.0516482"
      },
      {
       "output_type": "stream",
       "stream": "stdout",
       "text": "\n46507.9585398"
      },
      {
       "output_type": "stream",
       "stream": "stdout",
       "text": "\n46508.0078836"
      },
      {
       "output_type": "stream",
       "stream": "stdout",
       "text": "\n46507.9672756"
      },
      {
       "output_type": "stream",
       "stream": "stdout",
       "text": "\n46508.119292"
      },
      {
       "output_type": "stream",
       "stream": "stdout",
       "text": "\n46507.9317778"
      },
      {
       "output_type": "stream",
       "stream": "stdout",
       "text": "\n46507.8358997"
      },
      {
       "output_type": "stream",
       "stream": "stdout",
       "text": "\n46507.767729"
      },
      {
       "output_type": "stream",
       "stream": "stdout",
       "text": "\n46507.844566"
      },
      {
       "output_type": "stream",
       "stream": "stdout",
       "text": "\n46507.741696"
      },
      {
       "output_type": "stream",
       "stream": "stdout",
       "text": "\n46507.7353721"
      },
      {
       "output_type": "stream",
       "stream": "stdout",
       "text": "\n46507.815652"
      },
      {
       "output_type": "stream",
       "stream": "stdout",
       "text": "\n46507.7763665"
      },
      {
       "output_type": "stream",
       "stream": "stdout",
       "text": "\n46507.6500588"
      },
      {
       "output_type": "stream",
       "stream": "stdout",
       "text": "\n46507.6047726"
      },
      {
       "output_type": "stream",
       "stream": "stdout",
       "text": "\n46507.710918"
      },
      {
       "output_type": "stream",
       "stream": "stdout",
       "text": "\n46507.7147699"
      },
      {
       "output_type": "stream",
       "stream": "stdout",
       "text": "\n46507.6684748"
      },
      {
       "output_type": "stream",
       "stream": "stdout",
       "text": "\n46507.5883005"
      },
      {
       "output_type": "stream",
       "stream": "stdout",
       "text": "\n46507.6013651"
      },
      {
       "output_type": "stream",
       "stream": "stdout",
       "text": "\n46507.6111544"
      },
      {
       "output_type": "stream",
       "stream": "stdout",
       "text": "\n46507.5031361"
      },
      {
       "output_type": "stream",
       "stream": "stdout",
       "text": "\n46507.5804041"
      },
      {
       "output_type": "stream",
       "stream": "stdout",
       "text": "\n46507.4628882"
      },
      {
       "output_type": "stream",
       "stream": "stdout",
       "text": "\n46507.363945"
      },
      {
       "output_type": "stream",
       "stream": "stdout",
       "text": "\n46507.4255682"
      },
      {
       "output_type": "stream",
       "stream": "stdout",
       "text": "\n46507.4149484"
      },
      {
       "output_type": "stream",
       "stream": "stdout",
       "text": "\n46507.2648849"
      },
      {
       "output_type": "stream",
       "stream": "stdout",
       "text": "\n46507.1908555"
      },
      {
       "output_type": "stream",
       "stream": "stdout",
       "text": "\n46507.1812041"
      },
      {
       "output_type": "stream",
       "stream": "stdout",
       "text": "\n46507.0202522"
      },
      {
       "output_type": "stream",
       "stream": "stdout",
       "text": "\n46507.1057424"
      },
      {
       "output_type": "stream",
       "stream": "stdout",
       "text": "\n46506.8582221"
      },
      {
       "output_type": "stream",
       "stream": "stdout",
       "text": "\n46506.7779552"
      },
      {
       "output_type": "stream",
       "stream": "stdout",
       "text": "\n46506.6834849"
      },
      {
       "output_type": "stream",
       "stream": "stdout",
       "text": "\n46506.6259812"
      },
      {
       "output_type": "stream",
       "stream": "stdout",
       "text": "\n46506.4386054"
      },
      {
       "output_type": "stream",
       "stream": "stdout",
       "text": "\n46506.3278386"
      },
      {
       "output_type": "stream",
       "stream": "stdout",
       "text": "\n46506.1000482"
      },
      {
       "output_type": "stream",
       "stream": "stdout",
       "text": "\n46506.6977133"
      },
      {
       "output_type": "stream",
       "stream": "stdout",
       "text": "\n46506.4075844"
      },
      {
       "output_type": "stream",
       "stream": "stdout",
       "text": "\n46506.2664345"
      },
      {
       "output_type": "stream",
       "stream": "stdout",
       "text": "\n46506.4448583"
      },
      {
       "output_type": "stream",
       "stream": "stdout",
       "text": "\n46506.2616974"
      },
      {
       "output_type": "stream",
       "stream": "stdout",
       "text": "\n46506.2766481"
      },
      {
       "output_type": "stream",
       "stream": "stdout",
       "text": "\n46506.2811366"
      },
      {
       "output_type": "stream",
       "stream": "stdout",
       "text": "\n46506.0609599"
      },
      {
       "output_type": "stream",
       "stream": "stdout",
       "text": "\n46506.2173735"
      },
      {
       "output_type": "stream",
       "stream": "stdout",
       "text": "\n46506.2208815"
      },
      {
       "output_type": "stream",
       "stream": "stdout",
       "text": "\n46506.1647622"
      },
      {
       "output_type": "stream",
       "stream": "stdout",
       "text": "\n46506.2113286"
      },
      {
       "output_type": "stream",
       "stream": "stdout",
       "text": "\n46506.1374453"
      },
      {
       "output_type": "stream",
       "stream": "stdout",
       "text": "\n46506.1888527"
      },
      {
       "output_type": "stream",
       "stream": "stdout",
       "text": "\n46506.1169173"
      },
      {
       "output_type": "stream",
       "stream": "stdout",
       "text": "\n46506.1217026"
      },
      {
       "output_type": "stream",
       "stream": "stdout",
       "text": "\n46506.0743914"
      },
      {
       "output_type": "stream",
       "stream": "stdout",
       "text": "\n46506.0929177"
      },
      {
       "output_type": "stream",
       "stream": "stdout",
       "text": "\n46506.0855268"
      },
      {
       "output_type": "stream",
       "stream": "stdout",
       "text": "\n46506.1357162"
      },
      {
       "output_type": "stream",
       "stream": "stdout",
       "text": "\n46506.0716826"
      },
      {
       "output_type": "stream",
       "stream": "stdout",
       "text": "\n46506.0342672"
      },
      {
       "output_type": "stream",
       "stream": "stdout",
       "text": "\n46506.0649922"
      },
      {
       "output_type": "stream",
       "stream": "stdout",
       "text": "\n46506.0502241"
      },
      {
       "output_type": "stream",
       "stream": "stdout",
       "text": "\n46506.0542762"
      },
      {
       "output_type": "stream",
       "stream": "stdout",
       "text": "\n46506.0536243"
      },
      {
       "output_type": "stream",
       "stream": "stdout",
       "text": "\n46506.0147026"
      },
      {
       "output_type": "stream",
       "stream": "stdout",
       "text": "\n46506.0216456"
      },
      {
       "output_type": "stream",
       "stream": "stdout",
       "text": "\n46506.0632057"
      },
      {
       "output_type": "stream",
       "stream": "stdout",
       "text": "\n46506.0313697"
      },
      {
       "output_type": "stream",
       "stream": "stdout",
       "text": "\n46506.0335176"
      },
      {
       "output_type": "stream",
       "stream": "stdout",
       "text": "\n46506.0382553"
      },
      {
       "output_type": "stream",
       "stream": "stdout",
       "text": "\n46506.0252263"
      },
      {
       "output_type": "stream",
       "stream": "stdout",
       "text": "\n46506.0266442"
      },
      {
       "output_type": "stream",
       "stream": "stdout",
       "text": "\n46506.0220099"
      },
      {
       "output_type": "stream",
       "stream": "stdout",
       "text": "\n46506.0221382"
      },
      {
       "output_type": "stream",
       "stream": "stdout",
       "text": "\n46506.0156507"
      },
      {
       "output_type": "stream",
       "stream": "stdout",
       "text": "\n46506.0113999"
      },
      {
       "output_type": "stream",
       "stream": "stdout",
       "text": "\n46506.0135107"
      },
      {
       "output_type": "stream",
       "stream": "stdout",
       "text": "\n46506.0029325"
      },
      {
       "output_type": "stream",
       "stream": "stdout",
       "text": "\n46505.9966269"
      },
      {
       "output_type": "stream",
       "stream": "stdout",
       "text": "\n46506.0056431"
      },
      {
       "output_type": "stream",
       "stream": "stdout",
       "text": "\n46505.9966212"
      },
      {
       "output_type": "stream",
       "stream": "stdout",
       "text": "\n46506.0061856"
      },
      {
       "output_type": "stream",
       "stream": "stdout",
       "text": "\n46506.0069765"
      },
      {
       "output_type": "stream",
       "stream": "stdout",
       "text": "\n46506.0011448"
      },
      {
       "output_type": "stream",
       "stream": "stdout",
       "text": "\n46505.9935478"
      },
      {
       "output_type": "stream",
       "stream": "stdout",
       "text": "\n46505.9880785"
      },
      {
       "output_type": "stream",
       "stream": "stdout",
       "text": "\n46505.9834671"
      },
      {
       "output_type": "stream",
       "stream": "stdout",
       "text": "\n46505.9952383"
      },
      {
       "output_type": "stream",
       "stream": "stdout",
       "text": "\n46505.9930356"
      },
      {
       "output_type": "stream",
       "stream": "stdout",
       "text": "\n46505.9887865"
      },
      {
       "output_type": "stream",
       "stream": "stdout",
       "text": "\n46505.9800506"
      },
      {
       "output_type": "stream",
       "stream": "stdout",
       "text": "\n46505.9725412"
      },
      {
       "output_type": "stream",
       "stream": "stdout",
       "text": "\n46505.9764892"
      },
      {
       "output_type": "stream",
       "stream": "stdout",
       "text": "\n46505.9666656"
      },
      {
       "output_type": "stream",
       "stream": "stdout",
       "text": "\n46505.9575936"
      },
      {
       "output_type": "stream",
       "stream": "stdout",
       "text": "\n46505.9666361"
      },
      {
       "output_type": "stream",
       "stream": "stdout",
       "text": "\n46505.9494766"
      },
      {
       "output_type": "stream",
       "stream": "stdout",
       "text": "\n46505.9352164"
      },
      {
       "output_type": "stream",
       "stream": "stdout",
       "text": "\n46505.9652599"
      },
      {
       "output_type": "stream",
       "stream": "stdout",
       "text": "\n46505.9504803"
      },
      {
       "output_type": "stream",
       "stream": "stdout",
       "text": "\n46505.9430267"
      },
      {
       "output_type": "stream",
       "stream": "stdout",
       "text": "\n46505.9323017"
      },
      {
       "output_type": "stream",
       "stream": "stdout",
       "text": "\n46505.9294389"
      },
      {
       "output_type": "stream",
       "stream": "stdout",
       "text": "\n46505.9188403"
      },
      {
       "output_type": "stream",
       "stream": "stdout",
       "text": "\n46505.9110759"
      },
      {
       "output_type": "stream",
       "stream": "stdout",
       "text": "\n46505.9188567"
      },
      {
       "output_type": "stream",
       "stream": "stdout",
       "text": "\n46505.9279559"
      },
      {
       "output_type": "stream",
       "stream": "stdout",
       "text": "\n46505.9381187"
      },
      {
       "output_type": "stream",
       "stream": "stdout",
       "text": "\n46505.9222618"
      },
      {
       "output_type": "stream",
       "stream": "stdout",
       "text": "\n46505.9073562"
      },
      {
       "output_type": "stream",
       "stream": "stdout",
       "text": "\n46505.9030153"
      },
      {
       "output_type": "stream",
       "stream": "stdout",
       "text": "\n46505.8924871"
      },
      {
       "output_type": "stream",
       "stream": "stdout",
       "text": "\n46505.8799515"
      },
      {
       "output_type": "stream",
       "stream": "stdout",
       "text": "\n46505.8881979"
      },
      {
       "output_type": "stream",
       "stream": "stdout",
       "text": "\n46505.8607328"
      },
      {
       "output_type": "stream",
       "stream": "stdout",
       "text": "\n46505.8340079"
      },
      {
       "output_type": "stream",
       "stream": "stdout",
       "text": "\n46505.8517848"
      },
      {
       "output_type": "stream",
       "stream": "stdout",
       "text": "\n46505.8474408"
      },
      {
       "output_type": "stream",
       "stream": "stdout",
       "text": "\n46505.8050434"
      },
      {
       "output_type": "stream",
       "stream": "stdout",
       "text": "\n46505.7647068"
      },
      {
       "output_type": "stream",
       "stream": "stdout",
       "text": "\n46505.7546687"
      },
      {
       "output_type": "stream",
       "stream": "stdout",
       "text": "\n46505.69264"
      },
      {
       "output_type": "stream",
       "stream": "stdout",
       "text": "\n46505.6600352"
      },
      {
       "output_type": "stream",
       "stream": "stdout",
       "text": "\n46505.6683644"
      },
      {
       "output_type": "stream",
       "stream": "stdout",
       "text": "\n46505.6836308"
      },
      {
       "output_type": "stream",
       "stream": "stdout",
       "text": "\n46505.5996328"
      },
      {
       "output_type": "stream",
       "stream": "stdout",
       "text": "\n46505.4865156"
      },
      {
       "output_type": "stream",
       "stream": "stdout",
       "text": "\n46505.5403249"
      },
      {
       "output_type": "stream",
       "stream": "stdout",
       "text": "\n46505.466957"
      },
      {
       "output_type": "stream",
       "stream": "stdout",
       "text": "\n46505.4441911"
      },
      {
       "output_type": "stream",
       "stream": "stdout",
       "text": "\n46505.4171367"
      },
      {
       "output_type": "stream",
       "stream": "stdout",
       "text": "\n46505.4161384"
      },
      {
       "output_type": "stream",
       "stream": "stdout",
       "text": "\n46505.1516233"
      },
      {
       "output_type": "stream",
       "stream": "stdout",
       "text": "\n46504.9318849"
      },
      {
       "output_type": "stream",
       "stream": "stdout",
       "text": "\n46505.1505704"
      },
      {
       "output_type": "stream",
       "stream": "stdout",
       "text": "\n46505.2998849"
      },
      {
       "output_type": "stream",
       "stream": "stdout",
       "text": "\n46505.1063935"
      },
      {
       "output_type": "stream",
       "stream": "stdout",
       "text": "\n46504.8374587"
      },
      {
       "output_type": "stream",
       "stream": "stdout",
       "text": "\n46504.6637121"
      },
      {
       "output_type": "stream",
       "stream": "stdout",
       "text": "\n46504.5260526"
      },
      {
       "output_type": "stream",
       "stream": "stdout",
       "text": "\n46504.1756953"
      },
      {
       "output_type": "stream",
       "stream": "stdout",
       "text": "\n46504.2303987"
      },
      {
       "output_type": "stream",
       "stream": "stdout",
       "text": "\n46503.8356011"
      },
      {
       "output_type": "stream",
       "stream": "stdout",
       "text": "\n46503.3067712"
      },
      {
       "output_type": "stream",
       "stream": "stdout",
       "text": "\n46503.2515563"
      },
      {
       "output_type": "stream",
       "stream": "stdout",
       "text": "\n46502.6384827"
      },
      {
       "output_type": "stream",
       "stream": "stdout",
       "text": "\n46502.356094"
      },
      {
       "output_type": "stream",
       "stream": "stdout",
       "text": "\n46501.4439915"
      },
      {
       "output_type": "stream",
       "stream": "stdout",
       "text": "\n46501.412687"
      },
      {
       "output_type": "stream",
       "stream": "stdout",
       "text": "\n46500.15123"
      },
      {
       "output_type": "stream",
       "stream": "stdout",
       "text": "\n46499.3068353"
      },
      {
       "output_type": "stream",
       "stream": "stdout",
       "text": "\n46497.2347871"
      },
      {
       "output_type": "stream",
       "stream": "stdout",
       "text": "\n46496.8301542"
      },
      {
       "output_type": "stream",
       "stream": "stdout",
       "text": "\n46493.7584973"
      },
      {
       "output_type": "stream",
       "stream": "stdout",
       "text": "\n46494.1920527"
      },
      {
       "output_type": "stream",
       "stream": "stdout",
       "text": "\n46491.3973297"
      },
      {
       "output_type": "stream",
       "stream": "stdout",
       "text": "\n46487.2833429"
      },
      {
       "output_type": "stream",
       "stream": "stdout",
       "text": "\n46485.8407226"
      },
      {
       "output_type": "stream",
       "stream": "stdout",
       "text": "\n46479.5271594"
      },
      {
       "output_type": "stream",
       "stream": "stdout",
       "text": "\n46479.0022325"
      },
      {
       "output_type": "stream",
       "stream": "stdout",
       "text": "\n46470.0772462"
      },
      {
       "output_type": "stream",
       "stream": "stdout",
       "text": "\n46473.1617673"
      },
      {
       "output_type": "stream",
       "stream": "stdout",
       "text": "\n46464.2802416"
      },
      {
       "output_type": "stream",
       "stream": "stdout",
       "text": "\n46454.960389"
      },
      {
       "output_type": "stream",
       "stream": "stdout",
       "text": "\n46450.2037212"
      },
      {
       "output_type": "stream",
       "stream": "stdout",
       "text": "\n46434.12902"
      },
      {
       "output_type": "stream",
       "stream": "stdout",
       "text": "\n46435.9357119"
      },
      {
       "output_type": "stream",
       "stream": "stdout",
       "text": "\n46425.3580943"
      },
      {
       "output_type": "stream",
       "stream": "stdout",
       "text": "\n46408.1979994"
      },
      {
       "output_type": "stream",
       "stream": "stdout",
       "text": "\n46416.5824364"
      },
      {
       "output_type": "stream",
       "stream": "stdout",
       "text": "\n46389.6653123"
      },
      {
       "output_type": "stream",
       "stream": "stdout",
       "text": "\n46362.5736079"
      },
      {
       "output_type": "stream",
       "stream": "stdout",
       "text": "\n46379.3850794"
      },
      {
       "output_type": "stream",
       "stream": "stdout",
       "text": "\n46376.9191077"
      },
      {
       "output_type": "stream",
       "stream": "stdout",
       "text": "\n46339.9087377"
      },
      {
       "output_type": "stream",
       "stream": "stdout",
       "text": "\n46304.2676129"
      },
      {
       "output_type": "stream",
       "stream": "stdout",
       "text": "\n46325.739871"
      },
      {
       "output_type": "stream",
       "stream": "stdout",
       "text": "\n46304.068571"
      },
      {
       "output_type": "stream",
       "stream": "stdout",
       "text": "\n46277.500672"
      },
      {
       "output_type": "stream",
       "stream": "stdout",
       "text": "\n46245.1038632"
      },
      {
       "output_type": "stream",
       "stream": "stdout",
       "text": "\n46181.0747576"
      },
      {
       "output_type": "stream",
       "stream": "stdout",
       "text": "\n46212.8241467"
      },
      {
       "output_type": "stream",
       "stream": "stdout",
       "text": "\n46150.3833509"
      },
      {
       "output_type": "stream",
       "stream": "stdout",
       "text": "\n46067.0039049"
      },
      {
       "output_type": "stream",
       "stream": "stdout",
       "text": "\n46083.872377"
      },
      {
       "output_type": "stream",
       "stream": "stdout",
       "text": "\n45981.5036077"
      },
      {
       "output_type": "stream",
       "stream": "stdout",
       "text": "\n45837.8542443"
      },
      {
       "output_type": "stream",
       "stream": "stdout",
       "text": "\n45870.7594059"
      },
      {
       "output_type": "stream",
       "stream": "stdout",
       "text": "\n45766.6177938"
      },
      {
       "output_type": "stream",
       "stream": "stdout",
       "text": "\n45602.7444623"
      },
      {
       "output_type": "stream",
       "stream": "stdout",
       "text": "\n45599.1460118"
      },
      {
       "output_type": "stream",
       "stream": "stdout",
       "text": "\n45393.508583"
      },
      {
       "output_type": "stream",
       "stream": "stdout",
       "text": "\n45265.6787212"
      },
      {
       "output_type": "stream",
       "stream": "stdout",
       "text": "\n44901.4178288"
      },
      {
       "output_type": "stream",
       "stream": "stdout",
       "text": "\n45011.8387232"
      },
      {
       "output_type": "stream",
       "stream": "stdout",
       "text": "\n44650.0931525"
      },
      {
       "output_type": "stream",
       "stream": "stdout",
       "text": "\n44158.7170009"
      },
      {
       "output_type": "stream",
       "stream": "stdout",
       "text": "\n44162.2698233"
      },
      {
       "output_type": "stream",
       "stream": "stdout",
       "text": "\n43864.1061258"
      },
      {
       "output_type": "stream",
       "stream": "stdout",
       "text": "\n43379.7607531"
      },
      {
       "output_type": "stream",
       "stream": "stdout",
       "text": "\n43244.5170798"
      },
      {
       "output_type": "stream",
       "stream": "stdout",
       "text": "\n42534.1009452"
      },
      {
       "output_type": "stream",
       "stream": "stdout",
       "text": "\n42400.1691422"
      },
      {
       "output_type": "stream",
       "stream": "stdout",
       "text": "\n41588.8315486"
      },
      {
       "output_type": "stream",
       "stream": "stdout",
       "text": "\n42089.6452315"
      },
      {
       "output_type": "stream",
       "stream": "stdout",
       "text": "\n41346.4969079"
      },
      {
       "output_type": "stream",
       "stream": "stdout",
       "text": "\n41144.3277143"
      },
      {
       "output_type": "stream",
       "stream": "stdout",
       "text": "\n40456.8709565"
      },
      {
       "output_type": "stream",
       "stream": "stdout",
       "text": "\n39967.9833874"
      },
      {
       "output_type": "stream",
       "stream": "stdout",
       "text": "\n41194.5032218"
      },
      {
       "output_type": "stream",
       "stream": "stdout",
       "text": "\n40479.305334"
      },
      {
       "output_type": "stream",
       "stream": "stdout",
       "text": "\n42787.933191"
      },
      {
       "output_type": "stream",
       "stream": "stdout",
       "text": "\n40599.4707083"
      },
      {
       "output_type": "stream",
       "stream": "stdout",
       "text": "\n39971.173959"
      },
      {
       "output_type": "stream",
       "stream": "stdout",
       "text": "\n39276.3085469"
      },
      {
       "output_type": "stream",
       "stream": "stdout",
       "text": "\n38666.9195517"
      },
      {
       "output_type": "stream",
       "stream": "stdout",
       "text": "\n39279.2285286"
      },
      {
       "output_type": "stream",
       "stream": "stdout",
       "text": "\n38838.7377111"
      },
      {
       "output_type": "stream",
       "stream": "stdout",
       "text": "\n38585.2264449"
      },
      {
       "output_type": "stream",
       "stream": "stdout",
       "text": "\n38532.1468934"
      },
      {
       "output_type": "stream",
       "stream": "stdout",
       "text": "\n38051.8842685"
      },
      {
       "output_type": "stream",
       "stream": "stdout",
       "text": "\n37927.6047389"
      },
      {
       "output_type": "stream",
       "stream": "stdout",
       "text": "\n38351.1113399"
      },
      {
       "output_type": "stream",
       "stream": "stdout",
       "text": "\n38324.8549497"
      },
      {
       "output_type": "stream",
       "stream": "stdout",
       "text": "\n38203.528912"
      },
      {
       "output_type": "stream",
       "stream": "stdout",
       "text": "\n37914.6239331"
      },
      {
       "output_type": "stream",
       "stream": "stdout",
       "text": "\n38449.2358056"
      },
      {
       "output_type": "stream",
       "stream": "stdout",
       "text": "\n38786.8080976"
      },
      {
       "output_type": "stream",
       "stream": "stdout",
       "text": "\n37991.149283"
      },
      {
       "output_type": "stream",
       "stream": "stdout",
       "text": "\n37942.8535669"
      },
      {
       "output_type": "stream",
       "stream": "stdout",
       "text": "\n37941.1405492"
      },
      {
       "output_type": "stream",
       "stream": "stdout",
       "text": "\n38799.3671665"
      },
      {
       "output_type": "stream",
       "stream": "stdout",
       "text": "\n37829.7122941"
      },
      {
       "output_type": "stream",
       "stream": "stdout",
       "text": "\n37956.3171133"
      },
      {
       "output_type": "stream",
       "stream": "stdout",
       "text": "\n37878.8171408"
      },
      {
       "output_type": "stream",
       "stream": "stdout",
       "text": "\n37983.9931756"
      },
      {
       "output_type": "stream",
       "stream": "stdout",
       "text": "\n37873.1939864"
      },
      {
       "output_type": "stream",
       "stream": "stdout",
       "text": "\n37886.276075"
      },
      {
       "output_type": "stream",
       "stream": "stdout",
       "text": "\n37814.6609242"
      },
      {
       "output_type": "stream",
       "stream": "stdout",
       "text": "\n37835.3666489"
      },
      {
       "output_type": "stream",
       "stream": "stdout",
       "text": "\n37806.6716335"
      },
      {
       "output_type": "stream",
       "stream": "stdout",
       "text": "\n37846.1893909"
      },
      {
       "output_type": "stream",
       "stream": "stdout",
       "text": "\n37755.3354702"
      },
      {
       "output_type": "stream",
       "stream": "stdout",
       "text": "\n37739.8558648"
      },
      {
       "output_type": "stream",
       "stream": "stdout",
       "text": "\n37841.6137359"
      },
      {
       "output_type": "stream",
       "stream": "stdout",
       "text": "\n37787.40276"
      },
      {
       "output_type": "stream",
       "stream": "stdout",
       "text": "\n37697.8735033"
      },
      {
       "output_type": "stream",
       "stream": "stdout",
       "text": "\n37645.275947"
      },
      {
       "output_type": "stream",
       "stream": "stdout",
       "text": "\n37759.2813252"
      },
      {
       "output_type": "stream",
       "stream": "stdout",
       "text": "\n37693.4816834"
      },
      {
       "output_type": "stream",
       "stream": "stdout",
       "text": "\n37612.6020413"
      },
      {
       "output_type": "stream",
       "stream": "stdout",
       "text": "\n37584.6821832"
      },
      {
       "output_type": "stream",
       "stream": "stdout",
       "text": "\n37556.3927615"
      },
      {
       "output_type": "stream",
       "stream": "stdout",
       "text": "\n37536.8095599"
      },
      {
       "output_type": "stream",
       "stream": "stdout",
       "text": "\n37415.1366247"
      },
      {
       "output_type": "stream",
       "stream": "stdout",
       "text": "\n37299.8003268"
      },
      {
       "output_type": "stream",
       "stream": "stdout",
       "text": "\n37441.3516371"
      },
      {
       "output_type": "stream",
       "stream": "stdout",
       "text": "\n37212.9274561"
      },
      {
       "output_type": "stream",
       "stream": "stdout",
       "text": "\n37068.5997779"
      },
      {
       "output_type": "stream",
       "stream": "stdout",
       "text": "\n37299.709158"
      },
      {
       "output_type": "stream",
       "stream": "stdout",
       "text": "\n37137.650607"
      },
      {
       "output_type": "stream",
       "stream": "stdout",
       "text": "\n36925.0499217"
      },
      {
       "output_type": "stream",
       "stream": "stdout",
       "text": "\n36798.0988902"
      },
      {
       "output_type": "stream",
       "stream": "stdout",
       "text": "\n36792.9739441"
      },
      {
       "output_type": "stream",
       "stream": "stdout",
       "text": "\n36661.8673959"
      },
      {
       "output_type": "stream",
       "stream": "stdout",
       "text": "\n36821.9380227"
      },
      {
       "output_type": "stream",
       "stream": "stdout",
       "text": "\n36623.1572212"
      },
      {
       "output_type": "stream",
       "stream": "stdout",
       "text": "\n36753.5465565"
      },
      {
       "output_type": "stream",
       "stream": "stdout",
       "text": "\n36432.7738046"
      },
      {
       "output_type": "stream",
       "stream": "stdout",
       "text": "\n36358.0928453"
      },
      {
       "output_type": "stream",
       "stream": "stdout",
       "text": "\n36640.7775"
      },
      {
       "output_type": "stream",
       "stream": "stdout",
       "text": "\n36305.4100149"
      },
      {
       "output_type": "stream",
       "stream": "stdout",
       "text": "\n36249.0242486"
      },
      {
       "output_type": "stream",
       "stream": "stdout",
       "text": "\n36738.7094254"
      },
      {
       "output_type": "stream",
       "stream": "stdout",
       "text": "\n36435.3107814"
      },
      {
       "output_type": "stream",
       "stream": "stdout",
       "text": "\n36570.5275357"
      },
      {
       "output_type": "stream",
       "stream": "stdout",
       "text": "\n36238.8573144"
      },
      {
       "output_type": "stream",
       "stream": "stdout",
       "text": "\n36257.9967414"
      },
      {
       "output_type": "stream",
       "stream": "stdout",
       "text": "\n36356.7872471"
      },
      {
       "output_type": "stream",
       "stream": "stdout",
       "text": "\n36307.6101154"
      },
      {
       "output_type": "stream",
       "stream": "stdout",
       "text": "\n36167.0800863"
      },
      {
       "output_type": "stream",
       "stream": "stdout",
       "text": "\n36157.5856483"
      },
      {
       "output_type": "stream",
       "stream": "stdout",
       "text": "\n36452.0001387"
      },
      {
       "output_type": "stream",
       "stream": "stdout",
       "text": "\n36221.9841816"
      },
      {
       "output_type": "stream",
       "stream": "stdout",
       "text": "\n36161.3825937"
      },
      {
       "output_type": "stream",
       "stream": "stdout",
       "text": "\n36110.8830174"
      },
      {
       "output_type": "stream",
       "stream": "stdout",
       "text": "\n36121.4206341"
      },
      {
       "output_type": "stream",
       "stream": "stdout",
       "text": "\n36254.8392792"
      },
      {
       "output_type": "stream",
       "stream": "stdout",
       "text": "\n36153.2870542"
      },
      {
       "output_type": "stream",
       "stream": "stdout",
       "text": "\n36116.5425322"
      },
      {
       "output_type": "stream",
       "stream": "stdout",
       "text": "\n36136.2759478"
      },
      {
       "output_type": "stream",
       "stream": "stdout",
       "text": "\n36159.2795318"
      },
      {
       "output_type": "stream",
       "stream": "stdout",
       "text": "\n36120.71037"
      },
      {
       "output_type": "stream",
       "stream": "stdout",
       "text": "\n36109.768222"
      },
      {
       "output_type": "stream",
       "stream": "stdout",
       "text": "\n36143.2190386"
      },
      {
       "output_type": "stream",
       "stream": "stdout",
       "text": "\n36125.4919917"
      },
      {
       "output_type": "stream",
       "stream": "stdout",
       "text": "\n36104.389614"
      },
      {
       "output_type": "stream",
       "stream": "stdout",
       "text": "\n36126.955918"
      },
      {
       "output_type": "stream",
       "stream": "stdout",
       "text": "\n36103.6069847"
      },
      {
       "output_type": "stream",
       "stream": "stdout",
       "text": "\n36140.2453058"
      },
      {
       "output_type": "stream",
       "stream": "stdout",
       "text": "\n36101.0273775"
      },
      {
       "output_type": "stream",
       "stream": "stdout",
       "text": "\n36102.2717431"
      },
      {
       "output_type": "stream",
       "stream": "stdout",
       "text": "\n36120.2345785"
      },
      {
       "output_type": "stream",
       "stream": "stdout",
       "text": "\n36100.069711"
      },
      {
       "output_type": "stream",
       "stream": "stdout",
       "text": "\n36111.1668515"
      },
      {
       "output_type": "stream",
       "stream": "stdout",
       "text": "\n36098.9109469"
      },
      {
       "output_type": "stream",
       "stream": "stdout",
       "text": "\n36103.6009644"
      },
      {
       "output_type": "stream",
       "stream": "stdout",
       "text": "\n36099.3689968"
      },
      {
       "output_type": "stream",
       "stream": "stdout",
       "text": "\n36104.5236595"
      },
      {
       "output_type": "stream",
       "stream": "stdout",
       "text": "\n36098.7726672"
      },
      {
       "output_type": "stream",
       "stream": "stdout",
       "text": "\n36104.4463641"
      },
      {
       "output_type": "stream",
       "stream": "stdout",
       "text": "\n36098.3870039"
      },
      {
       "output_type": "stream",
       "stream": "stdout",
       "text": "\n36102.5281961"
      },
      {
       "output_type": "stream",
       "stream": "stdout",
       "text": "\n36098.4385875"
      },
      {
       "output_type": "stream",
       "stream": "stdout",
       "text": "\n36098.8100437"
      },
      {
       "output_type": "stream",
       "stream": "stdout",
       "text": "\n36099.4845606"
      },
      {
       "output_type": "stream",
       "stream": "stdout",
       "text": "\n36098.1538553"
      },
      {
       "output_type": "stream",
       "stream": "stdout",
       "text": "\n36099.9224937"
      },
      {
       "output_type": "stream",
       "stream": "stdout",
       "text": "\n36098.0549218"
      },
      {
       "output_type": "stream",
       "stream": "stdout",
       "text": "\n36099.6131462"
      },
      {
       "output_type": "stream",
       "stream": "stdout",
       "text": "\n36098.0339726"
      },
      {
       "output_type": "stream",
       "stream": "stdout",
       "text": "\n36098.6635865"
      },
      {
       "output_type": "stream",
       "stream": "stdout",
       "text": "\n36097.9803975"
      },
      {
       "output_type": "stream",
       "stream": "stdout",
       "text": "\n36099.0109935"
      },
      {
       "output_type": "stream",
       "stream": "stdout",
       "text": "\n36097.8669448"
      },
      {
       "output_type": "stream",
       "stream": "stdout",
       "text": "\n36098.1118276"
      },
      {
       "output_type": "stream",
       "stream": "stdout",
       "text": "\n36097.9765906"
      },
      {
       "output_type": "stream",
       "stream": "stdout",
       "text": "\n36098.4150025"
      },
      {
       "output_type": "stream",
       "stream": "stdout",
       "text": "\n36097.986796"
      },
      {
       "output_type": "stream",
       "stream": "stdout",
       "text": "\n36097.7785502"
      },
      {
       "output_type": "stream",
       "stream": "stdout",
       "text": "\n36098.6212642"
      },
      {
       "output_type": "stream",
       "stream": "stdout",
       "text": "\n36097.8804383"
      },
      {
       "output_type": "stream",
       "stream": "stdout",
       "text": "\n36098.0118568"
      },
      {
       "output_type": "stream",
       "stream": "stdout",
       "text": "\n36097.9125603"
      },
      {
       "output_type": "stream",
       "stream": "stdout",
       "text": "\n36098.0271321"
      },
      {
       "output_type": "stream",
       "stream": "stdout",
       "text": "\n36097.826645"
      },
      {
       "output_type": "stream",
       "stream": "stdout",
       "text": "\n36097.8805366"
      },
      {
       "output_type": "stream",
       "stream": "stdout",
       "text": "\n36097.8856963"
      },
      {
       "output_type": "stream",
       "stream": "stdout",
       "text": "\n36098.0909914"
      },
      {
       "output_type": "stream",
       "stream": "stdout",
       "text": "\n36097.7253744"
      },
      {
       "output_type": "stream",
       "stream": "stdout",
       "text": "\n36097.8818355"
      },
      {
       "output_type": "stream",
       "stream": "stdout",
       "text": "\n36097.8025998"
      },
      {
       "output_type": "stream",
       "stream": "stdout",
       "text": "\n36097.9442409"
      },
      {
       "output_type": "stream",
       "stream": "stdout",
       "text": "\n36098.1577537"
      },
      {
       "output_type": "stream",
       "stream": "stdout",
       "text": "\n36097.8473289"
      },
      {
       "output_type": "stream",
       "stream": "stdout",
       "text": "\n36097.8183958"
      },
      {
       "output_type": "stream",
       "stream": "stdout",
       "text": "\n36097.8932482"
      },
      {
       "output_type": "stream",
       "stream": "stdout",
       "text": "\n36097.8507434"
      },
      {
       "output_type": "stream",
       "stream": "stdout",
       "text": "\n36097.7923474"
      },
      {
       "output_type": "stream",
       "stream": "stdout",
       "text": "\n36097.9382018"
      },
      {
       "output_type": "stream",
       "stream": "stdout",
       "text": "\n36097.8860843"
      },
      {
       "output_type": "stream",
       "stream": "stdout",
       "text": "\n36097.9099246"
      },
      {
       "output_type": "stream",
       "stream": "stdout",
       "text": "\n36097.8622884"
      },
      {
       "output_type": "stream",
       "stream": "stdout",
       "text": "\n36097.8041398"
      },
      {
       "output_type": "stream",
       "stream": "stdout",
       "text": "\n36097.9221502"
      },
      {
       "output_type": "stream",
       "stream": "stdout",
       "text": "\n36097.9748787"
      },
      {
       "output_type": "stream",
       "stream": "stdout",
       "text": "\n36097.8326899"
      },
      {
       "output_type": "stream",
       "stream": "stdout",
       "text": "\n36097.9214898"
      },
      {
       "output_type": "stream",
       "stream": "stdout",
       "text": "\n36097.7663948"
      },
      {
       "output_type": "stream",
       "stream": "stdout",
       "text": "\n36097.9164017"
      },
      {
       "output_type": "stream",
       "stream": "stdout",
       "text": "\n36097.8332312"
      },
      {
       "output_type": "stream",
       "stream": "stdout",
       "text": "\n36097.9145053"
      },
      {
       "output_type": "stream",
       "stream": "stdout",
       "text": "\n36097.8290844"
      },
      {
       "output_type": "stream",
       "stream": "stdout",
       "text": "\n36097.813959"
      },
      {
       "output_type": "stream",
       "stream": "stdout",
       "text": "\n36097.9482519"
      },
      {
       "output_type": "stream",
       "stream": "stdout",
       "text": "\n36097.9244437"
      },
      {
       "output_type": "stream",
       "stream": "stdout",
       "text": "\n36097.7679929"
      },
      {
       "output_type": "stream",
       "stream": "stdout",
       "text": "\n36097.9379236"
      },
      {
       "output_type": "stream",
       "stream": "stdout",
       "text": "\n36097.9288015"
      },
      {
       "output_type": "stream",
       "stream": "stdout",
       "text": "\n36097.9085202"
      },
      {
       "output_type": "stream",
       "stream": "stdout",
       "text": "\n36097.9093346"
      },
      {
       "output_type": "stream",
       "stream": "stdout",
       "text": "\n36097.8349775"
      },
      {
       "output_type": "stream",
       "stream": "stdout",
       "text": "\n36097.9079781"
      },
      {
       "output_type": "stream",
       "stream": "stdout",
       "text": "\n36097.8314299"
      },
      {
       "output_type": "stream",
       "stream": "stdout",
       "text": "\n36097.8320794"
      },
      {
       "output_type": "stream",
       "stream": "stdout",
       "text": "\n36097.9466222"
      },
      {
       "output_type": "stream",
       "stream": "stdout",
       "text": "\n36097.7632716"
      },
      {
       "output_type": "stream",
       "stream": "stdout",
       "text": "\n36097.7676845"
      },
      {
       "output_type": "stream",
       "stream": "stdout",
       "text": "\n36097.7390852"
      },
      {
       "output_type": "stream",
       "stream": "stdout",
       "text": "\n36097.9092945"
      },
      {
       "output_type": "stream",
       "stream": "stdout",
       "text": "\n36097.8404038"
      },
      {
       "output_type": "stream",
       "stream": "stdout",
       "text": "\n36097.7276026"
      },
      {
       "output_type": "stream",
       "stream": "stdout",
       "text": "\n36097.9087433"
      },
      {
       "output_type": "stream",
       "stream": "stdout",
       "text": "\n36097.7688973"
      },
      {
       "output_type": "stream",
       "stream": "stdout",
       "text": "\n36097.723104"
      },
      {
       "output_type": "stream",
       "stream": "stdout",
       "text": "\n36097.9126568"
      },
      {
       "output_type": "stream",
       "stream": "stdout",
       "text": "\n36097.8426985"
      },
      {
       "output_type": "stream",
       "stream": "stdout",
       "text": "\n36098.15603"
      },
      {
       "output_type": "stream",
       "stream": "stdout",
       "text": "\n36097.8410951"
      },
      {
       "output_type": "stream",
       "stream": "stdout",
       "text": "\n36097.9250202"
      },
      {
       "output_type": "stream",
       "stream": "stdout",
       "text": "\n36097.7690224"
      },
      {
       "output_type": "stream",
       "stream": "stdout",
       "text": "\n36097.7283399"
      },
      {
       "output_type": "stream",
       "stream": "stdout",
       "text": "\n36097.7299846"
      },
      {
       "output_type": "stream",
       "stream": "stdout",
       "text": "\n36097.7280886"
      },
      {
       "output_type": "stream",
       "stream": "stdout",
       "text": "\n36097.7236713"
      },
      {
       "output_type": "stream",
       "stream": "stdout",
       "text": "\n36097.76917"
      },
      {
       "output_type": "stream",
       "stream": "stdout",
       "text": "\n36097.7265444"
      },
      {
       "output_type": "stream",
       "stream": "stdout",
       "text": "\n36097.769635"
      },
      {
       "output_type": "stream",
       "stream": "stdout",
       "text": "\n36097.7261622"
      },
      {
       "output_type": "stream",
       "stream": "stdout",
       "text": "\n36097.7694368"
      },
      {
       "output_type": "stream",
       "stream": "stdout",
       "text": "\n36097.7255713"
      },
      {
       "output_type": "stream",
       "stream": "stdout",
       "text": "\n36097.7696328"
      },
      {
       "output_type": "stream",
       "stream": "stdout",
       "text": "\n36097.7253022"
      },
      {
       "output_type": "stream",
       "stream": "stdout",
       "text": "\n36097.7695951"
      },
      {
       "output_type": "stream",
       "stream": "stdout",
       "text": "\n36097.7249687"
      },
      {
       "output_type": "stream",
       "stream": "stdout",
       "text": "\n36097.7232054"
      },
      {
       "output_type": "stream",
       "stream": "stdout",
       "text": "\n36097.7689772"
      },
      {
       "output_type": "stream",
       "stream": "stdout",
       "text": "\n36097.7245198"
      },
      {
       "output_type": "stream",
       "stream": "stdout",
       "text": "\n36097.7688947"
      },
      {
       "output_type": "stream",
       "stream": "stdout",
       "text": "\n36097.7242937"
      },
      {
       "output_type": "stream",
       "stream": "stdout",
       "text": "\n36097.7690958"
      },
      {
       "output_type": "stream",
       "stream": "stdout",
       "text": "\n36097.7240419"
      },
      {
       "output_type": "stream",
       "stream": "stdout",
       "text": "\n36097.7227012"
      },
      {
       "output_type": "stream",
       "stream": "stdout",
       "text": "\n36097.768779"
      },
      {
       "output_type": "stream",
       "stream": "stdout",
       "text": "\n36097.7689492"
      },
      {
       "output_type": "stream",
       "stream": "stdout",
       "text": "\n36097.7236031"
      },
      {
       "output_type": "stream",
       "stream": "stdout",
       "text": "\n36097.7226969"
      },
      {
       "output_type": "stream",
       "stream": "stdout",
       "text": "\n36097.7223058"
      },
      {
       "output_type": "stream",
       "stream": "stdout",
       "text": "\n36097.7220597"
      },
      {
       "output_type": "stream",
       "stream": "stdout",
       "text": "\n36097.7213596"
      },
      {
       "output_type": "stream",
       "stream": "stdout",
       "text": "\n36097.7679651"
      },
      {
       "output_type": "stream",
       "stream": "stdout",
       "text": "\n36097.7227638"
      },
      {
       "output_type": "stream",
       "stream": "stdout",
       "text": "\n36097.7215079"
      },
      {
       "output_type": "stream",
       "stream": "stdout",
       "text": "\n36097.721174"
      },
      {
       "output_type": "stream",
       "stream": "stdout",
       "text": "\n36097.7670921"
      },
      {
       "output_type": "stream",
       "stream": "stdout",
       "text": "\n36097.7208371"
      },
      {
       "output_type": "stream",
       "stream": "stdout",
       "text": "\n36097.7204534"
      },
      {
       "output_type": "stream",
       "stream": "stdout",
       "text": "\n36097.7665324"
      },
      {
       "output_type": "stream",
       "stream": "stdout",
       "text": "\n36097.7216274"
      },
      {
       "output_type": "stream",
       "stream": "stdout",
       "text": "\n36097.766855"
      },
      {
       "output_type": "stream",
       "stream": "stdout",
       "text": "\n36097.7213056"
      },
      {
       "output_type": "stream",
       "stream": "stdout",
       "text": "\n36097.7205141"
      },
      {
       "output_type": "stream",
       "stream": "stdout",
       "text": "\n36097.7204989"
      },
      {
       "output_type": "stream",
       "stream": "stdout",
       "text": "\n36097.720136"
      },
      {
       "output_type": "stream",
       "stream": "stdout",
       "text": "\n36097.7200313"
      },
      {
       "output_type": "stream",
       "stream": "stdout",
       "text": "\n36097.7207308"
      },
      {
       "output_type": "stream",
       "stream": "stdout",
       "text": "\n36097.7203381"
      },
      {
       "output_type": "stream",
       "stream": "stdout",
       "text": "\n36097.7206695"
      },
      {
       "output_type": "stream",
       "stream": "stdout",
       "text": "\n36097.7203105"
      },
      {
       "output_type": "stream",
       "stream": "stdout",
       "text": "\n36097.7200893"
      },
      {
       "output_type": "stream",
       "stream": "stdout",
       "text": "\n36097.7200507"
      },
      {
       "output_type": "stream",
       "stream": "stdout",
       "text": "\n36097.7197485"
      },
      {
       "output_type": "stream",
       "stream": "stdout",
       "text": "\n36097.7659101"
      },
      {
       "output_type": "stream",
       "stream": "stdout",
       "text": "\n36097.7202816"
      },
      {
       "output_type": "stream",
       "stream": "stdout",
       "text": "\n36097.7200426"
      },
      {
       "output_type": "stream",
       "stream": "stdout",
       "text": "\n36097.7198107"
      },
      {
       "output_type": "stream",
       "stream": "stdout",
       "text": "\n36097.719728"
      },
      {
       "output_type": "stream",
       "stream": "stdout",
       "text": "\n36097.7195924"
      },
      {
       "output_type": "stream",
       "stream": "stdout",
       "text": "\n36097.7197094"
      },
      {
       "output_type": "stream",
       "stream": "stdout",
       "text": "\n36097.7658958"
      },
      {
       "output_type": "stream",
       "stream": "stdout",
       "text": "\n36097.7198548"
      },
      {
       "output_type": "stream",
       "stream": "stdout",
       "text": "\n36097.7659239"
      },
      {
       "output_type": "stream",
       "stream": "stdout",
       "text": "\n36097.7197682"
      },
      {
       "output_type": "stream",
       "stream": "stdout",
       "text": "\n36097.7198061"
      },
      {
       "output_type": "stream",
       "stream": "stdout",
       "text": "\n36097.7197214"
      },
      {
       "output_type": "stream",
       "stream": "stdout",
       "text": "\n36097.7660487"
      },
      {
       "output_type": "stream",
       "stream": "stdout",
       "text": "\n36097.7197192"
      },
      {
       "output_type": "stream",
       "stream": "stdout",
       "text": "\n36097.7660227"
      },
      {
       "output_type": "stream",
       "stream": "stdout",
       "text": "\n36097.7197096"
      },
      {
       "output_type": "stream",
       "stream": "stdout",
       "text": "\n36097.719667"
      },
      {
       "output_type": "stream",
       "stream": "stdout",
       "text": "\n36097.7195987"
      },
      {
       "output_type": "stream",
       "stream": "stdout",
       "text": "\n36097.7195526"
      },
      {
       "output_type": "stream",
       "stream": "stdout",
       "text": "\n36097.7659254"
      },
      {
       "output_type": "stream",
       "stream": "stdout",
       "text": "\n36097.7195744"
      },
      {
       "output_type": "stream",
       "stream": "stdout",
       "text": "\n36097.7659255"
      },
      {
       "output_type": "stream",
       "stream": "stdout",
       "text": "\n36097.7196187"
      },
      {
       "output_type": "stream",
       "stream": "stdout",
       "text": "\n36097.7659304"
      },
      {
       "output_type": "stream",
       "stream": "stdout",
       "text": "\n36097.7195933"
      },
      {
       "output_type": "stream",
       "stream": "stdout",
       "text": "\n36097.7195714"
      },
      {
       "output_type": "stream",
       "stream": "stdout",
       "text": "\n36097.7195365"
      },
      {
       "output_type": "stream",
       "stream": "stdout",
       "text": "\n36097.7659316"
      },
      {
       "output_type": "stream",
       "stream": "stdout",
       "text": "\n36097.765936"
      },
      {
       "output_type": "stream",
       "stream": "stdout",
       "text": "\n36097.7195688"
      },
      {
       "output_type": "stream",
       "stream": "stdout",
       "text": "\n36097.7195525"
      },
      {
       "output_type": "stream",
       "stream": "stdout",
       "text": "\n36097.7659656"
      },
      {
       "output_type": "stream",
       "stream": "stdout",
       "text": "\n36097.7195547"
      },
      {
       "output_type": "stream",
       "stream": "stdout",
       "text": "\n36097.7659295"
      },
      {
       "output_type": "stream",
       "stream": "stdout",
       "text": "\n36097.7195559"
      },
      {
       "output_type": "stream",
       "stream": "stdout",
       "text": "\n36097.7659303"
      },
      {
       "output_type": "stream",
       "stream": "stdout",
       "text": "\n36097.7195491"
      },
      {
       "output_type": "stream",
       "stream": "stdout",
       "text": "\n36097.765945"
      },
      {
       "output_type": "stream",
       "stream": "stdout",
       "text": "\n36097.7195475"
      },
      {
       "output_type": "stream",
       "stream": "stdout",
       "text": "\n36097.7195511"
      },
      {
       "output_type": "stream",
       "stream": "stdout",
       "text": "\n36097.7195695"
      },
      {
       "output_type": "stream",
       "stream": "stdout",
       "text": "\n36097.719545"
      },
      {
       "output_type": "stream",
       "stream": "stdout",
       "text": "\n36097.7195469"
      },
      {
       "output_type": "stream",
       "stream": "stdout",
       "text": "\n36097.7195347"
      },
      {
       "output_type": "stream",
       "stream": "stdout",
       "text": "\n36097.7659254"
      },
      {
       "output_type": "stream",
       "stream": "stdout",
       "text": "\n36097.7659273"
      },
      {
       "output_type": "stream",
       "stream": "stdout",
       "text": "\n36097.7195428"
      },
      {
       "output_type": "stream",
       "stream": "stdout",
       "text": "\n36097.7195421"
      },
      {
       "output_type": "stream",
       "stream": "stdout",
       "text": "\n36097.7659328"
      },
      {
       "output_type": "stream",
       "stream": "stdout",
       "text": "\n36097.7195394"
      },
      {
       "output_type": "stream",
       "stream": "stdout",
       "text": "\n36097.7659314"
      },
      {
       "output_type": "stream",
       "stream": "stdout",
       "text": "\n36097.7195399"
      },
      {
       "output_type": "stream",
       "stream": "stdout",
       "text": "\n36097.7195394"
      },
      {
       "output_type": "stream",
       "stream": "stdout",
       "text": "\n36097.7195329"
      },
      {
       "output_type": "stream",
       "stream": "stdout",
       "text": "\n36097.7659263"
      },
      {
       "output_type": "stream",
       "stream": "stdout",
       "text": "\n36097.7659316"
      },
      {
       "output_type": "stream",
       "stream": "stdout",
       "text": "\n36097.7195368"
      },
      {
       "output_type": "stream",
       "stream": "stdout",
       "text": "\n36097.7659239"
      },
      {
       "output_type": "stream",
       "stream": "stdout",
       "text": "\n36097.719537"
      },
      {
       "output_type": "stream",
       "stream": "stdout",
       "text": "\n36097.7195309"
      },
      {
       "output_type": "stream",
       "stream": "stdout",
       "text": "\n36097.7659238"
      },
      {
       "output_type": "stream",
       "stream": "stdout",
       "text": "\n36097.7659269"
      },
      {
       "output_type": "stream",
       "stream": "stdout",
       "text": "\n36097.7195341"
      },
      {
       "output_type": "stream",
       "stream": "stdout",
       "text": "\n36097.7195371"
      },
      {
       "output_type": "stream",
       "stream": "stdout",
       "text": "\n36097.7195336"
      },
      {
       "output_type": "stream",
       "stream": "stdout",
       "text": "\n36097.7195331"
      },
      {
       "output_type": "stream",
       "stream": "stdout",
       "text": "\n36097.7195316"
      },
      {
       "output_type": "stream",
       "stream": "stdout",
       "text": "\n36097.71953"
      },
      {
       "output_type": "stream",
       "stream": "stdout",
       "text": "\n36097.7195296"
      },
      {
       "output_type": "stream",
       "stream": "stdout",
       "text": "\n36097.7659257"
      },
      {
       "output_type": "stream",
       "stream": "stdout",
       "text": "\n36097.7195318"
      },
      {
       "output_type": "stream",
       "stream": "stdout",
       "text": "\n36097.7659232"
      },
      {
       "output_type": "stream",
       "stream": "stdout",
       "text": "\n36097.7195322"
      },
      {
       "output_type": "stream",
       "stream": "stdout",
       "text": "\n36097.7659238"
      },
      {
       "output_type": "stream",
       "stream": "stdout",
       "text": "\n36097.7195313"
      },
      {
       "output_type": "stream",
       "stream": "stdout",
       "text": "\nCPU times: user 15min 24s, sys: 8.83 s, total: 15min 33s\nWall time: 15min 27s\n"
      }
     ],
     "prompt_number": 26
    },
    {
     "cell_type": "code",
     "collapsed": false,
     "input": "results",
     "language": "python",
     "metadata": {},
     "outputs": [
      {
       "metadata": {},
       "output_type": "pyout",
       "prompt_number": 27,
       "text": "(array([  3.35329421e-03,   1.36357511e-01,   2.28737855e+01,\n         2.65454381e+04]),\n 36097.719529645117,\n 462,\n 800,\n 1)"
      }
     ],
     "prompt_number": 27
    },
    {
     "cell_type": "code",
     "collapsed": false,
     "input": "# No need to compute these again, of course, better to remember them somewhere using callback param\n# but I'm too lazy to do that\noriginal_results = simulation_result_from_current_guess(initial_guess)\nbest_results = simulation_result_from_current_guess(results[0])",
     "language": "python",
     "metadata": {},
     "outputs": [],
     "prompt_number": 28
    },
    {
     "cell_type": "code",
     "collapsed": false,
     "input": "print 'Initial', initial_guess\nprint 'Best', results[0]\nrows = 2\ncolumns = 1\nfor i, symbol in enumerate(variables):\n    pylab.subplot(rows, columns,i)\n    pylab.plot(original_results[0], original_results[1][:,i], label='Original')\n    pylab.plot(best_results[0], best_results[1][:, i], label='Best')\n    if symbol in observed_symbols:\n        index = observed_symbols.index(symbol)\n        pylab.plot(observed_timepoints, observed_data[index], '*', label='Observed')\n    pylab.title(symbol)\n    pylab.legend()\n    ",
     "language": "python",
     "metadata": {},
     "outputs": [
      {
       "output_type": "stream",
       "stream": "stdout",
       "text": "Initial [0.001, 0.5, 330.0, 320]\nBest [  3.35329421e-03   1.36357511e-01   2.28737855e+01   2.65454381e+04]\n"
      },
      {
       "metadata": {},
       "output_type": "display_data",
       "png": "[encoded data removed]",
       "text": "<matplotlib.figure.Figure at 0x11212cc90>"
      }
     ],
     "prompt_number": 29
    },
    {
     "cell_type": "code",
     "collapsed": false,
     "input": "original_results[0]",
     "language": "python",
     "metadata": {},
     "outputs": [
      {
       "metadata": {},
       "output_type": "pyout",
       "prompt_number": 30,
       "text": "array([  0.5,   1. ,   1.5,   2. ,   2.5,   3. ,   3.5,   4. ,   4.5,\n         5. ,   5.5,   6. ,   6.5,   7. ,   7.5,   8. ,   8.5,   9. ,\n         9.5,  10. ,  10.5,  11. ,  11.5,  12. ,  12.5,  13. ,  13.5,\n        14. ,  14.5,  15. ,  15.5,  16. ,  16.5,  17. ,  17.5,  18. ,\n        18.5,  19. ,  19.5,  20. ])"
      }
     ],
     "prompt_number": 30
    },
    {
     "cell_type": "code",
     "collapsed": false,
     "input": "best_results[0]",
     "language": "python",
     "metadata": {},
     "outputs": [
      {
       "metadata": {},
       "output_type": "pyout",
       "prompt_number": 31,
       "text": "array([  0.5,   1. ,   1.5,   2. ,   2.5,   3. ,   3.5,   4. ,   4.5,\n         5. ,   5.5,   6. ,   6.5,   7. ,   7.5,   8. ,   8.5,   9. ,\n         9.5,  10. ,  10.5,  11. ,  11.5,  12. ,  12.5,  13. ,  13.5,\n        14. ,  14.5,  15. ,  15.5,  16. ,  16.5,  17. ,  17.5,  18. ,\n        18.5,  19. ,  19.5,  20. ])"
      }
     ],
     "prompt_number": 31
    },
    {
     "cell_type": "code",
     "collapsed": false,
     "input": "observed_timepoints",
     "language": "python",
     "metadata": {},
     "outputs": [
      {
       "metadata": {},
       "output_type": "pyout",
       "prompt_number": 32,
       "text": "[0.0,\n 0.5,\n 1.0,\n 1.5,\n 2.0,\n 2.5,\n 3.0,\n 3.5,\n 4.0,\n 4.5,\n 5.0,\n 5.5,\n 6.0,\n 6.5,\n 7.0,\n 7.5,\n 8.0,\n 8.5,\n 9.0,\n 9.5,\n 10.0,\n 10.5,\n 11.0,\n 11.5,\n 12.0,\n 12.5,\n 13.0,\n 13.5,\n 14.0,\n 14.5,\n 15.0,\n 15.5,\n 16.0,\n 16.5,\n 17.0,\n 17.5,\n 18.0,\n 18.5,\n 19.0,\n 19.5]"
      }
     ],
     "prompt_number": 32
    },
    {
     "cell_type": "code",
     "collapsed": false,
     "input": "",
     "language": "python",
     "metadata": {},
     "outputs": [],
     "prompt_number": 32
    }
   ],
   "metadata": {}
  }
 ]
}
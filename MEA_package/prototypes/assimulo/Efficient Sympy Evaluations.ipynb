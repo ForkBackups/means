{
 "metadata": {
  "name": ""
 },
 "nbformat": 3,
 "nbformat_minor": 0,
 "worksheets": [
  {
   "cells": [
    {
     "cell_type": "code",
     "collapsed": false,
     "input": [
      "import sympy"
     ],
     "language": "python",
     "metadata": {},
     "outputs": [],
     "prompt_number": 4
    },
    {
     "cell_type": "code",
     "collapsed": false,
     "input": [
      "rhs_equations = sympy.Matrix(['-2*c_0*y_0*(y_0 - 1) - 2*c_0*yx1 + 2*c_1*(0.5*c_2 - 0.5*y_0)', \n",
      "                              '4.0*c_0*y_0**2 - 4.0*c_0*y_0 + 2.0*c_1*c_2 - 2.0*c_1*y_0 - yx1*(8.0*c_0*y_0 - 8.0*c_0 + 2.0*c_1)'])\n",
      "variables = sympy.symbols(['y_0', 'yx1'])\n",
      "constants = sympy.symbols(['c_0', 'c_1', 'c_2'])\n",
      "all_symbols = constants+variables"
     ],
     "language": "python",
     "metadata": {},
     "outputs": [],
     "prompt_number": 5
    },
    {
     "cell_type": "code",
     "collapsed": false,
     "input": [
      "constant_values = [0.001, 0.5, 330.0]\n",
      "initial_values = [320, 0]\n",
      "all_values = constant_values + initial_values"
     ],
     "language": "python",
     "metadata": {},
     "outputs": [],
     "prompt_number": 6
    },
    {
     "cell_type": "markdown",
     "metadata": {},
     "source": [
      "This is the standard way of evaluating sympy expression (evalf):"
     ]
    },
    {
     "cell_type": "code",
     "collapsed": false,
     "input": [
      "# Compile substitution dictionary\n",
      "substitution_dict = dict( zip(constants, constant_values) + zip(variables, initial_values) )\n",
      "# Evaluate\n",
      "rhs_equations.evalf(subs=substitution_dict)"
     ],
     "language": "python",
     "metadata": {},
     "outputs": [
      {
       "metadata": {},
       "output_type": "pyout",
       "prompt_number": 7,
       "text": [
        "[-199.16]\n",
        "[ 418.32]"
       ]
      }
     ],
     "prompt_number": 7
    },
    {
     "cell_type": "markdown",
     "metadata": {},
     "source": [
      "Unfortunately, evalf is quite slow, as seeen here, and has proven to be the bottleneck in the ODE simulation"
     ]
    },
    {
     "cell_type": "code",
     "collapsed": false,
     "input": [
      "%timeit rhs_equations.evalf(subs=substitution_dict)"
     ],
     "language": "python",
     "metadata": {},
     "outputs": [
      {
       "output_type": "stream",
       "stream": "stdout",
       "text": [
        "1000 loops, best of 3: 628 \u00b5s per loop\n"
       ]
      }
     ],
     "prompt_number": 8
    },
    {
     "cell_type": "markdown",
     "metadata": {},
     "source": [
      "Luckily, sympy developers are aware of this and have provided a way to go around this.\n",
      "The function `lambdify` returns a lambda function that takes the specified symbols as parameters and evaluates the expression.\n",
      "This essentially precompiles the expression beforehand, meaning the symbol values can be replaced immediately, rather than creating this function behind the scenes as (evalf does)"
     ]
    },
    {
     "cell_type": "code",
     "collapsed": false,
     "input": [
      "rhs_equations_lambda = sympy.lambdify(all_symbols, rhs_equations)"
     ],
     "language": "python",
     "metadata": {},
     "outputs": [],
     "prompt_number": 9
    },
    {
     "cell_type": "markdown",
     "metadata": {},
     "source": [
      "Check if we get the right answer"
     ]
    },
    {
     "cell_type": "code",
     "collapsed": false,
     "input": [
      "rhs_equations_lambda(*(all_values))"
     ],
     "language": "python",
     "metadata": {},
     "outputs": [
      {
       "metadata": {},
       "output_type": "pyout",
       "prompt_number": 10,
       "text": [
        "matrix([[-199.16],\n",
        "        [ 418.32]])"
       ]
      }
     ],
     "prompt_number": 10
    },
    {
     "cell_type": "markdown",
     "metadata": {},
     "source": [
      "We can see that lambdified function is 60 times faster"
     ]
    },
    {
     "cell_type": "code",
     "collapsed": false,
     "input": [
      "%timeit rhs_equations_lambda(*(all_values))"
     ],
     "language": "python",
     "metadata": {},
     "outputs": [
      {
       "output_type": "stream",
       "stream": "stdout",
       "text": [
        "100000 loops, best of 3: 10.7 \u00b5s per loop\n"
       ]
      }
     ],
     "prompt_number": 11
    },
    {
     "cell_type": "markdown",
     "metadata": {},
     "source": [
      "Let's exploit more options of lambdify function"
     ]
    },
    {
     "cell_type": "code",
     "collapsed": false,
     "input": [
      "rhs_equations_lambda_numpy = sympy.lambdify(all_symbols, rhs_equations, modules='numpy')\n",
      "%timeit rhs_equations_lambda_numpy(*(all_values))"
     ],
     "language": "python",
     "metadata": {},
     "outputs": [
      {
       "output_type": "stream",
       "stream": "stdout",
       "text": [
        "100000 loops, best of 3: 10.8 \u00b5s per loop\n"
       ]
      }
     ],
     "prompt_number": 12
    },
    {
     "cell_type": "markdown",
     "metadata": {},
     "source": [
      "Not that much improvement"
     ]
    },
    {
     "cell_type": "markdown",
     "metadata": {},
     "source": [
      "Let's see what sympy's autowrap module can do (http://docs.sympy.org/0.7.0/modules/utilities/autowrap.html)"
     ]
    },
    {
     "cell_type": "code",
     "collapsed": false,
     "input": [
      "from sympy.utilities.autowrap import ufuncify, autowrap, binary_function\n",
      "import numpy as np"
     ],
     "language": "python",
     "metadata": {},
     "outputs": [],
     "prompt_number": 34
    },
    {
     "cell_type": "markdown",
     "metadata": {},
     "source": [
      "Unfortunately, one cannot simply autowrap a matrix (boo @ sympy), therefore we need to simulate this by creating a separate\n",
      "autowrapped function for each of the rhs_equations in expression and executing them separately"
     ]
    },
    {
     "cell_type": "code",
     "collapsed": false,
     "input": [
      "def autowrap_func_factory(rhs_equations, all_symbols, *args, **kwargs):\n",
      "    wrapped_functions = [autowrap(equation, args=all_symbols, *args, **kwargs) for equation in rhs_equations]\n",
      "    \n",
      "    def f(*all_symbols):\n",
      "        return np.array([g(*all_symbols) for g in wrapped_functions])\n",
      "    \n",
      "    return f\n",
      "    "
     ],
     "language": "python",
     "metadata": {},
     "outputs": [],
     "prompt_number": 49
    },
    {
     "cell_type": "code",
     "collapsed": false,
     "input": [
      "rhs_equations_autowrap = autowrap_func_factory(rhs_equations, all_symbols)"
     ],
     "language": "python",
     "metadata": {},
     "outputs": [],
     "prompt_number": 50
    },
    {
     "cell_type": "code",
     "collapsed": false,
     "input": [
      "%timeit rhs_equations_autowrap(*(all_values))"
     ],
     "language": "python",
     "metadata": {},
     "outputs": [
      {
       "output_type": "stream",
       "stream": "stdout",
       "text": [
        "100000 loops, best of 3: 2.98 \u00b5s per loop\n"
       ]
      }
     ],
     "prompt_number": 51
    },
    {
     "cell_type": "markdown",
     "metadata": {},
     "source": [
      "As you can see above this is more than 3 times faster than lambdify version!"
     ]
    },
    {
     "cell_type": "markdown",
     "metadata": {},
     "source": [
      "Let's check maybe cython's backend is faster than the default fortran verson:"
     ]
    },
    {
     "cell_type": "code",
     "collapsed": false,
     "input": [
      "rhs_equations_autowrap_cython = autowrap_func_factory(rhs_equations, all_symbols, language='C', backend='Cython')"
     ],
     "language": "python",
     "metadata": {},
     "outputs": [],
     "prompt_number": 52
    },
    {
     "cell_type": "code",
     "collapsed": false,
     "input": [
      "%timeit rhs_equations_autowrap_cython(*(all_values))"
     ],
     "language": "python",
     "metadata": {},
     "outputs": [
      {
       "output_type": "stream",
       "stream": "stdout",
       "text": [
        "100000 loops, best of 3: 2.89 \u00b5s per loop\n"
       ]
      }
     ],
     "prompt_number": 53
    },
    {
     "cell_type": "markdown",
     "metadata": {},
     "source": [
      "Seems to be faster a small bit"
     ]
    },
    {
     "cell_type": "code",
     "collapsed": false,
     "input": [],
     "language": "python",
     "metadata": {},
     "outputs": []
    }
   ],
   "metadata": {}
  }
 ]
}
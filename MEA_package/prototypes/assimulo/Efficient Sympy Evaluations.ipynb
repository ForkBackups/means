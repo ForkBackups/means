{
 "metadata": {
  "name": ""
 },
 "nbformat": 3,
 "nbformat_minor": 0,
 "worksheets": [
  {
   "cells": [
    {
     "cell_type": "code",
     "collapsed": false,
     "input": [
      "import sympy"
     ],
     "language": "python",
     "metadata": {},
     "outputs": [],
     "prompt_number": 1
    },
    {
     "cell_type": "code",
     "collapsed": false,
     "input": [
      "rhs_equations = sympy.Matrix(['-2*c_0*y_0*(y_0 - 1) - 2*c_0*yx1 + 2*c_1*(0.5*c_2 - 0.5*y_0)', \n",
      "                              '4.0*c_0*y_0**2 - 4.0*c_0*y_0 + 2.0*c_1*c_2 - 2.0*c_1*y_0 - yx1*(8.0*c_0*y_0 - 8.0*c_0 + 2.0*c_1)'])\n",
      "variables = sympy.symbols(['y_0', 'yx1'])\n",
      "constants = sympy.symbols(['c_0', 'c_1', 'c_2'])\n",
      "all_symbols = constants+variables"
     ],
     "language": "python",
     "metadata": {},
     "outputs": [],
     "prompt_number": 16
    },
    {
     "cell_type": "code",
     "collapsed": false,
     "input": [
      "constant_values = [0.001, 0.5, 330.0]\n",
      "initial_values = [320, 0]\n",
      "all_values = constant_values + initial_values"
     ],
     "language": "python",
     "metadata": {},
     "outputs": [],
     "prompt_number": 24
    },
    {
     "cell_type": "markdown",
     "metadata": {},
     "source": [
      "This is the standard way of evaluating sympy expression (evalf):"
     ]
    },
    {
     "cell_type": "code",
     "collapsed": false,
     "input": [
      "# Compile substitution dictionary\n",
      "substitution_dict = dict( zip(constants, constant_values) + zip(variables, initial_values) )\n",
      "# Evaluate\n",
      "rhs_equations.evalf(subs=substitution_dict)"
     ],
     "language": "python",
     "metadata": {},
     "outputs": [
      {
       "metadata": {},
       "output_type": "pyout",
       "prompt_number": 29,
       "text": [
        "[-199.16]\n",
        "[ 418.32]"
       ]
      }
     ],
     "prompt_number": 29
    },
    {
     "cell_type": "markdown",
     "metadata": {},
     "source": [
      "Unfortunately, evalf is quite slow, as seeen here, and has proven to be the bottleneck in the ODE simulation"
     ]
    },
    {
     "cell_type": "code",
     "collapsed": false,
     "input": [
      "%timeit rhs_equations.evalf(subs=substitution_dict)"
     ],
     "language": "python",
     "metadata": {},
     "outputs": [
      {
       "output_type": "stream",
       "stream": "stdout",
       "text": [
        "1000 loops, best of 3: 607 \u00b5s per loop\n"
       ]
      }
     ],
     "prompt_number": 7
    },
    {
     "cell_type": "markdown",
     "metadata": {},
     "source": [
      "Luckily, sympy developers are aware of this and have provided a way to go around this.\n",
      "The function `lambdify` returns a lambda function that takes the specified symbols as parameters and evaluates the expression.\n",
      "This essentially precompiles the expression beforehand, meaning the symbol values can be replaced immediately, rather than creating this function behind the scenes as (evalf does)"
     ]
    },
    {
     "cell_type": "code",
     "collapsed": false,
     "input": [
      "rhs_equations_lambda = sympy.lambdify(all_symbols, rhs_equations)"
     ],
     "language": "python",
     "metadata": {},
     "outputs": [],
     "prompt_number": 44
    },
    {
     "cell_type": "markdown",
     "metadata": {},
     "source": [
      "Check if we get the right answer"
     ]
    },
    {
     "cell_type": "code",
     "collapsed": false,
     "input": [
      "rhs_equations_lambda(*(all_values))"
     ],
     "language": "python",
     "metadata": {},
     "outputs": [
      {
       "metadata": {},
       "output_type": "pyout",
       "prompt_number": 26,
       "text": [
        "matrix([[-199.16],\n",
        "        [ 418.32]])"
       ]
      }
     ],
     "prompt_number": 26
    },
    {
     "cell_type": "markdown",
     "metadata": {},
     "source": [
      "We can see that lambdified function is 60 times faster"
     ]
    },
    {
     "cell_type": "code",
     "collapsed": false,
     "input": [
      "%timeit rhs_equations_lambda(*(all_values))"
     ],
     "language": "python",
     "metadata": {},
     "outputs": [
      {
       "output_type": "stream",
       "stream": "stdout",
       "text": [
        "100000 loops, best of 3: 10.7 \u00b5s per loop\n"
       ]
      }
     ],
     "prompt_number": 27
    },
    {
     "cell_type": "markdown",
     "metadata": {},
     "source": [
      "Let's exploit more options of lambdify function"
     ]
    },
    {
     "cell_type": "code",
     "collapsed": false,
     "input": [
      "rhs_equations_lambda_numpy = sympy.lambdify(all_symbols, rhs_equations, modules='numpy')\n",
      "%timeit rhs_equations_lambda_numpy(*(all_values))"
     ],
     "language": "python",
     "metadata": {},
     "outputs": [
      {
       "output_type": "stream",
       "stream": "stdout",
       "text": [
        "100000 loops, best of 3: 10.6 \u00b5s per loop\n"
       ]
      }
     ],
     "prompt_number": 48
    },
    {
     "cell_type": "markdown",
     "metadata": {},
     "source": [
      "Not that much improvement"
     ]
    },
    {
     "cell_type": "code",
     "collapsed": false,
     "input": [],
     "language": "python",
     "metadata": {},
     "outputs": []
    }
   ],
   "metadata": {}
  }
 ]
}
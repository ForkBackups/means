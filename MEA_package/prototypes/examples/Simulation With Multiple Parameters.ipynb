{
 "metadata": {
  "name": ""
 },
 "nbformat": 3,
 "nbformat_minor": 0,
 "worksheets": [
  {
   "cells": [
    {
     "cell_type": "markdown",
     "metadata": {},
     "source": [
      "Our users, as systems biologists, say they would like to be able to easily approximate and simulate their models using different parameters and compare results."
     ]
    },
    {
     "cell_type": "markdown",
     "metadata": {},
     "source": [
      "Start with importing dependencies"
     ]
    },
    {
     "cell_type": "code",
     "collapsed": false,
     "input": [
      "import means\n",
      "import sympy\n",
      "import numpy as np"
     ],
     "language": "python",
     "metadata": {},
     "outputs": [],
     "prompt_number": 1
    },
    {
     "cell_type": "markdown",
     "metadata": {},
     "source": [
      "Let's define a model here"
     ]
    },
    {
     "cell_type": "code",
     "collapsed": false,
     "input": [
      "constants=['c_0', 'c_1', 'c_2', 'c_3', 'c_4', 'c_5', 'c_6']\n",
      "species=['y_0', 'y_1', 'y_2']\n",
      "propensities=['c_0', \n",
      "              'c_1*y_0',\n",
      "              'c_2*y_2*y_0/(y_0+c_6)',\n",
      "              'c_3*y_0',\n",
      "              'c_4*y_1',\n",
      "              'c_5*y_2']\n",
      "stoichiometry_matrix = [[1,-1,-1,0,0,0], [0,0,0,1,-1,0], [0,0,0,0,1,-1]]"
     ],
     "language": "python",
     "metadata": {},
     "outputs": [],
     "prompt_number": 2
    },
    {
     "cell_type": "code",
     "collapsed": false,
     "input": [
      "model = means.Model(constants, species, propensities, stoichiometry_matrix)"
     ],
     "language": "python",
     "metadata": {},
     "outputs": [],
     "prompt_number": 3
    },
    {
     "cell_type": "code",
     "collapsed": false,
     "input": [
      "model # TODO: we should probably add some repr to model class so it does not look ugly here"
     ],
     "language": "python",
     "metadata": {},
     "outputs": [
      {
       "metadata": {},
       "output_type": "pyout",
       "prompt_number": 4,
       "text": [
        "<means.model.model.Model at 0x105e17c90>"
       ]
      }
     ],
     "prompt_number": 4
    },
    {
     "cell_type": "markdown",
     "metadata": {},
     "source": [
      "Approximate the model's moments:"
     ]
    },
    {
     "cell_type": "code",
     "collapsed": false,
     "input": [
      "# TODO: this first step is inconvenient, we should add a helper function, i.e. approximate(model, 'MEA', n_moments=3) that would do this step and then run()\n",
      "ode_approximation = means.approximation.MomentExpansionApproximation(model, n_moments=2)\n",
      "ode_problem = ode_approximation.run() # TODO: let's change function run here to be something more meaningful"
     ],
     "language": "python",
     "metadata": {},
     "outputs": [],
     "prompt_number": 5
    },
    {
     "cell_type": "code",
     "collapsed": false,
     "input": [
      "ode_problem # Again, we need some repr goodness here"
     ],
     "language": "python",
     "metadata": {},
     "outputs": [
      {
       "metadata": {},
       "output_type": "pyout",
       "prompt_number": 6,
       "text": [
        "<means.simulation.ode_problem.ODEProblem at 0x1065c5350>"
       ]
      }
     ],
     "prompt_number": 6
    },
    {
     "cell_type": "markdown",
     "metadata": {},
     "source": [
      "Let's initialise our simulator with the ode_problem we want to simulate"
     ]
    },
    {
     "cell_type": "code",
     "collapsed": false,
     "input": [
      "simulator = means.simulation.Simulation(ode_problem)"
     ],
     "language": "python",
     "metadata": {},
     "outputs": [],
     "prompt_number": 7
    },
    {
     "cell_type": "markdown",
     "metadata": {},
     "source": [
      "Define the timepoints we wish to simulate for and the parameters of the simulation we are interested in"
     ]
    },
    {
     "cell_type": "code",
     "collapsed": false,
     "input": [
      "timepoints_to_simulate = np.arange(0, 20, 0.5)"
     ],
     "language": "python",
     "metadata": {},
     "outputs": [],
     "prompt_number": 8
    },
    {
     "cell_type": "code",
     "collapsed": false,
     "input": [
      "# One for each constant\n",
      "parameters = [[90, 0.002, 1.2, 1.1, 0.8, 0.96, 0.01], \n",
      "              [80, 0.002, 1.2, 1.1, 0.8, 0.96, 0.01],\n",
      "              [70, 0.002, 1.2, 1.1, 0.8, 0.96, 0.01]] \n",
      "# One for each species # TODO: what happens when we don't specify some of them - console code adds zeros, module code doesn't\n",
      "initial_conditions = [[80, 40, 60], [80, 40, 60], [80, 40, 60]]"
     ],
     "language": "python",
     "metadata": {},
     "outputs": [],
     "prompt_number": 9
    },
    {
     "cell_type": "code",
     "collapsed": false,
     "input": [
      "for current_parameters, current_initial_conditions in zip([parameters[0]], initial_conditions):\n",
      "    __, trajectories = simulator.simulate_system(current_parameters, current_initial_conditions, timepoints_to_simulate)\n",
      "    print trajectories"
     ],
     "language": "python",
     "metadata": {},
     "outputs": [
      {
       "ename": "TypeError",
       "evalue": "autofunc_c() takes exactly 16 positional arguments (10 given)",
       "output_type": "pyerr",
       "traceback": [
        "\u001b[0;31m---------------------------------------------------------------------------\u001b[0m\n\u001b[0;31mTypeError\u001b[0m                                 Traceback (most recent call last)",
        "\u001b[0;32m<ipython-input-10-b7c115141f87>\u001b[0m in \u001b[0;36m<module>\u001b[0;34m()\u001b[0m\n\u001b[1;32m      1\u001b[0m \u001b[0;32mfor\u001b[0m \u001b[0mcurrent_parameters\u001b[0m\u001b[0;34m,\u001b[0m \u001b[0mcurrent_initial_conditions\u001b[0m \u001b[0;32min\u001b[0m \u001b[0mzip\u001b[0m\u001b[0;34m(\u001b[0m\u001b[0;34m[\u001b[0m\u001b[0mparameters\u001b[0m\u001b[0;34m[\u001b[0m\u001b[0;36m0\u001b[0m\u001b[0;34m]\u001b[0m\u001b[0;34m]\u001b[0m\u001b[0;34m,\u001b[0m \u001b[0minitial_conditions\u001b[0m\u001b[0;34m)\u001b[0m\u001b[0;34m:\u001b[0m\u001b[0;34m\u001b[0m\u001b[0m\n\u001b[0;32m----> 2\u001b[0;31m     \u001b[0m__\u001b[0m\u001b[0;34m,\u001b[0m \u001b[0mtrajectories\u001b[0m \u001b[0;34m=\u001b[0m \u001b[0msimulator\u001b[0m\u001b[0;34m.\u001b[0m\u001b[0msimulate_system\u001b[0m\u001b[0;34m(\u001b[0m\u001b[0mcurrent_parameters\u001b[0m\u001b[0;34m,\u001b[0m \u001b[0mcurrent_initial_conditions\u001b[0m\u001b[0;34m,\u001b[0m \u001b[0mtimepoints_to_simulate\u001b[0m\u001b[0;34m)\u001b[0m\u001b[0;34m\u001b[0m\u001b[0m\n\u001b[0m\u001b[1;32m      3\u001b[0m     \u001b[0;32mprint\u001b[0m \u001b[0mtrajectories\u001b[0m\u001b[0;34m\u001b[0m\u001b[0m\n",
        "\u001b[0;32m/Users/saulius/.virtualenvs/msc-proj/lib/python2.7/site-packages/means/simulation/simulate.pyc\u001b[0m in \u001b[0;36msimulate_system\u001b[0;34m(self, initial_constants, initial_values, timepoints)\u001b[0m\n\u001b[1;32m     92\u001b[0m             \u001b[0;31m# and not mask it\u001b[0m\u001b[0;34m\u001b[0m\u001b[0;34m\u001b[0m\u001b[0m\n\u001b[1;32m     93\u001b[0m             \u001b[0;32mtry\u001b[0m\u001b[0;34m:\u001b[0m\u001b[0;34m\u001b[0m\u001b[0m\n\u001b[0;32m---> 94\u001b[0;31m                 \u001b[0mself\u001b[0m\u001b[0;34m.\u001b[0m\u001b[0mproblem\u001b[0m\u001b[0;34m.\u001b[0m\u001b[0mright_hand_side_as_function\u001b[0m\u001b[0;34m(\u001b[0m\u001b[0minitial_constants\u001b[0m\u001b[0;34m)\u001b[0m\u001b[0;34m(\u001b[0m\u001b[0minitial_values\u001b[0m\u001b[0;34m)\u001b[0m\u001b[0;34m\u001b[0m\u001b[0m\n\u001b[0m\u001b[1;32m     95\u001b[0m             \u001b[0;32mexcept\u001b[0m\u001b[0;34m:\u001b[0m\u001b[0;34m\u001b[0m\u001b[0m\n\u001b[1;32m     96\u001b[0m                 \u001b[0;32mraise\u001b[0m\u001b[0;34m\u001b[0m\u001b[0m\n",
        "\u001b[0;32m/Users/saulius/.virtualenvs/msc-proj/lib/python2.7/site-packages/means/simulation/ode_problem.pyc\u001b[0m in \u001b[0;36mf\u001b[0;34m(values_for_variables)\u001b[0m\n\u001b[1;32m    205\u001b[0m         \u001b[0;32mdef\u001b[0m \u001b[0mf\u001b[0m\u001b[0;34m(\u001b[0m\u001b[0mvalues_for_variables\u001b[0m\u001b[0;34m)\u001b[0m\u001b[0;34m:\u001b[0m\u001b[0;34m\u001b[0m\u001b[0m\n\u001b[1;32m    206\u001b[0m             \u001b[0mall_values\u001b[0m \u001b[0;34m=\u001b[0m \u001b[0mnp\u001b[0m\u001b[0;34m.\u001b[0m\u001b[0mconcatenate\u001b[0m\u001b[0;34m(\u001b[0m\u001b[0;34m(\u001b[0m\u001b[0mvalues_for_constants\u001b[0m\u001b[0;34m,\u001b[0m \u001b[0mvalues_for_variables\u001b[0m\u001b[0;34m)\u001b[0m\u001b[0;34m)\u001b[0m\u001b[0;34m\u001b[0m\u001b[0m\n\u001b[0;32m--> 207\u001b[0;31m             \u001b[0;32mreturn\u001b[0m \u001b[0mnp\u001b[0m\u001b[0;34m.\u001b[0m\u001b[0marray\u001b[0m\u001b[0;34m(\u001b[0m\u001b[0;34m[\u001b[0m\u001b[0;34m[\u001b[0m\u001b[0mw_f\u001b[0m\u001b[0;34m(\u001b[0m\u001b[0;34m*\u001b[0m\u001b[0mall_values\u001b[0m\u001b[0;34m)\u001b[0m\u001b[0;34m]\u001b[0m \u001b[0;32mfor\u001b[0m \u001b[0mw_f\u001b[0m \u001b[0;32min\u001b[0m \u001b[0mwrapped_functions\u001b[0m\u001b[0;34m]\u001b[0m\u001b[0;34m)\u001b[0m\u001b[0;34m\u001b[0m\u001b[0m\n\u001b[0m\u001b[1;32m    208\u001b[0m \u001b[0;34m\u001b[0m\u001b[0m\n\u001b[1;32m    209\u001b[0m         \u001b[0;32mreturn\u001b[0m \u001b[0mf\u001b[0m\u001b[0;34m\u001b[0m\u001b[0m\n",
        "\u001b[0;32m/Users/saulius/dev/coursework/MScProj1/MEA_package/prototypes/examples/wrapper_module_0.so\u001b[0m in \u001b[0;36mwrapper_module_0.autofunc_c (wrapper_module_0.c:859)\u001b[0;34m()\u001b[0m\n",
        "\u001b[0;31mTypeError\u001b[0m: autofunc_c() takes exactly 16 positional arguments (10 given)"
       ]
      }
     ],
     "prompt_number": 10
    },
    {
     "cell_type": "code",
     "collapsed": false,
     "input": [],
     "language": "python",
     "metadata": {},
     "outputs": []
    }
   ],
   "metadata": {}
  }
 ]
}
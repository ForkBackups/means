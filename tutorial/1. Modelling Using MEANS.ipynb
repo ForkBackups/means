{
 "cells": [
  {
   "cell_type": "code",
   "execution_count": 1,
   "metadata": {
    "collapsed": false
   },
   "outputs": [
    {
     "name": "stdout",
     "output_type": "stream",
     "text": [
      "Populating the interactive namespace from numpy and matplotlib\n"
     ]
    }
   ],
   "source": [
    "%pylab inline"
   ]
  },
  {
   "cell_type": "markdown",
   "metadata": {},
   "source": [
    "# Modelling using MEANS"
   ]
  },
  {
   "cell_type": "markdown",
   "metadata": {},
   "source": [
    "This tutorial describes a way biological systems could be modelled using `MEANS` package."
   ]
  },
  {
   "cell_type": "markdown",
   "metadata": {},
   "source": [
    "In this example we will consider a simplified version of tumor-supressor protein *p53* system.\n",
    "This system models three proteins: *p53*, *Mdm2 precursor* and *Mdm2* and their interactions.\n",
    "\n",
    "A short schematic of this system is provided below:"
   ]
  },
  {
   "cell_type": "code",
   "execution_count": 2,
   "metadata": {
    "collapsed": false
   },
   "outputs": [
    {
     "data": {
      "image/svg+xml": [
       "<svg height=\"119.89218\" id=\"svg2\" inkscape:version=\"0.48.2 r9819\" sodipodi:docname=\"p53.svg\" version=\"1.1\" width=\"223.29039\" xmlns=\"http://www.w3.org/2000/svg\" xmlns:cc=\"http://creativecommons.org/ns#\" xmlns:dc=\"http://purl.org/dc/elements/1.1/\" xmlns:inkscape=\"http://www.inkscape.org/namespaces/inkscape\" xmlns:rdf=\"http://www.w3.org/1999/02/22-rdf-syntax-ns#\" xmlns:sodipodi=\"http://sodipodi.sourceforge.net/DTD/sodipodi-0.dtd\" xmlns:svg=\"http://www.w3.org/2000/svg\">\n",
       "  <sodipodi:namedview bordercolor=\"#666666\" borderopacity=\"1\" fit-margin-bottom=\"0\" fit-margin-left=\"0\" fit-margin-right=\"0\" fit-margin-top=\"0\" gridtolerance=\"10\" guidetolerance=\"10\" id=\"namedview56\" inkscape:current-layer=\"layer1\" inkscape:cx=\"258.17049\" inkscape:cy=\"92.133935\" inkscape:pageopacity=\"0\" inkscape:pageshadow=\"2\" inkscape:window-height=\"852\" inkscape:window-maximized=\"1\" inkscape:window-width=\"1440\" inkscape:window-x=\"0\" inkscape:window-y=\"0\" inkscape:zoom=\"1.8916597\" objecttolerance=\"10\" pagecolor=\"#ffffff\" showgrid=\"false\"/>\n",
       "  <defs id=\"defs4\">\n",
       "    <marker id=\"Arrow2Mend\" orient=\"auto\" refX=\"0\" refY=\"0\" style=\"overflow:visible\">\n",
       "      <path d=\"M 8.7185878,4.0337352 -2.2072895,0.01601326 8.7185884,-4.0017078 c -1.7454984,2.3720609 -1.7354408,5.6174519 -6e-7,8.035443 z\" id=\"path3958\" inkscape:connector-curvature=\"0\" style=\"fill-rule:evenodd;stroke-width:0.625;stroke-linejoin:round\" transform=\"scale(-0.6,-0.6)\"/>\n",
       "    </marker>\n",
       "    <marker id=\"Arrow2Mstart\" orient=\"auto\" refX=\"0\" refY=\"0\" style=\"overflow:visible\">\n",
       "      <path d=\"M 8.7185878,4.0337352 -2.2072895,0.01601326 8.7185884,-4.0017078 c -1.7454984,2.3720609 -1.7354408,5.6174519 -6e-7,8.035443 z\" id=\"path3955\" inkscape:connector-curvature=\"0\" style=\"fill-rule:evenodd;stroke-width:0.625;stroke-linejoin:round\" transform=\"scale(0.6,0.6)\"/>\n",
       "    </marker>\n",
       "    <marker id=\"Arrow1Mstart\" orient=\"auto\" refX=\"0\" refY=\"0\" style=\"overflow:visible\">\n",
       "      <path d=\"M 0,0 5,-5 -12.5,0 5,5 0,0 z\" id=\"path3937\" inkscape:connector-curvature=\"0\" style=\"fill-rule:evenodd;stroke:#000000;stroke-width:1pt\" transform=\"matrix(0.4,0,0,0.4,4,0)\"/>\n",
       "    </marker>\n",
       "    <marker id=\"Arrow2Lstart\" orient=\"auto\" refX=\"0\" refY=\"0\" style=\"overflow:visible\">\n",
       "      <path d=\"M 8.7185878,4.0337352 -2.2072895,0.01601326 8.7185884,-4.0017078 c -1.7454984,2.3720609 -1.7354408,5.6174519 -6e-7,8.035443 z\" id=\"path3949\" inkscape:connector-curvature=\"0\" style=\"fill-rule:evenodd;stroke-width:0.625;stroke-linejoin:round\" transform=\"matrix(1.1,0,0,1.1,1.1,0)\"/>\n",
       "    </marker>\n",
       "    <marker id=\"Arrow2Lend\" orient=\"auto\" refX=\"0\" refY=\"0\" style=\"overflow:visible\">\n",
       "      <path d=\"M 8.7185878,4.0337352 -2.2072895,0.01601326 8.7185884,-4.0017078 c -1.7454984,2.3720609 -1.7354408,5.6174519 -6e-7,8.035443 z\" id=\"path3952\" inkscape:connector-curvature=\"0\" style=\"fill-rule:evenodd;stroke-width:0.625;stroke-linejoin:round\" transform=\"matrix(-1.1,0,0,-1.1,-1.1,0)\"/>\n",
       "    </marker>\n",
       "    <marker id=\"Arrow1Lstart\" orient=\"auto\" refX=\"0\" refY=\"0\" style=\"overflow:visible\">\n",
       "      <path d=\"M 0,0 5,-5 -12.5,0 5,5 0,0 z\" id=\"path3931\" inkscape:connector-curvature=\"0\" style=\"fill-rule:evenodd;stroke:#000000;stroke-width:1pt\" transform=\"matrix(0.8,0,0,0.8,10,0)\"/>\n",
       "    </marker>\n",
       "    <marker id=\"Arrow2MstartI\" orient=\"auto\" refX=\"0\" refY=\"0\" style=\"overflow:visible\">\n",
       "      <path d=\"M 8.7185878,4.0337352 -2.2072895,0.01601326 8.7185884,-4.0017078 c -1.7454984,2.3720609 -1.7354408,5.6174519 -6e-7,8.035443 z\" id=\"path6931\" inkscape:connector-curvature=\"0\" style=\"fill:#0000d0;fill-rule:evenodd;stroke:#0000d0;stroke-width:0.625;stroke-linejoin:round\" transform=\"scale(0.6,0.6)\"/>\n",
       "    </marker>\n",
       "    <marker id=\"Arrow2Mstartm\" orient=\"auto\" refX=\"0\" refY=\"0\" style=\"overflow:visible\">\n",
       "      <path d=\"M 8.7185878,4.0337352 -2.2072895,0.01601326 8.7185884,-4.0017078 c -1.7454984,2.3720609 -1.7354408,5.6174519 -6e-7,8.035443 z\" id=\"path6934\" inkscape:connector-curvature=\"0\" style=\"fill:#0000d0;fill-rule:evenodd;stroke:#0000d0;stroke-width:0.625;stroke-linejoin:round\" transform=\"scale(0.6,0.6)\"/>\n",
       "    </marker>\n",
       "  </defs>\n",
       "  <metadata id=\"metadata7\">\n",
       "    <rdf:RDF>\n",
       "      <cc:Work rdf:about=\"\">\n",
       "        <dc:format>image/svg+xml</dc:format>\n",
       "        <dc:type rdf:resource=\"http://purl.org/dc/dcmitype/StillImage\"/>\n",
       "        <dc:title/>\n",
       "      </cc:Work>\n",
       "    </rdf:RDF>\n",
       "  </metadata>\n",
       "  <g id=\"layer1\" transform=\"matrix(0.44548506,0,0,0.33909897,51.152974,-2.6130688)\">\n",
       "    <rect height=\"56.578133\" id=\"rect2985\" rx=\"11.769165\" ry=\"11.315626\" style=\"fill:#000000;fill-opacity:0;stroke:#323232;stroke-width:5.30847692;stroke-linecap:round;stroke-linejoin:round;stroke-miterlimit:4;stroke-opacity:1;stroke-dasharray:none;stroke-dashoffset:0\" width=\"94.15332\" x=\"-32.624924\" y=\"25.329456\"/>\n",
       "    <g id=\"text3755\" style=\"font-size:92.32134247px;font-style:normal;font-variant:normal;font-weight:normal;font-stretch:normal;line-height:125%;letter-spacing:0px;word-spacing:0px;fill:#000000;fill-opacity:1;stroke:none;font-family:Ubuntu;-inkscape-font-specification:Ubuntu\" transform=\"scale(1.0198435,0.9805426)\">\n",
       "      <path d=\"m -10.214628,60.170261 0,8.614555 -5.244916,0 0,-22.649833 5.244916,0 0,2.402699 c 0.7227543,-0.957158 1.5236532,-1.660386 2.4026987,-2.109687 0.8790252,-0.459036 1.8899158,-0.688561 3.032675,-0.688578 2.0217681,1.7e-5 3.6821682,0.805799 4.98120524,2.417349 1.29900076,1.601812 1.94851016,3.667546 1.94853026,6.197206 -2.01e-5,2.529676 -0.6495295,4.600293 -1.94853026,6.211856 -1.29903704,1.601799 -2.95943714,2.402698 -4.98120524,2.402699 -1.1427592,-1e-6 -2.1536498,-0.224643 -3.032675,-0.673928 -0.8790455,-0.459052 -1.6799444,-1.167163 -2.4026987,-2.124338 m 3.4868434,-10.621687 c -1.1232231,1.3e-5 -1.9876079,0.415113 -2.5931569,1.245301 -0.5957993,0.820445 -0.8936945,2.007142 -0.8936865,3.560097 -8e-6,1.55297 0.2978872,2.744552 0.8936865,3.574747 0.605549,0.820438 1.4699338,1.230654 2.5931569,1.230651 1.1232005,3e-6 1.9778182,-0.410213 2.5638556,-1.230651 0.5957768,-0.820428 0.8936721,-2.01201 0.8936869,-3.574747 -1.48e-5,-1.562722 -0.2979101,-2.754303 -0.8936869,-3.574748 -0.5860374,-0.820421 -1.4406551,-1.230637 -2.5638556,-1.23065\" id=\"path3033\" style=\"font-size:30.00443649px;font-weight:bold;-inkscape-font-specification:Ubuntu Bold\"/>\n",
       "      <path d=\"m 6.7068185,40.670308 14.0206275,0 0,4.146121 -9.522892,0 0,3.384289 c 0.429743,-0.11719 0.859493,-0.205094 1.289253,-0.263711 0.439509,-0.06836 0.893677,-0.102539 1.362506,-0.102554 2.666397,1.5e-5 4.741897,0.669058 6.226507,2.007133 1.484576,1.328333 2.226873,3.184074 2.226891,5.567229 -1.8e-5,2.363636 -0.810684,4.214493 -2.432,5.552579 -1.611581,1.338089 -3.853121,2.007132 -6.724627,2.007133 -1.240426,-1e-6 -2.471076,-0.122089 -3.691952,-0.366265 -1.2111213,-0.23441 -2.4173531,-0.595791 -3.6186991,-1.084145 l 0,-4.439133 c 1.1915789,0.6837 2.3196743,1.19647 3.3842894,1.538313 1.0743707,0.341851 2.0852617,0.512775 3.0326747,0.512772 1.36738,3e-6 2.441756,-0.332077 3.223133,-0.996242 0.79112,-0.673922 1.186686,-1.582259 1.186699,-2.725012 -1.3e-5,-1.152506 -0.395579,-2.060842 -1.186699,-2.725012 -0.781377,-0.66415 -1.855753,-0.99623 -3.223133,-0.996241 -0.810674,1.1e-5 -1.675059,0.107448 -2.5931565,0.322313 -0.9181098,0.205119 -1.9045828,0.527432 -2.959422,0.96694 l 0,-12.306507\" id=\"path3035\" style=\"font-size:30.00443649px;font-weight:bold;-inkscape-font-specification:Ubuntu Bold\"/>\n",
       "      <path d=\"m 38.366773,50.749923 c 1.474812,0.380927 2.59314,1.045087 3.354988,1.992482 0.77158,0.937648 1.157379,2.134113 1.157398,3.589398 -1.9e-5,2.168294 -0.830219,3.818927 -2.490603,4.951904 -1.660416,1.123213 -4.082647,1.684819 -7.266699,1.68482 -1.123221,-1e-6 -2.251316,-0.09279 -3.38429,-0.278362 -1.123217,-0.175807 -2.236662,-0.444401 -3.340338,-0.805783 l 0,-4.351229 c 1.054841,0.527426 2.099916,0.927875 3.13523,1.201349 1.04507,0.263715 2.070611,0.39557 3.076626,0.395567 1.494352,3e-6 2.637098,-0.258824 3.428242,-0.776482 0.800887,-0.51765 1.201336,-1.259947 1.201349,-2.226892 -1.3e-5,-0.996234 -0.410229,-1.748297 -1.230651,-2.256193 C 35.197348,53.352856 33.996,53.094029 32.403977,53.09402 l -2.256193,0 0,-3.63335 2.373398,0 c 1.416215,1.3e-5 2.471058,-0.219746 3.16453,-0.659277 0.69345,-0.449271 1.040181,-1.128082 1.040193,-2.036434 -1.2e-5,-0.839951 -0.336976,-1.489461 -1.010892,-1.94853 -0.673938,-0.459034 -1.626226,-0.68856 -2.856867,-0.688579 -0.908345,1.9e-5 -1.826449,0.102573 -2.754314,0.307663 -0.927876,0.205126 -1.850863,0.507905 -2.768964,0.908337 l 0,-4.13147 c 1.113442,-0.312524 2.21712,-0.546934 3.311036,-0.703229 1.093905,-0.156251 2.168281,-0.234387 3.223133,-0.234409 2.842205,2.2e-5 4.966541,0.468841 6.373013,1.406457 1.416208,0.927892 2.124319,2.329465 2.124337,4.204724 -1.8e-5,1.279501 -0.336981,2.32946 -1.010891,3.14988 -0.673944,0.810679 -1.670184,1.382052 -2.988723,1.71412\" id=\"path3037\" style=\"font-size:30.00443649px;font-weight:bold;-inkscape-font-specification:Ubuntu Bold\"/>\n",
       "    </g>\n",
       "    <rect height=\"56.578133\" id=\"rect2985-1\" rx=\"11.769165\" ry=\"11.315626\" style=\"fill:#000000;fill-opacity:0;stroke:#323232;stroke-width:5.30847692;stroke-linecap:round;stroke-linejoin:round;stroke-miterlimit:4;stroke-opacity:1;stroke-dasharray:none;stroke-dashoffset:0\" width=\"117.69165\" x=\"266.39709\" y=\"10.748157\"/>\n",
       "    <g id=\"text3755-2\" style=\"font-size:92.32134247px;font-style:normal;font-variant:normal;font-weight:normal;font-stretch:normal;line-height:125%;letter-spacing:0px;word-spacing:0px;fill:#000000;fill-opacity:1;stroke:none;font-family:Ubuntu;-inkscape-font-specification:Ubuntu\" transform=\"scale(1.0198435,0.9805426)\">\n",
       "      <path d=\"m 276.57397,29.065712 5.26368,0 3.65234,8.583008 3.67383,-8.583008 5.25293,0 0,16.038086 -3.91016,0 0,-11.730469 -3.69531,8.647461 -2.62109,0 -3.69532,-8.647461 0,11.730469 -3.9209,0 0,-16.038086\" id=\"path3040\" style=\"font-size:22px;font-weight:bold;-inkscape-font-specification:Ubuntu Bold\"/>\n",
       "      <path d=\"m 306.50171,34.834267 0,-6.445313 3.86719,0 0,16.714844 -3.86719,0 0,-1.740234 c -0.52996,0.708985 -1.11362,1.22819 -1.75098,1.557617 -0.63738,0.329427 -1.375,0.49414 -2.21289,0.49414 -1.48242,0 -2.69987,-0.587239 -3.65234,-1.761718 -0.95248,-1.181638 -1.42871,-2.699866 -1.42871,-4.554688 0,-1.85481 0.47623,-3.369457 1.42871,-4.543945 0.95247,-1.181629 2.16992,-1.772449 3.65234,-1.772461 0.83072,1.2e-5 1.56477,0.168306 2.20215,0.504883 0.64452,0.329438 1.23176,0.845063 1.76172,1.546875 m -2.53516,7.788086 c 0.82356,2e-6 1.45019,-0.300779 1.87989,-0.902344 0.43683,-0.601559 0.65526,-1.475256 0.65527,-2.621094 -10e-6,-1.145826 -0.21844,-2.019523 -0.65527,-2.621094 -0.4297,-0.601553 -1.05633,-0.902334 -1.87989,-0.902343 -0.81641,9e-6 -1.44304,0.30079 -1.87988,0.902343 -0.42969,0.601571 -0.64454,1.475268 -0.64453,2.621094 -10e-6,1.145838 0.21484,2.019535 0.64453,2.621094 0.43684,0.601565 1.06347,0.902346 1.87988,0.902344\" id=\"path3042\" style=\"font-size:22px;font-weight:bold;-inkscape-font-specification:Ubuntu Bold\"/>\n",
       "      <path d=\"m 325.23608,35.070595 c 0.48697,-0.744781 1.06347,-1.310536 1.7295,-1.697266 0.67316,-0.393868 1.41079,-0.590808 2.21289,-0.59082 1.38214,1.2e-5 2.43487,0.426119 3.1582,1.27832 0.72329,0.852224 1.08494,2.091155 1.08496,3.716797 l 0,7.326172 -3.86719,0 0,-6.273438 c 0.007,-0.09309 0.0107,-0.189772 0.0107,-0.290039 0.007,-0.100253 0.0107,-0.243482 0.0107,-0.429687 -2e-5,-0.852206 -0.12534,-1.468091 -0.37598,-1.847656 -0.25067,-0.38671 -0.65529,-0.580069 -1.21387,-0.580079 -0.73048,1e-5 -1.29623,0.300791 -1.69726,0.902344 -0.3939,0.601571 -0.598,1.471687 -0.61231,2.610352 l 0,5.908203 -3.86718,0 0,-6.273438 c -10e-6,-1.332023 -0.1146,-2.187817 -0.34375,-2.567382 -0.22918,-0.38671 -0.63738,-0.580069 -1.22461,-0.580079 -0.73764,1e-5 -1.30698,0.304372 -1.70801,0.913086 -0.40105,0.601571 -0.60157,1.464526 -0.60156,2.588868 l 0,5.918945 -3.86719,0 0,-12.03125 3.86719,0 0,1.761719 c 0.47265,-0.680328 1.01334,-1.192372 1.62207,-1.536133 0.61587,-0.343738 1.29263,-0.515613 2.03027,-0.515625 0.83072,1.2e-5 1.56477,0.200533 2.20215,0.601562 0.63736,0.401053 1.12075,0.963227 1.45019,1.686524\" id=\"path3044\" style=\"font-size:22px;font-weight:bold;-inkscape-font-specification:Ubuntu Bold\"/>\n",
       "      <path d=\"m 341.52124,42.063759 7.05762,0 0,3.040039 -11.65528,0 0,-3.040039 5.8545,-5.166992 c 0.52277,-0.472648 0.90949,-0.934562 1.16015,-1.385743 0.25064,-0.451161 0.37597,-0.920236 0.37598,-1.407226 -10e-6,-0.751941 -0.25424,-1.357084 -0.7627,-1.81543 -0.50131,-0.45832 -1.1709,-0.687486 -2.00879,-0.6875 -0.64453,1.4e-5 -1.34994,0.139662 -2.11621,0.418946 -0.76628,0.272148 -1.58626,0.68035 -2.45996,1.224609 l 0,-3.523438 c 0.93099,-0.307927 1.85124,-0.540674 2.76074,-0.698242 0.9095,-0.164697 1.80111,-0.247054 2.67481,-0.24707 1.91926,1.6e-5 3.40884,0.422542 4.46875,1.267578 1.06704,0.845066 1.60057,2.023125 1.60059,3.53418 -2e-5,0.873708 -0.2256,1.690114 -0.67676,2.449218 -0.45119,0.751962 -1.40008,1.761727 -2.84668,3.029297 l -3.42676,3.007813\" id=\"path3046\" style=\"font-size:22px;font-weight:bold;-inkscape-font-specification:Ubuntu Bold\"/>\n",
       "      <path d=\"m 356.17358,47.763564 0,6.316406 -3.8457,0 0,-16.607422 3.8457,0 0,1.761719 c 0.52995,-0.701812 1.11718,-1.217437 1.76172,-1.546875 0.64453,-0.336577 1.38574,-0.504871 2.22364,-0.504883 1.48241,1.2e-5 2.69985,0.590832 3.65234,1.772461 0.95246,1.174488 1.4287,2.689135 1.42871,4.543945 -10e-6,1.854822 -0.47625,3.37305 -1.42871,4.554688 -0.95249,1.174479 -2.16993,1.761718 -3.65234,1.761718 -0.8379,0 -1.57911,-0.164713 -2.22364,-0.49414 -0.64454,-0.336588 -1.23177,-0.855793 -1.76172,-1.557617 m 2.55664,-7.788086 c -0.82357,9e-6 -1.45736,0.304371 -1.90136,0.913086 -0.43686,0.60157 -0.65528,1.471686 -0.65528,2.610351 0,1.138677 0.21842,2.012374 0.65528,2.621094 0.444,0.601565 1.07779,0.902346 1.90136,0.902344 0.82356,2e-6 1.45019,-0.300779 1.87989,-0.902344 0.43684,-0.601559 0.65526,-1.475256 0.65527,-2.621094 -10e-6,-1.145826 -0.21843,-2.019523 -0.65527,-2.621094 -0.4297,-0.601553 -1.05633,-0.902334 -1.87989,-0.902343\" id=\"path3048\" style=\"baseline-shift:sub\"/>\n",
       "    </g>\n",
       "    <rect height=\"56.578133\" id=\"rect2985-8\" rx=\"11.769165\" ry=\"11.315626\" style=\"fill:#000000;fill-opacity:0;stroke:#323232;stroke-width:5.30847692;stroke-linecap:round;stroke-linejoin:round;stroke-miterlimit:4;stroke-opacity:1;stroke-dasharray:none;stroke-dashoffset:0\" width=\"105.92249\" x=\"186.74313\" y=\"222.78407\"/>\n",
       "    <g id=\"text3755-9\" style=\"font-size:92.32134247px;font-style:normal;font-variant:normal;font-weight:normal;font-stretch:normal;line-height:125%;letter-spacing:0px;word-spacing:0px;fill:#000000;fill-opacity:1;stroke:none;font-family:Ubuntu;-inkscape-font-specification:Ubuntu\" transform=\"scale(1.0198435,0.9805426)\">\n",
       "      <path d=\"m 195.14302,247.43042 5.74219,0 3.98437,9.36328 4.00782,-9.36328 5.73046,0 0,17.49609 -4.26562,0 0,-12.79687 -4.03125,9.43359 -2.85938,0 -4.03125,-9.43359 0,12.79687 -4.27734,0 0,-17.49609\" id=\"path3051\" style=\"font-size:24px;font-weight:bold;line-height:115.99999666%;-inkscape-font-specification:Ubuntu Bold\"/>\n",
       "      <path d=\"m 227.79146,253.72339 0,-7.03125 4.21875,0 0,18.23437 -4.21875,0 0,-1.89843 c -0.57814,0.77343 -1.21486,1.33984 -1.91016,1.69921 -0.69532,0.35938 -1.50001,0.53907 -2.41406,0.53907 -1.61719,0 -2.94532,-0.64063 -3.98438,-1.92188 -1.03906,-1.28906 -1.55859,-2.94531 -1.55859,-4.96875 0,-2.02343 0.51953,-3.67577 1.55859,-4.95703 1.03906,-1.28905 2.36719,-1.93358 3.98438,-1.93359 0.90624,1e-5 1.70702,0.1836 2.40234,0.55078 0.70312,0.35939 1.34374,0.92189 1.92188,1.6875 m -2.76563,8.49609 c 0.89843,1e-5 1.58202,-0.32812 2.05078,-0.98437 0.47656,-0.65625 0.71484,-1.60937 0.71485,-2.85938 -1e-5,-1.24999 -0.23829,-2.20311 -0.71485,-2.85937 -0.46876,-0.65624 -1.15235,-0.98437 -2.05078,-0.98438 -0.89063,1e-5 -1.57422,0.32814 -2.05078,0.98438 -0.46875,0.65626 -0.70313,1.60938 -0.70312,2.85937 -1e-5,1.25001 0.23437,2.20313 0.70312,2.85938 0.47656,0.65625 1.16015,0.98438 2.05078,0.98437\" id=\"path3053\" style=\"font-size:24px;font-weight:bold;line-height:115.99999666%;-inkscape-font-specification:Ubuntu Bold\"/>\n",
       "      <path d=\"m 248.22896,253.9812 c 0.53123,-0.81249 1.16014,-1.42967 1.88672,-1.85156 0.73436,-0.42968 1.53904,-0.64452 2.41406,-0.64453 1.50779,1e-5 2.65623,0.46485 3.44531,1.39453 0.78904,0.9297 1.18357,2.28126 1.1836,4.05469 l 0,7.99218 -4.21875,0 0,-6.84375 c 0.008,-0.10155 0.0117,-0.20702 0.0117,-0.3164 0.008,-0.10937 0.0117,-0.26562 0.0117,-0.46875 -2e-5,-0.92968 -0.13673,-1.60156 -0.41015,-2.01563 -0.27346,-0.42186 -0.71486,-0.6328 -1.32422,-0.63281 -0.79689,1e-5 -1.41408,0.32813 -1.85156,0.98437 -0.42971,0.65626 -0.65236,1.60548 -0.66797,2.84766 l 0,6.44531 -4.21875,0 0,-6.84375 c -1e-5,-1.45311 -0.12501,-2.38671 -0.375,-2.80078 -0.25001,-0.42186 -0.69532,-0.6328 -1.33594,-0.63281 -0.8047,1e-5 -1.42579,0.33204 -1.86328,0.99609 -0.43751,0.65626 -0.65626,1.59767 -0.65625,2.82422 l 0,6.45703 -4.21875,0 0,-13.125 4.21875,0 0,1.92188 c 0.51562,-0.74218 1.10546,-1.30077 1.76953,-1.67578 0.67187,-0.37499 1.41015,-0.56249 2.21484,-0.5625 0.90624,1e-5 1.70702,0.21876 2.40235,0.65625 0.6953,0.43751 1.22264,1.05079 1.58203,1.83984\" id=\"path3055\" style=\"font-size:24px;font-weight:bold;line-height:115.99999666%;-inkscape-font-specification:Ubuntu Bold\"/>\n",
       "      <path d=\"m 265.99458,261.61011 7.69922,0 0,3.3164 -12.71484,0 0,-3.3164 6.38672,-5.63672 c 0.5703,-0.51562 0.99218,-1.01952 1.26562,-1.51172 0.27343,-0.49218 0.41015,-1.00389 0.41016,-1.53516 -10e-6,-0.8203 -0.27736,-1.48045 -0.83203,-1.98047 -0.54689,-0.49998 -1.27735,-0.74998 -2.19141,-0.75 -0.70313,2e-5 -1.47266,0.15236 -2.30859,0.45704 -0.83594,0.29689 -1.73047,0.7422 -2.6836,1.33593 l 0,-3.84375 c 1.01563,-0.33592 2.01953,-0.58982 3.01172,-0.76172 0.99218,-0.17966 1.96484,-0.26951 2.91797,-0.26953 2.09374,2e-5 3.71874,0.46096 4.875,1.38282 1.16405,0.92189 1.74608,2.20704 1.74609,3.85546 -1e-5,0.95314 -0.2461,1.84377 -0.73828,2.67188 -0.4922,0.82032 -1.52735,1.92188 -3.10547,3.30469 l -3.73828,3.28125\" id=\"path3057\" style=\"font-size:24px;font-weight:bold;line-height:115.99999666%;-inkscape-font-specification:Ubuntu Bold\"/>\n",
       "    </g>\n",
       "    <path d=\"m 274.83565,209.35179 c 33.88759,-62.23588 70.25876,-80.24931 64.1987,-134.880023\" id=\"path3830\" inkscape:connector-curvature=\"0\" style=\"fill:none;stroke:#000000;stroke-width:4.15446043;stroke-linecap:butt;stroke-linejoin:miter;stroke-miterlimit:4;stroke-opacity:1;stroke-dasharray:none;marker-start:url(#Arrow2Mstart)\"/>\n",
       "    <path d=\"m 216.88917,215.06706 c 0.51005,-75.03776 4.60907,-97.09927 74.30409,-141.738307\" id=\"path3830-8\" inkscape:connector-curvature=\"0\" style=\"fill:none;stroke:#000000;stroke-width:4.15446043;stroke-linecap:butt;stroke-linejoin:miter;stroke-miterlimit:4;stroke-opacity:1;stroke-dasharray:none;marker-start:url(#Arrow2Mstart)\"/>\n",
       "    <path d=\"M -66.060734,261.36063 C -102.36079,203.95358 -112.21382,137.19594 -43.472296,73.900283\" id=\"path3830-7\" inkscape:connector-curvature=\"0\" style=\"fill:none;stroke:#000000;stroke-width:4.15446043;stroke-linecap:butt;stroke-linejoin:miter;stroke-miterlimit:4;stroke-opacity:1;stroke-dasharray:none;marker-start:url(#Arrow2Mstart)\"/>\n",
       "    <path d=\"M -38.716837,256.78841 C 0.11942837,228.59318 33.011355,168.96399 19.53756,95.046699\" id=\"path3830-2\" inkscape:connector-curvature=\"0\" style=\"fill:none;stroke:#000000;stroke-width:4.15446043;stroke-linecap:butt;stroke-linejoin:miter;stroke-miterlimit:4;stroke-opacity:1;stroke-dasharray:none;marker-start:url(#Arrow2Mstart)\"/>\n",
       "    <path d=\"m 212.72816,133.91047 c -21.81314,-4.6988 -4.4527,-0.5776 -7.54432,-1.3144 C 175.70566,125.57058 97.266953,92.560882 69.469903,67.041972\" id=\"path3830-5\" inkscape:connector-curvature=\"0\" style=\"fill:none;stroke:#0000d0;stroke-width:4.15446043;stroke-linecap:butt;stroke-linejoin:miter;stroke-miterlimit:4;stroke-opacity:1;stroke-dasharray:12.46338098, 4.15446032;stroke-dashoffset:0;marker-start:url(#Arrow2MstartI)\"/>\n",
       "    <path d=\"m -47.79265,325.2286 c 17.288275,14.65668 1.131942,5.62982 3.535598,6.74002 64.740027,29.90211 212.988192,54.75029 294.126532,-40.03138\" id=\"path3830-2-7\" inkscape:connector-curvature=\"0\" style=\"fill:none;stroke:#000000;stroke-width:4.15446043;stroke-linecap:butt;stroke-linejoin:miter;stroke-miterlimit:4;stroke-opacity:1;stroke-dasharray:none;marker-start:url(#Arrow2Mstart)\"/>\n",
       "    <path d=\"m 24.183407,180.48977 c 80.446543,34.67255 71.728185,79.06101 152.174733,81.72815\" id=\"path3830-2-7-3\" inkscape:connector-curvature=\"0\" style=\"fill:none;stroke:#0000d0;stroke-width:4.15446043;stroke-linecap:butt;stroke-linejoin:miter;stroke-miterlimit:4;stroke-opacity:1;stroke-dasharray:12.46338098, 4.15446032;stroke-dashoffset:0;marker-start:url(#Arrow2Mstartm)\"/>\n",
       "    <path d=\"m -50.768044,247.64401 c 26.712647,-57.38788 39.041386,-85.73269 35.665957,-158.884069\" id=\"path3830-7-7\" inkscape:connector-curvature=\"0\" style=\"fill:none;stroke:#000000;stroke-width:4.15446043;stroke-linecap:butt;stroke-linejoin:miter;stroke-miterlimit:4;stroke-opacity:1;stroke-dasharray:none;marker-start:none;marker-end:url(#Arrow2Mend)\"/>\n",
       "    <g id=\"g6823\" style=\"stroke:#323232;stroke-opacity:1\" transform=\"matrix(1.812966,0,0,2.3103132,-131.57469,-265.67805)\">\n",
       "      <g id=\"g6819\" style=\"stroke:#323232;stroke-opacity:1\" transform=\"translate(-13.637059,8.0812204)\">\n",
       "        <path d=\"m 71.215755,229.84547 a 10.606602,12.879445 0 1 1 -21.213203,0 10.606602,12.879445 0 1 1 21.213203,0 z\" id=\"path3889\" inkscape:connector-curvature=\"0\" style=\"fill:#000000;fill-opacity:0;stroke:#323232;stroke-width:3.29823804;stroke-linecap:round;stroke-linejoin:round;stroke-miterlimit:4;stroke-opacity:1;stroke-dasharray:none;stroke-dashoffset:0;marker-start:none\" transform=\"matrix(0.68143088,0,0,0.68627451,12.237137,76.65407)\"/>\n",
       "        <path d=\"M 42.426407,247.77568 64.649764,221.00664\" id=\"path6817\" inkscape:connector-curvature=\"0\" style=\"fill:none;stroke:#323232;stroke-width:2.25549507;stroke-linecap:butt;stroke-linejoin:miter;stroke-miterlimit:4;stroke-opacity:1;stroke-dasharray:none\"/>\n",
       "      </g>\n",
       "    </g>\n",
       "    <text id=\"text6828\" sodipodi:linespacing=\"125%\" style=\"font-size:92.32134247px;font-style:normal;font-variant:normal;font-weight:normal;font-stretch:normal;line-height:125%;letter-spacing:0px;word-spacing:0px;fill:#000000;fill-opacity:1;stroke:none;font-family:Ubuntu;-inkscape-font-specification:Ubuntu\" transform=\"scale(1.0198435,0.9805426)\" x=\"-38.265453\" xml:space=\"preserve\" y=\"176.78548\"><tspan id=\"tspan6830\" style=\"font-size:20.77230263px;font-weight:bold;-inkscape-font-specification:Ubuntu Bold\" x=\"-38.265453\" y=\"176.78548\">1</tspan></text>\n",
       "    <text id=\"text6828-3\" sodipodi:linespacing=\"125%\" style=\"font-size:92.32134247px;font-style:normal;font-variant:normal;font-weight:normal;font-stretch:normal;line-height:125%;letter-spacing:0px;word-spacing:0px;fill:#000000;fill-opacity:1;stroke:none;font-family:Ubuntu;-inkscape-font-specification:Ubuntu\" transform=\"scale(1.0198435,0.9805426)\" x=\"16.069242\" xml:space=\"preserve\" y=\"204.72693\"><tspan id=\"tspan6830-2\" style=\"font-size:20.77230263px;font-weight:bold;-inkscape-font-specification:Ubuntu Bold\" x=\"16.069242\" y=\"204.72693\">3</tspan></text>\n",
       "    <text id=\"text6828-6\" sodipodi:linespacing=\"125%\" style=\"font-size:92.32134247px;font-style:normal;font-variant:normal;font-weight:normal;font-stretch:normal;line-height:125%;letter-spacing:0px;word-spacing:0px;fill:#000000;fill-opacity:1;stroke:none;font-family:Ubuntu;-inkscape-font-specification:Ubuntu\" transform=\"scale(1.0198435,0.9805426)\" x=\"-114.23426\" xml:space=\"preserve\" y=\"168.35074\"><tspan id=\"tspan6830-6\" style=\"font-size:20.77230263px;font-weight:bold;-inkscape-font-specification:Ubuntu Bold\" x=\"-114.23426\" y=\"168.35074\">2</tspan></text>\n",
       "    <text id=\"text6828-30\" sodipodi:linespacing=\"125%\" style=\"font-size:92.32134247px;font-style:normal;font-variant:normal;font-weight:normal;font-stretch:normal;line-height:125%;letter-spacing:0px;word-spacing:0px;fill:#000000;fill-opacity:1;stroke:none;font-family:Ubuntu;-inkscape-font-specification:Ubuntu\" transform=\"scale(1.0198435,0.9805426)\" x=\"198.71147\" xml:space=\"preserve\" y=\"158.91985\"><tspan id=\"tspan6830-9\" style=\"font-size:20.77230263px;font-weight:bold;-inkscape-font-specification:Ubuntu Bold\" x=\"198.71147\" y=\"158.91985\">4</tspan></text>\n",
       "    <text id=\"text6828-2\" sodipodi:linespacing=\"125%\" style=\"font-size:92.32134247px;font-style:normal;font-variant:normal;font-weight:normal;font-stretch:normal;line-height:125%;letter-spacing:0px;word-spacing:0px;fill:#000000;fill-opacity:1;stroke:none;font-family:Ubuntu;-inkscape-font-specification:Ubuntu\" transform=\"scale(1.0198435,0.9805426)\" x=\"96.126991\" xml:space=\"preserve\" y=\"359.42593\"><tspan id=\"tspan6830-76\" style=\"font-size:20.77230263px;font-weight:bold;-inkscape-font-specification:Ubuntu Bold\" x=\"96.126991\" y=\"359.42593\">6</tspan></text>\n",
       "    <text id=\"text6828-60\" sodipodi:linespacing=\"125%\" style=\"font-size:92.32134247px;font-style:normal;font-variant:normal;font-weight:normal;font-stretch:normal;line-height:125%;letter-spacing:0px;word-spacing:0px;fill:#000000;fill-opacity:1;stroke:none;font-family:Ubuntu;-inkscape-font-specification:Ubuntu\" transform=\"scale(1.0198435,0.9805426)\" x=\"326.94211\" xml:space=\"preserve\" y=\"157.17123\"><tspan id=\"tspan6830-22\" style=\"font-size:20.77230263px;font-weight:bold;-inkscape-font-specification:Ubuntu Bold\" x=\"326.94211\" y=\"157.17123\">5</tspan></text>\n",
       "  </g>\n",
       "</svg>"
      ],
      "text/plain": [
       "<IPython.core.display.SVG object>"
      ]
     },
     "execution_count": 2,
     "metadata": {},
     "output_type": "execute_result"
    }
   ],
   "source": [
    "from IPython.display import SVG\n",
    "SVG('images/p53.svg')"
   ]
  },
  {
   "cell_type": "markdown",
   "metadata": {},
   "source": [
    "Typically the system is described by the following set of equations:"
   ]
  },
  {
   "cell_type": "markdown",
   "metadata": {},
   "source": [
    "$$\n",
    "\\begin{aligned}\n",
    "\\text{p53 production} && \\emptyset\\rightarrow p53 \\\\\n",
    "\\text{Mdm2 independent p53 degradation} && p53 \\rightarrow \\emptyset \\\\\n",
    "\\text{Mdm2 dependent p53 degradation} && Mdm2 + p53 \\rightarrow Mdm2 \\\\\n",
    "\\text{p53 dependent Mdm2 production} && p53 + Mdm2_{precursor} \\rightarrow p53 + Mdm2 \\\\\n",
    "\\text{Mdm2 synthesis from precursor} && Mdm2_{precursor} \\rightarrow Mdm2 \\\\\n",
    "\\text{Mdm2 degradation} && Mdm2 \\rightarrow \\emptyset \\\\\n",
    "\\end{aligned}\n",
    "$$"
   ]
  },
  {
   "cell_type": "markdown",
   "metadata": {},
   "source": [
    "In this tutorial we alias the protein $p53$, $Mdm2_{precursor}$ and $Mdm2$ names with $y_0$, $y_1$ and $y_2$, respectively. \n",
    "We do this purely for notational convenience, to keep the equations light, and is not strictly necessary, as the actual names of proteins can be used in the models directly."
   ]
  },
  {
   "cell_type": "markdown",
   "metadata": {},
   "source": [
    "In python, this can be done by building a list of  ``sympy`` symbols with our species names:"
   ]
  },
  {
   "cell_type": "code",
   "execution_count": 3,
   "metadata": {
    "collapsed": false
   },
   "outputs": [
    {
     "name": "stdout",
     "output_type": "stream",
     "text": [
      "[y_0, y_1, y_2]\n"
     ]
    }
   ],
   "source": [
    "import sympy\n",
    "species = sympy.symbols(['y_0', 'y_1', 'y_2'])\n",
    "print species"
   ]
  },
  {
   "cell_type": "markdown",
   "metadata": {},
   "source": [
    "From the reactions above, we can directly derive the <a href=\"http://en.wikipedia.org/wiki/Stoichiometry#Stoichiometry_matrix\">stoichiometry matrix</a>:\n",
    "\n",
    "$$\n",
    "S = \\left( \\begin{array}{cccccc}\n",
    "+1 & -1 & -1 & 0 & 0 & 0\\\\\n",
    "0 & 0 & 0 & +1 & -1 & 0\\\\\n",
    "0 & 0 & 0 & 0 & +1 & -1 \\end{array} \\right)\n",
    "$$\n",
    "\n",
    "We can use ``numpy`` ``array`` to encode this matrix in python, for example:"
   ]
  },
  {
   "cell_type": "code",
   "execution_count": 4,
   "metadata": {
    "collapsed": false
   },
   "outputs": [
    {
     "name": "stdout",
     "output_type": "stream",
     "text": [
      "[[ 1 -1 -1  0  0  0]\n",
      " [ 0  0  0  1 -1  0]\n",
      " [ 0  0  0  0  1 -1]]\n"
     ]
    }
   ],
   "source": [
    "import numpy as np\n",
    "stoichiometry_matrix = np.array([[1, -1, -1, 0, 0, 0],\n",
    "                                  [0, 0, 0, 1, -1, 0],\n",
    "                                  [0, 0, 0, 0, 1, -1]])\n",
    "print stoichiometry_matrix"
   ]
  },
  {
   "cell_type": "markdown",
   "metadata": {},
   "source": [
    "In addition to the stoichiometry matrix, which only gives the net production of species in each reaction, the propensities need to be defined for each reactions. Importantly, **stochastic** propensities (as opposed to deterministic rates) must be provided."
   ]
  },
  {
   "cell_type": "markdown",
   "metadata": {},
   "source": [
    "Using this notation, the propensities of the $p53$ model are:\n",
    "    \n",
    "$$\n",
    "\\begin{aligned}\n",
    "a_0 &= c_0 \\\\\n",
    "a_1 &= c_1 y_0\\\\\n",
    "a_2 &= \\frac{c_2 y_2 y_0}{(y_0+c_6)}\\\\\n",
    "a_3 &= c_3 y_0\\\\\n",
    "a_4 &= c_4 y_1\\\\\n",
    "a_5 &= c_5 y_2\\\\\n",
    "\\end{aligned}\n",
    "$$\n",
    "\n",
    "where: \n",
    "\n",
    "* $c_0$ is the *p53* production rate,\n",
    "* $c_1$ is the *Mdm2*-independent *p53* degradation rate,\n",
    "* $c_2$ is the saturation *p53* degradation rate\n",
    "* $c_3$ is the *p53*-dependent *Mdm2* production rate,\n",
    "* $c_4$ is the *Mdm2* maturation rate,\n",
    "* $c_5$ is the *Mdm2* degradation rate.     \n",
    "* $c_6$ is the threshold for degradation by *Mdm2*.\n"
   ]
  },
  {
   "cell_type": "markdown",
   "metadata": {},
   "source": [
    "In Python, we need to explicitly write down the constant parameters of the model using `sympy` package:"
   ]
  },
  {
   "cell_type": "code",
   "execution_count": 5,
   "metadata": {
    "collapsed": false
   },
   "outputs": [
    {
     "name": "stdout",
     "output_type": "stream",
     "text": [
      "[c_0, c_1, c_2, c_3, c_4, c_5, c_6]\n"
     ]
    }
   ],
   "source": [
    "parameters = sympy.symbols(['c_0', 'c_1', 'c_2', 'c_3', 'c_4', 'c_5', 'c_6'])\n",
    "print parameters"
   ]
  },
  {
   "cell_type": "markdown",
   "metadata": {},
   "source": [
    "We can now describe the actual propensities as python objects.\n",
    "To do this, we drop the left-hand-side of equations ($a_0$, ..., $a_5$) and create a python list (or, alternatively, a ``sympy.Matrix``) of the right-hand-sides:"
   ]
  },
  {
   "cell_type": "code",
   "execution_count": 6,
   "metadata": {
    "collapsed": false
   },
   "outputs": [
    {
     "name": "stdout",
     "output_type": "stream",
     "text": [
      "['c_0', 'c_1*y_0', 'c_2*y_2*y_0/(y_0+c_6)', 'c_3*y_0', 'c_4*y_1', 'c_5*y_2']\n"
     ]
    }
   ],
   "source": [
    "propensities=['c_0',\n",
    "              'c_1*y_0',\n",
    "              'c_2*y_2*y_0/(y_0+c_6)',\n",
    "              'c_3*y_0',\n",
    "              'c_4*y_1',\n",
    "              'c_5*y_2']\n",
    "print propensities"
   ]
  },
  {
   "cell_type": "markdown",
   "metadata": {},
   "source": [
    "Note that we just used a list of strings as our propensities above.\n",
    "In most cases `MEANS` would be able to convert the string representation into an object of the right kind, so one does not need to explicitly worry about that.\n",
    "\n",
    "The propensities were the final objects we need to describe in order to be able to create a `MEANS` model object."
   ]
  },
  {
   "cell_type": "markdown",
   "metadata": {},
   "source": [
    "But before we do so, we need to the `MEANS` package first:"
   ]
  },
  {
   "cell_type": "code",
   "execution_count": 7,
   "metadata": {
    "collapsed": false
   },
   "outputs": [],
   "source": [
    "import means"
   ]
  },
  {
   "cell_type": "markdown",
   "metadata": {},
   "source": [
    "The ``means.Model`` constructor takes the list of species, the list of parameters, the propensities and the stoichiometry matrix in that order."
   ]
  },
  {
   "cell_type": "code",
   "execution_count": 8,
   "metadata": {
    "collapsed": false
   },
   "outputs": [],
   "source": [
    "my_model = means.Model(species, parameters, propensities, stoichiometry_matrix)"
   ]
  },
  {
   "cell_type": "markdown",
   "metadata": {},
   "source": [
    "The model created should be the same as described earlier:"
   ]
  },
  {
   "cell_type": "code",
   "execution_count": 9,
   "metadata": {
    "collapsed": false
   },
   "outputs": [
    {
     "data": {
      "text/latex": [
       "\\begin{align*}\n",
       "\\text{Species} &= \\left [ y_{0}, \\quad y_{1}, \\quad y_{2}\\right ] \\\\\n",
       "\\text{Parameters} &= \\left [ c_{0}, \\quad c_{1}, \\quad c_{2}, \\quad c_{3}, \\quad c_{4}, \\quad c_{5}, \\quad c_{6}\\right ] \\\\\n",
       "\\text{Stoichiometry matrix} &= \\left[\\begin{matrix}1 & -1 & -1 & 0 & 0 & 0\\\\0 & 0 & 0 & 1 & -1 & 0\\\\0 & 0 & 0 & 0 & 1 & -1\\end{matrix}\\right] \\\\\n",
       "\\text{Propensities} &= \\left[\\begin{matrix}c_{0}\\\\c_{1} y_{0}\\\\\\frac{c_{2} y_{0} y_{2}}{c_{6} + y_{0}}\\\\c_{3} y_{0}\\\\c_{4} y_{1}\\\\c_{5} y_{2}\\end{matrix}\\right] \\\\\n",
       "\\end{align*}"
      ],
      "text/plain": [
       "<class 'means.core.model.Model'>\n",
       "Species: [y_0, y_1, y_2]\n",
       "Parameters: [c_0, c_1, c_2, c_3, c_4, c_5, c_6]\n",
       "\n",
       "Stoichiometry matrix:\n",
       "Matrix([\n",
       "[1, -1, -1, 0,  0,  0],\n",
       "[0,  0,  0, 1, -1,  0],\n",
       "[0,  0,  0, 0,  1, -1]])\n",
       "\n",
       "Propensities:\n",
       "Matrix([\n",
       "[                    c_0],\n",
       "[                c_1*y_0],\n",
       "[c_2*y_0*y_2/(c_6 + y_0)],\n",
       "[                c_3*y_0],\n",
       "[                c_4*y_1],\n",
       "[                c_5*y_2]])"
      ]
     },
     "execution_count": 9,
     "metadata": {},
     "output_type": "execute_result"
    }
   ],
   "source": [
    "my_model"
   ]
  },
  {
   "cell_type": "markdown",
   "metadata": {},
   "source": [
    "In addition to the $\\LaTeX$ rendering, which is the default in the IPython environment,\n",
    "pythonic representation of model can be displayed using ``print``."
   ]
  },
  {
   "cell_type": "code",
   "execution_count": 10,
   "metadata": {
    "collapsed": false
   },
   "outputs": [
    {
     "name": "stdout",
     "output_type": "stream",
     "text": [
      "<class 'means.core.model.Model'>\n",
      "Species: [y_0, y_1, y_2]\n",
      "Parameters: [c_0, c_1, c_2, c_3, c_4, c_5, c_6]\n",
      "\n",
      "Stoichiometry matrix:\n",
      "Matrix([\n",
      "[1, -1, -1, 0,  0,  0],\n",
      "[0,  0,  0, 1, -1,  0],\n",
      "[0,  0,  0, 0,  1, -1]])\n",
      "\n",
      "Propensities:\n",
      "Matrix([\n",
      "[                    c_0],\n",
      "[                c_1*y_0],\n",
      "[c_2*y_0*y_2/(c_6 + y_0)],\n",
      "[                c_3*y_0],\n",
      "[                c_4*y_1],\n",
      "[                c_5*y_2]])\n"
     ]
    }
   ],
   "source": [
    "print my_model"
   ]
  },
  {
   "cell_type": "markdown",
   "metadata": {},
   "source": [
    "The attributes for each of the elements in the model can be accessed directly, but are read-only:"
   ]
  },
  {
   "cell_type": "code",
   "execution_count": 11,
   "metadata": {
    "collapsed": false
   },
   "outputs": [
    {
     "name": "stdout",
     "output_type": "stream",
     "text": [
      "[y_0, y_1, y_2]\n",
      "[c_0, c_1, c_2, c_3, c_4, c_5, c_6]\n",
      "Matrix([[1, -1, -1, 0, 0, 0], [0, 0, 0, 1, -1, 0], [0, 0, 0, 0, 1, -1]])\n",
      "Matrix([[c_0], [c_1*y_0], [c_2*y_0*y_2/(c_6 + y_0)], [c_3*y_0], [c_4*y_1], [c_5*y_2]])\n"
     ]
    }
   ],
   "source": [
    "print my_model.species\n",
    "print my_model.parameters\n",
    "print my_model.stoichiometry_matrix\n",
    "print my_model.propensities"
   ]
  },
  {
   "cell_type": "markdown",
   "metadata": {},
   "source": [
    "## Example Models in Means"
   ]
  },
  {
   "cell_type": "markdown",
   "metadata": {},
   "source": [
    "`MEANS` already package provides a few sample models:\n",
    "\n",
    "* `MODEL_DIMERISATION`, \n",
    "* `MODEL_MICHAELIS_MENTEN`, \n",
    "* `MODEL_P53`\n",
    "* `MODEL_HES1`,\n",
    "* `MODEL_LOTKA_VOLTERRA`. \n",
    "\n",
    "These models can be accesseed from `examples` submodule. Let's use `MODEL_LOTKA_VOLTERRA` as an example."
   ]
  },
  {
   "cell_type": "code",
   "execution_count": 12,
   "metadata": {
    "collapsed": false
   },
   "outputs": [
    {
     "name": "stdout",
     "output_type": "stream",
     "text": [
      "<class 'means.core.model.Model'>\n",
      "Species: [Pred, Prey]\n",
      "Parameters: [k_1, k_2, k_3]\n",
      "\n",
      "Stoichiometry matrix:\n",
      "Matrix([\n",
      "[0,  1, -1],\n",
      "[1, -1,  0]])\n",
      "\n",
      "Propensities:\n",
      "Matrix([\n",
      "[     Prey*k_1],\n",
      "[Pred*Prey*k_2],\n",
      "[     Pred*k_3]])\n"
     ]
    }
   ],
   "source": [
    "from means.examples.sample_models import MODEL_LOTKA_VOLTERRA\n",
    "print MODEL_LOTKA_VOLTERRA"
   ]
  },
  {
   "cell_type": "markdown",
   "metadata": {},
   "source": [
    "As noted above, the names of the species may not necessarily be mathematical symbols: $y_0$, $y_1$.\n",
    "In the Lotka-Volterra model, for instance, we use shortenings of the actual names of the species (*Predator* and *Prey*)."
   ]
  },
  {
   "cell_type": "markdown",
   "metadata": {},
   "source": [
    "### Reading Models From Files"
   ]
  },
  {
   "cell_type": "markdown",
   "metadata": {},
   "source": [
    "``MEANS`` models can be saved to file and read from it with the help of ``means.io`` package. \n",
    "This package provides methods ``to_file`` and ``from_file`` that can read arbitrary python objects from files,\n",
    "as long as they were serialised in YAML format.\n",
    "Similarly, `Model` class itself has a ``to_file()`` and ``from_file()`` methods designed to help you with these tasks.\n",
    "\n",
    "We took great care of making `Model` objects cleanly serialisable with YAML into human-readable fashion.\n",
    "\n",
    "Please find a demonstration below:"
   ]
  },
  {
   "cell_type": "markdown",
   "metadata": {},
   "source": [
    "Let's save `my_model` to file:"
   ]
  },
  {
   "cell_type": "code",
   "execution_count": 13,
   "metadata": {
    "collapsed": false
   },
   "outputs": [],
   "source": [
    "my_model.to_file('my_model.model')"
   ]
  },
  {
   "cell_type": "markdown",
   "metadata": {},
   "source": [
    "Let's print the contents of this newly-created file:"
   ]
  },
  {
   "cell_type": "code",
   "execution_count": 14,
   "metadata": {
    "collapsed": false
   },
   "outputs": [
    {
     "name": "stdout",
     "output_type": "stream",
     "text": [
      "!model\n",
      "species: [y_0, y_1, y_2]\n",
      "parameters: [c_0, c_1, c_2, c_3, c_4, c_5, c_6]\n",
      "stoichiometry_matrix:\n",
      "- [1, -1, -1, 0, 0, 0]\n",
      "- [0, 0, 0, 1, -1, 0]\n",
      "- [0, 0, 0, 0, 1, -1]\n",
      "propensities: [c_0, c_1*y_0, c_2*y_0*y_2/(c_6 + y_0), c_3*y_0, c_4*y_1, c_5*y_2]\n",
      "\n"
     ]
    }
   ],
   "source": [
    "with open('my_model.model') as f:\n",
    "    print f.read()"
   ]
  },
  {
   "cell_type": "markdown",
   "metadata": {},
   "source": [
    "One can se how easy to read this serialisation form is.\n",
    "\n",
    "This form is also machine-readable, and we can indeed read the model object back from this file easily:"
   ]
  },
  {
   "cell_type": "code",
   "execution_count": 15,
   "metadata": {
    "collapsed": false
   },
   "outputs": [
    {
     "data": {
      "text/latex": [
       "\\begin{align*}\n",
       "\\text{Species} &= \\left [ y_{0}, \\quad y_{1}, \\quad y_{2}\\right ] \\\\\n",
       "\\text{Parameters} &= \\left [ c_{0}, \\quad c_{1}, \\quad c_{2}, \\quad c_{3}, \\quad c_{4}, \\quad c_{5}, \\quad c_{6}\\right ] \\\\\n",
       "\\text{Stoichiometry matrix} &= \\left[\\begin{matrix}1 & -1 & -1 & 0 & 0 & 0\\\\0 & 0 & 0 & 1 & -1 & 0\\\\0 & 0 & 0 & 0 & 1 & -1\\end{matrix}\\right] \\\\\n",
       "\\text{Propensities} &= \\left[\\begin{matrix}c_{0}\\\\c_{1} y_{0}\\\\\\frac{c_{2} y_{0} y_{2}}{c_{6} + y_{0}}\\\\c_{3} y_{0}\\\\c_{4} y_{1}\\\\c_{5} y_{2}\\end{matrix}\\right] \\\\\n",
       "\\end{align*}"
      ],
      "text/plain": [
       "<class 'means.core.model.Model'>\n",
       "Species: [y_0, y_1, y_2]\n",
       "Parameters: [c_0, c_1, c_2, c_3, c_4, c_5, c_6]\n",
       "\n",
       "Stoichiometry matrix:\n",
       "Matrix([\n",
       "[1, -1, -1, 0,  0,  0],\n",
       "[0,  0,  0, 1, -1,  0],\n",
       "[0,  0,  0, 0,  1, -1]])\n",
       "\n",
       "Propensities:\n",
       "Matrix([\n",
       "[                    c_0],\n",
       "[                c_1*y_0],\n",
       "[c_2*y_0*y_2/(c_6 + y_0)],\n",
       "[                c_3*y_0],\n",
       "[                c_4*y_1],\n",
       "[                c_5*y_2]])"
      ]
     },
     "execution_count": 15,
     "metadata": {},
     "output_type": "execute_result"
    }
   ],
   "source": [
    "my_model_new = means.Model.from_file('my_model.model')\n",
    "my_model_new"
   ]
  },
  {
   "cell_type": "markdown",
   "metadata": {},
   "source": [
    "Which is the same model we used previously.\n",
    "\n",
    "Let's delete this file we used to illustrate this:"
   ]
  },
  {
   "cell_type": "code",
   "execution_count": 16,
   "metadata": {
    "collapsed": false
   },
   "outputs": [],
   "source": [
    "import os\n",
    "os.unlink('my_model.model')"
   ]
  },
  {
   "cell_type": "markdown",
   "metadata": {},
   "source": [
    "#### SBML Support (**requires SBML library installed on your machine**)"
   ]
  },
  {
   "cell_type": "markdown",
   "metadata": {},
   "source": [
    "More complicated biological models can be parsed from SBML files. \n",
    "\n",
    "[Biomodels repository](http://www.ebi.ac.uk/biomodels-main/) hosts a large number of published biological models.\n",
    "\n",
    "\n",
    "Consider the Tutorial 1a. SBML Parsing Example for more information on how to download SBML models using MEANS."
   ]
  },
  {
   "cell_type": "markdown",
   "metadata": {},
   "source": [
    "# Modelling Stochastic Dynamics"
   ]
  },
  {
   "cell_type": "markdown",
   "metadata": {},
   "source": [
    "Creating models is nice and fun, however, what we are really interested in is the ability to study them."
   ]
  },
  {
   "cell_type": "markdown",
   "metadata": {},
   "source": [
    "## Moment Expansion Approximation"
   ]
  },
  {
   "cell_type": "markdown",
   "metadata": {},
   "source": [
    "In their [2013 paper](http://scitation.aip.org/content/aip/journal/jcp/138/17/10.1063/1.4802475),\n",
    "Ale *et al.* describe a Moment Expansion Approximation method for studying the moments of stochastic distributions.\n",
    "\n",
    "This method, shortened as MEA, approximate the solution for chemical master equation by a system of ODEs.\n",
    "The algorithm performs a set of moment expansions and returns as a set of ODEs,\n",
    "each one representing the time derivative of all approximated moments (mixed and non-mixed).\n",
    "\n",
    "Without going into much mathematical detail, the moment expansions are essentially infinite.\n",
    "In order to make the problem computable, the approximation needs to be stop at some higher order moment, or in other words, needs to be closed at that moment.\n",
    "\n",
    "Typically, the moments higher than the maximum specified moment are assumed to be equal to a constant scalar value (most often 0).\n",
    "We call this type of moment closure ``scalar`` in our package. This is where the \"approximation\" in Moment Expansion Approximation occurs.\n",
    "\n",
    "Besides the standard assumption of ``scalar`` value for higher order moments,\n",
    "we could replace them with the expressions derived from specific probability distributions.\n",
    "Currently our package supports ``normal``, ``log-normal`` and ``gamma`` distributions to close the higher order moments."
   ]
  },
  {
   "cell_type": "markdown",
   "metadata": {},
   "source": [
    "The MEA moment closure is implemented by the ``MomentExpansionApproximation`` class in the ``means.approximation.mea`` package, this class can be used explicitly to generate the set of ODEs from a given model.\n",
    "Before we show how to use it, let's set up our workspace:"
   ]
  },
  {
   "cell_type": "code",
   "execution_count": 17,
   "metadata": {
    "collapsed": false
   },
   "outputs": [],
   "source": [
    "import means\n",
    "import means.examples\n",
    "\n",
    "# Use dimerisation example model for this, due to the relative simplicity of it\n",
    "model = means.examples.MODEL_DIMERISATION"
   ]
  },
  {
   "cell_type": "code",
   "execution_count": 18,
   "metadata": {
    "collapsed": false
   },
   "outputs": [
    {
     "data": {
      "text/latex": [
       "\\begin{align*}\n",
       "\\text{Species} &= \\left [ y_{0}\\right ] \\\\\n",
       "\\text{Parameters} &= \\left [ c_{0}, \\quad c_{1}, \\quad c_{2}\\right ] \\\\\n",
       "\\text{Stoichiometry matrix} &= \\left[\\begin{matrix}-2 & 2\\end{matrix}\\right] \\\\\n",
       "\\text{Propensities} &= \\left[\\begin{matrix}c_{0} y_{0} \\left(y_{0} - 1\\right)\\\\c_{1} \\left(0.5 c_{2} - 0.5 y_{0}\\right)\\end{matrix}\\right] \\\\\n",
       "\\end{align*}"
      ],
      "text/plain": [
       "<class 'means.core.model.Model'>\n",
       "Species: [y_0]\n",
       "Parameters: [c_0, c_1, c_2]\n",
       "\n",
       "Stoichiometry matrix:\n",
       "Matrix([[-2, 2]])\n",
       "\n",
       "Propensities:\n",
       "Matrix([\n",
       "[      c_0*y_0*(y_0 - 1)],\n",
       "[c_1*(0.5*c_2 - 0.5*y_0)]])"
      ]
     },
     "execution_count": 18,
     "metadata": {},
     "output_type": "execute_result"
    }
   ],
   "source": [
    "model"
   ]
  },
  {
   "cell_type": "markdown",
   "metadata": {},
   "source": [
    "To use this class, first instantiate it with appropriate model and max_order parameters:"
   ]
  },
  {
   "cell_type": "code",
   "execution_count": 19,
   "metadata": {
    "collapsed": false
   },
   "outputs": [],
   "source": [
    "mea = means.MomentExpansionApproximation(model, max_order=3)"
   ]
  },
  {
   "cell_type": "markdown",
   "metadata": {},
   "source": [
    "Here we specify the system that we want to perform Moment Expansion Approximation \n",
    "for moments up to order three for the model defined above. \n",
    "Note that default closure method is always the scalar closure (*i.e.* assuming higher order values to be zero).\n",
    "\n",
    "After defining the approximation, we need to perform it. This is done by calling the ``.run()`` method of this class instance, and it returns an ``ODEProblem`` object, which is essentially a collection of ordinary differential equations."
   ]
  },
  {
   "cell_type": "code",
   "execution_count": 20,
   "metadata": {
    "collapsed": false
   },
   "outputs": [],
   "source": [
    "ode_problem = mea.run()"
   ]
  },
  {
   "cell_type": "markdown",
   "metadata": {},
   "source": [
    "If you are viewing this in an interactive environment, such as IPython notebook, \n",
    "you can view the ode_problem results formatted in $\\LaTeX$ notation by just outputting it from a cell:"
   ]
  },
  {
   "cell_type": "code",
   "execution_count": 21,
   "metadata": {
    "collapsed": false
   },
   "outputs": [
    {
     "data": {
      "text/latex": [
       "<h1>ODEProblem</h1>\n",
       "<p>Method: <code>'MEA'</code></p>\n",
       "<p>Parameters: <code>[c_0, c_1, c_2]</code></p>\n",
       "<p>Terms:</p>\n",
       "<ul>\n",
       "<li><code>Moment(array([1]), symbol=y_0)</code></li>\n",
       "<li><code>Moment(array([2]), symbol=M_2)</code></li>\n",
       "<li><code>Moment(array([3]), symbol=M_3)</code></li>\n",
       "</ul>\n",
       "<hr />\n",
       "\\begin{align*}\n",
       "\\dot{y_{0}} &= - 2 M_{2} c_{0} - 2 c_{0} y_{0} \\left(y_{0} - 1\\right) + 2 c_{1} \\left(0.5 c_{2} - 0.5 y_{0}\\right) \\\\\n",
       "\\dot{M_{2}} &= M_{2} \\left(- 4 c_{0} y_{0} - 4 c_{0} \\left(y_{0} - 1\\right) + 4 c_{0} - 2.0 c_{1}\\right) - 4 M_{3} c_{0} - 4 c_{0} y_{0}^{2} \\left(y_{0} - 1\\right) + 4 c_{0} y_{0} \\left(y_{0} - 1\\right) + 4 c_{1} y_{0} \\left(0.5 c_{2} - 0.5 y_{0}\\right) + 4 c_{1} \\left(0.5 c_{2} - 0.5 y_{0}\\right) - 2 y_{0} \\left(- 2 c_{0} y_{0} \\left(y_{0} - 1\\right) + 2 c_{1} \\left(0.5 c_{2} - 0.5 y_{0}\\right)\\right) \\\\\n",
       "\\dot{M_{3}} &= M_{2} \\left(- 30 c_{0} y_{0}^{2} - 18 c_{0} y_{0} \\left(y_{0} - 1\\right) + 24 c_{0} y_{0} + 6 c_{0} \\left(M_{2} + y_{0}^{2}\\right) + 12 c_{0} \\left(y_{0} - 1\\right) - 8 c_{0} - 6.0 c_{1} y_{0} + 6 c_{1} \\left(0.5 c_{2} - 0.5 y_{0}\\right) - 6.0 c_{1} - 3 y_{0} \\left(- 8 c_{0} y_{0} - 4 c_{0} \\left(y_{0} - 1\\right) + 4 c_{0} - 2.0 c_{1}\\right)\\right) + M_{3} \\left(- 6 c_{0} y_{0} - 6 c_{0} \\left(y_{0} - 1\\right) + 12 c_{0} - 3.0 c_{1}\\right) - 6 c_{0} y_{0}^{3} \\left(y_{0} - 1\\right) + 12 c_{0} y_{0}^{2} \\left(y_{0} - 1\\right) - 8 c_{0} y_{0} \\left(y_{0} - 1\\right) + 6 c_{1} y_{0}^{2} \\left(0.5 c_{2} - 0.5 y_{0}\\right) + 12 c_{1} y_{0} \\left(0.5 c_{2} - 0.5 y_{0}\\right) + 8 c_{1} \\left(0.5 c_{2} - 0.5 y_{0}\\right) + 6 y_{0}^{2} \\left(- 2 c_{0} y_{0} \\left(y_{0} - 1\\right) + 2 c_{1} \\left(0.5 c_{2} - 0.5 y_{0}\\right)\\right) - 3 y_{0} \\left(- 4 c_{0} y_{0}^{2} \\left(y_{0} - 1\\right) + 4 c_{0} y_{0} \\left(y_{0} - 1\\right) + 4 c_{1} y_{0} \\left(0.5 c_{2} - 0.5 y_{0}\\right) + 4 c_{1} \\left(0.5 c_{2} - 0.5 y_{0}\\right)\\right) - 3 \\left(M_{2} + y_{0}^{2}\\right) \\left(- 2 c_{0} y_{0} \\left(y_{0} - 1\\right) + 2 c_{1} \\left(0.5 c_{2} - 0.5 y_{0}\\right)\\right) \\\\\n",
       "\\end{align*}"
      ],
      "text/plain": [
       "<class 'means.core.problems.ODEProblem'>\n",
       "Method: 'MEA'\n",
       "Parameters: [c_0, c_1, c_2]\n",
       "\n",
       "Equations:\n",
       "\n",
       "Moment(array([1]), symbol=y_0):\n",
       "    -2*M_2*c_0 - 2*c_0*y_0*(y_0 - 1) + 2*c_1*(0.5*c_2 - 0.5*y_0)\n",
       "\n",
       "Moment(array([2]), symbol=M_2):\n",
       "    M_2*(-4*c_0*y_0 - 4*c_0*(y_0 - 1) + 4*c_0 - 2.0*c_1) - 4*M_3*c_0 - 4*c_0*y_0**2*(y_0 - 1) + 4*c_0*y_0*(y_0 - 1) + 4*c_1*y_0*(0.5*c_2 - 0.5*y_0) + 4*c_1*(0.5*c_2 - 0.5*y_0) - 2*y_0*(-2*c_0*y_0*(y_0 - 1) + 2*c_1*(0.5*c_2 - 0.5*y_0))\n",
       "\n",
       "Moment(array([3]), symbol=M_3):\n",
       "    M_2*(-30*c_0*y_0**2 - 18*c_0*y_0*(y_0 - 1) + 24*c_0*y_0 + 6*c_0*(M_2 + y_0**2) + 12*c_0*(y_0 - 1) - 8*c_0 - 6.0*c_1*y_0 + 6*c_1*(0.5*c_2 - 0.5*y_0) - 6.0*c_1 - 3*y_0*(-8*c_0*y_0 - 4*c_0*(y_0 - 1) + 4*c_0 - 2.0*c_1)) + M_3*(-6*c_0*y_0 - 6*c_0*(y_0 - 1) + 12*c_0 - 3.0*c_1) - 6*c_0*y_0**3*(y_0 - 1) + 12*c_0*y_0**2*(y_0 - 1) - 8*c_0*y_0*(y_0 - 1) + 6*c_1*y_0**2*(0.5*c_2 - 0.5*y_0) + 12*c_1*y_0*(0.5*c_2 - 0.5*y_0) + 8*c_1*(0.5*c_2 - 0.5*y_0) + 6*y_0**2*(-2*c_0*y_0*(y_0 - 1) + 2*c_1*(0.5*c_2 - 0.5*y_0)) - 3*y_0*(-4*c_0*y_0**2*(y_0 - 1) + 4*c_0*y_0*(y_0 - 1) + 4*c_1*y_0*(0.5*c_2 - 0.5*y_0) + 4*c_1*(0.5*c_2 - 0.5*y_0)) - 3*(M_2 + y_0**2)*(-2*c_0*y_0*(y_0 - 1) + 2*c_1*(0.5*c_2 - 0.5*y_0))"
      ]
     },
     "execution_count": 21,
     "metadata": {},
     "output_type": "execute_result"
    }
   ],
   "source": [
    "ode_problem"
   ]
  },
  {
   "cell_type": "markdown",
   "metadata": {},
   "source": [
    "The list of the terms used is given above the equations along with their descriptions.\n",
    "We use the convention for the first set of ODEs to explicitly model the species concentrations (first-order moments), and then each subsequent ODE is modelling higher order moments. \n",
    "Symbolic notation for moments matches the $M_\\mathbf{n}$ notation used in the paper and describes the moment orders in the sub-index."
   ]
  },
  {
   "cell_type": "markdown",
   "metadata": {},
   "source": [
    "``ODEProblem`` objects offer a convenient way of retrieving the description of a symbol programmatically via the ``descriptor_for_symbol(symbol)`` method, i.e.:"
   ]
  },
  {
   "cell_type": "code",
   "execution_count": 22,
   "metadata": {
    "collapsed": false
   },
   "outputs": [
    {
     "data": {
      "text/latex": [
       "Moment($[1]$, symbol=$y_0$)"
      ],
      "text/plain": [
       "Moment(array([1]), symbol=y_0)"
      ]
     },
     "execution_count": 22,
     "metadata": {},
     "output_type": "execute_result"
    }
   ],
   "source": [
    "ode_problem.descriptor_for_symbol('y_0')"
   ]
  },
  {
   "cell_type": "markdown",
   "metadata": {},
   "source": [
    "We also provide a convenience method for performing this approximation, ``means.mea_approximation``.\n",
    "This method takes exactly the same set of parameters as the ``MomentExpansionApproximation``, creates an instance of it, issues the ``run()`` method and returns the resulting ODE problem back:"
   ]
  },
  {
   "cell_type": "code",
   "execution_count": 23,
   "metadata": {
    "collapsed": false
   },
   "outputs": [],
   "source": [
    "# Returns same set of ODEs as above\n",
    "ode_problem = means.mea_approximation(model, max_order=3) "
   ]
  },
  {
   "cell_type": "markdown",
   "metadata": {},
   "source": [
    "In order to use the probability distributions described above as closure methods, supply additional ``closure`` argument to the function, for instance, closure using ``log-normal`` distribution can be performed as follows:"
   ]
  },
  {
   "cell_type": "code",
   "execution_count": 24,
   "metadata": {
    "collapsed": false
   },
   "outputs": [
    {
     "data": {
      "text/latex": [
       "<h1>ODEProblem</h1>\n",
       "<p>Method: <code>'MEA'</code></p>\n",
       "<p>Parameters: <code>[c_0, c_1, c_2]</code></p>\n",
       "<p>Terms:</p>\n",
       "<ul>\n",
       "<li><code>Moment(array([1]), symbol=y_0)</code></li>\n",
       "<li><code>Moment(array([2]), symbol=M_2)</code></li>\n",
       "<li><code>Moment(array([3]), symbol=M_3)</code></li>\n",
       "</ul>\n",
       "<hr />\n",
       "\\begin{align*}\n",
       "\\dot{y_{0}} &= - 2 M_{2} c_{0} - 2 c_{0} y_{0} \\left(y_{0} - 1\\right) + 2 c_{1} \\left(0.5 c_{2} - 0.5 y_{0}\\right) \\\\\n",
       "\\dot{M_{2}} &= M_{2} \\left(- 4 c_{0} y_{0} - 4 c_{0} \\left(y_{0} - 1\\right) + 4 c_{0} - 2.0 c_{1}\\right) - 4 M_{3} c_{0} - 4 c_{0} y_{0}^{2} \\left(y_{0} - 1\\right) + 4 c_{0} y_{0} \\left(y_{0} - 1\\right) + 4 c_{1} y_{0} \\left(0.5 c_{2} - 0.5 y_{0}\\right) + 4 c_{1} \\left(0.5 c_{2} - 0.5 y_{0}\\right) - 2 y_{0} \\left(- 2 c_{0} y_{0} \\left(y_{0} - 1\\right) + 2 c_{1} \\left(0.5 c_{2} - 0.5 y_{0}\\right)\\right) \\\\\n",
       "\\dot{M_{3}} &= M_{2} \\left(- 30 c_{0} y_{0}^{2} - 18 c_{0} y_{0} \\left(y_{0} - 1\\right) + 24 c_{0} y_{0} + 6 c_{0} \\left(M_{2} + y_{0}^{2}\\right) + 12 c_{0} \\left(y_{0} - 1\\right) - 8 c_{0} - 6.0 c_{1} y_{0} + 6 c_{1} \\left(0.5 c_{2} - 0.5 y_{0}\\right) - 6.0 c_{1} - 3 y_{0} \\left(- 8 c_{0} y_{0} - 4 c_{0} \\left(y_{0} - 1\\right) + 4 c_{0} - 2.0 c_{1}\\right)\\right) + M_{3} \\left(- 6 c_{0} y_{0} - 6 c_{0} \\left(y_{0} - 1\\right) + 12 c_{0} - 3.0 c_{1}\\right) - 6 c_{0} y_{0}^{3} \\left(y_{0} - 1\\right) + 12 c_{0} y_{0}^{2} \\left(y_{0} - 1\\right) - 8 c_{0} y_{0} \\left(y_{0} - 1\\right) - 6 c_{0} \\left(y_{0}^{4} \\left(\\frac{M_{2}}{y_{0}^{2}} + 1\\right)^{6} - 4 y_{0}^{4} \\left(\\frac{M_{2}}{y_{0}^{2}} + 1\\right)^{3} + 6 y_{0}^{4} \\left(\\frac{M_{2}}{y_{0}^{2}} + 1\\right) - 3 y_{0}^{4}\\right) + 6 c_{1} y_{0}^{2} \\left(0.5 c_{2} - 0.5 y_{0}\\right) + 12 c_{1} y_{0} \\left(0.5 c_{2} - 0.5 y_{0}\\right) + 8 c_{1} \\left(0.5 c_{2} - 0.5 y_{0}\\right) + 6 y_{0}^{2} \\left(- 2 c_{0} y_{0} \\left(y_{0} - 1\\right) + 2 c_{1} \\left(0.5 c_{2} - 0.5 y_{0}\\right)\\right) - 3 y_{0} \\left(- 4 c_{0} y_{0}^{2} \\left(y_{0} - 1\\right) + 4 c_{0} y_{0} \\left(y_{0} - 1\\right) + 4 c_{1} y_{0} \\left(0.5 c_{2} - 0.5 y_{0}\\right) + 4 c_{1} \\left(0.5 c_{2} - 0.5 y_{0}\\right)\\right) - 3 \\left(M_{2} + y_{0}^{2}\\right) \\left(- 2 c_{0} y_{0} \\left(y_{0} - 1\\right) + 2 c_{1} \\left(0.5 c_{2} - 0.5 y_{0}\\right)\\right) \\\\\n",
       "\\end{align*}"
      ],
      "text/plain": [
       "<class 'means.core.problems.ODEProblem'>\n",
       "Method: 'MEA'\n",
       "Parameters: [c_0, c_1, c_2]\n",
       "\n",
       "Equations:\n",
       "\n",
       "Moment(array([1]), symbol=y_0):\n",
       "    -2*M_2*c_0 - 2*c_0*y_0*(y_0 - 1) + 2*c_1*(0.5*c_2 - 0.5*y_0)\n",
       "\n",
       "Moment(array([2]), symbol=M_2):\n",
       "    M_2*(-4*c_0*y_0 - 4*c_0*(y_0 - 1) + 4*c_0 - 2.0*c_1) - 4*M_3*c_0 - 4*c_0*y_0**2*(y_0 - 1) + 4*c_0*y_0*(y_0 - 1) + 4*c_1*y_0*(0.5*c_2 - 0.5*y_0) + 4*c_1*(0.5*c_2 - 0.5*y_0) - 2*y_0*(-2*c_0*y_0*(y_0 - 1) + 2*c_1*(0.5*c_2 - 0.5*y_0))\n",
       "\n",
       "Moment(array([3]), symbol=M_3):\n",
       "    M_2*(-30*c_0*y_0**2 - 18*c_0*y_0*(y_0 - 1) + 24*c_0*y_0 + 6*c_0*(M_2 + y_0**2) + 12*c_0*(y_0 - 1) - 8*c_0 - 6.0*c_1*y_0 + 6*c_1*(0.5*c_2 - 0.5*y_0) - 6.0*c_1 - 3*y_0*(-8*c_0*y_0 - 4*c_0*(y_0 - 1) + 4*c_0 - 2.0*c_1)) + M_3*(-6*c_0*y_0 - 6*c_0*(y_0 - 1) + 12*c_0 - 3.0*c_1) - 6*c_0*y_0**3*(y_0 - 1) + 12*c_0*y_0**2*(y_0 - 1) - 8*c_0*y_0*(y_0 - 1) - 6*c_0*(y_0**4*(M_2/y_0**2 + 1)**6 - 4*y_0**4*(M_2/y_0**2 + 1)**3 + 6*y_0**4*(M_2/y_0**2 + 1) - 3*y_0**4) + 6*c_1*y_0**2*(0.5*c_2 - 0.5*y_0) + 12*c_1*y_0*(0.5*c_2 - 0.5*y_0) + 8*c_1*(0.5*c_2 - 0.5*y_0) + 6*y_0**2*(-2*c_0*y_0*(y_0 - 1) + 2*c_1*(0.5*c_2 - 0.5*y_0)) - 3*y_0*(-4*c_0*y_0**2*(y_0 - 1) + 4*c_0*y_0*(y_0 - 1) + 4*c_1*y_0*(0.5*c_2 - 0.5*y_0) + 4*c_1*(0.5*c_2 - 0.5*y_0)) - 3*(M_2 + y_0**2)*(-2*c_0*y_0*(y_0 - 1) + 2*c_1*(0.5*c_2 - 0.5*y_0))"
      ]
     },
     "execution_count": 24,
     "metadata": {},
     "output_type": "execute_result"
    }
   ],
   "source": [
    "ode_problem_log_normal = means.mea_approximation(model, max_order=3, \n",
    "                                                 closure='log-normal')\n",
    "ode_problem_log_normal"
   ]
  },
  {
   "cell_type": "markdown",
   "metadata": {},
   "source": [
    "A keen eyed reader might notice that the ODEs generated using the different closure methods are very different from each other."
   ]
  },
  {
   "cell_type": "markdown",
   "metadata": {},
   "source": [
    "Each of the probabilistic distribution closures exist in both multivariate and univariate forms. \n",
    "By default, these distributions are assumed to be multivariate. In case, univariate distributions are desired, the parameter ``multivariate=False`` can be passed to the closure function.\n",
    "Essentially this parameter would set all the covariances to zero. \n",
    "For single species models, such as this one, this parameter makes no difference."
   ]
  },
  {
   "cell_type": "markdown",
   "metadata": {},
   "source": [
    "Gamma closure distribution is a bit different from the others as it has three forms: type 0, 1 and 2. \n",
    "Type zero is equivalent to univariate gamma, while type 1 and 2 are two different forms of multivariate Gamma distribution.\n",
    "Please consult the documentation and accompanying papers for explanation on these differences."
   ]
  },
  {
   "cell_type": "markdown",
   "metadata": {},
   "source": [
    "## Linear Noise Approximation"
   ]
  },
  {
   "cell_type": "markdown",
   "metadata": {},
   "source": [
    "Linear Noise Approximation (or LNA, for short) is an alternative method to generate the system of ODEs approximating the stochastic dynamics.\n",
    "It calculates the deterministic macroscopic rate and linear Fokker-Planck equations for the fluctuations around the steady state.\n",
    "\n",
    "It evaluates the deterministic rate and noise based only on mean, variance and covariance. \n",
    "Therefore, the number of resulting ODEs is equivalent to the number of ODEs obtained from MEA closed at second-order moments.\n",
    "\n",
    "We provide a ``LinearNoiseApproximation`` class that works similarly to the ``MomentExpansionApproximation`` class described earlier, as well as a convenience method ``lna_approximation`` that is equivalent to the ``mea_approximation`` used a couple of times in this tutorial already.\n",
    "\n",
    "As opposed to MEA described earlier, LNA is parameterless and only needs the model as input:"
   ]
  },
  {
   "cell_type": "code",
   "execution_count": 25,
   "metadata": {
    "collapsed": false
   },
   "outputs": [],
   "source": [
    "ode_problem_lna = means.lna_approximation(model)"
   ]
  },
  {
   "cell_type": "markdown",
   "metadata": {},
   "source": [
    "The resulting set of ODEs returned is structurally equivalent to the one returned by MEA expansion, and can be viewed in the same fashion:"
   ]
  },
  {
   "cell_type": "code",
   "execution_count": 26,
   "metadata": {
    "collapsed": false
   },
   "outputs": [
    {
     "data": {
      "text/latex": [
       "<h1>ODEProblem</h1>\n",
       "<p>Method: <code>'LNA'</code></p>\n",
       "<p>Parameters: <code>[c_0, c_1, c_2]</code></p>\n",
       "<p>Terms:</p>\n",
       "<ul>\n",
       "<li><code>Moment(array([1]), symbol=y_0)</code></li>\n",
       "<li><code>VarianceTerm(position(0, 0), symbol=V_0_0)</code></li>\n",
       "</ul>\n",
       "<hr />\n",
       "\\begin{align*}\n",
       "\\dot{y_{0}} &= - 2 c_{0} y_{0} \\left(y_{0} - 1\\right) + 2 c_{1} \\left(0.5 c_{2} - 0.5 y_{0}\\right) \\\\\n",
       "\\dot{V_{0 0}} &= 2 V_{0 0} \\left(- 2 c_{0} y_{0} - 2 c_{0} \\left(y_{0} - 1\\right) - 1.0 c_{1}\\right) + 4 c_{0} y_{0} \\left(y_{0} - 1\\right) + 4 c_{1} \\left(0.5 c_{2} - 0.5 y_{0}\\right) \\\\\n",
       "\\end{align*}"
      ],
      "text/plain": [
       "<class 'means.core.problems.ODEProblem'>\n",
       "Method: 'LNA'\n",
       "Parameters: [c_0, c_1, c_2]\n",
       "\n",
       "Equations:\n",
       "\n",
       "Moment(array([1]), symbol=y_0):\n",
       "    -2*c_0*y_0*(y_0 - 1) + 2*c_1*(0.5*c_2 - 0.5*y_0)\n",
       "\n",
       "VarianceTerm(position(0, 0), symbol=V_0_0):\n",
       "    2*V_0_0*(-2*c_0*y_0 - 2*c_0*(y_0 - 1) - 1.0*c_1) + 4*c_0*y_0*(y_0 - 1) + 4*c_1*(0.5*c_2 - 0.5*y_0)"
      ]
     },
     "execution_count": 26,
     "metadata": {},
     "output_type": "execute_result"
    }
   ],
   "source": [
    "ode_problem_lna"
   ]
  },
  {
   "cell_type": "markdown",
   "metadata": {},
   "source": [
    "The major difference is that MEA returns ``VarianceTerm`` objects instead of second-order moments, \n",
    "that match the notation used for variance, with indices specifying the position in the covariance matrix."
   ]
  },
  {
   "cell_type": "markdown",
   "metadata": {},
   "source": [
    "Besides this difference, the ``ODEProblem`` objects generated from MEA and LNA are interchangeable, and the subsequent steps described in following tutorials are able to support both of them."
   ]
  },
  {
   "cell_type": "markdown",
   "metadata": {},
   "source": [
    "In the next tutorial we use these ``ODEProblem`` objects to simulate the behaviour of the systems."
   ]
  }
 ],
 "metadata": {
  "kernelspec": {
   "display_name": "Python 2",
   "language": "python",
   "name": "python2"
  },
  "language_info": {
   "codemirror_mode": {
    "name": "ipython",
    "version": 2
   },
   "file_extension": ".py",
   "mimetype": "text/x-python",
   "name": "python",
   "nbconvert_exporter": "python",
   "pygments_lexer": "ipython2",
   "version": "2.7.10"
  }
 },
 "nbformat": 4,
 "nbformat_minor": 0
}

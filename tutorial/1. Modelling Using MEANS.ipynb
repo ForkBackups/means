{
 "cells": [
  {
   "cell_type": "code",
   "execution_count": 1,
   "metadata": {
    "collapsed": false
   },
   "outputs": [
    {
     "name": "stdout",
     "output_type": "stream",
     "text": [
      "Populating the interactive namespace from numpy and matplotlib\n"
     ]
    }
   ],
   "source": [
    "%pylab inline"
   ]
  },
  {
   "cell_type": "markdown",
   "metadata": {},
   "source": [
    "# Modelling using MEANS"
   ]
  },
  {
   "cell_type": "markdown",
   "metadata": {},
   "source": [
    "This tutorial describes a way biological systems could be modelled using `MEANS` package."
   ]
  },
  {
   "cell_type": "markdown",
   "metadata": {},
   "source": [
    "In this example we will consider a simplified version of tumor-supressor protein *p53* system.\n",
    "This system models three proteins: *p53*, *Mdm2 precursor* and *Mdm2* and their interactions.\n",
    "\n",
    "A short schematic of this system is provided below:\n",
    "\n",
    "![A short schematic describing p53 system](p53.svg) \n",
    "\n",
    "Typically the system is described by the following set of equations:"
   ]
  },
  {
   "cell_type": "markdown",
   "metadata": {},
   "source": [
    "$$\n",
    "\\begin{aligned}\n",
    "\\text{p53 production} && \\emptyset\\rightarrow p53 \\\\\n",
    "\\text{Mdm2 independent p53 degradation} && p53 \\rightarrow \\emptyset \\\\\n",
    "\\text{Mdm2 dependent p53 degradation} && Mdm2 + p53 \\rightarrow Mdm2 \\\\\n",
    "\\text{p53 dependent Mdm2 production} && p53 + Mdm2_{precursor} \\rightarrow p53 + Mdm2 \\\\\n",
    "\\text{Mdm2 synthesis from precursor} && Mdm2_{precursor} \\rightarrow Mdm2 \\\\\n",
    "\\text{Mdm2 degradation} && Mdm2 \\rightarrow \\emptyset \\\\\n",
    "\\end{aligned}\n",
    "$$"
   ]
  },
  {
   "cell_type": "markdown",
   "metadata": {},
   "source": [
    "In this tutorial we alias the protein $p53$, $Mdm2_{precursor}$ and $Mdm2$ names with $y_0$, $y_1$ and $y_2$, respectively. \n",
    "We do this purely for notational convenience, to keep the equations light, and is not strictly necessary, as the actual names of proteins can be used in the models directly."
   ]
  },
  {
   "cell_type": "markdown",
   "metadata": {},
   "source": [
    "In python, this can be done by building a list of  ``sympy`` symbols with our species names:"
   ]
  },
  {
   "cell_type": "code",
   "execution_count": 2,
   "metadata": {
    "collapsed": false
   },
   "outputs": [
    {
     "name": "stdout",
     "output_type": "stream",
     "text": [
      "[y_0, y_1, y_2]\n"
     ]
    }
   ],
   "source": [
    "import sympy\n",
    "species = sympy.symbols(['y_0', 'y_1', 'y_2'])\n",
    "print species"
   ]
  },
  {
   "cell_type": "markdown",
   "metadata": {},
   "source": [
    "From the reactions above, we can directly derive the <a href=\"http://en.wikipedia.org/wiki/Stoichiometry#Stoichiometry_matrix\">stoichiometry matrix</a>:\n",
    "\n",
    "$$\n",
    "S = \\left( \\begin{array}{cccccc}\n",
    "+1 & -1 & -1 & 0 & 0 & 0\\\\\n",
    "0 & 0 & 0 & +1 & -1 & 0\\\\\n",
    "0 & 0 & 0 & 0 & +1 & -1 \\end{array} \\right)\n",
    "$$\n",
    "\n",
    "We can use ``numpy`` ``array`` to encode this matrix in python, for example:"
   ]
  },
  {
   "cell_type": "code",
   "execution_count": 3,
   "metadata": {
    "collapsed": false
   },
   "outputs": [
    {
     "name": "stdout",
     "output_type": "stream",
     "text": [
      "[[ 1 -1 -1  0  0  0]\n",
      " [ 0  0  0  1 -1  0]\n",
      " [ 0  0  0  0  1 -1]]\n"
     ]
    }
   ],
   "source": [
    "import numpy as np\n",
    "stoichiometry_matrix = np.array([[1, -1, -1, 0, 0, 0],\n",
    "                                  [0, 0, 0, 1, -1, 0],\n",
    "                                  [0, 0, 0, 0, 1, -1]])\n",
    "print stoichiometry_matrix"
   ]
  },
  {
   "cell_type": "markdown",
   "metadata": {},
   "source": [
    "In addition to the stoichiometry matrix, which only gives the net production of species in each reaction, the propensities need to be defined for each reactions. Importantly, **stochastic** propensities (as opposed to deterministic rates) must be provided."
   ]
  },
  {
   "cell_type": "markdown",
   "metadata": {},
   "source": [
    "Using this notation, the propensities of the $p53$ model are:\n",
    "    \n",
    "$$\n",
    "\\begin{aligned}\n",
    "a_0 &= c_0 \\\\\n",
    "a_1 &= c_1 y_0\\\\\n",
    "a_2 &= \\frac{c_2 y_2 y_0}{(y_0+c_6)}\\\\\n",
    "a_3 &= c_3 y_0\\\\\n",
    "a_4 &= c_4 y_1\\\\\n",
    "a_5 &= c_5 y_2\\\\\n",
    "\\end{aligned}\n",
    "$$\n",
    "\n",
    "where: \n",
    "\n",
    "* $c_0$ is the *p53* production rate,\n",
    "* $c_1$ is the *Mdm2*-independent *p53* degradation rate,\n",
    "* $c_2$ is the saturation *p53* degradation rate\n",
    "* $c_3$ is the *p53*-dependent *Mdm2* production rate,\n",
    "* $c_4$ is the *Mdm2* maturation rate,\n",
    "* $c_5$ is the *Mdm2* degradation rate.     \n",
    "* $c_6$ is the threshold for degradation by *Mdm2*.\n"
   ]
  },
  {
   "cell_type": "markdown",
   "metadata": {},
   "source": [
    "In Python, we need to explicitly write down the constant parameters of the model using `sympy` package:"
   ]
  },
  {
   "cell_type": "code",
   "execution_count": 4,
   "metadata": {
    "collapsed": false
   },
   "outputs": [
    {
     "name": "stdout",
     "output_type": "stream",
     "text": [
      "[c_0, c_1, c_2, c_3, c_4, c_5, c_6]\n"
     ]
    }
   ],
   "source": [
    "parameters = sympy.symbols(['c_0', 'c_1', 'c_2', 'c_3', 'c_4', 'c_5', 'c_6'])\n",
    "print parameters"
   ]
  },
  {
   "cell_type": "markdown",
   "metadata": {},
   "source": [
    "We can now describe the actual propensities as python objects.\n",
    "To do this, we drop the left-hand-side of equations ($a_0$, ..., $a_5$) and create a python list (or, alternatively, a ``sympy.Matrix``) of the right-hand-sides:"
   ]
  },
  {
   "cell_type": "code",
   "execution_count": 5,
   "metadata": {
    "collapsed": false
   },
   "outputs": [
    {
     "name": "stdout",
     "output_type": "stream",
     "text": [
      "['c_0', 'c_1*y_0', 'c_2*y_2*y_0/(y_0+c_6)', 'c_3*y_0', 'c_4*y_1', 'c_5*y_2']\n"
     ]
    }
   ],
   "source": [
    "propensities=['c_0',\n",
    "              'c_1*y_0',\n",
    "              'c_2*y_2*y_0/(y_0+c_6)',\n",
    "              'c_3*y_0',\n",
    "              'c_4*y_1',\n",
    "              'c_5*y_2']\n",
    "print propensities"
   ]
  },
  {
   "cell_type": "markdown",
   "metadata": {},
   "source": [
    "Note that we just used a list of strings as our propensities above.\n",
    "In most cases `MEANS` would be able to convert the string representation into an object of the right kind, so one does not need to explicitly worry about that.\n",
    "\n",
    "The propensities were the final objects we need to describe in order to be able to create a `MEANS` model object."
   ]
  },
  {
   "cell_type": "markdown",
   "metadata": {},
   "source": [
    "But before we do so, we need to the `MEANS` package first:"
   ]
  },
  {
   "cell_type": "code",
   "execution_count": 6,
   "metadata": {
    "collapsed": false
   },
   "outputs": [],
   "source": [
    "import means"
   ]
  },
  {
   "cell_type": "markdown",
   "metadata": {},
   "source": [
    "The ``means.Model`` constructor takes the list of species, the list of parameters, the propensities and the stoichiometry matrix in that order."
   ]
  },
  {
   "cell_type": "code",
   "execution_count": 7,
   "metadata": {
    "collapsed": false
   },
   "outputs": [],
   "source": [
    "my_model = means.Model(species, parameters, propensities, stoichiometry_matrix)"
   ]
  },
  {
   "cell_type": "markdown",
   "metadata": {},
   "source": [
    "The model created should be the same as described earlier:"
   ]
  },
  {
   "cell_type": "code",
   "execution_count": 8,
   "metadata": {
    "collapsed": false
   },
   "outputs": [
    {
     "data": {
      "text/latex": [
       "\\begin{align*}\n",
       "\\text{Species} &= \\left [ y_{0}, \\quad y_{1}, \\quad y_{2}\\right ] \\\\\n",
       "\\text{Parameters} &= \\left [ c_{0}, \\quad c_{1}, \\quad c_{2}, \\quad c_{3}, \\quad c_{4}, \\quad c_{5}, \\quad c_{6}\\right ] \\\\\n",
       "\\text{Stoichiometry matrix} &= \\left[\\begin{matrix}1 & -1 & -1 & 0 & 0 & 0\\\\0 & 0 & 0 & 1 & -1 & 0\\\\0 & 0 & 0 & 0 & 1 & -1\\end{matrix}\\right] \\\\\n",
       "\\text{Propensities} &= \\left[\\begin{matrix}c_{0}\\\\c_{1} y_{0}\\\\\\frac{c_{2} y_{0} y_{2}}{c_{6} + y_{0}}\\\\c_{3} y_{0}\\\\c_{4} y_{1}\\\\c_{5} y_{2}\\end{matrix}\\right] \\\\\n",
       "\\end{align*}"
      ],
      "text/plain": [
       "<class 'means.core.model.Model'>\n",
       "Species: [y_0, y_1, y_2]\n",
       "Parameters: [c_0, c_1, c_2, c_3, c_4, c_5, c_6]\n",
       "\n",
       "Stoichiometry matrix:\n",
       "Matrix([\n",
       "[1, -1, -1, 0,  0,  0],\n",
       "[0,  0,  0, 1, -1,  0],\n",
       "[0,  0,  0, 0,  1, -1]])\n",
       "\n",
       "Propensities:\n",
       "Matrix([\n",
       "[                    c_0],\n",
       "[                c_1*y_0],\n",
       "[c_2*y_0*y_2/(c_6 + y_0)],\n",
       "[                c_3*y_0],\n",
       "[                c_4*y_1],\n",
       "[                c_5*y_2]])"
      ]
     },
     "execution_count": 8,
     "metadata": {},
     "output_type": "execute_result"
    }
   ],
   "source": [
    "my_model"
   ]
  },
  {
   "cell_type": "markdown",
   "metadata": {},
   "source": [
    "In addition to the $\\LaTeX$ rendering, which is the default in the IPython environment,\n",
    "pythonic representation of model can be displayed using ``print``."
   ]
  },
  {
   "cell_type": "code",
   "execution_count": 9,
   "metadata": {
    "collapsed": false
   },
   "outputs": [
    {
     "name": "stdout",
     "output_type": "stream",
     "text": [
      "<class 'means.core.model.Model'>\n",
      "Species: [y_0, y_1, y_2]\n",
      "Parameters: [c_0, c_1, c_2, c_3, c_4, c_5, c_6]\n",
      "\n",
      "Stoichiometry matrix:\n",
      "Matrix([\n",
      "[1, -1, -1, 0,  0,  0],\n",
      "[0,  0,  0, 1, -1,  0],\n",
      "[0,  0,  0, 0,  1, -1]])\n",
      "\n",
      "Propensities:\n",
      "Matrix([\n",
      "[                    c_0],\n",
      "[                c_1*y_0],\n",
      "[c_2*y_0*y_2/(c_6 + y_0)],\n",
      "[                c_3*y_0],\n",
      "[                c_4*y_1],\n",
      "[                c_5*y_2]])\n"
     ]
    }
   ],
   "source": [
    "print my_model"
   ]
  },
  {
   "cell_type": "markdown",
   "metadata": {},
   "source": [
    "The attributes for each of the elements in the model can be accessed directly, but are read-only:"
   ]
  },
  {
   "cell_type": "code",
   "execution_count": 10,
   "metadata": {
    "collapsed": false
   },
   "outputs": [
    {
     "name": "stdout",
     "output_type": "stream",
     "text": [
      "[y_0, y_1, y_2]\n",
      "[c_0, c_1, c_2, c_3, c_4, c_5, c_6]\n",
      "Matrix([[1, -1, -1, 0, 0, 0], [0, 0, 0, 1, -1, 0], [0, 0, 0, 0, 1, -1]])\n",
      "Matrix([[c_0], [c_1*y_0], [c_2*y_0*y_2/(c_6 + y_0)], [c_3*y_0], [c_4*y_1], [c_5*y_2]])\n"
     ]
    }
   ],
   "source": [
    "print my_model.species\n",
    "print my_model.parameters\n",
    "print my_model.stoichiometry_matrix\n",
    "print my_model.propensities"
   ]
  },
  {
   "cell_type": "markdown",
   "metadata": {},
   "source": [
    "## Example Models in Means"
   ]
  },
  {
   "cell_type": "markdown",
   "metadata": {},
   "source": [
    "`MEANS` already package provides a few sample models:\n",
    "\n",
    "* `MODEL_DIMERISATION`, \n",
    "* `MODEL_MICHAELIS_MENTEN`, \n",
    "* `MODEL_P53`\n",
    "* `MODEL_HES1`,\n",
    "* `MODEL_LOTKA_VOLTERRA`. \n",
    "\n",
    "These models can be accesseed from `examples` submodule. Let's use `MODEL_LOTKA_VOLTERRA` as an example."
   ]
  },
  {
   "cell_type": "code",
   "execution_count": 11,
   "metadata": {
    "collapsed": false
   },
   "outputs": [
    {
     "name": "stdout",
     "output_type": "stream",
     "text": [
      "<class 'means.core.model.Model'>\n",
      "Species: [Pred, Prey]\n",
      "Parameters: [k_1, k_2, k_3]\n",
      "\n",
      "Stoichiometry matrix:\n",
      "Matrix([\n",
      "[0,  1, -1],\n",
      "[1, -1,  0]])\n",
      "\n",
      "Propensities:\n",
      "Matrix([\n",
      "[     Prey*k_1],\n",
      "[Pred*Prey*k_2],\n",
      "[     Pred*k_3]])\n"
     ]
    }
   ],
   "source": [
    "from means.examples.sample_models import MODEL_LOTKA_VOLTERRA\n",
    "print MODEL_LOTKA_VOLTERRA"
   ]
  },
  {
   "cell_type": "markdown",
   "metadata": {},
   "source": [
    "As noted above, the names of the species may not necessarily be mathematical symbols: $y_0$, $y_1$.\n",
    "In the Lotka-Volterra model, for instance, we use shortenings of the actual names of the species (*Predator* and *Prey*)."
   ]
  },
  {
   "cell_type": "markdown",
   "metadata": {},
   "source": [
    "### Reading Models From Files"
   ]
  },
  {
   "cell_type": "markdown",
   "metadata": {},
   "source": [
    "``MEANS`` models can be saved to file and read from it with the help of ``means.io`` package. \n",
    "This package provides methods ``to_file`` and ``from_file`` that can read arbitrary python objects from files,\n",
    "as long as they were serialised in YAML format.\n",
    "Similarly, `Model` class itself has a ``to_file()`` and ``from_file()`` methods designed to help you with these tasks.\n",
    "\n",
    "We took great care of making `Model` objects cleanly serialisable with YAML into human-readable fashion.\n",
    "\n",
    "Please find a demonstration below:"
   ]
  },
  {
   "cell_type": "markdown",
   "metadata": {},
   "source": [
    "Let's save `my_model` to file:"
   ]
  },
  {
   "cell_type": "code",
   "execution_count": 12,
   "metadata": {
    "collapsed": false
   },
   "outputs": [],
   "source": [
    "my_model.to_file('my_model.model')"
   ]
  },
  {
   "cell_type": "markdown",
   "metadata": {},
   "source": [
    "Let's print the contents of this newly-created file:"
   ]
  },
  {
   "cell_type": "code",
   "execution_count": 13,
   "metadata": {
    "collapsed": false
   },
   "outputs": [
    {
     "name": "stdout",
     "output_type": "stream",
     "text": [
      "!model\n",
      "species: [y_0, y_1, y_2]\n",
      "parameters: [c_0, c_1, c_2, c_3, c_4, c_5, c_6]\n",
      "stoichiometry_matrix:\n",
      "- [1, -1, -1, 0, 0, 0]\n",
      "- [0, 0, 0, 1, -1, 0]\n",
      "- [0, 0, 0, 0, 1, -1]\n",
      "propensities: [c_0, c_1*y_0, c_2*y_0*y_2/(c_6 + y_0), c_3*y_0, c_4*y_1, c_5*y_2]\n",
      "\n"
     ]
    }
   ],
   "source": [
    "with open('my_model.model') as f:\n",
    "    print f.read()"
   ]
  },
  {
   "cell_type": "markdown",
   "metadata": {},
   "source": [
    "One can se how easy to read this serialisation form is.\n",
    "\n",
    "This form is also machine-readable, and we can indeed read the model object back from this file easily:"
   ]
  },
  {
   "cell_type": "code",
   "execution_count": 14,
   "metadata": {
    "collapsed": false
   },
   "outputs": [
    {
     "data": {
      "text/latex": [
       "\\begin{align*}\n",
       "\\text{Species} &= \\left [ y_{0}, \\quad y_{1}, \\quad y_{2}\\right ] \\\\\n",
       "\\text{Parameters} &= \\left [ c_{0}, \\quad c_{1}, \\quad c_{2}, \\quad c_{3}, \\quad c_{4}, \\quad c_{5}, \\quad c_{6}\\right ] \\\\\n",
       "\\text{Stoichiometry matrix} &= \\left[\\begin{matrix}1 & -1 & -1 & 0 & 0 & 0\\\\0 & 0 & 0 & 1 & -1 & 0\\\\0 & 0 & 0 & 0 & 1 & -1\\end{matrix}\\right] \\\\\n",
       "\\text{Propensities} &= \\left[\\begin{matrix}c_{0}\\\\c_{1} y_{0}\\\\\\frac{c_{2} y_{0} y_{2}}{c_{6} + y_{0}}\\\\c_{3} y_{0}\\\\c_{4} y_{1}\\\\c_{5} y_{2}\\end{matrix}\\right] \\\\\n",
       "\\end{align*}"
      ],
      "text/plain": [
       "<class 'means.core.model.Model'>\n",
       "Species: [y_0, y_1, y_2]\n",
       "Parameters: [c_0, c_1, c_2, c_3, c_4, c_5, c_6]\n",
       "\n",
       "Stoichiometry matrix:\n",
       "Matrix([\n",
       "[1, -1, -1, 0,  0,  0],\n",
       "[0,  0,  0, 1, -1,  0],\n",
       "[0,  0,  0, 0,  1, -1]])\n",
       "\n",
       "Propensities:\n",
       "Matrix([\n",
       "[                    c_0],\n",
       "[                c_1*y_0],\n",
       "[c_2*y_0*y_2/(c_6 + y_0)],\n",
       "[                c_3*y_0],\n",
       "[                c_4*y_1],\n",
       "[                c_5*y_2]])"
      ]
     },
     "execution_count": 14,
     "metadata": {},
     "output_type": "execute_result"
    }
   ],
   "source": [
    "my_model_new = means.Model.from_file('my_model.model')\n",
    "my_model_new"
   ]
  },
  {
   "cell_type": "markdown",
   "metadata": {},
   "source": [
    "Which is the same model we used previously.\n",
    "\n",
    "Let's delete this file we used to illustrate this:"
   ]
  },
  {
   "cell_type": "code",
   "execution_count": 15,
   "metadata": {
    "collapsed": false
   },
   "outputs": [],
   "source": [
    "import os\n",
    "os.unlink('my_model.model')"
   ]
  },
  {
   "cell_type": "markdown",
   "metadata": {},
   "source": [
    "#### SBML Support (**requires SBML library installed on your machine**)"
   ]
  },
  {
   "cell_type": "markdown",
   "metadata": {},
   "source": [
    "More complicated biological models can be parsed from SBML files. \n",
    "\n",
    "[Biomodels repository](http://www.ebi.ac.uk/biomodels-main/) hosts a large number of published biological models.\n",
    "\n",
    "\n",
    "Consider the Tutorial 1a. SBML Parsing Example for more information on how to download SBML models using MEANS."
   ]
  },
  {
   "cell_type": "markdown",
   "metadata": {},
   "source": [
    "# Modelling Stochastic Dynamics"
   ]
  },
  {
   "cell_type": "markdown",
   "metadata": {},
   "source": [
    "Creating models is nice and fun, however, what we are really interested in is the ability to study them."
   ]
  },
  {
   "cell_type": "markdown",
   "metadata": {},
   "source": [
    "## Moment Expansion Approximation"
   ]
  },
  {
   "cell_type": "markdown",
   "metadata": {},
   "source": [
    "In their [2013 paper](http://scitation.aip.org/content/aip/journal/jcp/138/17/10.1063/1.4802475),\n",
    "Ale *et al.* describe a Moment Expansion Approximation method for studying the moments of stochastic distributions.\n",
    "\n",
    "This method, shortened as MEA, approximate the solution for chemical master equation by a system of ODEs.\n",
    "The algorithm performs a set of moment expansions and returns as a set of ODEs,\n",
    "each one representing the time derivative of all approximated moments (mixed and non-mixed).\n",
    "\n",
    "Without going into much mathematical detail, the moment expansions are essentially infinite.\n",
    "In order to make the problem computable, the approximation needs to be stop at some higher order moment, or in other words, needs to be closed at that moment.\n",
    "\n",
    "Typically, the moments higher than the maximum specified moment are assumed to be equal to a constant scalar value (most often 0).\n",
    "We call this type of moment closure ``scalar`` in our package. This is where the \"approximation\" in Moment Expansion Approximation occurs.\n",
    "\n",
    "Besides the standard assumption of ``scalar`` value for higher order moments,\n",
    "we could replace them with the expressions derived from specific probability distributions.\n",
    "Currently our package supports ``normal``, ``log-normal`` and ``gamma`` distributions to close the higher order moments."
   ]
  },
  {
   "cell_type": "markdown",
   "metadata": {},
   "source": [
    "The MEA moment closure is implemented by the ``MomentExpansionApproximation`` class in the ``means.approximation.mea`` package, this class can be used explicitly to generate the set of ODEs from a given model.\n",
    "Before we show how to use it, let's set up our workspace:"
   ]
  },
  {
   "cell_type": "code",
   "execution_count": 16,
   "metadata": {
    "collapsed": false
   },
   "outputs": [],
   "source": [
    "import means\n",
    "import means.examples\n",
    "\n",
    "# Use dimerisation example model for this, due to the relative simplicity of it\n",
    "model = means.examples.MODEL_DIMERISATION"
   ]
  },
  {
   "cell_type": "code",
   "execution_count": 17,
   "metadata": {
    "collapsed": false
   },
   "outputs": [
    {
     "data": {
      "text/latex": [
       "\\begin{align*}\n",
       "\\text{Species} &= \\left [ y_{0}\\right ] \\\\\n",
       "\\text{Parameters} &= \\left [ c_{0}, \\quad c_{1}, \\quad c_{2}\\right ] \\\\\n",
       "\\text{Stoichiometry matrix} &= \\left[\\begin{matrix}-2 & 2\\end{matrix}\\right] \\\\\n",
       "\\text{Propensities} &= \\left[\\begin{matrix}c_{0} y_{0} \\left(y_{0} - 1\\right)\\\\c_{1} \\left(0.5 c_{2} - 0.5 y_{0}\\right)\\end{matrix}\\right] \\\\\n",
       "\\end{align*}"
      ],
      "text/plain": [
       "<class 'means.core.model.Model'>\n",
       "Species: [y_0]\n",
       "Parameters: [c_0, c_1, c_2]\n",
       "\n",
       "Stoichiometry matrix:\n",
       "Matrix([[-2, 2]])\n",
       "\n",
       "Propensities:\n",
       "Matrix([\n",
       "[      c_0*y_0*(y_0 - 1)],\n",
       "[c_1*(0.5*c_2 - 0.5*y_0)]])"
      ]
     },
     "execution_count": 17,
     "metadata": {},
     "output_type": "execute_result"
    }
   ],
   "source": [
    "model"
   ]
  },
  {
   "cell_type": "markdown",
   "metadata": {},
   "source": [
    "To use this class, first instantiate it with appropriate model and max_order parameters:"
   ]
  },
  {
   "cell_type": "code",
   "execution_count": 18,
   "metadata": {
    "collapsed": false
   },
   "outputs": [],
   "source": [
    "mea = means.MomentExpansionApproximation(model, max_order=3)"
   ]
  },
  {
   "cell_type": "markdown",
   "metadata": {},
   "source": [
    "Here we specify the system that we want to perform Moment Expansion Approximation \n",
    "for moments up to order three for the model defined above. \n",
    "Note that default closure method is always the scalar closure (*i.e.* assuming higher order values to be zero).\n",
    "\n",
    "After defining the approximation, we need to perform it. This is done by calling the ``.run()`` method of this class instance, and it returns an ``ODEProblem`` object, which is essentially a collection of ordinary differential equations."
   ]
  },
  {
   "cell_type": "code",
   "execution_count": 19,
   "metadata": {
    "collapsed": false
   },
   "outputs": [],
   "source": [
    "ode_problem = mea.run()"
   ]
  },
  {
   "cell_type": "markdown",
   "metadata": {},
   "source": [
    "If you are viewing this in an interactive environment, such as IPython notebook, \n",
    "you can view the ode_problem results formatted in $\\LaTeX$ notation by just outputting it from a cell:"
   ]
  },
  {
   "cell_type": "code",
   "execution_count": 20,
   "metadata": {
    "collapsed": false
   },
   "outputs": [
    {
     "data": {
      "text/latex": [
       "<h1>ODEProblem</h1>\n",
       "<p>Method: <code>'MEA'</code></p>\n",
       "<p>Parameters: <code>[c_0, c_1, c_2]</code></p>\n",
       "<p>Terms:</p>\n",
       "<ul>\n",
       "<li><code>Moment(array([1]), symbol=y_0)</code></li>\n",
       "<li><code>Moment(array([2]), symbol=M_2)</code></li>\n",
       "<li><code>Moment(array([3]), symbol=M_3)</code></li>\n",
       "</ul>\n",
       "<hr />\n",
       "\\begin{align*}\n",
       "\\dot{y_{0}} &= - 2 M_{2} c_{0} - 2 c_{0} y_{0} \\left(y_{0} - 1\\right) + 2 c_{1} \\left(0.5 c_{2} - 0.5 y_{0}\\right) \\\\\n",
       "\\dot{M_{2}} &= M_{2} \\left(- 4 c_{0} y_{0} - 4 c_{0} \\left(y_{0} - 1\\right) + 4 c_{0} - 2.0 c_{1}\\right) - 4 M_{3} c_{0} - 4 c_{0} y_{0}^{2} \\left(y_{0} - 1\\right) + 4 c_{0} y_{0} \\left(y_{0} - 1\\right) + 4 c_{1} y_{0} \\left(0.5 c_{2} - 0.5 y_{0}\\right) + 4 c_{1} \\left(0.5 c_{2} - 0.5 y_{0}\\right) - 2 y_{0} \\left(- 2 c_{0} y_{0} \\left(y_{0} - 1\\right) + 2 c_{1} \\left(0.5 c_{2} - 0.5 y_{0}\\right)\\right) \\\\\n",
       "\\dot{M_{3}} &= M_{2} \\left(- 30 c_{0} y_{0}^{2} - 18 c_{0} y_{0} \\left(y_{0} - 1\\right) + 24 c_{0} y_{0} + 6 c_{0} \\left(M_{2} + y_{0}^{2}\\right) + 12 c_{0} \\left(y_{0} - 1\\right) - 8 c_{0} - 6.0 c_{1} y_{0} + 6 c_{1} \\left(0.5 c_{2} - 0.5 y_{0}\\right) - 6.0 c_{1} - 3 y_{0} \\left(- 8 c_{0} y_{0} - 4 c_{0} \\left(y_{0} - 1\\right) + 4 c_{0} - 2.0 c_{1}\\right)\\right) + M_{3} \\left(- 6 c_{0} y_{0} - 6 c_{0} \\left(y_{0} - 1\\right) + 12 c_{0} - 3.0 c_{1}\\right) - 6 c_{0} y_{0}^{3} \\left(y_{0} - 1\\right) + 12 c_{0} y_{0}^{2} \\left(y_{0} - 1\\right) - 8 c_{0} y_{0} \\left(y_{0} - 1\\right) + 6 c_{1} y_{0}^{2} \\left(0.5 c_{2} - 0.5 y_{0}\\right) + 12 c_{1} y_{0} \\left(0.5 c_{2} - 0.5 y_{0}\\right) + 8 c_{1} \\left(0.5 c_{2} - 0.5 y_{0}\\right) + 6 y_{0}^{2} \\left(- 2 c_{0} y_{0} \\left(y_{0} - 1\\right) + 2 c_{1} \\left(0.5 c_{2} - 0.5 y_{0}\\right)\\right) - 3 y_{0} \\left(- 4 c_{0} y_{0}^{2} \\left(y_{0} - 1\\right) + 4 c_{0} y_{0} \\left(y_{0} - 1\\right) + 4 c_{1} y_{0} \\left(0.5 c_{2} - 0.5 y_{0}\\right) + 4 c_{1} \\left(0.5 c_{2} - 0.5 y_{0}\\right)\\right) - 3 \\left(M_{2} + y_{0}^{2}\\right) \\left(- 2 c_{0} y_{0} \\left(y_{0} - 1\\right) + 2 c_{1} \\left(0.5 c_{2} - 0.5 y_{0}\\right)\\right) \\\\\n",
       "\\end{align*}"
      ],
      "text/plain": [
       "<class 'means.core.problems.ODEProblem'>\n",
       "Method: 'MEA'\n",
       "Parameters: [c_0, c_1, c_2]\n",
       "\n",
       "Equations:\n",
       "\n",
       "Moment(array([1]), symbol=y_0):\n",
       "    -2*M_2*c_0 - 2*c_0*y_0*(y_0 - 1) + 2*c_1*(0.5*c_2 - 0.5*y_0)\n",
       "\n",
       "Moment(array([2]), symbol=M_2):\n",
       "    M_2*(-4*c_0*y_0 - 4*c_0*(y_0 - 1) + 4*c_0 - 2.0*c_1) - 4*M_3*c_0 - 4*c_0*y_0**2*(y_0 - 1) + 4*c_0*y_0*(y_0 - 1) + 4*c_1*y_0*(0.5*c_2 - 0.5*y_0) + 4*c_1*(0.5*c_2 - 0.5*y_0) - 2*y_0*(-2*c_0*y_0*(y_0 - 1) + 2*c_1*(0.5*c_2 - 0.5*y_0))\n",
       "\n",
       "Moment(array([3]), symbol=M_3):\n",
       "    M_2*(-30*c_0*y_0**2 - 18*c_0*y_0*(y_0 - 1) + 24*c_0*y_0 + 6*c_0*(M_2 + y_0**2) + 12*c_0*(y_0 - 1) - 8*c_0 - 6.0*c_1*y_0 + 6*c_1*(0.5*c_2 - 0.5*y_0) - 6.0*c_1 - 3*y_0*(-8*c_0*y_0 - 4*c_0*(y_0 - 1) + 4*c_0 - 2.0*c_1)) + M_3*(-6*c_0*y_0 - 6*c_0*(y_0 - 1) + 12*c_0 - 3.0*c_1) - 6*c_0*y_0**3*(y_0 - 1) + 12*c_0*y_0**2*(y_0 - 1) - 8*c_0*y_0*(y_0 - 1) + 6*c_1*y_0**2*(0.5*c_2 - 0.5*y_0) + 12*c_1*y_0*(0.5*c_2 - 0.5*y_0) + 8*c_1*(0.5*c_2 - 0.5*y_0) + 6*y_0**2*(-2*c_0*y_0*(y_0 - 1) + 2*c_1*(0.5*c_2 - 0.5*y_0)) - 3*y_0*(-4*c_0*y_0**2*(y_0 - 1) + 4*c_0*y_0*(y_0 - 1) + 4*c_1*y_0*(0.5*c_2 - 0.5*y_0) + 4*c_1*(0.5*c_2 - 0.5*y_0)) - 3*(M_2 + y_0**2)*(-2*c_0*y_0*(y_0 - 1) + 2*c_1*(0.5*c_2 - 0.5*y_0))"
      ]
     },
     "execution_count": 20,
     "metadata": {},
     "output_type": "execute_result"
    }
   ],
   "source": [
    "ode_problem"
   ]
  },
  {
   "cell_type": "markdown",
   "metadata": {},
   "source": [
    "The list of the terms used is given above the equations along with their descriptions.\n",
    "We use the convention for the first set of ODEs to explicitly model the species concentrations (first-order moments), and then each subsequent ODE is modelling higher order moments. \n",
    "Symbolic notation for moments matches the $M_\\mathbf{n}$ notation used in the paper and describes the moment orders in the sub-index."
   ]
  },
  {
   "cell_type": "markdown",
   "metadata": {},
   "source": [
    "``ODEProblem`` objects offer a convenient way of retrieving the description of a symbol programmatically via the ``descriptor_for_symbol(symbol)`` method, i.e.:"
   ]
  },
  {
   "cell_type": "code",
   "execution_count": 21,
   "metadata": {
    "collapsed": false
   },
   "outputs": [
    {
     "data": {
      "text/latex": [
       "Moment($[1]$, symbol=$y_0$)"
      ],
      "text/plain": [
       "Moment(array([1]), symbol=y_0)"
      ]
     },
     "execution_count": 21,
     "metadata": {},
     "output_type": "execute_result"
    }
   ],
   "source": [
    "ode_problem.descriptor_for_symbol('y_0')"
   ]
  },
  {
   "cell_type": "markdown",
   "metadata": {},
   "source": [
    "We also provide a convenience method for performing this approximation, ``means.mea_approximation``.\n",
    "This method takes exactly the same set of parameters as the ``MomentExpansionApproximation``, creates an instance of it, issues the ``run()`` method and returns the resulting ODE problem back:"
   ]
  },
  {
   "cell_type": "code",
   "execution_count": 22,
   "metadata": {
    "collapsed": false
   },
   "outputs": [],
   "source": [
    "# Returns same set of ODEs as above\n",
    "ode_problem = means.mea_approximation(model, max_order=3) "
   ]
  },
  {
   "cell_type": "markdown",
   "metadata": {},
   "source": [
    "In order to use the probability distributions described above as closure methods, supply additional ``closure`` argument to the function, for instance, closure using ``log-normal`` distribution can be performed as follows:"
   ]
  },
  {
   "cell_type": "code",
   "execution_count": 23,
   "metadata": {
    "collapsed": false
   },
   "outputs": [
    {
     "data": {
      "text/latex": [
       "<h1>ODEProblem</h1>\n",
       "<p>Method: <code>'MEA'</code></p>\n",
       "<p>Parameters: <code>[c_0, c_1, c_2]</code></p>\n",
       "<p>Terms:</p>\n",
       "<ul>\n",
       "<li><code>Moment(array([1]), symbol=y_0)</code></li>\n",
       "<li><code>Moment(array([2]), symbol=M_2)</code></li>\n",
       "<li><code>Moment(array([3]), symbol=M_3)</code></li>\n",
       "</ul>\n",
       "<hr />\n",
       "\\begin{align*}\n",
       "\\dot{y_{0}} &= - 2 M_{2} c_{0} - 2 c_{0} y_{0} \\left(y_{0} - 1\\right) + 2 c_{1} \\left(0.5 c_{2} - 0.5 y_{0}\\right) \\\\\n",
       "\\dot{M_{2}} &= M_{2} \\left(- 4 c_{0} y_{0} - 4 c_{0} \\left(y_{0} - 1\\right) + 4 c_{0} - 2.0 c_{1}\\right) - 4 M_{3} c_{0} - 4 c_{0} y_{0}^{2} \\left(y_{0} - 1\\right) + 4 c_{0} y_{0} \\left(y_{0} - 1\\right) + 4 c_{1} y_{0} \\left(0.5 c_{2} - 0.5 y_{0}\\right) + 4 c_{1} \\left(0.5 c_{2} - 0.5 y_{0}\\right) - 2 y_{0} \\left(- 2 c_{0} y_{0} \\left(y_{0} - 1\\right) + 2 c_{1} \\left(0.5 c_{2} - 0.5 y_{0}\\right)\\right) \\\\\n",
       "\\dot{M_{3}} &= M_{2} \\left(- 30 c_{0} y_{0}^{2} - 18 c_{0} y_{0} \\left(y_{0} - 1\\right) + 24 c_{0} y_{0} + 6 c_{0} \\left(M_{2} + y_{0}^{2}\\right) + 12 c_{0} \\left(y_{0} - 1\\right) - 8 c_{0} - 6.0 c_{1} y_{0} + 6 c_{1} \\left(0.5 c_{2} - 0.5 y_{0}\\right) - 6.0 c_{1} - 3 y_{0} \\left(- 8 c_{0} y_{0} - 4 c_{0} \\left(y_{0} - 1\\right) + 4 c_{0} - 2.0 c_{1}\\right)\\right) + M_{3} \\left(- 6 c_{0} y_{0} - 6 c_{0} \\left(y_{0} - 1\\right) + 12 c_{0} - 3.0 c_{1}\\right) - 6 c_{0} y_{0}^{3} \\left(y_{0} - 1\\right) + 12 c_{0} y_{0}^{2} \\left(y_{0} - 1\\right) - 8 c_{0} y_{0} \\left(y_{0} - 1\\right) - 6 c_{0} \\left(y_{0}^{4} \\left(\\frac{M_{2}}{y_{0}^{2}} + 1\\right)^{6} - 4 y_{0}^{4} \\left(\\frac{M_{2}}{y_{0}^{2}} + 1\\right)^{3} + 6 y_{0}^{4} \\left(\\frac{M_{2}}{y_{0}^{2}} + 1\\right) - 3 y_{0}^{4}\\right) + 6 c_{1} y_{0}^{2} \\left(0.5 c_{2} - 0.5 y_{0}\\right) + 12 c_{1} y_{0} \\left(0.5 c_{2} - 0.5 y_{0}\\right) + 8 c_{1} \\left(0.5 c_{2} - 0.5 y_{0}\\right) + 6 y_{0}^{2} \\left(- 2 c_{0} y_{0} \\left(y_{0} - 1\\right) + 2 c_{1} \\left(0.5 c_{2} - 0.5 y_{0}\\right)\\right) - 3 y_{0} \\left(- 4 c_{0} y_{0}^{2} \\left(y_{0} - 1\\right) + 4 c_{0} y_{0} \\left(y_{0} - 1\\right) + 4 c_{1} y_{0} \\left(0.5 c_{2} - 0.5 y_{0}\\right) + 4 c_{1} \\left(0.5 c_{2} - 0.5 y_{0}\\right)\\right) - 3 \\left(M_{2} + y_{0}^{2}\\right) \\left(- 2 c_{0} y_{0} \\left(y_{0} - 1\\right) + 2 c_{1} \\left(0.5 c_{2} - 0.5 y_{0}\\right)\\right) \\\\\n",
       "\\end{align*}"
      ],
      "text/plain": [
       "<class 'means.core.problems.ODEProblem'>\n",
       "Method: 'MEA'\n",
       "Parameters: [c_0, c_1, c_2]\n",
       "\n",
       "Equations:\n",
       "\n",
       "Moment(array([1]), symbol=y_0):\n",
       "    -2*M_2*c_0 - 2*c_0*y_0*(y_0 - 1) + 2*c_1*(0.5*c_2 - 0.5*y_0)\n",
       "\n",
       "Moment(array([2]), symbol=M_2):\n",
       "    M_2*(-4*c_0*y_0 - 4*c_0*(y_0 - 1) + 4*c_0 - 2.0*c_1) - 4*M_3*c_0 - 4*c_0*y_0**2*(y_0 - 1) + 4*c_0*y_0*(y_0 - 1) + 4*c_1*y_0*(0.5*c_2 - 0.5*y_0) + 4*c_1*(0.5*c_2 - 0.5*y_0) - 2*y_0*(-2*c_0*y_0*(y_0 - 1) + 2*c_1*(0.5*c_2 - 0.5*y_0))\n",
       "\n",
       "Moment(array([3]), symbol=M_3):\n",
       "    M_2*(-30*c_0*y_0**2 - 18*c_0*y_0*(y_0 - 1) + 24*c_0*y_0 + 6*c_0*(M_2 + y_0**2) + 12*c_0*(y_0 - 1) - 8*c_0 - 6.0*c_1*y_0 + 6*c_1*(0.5*c_2 - 0.5*y_0) - 6.0*c_1 - 3*y_0*(-8*c_0*y_0 - 4*c_0*(y_0 - 1) + 4*c_0 - 2.0*c_1)) + M_3*(-6*c_0*y_0 - 6*c_0*(y_0 - 1) + 12*c_0 - 3.0*c_1) - 6*c_0*y_0**3*(y_0 - 1) + 12*c_0*y_0**2*(y_0 - 1) - 8*c_0*y_0*(y_0 - 1) - 6*c_0*(y_0**4*(M_2/y_0**2 + 1)**6 - 4*y_0**4*(M_2/y_0**2 + 1)**3 + 6*y_0**4*(M_2/y_0**2 + 1) - 3*y_0**4) + 6*c_1*y_0**2*(0.5*c_2 - 0.5*y_0) + 12*c_1*y_0*(0.5*c_2 - 0.5*y_0) + 8*c_1*(0.5*c_2 - 0.5*y_0) + 6*y_0**2*(-2*c_0*y_0*(y_0 - 1) + 2*c_1*(0.5*c_2 - 0.5*y_0)) - 3*y_0*(-4*c_0*y_0**2*(y_0 - 1) + 4*c_0*y_0*(y_0 - 1) + 4*c_1*y_0*(0.5*c_2 - 0.5*y_0) + 4*c_1*(0.5*c_2 - 0.5*y_0)) - 3*(M_2 + y_0**2)*(-2*c_0*y_0*(y_0 - 1) + 2*c_1*(0.5*c_2 - 0.5*y_0))"
      ]
     },
     "execution_count": 23,
     "metadata": {},
     "output_type": "execute_result"
    }
   ],
   "source": [
    "ode_problem_log_normal = means.mea_approximation(model, max_order=3, \n",
    "                                                 closure='log-normal')\n",
    "ode_problem_log_normal"
   ]
  },
  {
   "cell_type": "markdown",
   "metadata": {},
   "source": [
    "A keen eyed reader might notice that the ODEs generated using the different closure methods are very different from each other."
   ]
  },
  {
   "cell_type": "markdown",
   "metadata": {},
   "source": [
    "Each of the probabilistic distribution closures exist in both multivariate and univariate forms. \n",
    "By default, these distributions are assumed to be multivariate. In case, univariate distributions are desired, the parameter ``multivariate=False`` can be passed to the closure function.\n",
    "Essentially this parameter would set all the covariances to zero. \n",
    "For single species models, such as this one, this parameter makes no difference."
   ]
  },
  {
   "cell_type": "markdown",
   "metadata": {},
   "source": [
    "Gamma closure distribution is a bit different from the others as it has three forms: type 0, 1 and 2. \n",
    "Type zero is equivalent to univariate gamma, while type 1 and 2 are two different forms of multivariate Gamma distribution.\n",
    "Please consult the documentation and accompanying papers for explanation on these differences."
   ]
  },
  {
   "cell_type": "markdown",
   "metadata": {},
   "source": [
    "## Linear Noise Approximation"
   ]
  },
  {
   "cell_type": "markdown",
   "metadata": {},
   "source": [
    "Linear Noise Approximation (or LNA, for short) is an alternative method to generate the system of ODEs approximating the stochastic dynamics.\n",
    "It calculates the deterministic macroscopic rate and linear Fokker-Planck equations for the fluctuations around the steady state.\n",
    "\n",
    "It evaluates the deterministic rate and noise based only on mean, variance and covariance. \n",
    "Therefore, the number of resulting ODEs is equivalent to the number of ODEs obtained from MEA closed at second-order moments.\n",
    "\n",
    "We provide a ``LinearNoiseApproximation`` class that works similarly to the ``MomentExpansionApproximation`` class described earlier, as well as a convenience method ``lna_approximation`` that is equivalent to the ``mea_approximation`` used a couple of times in this tutorial already.\n",
    "\n",
    "As opposed to MEA described earlier, LNA is parameterless and only needs the model as input:"
   ]
  },
  {
   "cell_type": "code",
   "execution_count": 24,
   "metadata": {
    "collapsed": false
   },
   "outputs": [],
   "source": [
    "ode_problem_lna = means.lna_approximation(model)"
   ]
  },
  {
   "cell_type": "markdown",
   "metadata": {},
   "source": [
    "The resulting set of ODEs returned is structurally equivalent to the one returned by MEA expansion, and can be viewed in the same fashion:"
   ]
  },
  {
   "cell_type": "code",
   "execution_count": 25,
   "metadata": {
    "collapsed": false
   },
   "outputs": [
    {
     "data": {
      "text/latex": [
       "<h1>ODEProblem</h1>\n",
       "<p>Method: <code>'LNA'</code></p>\n",
       "<p>Parameters: <code>[c_0, c_1, c_2]</code></p>\n",
       "<p>Terms:</p>\n",
       "<ul>\n",
       "<li><code>Moment(array([1]), symbol=y_0)</code></li>\n",
       "<li><code>VarianceTerm(position(0, 0), symbol=V_0_0)</code></li>\n",
       "</ul>\n",
       "<hr />\n",
       "\\begin{align*}\n",
       "\\dot{y_{0}} &= - 2 c_{0} y_{0} \\left(y_{0} - 1\\right) + 2 c_{1} \\left(0.5 c_{2} - 0.5 y_{0}\\right) \\\\\n",
       "\\dot{V_{0 0}} &= 2 V_{0 0} \\left(- 2 c_{0} y_{0} - 2 c_{0} \\left(y_{0} - 1\\right) - 1.0 c_{1}\\right) + 4 c_{0} y_{0} \\left(y_{0} - 1\\right) + 4 c_{1} \\left(0.5 c_{2} - 0.5 y_{0}\\right) \\\\\n",
       "\\end{align*}"
      ],
      "text/plain": [
       "<class 'means.core.problems.ODEProblem'>\n",
       "Method: 'LNA'\n",
       "Parameters: [c_0, c_1, c_2]\n",
       "\n",
       "Equations:\n",
       "\n",
       "Moment(array([1]), symbol=y_0):\n",
       "    -2*c_0*y_0*(y_0 - 1) + 2*c_1*(0.5*c_2 - 0.5*y_0)\n",
       "\n",
       "VarianceTerm(position(0, 0), symbol=V_0_0):\n",
       "    2*V_0_0*(-2*c_0*y_0 - 2*c_0*(y_0 - 1) - 1.0*c_1) + 4*c_0*y_0*(y_0 - 1) + 4*c_1*(0.5*c_2 - 0.5*y_0)"
      ]
     },
     "execution_count": 25,
     "metadata": {},
     "output_type": "execute_result"
    }
   ],
   "source": [
    "ode_problem_lna"
   ]
  },
  {
   "cell_type": "markdown",
   "metadata": {},
   "source": [
    "The major difference is that MEA returns ``VarianceTerm`` objects instead of second-order moments, \n",
    "that match the notation used for variance, with indices specifying the position in the covariance matrix."
   ]
  },
  {
   "cell_type": "markdown",
   "metadata": {},
   "source": [
    "Besides this difference, the ``ODEProblem`` objects generated from MEA and LNA are interchangeable, and the subsequent steps described in following tutorials are able to support both of them."
   ]
  },
  {
   "cell_type": "markdown",
   "metadata": {},
   "source": [
    "In the next tutorial we use these ``ODEProblem`` objects to simulate the behaviour of the systems."
   ]
  }
 ],
 "metadata": {
  "kernelspec": {
   "display_name": "Python 2",
   "language": "python",
   "name": "python2"
  },
  "language_info": {
   "codemirror_mode": {
    "name": "ipython",
    "version": 2
   },
   "file_extension": ".py",
   "mimetype": "text/x-python",
   "name": "python",
   "nbconvert_exporter": "python",
   "pygments_lexer": "ipython2",
   "version": "2.7.10"
  }
 },
 "nbformat": 4,
 "nbformat_minor": 0
}
